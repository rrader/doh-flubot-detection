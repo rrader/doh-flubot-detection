{
 "cells": [
  {
   "cell_type": "markdown",
   "id": "af89f7ae-3c40-422d-b543-7045ec10fe06",
   "metadata": {
    "papermill": {
     "duration": 0.006149,
     "end_time": "2023-03-25T10:48:30.100988",
     "exception": false,
     "start_time": "2023-03-25T10:48:30.094839",
     "status": "completed"
    },
    "tags": []
   },
   "source": [
    "---\n",
    "execute:\n",
    "  echo: true\n",
    "  enabled: false\n",
    "  output: true\n",
    "  warning: false\n",
    "format:\n",
    "    html:\n",
    "        code-fold: false\n",
    "---"
   ]
  },
  {
   "cell_type": "markdown",
   "id": "33ff003b-93f7-493e-8b36-de15f3ce7d7f",
   "metadata": {
    "papermill": {
     "duration": 0.005486,
     "end_time": "2023-03-25T10:48:30.112600",
     "exception": false,
     "start_time": "2023-03-25T10:48:30.107114",
     "status": "completed"
    },
    "tags": [
     "title"
    ]
   },
   "source": [
    "# Detect malware (RF normed-1-0-0-0)"
   ]
  },
  {
   "cell_type": "markdown",
   "id": "9d880d57-9101-42ec-a724-4ab9e5c08572",
   "metadata": {
    "papermill": {
     "duration": 0.006067,
     "end_time": "2023-03-25T10:48:30.123521",
     "exception": false,
     "start_time": "2023-03-25T10:48:30.117454",
     "status": "completed"
    },
    "tags": []
   },
   "source": [
    "The model deployment is done in two stages: I. tune the model, II. turn on the malware detection (on the data collected in B1 and B2 periods respectively, described in the timeline @fig-timeline)\n",
    "\n",
    "![Timeline](../../imgs/timeline.png)\n",
    "\n",
    "### Stage I: Model tuning\n",
    "\n",
    "On this state we fit the scaler on the data collected in B1 period, to be used later on the second stage"
   ]
  },
  {
   "cell_type": "code",
   "execution_count": 1,
   "id": "72e77a0e-823e-4dca-bb12-1f80d6d8bbda",
   "metadata": {
    "execution": {
     "iopub.execute_input": "2023-03-25T10:48:30.133937Z",
     "iopub.status.busy": "2023-03-25T10:48:30.133649Z",
     "iopub.status.idle": "2023-03-25T10:48:30.140408Z",
     "shell.execute_reply": "2023-03-25T10:48:30.139784Z"
    },
    "papermill": {
     "duration": 0.01427,
     "end_time": "2023-03-25T10:48:30.142249",
     "exception": false,
     "start_time": "2023-03-25T10:48:30.127979",
     "status": "completed"
    },
    "tags": []
   },
   "outputs": [],
   "source": [
    "#| echo: false\n",
    "#| output: false\n",
    "basepath = \"/home/u1/\""
   ]
  },
  {
   "cell_type": "code",
   "execution_count": 2,
   "id": "f59ef549-32d7-4459-b456-45157fd39f02",
   "metadata": {
    "execution": {
     "iopub.execute_input": "2023-03-25T10:48:30.154344Z",
     "iopub.status.busy": "2023-03-25T10:48:30.154162Z",
     "iopub.status.idle": "2023-03-25T10:48:30.525347Z",
     "shell.execute_reply": "2023-03-25T10:48:30.524820Z"
    },
    "papermill": {
     "duration": 0.380601,
     "end_time": "2023-03-25T10:48:30.527424",
     "exception": false,
     "start_time": "2023-03-25T10:48:30.146823",
     "status": "completed"
    },
    "tags": []
   },
   "outputs": [],
   "source": [
    "#| echo: false\n",
    "#| output: false\n",
    "import os\n",
    "os.environ[\"MODIN_ENGINE\"] = \"dask\"\n",
    "import modin.pandas as pd\n",
    "import numpy as np\n",
    "\n",
    "pd.set_option(\"display.max_columns\", None)"
   ]
  },
  {
   "cell_type": "code",
   "execution_count": 3,
   "id": "d12ce5c6-e506-47d7-87d6-94b37863fb39",
   "metadata": {
    "execution": {
     "iopub.execute_input": "2023-03-25T10:48:30.539948Z",
     "iopub.status.busy": "2023-03-25T10:48:30.539675Z",
     "iopub.status.idle": "2023-03-25T10:48:30.871316Z",
     "shell.execute_reply": "2023-03-25T10:48:30.870709Z"
    },
    "papermill": {
     "duration": 0.339821,
     "end_time": "2023-03-25T10:48:30.873551",
     "exception": false,
     "start_time": "2023-03-25T10:48:30.533730",
     "status": "completed"
    },
    "tags": []
   },
   "outputs": [],
   "source": [
    "from detect_common import *"
   ]
  },
  {
   "cell_type": "code",
   "execution_count": 4,
   "id": "f3297aa6-d756-4368-b6a9-dc43b087a523",
   "metadata": {
    "execution": {
     "iopub.execute_input": "2023-03-25T10:48:30.887958Z",
     "iopub.status.busy": "2023-03-25T10:48:30.887521Z",
     "iopub.status.idle": "2023-03-25T10:48:30.890775Z",
     "shell.execute_reply": "2023-03-25T10:48:30.890404Z"
    },
    "papermill": {
     "duration": 0.01226,
     "end_time": "2023-03-25T10:48:30.891819",
     "exception": false,
     "start_time": "2023-03-25T10:48:30.879559",
     "status": "completed"
    },
    "tags": []
   },
   "outputs": [],
   "source": [
    "#| output: false\n",
    "p1version = \"v6\"\n",
    "p2version = \"v7\"\n",
    "p3version = \"v5\""
   ]
  },
  {
   "cell_type": "code",
   "execution_count": 5,
   "id": "85f79e6a-fd00-464f-8486-60823d6a672a",
   "metadata": {
    "execution": {
     "iopub.execute_input": "2023-03-25T10:48:30.902031Z",
     "iopub.status.busy": "2023-03-25T10:48:30.901497Z",
     "iopub.status.idle": "2023-03-25T10:48:30.904325Z",
     "shell.execute_reply": "2023-03-25T10:48:30.903896Z"
    },
    "papermill": {
     "duration": 0.008971,
     "end_time": "2023-03-25T10:48:30.905369",
     "exception": false,
     "start_time": "2023-03-25T10:48:30.896398",
     "status": "completed"
    },
    "tags": [
     "parameters"
    ]
   },
   "outputs": [],
   "source": [
    "model = 'RF'\n",
    "normed = True\n",
    "skips_and_weights = [2,4,0,0]"
   ]
  },
  {
   "cell_type": "code",
   "execution_count": 6,
   "id": "f648d0ca",
   "metadata": {
    "execution": {
     "iopub.execute_input": "2023-03-25T10:48:30.914480Z",
     "iopub.status.busy": "2023-03-25T10:48:30.914327Z",
     "iopub.status.idle": "2023-03-25T10:48:30.917022Z",
     "shell.execute_reply": "2023-03-25T10:48:30.916638Z"
    },
    "papermill": {
     "duration": 0.009486,
     "end_time": "2023-03-25T10:48:30.919208",
     "exception": false,
     "start_time": "2023-03-25T10:48:30.909722",
     "status": "completed"
    },
    "tags": [
     "injected-parameters"
    ]
   },
   "outputs": [],
   "source": [
    "# Parameters\n",
    "model = \"RF\"\n",
    "normed = True\n",
    "skips_and_weights = [1, 0, 0, 0]\n"
   ]
  },
  {
   "cell_type": "code",
   "execution_count": 7,
   "id": "264f7781-2969-4b4d-9c56-cc61dc7b79e4",
   "metadata": {
    "execution": {
     "iopub.execute_input": "2023-03-25T10:48:30.928583Z",
     "iopub.status.busy": "2023-03-25T10:48:30.928412Z",
     "iopub.status.idle": "2023-03-25T10:48:36.317972Z",
     "shell.execute_reply": "2023-03-25T10:48:36.317223Z"
    },
    "papermill": {
     "duration": 5.396788,
     "end_time": "2023-03-25T10:48:36.320461",
     "exception": false,
     "start_time": "2023-03-25T10:48:30.923673",
     "status": "completed"
    },
    "tags": []
   },
   "outputs": [
    {
     "name": "stderr",
     "output_type": "stream",
     "text": [
      "UserWarning: Dask execution environment not yet initialized. Initializing...\n",
      "To remove this warning, run the following python code before doing dataframe operations:\n",
      "\n",
      "    from distributed import Client\n",
      "\n",
      "    client = Client()\n",
      "\n",
      "UserWarning: Port 8787 is already in use.\n",
      "Perhaps you already have a cluster running?\n",
      "Hosting the HTTP server on port 35345 instead\n"
     ]
    }
   ],
   "source": [
    "import dateutil.parser\n",
    "\n",
    "df_b1 = pd.read_feather(\"cached/v5_1.ft\")"
   ]
  },
  {
   "cell_type": "code",
   "execution_count": 8,
   "id": "e1f828b4-aa8c-4f49-b4af-890104845789",
   "metadata": {
    "execution": {
     "iopub.execute_input": "2023-03-25T10:48:36.342532Z",
     "iopub.status.busy": "2023-03-25T10:48:36.341641Z",
     "iopub.status.idle": "2023-03-25T10:48:41.567235Z",
     "shell.execute_reply": "2023-03-25T10:48:41.566400Z"
    },
    "papermill": {
     "duration": 5.241869,
     "end_time": "2023-03-25T10:48:41.569895",
     "exception": false,
     "start_time": "2023-03-25T10:48:36.328026",
     "status": "completed"
    },
    "tags": []
   },
   "outputs": [
    {
     "name": "stderr",
     "output_type": "stream",
     "text": [
      "UserWarning: `Series.tolist` is not currently supported by PandasOnDask, defaulting to pandas implementation.\n",
      "Please refer to https://modin.readthedocs.io/en/stable/supported_apis/defaulting_to_pandas.html for explanation.\n"
     ]
    },
    {
     "name": "stderr",
     "output_type": "stream",
     "text": [
      "UserWarning: `Series.tolist` is not currently supported by PandasOnDask, defaulting to pandas implementation.\n"
     ]
    },
    {
     "name": "stderr",
     "output_type": "stream",
     "text": [
      "UserWarning: Defaulting to pandas implementation.\n",
      "Reason: `lines` argument not supported\n",
      "FutureWarning: the 'numpy' keyword is deprecated and will be removed in a future version. Please take steps to stop the use of 'numpy'\n"
     ]
    }
   ],
   "source": [
    "path_doh_ips_androids = basepath + \"datasets/flubot20230323/data/v5_benign_doh_ips.csv\"\n",
    "path_doh_ips_general = \"doh_resolver_ip.csv\"\n",
    "full_list = get_doh_ips(path_doh_ips_androids) + get_doh_ips(path_doh_ips_general)\n",
    "\n",
    "cp = CacheableProcessing(100, 100, full_list)\n",
    "df_b1_p = cp.process(df_b1, f\"cached/v5_1.p3.{p3version}.cp.ft\")"
   ]
  },
  {
   "cell_type": "code",
   "execution_count": 9,
   "id": "7daa1018-6186-4b0c-8669-80fa4e04f914",
   "metadata": {
    "execution": {
     "iopub.execute_input": "2023-03-25T10:48:41.582510Z",
     "iopub.status.busy": "2023-03-25T10:48:41.582151Z",
     "iopub.status.idle": "2023-03-25T10:48:41.849552Z",
     "shell.execute_reply": "2023-03-25T10:48:41.847836Z"
    },
    "papermill": {
     "duration": 0.27555,
     "end_time": "2023-03-25T10:48:41.851707",
     "exception": false,
     "start_time": "2023-03-25T10:48:41.576157",
     "status": "completed"
    },
    "tags": []
   },
   "outputs": [],
   "source": [
    "from joblib import dump, load\n",
    "\n",
    "name = (\n",
    "    ('normed-' if normed else 'unnormed-') + \n",
    "    '-'.join(str(p) for p in skips_and_weights)\n",
    ")\n",
    "\n",
    "clf = load(f'models/{model}-mix-1-p-{name}.p1.{p1version}.p2.{p2version}.joblib')\n"
   ]
  },
  {
   "cell_type": "code",
   "execution_count": 10,
   "id": "edf3713d-545a-4940-8c88-f830a82b48e8",
   "metadata": {
    "execution": {
     "iopub.execute_input": "2023-03-25T10:48:41.864661Z",
     "iopub.status.busy": "2023-03-25T10:48:41.864303Z",
     "iopub.status.idle": "2023-03-25T10:48:51.142667Z",
     "shell.execute_reply": "2023-03-25T10:48:51.141899Z"
    },
    "papermill": {
     "duration": 9.287213,
     "end_time": "2023-03-25T10:48:51.144926",
     "exception": false,
     "start_time": "2023-03-25T10:48:41.857713",
     "status": "completed"
    },
    "tags": []
   },
   "outputs": [
    {
     "name": "stderr",
     "output_type": "stream",
     "text": [
      "UserWarning: Defaulting to pandas implementation.\n",
      "Reason: `lines` argument not supported\n",
      "FutureWarning: the 'numpy' keyword is deprecated and will be removed in a future version. Please take steps to stop the use of 'numpy'\n"
     ]
    },
    {
     "name": "stderr",
     "output_type": "stream",
     "text": [
      "UserWarning: Defaulting to pandas implementation.\n",
      "Reason: `lines` argument not supported\n",
      "FutureWarning: the 'numpy' keyword is deprecated and will be removed in a future version. Please take steps to stop the use of 'numpy'\n"
     ]
    },
    {
     "name": "stderr",
     "output_type": "stream",
     "text": [
      "UserWarning: Defaulting to pandas implementation.\n",
      "Reason: `lines` argument not supported\n",
      "FutureWarning: the 'numpy' keyword is deprecated and will be removed in a future version. Please take steps to stop the use of 'numpy'\n"
     ]
    }
   ],
   "source": [
    "pp_b1 = PreProcessing(normed, *skips_and_weights)\n",
    "\n",
    "df_b1_pp = pp_b1.process(\n",
    "    df_b1_p,\n",
    "    f\"cached/p3.{p3version}.pp.{model}-{name}.saved\", \n",
    "    fit_new_scaler=True\n",
    ")"
   ]
  },
  {
   "cell_type": "code",
   "execution_count": 11,
   "id": "6c552387-a1c3-4c87-86bc-72d4604a63ba",
   "metadata": {
    "execution": {
     "iopub.execute_input": "2023-03-25T10:48:51.163789Z",
     "iopub.status.busy": "2023-03-25T10:48:51.163402Z",
     "iopub.status.idle": "2023-03-25T10:48:51.167515Z",
     "shell.execute_reply": "2023-03-25T10:48:51.166853Z"
    },
    "papermill": {
     "duration": 0.016967,
     "end_time": "2023-03-25T10:48:51.168840",
     "exception": false,
     "start_time": "2023-03-25T10:48:51.151873",
     "status": "completed"
    },
    "tags": []
   },
   "outputs": [],
   "source": [
    "pp_b1.store_scaler(\n",
    "    f\"cached/p3.{p3version}.pp.{model}-{name}.scaler\"\n",
    ")"
   ]
  },
  {
   "cell_type": "markdown",
   "id": "10b0c26b-fefe-4bf2-8aeb-1b5d2e558a43",
   "metadata": {
    "papermill": {
     "duration": 0.005784,
     "end_time": "2023-03-25T10:48:51.179665",
     "exception": false,
     "start_time": "2023-03-25T10:48:51.173881",
     "status": "completed"
    },
    "tags": []
   },
   "source": [
    "### Stage II: Malware detection\n",
    "\n",
    "On this state we turn on the malware detection, provisioning the model with the scaler trained before. For malware detection we use the data trained in B2 period."
   ]
  },
  {
   "cell_type": "code",
   "execution_count": 12,
   "id": "c92c81ef-2f5e-4a96-97aa-1779e2e90805",
   "metadata": {
    "execution": {
     "iopub.execute_input": "2023-03-25T10:48:51.194838Z",
     "iopub.status.busy": "2023-03-25T10:48:51.194354Z",
     "iopub.status.idle": "2023-03-25T10:48:54.113724Z",
     "shell.execute_reply": "2023-03-25T10:48:54.113011Z"
    },
    "papermill": {
     "duration": 2.92733,
     "end_time": "2023-03-25T10:48:54.115569",
     "exception": false,
     "start_time": "2023-03-25T10:48:51.188239",
     "status": "completed"
    },
    "tags": []
   },
   "outputs": [],
   "source": [
    "df_b2 = pd.read_feather(\"cached/v5_2.ft\")"
   ]
  },
  {
   "cell_type": "code",
   "execution_count": 13,
   "id": "2e14959a-c427-4f07-90b9-a5aaf22cdf34",
   "metadata": {
    "execution": {
     "iopub.execute_input": "2023-03-25T10:48:54.135933Z",
     "iopub.status.busy": "2023-03-25T10:48:54.135055Z",
     "iopub.status.idle": "2023-03-25T10:49:07.184007Z",
     "shell.execute_reply": "2023-03-25T10:49:07.183421Z"
    },
    "papermill": {
     "duration": 13.063515,
     "end_time": "2023-03-25T10:49:07.186580",
     "exception": false,
     "start_time": "2023-03-25T10:48:54.123065",
     "status": "completed"
    },
    "tags": []
   },
   "outputs": [
    {
     "name": "stderr",
     "output_type": "stream",
     "text": [
      "UserWarning: Defaulting to pandas implementation.\n",
      "Reason: `lines` argument not supported\n",
      "FutureWarning: the 'numpy' keyword is deprecated and will be removed in a future version. Please take steps to stop the use of 'numpy'\n"
     ]
    }
   ],
   "source": [
    "cp = CacheableProcessing(100, 100, full_list)\n",
    "df_b2_p = cp.process(df_b2, f\"cached/v5_2.p3.{p3version}.cp.ft\")"
   ]
  },
  {
   "cell_type": "code",
   "execution_count": 14,
   "id": "56b34685-fb23-4bf1-8c80-8aa1514158f2",
   "metadata": {
    "execution": {
     "iopub.execute_input": "2023-03-25T10:49:07.205633Z",
     "iopub.status.busy": "2023-03-25T10:49:07.205400Z",
     "iopub.status.idle": "2023-03-25T10:49:25.860187Z",
     "shell.execute_reply": "2023-03-25T10:49:25.857681Z"
    },
    "papermill": {
     "duration": 18.666962,
     "end_time": "2023-03-25T10:49:25.862666",
     "exception": false,
     "start_time": "2023-03-25T10:49:07.195704",
     "status": "completed"
    },
    "tags": []
   },
   "outputs": [
    {
     "name": "stderr",
     "output_type": "stream",
     "text": [
      "UserWarning: Defaulting to pandas implementation.\n",
      "Reason: `lines` argument not supported\n",
      "FutureWarning: the 'numpy' keyword is deprecated and will be removed in a future version. Please take steps to stop the use of 'numpy'\n"
     ]
    },
    {
     "name": "stderr",
     "output_type": "stream",
     "text": [
      "UserWarning: Defaulting to pandas implementation.\n",
      "Reason: `lines` argument not supported\n",
      "FutureWarning: the 'numpy' keyword is deprecated and will be removed in a future version. Please take steps to stop the use of 'numpy'\n"
     ]
    },
    {
     "name": "stderr",
     "output_type": "stream",
     "text": [
      "UserWarning: Defaulting to pandas implementation.\n",
      "Reason: `lines` argument not supported\n",
      "FutureWarning: the 'numpy' keyword is deprecated and will be removed in a future version. Please take steps to stop the use of 'numpy'\n"
     ]
    }
   ],
   "source": [
    "pp_b2 = PreProcessing(normed, *skips_and_weights)\n",
    "pp_b2.load_scaler(\n",
    "    f\"cached/p3.{p3version}.pp.{model}-{name}.scaler\"\n",
    ")\n",
    "df_b2_pp, df_b2_pp_features, df_b2_pp_labels = pp_b2.process(\n",
    "    df_b2_p,\n",
    "    f\"cached/b2.p3.{p3version}.pp.{model}-{name}.saved\", \n",
    "    fit_new_scaler=False  # use scaler trained in B1\n",
    ")"
   ]
  },
  {
   "cell_type": "code",
   "execution_count": 15,
   "id": "3d76898c-0ba3-489f-b1d2-1a1577184037",
   "metadata": {
    "execution": {
     "iopub.execute_input": "2023-03-25T10:49:25.880268Z",
     "iopub.status.busy": "2023-03-25T10:49:25.880039Z",
     "iopub.status.idle": "2023-03-25T10:49:25.884737Z",
     "shell.execute_reply": "2023-03-25T10:49:25.884061Z"
    },
    "papermill": {
     "duration": 0.014065,
     "end_time": "2023-03-25T10:49:25.885992",
     "exception": false,
     "start_time": "2023-03-25T10:49:25.871927",
     "status": "completed"
    },
    "tags": []
   },
   "outputs": [],
   "source": [
    "def predict(pp, clf, threshold, df_pp, df_orig):\n",
    "    \"\"\"\n",
    "    pp: PreProcessing object\n",
    "    clf: classifier\n",
    "    threshold: >=threshold for positive (DoH) class\n",
    "    df_pp: preprocessed dataframe\n",
    "    df_orig: unprocessed dataframe\n",
    "    \"\"\"\n",
    "    df_pp2 = df_pp.copy()\n",
    "\n",
    "    df_pp2[\"IsDoHPredicted\"] = (clf.predict_proba(df_pp2[pp.feature_fields])[:,1] >= threshold).astype(bool)\n",
    "\n",
    "    df_orig2 = df_orig.copy()\n",
    "    # fill predicted to the original dataframe\n",
    "    df_orig2[\"IsDoHPredicted\"] = df_pp2[\"IsDoHPredicted\"]\n",
    "    # non-443 rows will be NaN, replace with False\n",
    "    df_orig2[\"IsDoHPredicted\"] = df_orig2[\"IsDoHPredicted\"].fillna(False)\n",
    "\n",
    "    return df_orig2\n"
   ]
  },
  {
   "cell_type": "code",
   "execution_count": 16,
   "id": "bbfee790-4c9e-4d47-8ee1-700c9321f377",
   "metadata": {
    "execution": {
     "iopub.execute_input": "2023-03-25T10:49:25.898195Z",
     "iopub.status.busy": "2023-03-25T10:49:25.897993Z",
     "iopub.status.idle": "2023-03-25T10:49:27.961183Z",
     "shell.execute_reply": "2023-03-25T10:49:27.960356Z"
    },
    "papermill": {
     "duration": 2.072409,
     "end_time": "2023-03-25T10:49:27.963686",
     "exception": false,
     "start_time": "2023-03-25T10:49:25.891277",
     "status": "completed"
    },
    "tags": []
   },
   "outputs": [],
   "source": [
    "results_df = pd.read_feather(f\"cached/robustness.balanced_mix-results.p3.{p3version}.ft\")\n",
    "results_df[\"skips_and_weights\"] = results_df[\"skips_and_weights\"].apply(str)\n",
    "model, normed, skips_and_weights_str, auc, fprs, tprs, thresholds = results_df[\n",
    "    (results_df[\"model\"] == model) & (results_df[\"normed\"] == normed) & (results_df[\"skips_and_weights\"] == str(np.array(skips_and_weights)))\n",
    "].iloc[0]"
   ]
  },
  {
   "cell_type": "code",
   "execution_count": 17,
   "id": "f7d50caf-4d05-470e-bac7-a80c6233a01a",
   "metadata": {
    "execution": {
     "iopub.execute_input": "2023-03-25T10:49:27.980898Z",
     "iopub.status.busy": "2023-03-25T10:49:27.980541Z",
     "iopub.status.idle": "2023-03-25T10:49:41.513835Z",
     "shell.execute_reply": "2023-03-25T10:49:41.513086Z"
    },
    "papermill": {
     "duration": 13.544877,
     "end_time": "2023-03-25T10:49:41.516569",
     "exception": false,
     "start_time": "2023-03-25T10:49:27.971692",
     "status": "completed"
    },
    "tags": []
   },
   "outputs": [],
   "source": [
    "data = {}\n",
    "for sensitivity in [0.8, 0.9]:\n",
    "    threshold = [threshold for tpr, threshold in zip(tprs, thresholds) if tpr >= sensitivity][0]\n",
    "    df_pred = predict(pp_b2, clf, threshold, df_b2_pp, df_b2)\n",
    "    data[sensitivity] = {\n",
    "        'df': df_pred,  # dataframe with predicted values,\n",
    "        'threshold': threshold,\n",
    "    }\n"
   ]
  },
  {
   "cell_type": "code",
   "execution_count": 18,
   "id": "8155dfaa-56e5-4115-bc01-4b06534d79bc",
   "metadata": {
    "execution": {
     "iopub.execute_input": "2023-03-25T10:49:41.530837Z",
     "iopub.status.busy": "2023-03-25T10:49:41.530549Z",
     "iopub.status.idle": "2023-03-25T10:49:41.536472Z",
     "shell.execute_reply": "2023-03-25T10:49:41.535747Z"
    },
    "papermill": {
     "duration": 0.01383,
     "end_time": "2023-03-25T10:49:41.537964",
     "exception": false,
     "start_time": "2023-03-25T10:49:41.524134",
     "status": "completed"
    },
    "tags": []
   },
   "outputs": [],
   "source": [
    "def calc(df_n):\n",
    "    def rate(df_h):\n",
    "        dns_packets = df_h[df_h[\"IsDoHPredicted\"] == True][\"uint32 PACKETS\"].sum()  # outgoing packets\n",
    "        non_dns_ips = set(df_h[df_h[\"IsDoHPredicted\"] == False][\"ipaddr SRC_IP\"].unique()).union(\n",
    "            set(df_h[df_h[\"IsDoHPredicted\"] == False][\"ipaddr DST_IP\"].unique()))\n",
    "        rate = float(dns_packets) / (1.0 + len(non_dns_ips))\n",
    "        return {\"dns_packets\": dns_packets, \"non_dns\": len(non_dns_ips), \"rate\": rate, \"rate_log\": np.log(rate)}\n",
    "\n",
    "    return pd.DataFrame({ ip: rate(grp) for ip, grp in df_n.groupby([\"ipaddr SRC_IP\"]) }).T.reset_index()\n"
   ]
  },
  {
   "cell_type": "markdown",
   "id": "ac4629fe-dac8-4cd6-bc0e-417e9587531e",
   "metadata": {
    "papermill": {
     "duration": 0.004898,
     "end_time": "2023-03-25T10:49:41.548497",
     "exception": false,
     "start_time": "2023-03-25T10:49:41.543599",
     "status": "completed"
    },
    "tags": []
   },
   "source": [
    "#### Calculate ratio on the whole dataset"
   ]
  },
  {
   "cell_type": "code",
   "execution_count": 19,
   "id": "2cf669e6-0227-490d-af2a-7da1e433e0c3",
   "metadata": {
    "execution": {
     "iopub.execute_input": "2023-03-25T10:49:41.563748Z",
     "iopub.status.busy": "2023-03-25T10:49:41.563338Z",
     "iopub.status.idle": "2023-03-25T10:53:44.520788Z",
     "shell.execute_reply": "2023-03-25T10:53:44.520043Z"
    },
    "papermill": {
     "duration": 242.968403,
     "end_time": "2023-03-25T10:53:44.522367",
     "exception": false,
     "start_time": "2023-03-25T10:49:41.553964",
     "status": "completed"
    },
    "tags": []
   },
   "outputs": [
    {
     "name": "stdout",
     "output_type": "stream",
     "text": [
      "0.8\n"
     ]
    },
    {
     "name": "stderr",
     "output_type": "stream",
     "text": [
      "UserWarning: Group indices computation is not currently supported by PandasOnDask, defaulting to pandas implementation.\n"
     ]
    },
    {
     "name": "stderr",
     "output_type": "stream",
     "text": [
      "RuntimeWarning: divide by zero encountered in log\n"
     ]
    },
    {
     "name": "stderr",
     "output_type": "stream",
     "text": [
      "2023-03-25 10:50:27,685 - distributed.worker - ERROR - Exception during execution of task lambda-cfdda9654fdb2d9bad5ba60bd9582ca3.\n",
      "Traceback (most recent call last):\n",
      "  File \"/opt/conda/lib/python3.10/site-packages/distributed/worker.py\", line 2390, in _prepare_args_for_execution\n",
      "    data[k] = self.data[k]\n",
      "  File \"/opt/conda/lib/python3.10/site-packages/distributed/spill.py\", line 245, in __getitem__\n",
      "    return super().__getitem__(key)\n",
      "  File \"/opt/conda/lib/python3.10/site-packages/zict/buffer.py\", line 108, in __getitem__\n",
      "    raise KeyError(key)\n",
      "KeyError: 'apply_func-09255a73-c871-442e-a04f-ef7527f080c5'\n",
      "\n",
      "During handling of the above exception, another exception occurred:\n",
      "\n",
      "Traceback (most recent call last):\n",
      "  File \"/opt/conda/lib/python3.10/site-packages/distributed/worker.py\", line 2271, in execute\n",
      "    args2, kwargs2 = self._prepare_args_for_execution(ts, args, kwargs)\n",
      "  File \"/opt/conda/lib/python3.10/site-packages/distributed/worker.py\", line 2394, in _prepare_args_for_execution\n",
      "    data[k] = Actor(type(self.state.actors[k]), self.address, k, self)\n",
      "KeyError: 'apply_func-09255a73-c871-442e-a04f-ef7527f080c5'\n"
     ]
    },
    {
     "name": "stderr",
     "output_type": "stream",
     "text": [
      "RuntimeWarning: divide by zero encountered in log\n",
      "UserWarning: Distributing <class 'dict'> object. This may take some time.\n"
     ]
    },
    {
     "data": {
      "text/html": [
       "<div>\n",
       "<style scoped>\n",
       "    .dataframe tbody tr th:only-of-type {\n",
       "        vertical-align: middle;\n",
       "    }\n",
       "\n",
       "    .dataframe tbody tr th {\n",
       "        vertical-align: top;\n",
       "    }\n",
       "\n",
       "    .dataframe thead th {\n",
       "        text-align: right;\n",
       "    }\n",
       "</style>\n",
       "<table border=\"1\" class=\"dataframe\">\n",
       "  <thead>\n",
       "    <tr style=\"text-align: right;\">\n",
       "      <th></th>\n",
       "      <th>index</th>\n",
       "      <th>dns_packets</th>\n",
       "      <th>non_dns</th>\n",
       "      <th>rate</th>\n",
       "      <th>rate_log</th>\n",
       "    </tr>\n",
       "  </thead>\n",
       "  <tbody>\n",
       "    <tr>\n",
       "      <th>0</th>\n",
       "      <td>192.168.1.1</td>\n",
       "      <td>0.0</td>\n",
       "      <td>2.0</td>\n",
       "      <td>0.00000</td>\n",
       "      <td>-inf</td>\n",
       "    </tr>\n",
       "    <tr>\n",
       "      <th>1</th>\n",
       "      <td>192.168.2.149</td>\n",
       "      <td>273854.0</td>\n",
       "      <td>4415.0</td>\n",
       "      <td>62.01404</td>\n",
       "      <td>4.127361</td>\n",
       "    </tr>\n",
       "    <tr>\n",
       "      <th>2</th>\n",
       "      <td>192.168.2.217</td>\n",
       "      <td>96561.0</td>\n",
       "      <td>17.0</td>\n",
       "      <td>5364.50000</td>\n",
       "      <td>8.587558</td>\n",
       "    </tr>\n",
       "    <tr>\n",
       "      <th>3</th>\n",
       "      <td>192.168.2.249</td>\n",
       "      <td>190943.0</td>\n",
       "      <td>3532.0</td>\n",
       "      <td>54.04557</td>\n",
       "      <td>3.989828</td>\n",
       "    </tr>\n",
       "    <tr>\n",
       "      <th>4</th>\n",
       "      <td>192.168.2.42</td>\n",
       "      <td>0.0</td>\n",
       "      <td>5.0</td>\n",
       "      <td>0.00000</td>\n",
       "      <td>-inf</td>\n",
       "    </tr>\n",
       "  </tbody>\n",
       "</table>\n",
       "</div>"
      ],
      "text/plain": [
       "           index  dns_packets  non_dns        rate  rate_log\n",
       "0    192.168.1.1          0.0      2.0     0.00000      -inf\n",
       "1  192.168.2.149     273854.0   4415.0    62.01404  4.127361\n",
       "2  192.168.2.217      96561.0     17.0  5364.50000  8.587558\n",
       "3  192.168.2.249     190943.0   3532.0    54.04557  3.989828\n",
       "4   192.168.2.42          0.0      5.0     0.00000      -inf"
      ]
     },
     "metadata": {},
     "output_type": "display_data"
    },
    {
     "name": "stdout",
     "output_type": "stream",
     "text": [
      "0.9\n"
     ]
    },
    {
     "name": "stderr",
     "output_type": "stream",
     "text": [
      "UserWarning: Group indices computation is not currently supported by PandasOnDask, defaulting to pandas implementation.\n"
     ]
    },
    {
     "name": "stderr",
     "output_type": "stream",
     "text": [
      "2023-03-25 10:51:54,004 - distributed.worker - ERROR - Exception during execution of task lambda-034f5000d753f2fe6ad612b2dba3cd21.\n",
      "Traceback (most recent call last):\n",
      "  File \"/opt/conda/lib/python3.10/site-packages/distributed/worker.py\", line 2390, in _prepare_args_for_execution\n",
      "    data[k] = self.data[k]\n",
      "  File \"/opt/conda/lib/python3.10/site-packages/distributed/spill.py\", line 245, in __getitem__\n",
      "    return super().__getitem__(key)\n",
      "  File \"/opt/conda/lib/python3.10/site-packages/zict/buffer.py\", line 108, in __getitem__\n",
      "    raise KeyError(key)\n",
      "KeyError: '_deploy_dask_func-9d0c832d-811a-43ff-98fb-877f5d15de80'\n",
      "\n",
      "During handling of the above exception, another exception occurred:\n",
      "\n",
      "Traceback (most recent call last):\n",
      "  File \"/opt/conda/lib/python3.10/site-packages/distributed/worker.py\", line 2271, in execute\n",
      "    args2, kwargs2 = self._prepare_args_for_execution(ts, args, kwargs)\n",
      "  File \"/opt/conda/lib/python3.10/site-packages/distributed/worker.py\", line 2394, in _prepare_args_for_execution\n",
      "    data[k] = Actor(type(self.state.actors[k]), self.address, k, self)\n",
      "KeyError: '_deploy_dask_func-9d0c832d-811a-43ff-98fb-877f5d15de80'\n"
     ]
    },
    {
     "name": "stderr",
     "output_type": "stream",
     "text": [
      "RuntimeWarning: divide by zero encountered in log\n"
     ]
    },
    {
     "name": "stderr",
     "output_type": "stream",
     "text": [
      "2023-03-25 10:52:16,430 - distributed.worker - ERROR - Exception during execution of task lambda-19bea76c15da5520789c64ad9fd71b75.\n",
      "Traceback (most recent call last):\n",
      "  File \"/opt/conda/lib/python3.10/site-packages/distributed/worker.py\", line 2390, in _prepare_args_for_execution\n",
      "    data[k] = self.data[k]\n",
      "  File \"/opt/conda/lib/python3.10/site-packages/distributed/spill.py\", line 245, in __getitem__\n",
      "    return super().__getitem__(key)\n",
      "  File \"/opt/conda/lib/python3.10/site-packages/zict/buffer.py\", line 108, in __getitem__\n",
      "    raise KeyError(key)\n",
      "KeyError: 'apply_func-d872ce9d-c358-4e96-8663-3b1588eeaa23'\n",
      "\n",
      "During handling of the above exception, another exception occurred:\n",
      "\n",
      "Traceback (most recent call last):\n",
      "  File \"/opt/conda/lib/python3.10/site-packages/distributed/worker.py\", line 2271, in execute\n",
      "    args2, kwargs2 = self._prepare_args_for_execution(ts, args, kwargs)\n",
      "  File \"/opt/conda/lib/python3.10/site-packages/distributed/worker.py\", line 2394, in _prepare_args_for_execution\n",
      "    data[k] = Actor(type(self.state.actors[k]), self.address, k, self)\n",
      "KeyError: 'apply_func-d872ce9d-c358-4e96-8663-3b1588eeaa23'\n"
     ]
    },
    {
     "name": "stderr",
     "output_type": "stream",
     "text": [
      "2023-03-25 10:52:49,858 - distributed.worker - ERROR - Exception during execution of task lambda-86eba95d5fc2ddf47cc1f0e763f8f245.\n",
      "Traceback (most recent call last):\n",
      "  File \"/opt/conda/lib/python3.10/site-packages/distributed/worker.py\", line 2390, in _prepare_args_for_execution\n",
      "    data[k] = self.data[k]\n",
      "  File \"/opt/conda/lib/python3.10/site-packages/distributed/spill.py\", line 245, in __getitem__\n",
      "    return super().__getitem__(key)\n",
      "  File \"/opt/conda/lib/python3.10/site-packages/zict/buffer.py\", line 108, in __getitem__\n",
      "    raise KeyError(key)\n",
      "KeyError: 'apply_func-38353f1d-9cde-4f09-815a-fef9cc67fe7e'\n",
      "\n",
      "During handling of the above exception, another exception occurred:\n",
      "\n",
      "Traceback (most recent call last):\n",
      "  File \"/opt/conda/lib/python3.10/site-packages/distributed/worker.py\", line 2271, in execute\n",
      "    args2, kwargs2 = self._prepare_args_for_execution(ts, args, kwargs)\n",
      "  File \"/opt/conda/lib/python3.10/site-packages/distributed/worker.py\", line 2394, in _prepare_args_for_execution\n",
      "    data[k] = Actor(type(self.state.actors[k]), self.address, k, self)\n",
      "KeyError: 'apply_func-38353f1d-9cde-4f09-815a-fef9cc67fe7e'\n"
     ]
    },
    {
     "name": "stderr",
     "output_type": "stream",
     "text": [
      "RuntimeWarning: divide by zero encountered in log\n",
      "UserWarning: Distributing <class 'dict'> object. This may take some time.\n"
     ]
    },
    {
     "data": {
      "text/html": [
       "<div>\n",
       "<style scoped>\n",
       "    .dataframe tbody tr th:only-of-type {\n",
       "        vertical-align: middle;\n",
       "    }\n",
       "\n",
       "    .dataframe tbody tr th {\n",
       "        vertical-align: top;\n",
       "    }\n",
       "\n",
       "    .dataframe thead th {\n",
       "        text-align: right;\n",
       "    }\n",
       "</style>\n",
       "<table border=\"1\" class=\"dataframe\">\n",
       "  <thead>\n",
       "    <tr style=\"text-align: right;\">\n",
       "      <th></th>\n",
       "      <th>index</th>\n",
       "      <th>dns_packets</th>\n",
       "      <th>non_dns</th>\n",
       "      <th>rate</th>\n",
       "      <th>rate_log</th>\n",
       "    </tr>\n",
       "  </thead>\n",
       "  <tbody>\n",
       "    <tr>\n",
       "      <th>0</th>\n",
       "      <td>192.168.1.1</td>\n",
       "      <td>0.0</td>\n",
       "      <td>2.0</td>\n",
       "      <td>0.000000</td>\n",
       "      <td>-inf</td>\n",
       "    </tr>\n",
       "    <tr>\n",
       "      <th>1</th>\n",
       "      <td>192.168.2.149</td>\n",
       "      <td>354693.0</td>\n",
       "      <td>3953.0</td>\n",
       "      <td>89.704856</td>\n",
       "      <td>4.496525</td>\n",
       "    </tr>\n",
       "    <tr>\n",
       "      <th>2</th>\n",
       "      <td>192.168.2.217</td>\n",
       "      <td>699158.0</td>\n",
       "      <td>15.0</td>\n",
       "      <td>43697.375000</td>\n",
       "      <td>10.685043</td>\n",
       "    </tr>\n",
       "    <tr>\n",
       "      <th>3</th>\n",
       "      <td>192.168.2.249</td>\n",
       "      <td>264365.0</td>\n",
       "      <td>3179.0</td>\n",
       "      <td>83.133648</td>\n",
       "      <td>4.420450</td>\n",
       "    </tr>\n",
       "    <tr>\n",
       "      <th>4</th>\n",
       "      <td>192.168.2.42</td>\n",
       "      <td>0.0</td>\n",
       "      <td>5.0</td>\n",
       "      <td>0.000000</td>\n",
       "      <td>-inf</td>\n",
       "    </tr>\n",
       "  </tbody>\n",
       "</table>\n",
       "</div>"
      ],
      "text/plain": [
       "           index  dns_packets  non_dns          rate   rate_log\n",
       "0    192.168.1.1          0.0      2.0      0.000000       -inf\n",
       "1  192.168.2.149     354693.0   3953.0     89.704856   4.496525\n",
       "2  192.168.2.217     699158.0     15.0  43697.375000  10.685043\n",
       "3  192.168.2.249     264365.0   3179.0     83.133648   4.420450\n",
       "4   192.168.2.42          0.0      5.0      0.000000       -inf"
      ]
     },
     "metadata": {},
     "output_type": "display_data"
    }
   ],
   "source": [
    "for sensitivity, value in data.items():\n",
    "    print(sensitivity)\n",
    "    df_pred = value[\"df\"]\n",
    "    local_df = df_pred[df_pred[\"ipaddr SRC_IP\"].str.startswith(\"192.168\")]\n",
    "    display(calc(local_df))\n"
   ]
  },
  {
   "cell_type": "markdown",
   "id": "6ab3069e-4858-474f-aead-0b8d7746efa3",
   "metadata": {
    "papermill": {
     "duration": 0.006688,
     "end_time": "2023-03-25T10:53:44.537277",
     "exception": false,
     "start_time": "2023-03-25T10:53:44.530589",
     "status": "completed"
    },
    "tags": []
   },
   "source": [
    "#### Split into time windows"
   ]
  },
  {
   "cell_type": "code",
   "execution_count": 20,
   "id": "b1d036bc-bcc9-4c84-97c4-fc3c12ed8360",
   "metadata": {
    "execution": {
     "iopub.execute_input": "2023-03-25T10:53:44.550926Z",
     "iopub.status.busy": "2023-03-25T10:53:44.550323Z",
     "iopub.status.idle": "2023-03-25T10:53:46.266874Z",
     "shell.execute_reply": "2023-03-25T10:53:46.266265Z"
    },
    "papermill": {
     "duration": 1.724744,
     "end_time": "2023-03-25T10:53:46.268135",
     "exception": false,
     "start_time": "2023-03-25T10:53:44.543391",
     "status": "completed"
    },
    "tags": []
   },
   "outputs": [
    {
     "data": {
      "text/plain": [
       "Timestamp('2023-03-23 14:50:04.316951')"
      ]
     },
     "execution_count": 20,
     "metadata": {},
     "output_type": "execute_result"
    }
   ],
   "source": [
    "min_ts = df_b2[\"time TIME_FIRST\"].apply(dateutil.parser.parse).min()\n",
    "min_ts"
   ]
  },
  {
   "cell_type": "code",
   "execution_count": 21,
   "id": "3d3f7f3e-7542-45ea-aee7-1912876e7382",
   "metadata": {
    "execution": {
     "iopub.execute_input": "2023-03-25T10:53:46.289324Z",
     "iopub.status.busy": "2023-03-25T10:53:46.288784Z",
     "iopub.status.idle": "2023-03-25T10:53:58.193703Z",
     "shell.execute_reply": "2023-03-25T10:53:58.192875Z"
    },
    "papermill": {
     "duration": 11.919208,
     "end_time": "2023-03-25T10:53:58.195607",
     "exception": false,
     "start_time": "2023-03-25T10:53:46.276399",
     "status": "completed"
    },
    "tags": []
   },
   "outputs": [
    {
     "data": {
      "text/plain": [
       "['192.168.2.249',\n",
       " '192.168.2.149',\n",
       " '192.168.2.42',\n",
       " '192.168.2.217',\n",
       " '192.168.1.1']"
      ]
     },
     "execution_count": 21,
     "metadata": {},
     "output_type": "execute_result"
    }
   ],
   "source": [
    "local_ips = df_b2[df_b2[\"ipaddr SRC_IP\"].str.startswith(\"192.168\")][\"ipaddr SRC_IP\"].unique().tolist()\n",
    "local_ips"
   ]
  },
  {
   "cell_type": "code",
   "execution_count": 22,
   "id": "c41e1871-24f4-43a5-9b55-189e2ead01f5",
   "metadata": {
    "execution": {
     "iopub.execute_input": "2023-03-25T10:53:58.214746Z",
     "iopub.status.busy": "2023-03-25T10:53:58.214337Z",
     "iopub.status.idle": "2023-03-25T11:07:08.010078Z",
     "shell.execute_reply": "2023-03-25T11:07:08.009398Z"
    },
    "papermill": {
     "duration": 789.806482,
     "end_time": "2023-03-25T11:07:08.012152",
     "exception": false,
     "start_time": "2023-03-25T10:53:58.205670",
     "status": "completed"
    },
    "tags": []
   },
   "outputs": [
    {
     "name": "stdout",
     "output_type": "stream",
     "text": [
      "0.8\n"
     ]
    },
    {
     "name": "stderr",
     "output_type": "stream",
     "text": [
      "UserWarning: `DataFrame.groupby_on_multiple_columns` is not currently supported by PandasOnDask, defaulting to pandas implementation.\n"
     ]
    },
    {
     "name": "stderr",
     "output_type": "stream",
     "text": [
      "FutureWarning: The `squeeze` parameter is deprecated and will be removed in a future version.\n"
     ]
    },
    {
     "name": "stderr",
     "output_type": "stream",
     "text": [
      "UserWarning: Distributing <class 'pandas.core.frame.DataFrame'> object. This may take some time.\n",
      "UserWarning: Group indices computation is not currently supported by PandasOnDask, defaulting to pandas implementation.\n"
     ]
    },
    {
     "name": "stderr",
     "output_type": "stream",
     "text": [
      "2023-03-25 10:54:22,516 - distributed.worker - ERROR - Exception during execution of task lambda-d9484918b76c2a0bfa55380270e06239.\n",
      "Traceback (most recent call last):\n",
      "  File \"/opt/conda/lib/python3.10/site-packages/distributed/worker.py\", line 2390, in _prepare_args_for_execution\n",
      "    data[k] = self.data[k]\n",
      "  File \"/opt/conda/lib/python3.10/site-packages/distributed/spill.py\", line 245, in __getitem__\n",
      "    return super().__getitem__(key)\n",
      "  File \"/opt/conda/lib/python3.10/site-packages/zict/buffer.py\", line 108, in __getitem__\n",
      "    raise KeyError(key)\n",
      "KeyError: '_deploy_dask_func-5d4a87f2-067c-4e5c-9d3f-aefd5529eb3f'\n",
      "\n",
      "During handling of the above exception, another exception occurred:\n",
      "\n",
      "Traceback (most recent call last):\n",
      "  File \"/opt/conda/lib/python3.10/site-packages/distributed/worker.py\", line 2271, in execute\n",
      "    args2, kwargs2 = self._prepare_args_for_execution(ts, args, kwargs)\n",
      "  File \"/opt/conda/lib/python3.10/site-packages/distributed/worker.py\", line 2394, in _prepare_args_for_execution\n",
      "    data[k] = Actor(type(self.state.actors[k]), self.address, k, self)\n",
      "KeyError: '_deploy_dask_func-5d4a87f2-067c-4e5c-9d3f-aefd5529eb3f'\n"
     ]
    },
    {
     "name": "stderr",
     "output_type": "stream",
     "text": [
      "2023-03-25 10:54:24,748 - distributed.worker - ERROR - Exception during execution of task lambda-c0f25d5a1de7d522404388f05c849048.\n",
      "Traceback (most recent call last):\n",
      "  File \"/opt/conda/lib/python3.10/site-packages/distributed/worker.py\", line 2390, in _prepare_args_for_execution\n",
      "    data[k] = self.data[k]\n",
      "  File \"/opt/conda/lib/python3.10/site-packages/distributed/spill.py\", line 245, in __getitem__\n",
      "    return super().__getitem__(key)\n",
      "  File \"/opt/conda/lib/python3.10/site-packages/zict/buffer.py\", line 108, in __getitem__\n",
      "    raise KeyError(key)\n",
      "KeyError: '_deploy_dask_func-60ae13fb-5a14-4ce2-8f07-576800bfe707'\n",
      "\n",
      "During handling of the above exception, another exception occurred:\n",
      "\n",
      "Traceback (most recent call last):\n",
      "  File \"/opt/conda/lib/python3.10/site-packages/distributed/worker.py\", line 2271, in execute\n",
      "    args2, kwargs2 = self._prepare_args_for_execution(ts, args, kwargs)\n",
      "  File \"/opt/conda/lib/python3.10/site-packages/distributed/worker.py\", line 2394, in _prepare_args_for_execution\n",
      "    data[k] = Actor(type(self.state.actors[k]), self.address, k, self)\n",
      "KeyError: '_deploy_dask_func-60ae13fb-5a14-4ce2-8f07-576800bfe707'\n"
     ]
    },
    {
     "name": "stderr",
     "output_type": "stream",
     "text": [
      "RuntimeWarning: divide by zero encountered in log\n",
      "UserWarning: Distributing <class 'dict'> object. This may take some time.\n"
     ]
    },
    {
     "name": "stderr",
     "output_type": "stream",
     "text": [
      "UserWarning: Group indices computation is not currently supported by PandasOnDask, defaulting to pandas implementation.\n"
     ]
    },
    {
     "name": "stderr",
     "output_type": "stream",
     "text": [
      "2023-03-25 10:54:31,500 - distributed.worker - ERROR - Exception during execution of task lambda-271d48c9c98107c761d4a7c2077dd1e2.\n",
      "Traceback (most recent call last):\n",
      "  File \"/opt/conda/lib/python3.10/site-packages/distributed/worker.py\", line 2390, in _prepare_args_for_execution\n",
      "    data[k] = self.data[k]\n",
      "  File \"/opt/conda/lib/python3.10/site-packages/distributed/spill.py\", line 245, in __getitem__\n",
      "    return super().__getitem__(key)\n",
      "  File \"/opt/conda/lib/python3.10/site-packages/zict/buffer.py\", line 108, in __getitem__\n",
      "    raise KeyError(key)\n",
      "KeyError: '_deploy_dask_func-226fee44-f402-4a12-9e0c-87a1b041d044'\n",
      "\n",
      "During handling of the above exception, another exception occurred:\n",
      "\n",
      "Traceback (most recent call last):\n",
      "  File \"/opt/conda/lib/python3.10/site-packages/distributed/worker.py\", line 2271, in execute\n",
      "    args2, kwargs2 = self._prepare_args_for_execution(ts, args, kwargs)\n",
      "  File \"/opt/conda/lib/python3.10/site-packages/distributed/worker.py\", line 2394, in _prepare_args_for_execution\n",
      "    data[k] = Actor(type(self.state.actors[k]), self.address, k, self)\n",
      "KeyError: '_deploy_dask_func-226fee44-f402-4a12-9e0c-87a1b041d044'\n"
     ]
    },
    {
     "name": "stderr",
     "output_type": "stream",
     "text": [
      "UserWarning: Distributing <class 'dict'> object. This may take some time.\n",
      "UserWarning: Group indices computation is not currently supported by PandasOnDask, defaulting to pandas implementation.\n"
     ]
    },
    {
     "name": "stderr",
     "output_type": "stream",
     "text": [
      "UserWarning: Distributing <class 'dict'> object. This may take some time.\n",
      "UserWarning: Group indices computation is not currently supported by PandasOnDask, defaulting to pandas implementation.\n"
     ]
    },
    {
     "name": "stderr",
     "output_type": "stream",
     "text": [
      "RuntimeWarning: divide by zero encountered in log\n"
     ]
    },
    {
     "name": "stderr",
     "output_type": "stream",
     "text": [
      "UserWarning: Distributing <class 'dict'> object. This may take some time.\n",
      "UserWarning: Group indices computation is not currently supported by PandasOnDask, defaulting to pandas implementation.\n"
     ]
    },
    {
     "name": "stderr",
     "output_type": "stream",
     "text": [
      "UserWarning: Distributing <class 'dict'> object. This may take some time.\n",
      "UserWarning: Group indices computation is not currently supported by PandasOnDask, defaulting to pandas implementation.\n"
     ]
    },
    {
     "name": "stderr",
     "output_type": "stream",
     "text": [
      "2023-03-25 10:54:53,184 - distributed.worker - ERROR - Exception during execution of task lambda-0a61c9cc6a4c585acbd379dd8f4f9e88.\n",
      "Traceback (most recent call last):\n",
      "  File \"/opt/conda/lib/python3.10/site-packages/distributed/worker.py\", line 2390, in _prepare_args_for_execution\n",
      "    data[k] = self.data[k]\n",
      "  File \"/opt/conda/lib/python3.10/site-packages/distributed/spill.py\", line 245, in __getitem__\n",
      "    return super().__getitem__(key)\n",
      "  File \"/opt/conda/lib/python3.10/site-packages/zict/buffer.py\", line 108, in __getitem__\n",
      "    raise KeyError(key)\n",
      "KeyError: '_deploy_dask_func-b83548d5-65cd-4ae3-b529-4de5fdfcd3b3'\n",
      "\n",
      "During handling of the above exception, another exception occurred:\n",
      "\n",
      "Traceback (most recent call last):\n",
      "  File \"/opt/conda/lib/python3.10/site-packages/distributed/worker.py\", line 2271, in execute\n",
      "    args2, kwargs2 = self._prepare_args_for_execution(ts, args, kwargs)\n",
      "  File \"/opt/conda/lib/python3.10/site-packages/distributed/worker.py\", line 2394, in _prepare_args_for_execution\n",
      "    data[k] = Actor(type(self.state.actors[k]), self.address, k, self)\n",
      "KeyError: '_deploy_dask_func-b83548d5-65cd-4ae3-b529-4de5fdfcd3b3'\n"
     ]
    },
    {
     "name": "stderr",
     "output_type": "stream",
     "text": [
      "UserWarning: Distributing <class 'dict'> object. This may take some time.\n",
      "UserWarning: Group indices computation is not currently supported by PandasOnDask, defaulting to pandas implementation.\n"
     ]
    },
    {
     "name": "stderr",
     "output_type": "stream",
     "text": [
      "RuntimeWarning: divide by zero encountered in log\n"
     ]
    },
    {
     "name": "stderr",
     "output_type": "stream",
     "text": [
      "UserWarning: Distributing <class 'dict'> object. This may take some time.\n",
      "UserWarning: Group indices computation is not currently supported by PandasOnDask, defaulting to pandas implementation.\n"
     ]
    },
    {
     "name": "stderr",
     "output_type": "stream",
     "text": [
      "UserWarning: Distributing <class 'dict'> object. This may take some time.\n",
      "UserWarning: Group indices computation is not currently supported by PandasOnDask, defaulting to pandas implementation.\n"
     ]
    },
    {
     "name": "stderr",
     "output_type": "stream",
     "text": [
      "RuntimeWarning: divide by zero encountered in log\n"
     ]
    },
    {
     "name": "stderr",
     "output_type": "stream",
     "text": [
      "2023-03-25 10:55:15,523 - distributed.worker - ERROR - Exception during execution of task lambda-a9ef429e5e9cb8130931ddda6d6ee28d.\n",
      "Traceback (most recent call last):\n",
      "  File \"/opt/conda/lib/python3.10/site-packages/distributed/worker.py\", line 2390, in _prepare_args_for_execution\n",
      "    data[k] = self.data[k]\n",
      "  File \"/opt/conda/lib/python3.10/site-packages/distributed/spill.py\", line 245, in __getitem__\n",
      "    return super().__getitem__(key)\n",
      "  File \"/opt/conda/lib/python3.10/site-packages/zict/buffer.py\", line 108, in __getitem__\n",
      "    raise KeyError(key)\n",
      "KeyError: 'apply_func-f1c662e0-43e0-4f70-9412-3e71e0a594fa'\n",
      "\n",
      "During handling of the above exception, another exception occurred:\n",
      "\n",
      "Traceback (most recent call last):\n",
      "  File \"/opt/conda/lib/python3.10/site-packages/distributed/worker.py\", line 2271, in execute\n",
      "    args2, kwargs2 = self._prepare_args_for_execution(ts, args, kwargs)\n",
      "  File \"/opt/conda/lib/python3.10/site-packages/distributed/worker.py\", line 2394, in _prepare_args_for_execution\n",
      "    data[k] = Actor(type(self.state.actors[k]), self.address, k, self)\n",
      "KeyError: 'apply_func-f1c662e0-43e0-4f70-9412-3e71e0a594fa'\n"
     ]
    },
    {
     "name": "stderr",
     "output_type": "stream",
     "text": [
      "RuntimeWarning: divide by zero encountered in log\n",
      "UserWarning: Distributing <class 'dict'> object. This may take some time.\n",
      "UserWarning: Group indices computation is not currently supported by PandasOnDask, defaulting to pandas implementation.\n"
     ]
    },
    {
     "name": "stderr",
     "output_type": "stream",
     "text": [
      "2023-03-25 10:55:20,681 - distributed.worker - ERROR - Exception during execution of task lambda-17495162f280280d7796bc9e706a155c.\n",
      "Traceback (most recent call last):\n",
      "  File \"/opt/conda/lib/python3.10/site-packages/distributed/worker.py\", line 2390, in _prepare_args_for_execution\n",
      "    data[k] = self.data[k]\n",
      "  File \"/opt/conda/lib/python3.10/site-packages/distributed/spill.py\", line 245, in __getitem__\n",
      "    return super().__getitem__(key)\n",
      "  File \"/opt/conda/lib/python3.10/site-packages/zict/buffer.py\", line 108, in __getitem__\n",
      "    raise KeyError(key)\n",
      "KeyError: 'apply_func-418d0246-7f19-448a-97a6-a4e4f2bd081a'\n",
      "\n",
      "During handling of the above exception, another exception occurred:\n",
      "\n",
      "Traceback (most recent call last):\n",
      "  File \"/opt/conda/lib/python3.10/site-packages/distributed/worker.py\", line 2271, in execute\n",
      "    args2, kwargs2 = self._prepare_args_for_execution(ts, args, kwargs)\n",
      "  File \"/opt/conda/lib/python3.10/site-packages/distributed/worker.py\", line 2394, in _prepare_args_for_execution\n",
      "    data[k] = Actor(type(self.state.actors[k]), self.address, k, self)\n",
      "KeyError: 'apply_func-418d0246-7f19-448a-97a6-a4e4f2bd081a'\n"
     ]
    },
    {
     "name": "stderr",
     "output_type": "stream",
     "text": [
      "UserWarning: Distributing <class 'dict'> object. This may take some time.\n",
      "UserWarning: Group indices computation is not currently supported by PandasOnDask, defaulting to pandas implementation.\n"
     ]
    },
    {
     "name": "stderr",
     "output_type": "stream",
     "text": [
      "RuntimeWarning: divide by zero encountered in log\n"
     ]
    },
    {
     "name": "stderr",
     "output_type": "stream",
     "text": [
      "RuntimeWarning: divide by zero encountered in log\n",
      "UserWarning: Distributing <class 'dict'> object. This may take some time.\n",
      "UserWarning: Group indices computation is not currently supported by PandasOnDask, defaulting to pandas implementation.\n"
     ]
    },
    {
     "name": "stderr",
     "output_type": "stream",
     "text": [
      "UserWarning: Distributing <class 'dict'> object. This may take some time.\n",
      "UserWarning: Group indices computation is not currently supported by PandasOnDask, defaulting to pandas implementation.\n"
     ]
    },
    {
     "name": "stderr",
     "output_type": "stream",
     "text": [
      "UserWarning: Distributing <class 'dict'> object. This may take some time.\n",
      "UserWarning: Group indices computation is not currently supported by PandasOnDask, defaulting to pandas implementation.\n"
     ]
    },
    {
     "name": "stderr",
     "output_type": "stream",
     "text": [
      "UserWarning: Distributing <class 'dict'> object. This may take some time.\n",
      "UserWarning: Group indices computation is not currently supported by PandasOnDask, defaulting to pandas implementation.\n"
     ]
    },
    {
     "name": "stderr",
     "output_type": "stream",
     "text": [
      "UserWarning: Distributing <class 'dict'> object. This may take some time.\n",
      "UserWarning: Group indices computation is not currently supported by PandasOnDask, defaulting to pandas implementation.\n"
     ]
    },
    {
     "name": "stderr",
     "output_type": "stream",
     "text": [
      "UserWarning: Distributing <class 'dict'> object. This may take some time.\n",
      "UserWarning: Group indices computation is not currently supported by PandasOnDask, defaulting to pandas implementation.\n"
     ]
    },
    {
     "name": "stderr",
     "output_type": "stream",
     "text": [
      "2023-03-25 10:56:03,348 - distributed.worker - ERROR - Exception during execution of task lambda-35163fd690863923834ecde4c1e14f82.\n",
      "Traceback (most recent call last):\n",
      "  File \"/opt/conda/lib/python3.10/site-packages/distributed/worker.py\", line 2390, in _prepare_args_for_execution\n",
      "    data[k] = self.data[k]\n",
      "  File \"/opt/conda/lib/python3.10/site-packages/distributed/spill.py\", line 245, in __getitem__\n",
      "    return super().__getitem__(key)\n",
      "  File \"/opt/conda/lib/python3.10/site-packages/zict/buffer.py\", line 108, in __getitem__\n",
      "    raise KeyError(key)\n",
      "KeyError: '_deploy_dask_func-17b0dffb-2eee-4cbc-b6e3-3e9487091323'\n",
      "\n",
      "During handling of the above exception, another exception occurred:\n",
      "\n",
      "Traceback (most recent call last):\n",
      "  File \"/opt/conda/lib/python3.10/site-packages/distributed/worker.py\", line 2271, in execute\n",
      "    args2, kwargs2 = self._prepare_args_for_execution(ts, args, kwargs)\n",
      "  File \"/opt/conda/lib/python3.10/site-packages/distributed/worker.py\", line 2394, in _prepare_args_for_execution\n",
      "    data[k] = Actor(type(self.state.actors[k]), self.address, k, self)\n",
      "KeyError: '_deploy_dask_func-17b0dffb-2eee-4cbc-b6e3-3e9487091323'\n"
     ]
    },
    {
     "name": "stderr",
     "output_type": "stream",
     "text": [
      "RuntimeWarning: divide by zero encountered in log\n",
      "UserWarning: Distributing <class 'dict'> object. This may take some time.\n",
      "UserWarning: Group indices computation is not currently supported by PandasOnDask, defaulting to pandas implementation.\n"
     ]
    },
    {
     "name": "stderr",
     "output_type": "stream",
     "text": [
      "UserWarning: Distributing <class 'dict'> object. This may take some time.\n",
      "UserWarning: Group indices computation is not currently supported by PandasOnDask, defaulting to pandas implementation.\n"
     ]
    },
    {
     "name": "stderr",
     "output_type": "stream",
     "text": [
      "2023-03-25 10:56:14,264 - distributed.worker - ERROR - Exception during execution of task lambda-e28a5589ad39a41b14ba347121c1a9e3.\n",
      "Traceback (most recent call last):\n",
      "  File \"/opt/conda/lib/python3.10/site-packages/distributed/worker.py\", line 2390, in _prepare_args_for_execution\n",
      "    data[k] = self.data[k]\n",
      "  File \"/opt/conda/lib/python3.10/site-packages/distributed/spill.py\", line 245, in __getitem__\n",
      "    return super().__getitem__(key)\n",
      "  File \"/opt/conda/lib/python3.10/site-packages/zict/buffer.py\", line 108, in __getitem__\n",
      "    raise KeyError(key)\n",
      "KeyError: '_deploy_dask_func-bd301771-3770-4d69-bdcb-127f9dbf1f80'\n",
      "\n",
      "During handling of the above exception, another exception occurred:\n",
      "\n",
      "Traceback (most recent call last):\n",
      "  File \"/opt/conda/lib/python3.10/site-packages/distributed/worker.py\", line 2271, in execute\n",
      "    args2, kwargs2 = self._prepare_args_for_execution(ts, args, kwargs)\n",
      "  File \"/opt/conda/lib/python3.10/site-packages/distributed/worker.py\", line 2394, in _prepare_args_for_execution\n",
      "    data[k] = Actor(type(self.state.actors[k]), self.address, k, self)\n",
      "KeyError: '_deploy_dask_func-bd301771-3770-4d69-bdcb-127f9dbf1f80'\n"
     ]
    },
    {
     "name": "stderr",
     "output_type": "stream",
     "text": [
      "UserWarning: Distributing <class 'dict'> object. This may take some time.\n",
      "UserWarning: Group indices computation is not currently supported by PandasOnDask, defaulting to pandas implementation.\n",
      "2023-03-25 10:56:15,851 - distributed.worker - ERROR - Exception during execution of task lambda-766526c7c3c24223c349c00a5e2585fc.\n",
      "Traceback (most recent call last):\n",
      "  File \"/opt/conda/lib/python3.10/site-packages/distributed/worker.py\", line 2390, in _prepare_args_for_execution\n",
      "    data[k] = self.data[k]\n",
      "  File \"/opt/conda/lib/python3.10/site-packages/distributed/spill.py\", line 245, in __getitem__\n",
      "    return super().__getitem__(key)\n",
      "  File \"/opt/conda/lib/python3.10/site-packages/zict/buffer.py\", line 108, in __getitem__\n",
      "    raise KeyError(key)\n",
      "KeyError: 'apply_func-377dd27d-2cf7-4e28-aa76-889ec90fd9c1'\n",
      "\n",
      "During handling of the above exception, another exception occurred:\n",
      "\n",
      "Traceback (most recent call last):\n",
      "  File \"/opt/conda/lib/python3.10/site-packages/distributed/worker.py\", line 2271, in execute\n",
      "    args2, kwargs2 = self._prepare_args_for_execution(ts, args, kwargs)\n",
      "  File \"/opt/conda/lib/python3.10/site-packages/distributed/worker.py\", line 2394, in _prepare_args_for_execution\n",
      "    data[k] = Actor(type(self.state.actors[k]), self.address, k, self)\n",
      "KeyError: 'apply_func-377dd27d-2cf7-4e28-aa76-889ec90fd9c1'\n"
     ]
    },
    {
     "name": "stderr",
     "output_type": "stream",
     "text": [
      "RuntimeWarning: divide by zero encountered in log\n"
     ]
    },
    {
     "name": "stderr",
     "output_type": "stream",
     "text": [
      "UserWarning: Distributing <class 'dict'> object. This may take some time.\n",
      "UserWarning: Group indices computation is not currently supported by PandasOnDask, defaulting to pandas implementation.\n"
     ]
    },
    {
     "name": "stderr",
     "output_type": "stream",
     "text": [
      "2023-03-25 10:56:35,855 - distributed.worker - ERROR - Exception during execution of task lambda-ce29fee54bda003f3743dd9cb5c080df.\n",
      "Traceback (most recent call last):\n",
      "  File \"/opt/conda/lib/python3.10/site-packages/distributed/worker.py\", line 2390, in _prepare_args_for_execution\n",
      "    data[k] = self.data[k]\n",
      "  File \"/opt/conda/lib/python3.10/site-packages/distributed/spill.py\", line 245, in __getitem__\n",
      "    return super().__getitem__(key)\n",
      "  File \"/opt/conda/lib/python3.10/site-packages/zict/buffer.py\", line 108, in __getitem__\n",
      "    raise KeyError(key)\n",
      "KeyError: '_deploy_dask_func-0cadedd9-8ebc-4226-8953-9a05851d7034'\n",
      "\n",
      "During handling of the above exception, another exception occurred:\n",
      "\n",
      "Traceback (most recent call last):\n",
      "  File \"/opt/conda/lib/python3.10/site-packages/distributed/worker.py\", line 2271, in execute\n",
      "    args2, kwargs2 = self._prepare_args_for_execution(ts, args, kwargs)\n",
      "  File \"/opt/conda/lib/python3.10/site-packages/distributed/worker.py\", line 2394, in _prepare_args_for_execution\n",
      "    data[k] = Actor(type(self.state.actors[k]), self.address, k, self)\n",
      "KeyError: '_deploy_dask_func-0cadedd9-8ebc-4226-8953-9a05851d7034'\n"
     ]
    },
    {
     "name": "stderr",
     "output_type": "stream",
     "text": [
      "RuntimeWarning: divide by zero encountered in log\n",
      "UserWarning: Distributing <class 'dict'> object. This may take some time.\n",
      "UserWarning: Group indices computation is not currently supported by PandasOnDask, defaulting to pandas implementation.\n"
     ]
    },
    {
     "name": "stderr",
     "output_type": "stream",
     "text": [
      "2023-03-25 10:56:38,431 - distributed.worker - ERROR - Exception during execution of task lambda-ca74f4d217185ae1d84298444e6523a7.\n",
      "Traceback (most recent call last):\n",
      "  File \"/opt/conda/lib/python3.10/site-packages/distributed/worker.py\", line 2390, in _prepare_args_for_execution\n",
      "    data[k] = self.data[k]\n",
      "  File \"/opt/conda/lib/python3.10/site-packages/distributed/spill.py\", line 245, in __getitem__\n",
      "    return super().__getitem__(key)\n",
      "  File \"/opt/conda/lib/python3.10/site-packages/zict/buffer.py\", line 108, in __getitem__\n",
      "    raise KeyError(key)\n",
      "KeyError: '_deploy_dask_func-8a7333ac-4901-49ad-b223-c9e944890082'\n",
      "\n",
      "During handling of the above exception, another exception occurred:\n",
      "\n",
      "Traceback (most recent call last):\n",
      "  File \"/opt/conda/lib/python3.10/site-packages/distributed/worker.py\", line 2271, in execute\n",
      "    args2, kwargs2 = self._prepare_args_for_execution(ts, args, kwargs)\n",
      "  File \"/opt/conda/lib/python3.10/site-packages/distributed/worker.py\", line 2394, in _prepare_args_for_execution\n",
      "    data[k] = Actor(type(self.state.actors[k]), self.address, k, self)\n",
      "KeyError: '_deploy_dask_func-8a7333ac-4901-49ad-b223-c9e944890082'\n"
     ]
    },
    {
     "name": "stderr",
     "output_type": "stream",
     "text": [
      "RuntimeWarning: divide by zero encountered in log\n",
      "UserWarning: Distributing <class 'dict'> object. This may take some time.\n",
      "UserWarning: Group indices computation is not currently supported by PandasOnDask, defaulting to pandas implementation.\n"
     ]
    },
    {
     "name": "stderr",
     "output_type": "stream",
     "text": [
      "2023-03-25 10:56:59,041 - distributed.utils_perf - WARNING - full garbage collections took 10% CPU time recently (threshold: 10%)\n"
     ]
    },
    {
     "name": "stderr",
     "output_type": "stream",
     "text": [
      "UserWarning: Distributing <class 'dict'> object. This may take some time.\n"
     ]
    },
    {
     "name": "stderr",
     "output_type": "stream",
     "text": [
      "2023-03-25 10:57:05,018 - distributed.utils_perf - WARNING - full garbage collections took 10% CPU time recently (threshold: 10%)\n"
     ]
    },
    {
     "name": "stderr",
     "output_type": "stream",
     "text": [
      "UserWarning: Group indices computation is not currently supported by PandasOnDask, defaulting to pandas implementation.\n"
     ]
    },
    {
     "name": "stderr",
     "output_type": "stream",
     "text": [
      "2023-03-25 10:57:10,812 - distributed.utils_perf - WARNING - full garbage collections took 10% CPU time recently (threshold: 10%)\n"
     ]
    },
    {
     "name": "stderr",
     "output_type": "stream",
     "text": [
      "2023-03-25 10:57:11,129 - distributed.worker - ERROR - Exception during execution of task lambda-b67835702fa6cbd689e6161b9d8620d1.\n",
      "Traceback (most recent call last):\n",
      "  File \"/opt/conda/lib/python3.10/site-packages/distributed/worker.py\", line 2390, in _prepare_args_for_execution\n",
      "    data[k] = self.data[k]\n",
      "  File \"/opt/conda/lib/python3.10/site-packages/distributed/spill.py\", line 245, in __getitem__\n",
      "    return super().__getitem__(key)\n",
      "  File \"/opt/conda/lib/python3.10/site-packages/zict/buffer.py\", line 108, in __getitem__\n",
      "    raise KeyError(key)\n",
      "KeyError: 'apply_func-f337abf2-0fb8-48ee-8810-2acd6c5395a7'\n",
      "\n",
      "During handling of the above exception, another exception occurred:\n",
      "\n",
      "Traceback (most recent call last):\n",
      "  File \"/opt/conda/lib/python3.10/site-packages/distributed/worker.py\", line 2271, in execute\n",
      "    args2, kwargs2 = self._prepare_args_for_execution(ts, args, kwargs)\n",
      "  File \"/opt/conda/lib/python3.10/site-packages/distributed/worker.py\", line 2394, in _prepare_args_for_execution\n",
      "    data[k] = Actor(type(self.state.actors[k]), self.address, k, self)\n",
      "KeyError: 'apply_func-f337abf2-0fb8-48ee-8810-2acd6c5395a7'\n"
     ]
    },
    {
     "name": "stderr",
     "output_type": "stream",
     "text": [
      "2023-03-25 10:57:17,268 - distributed.utils_perf - WARNING - full garbage collections took 11% CPU time recently (threshold: 10%)\n"
     ]
    },
    {
     "name": "stderr",
     "output_type": "stream",
     "text": [
      "RuntimeWarning: divide by zero encountered in log\n",
      "UserWarning: Distributing <class 'dict'> object. This may take some time.\n",
      "UserWarning: Group indices computation is not currently supported by PandasOnDask, defaulting to pandas implementation.\n"
     ]
    },
    {
     "name": "stderr",
     "output_type": "stream",
     "text": [
      "2023-03-25 10:57:19,664 - distributed.worker - ERROR - Exception during execution of task lambda-aa57a602a3e466569b917e44f1ad09ba.\n",
      "Traceback (most recent call last):\n",
      "  File \"/opt/conda/lib/python3.10/site-packages/distributed/worker.py\", line 2390, in _prepare_args_for_execution\n",
      "    data[k] = self.data[k]\n",
      "  File \"/opt/conda/lib/python3.10/site-packages/distributed/spill.py\", line 245, in __getitem__\n",
      "    return super().__getitem__(key)\n",
      "  File \"/opt/conda/lib/python3.10/site-packages/zict/buffer.py\", line 108, in __getitem__\n",
      "    raise KeyError(key)\n",
      "KeyError: '_deploy_dask_func-e400ac9b-5999-45d8-91b3-ffbb8ee5668d'\n",
      "\n",
      "During handling of the above exception, another exception occurred:\n",
      "\n",
      "Traceback (most recent call last):\n",
      "  File \"/opt/conda/lib/python3.10/site-packages/distributed/worker.py\", line 2271, in execute\n",
      "    args2, kwargs2 = self._prepare_args_for_execution(ts, args, kwargs)\n",
      "  File \"/opt/conda/lib/python3.10/site-packages/distributed/worker.py\", line 2394, in _prepare_args_for_execution\n",
      "    data[k] = Actor(type(self.state.actors[k]), self.address, k, self)\n",
      "KeyError: '_deploy_dask_func-e400ac9b-5999-45d8-91b3-ffbb8ee5668d'\n"
     ]
    },
    {
     "name": "stderr",
     "output_type": "stream",
     "text": [
      "2023-03-25 10:57:23,045 - distributed.utils_perf - WARNING - full garbage collections took 11% CPU time recently (threshold: 10%)\n"
     ]
    },
    {
     "name": "stderr",
     "output_type": "stream",
     "text": [
      "2023-03-25 10:57:23,752 - distributed.worker - ERROR - Exception during execution of task lambda-a4682dbf39dd5c2b6b66cb25a89f7688.\n",
      "Traceback (most recent call last):\n",
      "  File \"/opt/conda/lib/python3.10/site-packages/distributed/worker.py\", line 2390, in _prepare_args_for_execution\n",
      "    data[k] = self.data[k]\n",
      "  File \"/opt/conda/lib/python3.10/site-packages/distributed/spill.py\", line 245, in __getitem__\n",
      "    return super().__getitem__(key)\n",
      "  File \"/opt/conda/lib/python3.10/site-packages/zict/buffer.py\", line 108, in __getitem__\n",
      "    raise KeyError(key)\n",
      "KeyError: '_deploy_dask_func-31e63bfc-c68f-4a6f-acc6-d0863d8d5c62'\n",
      "\n",
      "During handling of the above exception, another exception occurred:\n",
      "\n",
      "Traceback (most recent call last):\n",
      "  File \"/opt/conda/lib/python3.10/site-packages/distributed/worker.py\", line 2271, in execute\n",
      "    args2, kwargs2 = self._prepare_args_for_execution(ts, args, kwargs)\n",
      "  File \"/opt/conda/lib/python3.10/site-packages/distributed/worker.py\", line 2394, in _prepare_args_for_execution\n",
      "    data[k] = Actor(type(self.state.actors[k]), self.address, k, self)\n",
      "KeyError: '_deploy_dask_func-31e63bfc-c68f-4a6f-acc6-d0863d8d5c62'\n"
     ]
    },
    {
     "name": "stderr",
     "output_type": "stream",
     "text": [
      "2023-03-25 10:57:27,186 - distributed.worker - ERROR - Exception during execution of task lambda-df06c8b02acde3bf99e805a9e9b73abe.\n",
      "Traceback (most recent call last):\n",
      "  File \"/opt/conda/lib/python3.10/site-packages/distributed/worker.py\", line 2390, in _prepare_args_for_execution\n",
      "    data[k] = self.data[k]\n",
      "  File \"/opt/conda/lib/python3.10/site-packages/distributed/spill.py\", line 245, in __getitem__\n",
      "    return super().__getitem__(key)\n",
      "  File \"/opt/conda/lib/python3.10/site-packages/zict/buffer.py\", line 108, in __getitem__\n",
      "    raise KeyError(key)\n",
      "KeyError: '_deploy_dask_func-830329b4-b8c3-4804-96a9-0b62bad03816'\n",
      "\n",
      "During handling of the above exception, another exception occurred:\n",
      "\n",
      "Traceback (most recent call last):\n",
      "  File \"/opt/conda/lib/python3.10/site-packages/distributed/worker.py\", line 2271, in execute\n",
      "    args2, kwargs2 = self._prepare_args_for_execution(ts, args, kwargs)\n",
      "  File \"/opt/conda/lib/python3.10/site-packages/distributed/worker.py\", line 2394, in _prepare_args_for_execution\n",
      "    data[k] = Actor(type(self.state.actors[k]), self.address, k, self)\n",
      "KeyError: '_deploy_dask_func-830329b4-b8c3-4804-96a9-0b62bad03816'\n"
     ]
    },
    {
     "name": "stderr",
     "output_type": "stream",
     "text": [
      "2023-03-25 10:57:29,475 - distributed.utils_perf - WARNING - full garbage collections took 11% CPU time recently (threshold: 10%)\n"
     ]
    },
    {
     "name": "stderr",
     "output_type": "stream",
     "text": [
      "UserWarning: Distributing <class 'dict'> object. This may take some time.\n",
      "UserWarning: Group indices computation is not currently supported by PandasOnDask, defaulting to pandas implementation.\n"
     ]
    },
    {
     "name": "stderr",
     "output_type": "stream",
     "text": [
      "2023-03-25 10:57:35,599 - distributed.utils_perf - WARNING - full garbage collections took 12% CPU time recently (threshold: 10%)\n"
     ]
    },
    {
     "name": "stderr",
     "output_type": "stream",
     "text": [
      "UserWarning: Distributing <class 'dict'> object. This may take some time.\n",
      "UserWarning: Group indices computation is not currently supported by PandasOnDask, defaulting to pandas implementation.\n"
     ]
    },
    {
     "name": "stderr",
     "output_type": "stream",
     "text": [
      "2023-03-25 10:57:41,931 - distributed.utils_perf - WARNING - full garbage collections took 12% CPU time recently (threshold: 10%)\n"
     ]
    },
    {
     "name": "stderr",
     "output_type": "stream",
     "text": [
      "2023-03-25 10:57:47,923 - distributed.utils_perf - WARNING - full garbage collections took 12% CPU time recently (threshold: 10%)\n"
     ]
    },
    {
     "name": "stderr",
     "output_type": "stream",
     "text": [
      "2023-03-25 10:57:49,263 - distributed.worker - ERROR - Exception during execution of task lambda-350bc496f6663f9c278a15a0a6c6b7bf.\n",
      "Traceback (most recent call last):\n",
      "  File \"/opt/conda/lib/python3.10/site-packages/distributed/worker.py\", line 2390, in _prepare_args_for_execution\n",
      "    data[k] = self.data[k]\n",
      "  File \"/opt/conda/lib/python3.10/site-packages/distributed/spill.py\", line 245, in __getitem__\n",
      "    return super().__getitem__(key)\n",
      "  File \"/opt/conda/lib/python3.10/site-packages/zict/buffer.py\", line 108, in __getitem__\n",
      "    raise KeyError(key)\n",
      "KeyError: '_deploy_dask_func-80d68209-83b8-4d33-9c3c-ef4064a33b2b'\n",
      "\n",
      "During handling of the above exception, another exception occurred:\n",
      "\n",
      "Traceback (most recent call last):\n",
      "  File \"/opt/conda/lib/python3.10/site-packages/distributed/worker.py\", line 2271, in execute\n",
      "    args2, kwargs2 = self._prepare_args_for_execution(ts, args, kwargs)\n",
      "  File \"/opt/conda/lib/python3.10/site-packages/distributed/worker.py\", line 2394, in _prepare_args_for_execution\n",
      "    data[k] = Actor(type(self.state.actors[k]), self.address, k, self)\n",
      "KeyError: '_deploy_dask_func-80d68209-83b8-4d33-9c3c-ef4064a33b2b'\n"
     ]
    },
    {
     "name": "stderr",
     "output_type": "stream",
     "text": [
      "UserWarning: Distributing <class 'dict'> object. This may take some time.\n",
      "UserWarning: Group indices computation is not currently supported by PandasOnDask, defaulting to pandas implementation.\n"
     ]
    },
    {
     "name": "stderr",
     "output_type": "stream",
     "text": [
      "2023-03-25 10:57:52,899 - distributed.worker - ERROR - Exception during execution of task lambda-65080f7ca3349dcc7305b2ff2ba426e7.\n",
      "Traceback (most recent call last):\n",
      "  File \"/opt/conda/lib/python3.10/site-packages/distributed/worker.py\", line 2390, in _prepare_args_for_execution\n",
      "    data[k] = self.data[k]\n",
      "  File \"/opt/conda/lib/python3.10/site-packages/distributed/spill.py\", line 245, in __getitem__\n",
      "    return super().__getitem__(key)\n",
      "  File \"/opt/conda/lib/python3.10/site-packages/zict/buffer.py\", line 108, in __getitem__\n",
      "    raise KeyError(key)\n",
      "KeyError: '_deploy_dask_func-8786a114-0ecc-45bd-98a5-98ac030132df'\n",
      "\n",
      "During handling of the above exception, another exception occurred:\n",
      "\n",
      "Traceback (most recent call last):\n",
      "  File \"/opt/conda/lib/python3.10/site-packages/distributed/worker.py\", line 2271, in execute\n",
      "    args2, kwargs2 = self._prepare_args_for_execution(ts, args, kwargs)\n",
      "  File \"/opt/conda/lib/python3.10/site-packages/distributed/worker.py\", line 2394, in _prepare_args_for_execution\n",
      "    data[k] = Actor(type(self.state.actors[k]), self.address, k, self)\n",
      "KeyError: '_deploy_dask_func-8786a114-0ecc-45bd-98a5-98ac030132df'\n"
     ]
    },
    {
     "name": "stderr",
     "output_type": "stream",
     "text": [
      "2023-03-25 10:57:54,662 - distributed.utils_perf - WARNING - full garbage collections took 13% CPU time recently (threshold: 10%)\n"
     ]
    },
    {
     "name": "stderr",
     "output_type": "stream",
     "text": [
      "2023-03-25 10:57:56,731 - distributed.worker - ERROR - Exception during execution of task lambda-cca34a4f8f7f7c8ea618c5e74ece583a.\n",
      "Traceback (most recent call last):\n",
      "  File \"/opt/conda/lib/python3.10/site-packages/distributed/worker.py\", line 2390, in _prepare_args_for_execution\n",
      "    data[k] = self.data[k]\n",
      "  File \"/opt/conda/lib/python3.10/site-packages/distributed/spill.py\", line 245, in __getitem__\n",
      "    return super().__getitem__(key)\n",
      "  File \"/opt/conda/lib/python3.10/site-packages/zict/buffer.py\", line 108, in __getitem__\n",
      "    raise KeyError(key)\n",
      "KeyError: '_deploy_dask_func-434c8c70-62f2-4593-b9bb-afb6caaf145f'\n",
      "\n",
      "During handling of the above exception, another exception occurred:\n",
      "\n",
      "Traceback (most recent call last):\n",
      "  File \"/opt/conda/lib/python3.10/site-packages/distributed/worker.py\", line 2271, in execute\n",
      "    args2, kwargs2 = self._prepare_args_for_execution(ts, args, kwargs)\n",
      "  File \"/opt/conda/lib/python3.10/site-packages/distributed/worker.py\", line 2394, in _prepare_args_for_execution\n",
      "    data[k] = Actor(type(self.state.actors[k]), self.address, k, self)\n",
      "KeyError: '_deploy_dask_func-434c8c70-62f2-4593-b9bb-afb6caaf145f'\n"
     ]
    },
    {
     "name": "stderr",
     "output_type": "stream",
     "text": [
      "2023-03-25 10:58:01,499 - distributed.utils_perf - WARNING - full garbage collections took 13% CPU time recently (threshold: 10%)\n"
     ]
    },
    {
     "name": "stderr",
     "output_type": "stream",
     "text": [
      "UserWarning: Distributing <class 'dict'> object. This may take some time.\n"
     ]
    },
    {
     "name": "stderr",
     "output_type": "stream",
     "text": [
      "UserWarning: Group indices computation is not currently supported by PandasOnDask, defaulting to pandas implementation.\n"
     ]
    },
    {
     "name": "stderr",
     "output_type": "stream",
     "text": [
      "2023-03-25 10:58:08,269 - distributed.utils_perf - WARNING - full garbage collections took 13% CPU time recently (threshold: 10%)\n"
     ]
    },
    {
     "name": "stderr",
     "output_type": "stream",
     "text": [
      "2023-03-25 10:58:09,134 - distributed.worker - ERROR - Exception during execution of task lambda-9575bed25ab4b66f78f2532ee91f094e.\n",
      "Traceback (most recent call last):\n",
      "  File \"/opt/conda/lib/python3.10/site-packages/distributed/worker.py\", line 2390, in _prepare_args_for_execution\n",
      "    data[k] = self.data[k]\n",
      "  File \"/opt/conda/lib/python3.10/site-packages/distributed/spill.py\", line 245, in __getitem__\n",
      "    return super().__getitem__(key)\n",
      "  File \"/opt/conda/lib/python3.10/site-packages/zict/buffer.py\", line 108, in __getitem__\n",
      "    raise KeyError(key)\n",
      "KeyError: '_deploy_dask_func-f3507d6d-11f3-4c67-b30f-7025ba1d80d7'\n",
      "\n",
      "During handling of the above exception, another exception occurred:\n",
      "\n",
      "Traceback (most recent call last):\n",
      "  File \"/opt/conda/lib/python3.10/site-packages/distributed/worker.py\", line 2271, in execute\n",
      "    args2, kwargs2 = self._prepare_args_for_execution(ts, args, kwargs)\n",
      "  File \"/opt/conda/lib/python3.10/site-packages/distributed/worker.py\", line 2394, in _prepare_args_for_execution\n",
      "    data[k] = Actor(type(self.state.actors[k]), self.address, k, self)\n",
      "KeyError: '_deploy_dask_func-f3507d6d-11f3-4c67-b30f-7025ba1d80d7'\n"
     ]
    },
    {
     "name": "stderr",
     "output_type": "stream",
     "text": [
      "2023-03-25 10:58:15,135 - distributed.utils_perf - WARNING - full garbage collections took 13% CPU time recently (threshold: 10%)\n"
     ]
    },
    {
     "name": "stderr",
     "output_type": "stream",
     "text": [
      "UserWarning: Distributing <class 'dict'> object. This may take some time.\n",
      "UserWarning: Group indices computation is not currently supported by PandasOnDask, defaulting to pandas implementation.\n"
     ]
    },
    {
     "name": "stderr",
     "output_type": "stream",
     "text": [
      "2023-03-25 10:58:21,631 - distributed.utils_perf - WARNING - full garbage collections took 13% CPU time recently (threshold: 10%)\n"
     ]
    },
    {
     "name": "stderr",
     "output_type": "stream",
     "text": [
      "UserWarning: Distributing <class 'dict'> object. This may take some time.\n",
      "UserWarning: Group indices computation is not currently supported by PandasOnDask, defaulting to pandas implementation.\n"
     ]
    },
    {
     "name": "stderr",
     "output_type": "stream",
     "text": [
      "2023-03-25 10:58:28,148 - distributed.utils_perf - WARNING - full garbage collections took 13% CPU time recently (threshold: 10%)\n"
     ]
    },
    {
     "name": "stderr",
     "output_type": "stream",
     "text": [
      "2023-03-25 10:58:35,022 - distributed.utils_perf - WARNING - full garbage collections took 13% CPU time recently (threshold: 10%)\n"
     ]
    },
    {
     "name": "stderr",
     "output_type": "stream",
     "text": [
      "UserWarning: Distributing <class 'dict'> object. This may take some time.\n",
      "UserWarning: Group indices computation is not currently supported by PandasOnDask, defaulting to pandas implementation.\n"
     ]
    },
    {
     "name": "stderr",
     "output_type": "stream",
     "text": [
      "2023-03-25 10:58:42,096 - distributed.utils_perf - WARNING - full garbage collections took 13% CPU time recently (threshold: 10%)\n"
     ]
    },
    {
     "name": "stderr",
     "output_type": "stream",
     "text": [
      "2023-03-25 10:58:49,315 - distributed.utils_perf - WARNING - full garbage collections took 13% CPU time recently (threshold: 10%)\n"
     ]
    },
    {
     "name": "stderr",
     "output_type": "stream",
     "text": [
      "UserWarning: Distributing <class 'dict'> object. This may take some time.\n"
     ]
    },
    {
     "name": "stderr",
     "output_type": "stream",
     "text": [
      "UserWarning: Group indices computation is not currently supported by PandasOnDask, defaulting to pandas implementation.\n"
     ]
    },
    {
     "name": "stderr",
     "output_type": "stream",
     "text": [
      "2023-03-25 10:58:56,339 - distributed.utils_perf - WARNING - full garbage collections took 13% CPU time recently (threshold: 10%)\n"
     ]
    },
    {
     "name": "stderr",
     "output_type": "stream",
     "text": [
      "2023-03-25 10:59:03,334 - distributed.utils_perf - WARNING - full garbage collections took 13% CPU time recently (threshold: 10%)\n"
     ]
    },
    {
     "name": "stderr",
     "output_type": "stream",
     "text": [
      "UserWarning: Distributing <class 'dict'> object. This may take some time.\n",
      "UserWarning: Group indices computation is not currently supported by PandasOnDask, defaulting to pandas implementation.\n"
     ]
    },
    {
     "name": "stderr",
     "output_type": "stream",
     "text": [
      "2023-03-25 10:59:10,346 - distributed.utils_perf - WARNING - full garbage collections took 13% CPU time recently (threshold: 10%)\n"
     ]
    },
    {
     "name": "stderr",
     "output_type": "stream",
     "text": [
      "2023-03-25 10:59:17,428 - distributed.utils_perf - WARNING - full garbage collections took 13% CPU time recently (threshold: 10%)\n"
     ]
    },
    {
     "name": "stderr",
     "output_type": "stream",
     "text": [
      "RuntimeWarning: divide by zero encountered in log\n",
      "UserWarning: Distributing <class 'dict'> object. This may take some time.\n",
      "UserWarning: Group indices computation is not currently supported by PandasOnDask, defaulting to pandas implementation.\n"
     ]
    },
    {
     "name": "stderr",
     "output_type": "stream",
     "text": [
      "2023-03-25 10:59:24,610 - distributed.utils_perf - WARNING - full garbage collections took 13% CPU time recently (threshold: 10%)\n"
     ]
    },
    {
     "name": "stderr",
     "output_type": "stream",
     "text": [
      "2023-03-25 10:59:27,006 - distributed.worker - ERROR - Exception during execution of task lambda-08407625edd0554e5146f7ce1b3852e6.\n",
      "Traceback (most recent call last):\n",
      "  File \"/opt/conda/lib/python3.10/site-packages/distributed/worker.py\", line 2390, in _prepare_args_for_execution\n",
      "    data[k] = self.data[k]\n",
      "  File \"/opt/conda/lib/python3.10/site-packages/distributed/spill.py\", line 245, in __getitem__\n",
      "    return super().__getitem__(key)\n",
      "  File \"/opt/conda/lib/python3.10/site-packages/zict/buffer.py\", line 108, in __getitem__\n",
      "    raise KeyError(key)\n",
      "KeyError: '_deploy_dask_func-bb0cf334-e94d-4648-92a5-59a3093e4ee6'\n",
      "\n",
      "During handling of the above exception, another exception occurred:\n",
      "\n",
      "Traceback (most recent call last):\n",
      "  File \"/opt/conda/lib/python3.10/site-packages/distributed/worker.py\", line 2271, in execute\n",
      "    args2, kwargs2 = self._prepare_args_for_execution(ts, args, kwargs)\n",
      "  File \"/opt/conda/lib/python3.10/site-packages/distributed/worker.py\", line 2394, in _prepare_args_for_execution\n",
      "    data[k] = Actor(type(self.state.actors[k]), self.address, k, self)\n",
      "KeyError: '_deploy_dask_func-bb0cf334-e94d-4648-92a5-59a3093e4ee6'\n"
     ]
    },
    {
     "name": "stderr",
     "output_type": "stream",
     "text": [
      "UserWarning: Distributing <class 'dict'> object. This may take some time.\n",
      "UserWarning: Group indices computation is not currently supported by PandasOnDask, defaulting to pandas implementation.\n"
     ]
    },
    {
     "name": "stderr",
     "output_type": "stream",
     "text": [
      "2023-03-25 10:59:32,187 - distributed.utils_perf - WARNING - full garbage collections took 13% CPU time recently (threshold: 10%)\n"
     ]
    },
    {
     "name": "stderr",
     "output_type": "stream",
     "text": [
      "2023-03-25 10:59:34,107 - distributed.worker - ERROR - Exception during execution of task lambda-3a4c7f1ae3a5acc5863958e9fc5e07b8.\n",
      "Traceback (most recent call last):\n",
      "  File \"/opt/conda/lib/python3.10/site-packages/distributed/worker.py\", line 2390, in _prepare_args_for_execution\n",
      "    data[k] = self.data[k]\n",
      "  File \"/opt/conda/lib/python3.10/site-packages/distributed/spill.py\", line 245, in __getitem__\n",
      "    return super().__getitem__(key)\n",
      "  File \"/opt/conda/lib/python3.10/site-packages/zict/buffer.py\", line 108, in __getitem__\n",
      "    raise KeyError(key)\n",
      "KeyError: '_deploy_dask_func-1489d66a-e823-498c-abe9-f27e1b253cb9'\n",
      "\n",
      "During handling of the above exception, another exception occurred:\n",
      "\n",
      "Traceback (most recent call last):\n",
      "  File \"/opt/conda/lib/python3.10/site-packages/distributed/worker.py\", line 2271, in execute\n",
      "    args2, kwargs2 = self._prepare_args_for_execution(ts, args, kwargs)\n",
      "  File \"/opt/conda/lib/python3.10/site-packages/distributed/worker.py\", line 2394, in _prepare_args_for_execution\n",
      "    data[k] = Actor(type(self.state.actors[k]), self.address, k, self)\n",
      "KeyError: '_deploy_dask_func-1489d66a-e823-498c-abe9-f27e1b253cb9'\n"
     ]
    },
    {
     "name": "stderr",
     "output_type": "stream",
     "text": [
      "2023-03-25 10:59:39,123 - distributed.utils_perf - WARNING - full garbage collections took 13% CPU time recently (threshold: 10%)\n"
     ]
    },
    {
     "name": "stderr",
     "output_type": "stream",
     "text": [
      "UserWarning: Distributing <class 'dict'> object. This may take some time.\n",
      "UserWarning: Group indices computation is not currently supported by PandasOnDask, defaulting to pandas implementation.\n"
     ]
    },
    {
     "name": "stderr",
     "output_type": "stream",
     "text": [
      "2023-03-25 10:59:46,932 - distributed.utils_perf - WARNING - full garbage collections took 13% CPU time recently (threshold: 10%)\n"
     ]
    },
    {
     "name": "stderr",
     "output_type": "stream",
     "text": [
      "2023-03-25 10:59:49,016 - distributed.worker - ERROR - Exception during execution of task lambda-ff4f81f95e1ecc00a8a4a71c7cb2aad7.\n",
      "Traceback (most recent call last):\n",
      "  File \"/opt/conda/lib/python3.10/site-packages/distributed/worker.py\", line 2390, in _prepare_args_for_execution\n",
      "    data[k] = self.data[k]\n",
      "  File \"/opt/conda/lib/python3.10/site-packages/distributed/spill.py\", line 245, in __getitem__\n",
      "    return super().__getitem__(key)\n",
      "  File \"/opt/conda/lib/python3.10/site-packages/zict/buffer.py\", line 108, in __getitem__\n",
      "    raise KeyError(key)\n",
      "KeyError: '_deploy_dask_func-745b376f-bd9b-4f34-baa3-e3d35c14a55b'\n",
      "\n",
      "During handling of the above exception, another exception occurred:\n",
      "\n",
      "Traceback (most recent call last):\n",
      "  File \"/opt/conda/lib/python3.10/site-packages/distributed/worker.py\", line 2271, in execute\n",
      "    args2, kwargs2 = self._prepare_args_for_execution(ts, args, kwargs)\n",
      "  File \"/opt/conda/lib/python3.10/site-packages/distributed/worker.py\", line 2394, in _prepare_args_for_execution\n",
      "    data[k] = Actor(type(self.state.actors[k]), self.address, k, self)\n",
      "KeyError: '_deploy_dask_func-745b376f-bd9b-4f34-baa3-e3d35c14a55b'\n"
     ]
    },
    {
     "name": "stderr",
     "output_type": "stream",
     "text": [
      "UserWarning: Distributing <class 'dict'> object. This may take some time.\n",
      "UserWarning: Group indices computation is not currently supported by PandasOnDask, defaulting to pandas implementation.\n"
     ]
    },
    {
     "name": "stderr",
     "output_type": "stream",
     "text": [
      "2023-03-25 10:59:54,185 - distributed.utils_perf - WARNING - full garbage collections took 12% CPU time recently (threshold: 10%)\n"
     ]
    },
    {
     "name": "stderr",
     "output_type": "stream",
     "text": [
      "2023-03-25 11:00:01,691 - distributed.utils_perf - WARNING - full garbage collections took 12% CPU time recently (threshold: 10%)\n"
     ]
    },
    {
     "name": "stderr",
     "output_type": "stream",
     "text": [
      "2023-03-25 11:00:04,698 - distributed.worker - ERROR - Exception during execution of task lambda-875aecbc64874b51d9c5e8743a3988b7.\n",
      "Traceback (most recent call last):\n",
      "  File \"/opt/conda/lib/python3.10/site-packages/distributed/worker.py\", line 2390, in _prepare_args_for_execution\n",
      "    data[k] = self.data[k]\n",
      "  File \"/opt/conda/lib/python3.10/site-packages/distributed/spill.py\", line 245, in __getitem__\n",
      "    return super().__getitem__(key)\n",
      "  File \"/opt/conda/lib/python3.10/site-packages/zict/buffer.py\", line 108, in __getitem__\n",
      "    raise KeyError(key)\n",
      "KeyError: '_deploy_dask_func-3f80ce5b-6318-4dde-9c10-79c34076fd56'\n",
      "\n",
      "During handling of the above exception, another exception occurred:\n",
      "\n",
      "Traceback (most recent call last):\n",
      "  File \"/opt/conda/lib/python3.10/site-packages/distributed/worker.py\", line 2271, in execute\n",
      "    args2, kwargs2 = self._prepare_args_for_execution(ts, args, kwargs)\n",
      "  File \"/opt/conda/lib/python3.10/site-packages/distributed/worker.py\", line 2394, in _prepare_args_for_execution\n",
      "    data[k] = Actor(type(self.state.actors[k]), self.address, k, self)\n",
      "KeyError: '_deploy_dask_func-3f80ce5b-6318-4dde-9c10-79c34076fd56'\n"
     ]
    },
    {
     "name": "stderr",
     "output_type": "stream",
     "text": [
      "RuntimeWarning: divide by zero encountered in log\n",
      "UserWarning: Distributing <class 'dict'> object. This may take some time.\n",
      "UserWarning: Group indices computation is not currently supported by PandasOnDask, defaulting to pandas implementation.\n"
     ]
    },
    {
     "name": "stderr",
     "output_type": "stream",
     "text": [
      "2023-03-25 11:00:09,553 - distributed.utils_perf - WARNING - full garbage collections took 12% CPU time recently (threshold: 10%)\n"
     ]
    },
    {
     "name": "stderr",
     "output_type": "stream",
     "text": [
      "2023-03-25 11:00:16,942 - distributed.utils_perf - WARNING - full garbage collections took 12% CPU time recently (threshold: 10%)\n"
     ]
    },
    {
     "name": "stderr",
     "output_type": "stream",
     "text": [
      "UserWarning: Distributing <class 'dict'> object. This may take some time.\n",
      "UserWarning: Group indices computation is not currently supported by PandasOnDask, defaulting to pandas implementation.\n"
     ]
    },
    {
     "name": "stderr",
     "output_type": "stream",
     "text": [
      "2023-03-25 11:00:23,989 - distributed.utils_perf - WARNING - full garbage collections took 12% CPU time recently (threshold: 10%)\n"
     ]
    },
    {
     "name": "stderr",
     "output_type": "stream",
     "text": [
      "UserWarning: Distributing <class 'dict'> object. This may take some time.\n"
     ]
    },
    {
     "name": "stdout",
     "output_type": "stream",
     "text": [
      "0.9\n"
     ]
    },
    {
     "name": "stderr",
     "output_type": "stream",
     "text": [
      "2023-03-25 11:00:32,329 - distributed.utils_perf - WARNING - full garbage collections took 12% CPU time recently (threshold: 10%)\n"
     ]
    },
    {
     "name": "stderr",
     "output_type": "stream",
     "text": [
      "2023-03-25 11:00:38,609 - distributed.utils_perf - WARNING - full garbage collections took 12% CPU time recently (threshold: 10%)\n"
     ]
    },
    {
     "name": "stderr",
     "output_type": "stream",
     "text": [
      "UserWarning: `DataFrame.groupby_on_multiple_columns` is not currently supported by PandasOnDask, defaulting to pandas implementation.\n"
     ]
    },
    {
     "name": "stderr",
     "output_type": "stream",
     "text": [
      "2023-03-25 11:00:44,768 - distributed.utils_perf - WARNING - full garbage collections took 12% CPU time recently (threshold: 10%)\n"
     ]
    },
    {
     "name": "stderr",
     "output_type": "stream",
     "text": [
      "2023-03-25 11:00:50,588 - distributed.utils_perf - WARNING - full garbage collections took 12% CPU time recently (threshold: 10%)\n"
     ]
    },
    {
     "name": "stderr",
     "output_type": "stream",
     "text": [
      "FutureWarning: The `squeeze` parameter is deprecated and will be removed in a future version.\n"
     ]
    },
    {
     "name": "stderr",
     "output_type": "stream",
     "text": [
      "UserWarning: Distributing <class 'pandas.core.frame.DataFrame'> object. This may take some time.\n",
      "UserWarning: Group indices computation is not currently supported by PandasOnDask, defaulting to pandas implementation.\n"
     ]
    },
    {
     "name": "stderr",
     "output_type": "stream",
     "text": [
      "2023-03-25 11:00:58,085 - distributed.utils_perf - WARNING - full garbage collections took 12% CPU time recently (threshold: 10%)\n"
     ]
    },
    {
     "name": "stderr",
     "output_type": "stream",
     "text": [
      "2023-03-25 11:00:59,258 - distributed.worker - ERROR - Exception during execution of task lambda-eff007973a07b3532d4f3e33df28731a.\n",
      "Traceback (most recent call last):\n",
      "  File \"/opt/conda/lib/python3.10/site-packages/distributed/worker.py\", line 2390, in _prepare_args_for_execution\n",
      "    data[k] = self.data[k]\n",
      "  File \"/opt/conda/lib/python3.10/site-packages/distributed/spill.py\", line 245, in __getitem__\n",
      "    return super().__getitem__(key)\n",
      "  File \"/opt/conda/lib/python3.10/site-packages/zict/buffer.py\", line 108, in __getitem__\n",
      "    raise KeyError(key)\n",
      "KeyError: '_deploy_dask_func-ec3ad0ea-0f9d-45dd-ba96-5d1e58110fd5'\n",
      "\n",
      "During handling of the above exception, another exception occurred:\n",
      "\n",
      "Traceback (most recent call last):\n",
      "  File \"/opt/conda/lib/python3.10/site-packages/distributed/worker.py\", line 2271, in execute\n",
      "    args2, kwargs2 = self._prepare_args_for_execution(ts, args, kwargs)\n",
      "  File \"/opt/conda/lib/python3.10/site-packages/distributed/worker.py\", line 2394, in _prepare_args_for_execution\n",
      "    data[k] = Actor(type(self.state.actors[k]), self.address, k, self)\n",
      "KeyError: '_deploy_dask_func-ec3ad0ea-0f9d-45dd-ba96-5d1e58110fd5'\n"
     ]
    },
    {
     "name": "stderr",
     "output_type": "stream",
     "text": [
      "RuntimeWarning: divide by zero encountered in log\n",
      "UserWarning: Distributing <class 'dict'> object. This may take some time.\n",
      "UserWarning: Group indices computation is not currently supported by PandasOnDask, defaulting to pandas implementation.\n"
     ]
    },
    {
     "name": "stderr",
     "output_type": "stream",
     "text": [
      "2023-03-25 11:01:05,485 - distributed.utils_perf - WARNING - full garbage collections took 12% CPU time recently (threshold: 10%)\n"
     ]
    },
    {
     "name": "stderr",
     "output_type": "stream",
     "text": [
      "UserWarning: Distributing <class 'dict'> object. This may take some time.\n"
     ]
    },
    {
     "name": "stderr",
     "output_type": "stream",
     "text": [
      "UserWarning: Group indices computation is not currently supported by PandasOnDask, defaulting to pandas implementation.\n"
     ]
    },
    {
     "name": "stderr",
     "output_type": "stream",
     "text": [
      "UserWarning: Distributing <class 'dict'> object. This may take some time.\n",
      "UserWarning: Group indices computation is not currently supported by PandasOnDask, defaulting to pandas implementation.\n"
     ]
    },
    {
     "name": "stderr",
     "output_type": "stream",
     "text": [
      "2023-03-25 11:01:11,483 - distributed.worker - WARNING - Could not find data: {'function-550156cf0b6b4fe4a119e7adfd98f86f': ['tcp://127.0.0.1:35815', 'tcp://127.0.0.1:38011', 'tcp://127.0.0.1:36241', 'tcp://127.0.0.1:44563', 'tcp://127.0.0.1:41809', 'tcp://127.0.0.1:33711', 'tcp://127.0.0.1:36811', 'tcp://127.0.0.1:40605', 'tcp://127.0.0.1:40033', 'tcp://127.0.0.1:38133', 'tcp://127.0.0.1:34599', 'tcp://127.0.0.1:34359', 'tcp://127.0.0.1:36147', 'tcp://127.0.0.1:36439', 'tcp://127.0.0.1:46033', 'tcp://127.0.0.1:34385', 'tcp://127.0.0.1:37039', 'tcp://127.0.0.1:46109', 'tcp://127.0.0.1:33893', 'tcp://127.0.0.1:44741', 'tcp://127.0.0.1:37881', 'tcp://127.0.0.1:40561', 'tcp://127.0.0.1:46255', 'tcp://127.0.0.1:40519', 'tcp://127.0.0.1:42723', 'tcp://127.0.0.1:38287', 'tcp://127.0.0.1:33725']} on workers: [] (who_has: {'function-550156cf0b6b4fe4a119e7adfd98f86f': ['tcp://127.0.0.1:35815', 'tcp://127.0.0.1:38011', 'tcp://127.0.0.1:36241', 'tcp://127.0.0.1:44563', 'tcp://127.0.0.1:41809', 'tcp://127.0.0.1:33711', 'tcp://127.0.0.1:36811', 'tcp://127.0.0.1:40605', 'tcp://127.0.0.1:40033', 'tcp://127.0.0.1:38133', 'tcp://127.0.0.1:34599', 'tcp://127.0.0.1:34359', 'tcp://127.0.0.1:36147', 'tcp://127.0.0.1:36439', 'tcp://127.0.0.1:46033', 'tcp://127.0.0.1:34385', 'tcp://127.0.0.1:37039', 'tcp://127.0.0.1:46109', 'tcp://127.0.0.1:33893', 'tcp://127.0.0.1:44741', 'tcp://127.0.0.1:37881', 'tcp://127.0.0.1:40561', 'tcp://127.0.0.1:46255', 'tcp://127.0.0.1:40519', 'tcp://127.0.0.1:42723', 'tcp://127.0.0.1:38287', 'tcp://127.0.0.1:33725']})\n",
      "2023-03-25 11:01:11,486 - distributed.scheduler - WARNING - Worker tcp://127.0.0.1:35325 failed to acquire keys: {'function-550156cf0b6b4fe4a119e7adfd98f86f': ('tcp://127.0.0.1:35815', 'tcp://127.0.0.1:38011', 'tcp://127.0.0.1:36241', 'tcp://127.0.0.1:44563', 'tcp://127.0.0.1:41809', 'tcp://127.0.0.1:33711', 'tcp://127.0.0.1:36811', 'tcp://127.0.0.1:40605', 'tcp://127.0.0.1:40033', 'tcp://127.0.0.1:38133', 'tcp://127.0.0.1:34599', 'tcp://127.0.0.1:34359', 'tcp://127.0.0.1:36147', 'tcp://127.0.0.1:36439', 'tcp://127.0.0.1:46033', 'tcp://127.0.0.1:34385', 'tcp://127.0.0.1:37039', 'tcp://127.0.0.1:46109', 'tcp://127.0.0.1:33893', 'tcp://127.0.0.1:44741', 'tcp://127.0.0.1:37881', 'tcp://127.0.0.1:40561', 'tcp://127.0.0.1:46255', 'tcp://127.0.0.1:40519', 'tcp://127.0.0.1:42723', 'tcp://127.0.0.1:38287', 'tcp://127.0.0.1:33725')}\n"
     ]
    },
    {
     "name": "stderr",
     "output_type": "stream",
     "text": [
      "2023-03-25 11:01:12,033 - distributed.worker - ERROR - Exception during execution of task lambda-58e1fa44a3ff0a4c0d935454aa4bd6ba.\n",
      "Traceback (most recent call last):\n",
      "  File \"/opt/conda/lib/python3.10/site-packages/distributed/worker.py\", line 2390, in _prepare_args_for_execution\n",
      "    data[k] = self.data[k]\n",
      "  File \"/opt/conda/lib/python3.10/site-packages/distributed/spill.py\", line 245, in __getitem__\n",
      "    return super().__getitem__(key)\n",
      "  File \"/opt/conda/lib/python3.10/site-packages/zict/buffer.py\", line 108, in __getitem__\n",
      "    raise KeyError(key)\n",
      "KeyError: '_deploy_dask_func-7a85ec48-7398-416d-9c47-db56fc882f3c'\n",
      "\n",
      "During handling of the above exception, another exception occurred:\n",
      "\n",
      "Traceback (most recent call last):\n",
      "  File \"/opt/conda/lib/python3.10/site-packages/distributed/worker.py\", line 2271, in execute\n",
      "    args2, kwargs2 = self._prepare_args_for_execution(ts, args, kwargs)\n",
      "  File \"/opt/conda/lib/python3.10/site-packages/distributed/worker.py\", line 2394, in _prepare_args_for_execution\n",
      "    data[k] = Actor(type(self.state.actors[k]), self.address, k, self)\n",
      "KeyError: '_deploy_dask_func-7a85ec48-7398-416d-9c47-db56fc882f3c'\n"
     ]
    },
    {
     "name": "stderr",
     "output_type": "stream",
     "text": [
      "2023-03-25 11:01:13,797 - distributed.utils_perf - WARNING - full garbage collections took 12% CPU time recently (threshold: 10%)\n"
     ]
    },
    {
     "name": "stderr",
     "output_type": "stream",
     "text": [
      "RuntimeWarning: divide by zero encountered in log\n"
     ]
    },
    {
     "name": "stderr",
     "output_type": "stream",
     "text": [
      "UserWarning: Distributing <class 'dict'> object. This may take some time.\n",
      "UserWarning: Group indices computation is not currently supported by PandasOnDask, defaulting to pandas implementation.\n"
     ]
    },
    {
     "name": "stderr",
     "output_type": "stream",
     "text": [
      "2023-03-25 11:01:22,316 - distributed.utils_perf - WARNING - full garbage collections took 12% CPU time recently (threshold: 10%)\n"
     ]
    },
    {
     "name": "stderr",
     "output_type": "stream",
     "text": [
      "UserWarning: Distributing <class 'dict'> object. This may take some time.\n",
      "UserWarning: Group indices computation is not currently supported by PandasOnDask, defaulting to pandas implementation.\n"
     ]
    },
    {
     "name": "stderr",
     "output_type": "stream",
     "text": [
      "UserWarning: Distributing <class 'dict'> object. This may take some time.\n",
      "UserWarning: Group indices computation is not currently supported by PandasOnDask, defaulting to pandas implementation.\n"
     ]
    },
    {
     "name": "stderr",
     "output_type": "stream",
     "text": [
      "2023-03-25 11:01:30,449 - distributed.utils_perf - WARNING - full garbage collections took 12% CPU time recently (threshold: 10%)\n"
     ]
    },
    {
     "name": "stderr",
     "output_type": "stream",
     "text": [
      "2023-03-25 11:01:33,735 - distributed.worker - ERROR - Exception during execution of task lambda-48269409d7e1897e2e304a7a901d4974.\n",
      "Traceback (most recent call last):\n",
      "  File \"/opt/conda/lib/python3.10/site-packages/distributed/worker.py\", line 2390, in _prepare_args_for_execution\n",
      "    data[k] = self.data[k]\n",
      "  File \"/opt/conda/lib/python3.10/site-packages/distributed/spill.py\", line 245, in __getitem__\n",
      "    return super().__getitem__(key)\n",
      "  File \"/opt/conda/lib/python3.10/site-packages/zict/buffer.py\", line 108, in __getitem__\n",
      "    raise KeyError(key)\n",
      "KeyError: '_deploy_dask_func-2f7a2e37-3807-40aa-811e-25e6d2a25873'\n",
      "\n",
      "During handling of the above exception, another exception occurred:\n",
      "\n",
      "Traceback (most recent call last):\n",
      "  File \"/opt/conda/lib/python3.10/site-packages/distributed/worker.py\", line 2271, in execute\n",
      "    args2, kwargs2 = self._prepare_args_for_execution(ts, args, kwargs)\n",
      "  File \"/opt/conda/lib/python3.10/site-packages/distributed/worker.py\", line 2394, in _prepare_args_for_execution\n",
      "    data[k] = Actor(type(self.state.actors[k]), self.address, k, self)\n",
      "KeyError: '_deploy_dask_func-2f7a2e37-3807-40aa-811e-25e6d2a25873'\n"
     ]
    },
    {
     "name": "stderr",
     "output_type": "stream",
     "text": [
      "RuntimeWarning: divide by zero encountered in log\n"
     ]
    },
    {
     "name": "stderr",
     "output_type": "stream",
     "text": [
      "UserWarning: Distributing <class 'dict'> object. This may take some time.\n",
      "UserWarning: Group indices computation is not currently supported by PandasOnDask, defaulting to pandas implementation.\n"
     ]
    },
    {
     "name": "stderr",
     "output_type": "stream",
     "text": [
      "2023-03-25 11:01:38,488 - distributed.utils_perf - WARNING - full garbage collections took 12% CPU time recently (threshold: 10%)\n"
     ]
    },
    {
     "name": "stderr",
     "output_type": "stream",
     "text": [
      "2023-03-25 11:01:40,757 - distributed.worker - ERROR - Exception during execution of task lambda-d7e0f3bb71a11bb22e073e01e36b406c.\n",
      "Traceback (most recent call last):\n",
      "  File \"/opt/conda/lib/python3.10/site-packages/distributed/worker.py\", line 2390, in _prepare_args_for_execution\n",
      "    data[k] = self.data[k]\n",
      "  File \"/opt/conda/lib/python3.10/site-packages/distributed/spill.py\", line 245, in __getitem__\n",
      "    return super().__getitem__(key)\n",
      "  File \"/opt/conda/lib/python3.10/site-packages/zict/buffer.py\", line 108, in __getitem__\n",
      "    raise KeyError(key)\n",
      "KeyError: '_deploy_dask_func-a1d77aff-ad65-4de2-907b-e1dc70812c3e'\n",
      "\n",
      "During handling of the above exception, another exception occurred:\n",
      "\n",
      "Traceback (most recent call last):\n",
      "  File \"/opt/conda/lib/python3.10/site-packages/distributed/worker.py\", line 2271, in execute\n",
      "    args2, kwargs2 = self._prepare_args_for_execution(ts, args, kwargs)\n",
      "  File \"/opt/conda/lib/python3.10/site-packages/distributed/worker.py\", line 2394, in _prepare_args_for_execution\n",
      "    data[k] = Actor(type(self.state.actors[k]), self.address, k, self)\n",
      "KeyError: '_deploy_dask_func-a1d77aff-ad65-4de2-907b-e1dc70812c3e'\n"
     ]
    },
    {
     "name": "stderr",
     "output_type": "stream",
     "text": [
      "UserWarning: Distributing <class 'dict'> object. This may take some time.\n",
      "UserWarning: Group indices computation is not currently supported by PandasOnDask, defaulting to pandas implementation.\n"
     ]
    },
    {
     "name": "stderr",
     "output_type": "stream",
     "text": [
      "2023-03-25 11:01:42,855 - distributed.worker - ERROR - Exception during execution of task lambda-e4804efd984008c2b488658ee70f7a98.\n",
      "Traceback (most recent call last):\n",
      "  File \"/opt/conda/lib/python3.10/site-packages/distributed/worker.py\", line 2390, in _prepare_args_for_execution\n",
      "    data[k] = self.data[k]\n",
      "  File \"/opt/conda/lib/python3.10/site-packages/distributed/spill.py\", line 245, in __getitem__\n",
      "    return super().__getitem__(key)\n",
      "  File \"/opt/conda/lib/python3.10/site-packages/zict/buffer.py\", line 108, in __getitem__\n",
      "    raise KeyError(key)\n",
      "KeyError: '_deploy_dask_func-944a4ad0-a3ff-4750-9b03-ed90f6b02c34'\n",
      "\n",
      "During handling of the above exception, another exception occurred:\n",
      "\n",
      "Traceback (most recent call last):\n",
      "  File \"/opt/conda/lib/python3.10/site-packages/distributed/worker.py\", line 2271, in execute\n",
      "    args2, kwargs2 = self._prepare_args_for_execution(ts, args, kwargs)\n",
      "  File \"/opt/conda/lib/python3.10/site-packages/distributed/worker.py\", line 2394, in _prepare_args_for_execution\n",
      "    data[k] = Actor(type(self.state.actors[k]), self.address, k, self)\n",
      "KeyError: '_deploy_dask_func-944a4ad0-a3ff-4750-9b03-ed90f6b02c34'\n"
     ]
    },
    {
     "name": "stderr",
     "output_type": "stream",
     "text": [
      "RuntimeWarning: divide by zero encountered in log\n"
     ]
    },
    {
     "name": "stderr",
     "output_type": "stream",
     "text": [
      "2023-03-25 11:01:46,959 - distributed.utils_perf - WARNING - full garbage collections took 12% CPU time recently (threshold: 10%)\n"
     ]
    },
    {
     "name": "stderr",
     "output_type": "stream",
     "text": [
      "2023-03-25 11:01:50,523 - distributed.worker - ERROR - Exception during execution of task lambda-73725f8de66467afa8720d221c484572.\n",
      "Traceback (most recent call last):\n",
      "  File \"/opt/conda/lib/python3.10/site-packages/distributed/worker.py\", line 2390, in _prepare_args_for_execution\n",
      "    data[k] = self.data[k]\n",
      "  File \"/opt/conda/lib/python3.10/site-packages/distributed/spill.py\", line 245, in __getitem__\n",
      "    return super().__getitem__(key)\n",
      "  File \"/opt/conda/lib/python3.10/site-packages/zict/buffer.py\", line 108, in __getitem__\n",
      "    raise KeyError(key)\n",
      "KeyError: '_deploy_dask_func-91cccc25-b60d-46b2-9d0c-3522a1da4e22'\n",
      "\n",
      "During handling of the above exception, another exception occurred:\n",
      "\n",
      "Traceback (most recent call last):\n",
      "  File \"/opt/conda/lib/python3.10/site-packages/distributed/worker.py\", line 2271, in execute\n",
      "    args2, kwargs2 = self._prepare_args_for_execution(ts, args, kwargs)\n",
      "  File \"/opt/conda/lib/python3.10/site-packages/distributed/worker.py\", line 2394, in _prepare_args_for_execution\n",
      "    data[k] = Actor(type(self.state.actors[k]), self.address, k, self)\n",
      "KeyError: '_deploy_dask_func-91cccc25-b60d-46b2-9d0c-3522a1da4e22'\n"
     ]
    },
    {
     "name": "stderr",
     "output_type": "stream",
     "text": [
      "RuntimeWarning: divide by zero encountered in log\n",
      "UserWarning: Distributing <class 'dict'> object. This may take some time.\n",
      "UserWarning: Group indices computation is not currently supported by PandasOnDask, defaulting to pandas implementation.\n"
     ]
    },
    {
     "name": "stderr",
     "output_type": "stream",
     "text": [
      "2023-03-25 11:01:54,959 - distributed.utils_perf - WARNING - full garbage collections took 12% CPU time recently (threshold: 10%)\n"
     ]
    },
    {
     "name": "stderr",
     "output_type": "stream",
     "text": [
      "UserWarning: Distributing <class 'dict'> object. This may take some time.\n",
      "UserWarning: Group indices computation is not currently supported by PandasOnDask, defaulting to pandas implementation.\n"
     ]
    },
    {
     "name": "stderr",
     "output_type": "stream",
     "text": [
      "2023-03-25 11:01:58,907 - distributed.worker - ERROR - Exception during execution of task lambda-7add3704f019e8060dc6355f4f5e54cd.\n",
      "Traceback (most recent call last):\n",
      "  File \"/opt/conda/lib/python3.10/site-packages/distributed/worker.py\", line 2390, in _prepare_args_for_execution\n",
      "    data[k] = self.data[k]\n",
      "  File \"/opt/conda/lib/python3.10/site-packages/distributed/spill.py\", line 245, in __getitem__\n",
      "    return super().__getitem__(key)\n",
      "  File \"/opt/conda/lib/python3.10/site-packages/zict/buffer.py\", line 108, in __getitem__\n",
      "    raise KeyError(key)\n",
      "KeyError: 'apply_func-acd1ea36-4b77-4ab5-ad71-a8642d55efea'\n",
      "\n",
      "During handling of the above exception, another exception occurred:\n",
      "\n",
      "Traceback (most recent call last):\n",
      "  File \"/opt/conda/lib/python3.10/site-packages/distributed/worker.py\", line 2271, in execute\n",
      "    args2, kwargs2 = self._prepare_args_for_execution(ts, args, kwargs)\n",
      "  File \"/opt/conda/lib/python3.10/site-packages/distributed/worker.py\", line 2394, in _prepare_args_for_execution\n",
      "    data[k] = Actor(type(self.state.actors[k]), self.address, k, self)\n",
      "KeyError: 'apply_func-acd1ea36-4b77-4ab5-ad71-a8642d55efea'\n"
     ]
    },
    {
     "name": "stderr",
     "output_type": "stream",
     "text": [
      "RuntimeWarning: divide by zero encountered in log\n"
     ]
    },
    {
     "name": "stderr",
     "output_type": "stream",
     "text": [
      "2023-03-25 11:02:03,771 - distributed.utils_perf - WARNING - full garbage collections took 12% CPU time recently (threshold: 10%)\n"
     ]
    },
    {
     "name": "stderr",
     "output_type": "stream",
     "text": [
      "RuntimeWarning: divide by zero encountered in log\n",
      "UserWarning: Distributing <class 'dict'> object. This may take some time.\n",
      "UserWarning: Group indices computation is not currently supported by PandasOnDask, defaulting to pandas implementation.\n"
     ]
    },
    {
     "name": "stderr",
     "output_type": "stream",
     "text": [
      "2023-03-25 11:02:06,963 - distributed.worker - ERROR - Exception during execution of task lambda-1e8a9273123281370d9dbaede6cbdf40.\n",
      "Traceback (most recent call last):\n",
      "  File \"/opt/conda/lib/python3.10/site-packages/distributed/worker.py\", line 2390, in _prepare_args_for_execution\n",
      "    data[k] = self.data[k]\n",
      "  File \"/opt/conda/lib/python3.10/site-packages/distributed/spill.py\", line 245, in __getitem__\n",
      "    return super().__getitem__(key)\n",
      "  File \"/opt/conda/lib/python3.10/site-packages/zict/buffer.py\", line 108, in __getitem__\n",
      "    raise KeyError(key)\n",
      "KeyError: '_deploy_dask_func-f1ccf45d-f9f2-4483-b227-6bec6ad932ff'\n",
      "\n",
      "During handling of the above exception, another exception occurred:\n",
      "\n",
      "Traceback (most recent call last):\n",
      "  File \"/opt/conda/lib/python3.10/site-packages/distributed/worker.py\", line 2271, in execute\n",
      "    args2, kwargs2 = self._prepare_args_for_execution(ts, args, kwargs)\n",
      "  File \"/opt/conda/lib/python3.10/site-packages/distributed/worker.py\", line 2394, in _prepare_args_for_execution\n",
      "    data[k] = Actor(type(self.state.actors[k]), self.address, k, self)\n",
      "KeyError: '_deploy_dask_func-f1ccf45d-f9f2-4483-b227-6bec6ad932ff'\n"
     ]
    },
    {
     "name": "stderr",
     "output_type": "stream",
     "text": [
      "2023-03-25 11:02:09,362 - distributed.worker - ERROR - Exception during execution of task lambda-2c3289ddd522b8c19b284ba926a50e2d.\n",
      "Traceback (most recent call last):\n",
      "  File \"/opt/conda/lib/python3.10/site-packages/distributed/worker.py\", line 2390, in _prepare_args_for_execution\n",
      "    data[k] = self.data[k]\n",
      "  File \"/opt/conda/lib/python3.10/site-packages/distributed/spill.py\", line 245, in __getitem__\n",
      "    return super().__getitem__(key)\n",
      "  File \"/opt/conda/lib/python3.10/site-packages/zict/buffer.py\", line 108, in __getitem__\n",
      "    raise KeyError(key)\n",
      "KeyError: '_deploy_dask_func-43ef466e-bf72-4547-8ee1-eb8059f35489'\n",
      "\n",
      "During handling of the above exception, another exception occurred:\n",
      "\n",
      "Traceback (most recent call last):\n",
      "  File \"/opt/conda/lib/python3.10/site-packages/distributed/worker.py\", line 2271, in execute\n",
      "    args2, kwargs2 = self._prepare_args_for_execution(ts, args, kwargs)\n",
      "  File \"/opt/conda/lib/python3.10/site-packages/distributed/worker.py\", line 2394, in _prepare_args_for_execution\n",
      "    data[k] = Actor(type(self.state.actors[k]), self.address, k, self)\n",
      "KeyError: '_deploy_dask_func-43ef466e-bf72-4547-8ee1-eb8059f35489'\n"
     ]
    },
    {
     "name": "stderr",
     "output_type": "stream",
     "text": [
      "UserWarning: Distributing <class 'dict'> object. This may take some time.\n",
      "UserWarning: Group indices computation is not currently supported by PandasOnDask, defaulting to pandas implementation.\n"
     ]
    },
    {
     "name": "stderr",
     "output_type": "stream",
     "text": [
      "2023-03-25 11:02:12,473 - distributed.utils_perf - WARNING - full garbage collections took 12% CPU time recently (threshold: 10%)\n"
     ]
    },
    {
     "name": "stderr",
     "output_type": "stream",
     "text": [
      "UserWarning: Distributing <class 'dict'> object. This may take some time.\n",
      "UserWarning: Group indices computation is not currently supported by PandasOnDask, defaulting to pandas implementation.\n"
     ]
    },
    {
     "name": "stderr",
     "output_type": "stream",
     "text": [
      "UserWarning: `Series.to_numpy` for empty DataFrame is not currently supported by PandasOnDask, defaulting to pandas implementation.\n"
     ]
    },
    {
     "name": "stderr",
     "output_type": "stream",
     "text": [
      "UserWarning: `Series.to_numpy` for empty DataFrame is not currently supported by PandasOnDask, defaulting to pandas implementation.\n"
     ]
    },
    {
     "name": "stderr",
     "output_type": "stream",
     "text": [
      "2023-03-25 11:02:20,708 - distributed.utils_perf - WARNING - full garbage collections took 12% CPU time recently (threshold: 10%)\n"
     ]
    },
    {
     "name": "stderr",
     "output_type": "stream",
     "text": [
      "UserWarning: Distributing <class 'dict'> object. This may take some time.\n",
      "UserWarning: Group indices computation is not currently supported by PandasOnDask, defaulting to pandas implementation.\n"
     ]
    },
    {
     "name": "stderr",
     "output_type": "stream",
     "text": [
      "UserWarning: Distributing <class 'dict'> object. This may take some time.\n",
      "UserWarning: Group indices computation is not currently supported by PandasOnDask, defaulting to pandas implementation.\n"
     ]
    },
    {
     "name": "stderr",
     "output_type": "stream",
     "text": [
      "2023-03-25 11:02:29,346 - distributed.utils_perf - WARNING - full garbage collections took 11% CPU time recently (threshold: 10%)\n"
     ]
    },
    {
     "name": "stderr",
     "output_type": "stream",
     "text": [
      "UserWarning: Distributing <class 'dict'> object. This may take some time.\n",
      "UserWarning: Group indices computation is not currently supported by PandasOnDask, defaulting to pandas implementation.\n",
      "2023-03-25 11:02:32,813 - distributed.worker - ERROR - Exception during execution of task lambda-a898bb208bfe35d6d0956b7aa10ac26f.\n",
      "Traceback (most recent call last):\n",
      "  File \"/opt/conda/lib/python3.10/site-packages/distributed/worker.py\", line 2390, in _prepare_args_for_execution\n",
      "    data[k] = self.data[k]\n",
      "  File \"/opt/conda/lib/python3.10/site-packages/distributed/spill.py\", line 245, in __getitem__\n",
      "    return super().__getitem__(key)\n",
      "  File \"/opt/conda/lib/python3.10/site-packages/zict/buffer.py\", line 108, in __getitem__\n",
      "    raise KeyError(key)\n",
      "KeyError: 'apply_func-0c69dfdf-ff51-424b-9fa2-2c484d3157b9'\n",
      "\n",
      "During handling of the above exception, another exception occurred:\n",
      "\n",
      "Traceback (most recent call last):\n",
      "  File \"/opt/conda/lib/python3.10/site-packages/distributed/worker.py\", line 2271, in execute\n",
      "    args2, kwargs2 = self._prepare_args_for_execution(ts, args, kwargs)\n",
      "  File \"/opt/conda/lib/python3.10/site-packages/distributed/worker.py\", line 2394, in _prepare_args_for_execution\n",
      "    data[k] = Actor(type(self.state.actors[k]), self.address, k, self)\n",
      "KeyError: 'apply_func-0c69dfdf-ff51-424b-9fa2-2c484d3157b9'\n"
     ]
    },
    {
     "name": "stderr",
     "output_type": "stream",
     "text": [
      "2023-03-25 11:02:33,843 - distributed.worker - ERROR - Exception during execution of task lambda-a3d5fcb455623cdcaf6a4bbdc5d2c35a.\n",
      "Traceback (most recent call last):\n",
      "  File \"/opt/conda/lib/python3.10/site-packages/distributed/worker.py\", line 2390, in _prepare_args_for_execution\n",
      "    data[k] = self.data[k]\n",
      "  File \"/opt/conda/lib/python3.10/site-packages/distributed/spill.py\", line 245, in __getitem__\n",
      "    return super().__getitem__(key)\n",
      "  File \"/opt/conda/lib/python3.10/site-packages/zict/buffer.py\", line 108, in __getitem__\n",
      "    raise KeyError(key)\n",
      "KeyError: '_deploy_dask_func-6ad3bc0a-fbd7-416d-abc1-9f1f1b21dbc5'\n",
      "\n",
      "During handling of the above exception, another exception occurred:\n",
      "\n",
      "Traceback (most recent call last):\n",
      "  File \"/opt/conda/lib/python3.10/site-packages/distributed/worker.py\", line 2271, in execute\n",
      "    args2, kwargs2 = self._prepare_args_for_execution(ts, args, kwargs)\n",
      "  File \"/opt/conda/lib/python3.10/site-packages/distributed/worker.py\", line 2394, in _prepare_args_for_execution\n",
      "    data[k] = Actor(type(self.state.actors[k]), self.address, k, self)\n",
      "KeyError: '_deploy_dask_func-6ad3bc0a-fbd7-416d-abc1-9f1f1b21dbc5'\n"
     ]
    },
    {
     "name": "stderr",
     "output_type": "stream",
     "text": [
      "2023-03-25 11:02:34,536 - distributed.worker - ERROR - Exception during execution of task lambda-66b370b36633596bb29441364455bb49.\n",
      "Traceback (most recent call last):\n",
      "  File \"/opt/conda/lib/python3.10/site-packages/distributed/worker.py\", line 2390, in _prepare_args_for_execution\n",
      "    data[k] = self.data[k]\n",
      "  File \"/opt/conda/lib/python3.10/site-packages/distributed/spill.py\", line 245, in __getitem__\n",
      "    return super().__getitem__(key)\n",
      "  File \"/opt/conda/lib/python3.10/site-packages/zict/buffer.py\", line 108, in __getitem__\n",
      "    raise KeyError(key)\n",
      "KeyError: 'apply_func-0d4530ba-4cb5-4d43-b05a-0a55fdbaa58f'\n",
      "\n",
      "During handling of the above exception, another exception occurred:\n",
      "\n",
      "Traceback (most recent call last):\n",
      "  File \"/opt/conda/lib/python3.10/site-packages/distributed/worker.py\", line 2271, in execute\n",
      "    args2, kwargs2 = self._prepare_args_for_execution(ts, args, kwargs)\n",
      "  File \"/opt/conda/lib/python3.10/site-packages/distributed/worker.py\", line 2394, in _prepare_args_for_execution\n",
      "    data[k] = Actor(type(self.state.actors[k]), self.address, k, self)\n",
      "KeyError: 'apply_func-0d4530ba-4cb5-4d43-b05a-0a55fdbaa58f'\n"
     ]
    },
    {
     "name": "stderr",
     "output_type": "stream",
     "text": [
      "2023-03-25 11:02:37,665 - distributed.utils_perf - WARNING - full garbage collections took 11% CPU time recently (threshold: 10%)\n"
     ]
    },
    {
     "name": "stderr",
     "output_type": "stream",
     "text": [
      "RuntimeWarning: divide by zero encountered in log\n",
      "UserWarning: Distributing <class 'dict'> object. This may take some time.\n",
      "UserWarning: Group indices computation is not currently supported by PandasOnDask, defaulting to pandas implementation.\n"
     ]
    },
    {
     "name": "stderr",
     "output_type": "stream",
     "text": [
      "UserWarning: Distributing <class 'dict'> object. This may take some time.\n"
     ]
    },
    {
     "name": "stderr",
     "output_type": "stream",
     "text": [
      "UserWarning: Group indices computation is not currently supported by PandasOnDask, defaulting to pandas implementation.\n"
     ]
    },
    {
     "name": "stderr",
     "output_type": "stream",
     "text": [
      "2023-03-25 11:02:46,454 - distributed.utils_perf - WARNING - full garbage collections took 12% CPU time recently (threshold: 10%)\n"
     ]
    },
    {
     "name": "stderr",
     "output_type": "stream",
     "text": [
      "UserWarning: Distributing <class 'dict'> object. This may take some time.\n",
      "UserWarning: Group indices computation is not currently supported by PandasOnDask, defaulting to pandas implementation.\n"
     ]
    },
    {
     "name": "stderr",
     "output_type": "stream",
     "text": [
      "2023-03-25 11:02:55,512 - distributed.utils_perf - WARNING - full garbage collections took 12% CPU time recently (threshold: 10%)\n"
     ]
    },
    {
     "name": "stderr",
     "output_type": "stream",
     "text": [
      "RuntimeWarning: divide by zero encountered in log\n"
     ]
    },
    {
     "name": "stderr",
     "output_type": "stream",
     "text": [
      "UserWarning: Distributing <class 'dict'> object. This may take some time.\n",
      "UserWarning: Group indices computation is not currently supported by PandasOnDask, defaulting to pandas implementation.\n"
     ]
    },
    {
     "name": "stderr",
     "output_type": "stream",
     "text": [
      "2023-03-25 11:03:04,624 - distributed.utils_perf - WARNING - full garbage collections took 12% CPU time recently (threshold: 10%)\n"
     ]
    },
    {
     "name": "stderr",
     "output_type": "stream",
     "text": [
      "2023-03-25 11:03:11,359 - distributed.worker - ERROR - Exception during execution of task lambda-e6639cebf9aebf8b80465b10604d1a66.\n",
      "Traceback (most recent call last):\n",
      "  File \"/opt/conda/lib/python3.10/site-packages/distributed/worker.py\", line 2390, in _prepare_args_for_execution\n",
      "    data[k] = self.data[k]\n",
      "  File \"/opt/conda/lib/python3.10/site-packages/distributed/spill.py\", line 245, in __getitem__\n",
      "    return super().__getitem__(key)\n",
      "  File \"/opt/conda/lib/python3.10/site-packages/zict/buffer.py\", line 108, in __getitem__\n",
      "    raise KeyError(key)\n",
      "KeyError: '_deploy_dask_func-df023433-2ab0-4185-8fcf-10a41ecb52e1'\n",
      "\n",
      "During handling of the above exception, another exception occurred:\n",
      "\n",
      "Traceback (most recent call last):\n",
      "  File \"/opt/conda/lib/python3.10/site-packages/distributed/worker.py\", line 2271, in execute\n",
      "    args2, kwargs2 = self._prepare_args_for_execution(ts, args, kwargs)\n",
      "  File \"/opt/conda/lib/python3.10/site-packages/distributed/worker.py\", line 2394, in _prepare_args_for_execution\n",
      "    data[k] = Actor(type(self.state.actors[k]), self.address, k, self)\n",
      "KeyError: '_deploy_dask_func-df023433-2ab0-4185-8fcf-10a41ecb52e1'\n"
     ]
    },
    {
     "name": "stderr",
     "output_type": "stream",
     "text": [
      "RuntimeWarning: divide by zero encountered in log\n",
      "UserWarning: Distributing <class 'dict'> object. This may take some time.\n",
      "UserWarning: Group indices computation is not currently supported by PandasOnDask, defaulting to pandas implementation.\n"
     ]
    },
    {
     "name": "stderr",
     "output_type": "stream",
     "text": [
      "2023-03-25 11:03:14,334 - distributed.utils_perf - WARNING - full garbage collections took 12% CPU time recently (threshold: 10%)\n"
     ]
    },
    {
     "name": "stderr",
     "output_type": "stream",
     "text": [
      "2023-03-25 11:03:23,299 - distributed.utils_perf - WARNING - full garbage collections took 12% CPU time recently (threshold: 10%)\n"
     ]
    },
    {
     "name": "stderr",
     "output_type": "stream",
     "text": [
      "2023-03-25 11:03:26,805 - distributed.worker - ERROR - Exception during execution of task lambda-ef40aaff19e236c548e7baf39503c9e6.\n",
      "Traceback (most recent call last):\n",
      "  File \"/opt/conda/lib/python3.10/site-packages/distributed/worker.py\", line 2390, in _prepare_args_for_execution\n",
      "    data[k] = self.data[k]\n",
      "  File \"/opt/conda/lib/python3.10/site-packages/distributed/spill.py\", line 245, in __getitem__\n",
      "    return super().__getitem__(key)\n",
      "  File \"/opt/conda/lib/python3.10/site-packages/zict/buffer.py\", line 108, in __getitem__\n",
      "    raise KeyError(key)\n",
      "KeyError: '_deploy_dask_func-d128ac8a-caa1-4463-852c-39f860effab9'\n",
      "\n",
      "During handling of the above exception, another exception occurred:\n",
      "\n",
      "Traceback (most recent call last):\n",
      "  File \"/opt/conda/lib/python3.10/site-packages/distributed/worker.py\", line 2271, in execute\n",
      "    args2, kwargs2 = self._prepare_args_for_execution(ts, args, kwargs)\n",
      "  File \"/opt/conda/lib/python3.10/site-packages/distributed/worker.py\", line 2394, in _prepare_args_for_execution\n",
      "    data[k] = Actor(type(self.state.actors[k]), self.address, k, self)\n",
      "KeyError: '_deploy_dask_func-d128ac8a-caa1-4463-852c-39f860effab9'\n"
     ]
    },
    {
     "name": "stderr",
     "output_type": "stream",
     "text": [
      "RuntimeWarning: divide by zero encountered in log\n",
      "UserWarning: Distributing <class 'dict'> object. This may take some time.\n",
      "UserWarning: Group indices computation is not currently supported by PandasOnDask, defaulting to pandas implementation.\n"
     ]
    },
    {
     "name": "stderr",
     "output_type": "stream",
     "text": [
      "2023-03-25 11:03:32,089 - distributed.utils_perf - WARNING - full garbage collections took 11% CPU time recently (threshold: 10%)\n"
     ]
    },
    {
     "name": "stderr",
     "output_type": "stream",
     "text": [
      "2023-03-25 11:03:41,434 - distributed.utils_perf - WARNING - full garbage collections took 11% CPU time recently (threshold: 10%)\n"
     ]
    },
    {
     "name": "stderr",
     "output_type": "stream",
     "text": [
      "UserWarning: Distributing <class 'dict'> object. This may take some time.\n",
      "UserWarning: Group indices computation is not currently supported by PandasOnDask, defaulting to pandas implementation.\n"
     ]
    },
    {
     "name": "stderr",
     "output_type": "stream",
     "text": [
      "2023-03-25 11:03:49,303 - distributed.worker - ERROR - Exception during execution of task lambda-13b9010761a55dcfb4f93c4f2ed485ef.\n",
      "Traceback (most recent call last):\n",
      "  File \"/opt/conda/lib/python3.10/site-packages/distributed/worker.py\", line 2390, in _prepare_args_for_execution\n",
      "    data[k] = self.data[k]\n",
      "  File \"/opt/conda/lib/python3.10/site-packages/distributed/spill.py\", line 245, in __getitem__\n",
      "    return super().__getitem__(key)\n",
      "  File \"/opt/conda/lib/python3.10/site-packages/zict/buffer.py\", line 108, in __getitem__\n",
      "    raise KeyError(key)\n",
      "KeyError: '_deploy_dask_func-4407f674-1636-4c01-b670-3246df135a04'\n",
      "\n",
      "During handling of the above exception, another exception occurred:\n",
      "\n",
      "Traceback (most recent call last):\n",
      "  File \"/opt/conda/lib/python3.10/site-packages/distributed/worker.py\", line 2271, in execute\n",
      "    args2, kwargs2 = self._prepare_args_for_execution(ts, args, kwargs)\n",
      "  File \"/opt/conda/lib/python3.10/site-packages/distributed/worker.py\", line 2394, in _prepare_args_for_execution\n",
      "    data[k] = Actor(type(self.state.actors[k]), self.address, k, self)\n",
      "KeyError: '_deploy_dask_func-4407f674-1636-4c01-b670-3246df135a04'\n"
     ]
    },
    {
     "name": "stderr",
     "output_type": "stream",
     "text": [
      "2023-03-25 11:03:50,992 - distributed.utils_perf - WARNING - full garbage collections took 11% CPU time recently (threshold: 10%)\n"
     ]
    },
    {
     "name": "stderr",
     "output_type": "stream",
     "text": [
      "RuntimeWarning: divide by zero encountered in log\n",
      "UserWarning: Distributing <class 'dict'> object. This may take some time.\n",
      "UserWarning: Group indices computation is not currently supported by PandasOnDask, defaulting to pandas implementation.\n"
     ]
    },
    {
     "name": "stderr",
     "output_type": "stream",
     "text": [
      "2023-03-25 11:04:00,141 - distributed.utils_perf - WARNING - full garbage collections took 11% CPU time recently (threshold: 10%)\n"
     ]
    },
    {
     "name": "stderr",
     "output_type": "stream",
     "text": [
      "UserWarning: Distributing <class 'dict'> object. This may take some time.\n",
      "UserWarning: Group indices computation is not currently supported by PandasOnDask, defaulting to pandas implementation.\n"
     ]
    },
    {
     "name": "stderr",
     "output_type": "stream",
     "text": [
      "2023-03-25 11:04:08,855 - distributed.utils_perf - WARNING - full garbage collections took 11% CPU time recently (threshold: 10%)\n"
     ]
    },
    {
     "name": "stderr",
     "output_type": "stream",
     "text": [
      "UserWarning: Distributing <class 'dict'> object. This may take some time.\n",
      "UserWarning: Group indices computation is not currently supported by PandasOnDask, defaulting to pandas implementation.\n"
     ]
    },
    {
     "name": "stderr",
     "output_type": "stream",
     "text": [
      "2023-03-25 11:04:18,269 - distributed.utils_perf - WARNING - full garbage collections took 11% CPU time recently (threshold: 10%)\n"
     ]
    },
    {
     "name": "stderr",
     "output_type": "stream",
     "text": [
      "2023-03-25 11:04:27,615 - distributed.utils_perf - WARNING - full garbage collections took 11% CPU time recently (threshold: 10%)\n"
     ]
    },
    {
     "name": "stderr",
     "output_type": "stream",
     "text": [
      "UserWarning: Distributing <class 'dict'> object. This may take some time.\n",
      "UserWarning: Group indices computation is not currently supported by PandasOnDask, defaulting to pandas implementation.\n"
     ]
    },
    {
     "name": "stderr",
     "output_type": "stream",
     "text": [
      "2023-03-25 11:04:37,382 - distributed.utils_perf - WARNING - full garbage collections took 11% CPU time recently (threshold: 10%)\n"
     ]
    },
    {
     "name": "stderr",
     "output_type": "stream",
     "text": [
      "UserWarning: Distributing <class 'dict'> object. This may take some time.\n",
      "UserWarning: Group indices computation is not currently supported by PandasOnDask, defaulting to pandas implementation.\n"
     ]
    },
    {
     "name": "stderr",
     "output_type": "stream",
     "text": [
      "2023-03-25 11:04:47,353 - distributed.utils_perf - WARNING - full garbage collections took 11% CPU time recently (threshold: 10%)\n"
     ]
    },
    {
     "name": "stderr",
     "output_type": "stream",
     "text": [
      "UserWarning: Distributing <class 'dict'> object. This may take some time.\n",
      "UserWarning: Group indices computation is not currently supported by PandasOnDask, defaulting to pandas implementation.\n"
     ]
    },
    {
     "name": "stderr",
     "output_type": "stream",
     "text": [
      "2023-03-25 11:04:56,426 - distributed.utils_perf - WARNING - full garbage collections took 11% CPU time recently (threshold: 10%)\n"
     ]
    },
    {
     "name": "stderr",
     "output_type": "stream",
     "text": [
      "2023-03-25 11:04:58,736 - distributed.worker - ERROR - Exception during execution of task lambda-25d24ae6cc13d0d913a099b3ae954b0e.\n",
      "Traceback (most recent call last):\n",
      "  File \"/opt/conda/lib/python3.10/site-packages/distributed/worker.py\", line 2390, in _prepare_args_for_execution\n",
      "    data[k] = self.data[k]\n",
      "  File \"/opt/conda/lib/python3.10/site-packages/distributed/spill.py\", line 245, in __getitem__\n",
      "    return super().__getitem__(key)\n",
      "  File \"/opt/conda/lib/python3.10/site-packages/zict/buffer.py\", line 108, in __getitem__\n",
      "    raise KeyError(key)\n",
      "KeyError: '_deploy_dask_func-e2a120d7-687a-4e86-b919-50ada730971b'\n",
      "\n",
      "During handling of the above exception, another exception occurred:\n",
      "\n",
      "Traceback (most recent call last):\n",
      "  File \"/opt/conda/lib/python3.10/site-packages/distributed/worker.py\", line 2271, in execute\n",
      "    args2, kwargs2 = self._prepare_args_for_execution(ts, args, kwargs)\n",
      "  File \"/opt/conda/lib/python3.10/site-packages/distributed/worker.py\", line 2394, in _prepare_args_for_execution\n",
      "    data[k] = Actor(type(self.state.actors[k]), self.address, k, self)\n",
      "KeyError: '_deploy_dask_func-e2a120d7-687a-4e86-b919-50ada730971b'\n"
     ]
    },
    {
     "name": "stderr",
     "output_type": "stream",
     "text": [
      "UserWarning: Distributing <class 'dict'> object. This may take some time.\n",
      "UserWarning: Group indices computation is not currently supported by PandasOnDask, defaulting to pandas implementation.\n"
     ]
    },
    {
     "name": "stderr",
     "output_type": "stream",
     "text": [
      "2023-03-25 11:05:06,127 - distributed.utils_perf - WARNING - full garbage collections took 11% CPU time recently (threshold: 10%)\n"
     ]
    },
    {
     "name": "stderr",
     "output_type": "stream",
     "text": [
      "2023-03-25 11:05:15,734 - distributed.utils_perf - WARNING - full garbage collections took 11% CPU time recently (threshold: 10%)\n"
     ]
    },
    {
     "name": "stderr",
     "output_type": "stream",
     "text": [
      "UserWarning: Distributing <class 'dict'> object. This may take some time.\n",
      "UserWarning: Group indices computation is not currently supported by PandasOnDask, defaulting to pandas implementation.\n"
     ]
    },
    {
     "name": "stderr",
     "output_type": "stream",
     "text": [
      "2023-03-25 11:05:18,704 - distributed.worker - ERROR - Exception during execution of task lambda-65c59909e771129c50a97bdd0d462cfd.\n",
      "Traceback (most recent call last):\n",
      "  File \"/opt/conda/lib/python3.10/site-packages/distributed/worker.py\", line 2390, in _prepare_args_for_execution\n",
      "    data[k] = self.data[k]\n",
      "  File \"/opt/conda/lib/python3.10/site-packages/distributed/spill.py\", line 245, in __getitem__\n",
      "    return super().__getitem__(key)\n",
      "  File \"/opt/conda/lib/python3.10/site-packages/zict/buffer.py\", line 108, in __getitem__\n",
      "    raise KeyError(key)\n",
      "KeyError: '_deploy_dask_func-6363f0d7-a104-47e8-90ad-d772bc89e2e5'\n",
      "\n",
      "During handling of the above exception, another exception occurred:\n",
      "\n",
      "Traceback (most recent call last):\n",
      "  File \"/opt/conda/lib/python3.10/site-packages/distributed/worker.py\", line 2271, in execute\n",
      "    args2, kwargs2 = self._prepare_args_for_execution(ts, args, kwargs)\n",
      "  File \"/opt/conda/lib/python3.10/site-packages/distributed/worker.py\", line 2394, in _prepare_args_for_execution\n",
      "    data[k] = Actor(type(self.state.actors[k]), self.address, k, self)\n",
      "KeyError: '_deploy_dask_func-6363f0d7-a104-47e8-90ad-d772bc89e2e5'\n"
     ]
    },
    {
     "name": "stderr",
     "output_type": "stream",
     "text": [
      "2023-03-25 11:05:25,161 - distributed.utils_perf - WARNING - full garbage collections took 11% CPU time recently (threshold: 10%)\n"
     ]
    },
    {
     "name": "stderr",
     "output_type": "stream",
     "text": [
      "2023-03-25 11:05:26,819 - distributed.worker - ERROR - Exception during execution of task lambda-dbe5ac7c9bc9e2216978a8e6d6ac220c.\n",
      "Traceback (most recent call last):\n",
      "  File \"/opt/conda/lib/python3.10/site-packages/distributed/worker.py\", line 2390, in _prepare_args_for_execution\n",
      "    data[k] = self.data[k]\n",
      "  File \"/opt/conda/lib/python3.10/site-packages/distributed/spill.py\", line 245, in __getitem__\n",
      "    return super().__getitem__(key)\n",
      "  File \"/opt/conda/lib/python3.10/site-packages/zict/buffer.py\", line 108, in __getitem__\n",
      "    raise KeyError(key)\n",
      "KeyError: '_deploy_dask_func-f0c41bf0-f2a2-467b-b03d-1a7df300b0fd'\n",
      "\n",
      "During handling of the above exception, another exception occurred:\n",
      "\n",
      "Traceback (most recent call last):\n",
      "  File \"/opt/conda/lib/python3.10/site-packages/distributed/worker.py\", line 2271, in execute\n",
      "    args2, kwargs2 = self._prepare_args_for_execution(ts, args, kwargs)\n",
      "  File \"/opt/conda/lib/python3.10/site-packages/distributed/worker.py\", line 2394, in _prepare_args_for_execution\n",
      "    data[k] = Actor(type(self.state.actors[k]), self.address, k, self)\n",
      "KeyError: '_deploy_dask_func-f0c41bf0-f2a2-467b-b03d-1a7df300b0fd'\n"
     ]
    },
    {
     "name": "stderr",
     "output_type": "stream",
     "text": [
      "UserWarning: Distributing <class 'dict'> object. This may take some time.\n"
     ]
    },
    {
     "name": "stderr",
     "output_type": "stream",
     "text": [
      "UserWarning: Group indices computation is not currently supported by PandasOnDask, defaulting to pandas implementation.\n"
     ]
    },
    {
     "name": "stderr",
     "output_type": "stream",
     "text": [
      "2023-03-25 11:05:30,698 - distributed.worker - ERROR - Exception during execution of task lambda-7de5d5fed29042bb9d0d83eaa95ed2c7.\n",
      "Traceback (most recent call last):\n",
      "  File \"/opt/conda/lib/python3.10/site-packages/distributed/worker.py\", line 2390, in _prepare_args_for_execution\n",
      "    data[k] = self.data[k]\n",
      "  File \"/opt/conda/lib/python3.10/site-packages/distributed/spill.py\", line 245, in __getitem__\n",
      "    return super().__getitem__(key)\n",
      "  File \"/opt/conda/lib/python3.10/site-packages/zict/buffer.py\", line 108, in __getitem__\n",
      "    raise KeyError(key)\n",
      "KeyError: '_deploy_dask_func-1824154f-3158-41ff-8b2e-054eb7e5e749'\n",
      "\n",
      "During handling of the above exception, another exception occurred:\n",
      "\n",
      "Traceback (most recent call last):\n",
      "  File \"/opt/conda/lib/python3.10/site-packages/distributed/worker.py\", line 2271, in execute\n",
      "    args2, kwargs2 = self._prepare_args_for_execution(ts, args, kwargs)\n",
      "  File \"/opt/conda/lib/python3.10/site-packages/distributed/worker.py\", line 2394, in _prepare_args_for_execution\n",
      "    data[k] = Actor(type(self.state.actors[k]), self.address, k, self)\n",
      "KeyError: '_deploy_dask_func-1824154f-3158-41ff-8b2e-054eb7e5e749'\n"
     ]
    },
    {
     "name": "stderr",
     "output_type": "stream",
     "text": [
      "2023-03-25 11:05:35,177 - distributed.utils_perf - WARNING - full garbage collections took 11% CPU time recently (threshold: 10%)\n"
     ]
    },
    {
     "name": "stderr",
     "output_type": "stream",
     "text": [
      "UserWarning: Distributing <class 'dict'> object. This may take some time.\n",
      "UserWarning: Group indices computation is not currently supported by PandasOnDask, defaulting to pandas implementation.\n"
     ]
    },
    {
     "name": "stderr",
     "output_type": "stream",
     "text": [
      "2023-03-25 11:05:44,727 - distributed.utils_perf - WARNING - full garbage collections took 11% CPU time recently (threshold: 10%)\n"
     ]
    },
    {
     "name": "stderr",
     "output_type": "stream",
     "text": [
      "2023-03-25 11:05:54,865 - distributed.utils_perf - WARNING - full garbage collections took 11% CPU time recently (threshold: 10%)\n"
     ]
    },
    {
     "name": "stderr",
     "output_type": "stream",
     "text": [
      "2023-03-25 11:05:54,942 - distributed.worker - ERROR - Exception during execution of task lambda-5df3cca6274631c5ab891816ce0b1212.\n",
      "Traceback (most recent call last):\n",
      "  File \"/opt/conda/lib/python3.10/site-packages/distributed/worker.py\", line 2390, in _prepare_args_for_execution\n",
      "    data[k] = self.data[k]\n",
      "  File \"/opt/conda/lib/python3.10/site-packages/distributed/spill.py\", line 245, in __getitem__\n",
      "    return super().__getitem__(key)\n",
      "  File \"/opt/conda/lib/python3.10/site-packages/zict/buffer.py\", line 108, in __getitem__\n",
      "    raise KeyError(key)\n",
      "KeyError: '_deploy_dask_func-bcfbf4a0-1616-4e7a-ab8f-f9c24afc4d1a'\n",
      "\n",
      "During handling of the above exception, another exception occurred:\n",
      "\n",
      "Traceback (most recent call last):\n",
      "  File \"/opt/conda/lib/python3.10/site-packages/distributed/worker.py\", line 2271, in execute\n",
      "    args2, kwargs2 = self._prepare_args_for_execution(ts, args, kwargs)\n",
      "  File \"/opt/conda/lib/python3.10/site-packages/distributed/worker.py\", line 2394, in _prepare_args_for_execution\n",
      "    data[k] = Actor(type(self.state.actors[k]), self.address, k, self)\n",
      "KeyError: '_deploy_dask_func-bcfbf4a0-1616-4e7a-ab8f-f9c24afc4d1a'\n"
     ]
    },
    {
     "name": "stderr",
     "output_type": "stream",
     "text": [
      "RuntimeWarning: divide by zero encountered in log\n",
      "UserWarning: Distributing <class 'dict'> object. This may take some time.\n",
      "UserWarning: Group indices computation is not currently supported by PandasOnDask, defaulting to pandas implementation.\n"
     ]
    },
    {
     "name": "stderr",
     "output_type": "stream",
     "text": [
      "2023-03-25 11:06:05,013 - distributed.utils_perf - WARNING - full garbage collections took 12% CPU time recently (threshold: 10%)\n"
     ]
    },
    {
     "name": "stderr",
     "output_type": "stream",
     "text": [
      "UserWarning: Distributing <class 'dict'> object. This may take some time.\n",
      "UserWarning: Group indices computation is not currently supported by PandasOnDask, defaulting to pandas implementation.\n"
     ]
    },
    {
     "name": "stderr",
     "output_type": "stream",
     "text": [
      "2023-03-25 11:06:14,477 - distributed.utils_perf - WARNING - full garbage collections took 12% CPU time recently (threshold: 10%)\n"
     ]
    },
    {
     "name": "stderr",
     "output_type": "stream",
     "text": [
      "UserWarning: Distributing <class 'dict'> object. This may take some time.\n",
      "UserWarning: Group indices computation is not currently supported by PandasOnDask, defaulting to pandas implementation.\n"
     ]
    },
    {
     "name": "stderr",
     "output_type": "stream",
     "text": [
      "2023-03-25 11:06:24,693 - distributed.utils_perf - WARNING - full garbage collections took 12% CPU time recently (threshold: 10%)\n"
     ]
    },
    {
     "name": "stderr",
     "output_type": "stream",
     "text": [
      "UserWarning: Distributing <class 'dict'> object. This may take some time.\n",
      "UserWarning: Group indices computation is not currently supported by PandasOnDask, defaulting to pandas implementation.\n"
     ]
    },
    {
     "name": "stderr",
     "output_type": "stream",
     "text": [
      "2023-03-25 11:06:35,229 - distributed.utils_perf - WARNING - full garbage collections took 12% CPU time recently (threshold: 10%)\n"
     ]
    },
    {
     "name": "stderr",
     "output_type": "stream",
     "text": [
      "RuntimeWarning: divide by zero encountered in log\n",
      "UserWarning: Distributing <class 'dict'> object. This may take some time.\n",
      "UserWarning: Group indices computation is not currently supported by PandasOnDask, defaulting to pandas implementation.\n"
     ]
    },
    {
     "name": "stderr",
     "output_type": "stream",
     "text": [
      "2023-03-25 11:06:45,548 - distributed.utils_perf - WARNING - full garbage collections took 12% CPU time recently (threshold: 10%)\n"
     ]
    },
    {
     "name": "stderr",
     "output_type": "stream",
     "text": [
      "2023-03-25 11:06:55,750 - distributed.utils_perf - WARNING - full garbage collections took 12% CPU time recently (threshold: 10%)\n"
     ]
    },
    {
     "name": "stderr",
     "output_type": "stream",
     "text": [
      "UserWarning: Distributing <class 'dict'> object. This may take some time.\n",
      "UserWarning: Group indices computation is not currently supported by PandasOnDask, defaulting to pandas implementation.\n"
     ]
    },
    {
     "name": "stderr",
     "output_type": "stream",
     "text": [
      "2023-03-25 11:07:06,012 - distributed.utils_perf - WARNING - full garbage collections took 12% CPU time recently (threshold: 10%)\n"
     ]
    },
    {
     "name": "stderr",
     "output_type": "stream",
     "text": [
      "UserWarning: Distributing <class 'dict'> object. This may take some time.\n"
     ]
    }
   ],
   "source": [
    "f = '3min'\n",
    "\n",
    "for sensitivity, value in data.items():\n",
    "    print(sensitivity)\n",
    "\n",
    "    df_pred = value[\"df\"]\n",
    "    local_df = df_pred[df_pred[\"ipaddr SRC_IP\"].str.startswith(\"192.168\")].copy()\n",
    "    local_df[\"time TIME_FIRST\"] = local_df[\"time TIME_FIRST\"].apply(dateutil.parser.parse)\n",
    "    \n",
    "    calc_ips = {}\n",
    "\n",
    "    a1_t = local_df.set_index([\"time TIME_FIRST\"])\n",
    "\n",
    "    df_resample = a1_t.groupby(pd.Grouper(freq=f, origin=min_ts)).first()\n",
    "    times = df_resample.index.tolist()\n",
    "    ranges = list(zip(times, times[1:]))\n",
    "\n",
    "    df_calcs = []\n",
    "    for ran in ranges:\n",
    "        df_ran = a1_t[(a1_t.index > ran[0]) & (a1_t.index < ran[1])]\n",
    "        df_calc = calc(df_ran)\n",
    "        df_calc[\"ts\"] = ran[0]\n",
    "        df_calcs.append(df_calc)\n",
    "\n",
    "    value[\"df_calc\"] = pd.concat(df_calcs).reset_index(drop=True)"
   ]
  },
  {
   "cell_type": "code",
   "execution_count": 23,
   "id": "50c68198-fc75-46b2-9f22-e171cdb2ad55",
   "metadata": {
    "execution": {
     "iopub.execute_input": "2023-03-25T11:07:08.052821Z",
     "iopub.status.busy": "2023-03-25T11:07:08.052205Z",
     "iopub.status.idle": "2023-03-25T11:07:28.089668Z",
     "shell.execute_reply": "2023-03-25T11:07:28.088933Z"
    },
    "papermill": {
     "duration": 20.059758,
     "end_time": "2023-03-25T11:07:28.091803",
     "exception": false,
     "start_time": "2023-03-25T11:07:08.032045",
     "status": "completed"
    },
    "tags": []
   },
   "outputs": [
    {
     "name": "stdout",
     "output_type": "stream",
     "text": [
      "0.8\n"
     ]
    },
    {
     "name": "stderr",
     "output_type": "stream",
     "text": [
      "2023-03-25 11:07:09,377 - distributed.worker - ERROR - Exception during execution of task lambda-8ac4dcde5ead113ec47de09278e3a655.\n",
      "Traceback (most recent call last):\n",
      "  File \"/opt/conda/lib/python3.10/site-packages/distributed/worker.py\", line 2390, in _prepare_args_for_execution\n",
      "    data[k] = self.data[k]\n",
      "  File \"/opt/conda/lib/python3.10/site-packages/distributed/spill.py\", line 245, in __getitem__\n",
      "    return super().__getitem__(key)\n",
      "  File \"/opt/conda/lib/python3.10/site-packages/zict/buffer.py\", line 108, in __getitem__\n",
      "    raise KeyError(key)\n",
      "KeyError: 'apply_list_of_funcs-d9ab2522-cea8-435a-9403-c3b8db896766'\n",
      "\n",
      "During handling of the above exception, another exception occurred:\n",
      "\n",
      "Traceback (most recent call last):\n",
      "  File \"/opt/conda/lib/python3.10/site-packages/distributed/worker.py\", line 2271, in execute\n",
      "    args2, kwargs2 = self._prepare_args_for_execution(ts, args, kwargs)\n",
      "  File \"/opt/conda/lib/python3.10/site-packages/distributed/worker.py\", line 2394, in _prepare_args_for_execution\n",
      "    data[k] = Actor(type(self.state.actors[k]), self.address, k, self)\n",
      "KeyError: 'apply_list_of_funcs-d9ab2522-cea8-435a-9403-c3b8db896766'\n"
     ]
    },
    {
     "name": "stderr",
     "output_type": "stream",
     "text": [
      "2023-03-25 11:07:09,788 - distributed.worker - ERROR - Exception during execution of task lambda-6c881db3f119ea73d7df7fae1abf5de5.\n",
      "Traceback (most recent call last):\n",
      "  File \"/opt/conda/lib/python3.10/site-packages/distributed/worker.py\", line 2390, in _prepare_args_for_execution\n",
      "    data[k] = self.data[k]\n",
      "  File \"/opt/conda/lib/python3.10/site-packages/distributed/spill.py\", line 245, in __getitem__\n",
      "    return super().__getitem__(key)\n",
      "  File \"/opt/conda/lib/python3.10/site-packages/zict/buffer.py\", line 108, in __getitem__\n",
      "    raise KeyError(key)\n",
      "KeyError: 'apply_list_of_funcs-1e9139e8-82ee-4d63-b3f2-fe05ff5f3395'\n",
      "\n",
      "During handling of the above exception, another exception occurred:\n",
      "\n",
      "Traceback (most recent call last):\n",
      "  File \"/opt/conda/lib/python3.10/site-packages/distributed/worker.py\", line 2271, in execute\n",
      "    args2, kwargs2 = self._prepare_args_for_execution(ts, args, kwargs)\n",
      "  File \"/opt/conda/lib/python3.10/site-packages/distributed/worker.py\", line 2394, in _prepare_args_for_execution\n",
      "    data[k] = Actor(type(self.state.actors[k]), self.address, k, self)\n",
      "KeyError: 'apply_list_of_funcs-1e9139e8-82ee-4d63-b3f2-fe05ff5f3395'\n",
      "2023-03-25 11:07:09,851 - distributed.worker - ERROR - Exception during execution of task lambda-bb7e2bfb3787d3e37dfab971cb92d323.\n",
      "Traceback (most recent call last):\n",
      "  File \"/opt/conda/lib/python3.10/site-packages/distributed/worker.py\", line 2390, in _prepare_args_for_execution\n",
      "    data[k] = self.data[k]\n",
      "  File \"/opt/conda/lib/python3.10/site-packages/distributed/spill.py\", line 245, in __getitem__\n",
      "    return super().__getitem__(key)\n",
      "  File \"/opt/conda/lib/python3.10/site-packages/zict/buffer.py\", line 108, in __getitem__\n",
      "    raise KeyError(key)\n",
      "KeyError: 'apply_list_of_funcs-e0f8b159-eca7-4bfa-91e4-c7f921680ffd'\n",
      "\n",
      "During handling of the above exception, another exception occurred:\n",
      "\n",
      "Traceback (most recent call last):\n",
      "  File \"/opt/conda/lib/python3.10/site-packages/distributed/worker.py\", line 2271, in execute\n",
      "    args2, kwargs2 = self._prepare_args_for_execution(ts, args, kwargs)\n",
      "  File \"/opt/conda/lib/python3.10/site-packages/distributed/worker.py\", line 2394, in _prepare_args_for_execution\n",
      "    data[k] = Actor(type(self.state.actors[k]), self.address, k, self)\n",
      "KeyError: 'apply_list_of_funcs-e0f8b159-eca7-4bfa-91e4-c7f921680ffd'\n"
     ]
    },
    {
     "name": "stderr",
     "output_type": "stream",
     "text": [
      "2023-03-25 11:07:11,851 - distributed.worker - ERROR - Exception during execution of task lambda-d92145d3ff9de02b8acca1f2189e1a99.\n",
      "Traceback (most recent call last):\n",
      "  File \"/opt/conda/lib/python3.10/site-packages/distributed/worker.py\", line 2390, in _prepare_args_for_execution\n",
      "    data[k] = self.data[k]\n",
      "  File \"/opt/conda/lib/python3.10/site-packages/distributed/spill.py\", line 245, in __getitem__\n",
      "    return super().__getitem__(key)\n",
      "  File \"/opt/conda/lib/python3.10/site-packages/zict/buffer.py\", line 108, in __getitem__\n",
      "    raise KeyError(key)\n",
      "KeyError: 'apply_list_of_funcs-3ebdbdf5-935d-4c1e-80de-0f2f7f82ba9b'\n",
      "\n",
      "During handling of the above exception, another exception occurred:\n",
      "\n",
      "Traceback (most recent call last):\n",
      "  File \"/opt/conda/lib/python3.10/site-packages/distributed/worker.py\", line 2271, in execute\n",
      "    args2, kwargs2 = self._prepare_args_for_execution(ts, args, kwargs)\n",
      "  File \"/opt/conda/lib/python3.10/site-packages/distributed/worker.py\", line 2394, in _prepare_args_for_execution\n",
      "    data[k] = Actor(type(self.state.actors[k]), self.address, k, self)\n",
      "KeyError: 'apply_list_of_funcs-3ebdbdf5-935d-4c1e-80de-0f2f7f82ba9b'\n"
     ]
    },
    {
     "name": "stderr",
     "output_type": "stream",
     "text": [
      "2023-03-25 11:07:13,143 - distributed.worker - ERROR - Exception during execution of task lambda-28417d7d539108146f47076001ed6eee.\n",
      "Traceback (most recent call last):\n",
      "  File \"/opt/conda/lib/python3.10/site-packages/distributed/worker.py\", line 2390, in _prepare_args_for_execution\n",
      "    data[k] = self.data[k]\n",
      "  File \"/opt/conda/lib/python3.10/site-packages/distributed/spill.py\", line 245, in __getitem__\n",
      "    return super().__getitem__(key)\n",
      "  File \"/opt/conda/lib/python3.10/site-packages/zict/buffer.py\", line 108, in __getitem__\n",
      "    raise KeyError(key)\n",
      "KeyError: 'apply_list_of_funcs-a47e3543-a1d4-4901-8132-5f98187c714f'\n",
      "\n",
      "During handling of the above exception, another exception occurred:\n",
      "\n",
      "Traceback (most recent call last):\n",
      "  File \"/opt/conda/lib/python3.10/site-packages/distributed/worker.py\", line 2271, in execute\n",
      "    args2, kwargs2 = self._prepare_args_for_execution(ts, args, kwargs)\n",
      "  File \"/opt/conda/lib/python3.10/site-packages/distributed/worker.py\", line 2394, in _prepare_args_for_execution\n",
      "    data[k] = Actor(type(self.state.actors[k]), self.address, k, self)\n",
      "KeyError: 'apply_list_of_funcs-a47e3543-a1d4-4901-8132-5f98187c714f'\n"
     ]
    },
    {
     "name": "stderr",
     "output_type": "stream",
     "text": [
      "2023-03-25 11:07:14,999 - distributed.worker - ERROR - Exception during execution of task lambda-ad1eeaa6375ce06612486a2902b30b6b.\n",
      "Traceback (most recent call last):\n",
      "  File \"/opt/conda/lib/python3.10/site-packages/distributed/worker.py\", line 2390, in _prepare_args_for_execution\n",
      "    data[k] = self.data[k]\n",
      "  File \"/opt/conda/lib/python3.10/site-packages/distributed/spill.py\", line 245, in __getitem__\n",
      "    return super().__getitem__(key)\n",
      "  File \"/opt/conda/lib/python3.10/site-packages/zict/buffer.py\", line 108, in __getitem__\n",
      "    raise KeyError(key)\n",
      "KeyError: 'apply_list_of_funcs-022d30f7-a059-454c-b322-1b6e6fca9b9c'\n",
      "\n",
      "During handling of the above exception, another exception occurred:\n",
      "\n",
      "Traceback (most recent call last):\n",
      "  File \"/opt/conda/lib/python3.10/site-packages/distributed/worker.py\", line 2271, in execute\n",
      "    args2, kwargs2 = self._prepare_args_for_execution(ts, args, kwargs)\n",
      "  File \"/opt/conda/lib/python3.10/site-packages/distributed/worker.py\", line 2394, in _prepare_args_for_execution\n",
      "    data[k] = Actor(type(self.state.actors[k]), self.address, k, self)\n",
      "KeyError: 'apply_list_of_funcs-022d30f7-a059-454c-b322-1b6e6fca9b9c'\n"
     ]
    },
    {
     "name": "stderr",
     "output_type": "stream",
     "text": [
      "2023-03-25 11:07:16,952 - distributed.worker - ERROR - Exception during execution of task lambda-6286a845cffcbad7dfde71c87e2104ef.\n",
      "Traceback (most recent call last):\n",
      "  File \"/opt/conda/lib/python3.10/site-packages/distributed/worker.py\", line 2390, in _prepare_args_for_execution\n",
      "    data[k] = self.data[k]\n",
      "  File \"/opt/conda/lib/python3.10/site-packages/distributed/spill.py\", line 245, in __getitem__\n",
      "    return super().__getitem__(key)\n",
      "  File \"/opt/conda/lib/python3.10/site-packages/zict/buffer.py\", line 108, in __getitem__\n",
      "    raise KeyError(key)\n",
      "KeyError: 'apply_list_of_funcs-b054ecca-5ed9-4e5c-9395-2825026887d0'\n",
      "\n",
      "During handling of the above exception, another exception occurred:\n",
      "\n",
      "Traceback (most recent call last):\n",
      "  File \"/opt/conda/lib/python3.10/site-packages/distributed/worker.py\", line 2271, in execute\n",
      "    args2, kwargs2 = self._prepare_args_for_execution(ts, args, kwargs)\n",
      "  File \"/opt/conda/lib/python3.10/site-packages/distributed/worker.py\", line 2394, in _prepare_args_for_execution\n",
      "    data[k] = Actor(type(self.state.actors[k]), self.address, k, self)\n",
      "KeyError: 'apply_list_of_funcs-b054ecca-5ed9-4e5c-9395-2825026887d0'\n",
      "2023-03-25 11:07:17,005 - distributed.worker - ERROR - Exception during execution of task lambda-4ce41f3491099b3b7c0977577455c230.\n",
      "Traceback (most recent call last):\n",
      "  File \"/opt/conda/lib/python3.10/site-packages/distributed/worker.py\", line 2390, in _prepare_args_for_execution\n",
      "    data[k] = self.data[k]\n",
      "  File \"/opt/conda/lib/python3.10/site-packages/distributed/spill.py\", line 245, in __getitem__\n",
      "    return super().__getitem__(key)\n",
      "  File \"/opt/conda/lib/python3.10/site-packages/zict/buffer.py\", line 108, in __getitem__\n",
      "    raise KeyError(key)\n",
      "KeyError: 'apply_list_of_funcs-de1a386a-14af-4c27-b0ba-b80fa0799a27'\n",
      "\n",
      "During handling of the above exception, another exception occurred:\n",
      "\n",
      "Traceback (most recent call last):\n",
      "  File \"/opt/conda/lib/python3.10/site-packages/distributed/worker.py\", line 2271, in execute\n",
      "    args2, kwargs2 = self._prepare_args_for_execution(ts, args, kwargs)\n",
      "  File \"/opt/conda/lib/python3.10/site-packages/distributed/worker.py\", line 2394, in _prepare_args_for_execution\n",
      "    data[k] = Actor(type(self.state.actors[k]), self.address, k, self)\n",
      "KeyError: 'apply_list_of_funcs-de1a386a-14af-4c27-b0ba-b80fa0799a27'\n",
      "2023-03-25 11:07:17,050 - distributed.worker - ERROR - Exception during execution of task lambda-74d253024a7e937dedf89b567a464e58.\n",
      "Traceback (most recent call last):\n",
      "  File \"/opt/conda/lib/python3.10/site-packages/distributed/worker.py\", line 2390, in _prepare_args_for_execution\n",
      "    data[k] = self.data[k]\n",
      "  File \"/opt/conda/lib/python3.10/site-packages/distributed/spill.py\", line 245, in __getitem__\n",
      "    return super().__getitem__(key)\n",
      "  File \"/opt/conda/lib/python3.10/site-packages/zict/buffer.py\", line 108, in __getitem__\n",
      "    raise KeyError(key)\n",
      "KeyError: 'apply_list_of_funcs-b4e089c7-3628-44b2-b682-6a6a6325f804'\n",
      "\n",
      "During handling of the above exception, another exception occurred:\n",
      "\n",
      "Traceback (most recent call last):\n",
      "  File \"/opt/conda/lib/python3.10/site-packages/distributed/worker.py\", line 2271, in execute\n",
      "    args2, kwargs2 = self._prepare_args_for_execution(ts, args, kwargs)\n",
      "  File \"/opt/conda/lib/python3.10/site-packages/distributed/worker.py\", line 2394, in _prepare_args_for_execution\n",
      "    data[k] = Actor(type(self.state.actors[k]), self.address, k, self)\n",
      "KeyError: 'apply_list_of_funcs-b4e089c7-3628-44b2-b682-6a6a6325f804'\n",
      "2023-03-25 11:07:17,100 - distributed.worker - ERROR - Exception during execution of task lambda-c01cf46f2171f2d81b732bef9428d3e1.\n",
      "Traceback (most recent call last):\n",
      "  File \"/opt/conda/lib/python3.10/site-packages/distributed/worker.py\", line 2390, in _prepare_args_for_execution\n",
      "    data[k] = self.data[k]\n",
      "  File \"/opt/conda/lib/python3.10/site-packages/distributed/spill.py\", line 245, in __getitem__\n",
      "    return super().__getitem__(key)\n",
      "  File \"/opt/conda/lib/python3.10/site-packages/zict/buffer.py\", line 108, in __getitem__\n",
      "    raise KeyError(key)\n",
      "KeyError: 'apply_list_of_funcs-6e7f54c5-93cc-4d8a-9d6a-ae75743eae97'\n",
      "\n",
      "During handling of the above exception, another exception occurred:\n",
      "\n",
      "Traceback (most recent call last):\n",
      "  File \"/opt/conda/lib/python3.10/site-packages/distributed/worker.py\", line 2271, in execute\n",
      "    args2, kwargs2 = self._prepare_args_for_execution(ts, args, kwargs)\n",
      "  File \"/opt/conda/lib/python3.10/site-packages/distributed/worker.py\", line 2394, in _prepare_args_for_execution\n",
      "    data[k] = Actor(type(self.state.actors[k]), self.address, k, self)\n",
      "KeyError: 'apply_list_of_funcs-6e7f54c5-93cc-4d8a-9d6a-ae75743eae97'\n"
     ]
    },
    {
     "data": {
      "image/png": "[encoded data removed]",
      "text/plain": [
       "<Figure size 1200x400 with 1 Axes>"
      ]
     },
     "metadata": {},
     "output_type": "display_data"
    },
    {
     "name": "stdout",
     "output_type": "stream",
     "text": [
      "0.9\n"
     ]
    },
    {
     "name": "stderr",
     "output_type": "stream",
     "text": [
      "2023-03-25 11:07:19,813 - distributed.utils_perf - WARNING - full garbage collections took 12% CPU time recently (threshold: 10%)\n"
     ]
    },
    {
     "name": "stderr",
     "output_type": "stream",
     "text": [
      "2023-03-25 11:07:20,229 - distributed.worker - ERROR - Exception during execution of task lambda-b9bee8721595e57bdc3c3b8571876110.\n",
      "Traceback (most recent call last):\n",
      "  File \"/opt/conda/lib/python3.10/site-packages/distributed/worker.py\", line 2390, in _prepare_args_for_execution\n",
      "    data[k] = self.data[k]\n",
      "  File \"/opt/conda/lib/python3.10/site-packages/distributed/spill.py\", line 245, in __getitem__\n",
      "    return super().__getitem__(key)\n",
      "  File \"/opt/conda/lib/python3.10/site-packages/zict/buffer.py\", line 108, in __getitem__\n",
      "    raise KeyError(key)\n",
      "KeyError: 'apply_list_of_funcs-ef0bf44a-fc34-4dcb-92ec-4fedd81aaa4c'\n",
      "\n",
      "During handling of the above exception, another exception occurred:\n",
      "\n",
      "Traceback (most recent call last):\n",
      "  File \"/opt/conda/lib/python3.10/site-packages/distributed/worker.py\", line 2271, in execute\n",
      "    args2, kwargs2 = self._prepare_args_for_execution(ts, args, kwargs)\n",
      "  File \"/opt/conda/lib/python3.10/site-packages/distributed/worker.py\", line 2394, in _prepare_args_for_execution\n",
      "    data[k] = Actor(type(self.state.actors[k]), self.address, k, self)\n",
      "KeyError: 'apply_list_of_funcs-ef0bf44a-fc34-4dcb-92ec-4fedd81aaa4c'\n",
      "2023-03-25 11:07:20,258 - distributed.worker - ERROR - Exception during execution of task lambda-feace600531f09feb1dc65d81ddee405.\n",
      "Traceback (most recent call last):\n",
      "  File \"/opt/conda/lib/python3.10/site-packages/distributed/worker.py\", line 2390, in _prepare_args_for_execution\n",
      "    data[k] = self.data[k]\n",
      "  File \"/opt/conda/lib/python3.10/site-packages/distributed/spill.py\", line 245, in __getitem__\n",
      "    return super().__getitem__(key)\n",
      "  File \"/opt/conda/lib/python3.10/site-packages/zict/buffer.py\", line 108, in __getitem__\n",
      "    raise KeyError(key)\n",
      "KeyError: 'apply_list_of_funcs-ac197763-7df6-4097-893a-655e835d284c'\n",
      "\n",
      "During handling of the above exception, another exception occurred:\n",
      "\n",
      "Traceback (most recent call last):\n",
      "  File \"/opt/conda/lib/python3.10/site-packages/distributed/worker.py\", line 2271, in execute\n",
      "    args2, kwargs2 = self._prepare_args_for_execution(ts, args, kwargs)\n",
      "  File \"/opt/conda/lib/python3.10/site-packages/distributed/worker.py\", line 2394, in _prepare_args_for_execution\n",
      "    data[k] = Actor(type(self.state.actors[k]), self.address, k, self)\n",
      "KeyError: 'apply_list_of_funcs-ac197763-7df6-4097-893a-655e835d284c'\n",
      "2023-03-25 11:07:20,350 - distributed.worker - ERROR - Exception during execution of task lambda-d639adbfb3595bc2f1bb73a25f6524ea.\n",
      "Traceback (most recent call last):\n",
      "  File \"/opt/conda/lib/python3.10/site-packages/distributed/worker.py\", line 2390, in _prepare_args_for_execution\n",
      "    data[k] = self.data[k]\n",
      "  File \"/opt/conda/lib/python3.10/site-packages/distributed/spill.py\", line 245, in __getitem__\n",
      "    return super().__getitem__(key)\n",
      "  File \"/opt/conda/lib/python3.10/site-packages/zict/buffer.py\", line 108, in __getitem__\n",
      "    raise KeyError(key)\n",
      "KeyError: 'apply_list_of_funcs-53753d9c-7753-45b7-a6ad-e3e9ebb61e4d'\n",
      "\n",
      "During handling of the above exception, another exception occurred:\n",
      "\n",
      "Traceback (most recent call last):\n",
      "  File \"/opt/conda/lib/python3.10/site-packages/distributed/worker.py\", line 2271, in execute\n",
      "    args2, kwargs2 = self._prepare_args_for_execution(ts, args, kwargs)\n",
      "  File \"/opt/conda/lib/python3.10/site-packages/distributed/worker.py\", line 2394, in _prepare_args_for_execution\n",
      "    data[k] = Actor(type(self.state.actors[k]), self.address, k, self)\n",
      "KeyError: 'apply_list_of_funcs-53753d9c-7753-45b7-a6ad-e3e9ebb61e4d'\n"
     ]
    },
    {
     "name": "stderr",
     "output_type": "stream",
     "text": [
      "2023-03-25 11:07:20,551 - distributed.worker - ERROR - Exception during execution of task lambda-8cd0217ec7809f4933a6821e91d985ab.\n",
      "Traceback (most recent call last):\n",
      "  File \"/opt/conda/lib/python3.10/site-packages/distributed/worker.py\", line 2390, in _prepare_args_for_execution\n",
      "    data[k] = self.data[k]\n",
      "  File \"/opt/conda/lib/python3.10/site-packages/distributed/spill.py\", line 245, in __getitem__\n",
      "    return super().__getitem__(key)\n",
      "  File \"/opt/conda/lib/python3.10/site-packages/zict/buffer.py\", line 108, in __getitem__\n",
      "    raise KeyError(key)\n",
      "KeyError: 'apply_list_of_funcs-29a32a83-5923-44d6-b002-f3662ed794d7'\n",
      "\n",
      "During handling of the above exception, another exception occurred:\n",
      "\n",
      "Traceback (most recent call last):\n",
      "  File \"/opt/conda/lib/python3.10/site-packages/distributed/worker.py\", line 2271, in execute\n",
      "    args2, kwargs2 = self._prepare_args_for_execution(ts, args, kwargs)\n",
      "  File \"/opt/conda/lib/python3.10/site-packages/distributed/worker.py\", line 2394, in _prepare_args_for_execution\n",
      "    data[k] = Actor(type(self.state.actors[k]), self.address, k, self)\n",
      "KeyError: 'apply_list_of_funcs-29a32a83-5923-44d6-b002-f3662ed794d7'\n"
     ]
    },
    {
     "name": "stderr",
     "output_type": "stream",
     "text": [
      "2023-03-25 11:07:22,011 - distributed.worker - ERROR - Exception during execution of task lambda-997e4aee6fcd13f6cb832bb1a7ae25a4.\n",
      "Traceback (most recent call last):\n",
      "  File \"/opt/conda/lib/python3.10/site-packages/distributed/worker.py\", line 2390, in _prepare_args_for_execution\n",
      "    data[k] = self.data[k]\n",
      "  File \"/opt/conda/lib/python3.10/site-packages/distributed/spill.py\", line 245, in __getitem__\n",
      "    return super().__getitem__(key)\n",
      "  File \"/opt/conda/lib/python3.10/site-packages/zict/buffer.py\", line 108, in __getitem__\n",
      "    raise KeyError(key)\n",
      "KeyError: 'apply_list_of_funcs-d7967000-e67c-4fee-9f4c-b45f4cc8e8b8'\n",
      "\n",
      "During handling of the above exception, another exception occurred:\n",
      "\n",
      "Traceback (most recent call last):\n",
      "  File \"/opt/conda/lib/python3.10/site-packages/distributed/worker.py\", line 2271, in execute\n",
      "    args2, kwargs2 = self._prepare_args_for_execution(ts, args, kwargs)\n",
      "  File \"/opt/conda/lib/python3.10/site-packages/distributed/worker.py\", line 2394, in _prepare_args_for_execution\n",
      "    data[k] = Actor(type(self.state.actors[k]), self.address, k, self)\n",
      "KeyError: 'apply_list_of_funcs-d7967000-e67c-4fee-9f4c-b45f4cc8e8b8'\n"
     ]
    },
    {
     "name": "stderr",
     "output_type": "stream",
     "text": [
      "2023-03-25 11:07:22,343 - distributed.worker - ERROR - Exception during execution of task lambda-0f39471d4adce230589f93af56c959cb.\n",
      "Traceback (most recent call last):\n",
      "  File \"/opt/conda/lib/python3.10/site-packages/distributed/worker.py\", line 2390, in _prepare_args_for_execution\n",
      "    data[k] = self.data[k]\n",
      "  File \"/opt/conda/lib/python3.10/site-packages/distributed/spill.py\", line 245, in __getitem__\n",
      "    return super().__getitem__(key)\n",
      "  File \"/opt/conda/lib/python3.10/site-packages/zict/buffer.py\", line 108, in __getitem__\n",
      "    raise KeyError(key)\n",
      "KeyError: 'apply_list_of_funcs-c53e5259-b45f-4576-963f-3ffe78a2b7ee'\n",
      "\n",
      "During handling of the above exception, another exception occurred:\n",
      "\n",
      "Traceback (most recent call last):\n",
      "  File \"/opt/conda/lib/python3.10/site-packages/distributed/worker.py\", line 2271, in execute\n",
      "    args2, kwargs2 = self._prepare_args_for_execution(ts, args, kwargs)\n",
      "  File \"/opt/conda/lib/python3.10/site-packages/distributed/worker.py\", line 2394, in _prepare_args_for_execution\n",
      "    data[k] = Actor(type(self.state.actors[k]), self.address, k, self)\n",
      "KeyError: 'apply_list_of_funcs-c53e5259-b45f-4576-963f-3ffe78a2b7ee'\n"
     ]
    },
    {
     "name": "stderr",
     "output_type": "stream",
     "text": [
      "2023-03-25 11:07:25,573 - distributed.worker - ERROR - Exception during execution of task lambda-d769387523fd7f6db01f9f72efed1fb8.\n",
      "Traceback (most recent call last):\n",
      "  File \"/opt/conda/lib/python3.10/site-packages/distributed/worker.py\", line 2390, in _prepare_args_for_execution\n",
      "    data[k] = self.data[k]\n",
      "  File \"/opt/conda/lib/python3.10/site-packages/distributed/spill.py\", line 245, in __getitem__\n",
      "    return super().__getitem__(key)\n",
      "  File \"/opt/conda/lib/python3.10/site-packages/zict/buffer.py\", line 108, in __getitem__\n",
      "    raise KeyError(key)\n",
      "KeyError: 'apply_list_of_funcs-4c56216c-b790-4fd8-add0-be979e884615'\n",
      "\n",
      "During handling of the above exception, another exception occurred:\n",
      "\n",
      "Traceback (most recent call last):\n",
      "  File \"/opt/conda/lib/python3.10/site-packages/distributed/worker.py\", line 2271, in execute\n",
      "    args2, kwargs2 = self._prepare_args_for_execution(ts, args, kwargs)\n",
      "  File \"/opt/conda/lib/python3.10/site-packages/distributed/worker.py\", line 2394, in _prepare_args_for_execution\n",
      "    data[k] = Actor(type(self.state.actors[k]), self.address, k, self)\n",
      "KeyError: 'apply_list_of_funcs-4c56216c-b790-4fd8-add0-be979e884615'\n",
      "2023-03-25 11:07:25,729 - distributed.worker - ERROR - Exception during execution of task lambda-86ece035b059757537368acf02174d9a.\n",
      "Traceback (most recent call last):\n",
      "  File \"/opt/conda/lib/python3.10/site-packages/distributed/worker.py\", line 2390, in _prepare_args_for_execution\n",
      "    data[k] = self.data[k]\n",
      "  File \"/opt/conda/lib/python3.10/site-packages/distributed/spill.py\", line 245, in __getitem__\n",
      "    return super().__getitem__(key)\n",
      "  File \"/opt/conda/lib/python3.10/site-packages/zict/buffer.py\", line 108, in __getitem__\n",
      "    raise KeyError(key)\n",
      "KeyError: 'apply_list_of_funcs-f5d41ba2-e75b-4e83-97e8-a828451e8d99'\n",
      "\n",
      "During handling of the above exception, another exception occurred:\n",
      "\n",
      "Traceback (most recent call last):\n",
      "  File \"/opt/conda/lib/python3.10/site-packages/distributed/worker.py\", line 2271, in execute\n",
      "    args2, kwargs2 = self._prepare_args_for_execution(ts, args, kwargs)\n",
      "  File \"/opt/conda/lib/python3.10/site-packages/distributed/worker.py\", line 2394, in _prepare_args_for_execution\n",
      "    data[k] = Actor(type(self.state.actors[k]), self.address, k, self)\n",
      "KeyError: 'apply_list_of_funcs-f5d41ba2-e75b-4e83-97e8-a828451e8d99'\n"
     ]
    },
    {
     "name": "stderr",
     "output_type": "stream",
     "text": [
      "2023-03-25 11:07:25,908 - distributed.worker - ERROR - Exception during execution of task lambda-5ef1e2b93505c93bc84368d05ace8ca3.\n",
      "Traceback (most recent call last):\n",
      "  File \"/opt/conda/lib/python3.10/site-packages/distributed/worker.py\", line 2390, in _prepare_args_for_execution\n",
      "    data[k] = self.data[k]\n",
      "  File \"/opt/conda/lib/python3.10/site-packages/distributed/spill.py\", line 245, in __getitem__\n",
      "    return super().__getitem__(key)\n",
      "  File \"/opt/conda/lib/python3.10/site-packages/zict/buffer.py\", line 108, in __getitem__\n",
      "    raise KeyError(key)\n",
      "KeyError: 'apply_list_of_funcs-40c460de-10ac-4c72-9dea-7455afbd2ef9'\n",
      "\n",
      "During handling of the above exception, another exception occurred:\n",
      "\n",
      "Traceback (most recent call last):\n",
      "  File \"/opt/conda/lib/python3.10/site-packages/distributed/worker.py\", line 2271, in execute\n",
      "    args2, kwargs2 = self._prepare_args_for_execution(ts, args, kwargs)\n",
      "  File \"/opt/conda/lib/python3.10/site-packages/distributed/worker.py\", line 2394, in _prepare_args_for_execution\n",
      "    data[k] = Actor(type(self.state.actors[k]), self.address, k, self)\n",
      "KeyError: 'apply_list_of_funcs-40c460de-10ac-4c72-9dea-7455afbd2ef9'\n",
      "2023-03-25 11:07:26,104 - distributed.worker - ERROR - Exception during execution of task lambda-6db807172683eeb31d4d3d53c83fffcc.\n",
      "Traceback (most recent call last):\n",
      "  File \"/opt/conda/lib/python3.10/site-packages/distributed/worker.py\", line 2390, in _prepare_args_for_execution\n",
      "    data[k] = self.data[k]\n",
      "  File \"/opt/conda/lib/python3.10/site-packages/distributed/spill.py\", line 245, in __getitem__\n",
      "    return super().__getitem__(key)\n",
      "  File \"/opt/conda/lib/python3.10/site-packages/zict/buffer.py\", line 108, in __getitem__\n",
      "    raise KeyError(key)\n",
      "KeyError: 'apply_list_of_funcs-dda47121-4958-4d23-99d9-ee1a56b39018'\n",
      "\n",
      "During handling of the above exception, another exception occurred:\n",
      "\n",
      "Traceback (most recent call last):\n",
      "  File \"/opt/conda/lib/python3.10/site-packages/distributed/worker.py\", line 2271, in execute\n",
      "    args2, kwargs2 = self._prepare_args_for_execution(ts, args, kwargs)\n",
      "  File \"/opt/conda/lib/python3.10/site-packages/distributed/worker.py\", line 2394, in _prepare_args_for_execution\n",
      "    data[k] = Actor(type(self.state.actors[k]), self.address, k, self)\n",
      "KeyError: 'apply_list_of_funcs-dda47121-4958-4d23-99d9-ee1a56b39018'\n"
     ]
    },
    {
     "data": {
      "image/png": "[encoded data removed]",
      "text/plain": [
       "<Figure size 1200x400 with 1 Axes>"
      ]
     },
     "metadata": {},
     "output_type": "display_data"
    }
   ],
   "source": [
    "import matplotlib.pyplot as plt\n",
    "\n",
    "for sensitivity, value in data.items():\n",
    "    print(sensitivity)\n",
    "    fig, axs = plt.subplots(ncols=1, figsize=(12, 4))\n",
    "    df_calcs = value[\"df_calc\"]\n",
    "    for host in local_ips:\n",
    "        df_calc_host = df_calcs[df_calcs[\"index\"] == host].set_index(\"ts\")\n",
    "        df_calc_host[\"rate_log\"].plot(label=f'{host}', ax=axs)\n",
    "\n",
    "    plt.ylim(ymin=0)\n",
    "    plt.title(f\"Sensitivity: {sensitivity}, threshold: {value['threshold']}\")\n",
    "    plt.legend()\n",
    "    plt.show()"
   ]
  },
  {
   "cell_type": "code",
   "execution_count": null,
   "id": "87d3782d-d91a-4552-b1c5-0c5d50d2d7c8",
   "metadata": {
    "papermill": {
     "duration": 0.018983,
     "end_time": "2023-03-25T11:07:28.134975",
     "exception": false,
     "start_time": "2023-03-25T11:07:28.115992",
     "status": "completed"
    },
    "tags": []
   },
   "outputs": [],
   "source": []
  }
 ],
 "metadata": {
  "kernelspec": {
   "display_name": "Python 3 (ipykernel)",
   "language": "python",
   "name": "python3"
  },
  "language_info": {
   "codemirror_mode": {
    "name": "ipython",
    "version": 3
   },
   "file_extension": ".py",
   "mimetype": "text/x-python",
   "name": "python",
   "nbconvert_exporter": "python",
   "pygments_lexer": "ipython3",
   "version": "3.10.9"
  },
  "papermill": {
   "default_parameters": {},
   "duration": 1141.466378,
   "end_time": "2023-03-25T11:07:30.880393",
   "environment_variables": {},
   "exception": null,
   "input_path": "./flubot-detection-one.ipynb",
   "output_path": "./flubot-detection-try-models/gen-flubot-detection-RF-normed-1-0-0-0.ipynb",
   "parameters": {
    "model": "RF",
    "normed": true,
    "skips_and_weights": [
     1,
     0,
     0,
     0
    ]
   },
   "start_time": "2023-03-25T10:48:29.414015",
   "version": "2.3.4"
  }
 },
 "nbformat": 4,
 "nbformat_minor": 5
}
