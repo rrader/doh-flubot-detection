{
 "cells": [
  {
   "cell_type": "markdown",
   "id": "af89f7ae-3c40-422d-b543-7045ec10fe06",
   "metadata": {
    "papermill": {
     "duration": 0.004925,
     "end_time": "2023-03-25T10:29:15.690331",
     "exception": false,
     "start_time": "2023-03-25T10:29:15.685406",
     "status": "completed"
    },
    "tags": []
   },
   "source": [
    "---\n",
    "execute:\n",
    "  echo: true\n",
    "  enabled: false\n",
    "  output: true\n",
    "  warning: false\n",
    "format:\n",
    "    html:\n",
    "        code-fold: false\n",
    "---"
   ]
  },
  {
   "cell_type": "markdown",
   "id": "33ff003b-93f7-493e-8b36-de15f3ce7d7f",
   "metadata": {
    "papermill": {
     "duration": 0.005368,
     "end_time": "2023-03-25T10:29:15.700466",
     "exception": false,
     "start_time": "2023-03-25T10:29:15.695098",
     "status": "completed"
    },
    "tags": [
     "title"
    ]
   },
   "source": [
    "# Detect malware (RF normed-2-4-2-4)"
   ]
  },
  {
   "cell_type": "markdown",
   "id": "9d880d57-9101-42ec-a724-4ab9e5c08572",
   "metadata": {
    "papermill": {
     "duration": 0.0043,
     "end_time": "2023-03-25T10:29:15.709582",
     "exception": false,
     "start_time": "2023-03-25T10:29:15.705282",
     "status": "completed"
    },
    "tags": []
   },
   "source": [
    "The model deployment is done in two stages: I. tune the model, II. turn on the malware detection (on the data collected in B1 and B2 periods respectively, described in the timeline @fig-timeline)\n",
    "\n",
    "![Timeline](../../imgs/timeline.png)\n",
    "\n",
    "### Stage I: Model tuning\n",
    "\n",
    "On this state we fit the scaler on the data collected in B1 period, to be used later on the second stage"
   ]
  },
  {
   "cell_type": "code",
   "execution_count": 1,
   "id": "72e77a0e-823e-4dca-bb12-1f80d6d8bbda",
   "metadata": {
    "execution": {
     "iopub.execute_input": "2023-03-25T10:29:15.719518Z",
     "iopub.status.busy": "2023-03-25T10:29:15.719251Z",
     "iopub.status.idle": "2023-03-25T10:29:15.725553Z",
     "shell.execute_reply": "2023-03-25T10:29:15.725045Z"
    },
    "papermill": {
     "duration": 0.012733,
     "end_time": "2023-03-25T10:29:15.726765",
     "exception": false,
     "start_time": "2023-03-25T10:29:15.714032",
     "status": "completed"
    },
    "tags": []
   },
   "outputs": [],
   "source": [
    "#| echo: false\n",
    "#| output: false\n",
    "basepath = \"/home/u1/\""
   ]
  },
  {
   "cell_type": "code",
   "execution_count": 2,
   "id": "f59ef549-32d7-4459-b456-45157fd39f02",
   "metadata": {
    "execution": {
     "iopub.execute_input": "2023-03-25T10:29:15.735947Z",
     "iopub.status.busy": "2023-03-25T10:29:15.735803Z",
     "iopub.status.idle": "2023-03-25T10:29:16.081400Z",
     "shell.execute_reply": "2023-03-25T10:29:16.080750Z"
    },
    "papermill": {
     "duration": 0.352336,
     "end_time": "2023-03-25T10:29:16.083526",
     "exception": false,
     "start_time": "2023-03-25T10:29:15.731190",
     "status": "completed"
    },
    "tags": []
   },
   "outputs": [],
   "source": [
    "#| echo: false\n",
    "#| output: false\n",
    "import os\n",
    "os.environ[\"MODIN_ENGINE\"] = \"dask\"\n",
    "import modin.pandas as pd\n",
    "import numpy as np\n",
    "\n",
    "pd.set_option(\"display.max_columns\", None)"
   ]
  },
  {
   "cell_type": "code",
   "execution_count": 3,
   "id": "d12ce5c6-e506-47d7-87d6-94b37863fb39",
   "metadata": {
    "execution": {
     "iopub.execute_input": "2023-03-25T10:29:16.095728Z",
     "iopub.status.busy": "2023-03-25T10:29:16.095465Z",
     "iopub.status.idle": "2023-03-25T10:29:16.406955Z",
     "shell.execute_reply": "2023-03-25T10:29:16.406251Z"
    },
    "papermill": {
     "duration": 0.319735,
     "end_time": "2023-03-25T10:29:16.408659",
     "exception": false,
     "start_time": "2023-03-25T10:29:16.088924",
     "status": "completed"
    },
    "tags": []
   },
   "outputs": [],
   "source": [
    "from detect_common import *"
   ]
  },
  {
   "cell_type": "code",
   "execution_count": 4,
   "id": "f3297aa6-d756-4368-b6a9-dc43b087a523",
   "metadata": {
    "execution": {
     "iopub.execute_input": "2023-03-25T10:29:16.420518Z",
     "iopub.status.busy": "2023-03-25T10:29:16.420230Z",
     "iopub.status.idle": "2023-03-25T10:29:16.423100Z",
     "shell.execute_reply": "2023-03-25T10:29:16.422629Z"
    },
    "papermill": {
     "duration": 0.009466,
     "end_time": "2023-03-25T10:29:16.424320",
     "exception": false,
     "start_time": "2023-03-25T10:29:16.414854",
     "status": "completed"
    },
    "tags": []
   },
   "outputs": [],
   "source": [
    "#| output: false\n",
    "p1version = \"v6\"\n",
    "p2version = \"v7\"\n",
    "p3version = \"v5\""
   ]
  },
  {
   "cell_type": "code",
   "execution_count": 5,
   "id": "85f79e6a-fd00-464f-8486-60823d6a672a",
   "metadata": {
    "execution": {
     "iopub.execute_input": "2023-03-25T10:29:16.433112Z",
     "iopub.status.busy": "2023-03-25T10:29:16.432964Z",
     "iopub.status.idle": "2023-03-25T10:29:16.435945Z",
     "shell.execute_reply": "2023-03-25T10:29:16.435439Z"
    },
    "papermill": {
     "duration": 0.00871,
     "end_time": "2023-03-25T10:29:16.437200",
     "exception": false,
     "start_time": "2023-03-25T10:29:16.428490",
     "status": "completed"
    },
    "tags": [
     "parameters"
    ]
   },
   "outputs": [],
   "source": [
    "model = 'RF'\n",
    "normed = True\n",
    "skips_and_weights = [2,4,0,0]"
   ]
  },
  {
   "cell_type": "code",
   "execution_count": 6,
   "id": "a1401d71",
   "metadata": {
    "execution": {
     "iopub.execute_input": "2023-03-25T10:29:16.450482Z",
     "iopub.status.busy": "2023-03-25T10:29:16.450223Z",
     "iopub.status.idle": "2023-03-25T10:29:16.452781Z",
     "shell.execute_reply": "2023-03-25T10:29:16.452309Z"
    },
    "papermill": {
     "duration": 0.01231,
     "end_time": "2023-03-25T10:29:16.453911",
     "exception": false,
     "start_time": "2023-03-25T10:29:16.441601",
     "status": "completed"
    },
    "tags": [
     "injected-parameters"
    ]
   },
   "outputs": [],
   "source": [
    "# Parameters\n",
    "model = \"RF\"\n",
    "normed = True\n",
    "skips_and_weights = [2, 4, 2, 4]\n"
   ]
  },
  {
   "cell_type": "code",
   "execution_count": 7,
   "id": "264f7781-2969-4b4d-9c56-cc61dc7b79e4",
   "metadata": {
    "execution": {
     "iopub.execute_input": "2023-03-25T10:29:16.464787Z",
     "iopub.status.busy": "2023-03-25T10:29:16.464635Z",
     "iopub.status.idle": "2023-03-25T10:29:22.276264Z",
     "shell.execute_reply": "2023-03-25T10:29:22.275715Z"
    },
    "papermill": {
     "duration": 5.820385,
     "end_time": "2023-03-25T10:29:22.279085",
     "exception": false,
     "start_time": "2023-03-25T10:29:16.458700",
     "status": "completed"
    },
    "tags": []
   },
   "outputs": [
    {
     "name": "stderr",
     "output_type": "stream",
     "text": [
      "UserWarning: Dask execution environment not yet initialized. Initializing...\n",
      "To remove this warning, run the following python code before doing dataframe operations:\n",
      "\n",
      "    from distributed import Client\n",
      "\n",
      "    client = Client()\n",
      "\n",
      "UserWarning: Port 8787 is already in use.\n",
      "Perhaps you already have a cluster running?\n",
      "Hosting the HTTP server on port 41787 instead\n"
     ]
    },
    {
     "name": "stderr",
     "output_type": "stream",
     "text": [
      "2023-03-25 10:29:17,881 - distributed.diskutils - INFO - Found stale lock file and directory '/tmp/dask-worker-space/worker-u8491so1', purging\n",
      "2023-03-25 10:29:17,881 - distributed.diskutils - INFO - Found stale lock file and directory '/tmp/dask-worker-space/worker-fep5nxr7', purging\n",
      "2023-03-25 10:29:17,882 - distributed.diskutils - INFO - Found stale lock file and directory '/tmp/dask-worker-space/worker-2tlcvo2o', purging\n",
      "2023-03-25 10:29:17,882 - distributed.diskutils - INFO - Found stale lock file and directory '/tmp/dask-worker-space/worker-51usnb01', purging\n"
     ]
    }
   ],
   "source": [
    "import dateutil.parser\n",
    "\n",
    "df_b1 = pd.read_feather(\"cached/v5_1.ft\")"
   ]
  },
  {
   "cell_type": "code",
   "execution_count": 8,
   "id": "e1f828b4-aa8c-4f49-b4af-890104845789",
   "metadata": {
    "execution": {
     "iopub.execute_input": "2023-03-25T10:29:22.295088Z",
     "iopub.status.busy": "2023-03-25T10:29:22.294818Z",
     "iopub.status.idle": "2023-03-25T10:29:27.345025Z",
     "shell.execute_reply": "2023-03-25T10:29:27.344033Z"
    },
    "papermill": {
     "duration": 5.061786,
     "end_time": "2023-03-25T10:29:27.347292",
     "exception": false,
     "start_time": "2023-03-25T10:29:22.285506",
     "status": "completed"
    },
    "tags": []
   },
   "outputs": [
    {
     "name": "stderr",
     "output_type": "stream",
     "text": [
      "UserWarning: `Series.tolist` is not currently supported by PandasOnDask, defaulting to pandas implementation.\n",
      "Please refer to https://modin.readthedocs.io/en/stable/supported_apis/defaulting_to_pandas.html for explanation.\n"
     ]
    },
    {
     "name": "stderr",
     "output_type": "stream",
     "text": [
      "UserWarning: `Series.tolist` is not currently supported by PandasOnDask, defaulting to pandas implementation.\n"
     ]
    },
    {
     "name": "stderr",
     "output_type": "stream",
     "text": [
      "UserWarning: Defaulting to pandas implementation.\n",
      "Reason: `lines` argument not supported\n",
      "FutureWarning: the 'numpy' keyword is deprecated and will be removed in a future version. Please take steps to stop the use of 'numpy'\n"
     ]
    }
   ],
   "source": [
    "path_doh_ips_androids = basepath + \"datasets/flubot20230323/data/v5_benign_doh_ips.csv\"\n",
    "path_doh_ips_general = \"doh_resolver_ip.csv\"\n",
    "full_list = get_doh_ips(path_doh_ips_androids) + get_doh_ips(path_doh_ips_general)\n",
    "\n",
    "cp = CacheableProcessing(100, 100, full_list)\n",
    "df_b1_p = cp.process(df_b1, f\"cached/v5_1.p3.{p3version}.cp.ft\")"
   ]
  },
  {
   "cell_type": "code",
   "execution_count": 9,
   "id": "7daa1018-6186-4b0c-8669-80fa4e04f914",
   "metadata": {
    "execution": {
     "iopub.execute_input": "2023-03-25T10:29:27.365400Z",
     "iopub.status.busy": "2023-03-25T10:29:27.364932Z",
     "iopub.status.idle": "2023-03-25T10:29:27.682894Z",
     "shell.execute_reply": "2023-03-25T10:29:27.681913Z"
    },
    "papermill": {
     "duration": 0.329768,
     "end_time": "2023-03-25T10:29:27.685084",
     "exception": false,
     "start_time": "2023-03-25T10:29:27.355316",
     "status": "completed"
    },
    "tags": []
   },
   "outputs": [],
   "source": [
    "from joblib import dump, load\n",
    "\n",
    "name = (\n",
    "    ('normed-' if normed else 'unnormed-') + \n",
    "    '-'.join(str(p) for p in skips_and_weights)\n",
    ")\n",
    "\n",
    "clf = load(f'models/{model}-mix-1-p-{name}.p1.{p1version}.p2.{p2version}.joblib')\n"
   ]
  },
  {
   "cell_type": "code",
   "execution_count": 10,
   "id": "edf3713d-545a-4940-8c88-f830a82b48e8",
   "metadata": {
    "execution": {
     "iopub.execute_input": "2023-03-25T10:29:27.698845Z",
     "iopub.status.busy": "2023-03-25T10:29:27.698537Z",
     "iopub.status.idle": "2023-03-25T10:29:34.857203Z",
     "shell.execute_reply": "2023-03-25T10:29:34.856568Z"
    },
    "papermill": {
     "duration": 7.167167,
     "end_time": "2023-03-25T10:29:34.859316",
     "exception": false,
     "start_time": "2023-03-25T10:29:27.692149",
     "status": "completed"
    },
    "tags": []
   },
   "outputs": [
    {
     "name": "stderr",
     "output_type": "stream",
     "text": [
      "UserWarning: Defaulting to pandas implementation.\n",
      "Reason: `lines` argument not supported\n",
      "FutureWarning: the 'numpy' keyword is deprecated and will be removed in a future version. Please take steps to stop the use of 'numpy'\n"
     ]
    },
    {
     "name": "stderr",
     "output_type": "stream",
     "text": [
      "UserWarning: Defaulting to pandas implementation.\n",
      "Reason: `lines` argument not supported\n",
      "FutureWarning: the 'numpy' keyword is deprecated and will be removed in a future version. Please take steps to stop the use of 'numpy'\n"
     ]
    },
    {
     "name": "stderr",
     "output_type": "stream",
     "text": [
      "2023-03-25 10:29:33,460 - distributed.worker - WARNING - Could not find data: {'function-9e2fcf77f2e84760832b8f56907f950d': ['tcp://127.0.0.1:44313', 'tcp://127.0.0.1:40019', 'tcp://127.0.0.1:33629']} on workers: [] (who_has: {'function-9e2fcf77f2e84760832b8f56907f950d': ['tcp://127.0.0.1:44313', 'tcp://127.0.0.1:40019', 'tcp://127.0.0.1:33629']})\n",
      "2023-03-25 10:29:33,461 - distributed.scheduler - WARNING - Worker tcp://127.0.0.1:38199 failed to acquire keys: {'function-9e2fcf77f2e84760832b8f56907f950d': ('tcp://127.0.0.1:44313', 'tcp://127.0.0.1:40019', 'tcp://127.0.0.1:33629')}\n"
     ]
    },
    {
     "name": "stderr",
     "output_type": "stream",
     "text": [
      "UserWarning: Defaulting to pandas implementation.\n",
      "Reason: `lines` argument not supported\n",
      "FutureWarning: the 'numpy' keyword is deprecated and will be removed in a future version. Please take steps to stop the use of 'numpy'\n"
     ]
    }
   ],
   "source": [
    "pp_b1 = PreProcessing(normed, *skips_and_weights)\n",
    "\n",
    "df_b1_pp = pp_b1.process(\n",
    "    df_b1_p,\n",
    "    f\"cached/p3.{p3version}.pp.{model}-{name}.saved\", \n",
    "    fit_new_scaler=True\n",
    ")"
   ]
  },
  {
   "cell_type": "code",
   "execution_count": 11,
   "id": "6c552387-a1c3-4c87-86bc-72d4604a63ba",
   "metadata": {
    "execution": {
     "iopub.execute_input": "2023-03-25T10:29:34.877743Z",
     "iopub.status.busy": "2023-03-25T10:29:34.877506Z",
     "iopub.status.idle": "2023-03-25T10:29:34.881115Z",
     "shell.execute_reply": "2023-03-25T10:29:34.880475Z"
    },
    "papermill": {
     "duration": 0.014606,
     "end_time": "2023-03-25T10:29:34.882373",
     "exception": false,
     "start_time": "2023-03-25T10:29:34.867767",
     "status": "completed"
    },
    "tags": []
   },
   "outputs": [],
   "source": [
    "pp_b1.store_scaler(\n",
    "    f\"cached/p3.{p3version}.pp.{model}-{name}.scaler\"\n",
    ")"
   ]
  },
  {
   "cell_type": "markdown",
   "id": "10b0c26b-fefe-4bf2-8aeb-1b5d2e558a43",
   "metadata": {
    "papermill": {
     "duration": 0.00484,
     "end_time": "2023-03-25T10:29:34.892704",
     "exception": false,
     "start_time": "2023-03-25T10:29:34.887864",
     "status": "completed"
    },
    "tags": []
   },
   "source": [
    "### Stage II: Malware detection\n",
    "\n",
    "On this state we turn on the malware detection, provisioning the model with the scaler trained before. For malware detection we use the data trained in B2 period."
   ]
  },
  {
   "cell_type": "code",
   "execution_count": 12,
   "id": "c92c81ef-2f5e-4a96-97aa-1779e2e90805",
   "metadata": {
    "execution": {
     "iopub.execute_input": "2023-03-25T10:29:34.916664Z",
     "iopub.status.busy": "2023-03-25T10:29:34.916384Z",
     "iopub.status.idle": "2023-03-25T10:29:37.919664Z",
     "shell.execute_reply": "2023-03-25T10:29:37.918570Z"
    },
    "papermill": {
     "duration": 3.024498,
     "end_time": "2023-03-25T10:29:37.922303",
     "exception": false,
     "start_time": "2023-03-25T10:29:34.897805",
     "status": "completed"
    },
    "tags": []
   },
   "outputs": [],
   "source": [
    "df_b2 = pd.read_feather(\"cached/v5_2.ft\")"
   ]
  },
  {
   "cell_type": "code",
   "execution_count": 13,
   "id": "2e14959a-c427-4f07-90b9-a5aaf22cdf34",
   "metadata": {
    "execution": {
     "iopub.execute_input": "2023-03-25T10:29:37.939240Z",
     "iopub.status.busy": "2023-03-25T10:29:37.938879Z",
     "iopub.status.idle": "2023-03-25T10:29:53.081483Z",
     "shell.execute_reply": "2023-03-25T10:29:53.080702Z"
    },
    "papermill": {
     "duration": 15.155735,
     "end_time": "2023-03-25T10:29:53.084686",
     "exception": false,
     "start_time": "2023-03-25T10:29:37.928951",
     "status": "completed"
    },
    "tags": []
   },
   "outputs": [
    {
     "name": "stderr",
     "output_type": "stream",
     "text": [
      "UserWarning: Defaulting to pandas implementation.\n",
      "Reason: `lines` argument not supported\n",
      "FutureWarning: the 'numpy' keyword is deprecated and will be removed in a future version. Please take steps to stop the use of 'numpy'\n"
     ]
    }
   ],
   "source": [
    "cp = CacheableProcessing(100, 100, full_list)\n",
    "df_b2_p = cp.process(df_b2, f\"cached/v5_2.p3.{p3version}.cp.ft\")"
   ]
  },
  {
   "cell_type": "code",
   "execution_count": 14,
   "id": "56b34685-fb23-4bf1-8c80-8aa1514158f2",
   "metadata": {
    "execution": {
     "iopub.execute_input": "2023-03-25T10:29:53.107503Z",
     "iopub.status.busy": "2023-03-25T10:29:53.107094Z",
     "iopub.status.idle": "2023-03-25T10:30:16.937027Z",
     "shell.execute_reply": "2023-03-25T10:30:16.936036Z"
    },
    "papermill": {
     "duration": 23.844212,
     "end_time": "2023-03-25T10:30:16.939815",
     "exception": false,
     "start_time": "2023-03-25T10:29:53.095603",
     "status": "completed"
    },
    "tags": []
   },
   "outputs": [
    {
     "name": "stderr",
     "output_type": "stream",
     "text": [
      "UserWarning: Defaulting to pandas implementation.\n",
      "Reason: `lines` argument not supported\n",
      "FutureWarning: the 'numpy' keyword is deprecated and will be removed in a future version. Please take steps to stop the use of 'numpy'\n"
     ]
    },
    {
     "name": "stderr",
     "output_type": "stream",
     "text": [
      "UserWarning: Defaulting to pandas implementation.\n",
      "Reason: `lines` argument not supported\n",
      "FutureWarning: the 'numpy' keyword is deprecated and will be removed in a future version. Please take steps to stop the use of 'numpy'\n"
     ]
    },
    {
     "name": "stderr",
     "output_type": "stream",
     "text": [
      "UserWarning: Defaulting to pandas implementation.\n",
      "Reason: `lines` argument not supported\n",
      "FutureWarning: the 'numpy' keyword is deprecated and will be removed in a future version. Please take steps to stop the use of 'numpy'\n"
     ]
    }
   ],
   "source": [
    "pp_b2 = PreProcessing(normed, *skips_and_weights)\n",
    "pp_b2.load_scaler(\n",
    "    f\"cached/p3.{p3version}.pp.{model}-{name}.scaler\"\n",
    ")\n",
    "df_b2_pp, df_b2_pp_features, df_b2_pp_labels = pp_b2.process(\n",
    "    df_b2_p,\n",
    "    f\"cached/b2.p3.{p3version}.pp.{model}-{name}.saved\", \n",
    "    fit_new_scaler=False  # use scaler trained in B1\n",
    ")"
   ]
  },
  {
   "cell_type": "code",
   "execution_count": 15,
   "id": "3d76898c-0ba3-489f-b1d2-1a1577184037",
   "metadata": {
    "execution": {
     "iopub.execute_input": "2023-03-25T10:30:16.958565Z",
     "iopub.status.busy": "2023-03-25T10:30:16.957759Z",
     "iopub.status.idle": "2023-03-25T10:30:16.963336Z",
     "shell.execute_reply": "2023-03-25T10:30:16.962718Z"
    },
    "papermill": {
     "duration": 0.017284,
     "end_time": "2023-03-25T10:30:16.964580",
     "exception": false,
     "start_time": "2023-03-25T10:30:16.947296",
     "status": "completed"
    },
    "tags": []
   },
   "outputs": [],
   "source": [
    "def predict(pp, clf, threshold, df_pp, df_orig):\n",
    "    \"\"\"\n",
    "    pp: PreProcessing object\n",
    "    clf: classifier\n",
    "    threshold: >=threshold for positive (DoH) class\n",
    "    df_pp: preprocessed dataframe\n",
    "    df_orig: unprocessed dataframe\n",
    "    \"\"\"\n",
    "    df_pp2 = df_pp.copy()\n",
    "\n",
    "    df_pp2[\"IsDoHPredicted\"] = (clf.predict_proba(df_pp2[pp.feature_fields])[:,1] >= threshold).astype(bool)\n",
    "\n",
    "    df_orig2 = df_orig.copy()\n",
    "    # fill predicted to the original dataframe\n",
    "    df_orig2[\"IsDoHPredicted\"] = df_pp2[\"IsDoHPredicted\"]\n",
    "    # non-443 rows will be NaN, replace with False\n",
    "    df_orig2[\"IsDoHPredicted\"] = df_orig2[\"IsDoHPredicted\"].fillna(False)\n",
    "\n",
    "    return df_orig2\n"
   ]
  },
  {
   "cell_type": "code",
   "execution_count": 16,
   "id": "bbfee790-4c9e-4d47-8ee1-700c9321f377",
   "metadata": {
    "execution": {
     "iopub.execute_input": "2023-03-25T10:30:16.979738Z",
     "iopub.status.busy": "2023-03-25T10:30:16.979336Z",
     "iopub.status.idle": "2023-03-25T10:30:19.229956Z",
     "shell.execute_reply": "2023-03-25T10:30:19.228908Z"
    },
    "papermill": {
     "duration": 2.261682,
     "end_time": "2023-03-25T10:30:19.231825",
     "exception": false,
     "start_time": "2023-03-25T10:30:16.970143",
     "status": "completed"
    },
    "tags": []
   },
   "outputs": [
    {
     "name": "stderr",
     "output_type": "stream",
     "text": [
      "2023-03-25 10:30:18,275 - distributed.worker - ERROR - Exception during execution of task lambda-691268865ee94d748cc8af5d589acd6d.\n",
      "Traceback (most recent call last):\n",
      "  File \"/opt/conda/lib/python3.10/site-packages/distributed/worker.py\", line 2390, in _prepare_args_for_execution\n",
      "    data[k] = self.data[k]\n",
      "  File \"/opt/conda/lib/python3.10/site-packages/distributed/spill.py\", line 245, in __getitem__\n",
      "    return super().__getitem__(key)\n",
      "  File \"/opt/conda/lib/python3.10/site-packages/zict/buffer.py\", line 108, in __getitem__\n",
      "    raise KeyError(key)\n",
      "KeyError: 'apply_func-b562418f-83ec-42f8-ad5e-ff67b8799613'\n",
      "\n",
      "During handling of the above exception, another exception occurred:\n",
      "\n",
      "Traceback (most recent call last):\n",
      "  File \"/opt/conda/lib/python3.10/site-packages/distributed/worker.py\", line 2271, in execute\n",
      "    args2, kwargs2 = self._prepare_args_for_execution(ts, args, kwargs)\n",
      "  File \"/opt/conda/lib/python3.10/site-packages/distributed/worker.py\", line 2394, in _prepare_args_for_execution\n",
      "    data[k] = Actor(type(self.state.actors[k]), self.address, k, self)\n",
      "KeyError: 'apply_func-b562418f-83ec-42f8-ad5e-ff67b8799613'\n"
     ]
    }
   ],
   "source": [
    "results_df = pd.read_feather(f\"cached/robustness.balanced_mix-results.p3.{p3version}.ft\")\n",
    "results_df[\"skips_and_weights\"] = results_df[\"skips_and_weights\"].apply(str)\n",
    "model, normed, skips_and_weights_str, auc, fprs, tprs, thresholds = results_df[\n",
    "    (results_df[\"model\"] == model) & (results_df[\"normed\"] == normed) & (results_df[\"skips_and_weights\"] == str(np.array(skips_and_weights)))\n",
    "].iloc[0]"
   ]
  },
  {
   "cell_type": "code",
   "execution_count": 17,
   "id": "f7d50caf-4d05-470e-bac7-a80c6233a01a",
   "metadata": {
    "execution": {
     "iopub.execute_input": "2023-03-25T10:30:19.247669Z",
     "iopub.status.busy": "2023-03-25T10:30:19.247368Z",
     "iopub.status.idle": "2023-03-25T10:30:34.616521Z",
     "shell.execute_reply": "2023-03-25T10:30:34.615319Z"
    },
    "papermill": {
     "duration": 15.38155,
     "end_time": "2023-03-25T10:30:34.619451",
     "exception": false,
     "start_time": "2023-03-25T10:30:19.237901",
     "status": "completed"
    },
    "tags": []
   },
   "outputs": [],
   "source": [
    "data = {}\n",
    "for sensitivity in [0.8, 0.9]:\n",
    "    threshold = [threshold for tpr, threshold in zip(tprs, thresholds) if tpr >= sensitivity][0]\n",
    "    df_pred = predict(pp_b2, clf, threshold, df_b2_pp, df_b2)\n",
    "    data[sensitivity] = {\n",
    "        'df': df_pred,  # dataframe with predicted values,\n",
    "        'threshold': threshold,\n",
    "    }\n"
   ]
  },
  {
   "cell_type": "code",
   "execution_count": 18,
   "id": "8155dfaa-56e5-4115-bc01-4b06534d79bc",
   "metadata": {
    "execution": {
     "iopub.execute_input": "2023-03-25T10:30:34.644405Z",
     "iopub.status.busy": "2023-03-25T10:30:34.642956Z",
     "iopub.status.idle": "2023-03-25T10:30:34.653224Z",
     "shell.execute_reply": "2023-03-25T10:30:34.652477Z"
    },
    "papermill": {
     "duration": 0.027152,
     "end_time": "2023-03-25T10:30:34.654351",
     "exception": false,
     "start_time": "2023-03-25T10:30:34.627199",
     "status": "completed"
    },
    "tags": []
   },
   "outputs": [],
   "source": [
    "def calc(df_n):\n",
    "    def rate(df_h):\n",
    "        dns_packets = df_h[df_h[\"IsDoHPredicted\"] == True][\"uint32 PACKETS\"].sum()  # outgoing packets\n",
    "        non_dns_ips = set(df_h[df_h[\"IsDoHPredicted\"] == False][\"ipaddr SRC_IP\"].unique()).union(\n",
    "            set(df_h[df_h[\"IsDoHPredicted\"] == False][\"ipaddr DST_IP\"].unique()))\n",
    "        rate = float(dns_packets) / (1.0 + len(non_dns_ips))\n",
    "        return {\"dns_packets\": dns_packets, \"non_dns\": len(non_dns_ips), \"rate\": rate, \"rate_log\": np.log(rate)}\n",
    "\n",
    "    return pd.DataFrame({ ip: rate(grp) for ip, grp in df_n.groupby([\"ipaddr SRC_IP\"]) }).T.reset_index()\n"
   ]
  },
  {
   "cell_type": "markdown",
   "id": "ac4629fe-dac8-4cd6-bc0e-417e9587531e",
   "metadata": {
    "papermill": {
     "duration": 0.005455,
     "end_time": "2023-03-25T10:30:34.665565",
     "exception": false,
     "start_time": "2023-03-25T10:30:34.660110",
     "status": "completed"
    },
    "tags": []
   },
   "source": [
    "#### Calculate ratio on the whole dataset"
   ]
  },
  {
   "cell_type": "code",
   "execution_count": 19,
   "id": "2cf669e6-0227-490d-af2a-7da1e433e0c3",
   "metadata": {
    "execution": {
     "iopub.execute_input": "2023-03-25T10:30:34.677392Z",
     "iopub.status.busy": "2023-03-25T10:30:34.676736Z",
     "iopub.status.idle": "2023-03-25T10:34:38.349836Z",
     "shell.execute_reply": "2023-03-25T10:34:38.349013Z"
    },
    "papermill": {
     "duration": 243.680955,
     "end_time": "2023-03-25T10:34:38.351806",
     "exception": false,
     "start_time": "2023-03-25T10:30:34.670851",
     "status": "completed"
    },
    "tags": []
   },
   "outputs": [
    {
     "name": "stdout",
     "output_type": "stream",
     "text": [
      "0.8\n"
     ]
    },
    {
     "name": "stderr",
     "output_type": "stream",
     "text": [
      "UserWarning: Group indices computation is not currently supported by PandasOnDask, defaulting to pandas implementation.\n"
     ]
    },
    {
     "name": "stderr",
     "output_type": "stream",
     "text": [
      "2023-03-25 10:30:45,535 - distributed.worker - ERROR - Exception during execution of task lambda-7c301c6e7138d243986ae9531f415422.\n",
      "Traceback (most recent call last):\n",
      "  File \"/opt/conda/lib/python3.10/site-packages/distributed/worker.py\", line 2390, in _prepare_args_for_execution\n",
      "    data[k] = self.data[k]\n",
      "  File \"/opt/conda/lib/python3.10/site-packages/distributed/spill.py\", line 245, in __getitem__\n",
      "    return super().__getitem__(key)\n",
      "  File \"/opt/conda/lib/python3.10/site-packages/zict/buffer.py\", line 108, in __getitem__\n",
      "    raise KeyError(key)\n",
      "KeyError: '_deploy_dask_func-2b8776db-c011-483a-b283-21b4d243b4da'\n",
      "\n",
      "During handling of the above exception, another exception occurred:\n",
      "\n",
      "Traceback (most recent call last):\n",
      "  File \"/opt/conda/lib/python3.10/site-packages/distributed/worker.py\", line 2271, in execute\n",
      "    args2, kwargs2 = self._prepare_args_for_execution(ts, args, kwargs)\n",
      "  File \"/opt/conda/lib/python3.10/site-packages/distributed/worker.py\", line 2394, in _prepare_args_for_execution\n",
      "    data[k] = Actor(type(self.state.actors[k]), self.address, k, self)\n",
      "KeyError: '_deploy_dask_func-2b8776db-c011-483a-b283-21b4d243b4da'\n"
     ]
    },
    {
     "name": "stderr",
     "output_type": "stream",
     "text": [
      "RuntimeWarning: divide by zero encountered in log\n"
     ]
    },
    {
     "name": "stderr",
     "output_type": "stream",
     "text": [
      "2023-03-25 10:31:31,115 - distributed.worker - ERROR - Exception during execution of task lambda-36240424b7e8ccf7221a96fdafbf92d5.\n",
      "Traceback (most recent call last):\n",
      "  File \"/opt/conda/lib/python3.10/site-packages/distributed/worker.py\", line 2390, in _prepare_args_for_execution\n",
      "    data[k] = self.data[k]\n",
      "  File \"/opt/conda/lib/python3.10/site-packages/distributed/spill.py\", line 245, in __getitem__\n",
      "    return super().__getitem__(key)\n",
      "  File \"/opt/conda/lib/python3.10/site-packages/zict/buffer.py\", line 108, in __getitem__\n",
      "    raise KeyError(key)\n",
      "KeyError: '_deploy_dask_func-df73c4db-608c-4ef0-8887-cf28ec20fa23'\n",
      "\n",
      "During handling of the above exception, another exception occurred:\n",
      "\n",
      "Traceback (most recent call last):\n",
      "  File \"/opt/conda/lib/python3.10/site-packages/distributed/worker.py\", line 2271, in execute\n",
      "    args2, kwargs2 = self._prepare_args_for_execution(ts, args, kwargs)\n",
      "  File \"/opt/conda/lib/python3.10/site-packages/distributed/worker.py\", line 2394, in _prepare_args_for_execution\n",
      "    data[k] = Actor(type(self.state.actors[k]), self.address, k, self)\n",
      "KeyError: '_deploy_dask_func-df73c4db-608c-4ef0-8887-cf28ec20fa23'\n"
     ]
    },
    {
     "name": "stderr",
     "output_type": "stream",
     "text": [
      "2023-03-25 10:32:14,923 - distributed.worker - ERROR - Exception during execution of task lambda-9dd5bbfb6d66be5a62c3e8be20634f81.\n",
      "Traceback (most recent call last):\n",
      "  File \"/opt/conda/lib/python3.10/site-packages/distributed/worker.py\", line 2390, in _prepare_args_for_execution\n",
      "    data[k] = self.data[k]\n",
      "  File \"/opt/conda/lib/python3.10/site-packages/distributed/spill.py\", line 245, in __getitem__\n",
      "    return super().__getitem__(key)\n",
      "  File \"/opt/conda/lib/python3.10/site-packages/zict/buffer.py\", line 108, in __getitem__\n",
      "    raise KeyError(key)\n",
      "KeyError: 'apply_func-c429b3a4-9aaa-4d4b-bf75-7f9322205fad'\n",
      "\n",
      "During handling of the above exception, another exception occurred:\n",
      "\n",
      "Traceback (most recent call last):\n",
      "  File \"/opt/conda/lib/python3.10/site-packages/distributed/worker.py\", line 2271, in execute\n",
      "    args2, kwargs2 = self._prepare_args_for_execution(ts, args, kwargs)\n",
      "  File \"/opt/conda/lib/python3.10/site-packages/distributed/worker.py\", line 2394, in _prepare_args_for_execution\n",
      "    data[k] = Actor(type(self.state.actors[k]), self.address, k, self)\n",
      "KeyError: 'apply_func-c429b3a4-9aaa-4d4b-bf75-7f9322205fad'\n"
     ]
    },
    {
     "name": "stderr",
     "output_type": "stream",
     "text": [
      "RuntimeWarning: divide by zero encountered in log\n",
      "UserWarning: Distributing <class 'dict'> object. This may take some time.\n"
     ]
    },
    {
     "data": {
      "text/html": [
       "<div>\n",
       "<style scoped>\n",
       "    .dataframe tbody tr th:only-of-type {\n",
       "        vertical-align: middle;\n",
       "    }\n",
       "\n",
       "    .dataframe tbody tr th {\n",
       "        vertical-align: top;\n",
       "    }\n",
       "\n",
       "    .dataframe thead th {\n",
       "        text-align: right;\n",
       "    }\n",
       "</style>\n",
       "<table border=\"1\" class=\"dataframe\">\n",
       "  <thead>\n",
       "    <tr style=\"text-align: right;\">\n",
       "      <th></th>\n",
       "      <th>index</th>\n",
       "      <th>dns_packets</th>\n",
       "      <th>non_dns</th>\n",
       "      <th>rate</th>\n",
       "      <th>rate_log</th>\n",
       "    </tr>\n",
       "  </thead>\n",
       "  <tbody>\n",
       "    <tr>\n",
       "      <th>0</th>\n",
       "      <td>192.168.1.1</td>\n",
       "      <td>0.0</td>\n",
       "      <td>2.0</td>\n",
       "      <td>0.000000</td>\n",
       "      <td>-inf</td>\n",
       "    </tr>\n",
       "    <tr>\n",
       "      <th>1</th>\n",
       "      <td>192.168.2.149</td>\n",
       "      <td>220785.0</td>\n",
       "      <td>4543.0</td>\n",
       "      <td>48.588248</td>\n",
       "      <td>3.883382</td>\n",
       "    </tr>\n",
       "    <tr>\n",
       "      <th>2</th>\n",
       "      <td>192.168.2.217</td>\n",
       "      <td>330986.0</td>\n",
       "      <td>21.0</td>\n",
       "      <td>15044.818182</td>\n",
       "      <td>9.618789</td>\n",
       "    </tr>\n",
       "    <tr>\n",
       "      <th>3</th>\n",
       "      <td>192.168.2.249</td>\n",
       "      <td>136625.0</td>\n",
       "      <td>3607.0</td>\n",
       "      <td>37.867239</td>\n",
       "      <td>3.634086</td>\n",
       "    </tr>\n",
       "    <tr>\n",
       "      <th>4</th>\n",
       "      <td>192.168.2.42</td>\n",
       "      <td>0.0</td>\n",
       "      <td>5.0</td>\n",
       "      <td>0.000000</td>\n",
       "      <td>-inf</td>\n",
       "    </tr>\n",
       "  </tbody>\n",
       "</table>\n",
       "</div>"
      ],
      "text/plain": [
       "           index  dns_packets  non_dns          rate  rate_log\n",
       "0    192.168.1.1          0.0      2.0      0.000000      -inf\n",
       "1  192.168.2.149     220785.0   4543.0     48.588248  3.883382\n",
       "2  192.168.2.217     330986.0     21.0  15044.818182  9.618789\n",
       "3  192.168.2.249     136625.0   3607.0     37.867239  3.634086\n",
       "4   192.168.2.42          0.0      5.0      0.000000      -inf"
      ]
     },
     "metadata": {},
     "output_type": "display_data"
    },
    {
     "name": "stdout",
     "output_type": "stream",
     "text": [
      "0.9\n"
     ]
    },
    {
     "name": "stderr",
     "output_type": "stream",
     "text": [
      "UserWarning: Group indices computation is not currently supported by PandasOnDask, defaulting to pandas implementation.\n"
     ]
    },
    {
     "name": "stderr",
     "output_type": "stream",
     "text": [
      "RuntimeWarning: divide by zero encountered in log\n"
     ]
    },
    {
     "name": "stderr",
     "output_type": "stream",
     "text": [
      "2023-03-25 10:33:09,527 - distributed.worker - ERROR - Exception during execution of task lambda-9f364fea04d54bab1e7f2d021e8316a1.\n",
      "Traceback (most recent call last):\n",
      "  File \"/opt/conda/lib/python3.10/site-packages/distributed/worker.py\", line 2390, in _prepare_args_for_execution\n",
      "    data[k] = self.data[k]\n",
      "  File \"/opt/conda/lib/python3.10/site-packages/distributed/spill.py\", line 245, in __getitem__\n",
      "    return super().__getitem__(key)\n",
      "  File \"/opt/conda/lib/python3.10/site-packages/zict/buffer.py\", line 108, in __getitem__\n",
      "    raise KeyError(key)\n",
      "KeyError: 'apply_func-0847fb5a-91d2-491a-87f1-bded463cacf8'\n",
      "\n",
      "During handling of the above exception, another exception occurred:\n",
      "\n",
      "Traceback (most recent call last):\n",
      "  File \"/opt/conda/lib/python3.10/site-packages/distributed/worker.py\", line 2271, in execute\n",
      "    args2, kwargs2 = self._prepare_args_for_execution(ts, args, kwargs)\n",
      "  File \"/opt/conda/lib/python3.10/site-packages/distributed/worker.py\", line 2394, in _prepare_args_for_execution\n",
      "    data[k] = Actor(type(self.state.actors[k]), self.address, k, self)\n",
      "KeyError: 'apply_func-0847fb5a-91d2-491a-87f1-bded463cacf8'\n"
     ]
    },
    {
     "name": "stderr",
     "output_type": "stream",
     "text": [
      "2023-03-25 10:33:22,034 - distributed.worker - ERROR - Exception during execution of task lambda-582e680400f2accc450890d647520a93.\n",
      "Traceback (most recent call last):\n",
      "  File \"/opt/conda/lib/python3.10/site-packages/distributed/worker.py\", line 2390, in _prepare_args_for_execution\n",
      "    data[k] = self.data[k]\n",
      "  File \"/opt/conda/lib/python3.10/site-packages/distributed/spill.py\", line 245, in __getitem__\n",
      "    return super().__getitem__(key)\n",
      "  File \"/opt/conda/lib/python3.10/site-packages/zict/buffer.py\", line 108, in __getitem__\n",
      "    raise KeyError(key)\n",
      "KeyError: 'apply_func-b75d02f8-6790-4f17-9199-bc91b59c8a78'\n",
      "\n",
      "During handling of the above exception, another exception occurred:\n",
      "\n",
      "Traceback (most recent call last):\n",
      "  File \"/opt/conda/lib/python3.10/site-packages/distributed/worker.py\", line 2271, in execute\n",
      "    args2, kwargs2 = self._prepare_args_for_execution(ts, args, kwargs)\n",
      "  File \"/opt/conda/lib/python3.10/site-packages/distributed/worker.py\", line 2394, in _prepare_args_for_execution\n",
      "    data[k] = Actor(type(self.state.actors[k]), self.address, k, self)\n",
      "KeyError: 'apply_func-b75d02f8-6790-4f17-9199-bc91b59c8a78'\n"
     ]
    },
    {
     "name": "stderr",
     "output_type": "stream",
     "text": [
      "2023-03-25 10:33:31,914 - distributed.worker - ERROR - Exception during execution of task lambda-8be9157836c4c74fa78fe12b7e197270.\n",
      "Traceback (most recent call last):\n",
      "  File \"/opt/conda/lib/python3.10/site-packages/distributed/worker.py\", line 2390, in _prepare_args_for_execution\n",
      "    data[k] = self.data[k]\n",
      "  File \"/opt/conda/lib/python3.10/site-packages/distributed/spill.py\", line 245, in __getitem__\n",
      "    return super().__getitem__(key)\n",
      "  File \"/opt/conda/lib/python3.10/site-packages/zict/buffer.py\", line 108, in __getitem__\n",
      "    raise KeyError(key)\n",
      "KeyError: '_deploy_dask_func-a271ca1d-d821-45ea-bc30-6fdbfee8b9db'\n",
      "\n",
      "During handling of the above exception, another exception occurred:\n",
      "\n",
      "Traceback (most recent call last):\n",
      "  File \"/opt/conda/lib/python3.10/site-packages/distributed/worker.py\", line 2271, in execute\n",
      "    args2, kwargs2 = self._prepare_args_for_execution(ts, args, kwargs)\n",
      "  File \"/opt/conda/lib/python3.10/site-packages/distributed/worker.py\", line 2394, in _prepare_args_for_execution\n",
      "    data[k] = Actor(type(self.state.actors[k]), self.address, k, self)\n",
      "KeyError: '_deploy_dask_func-a271ca1d-d821-45ea-bc30-6fdbfee8b9db'\n"
     ]
    },
    {
     "name": "stderr",
     "output_type": "stream",
     "text": [
      "2023-03-25 10:34:30,531 - distributed.worker - ERROR - Exception during execution of task lambda-06796cda15734b1a85e0068bee90497b.\n",
      "Traceback (most recent call last):\n",
      "  File \"/opt/conda/lib/python3.10/site-packages/distributed/worker.py\", line 2390, in _prepare_args_for_execution\n",
      "    data[k] = self.data[k]\n",
      "  File \"/opt/conda/lib/python3.10/site-packages/distributed/spill.py\", line 245, in __getitem__\n",
      "    return super().__getitem__(key)\n",
      "  File \"/opt/conda/lib/python3.10/site-packages/zict/buffer.py\", line 108, in __getitem__\n",
      "    raise KeyError(key)\n",
      "KeyError: 'apply_func-f2f4a88d-d562-410b-9401-0b8233505e5c'\n",
      "\n",
      "During handling of the above exception, another exception occurred:\n",
      "\n",
      "Traceback (most recent call last):\n",
      "  File \"/opt/conda/lib/python3.10/site-packages/distributed/worker.py\", line 2271, in execute\n",
      "    args2, kwargs2 = self._prepare_args_for_execution(ts, args, kwargs)\n",
      "  File \"/opt/conda/lib/python3.10/site-packages/distributed/worker.py\", line 2394, in _prepare_args_for_execution\n",
      "    data[k] = Actor(type(self.state.actors[k]), self.address, k, self)\n",
      "KeyError: 'apply_func-f2f4a88d-d562-410b-9401-0b8233505e5c'\n"
     ]
    },
    {
     "name": "stderr",
     "output_type": "stream",
     "text": [
      "RuntimeWarning: divide by zero encountered in log\n",
      "UserWarning: Distributing <class 'dict'> object. This may take some time.\n"
     ]
    },
    {
     "data": {
      "text/html": [
       "<div>\n",
       "<style scoped>\n",
       "    .dataframe tbody tr th:only-of-type {\n",
       "        vertical-align: middle;\n",
       "    }\n",
       "\n",
       "    .dataframe tbody tr th {\n",
       "        vertical-align: top;\n",
       "    }\n",
       "\n",
       "    .dataframe thead th {\n",
       "        text-align: right;\n",
       "    }\n",
       "</style>\n",
       "<table border=\"1\" class=\"dataframe\">\n",
       "  <thead>\n",
       "    <tr style=\"text-align: right;\">\n",
       "      <th></th>\n",
       "      <th>index</th>\n",
       "      <th>dns_packets</th>\n",
       "      <th>non_dns</th>\n",
       "      <th>rate</th>\n",
       "      <th>rate_log</th>\n",
       "    </tr>\n",
       "  </thead>\n",
       "  <tbody>\n",
       "    <tr>\n",
       "      <th>0</th>\n",
       "      <td>192.168.1.1</td>\n",
       "      <td>0.0</td>\n",
       "      <td>2.0</td>\n",
       "      <td>0.000000</td>\n",
       "      <td>-inf</td>\n",
       "    </tr>\n",
       "    <tr>\n",
       "      <th>1</th>\n",
       "      <td>192.168.2.149</td>\n",
       "      <td>263891.0</td>\n",
       "      <td>4339.0</td>\n",
       "      <td>60.804378</td>\n",
       "      <td>4.107662</td>\n",
       "    </tr>\n",
       "    <tr>\n",
       "      <th>2</th>\n",
       "      <td>192.168.2.217</td>\n",
       "      <td>541214.0</td>\n",
       "      <td>15.0</td>\n",
       "      <td>33825.875000</td>\n",
       "      <td>10.428981</td>\n",
       "    </tr>\n",
       "    <tr>\n",
       "      <th>3</th>\n",
       "      <td>192.168.2.249</td>\n",
       "      <td>177432.0</td>\n",
       "      <td>3445.0</td>\n",
       "      <td>51.489263</td>\n",
       "      <td>3.941373</td>\n",
       "    </tr>\n",
       "    <tr>\n",
       "      <th>4</th>\n",
       "      <td>192.168.2.42</td>\n",
       "      <td>0.0</td>\n",
       "      <td>5.0</td>\n",
       "      <td>0.000000</td>\n",
       "      <td>-inf</td>\n",
       "    </tr>\n",
       "  </tbody>\n",
       "</table>\n",
       "</div>"
      ],
      "text/plain": [
       "           index  dns_packets  non_dns          rate   rate_log\n",
       "0    192.168.1.1          0.0      2.0      0.000000       -inf\n",
       "1  192.168.2.149     263891.0   4339.0     60.804378   4.107662\n",
       "2  192.168.2.217     541214.0     15.0  33825.875000  10.428981\n",
       "3  192.168.2.249     177432.0   3445.0     51.489263   3.941373\n",
       "4   192.168.2.42          0.0      5.0      0.000000       -inf"
      ]
     },
     "metadata": {},
     "output_type": "display_data"
    }
   ],
   "source": [
    "for sensitivity, value in data.items():\n",
    "    print(sensitivity)\n",
    "    df_pred = value[\"df\"]\n",
    "    local_df = df_pred[df_pred[\"ipaddr SRC_IP\"].str.startswith(\"192.168\")]\n",
    "    display(calc(local_df))\n"
   ]
  },
  {
   "cell_type": "markdown",
   "id": "6ab3069e-4858-474f-aead-0b8d7746efa3",
   "metadata": {
    "papermill": {
     "duration": 0.007638,
     "end_time": "2023-03-25T10:34:38.369589",
     "exception": false,
     "start_time": "2023-03-25T10:34:38.361951",
     "status": "completed"
    },
    "tags": []
   },
   "source": [
    "#### Split into time windows"
   ]
  },
  {
   "cell_type": "code",
   "execution_count": 20,
   "id": "b1d036bc-bcc9-4c84-97c4-fc3c12ed8360",
   "metadata": {
    "execution": {
     "iopub.execute_input": "2023-03-25T10:34:38.383782Z",
     "iopub.status.busy": "2023-03-25T10:34:38.382789Z",
     "iopub.status.idle": "2023-03-25T10:34:40.477203Z",
     "shell.execute_reply": "2023-03-25T10:34:40.476316Z"
    },
    "papermill": {
     "duration": 2.103186,
     "end_time": "2023-03-25T10:34:40.478601",
     "exception": false,
     "start_time": "2023-03-25T10:34:38.375415",
     "status": "completed"
    },
    "tags": []
   },
   "outputs": [
    {
     "name": "stderr",
     "output_type": "stream",
     "text": [
      "2023-03-25 10:34:40,460 - distributed.worker - ERROR - Exception during execution of task lambda-b14f73a770796ae10537f30efe1821ec.\n",
      "Traceback (most recent call last):\n",
      "  File \"/opt/conda/lib/python3.10/site-packages/distributed/worker.py\", line 2390, in _prepare_args_for_execution\n",
      "    data[k] = self.data[k]\n",
      "  File \"/opt/conda/lib/python3.10/site-packages/distributed/spill.py\", line 245, in __getitem__\n",
      "    return super().__getitem__(key)\n",
      "  File \"/opt/conda/lib/python3.10/site-packages/zict/buffer.py\", line 108, in __getitem__\n",
      "    raise KeyError(key)\n",
      "KeyError: '_deploy_dask_func-e086cdec-8acd-4155-a11d-1178b839ce08'\n",
      "\n",
      "During handling of the above exception, another exception occurred:\n",
      "\n",
      "Traceback (most recent call last):\n",
      "  File \"/opt/conda/lib/python3.10/site-packages/distributed/worker.py\", line 2271, in execute\n",
      "    args2, kwargs2 = self._prepare_args_for_execution(ts, args, kwargs)\n",
      "  File \"/opt/conda/lib/python3.10/site-packages/distributed/worker.py\", line 2394, in _prepare_args_for_execution\n",
      "    data[k] = Actor(type(self.state.actors[k]), self.address, k, self)\n",
      "KeyError: '_deploy_dask_func-e086cdec-8acd-4155-a11d-1178b839ce08'\n"
     ]
    },
    {
     "data": {
      "text/plain": [
       "Timestamp('2023-03-23 14:50:04.316951')"
      ]
     },
     "execution_count": 20,
     "metadata": {},
     "output_type": "execute_result"
    }
   ],
   "source": [
    "min_ts = df_b2[\"time TIME_FIRST\"].apply(dateutil.parser.parse).min()\n",
    "min_ts"
   ]
  },
  {
   "cell_type": "code",
   "execution_count": 21,
   "id": "3d3f7f3e-7542-45ea-aee7-1912876e7382",
   "metadata": {
    "execution": {
     "iopub.execute_input": "2023-03-25T10:34:40.501907Z",
     "iopub.status.busy": "2023-03-25T10:34:40.501375Z",
     "iopub.status.idle": "2023-03-25T10:34:51.640255Z",
     "shell.execute_reply": "2023-03-25T10:34:51.639459Z"
    },
    "papermill": {
     "duration": 11.153638,
     "end_time": "2023-03-25T10:34:51.641847",
     "exception": false,
     "start_time": "2023-03-25T10:34:40.488209",
     "status": "completed"
    },
    "tags": []
   },
   "outputs": [
    {
     "name": "stderr",
     "output_type": "stream",
     "text": [
      "2023-03-25 10:34:50,281 - distributed.worker - ERROR - Exception during execution of task lambda-b546bc9d98a9a0b8b06c80f840cf8031.\n",
      "Traceback (most recent call last):\n",
      "  File \"/opt/conda/lib/python3.10/site-packages/distributed/worker.py\", line 2390, in _prepare_args_for_execution\n",
      "    data[k] = self.data[k]\n",
      "  File \"/opt/conda/lib/python3.10/site-packages/distributed/spill.py\", line 245, in __getitem__\n",
      "    return super().__getitem__(key)\n",
      "  File \"/opt/conda/lib/python3.10/site-packages/zict/buffer.py\", line 108, in __getitem__\n",
      "    raise KeyError(key)\n",
      "KeyError: 'apply_func-77b89556-833b-4393-bd25-c43dac228c39'\n",
      "\n",
      "During handling of the above exception, another exception occurred:\n",
      "\n",
      "Traceback (most recent call last):\n",
      "  File \"/opt/conda/lib/python3.10/site-packages/distributed/worker.py\", line 2271, in execute\n",
      "    args2, kwargs2 = self._prepare_args_for_execution(ts, args, kwargs)\n",
      "  File \"/opt/conda/lib/python3.10/site-packages/distributed/worker.py\", line 2394, in _prepare_args_for_execution\n",
      "    data[k] = Actor(type(self.state.actors[k]), self.address, k, self)\n",
      "KeyError: 'apply_func-77b89556-833b-4393-bd25-c43dac228c39'\n"
     ]
    },
    {
     "data": {
      "text/plain": [
       "['192.168.2.249',\n",
       " '192.168.2.149',\n",
       " '192.168.2.42',\n",
       " '192.168.2.217',\n",
       " '192.168.1.1']"
      ]
     },
     "execution_count": 21,
     "metadata": {},
     "output_type": "execute_result"
    }
   ],
   "source": [
    "local_ips = df_b2[df_b2[\"ipaddr SRC_IP\"].str.startswith(\"192.168\")][\"ipaddr SRC_IP\"].unique().tolist()\n",
    "local_ips"
   ]
  },
  {
   "cell_type": "code",
   "execution_count": 22,
   "id": "c41e1871-24f4-43a5-9b55-189e2ead01f5",
   "metadata": {
    "execution": {
     "iopub.execute_input": "2023-03-25T10:34:51.672802Z",
     "iopub.status.busy": "2023-03-25T10:34:51.671900Z",
     "iopub.status.idle": "2023-03-25T10:48:05.281244Z",
     "shell.execute_reply": "2023-03-25T10:48:05.280603Z"
    },
    "papermill": {
     "duration": 793.632534,
     "end_time": "2023-03-25T10:48:05.283492",
     "exception": false,
     "start_time": "2023-03-25T10:34:51.650958",
     "status": "completed"
    },
    "tags": []
   },
   "outputs": [
    {
     "name": "stdout",
     "output_type": "stream",
     "text": [
      "0.8\n"
     ]
    },
    {
     "name": "stderr",
     "output_type": "stream",
     "text": [
      "UserWarning: `DataFrame.groupby_on_multiple_columns` is not currently supported by PandasOnDask, defaulting to pandas implementation.\n"
     ]
    },
    {
     "name": "stderr",
     "output_type": "stream",
     "text": [
      "FutureWarning: The `squeeze` parameter is deprecated and will be removed in a future version.\n"
     ]
    },
    {
     "name": "stderr",
     "output_type": "stream",
     "text": [
      "UserWarning: Distributing <class 'pandas.core.frame.DataFrame'> object. This may take some time.\n",
      "UserWarning: Group indices computation is not currently supported by PandasOnDask, defaulting to pandas implementation.\n"
     ]
    },
    {
     "name": "stderr",
     "output_type": "stream",
     "text": [
      "2023-03-25 10:35:20,091 - distributed.worker - ERROR - Exception during execution of task lambda-1d226ad27ad0cdb96a6cfc10f50041b1.\n",
      "Traceback (most recent call last):\n",
      "  File \"/opt/conda/lib/python3.10/site-packages/distributed/worker.py\", line 2390, in _prepare_args_for_execution\n",
      "    data[k] = self.data[k]\n",
      "  File \"/opt/conda/lib/python3.10/site-packages/distributed/spill.py\", line 245, in __getitem__\n",
      "    return super().__getitem__(key)\n",
      "  File \"/opt/conda/lib/python3.10/site-packages/zict/buffer.py\", line 108, in __getitem__\n",
      "    raise KeyError(key)\n",
      "KeyError: '_deploy_dask_func-57f3b6d8-b8f2-441f-a63a-9a099fda4dec'\n",
      "\n",
      "During handling of the above exception, another exception occurred:\n",
      "\n",
      "Traceback (most recent call last):\n",
      "  File \"/opt/conda/lib/python3.10/site-packages/distributed/worker.py\", line 2271, in execute\n",
      "    args2, kwargs2 = self._prepare_args_for_execution(ts, args, kwargs)\n",
      "  File \"/opt/conda/lib/python3.10/site-packages/distributed/worker.py\", line 2394, in _prepare_args_for_execution\n",
      "    data[k] = Actor(type(self.state.actors[k]), self.address, k, self)\n",
      "KeyError: '_deploy_dask_func-57f3b6d8-b8f2-441f-a63a-9a099fda4dec'\n"
     ]
    },
    {
     "name": "stderr",
     "output_type": "stream",
     "text": [
      "RuntimeWarning: divide by zero encountered in log\n",
      "UserWarning: Distributing <class 'dict'> object. This may take some time.\n",
      "UserWarning: Group indices computation is not currently supported by PandasOnDask, defaulting to pandas implementation.\n"
     ]
    },
    {
     "name": "stderr",
     "output_type": "stream",
     "text": [
      "2023-03-25 10:35:22,734 - distributed.worker - ERROR - Exception during execution of task lambda-88d636a8ba4f2c4ffcdd080278675d18.\n",
      "Traceback (most recent call last):\n",
      "  File \"/opt/conda/lib/python3.10/site-packages/distributed/worker.py\", line 2390, in _prepare_args_for_execution\n",
      "    data[k] = self.data[k]\n",
      "  File \"/opt/conda/lib/python3.10/site-packages/distributed/spill.py\", line 245, in __getitem__\n",
      "    return super().__getitem__(key)\n",
      "  File \"/opt/conda/lib/python3.10/site-packages/zict/buffer.py\", line 108, in __getitem__\n",
      "    raise KeyError(key)\n",
      "KeyError: '_deploy_dask_func-206d21b3-5ae7-4b11-8a3e-9e8354a691b6'\n",
      "\n",
      "During handling of the above exception, another exception occurred:\n",
      "\n",
      "Traceback (most recent call last):\n",
      "  File \"/opt/conda/lib/python3.10/site-packages/distributed/worker.py\", line 2271, in execute\n",
      "    args2, kwargs2 = self._prepare_args_for_execution(ts, args, kwargs)\n",
      "  File \"/opt/conda/lib/python3.10/site-packages/distributed/worker.py\", line 2394, in _prepare_args_for_execution\n",
      "    data[k] = Actor(type(self.state.actors[k]), self.address, k, self)\n",
      "KeyError: '_deploy_dask_func-206d21b3-5ae7-4b11-8a3e-9e8354a691b6'\n"
     ]
    },
    {
     "name": "stderr",
     "output_type": "stream",
     "text": [
      "2023-03-25 10:35:25,189 - distributed.worker - ERROR - Exception during execution of task lambda-09adc858182dcab03b732cd18d519014.\n",
      "Traceback (most recent call last):\n",
      "  File \"/opt/conda/lib/python3.10/site-packages/distributed/worker.py\", line 2390, in _prepare_args_for_execution\n",
      "    data[k] = self.data[k]\n",
      "  File \"/opt/conda/lib/python3.10/site-packages/distributed/spill.py\", line 245, in __getitem__\n",
      "    return super().__getitem__(key)\n",
      "  File \"/opt/conda/lib/python3.10/site-packages/zict/buffer.py\", line 108, in __getitem__\n",
      "    raise KeyError(key)\n",
      "KeyError: '_deploy_dask_func-ccd76ed4-88b8-4a85-89f9-39b0246c80db'\n",
      "\n",
      "During handling of the above exception, another exception occurred:\n",
      "\n",
      "Traceback (most recent call last):\n",
      "  File \"/opt/conda/lib/python3.10/site-packages/distributed/worker.py\", line 2271, in execute\n",
      "    args2, kwargs2 = self._prepare_args_for_execution(ts, args, kwargs)\n",
      "  File \"/opt/conda/lib/python3.10/site-packages/distributed/worker.py\", line 2394, in _prepare_args_for_execution\n",
      "    data[k] = Actor(type(self.state.actors[k]), self.address, k, self)\n",
      "KeyError: '_deploy_dask_func-ccd76ed4-88b8-4a85-89f9-39b0246c80db'\n"
     ]
    },
    {
     "name": "stderr",
     "output_type": "stream",
     "text": [
      "UserWarning: Distributing <class 'dict'> object. This may take some time.\n",
      "UserWarning: Group indices computation is not currently supported by PandasOnDask, defaulting to pandas implementation.\n"
     ]
    },
    {
     "name": "stderr",
     "output_type": "stream",
     "text": [
      "2023-03-25 10:35:29,855 - distributed.worker - ERROR - Exception during execution of task lambda-289dfe4e778f65da22f7ea4a3443ae83.\n",
      "Traceback (most recent call last):\n",
      "  File \"/opt/conda/lib/python3.10/site-packages/distributed/worker.py\", line 2390, in _prepare_args_for_execution\n",
      "    data[k] = self.data[k]\n",
      "  File \"/opt/conda/lib/python3.10/site-packages/distributed/spill.py\", line 245, in __getitem__\n",
      "    return super().__getitem__(key)\n",
      "  File \"/opt/conda/lib/python3.10/site-packages/zict/buffer.py\", line 108, in __getitem__\n",
      "    raise KeyError(key)\n",
      "KeyError: '_deploy_dask_func-207e592c-fce0-4703-bd71-6c7213dcf1bd'\n",
      "\n",
      "During handling of the above exception, another exception occurred:\n",
      "\n",
      "Traceback (most recent call last):\n",
      "  File \"/opt/conda/lib/python3.10/site-packages/distributed/worker.py\", line 2271, in execute\n",
      "    args2, kwargs2 = self._prepare_args_for_execution(ts, args, kwargs)\n",
      "  File \"/opt/conda/lib/python3.10/site-packages/distributed/worker.py\", line 2394, in _prepare_args_for_execution\n",
      "    data[k] = Actor(type(self.state.actors[k]), self.address, k, self)\n",
      "KeyError: '_deploy_dask_func-207e592c-fce0-4703-bd71-6c7213dcf1bd'\n"
     ]
    },
    {
     "name": "stderr",
     "output_type": "stream",
     "text": [
      "UserWarning: Distributing <class 'dict'> object. This may take some time.\n",
      "UserWarning: Group indices computation is not currently supported by PandasOnDask, defaulting to pandas implementation.\n"
     ]
    },
    {
     "name": "stderr",
     "output_type": "stream",
     "text": [
      "2023-03-25 10:35:32,591 - distributed.worker - ERROR - Exception during execution of task lambda-fddf00c4380430496ad5a461625ac6ee.\n",
      "Traceback (most recent call last):\n",
      "  File \"/opt/conda/lib/python3.10/site-packages/distributed/worker.py\", line 2390, in _prepare_args_for_execution\n",
      "    data[k] = self.data[k]\n",
      "  File \"/opt/conda/lib/python3.10/site-packages/distributed/spill.py\", line 245, in __getitem__\n",
      "    return super().__getitem__(key)\n",
      "  File \"/opt/conda/lib/python3.10/site-packages/zict/buffer.py\", line 108, in __getitem__\n",
      "    raise KeyError(key)\n",
      "KeyError: '_deploy_dask_func-1f677279-41e1-4e87-a433-90c9cd08d1ad'\n",
      "\n",
      "During handling of the above exception, another exception occurred:\n",
      "\n",
      "Traceback (most recent call last):\n",
      "  File \"/opt/conda/lib/python3.10/site-packages/distributed/worker.py\", line 2271, in execute\n",
      "    args2, kwargs2 = self._prepare_args_for_execution(ts, args, kwargs)\n",
      "  File \"/opt/conda/lib/python3.10/site-packages/distributed/worker.py\", line 2394, in _prepare_args_for_execution\n",
      "    data[k] = Actor(type(self.state.actors[k]), self.address, k, self)\n",
      "KeyError: '_deploy_dask_func-1f677279-41e1-4e87-a433-90c9cd08d1ad'\n"
     ]
    },
    {
     "name": "stderr",
     "output_type": "stream",
     "text": [
      "RuntimeWarning: divide by zero encountered in log\n"
     ]
    },
    {
     "name": "stderr",
     "output_type": "stream",
     "text": [
      "UserWarning: Distributing <class 'dict'> object. This may take some time.\n",
      "UserWarning: Group indices computation is not currently supported by PandasOnDask, defaulting to pandas implementation.\n"
     ]
    },
    {
     "name": "stderr",
     "output_type": "stream",
     "text": [
      "2023-03-25 10:35:39,958 - distributed.worker - ERROR - Exception during execution of task lambda-998a0d6547e942ea9f5ab301d4c1021f.\n",
      "Traceback (most recent call last):\n",
      "  File \"/opt/conda/lib/python3.10/site-packages/distributed/worker.py\", line 2390, in _prepare_args_for_execution\n",
      "    data[k] = self.data[k]\n",
      "  File \"/opt/conda/lib/python3.10/site-packages/distributed/spill.py\", line 245, in __getitem__\n",
      "    return super().__getitem__(key)\n",
      "  File \"/opt/conda/lib/python3.10/site-packages/zict/buffer.py\", line 108, in __getitem__\n",
      "    raise KeyError(key)\n",
      "KeyError: '_deploy_dask_func-beb9ff80-62be-4684-96b1-12ec40ccdb38'\n",
      "\n",
      "During handling of the above exception, another exception occurred:\n",
      "\n",
      "Traceback (most recent call last):\n",
      "  File \"/opt/conda/lib/python3.10/site-packages/distributed/worker.py\", line 2271, in execute\n",
      "    args2, kwargs2 = self._prepare_args_for_execution(ts, args, kwargs)\n",
      "  File \"/opt/conda/lib/python3.10/site-packages/distributed/worker.py\", line 2394, in _prepare_args_for_execution\n",
      "    data[k] = Actor(type(self.state.actors[k]), self.address, k, self)\n",
      "KeyError: '_deploy_dask_func-beb9ff80-62be-4684-96b1-12ec40ccdb38'\n"
     ]
    },
    {
     "name": "stderr",
     "output_type": "stream",
     "text": [
      "UserWarning: Distributing <class 'dict'> object. This may take some time.\n",
      "UserWarning: Group indices computation is not currently supported by PandasOnDask, defaulting to pandas implementation.\n"
     ]
    },
    {
     "name": "stderr",
     "output_type": "stream",
     "text": [
      "UserWarning: Distributing <class 'dict'> object. This may take some time.\n",
      "UserWarning: Group indices computation is not currently supported by PandasOnDask, defaulting to pandas implementation.\n"
     ]
    },
    {
     "name": "stderr",
     "output_type": "stream",
     "text": [
      "2023-03-25 10:35:53,230 - distributed.worker - ERROR - Exception during execution of task lambda-f30c36820756f2f5927fae69b76c54b2.\n",
      "Traceback (most recent call last):\n",
      "  File \"/opt/conda/lib/python3.10/site-packages/distributed/worker.py\", line 2390, in _prepare_args_for_execution\n",
      "    data[k] = self.data[k]\n",
      "  File \"/opt/conda/lib/python3.10/site-packages/distributed/spill.py\", line 245, in __getitem__\n",
      "    return super().__getitem__(key)\n",
      "  File \"/opt/conda/lib/python3.10/site-packages/zict/buffer.py\", line 108, in __getitem__\n",
      "    raise KeyError(key)\n",
      "KeyError: '_deploy_dask_func-76695c6f-e6cb-492c-87cc-5f3d474d9ceb'\n",
      "\n",
      "During handling of the above exception, another exception occurred:\n",
      "\n",
      "Traceback (most recent call last):\n",
      "  File \"/opt/conda/lib/python3.10/site-packages/distributed/worker.py\", line 2271, in execute\n",
      "    args2, kwargs2 = self._prepare_args_for_execution(ts, args, kwargs)\n",
      "  File \"/opt/conda/lib/python3.10/site-packages/distributed/worker.py\", line 2394, in _prepare_args_for_execution\n",
      "    data[k] = Actor(type(self.state.actors[k]), self.address, k, self)\n",
      "KeyError: '_deploy_dask_func-76695c6f-e6cb-492c-87cc-5f3d474d9ceb'\n"
     ]
    },
    {
     "name": "stderr",
     "output_type": "stream",
     "text": [
      "RuntimeWarning: divide by zero encountered in log\n"
     ]
    },
    {
     "name": "stderr",
     "output_type": "stream",
     "text": [
      "UserWarning: Distributing <class 'dict'> object. This may take some time.\n"
     ]
    },
    {
     "name": "stderr",
     "output_type": "stream",
     "text": [
      "UserWarning: Group indices computation is not currently supported by PandasOnDask, defaulting to pandas implementation.\n"
     ]
    },
    {
     "name": "stderr",
     "output_type": "stream",
     "text": [
      "UserWarning: Distributing <class 'dict'> object. This may take some time.\n",
      "UserWarning: Group indices computation is not currently supported by PandasOnDask, defaulting to pandas implementation.\n"
     ]
    },
    {
     "name": "stderr",
     "output_type": "stream",
     "text": [
      "2023-03-25 10:36:02,021 - distributed.worker - ERROR - Exception during execution of task lambda-3549ff507ecf3d059365395343bd3ff4.\n",
      "Traceback (most recent call last):\n",
      "  File \"/opt/conda/lib/python3.10/site-packages/distributed/worker.py\", line 2390, in _prepare_args_for_execution\n",
      "    data[k] = self.data[k]\n",
      "  File \"/opt/conda/lib/python3.10/site-packages/distributed/spill.py\", line 245, in __getitem__\n",
      "    return super().__getitem__(key)\n",
      "  File \"/opt/conda/lib/python3.10/site-packages/zict/buffer.py\", line 108, in __getitem__\n",
      "    raise KeyError(key)\n",
      "KeyError: '_deploy_dask_func-57d95169-aa8f-419b-979b-34bcbf8d4567'\n",
      "\n",
      "During handling of the above exception, another exception occurred:\n",
      "\n",
      "Traceback (most recent call last):\n",
      "  File \"/opt/conda/lib/python3.10/site-packages/distributed/worker.py\", line 2271, in execute\n",
      "    args2, kwargs2 = self._prepare_args_for_execution(ts, args, kwargs)\n",
      "  File \"/opt/conda/lib/python3.10/site-packages/distributed/worker.py\", line 2394, in _prepare_args_for_execution\n",
      "    data[k] = Actor(type(self.state.actors[k]), self.address, k, self)\n",
      "KeyError: '_deploy_dask_func-57d95169-aa8f-419b-979b-34bcbf8d4567'\n"
     ]
    },
    {
     "name": "stderr",
     "output_type": "stream",
     "text": [
      "RuntimeWarning: divide by zero encountered in log\n"
     ]
    },
    {
     "name": "stderr",
     "output_type": "stream",
     "text": [
      "RuntimeWarning: divide by zero encountered in log\n",
      "UserWarning: Distributing <class 'dict'> object. This may take some time.\n",
      "UserWarning: Group indices computation is not currently supported by PandasOnDask, defaulting to pandas implementation.\n"
     ]
    },
    {
     "name": "stderr",
     "output_type": "stream",
     "text": [
      "UserWarning: Distributing <class 'dict'> object. This may take some time.\n",
      "UserWarning: Group indices computation is not currently supported by PandasOnDask, defaulting to pandas implementation.\n"
     ]
    },
    {
     "name": "stderr",
     "output_type": "stream",
     "text": [
      "2023-03-25 10:36:18,009 - distributed.worker - ERROR - Exception during execution of task lambda-e131a12b583d6302ba7e9916aa326b81.\n",
      "Traceback (most recent call last):\n",
      "  File \"/opt/conda/lib/python3.10/site-packages/distributed/worker.py\", line 2390, in _prepare_args_for_execution\n",
      "    data[k] = self.data[k]\n",
      "  File \"/opt/conda/lib/python3.10/site-packages/distributed/spill.py\", line 245, in __getitem__\n",
      "    return super().__getitem__(key)\n",
      "  File \"/opt/conda/lib/python3.10/site-packages/zict/buffer.py\", line 108, in __getitem__\n",
      "    raise KeyError(key)\n",
      "KeyError: '_deploy_dask_func-46c555f5-d9d1-43e0-a94c-efeeb46bb75a'\n",
      "\n",
      "During handling of the above exception, another exception occurred:\n",
      "\n",
      "Traceback (most recent call last):\n",
      "  File \"/opt/conda/lib/python3.10/site-packages/distributed/worker.py\", line 2271, in execute\n",
      "    args2, kwargs2 = self._prepare_args_for_execution(ts, args, kwargs)\n",
      "  File \"/opt/conda/lib/python3.10/site-packages/distributed/worker.py\", line 2394, in _prepare_args_for_execution\n",
      "    data[k] = Actor(type(self.state.actors[k]), self.address, k, self)\n",
      "KeyError: '_deploy_dask_func-46c555f5-d9d1-43e0-a94c-efeeb46bb75a'\n"
     ]
    },
    {
     "name": "stderr",
     "output_type": "stream",
     "text": [
      "RuntimeWarning: divide by zero encountered in log\n"
     ]
    },
    {
     "name": "stderr",
     "output_type": "stream",
     "text": [
      "2023-03-25 10:36:19,656 - distributed.worker - ERROR - Exception during execution of task lambda-b672980298dfcd83a2ed073a4caf56e0.\n",
      "Traceback (most recent call last):\n",
      "  File \"/opt/conda/lib/python3.10/site-packages/distributed/worker.py\", line 2390, in _prepare_args_for_execution\n",
      "    data[k] = self.data[k]\n",
      "  File \"/opt/conda/lib/python3.10/site-packages/distributed/spill.py\", line 245, in __getitem__\n",
      "    return super().__getitem__(key)\n",
      "  File \"/opt/conda/lib/python3.10/site-packages/zict/buffer.py\", line 108, in __getitem__\n",
      "    raise KeyError(key)\n",
      "KeyError: '_deploy_dask_func-192a9125-4828-42c7-9020-962dcc78db8c'\n",
      "\n",
      "During handling of the above exception, another exception occurred:\n",
      "\n",
      "Traceback (most recent call last):\n",
      "  File \"/opt/conda/lib/python3.10/site-packages/distributed/worker.py\", line 2271, in execute\n",
      "    args2, kwargs2 = self._prepare_args_for_execution(ts, args, kwargs)\n",
      "  File \"/opt/conda/lib/python3.10/site-packages/distributed/worker.py\", line 2394, in _prepare_args_for_execution\n",
      "    data[k] = Actor(type(self.state.actors[k]), self.address, k, self)\n",
      "KeyError: '_deploy_dask_func-192a9125-4828-42c7-9020-962dcc78db8c'\n"
     ]
    },
    {
     "name": "stderr",
     "output_type": "stream",
     "text": [
      "2023-03-25 10:36:21,933 - distributed.worker - ERROR - Exception during execution of task lambda-451ae3270593015e6963cf1b4d5e6e53.\n",
      "Traceback (most recent call last):\n",
      "  File \"/opt/conda/lib/python3.10/site-packages/distributed/worker.py\", line 2390, in _prepare_args_for_execution\n",
      "    data[k] = self.data[k]\n",
      "  File \"/opt/conda/lib/python3.10/site-packages/distributed/spill.py\", line 245, in __getitem__\n",
      "    return super().__getitem__(key)\n",
      "  File \"/opt/conda/lib/python3.10/site-packages/zict/buffer.py\", line 108, in __getitem__\n",
      "    raise KeyError(key)\n",
      "KeyError: '_deploy_dask_func-87ee19f8-2521-418e-acab-66bc326cf6f2'\n",
      "\n",
      "During handling of the above exception, another exception occurred:\n",
      "\n",
      "Traceback (most recent call last):\n",
      "  File \"/opt/conda/lib/python3.10/site-packages/distributed/worker.py\", line 2271, in execute\n",
      "    args2, kwargs2 = self._prepare_args_for_execution(ts, args, kwargs)\n",
      "  File \"/opt/conda/lib/python3.10/site-packages/distributed/worker.py\", line 2394, in _prepare_args_for_execution\n",
      "    data[k] = Actor(type(self.state.actors[k]), self.address, k, self)\n",
      "KeyError: '_deploy_dask_func-87ee19f8-2521-418e-acab-66bc326cf6f2'\n"
     ]
    },
    {
     "name": "stderr",
     "output_type": "stream",
     "text": [
      "RuntimeWarning: divide by zero encountered in log\n",
      "UserWarning: Distributing <class 'dict'> object. This may take some time.\n",
      "UserWarning: Group indices computation is not currently supported by PandasOnDask, defaulting to pandas implementation.\n"
     ]
    },
    {
     "name": "stderr",
     "output_type": "stream",
     "text": [
      "UserWarning: Distributing <class 'dict'> object. This may take some time.\n",
      "UserWarning: Group indices computation is not currently supported by PandasOnDask, defaulting to pandas implementation.\n"
     ]
    },
    {
     "name": "stderr",
     "output_type": "stream",
     "text": [
      "UserWarning: Distributing <class 'dict'> object. This may take some time.\n",
      "UserWarning: Group indices computation is not currently supported by PandasOnDask, defaulting to pandas implementation.\n"
     ]
    },
    {
     "name": "stderr",
     "output_type": "stream",
     "text": [
      "2023-03-25 10:36:35,891 - distributed.worker - ERROR - Exception during execution of task lambda-c578983a516d7890965b63d606e1251b.\n",
      "Traceback (most recent call last):\n",
      "  File \"/opt/conda/lib/python3.10/site-packages/distributed/worker.py\", line 2390, in _prepare_args_for_execution\n",
      "    data[k] = self.data[k]\n",
      "  File \"/opt/conda/lib/python3.10/site-packages/distributed/spill.py\", line 245, in __getitem__\n",
      "    return super().__getitem__(key)\n",
      "  File \"/opt/conda/lib/python3.10/site-packages/zict/buffer.py\", line 108, in __getitem__\n",
      "    raise KeyError(key)\n",
      "KeyError: '_deploy_dask_func-cb5f32f3-9067-4e46-b4d8-4ff9b7657e28'\n",
      "\n",
      "During handling of the above exception, another exception occurred:\n",
      "\n",
      "Traceback (most recent call last):\n",
      "  File \"/opt/conda/lib/python3.10/site-packages/distributed/worker.py\", line 2271, in execute\n",
      "    args2, kwargs2 = self._prepare_args_for_execution(ts, args, kwargs)\n",
      "  File \"/opt/conda/lib/python3.10/site-packages/distributed/worker.py\", line 2394, in _prepare_args_for_execution\n",
      "    data[k] = Actor(type(self.state.actors[k]), self.address, k, self)\n",
      "KeyError: '_deploy_dask_func-cb5f32f3-9067-4e46-b4d8-4ff9b7657e28'\n"
     ]
    },
    {
     "name": "stderr",
     "output_type": "stream",
     "text": [
      "2023-03-25 10:36:37,712 - distributed.worker - ERROR - Exception during execution of task lambda-f5f4487e058710116abfff427fa187d7.\n",
      "Traceback (most recent call last):\n",
      "  File \"/opt/conda/lib/python3.10/site-packages/distributed/worker.py\", line 2390, in _prepare_args_for_execution\n",
      "    data[k] = self.data[k]\n",
      "  File \"/opt/conda/lib/python3.10/site-packages/distributed/spill.py\", line 245, in __getitem__\n",
      "    return super().__getitem__(key)\n",
      "  File \"/opt/conda/lib/python3.10/site-packages/zict/buffer.py\", line 108, in __getitem__\n",
      "    raise KeyError(key)\n",
      "KeyError: '_deploy_dask_func-08eccf71-8a86-4828-9dca-25564b7e6b85'\n",
      "\n",
      "During handling of the above exception, another exception occurred:\n",
      "\n",
      "Traceback (most recent call last):\n",
      "  File \"/opt/conda/lib/python3.10/site-packages/distributed/worker.py\", line 2271, in execute\n",
      "    args2, kwargs2 = self._prepare_args_for_execution(ts, args, kwargs)\n",
      "  File \"/opt/conda/lib/python3.10/site-packages/distributed/worker.py\", line 2394, in _prepare_args_for_execution\n",
      "    data[k] = Actor(type(self.state.actors[k]), self.address, k, self)\n",
      "KeyError: '_deploy_dask_func-08eccf71-8a86-4828-9dca-25564b7e6b85'\n"
     ]
    },
    {
     "name": "stderr",
     "output_type": "stream",
     "text": [
      "UserWarning: Distributing <class 'dict'> object. This may take some time.\n",
      "UserWarning: Group indices computation is not currently supported by PandasOnDask, defaulting to pandas implementation.\n"
     ]
    },
    {
     "name": "stderr",
     "output_type": "stream",
     "text": [
      "UserWarning: Distributing <class 'dict'> object. This may take some time.\n",
      "UserWarning: Group indices computation is not currently supported by PandasOnDask, defaulting to pandas implementation.\n",
      "2023-03-25 10:36:43,632 - distributed.worker - ERROR - Exception during execution of task lambda-2e1f41ec5f669610bc26672b3240830a.\n",
      "Traceback (most recent call last):\n",
      "  File \"/opt/conda/lib/python3.10/site-packages/distributed/worker.py\", line 2390, in _prepare_args_for_execution\n",
      "    data[k] = self.data[k]\n",
      "  File \"/opt/conda/lib/python3.10/site-packages/distributed/spill.py\", line 245, in __getitem__\n",
      "    return super().__getitem__(key)\n",
      "  File \"/opt/conda/lib/python3.10/site-packages/zict/buffer.py\", line 108, in __getitem__\n",
      "    raise KeyError(key)\n",
      "KeyError: 'apply_func-056d1bd6-e9ea-425c-8143-795c2af0c73a'\n",
      "\n",
      "During handling of the above exception, another exception occurred:\n",
      "\n",
      "Traceback (most recent call last):\n",
      "  File \"/opt/conda/lib/python3.10/site-packages/distributed/worker.py\", line 2271, in execute\n",
      "    args2, kwargs2 = self._prepare_args_for_execution(ts, args, kwargs)\n",
      "  File \"/opt/conda/lib/python3.10/site-packages/distributed/worker.py\", line 2394, in _prepare_args_for_execution\n",
      "    data[k] = Actor(type(self.state.actors[k]), self.address, k, self)\n",
      "KeyError: 'apply_func-056d1bd6-e9ea-425c-8143-795c2af0c73a'\n"
     ]
    },
    {
     "name": "stderr",
     "output_type": "stream",
     "text": [
      "2023-03-25 10:36:47,672 - distributed.worker - ERROR - Exception during execution of task lambda-af417fa2109075d3c85854252d93d6f6.\n",
      "Traceback (most recent call last):\n",
      "  File \"/opt/conda/lib/python3.10/site-packages/distributed/worker.py\", line 2390, in _prepare_args_for_execution\n",
      "    data[k] = self.data[k]\n",
      "  File \"/opt/conda/lib/python3.10/site-packages/distributed/spill.py\", line 245, in __getitem__\n",
      "    return super().__getitem__(key)\n",
      "  File \"/opt/conda/lib/python3.10/site-packages/zict/buffer.py\", line 108, in __getitem__\n",
      "    raise KeyError(key)\n",
      "KeyError: '_deploy_dask_func-64a63884-3704-4c69-9e0e-e58a6673b7df'\n",
      "\n",
      "During handling of the above exception, another exception occurred:\n",
      "\n",
      "Traceback (most recent call last):\n",
      "  File \"/opt/conda/lib/python3.10/site-packages/distributed/worker.py\", line 2271, in execute\n",
      "    args2, kwargs2 = self._prepare_args_for_execution(ts, args, kwargs)\n",
      "  File \"/opt/conda/lib/python3.10/site-packages/distributed/worker.py\", line 2394, in _prepare_args_for_execution\n",
      "    data[k] = Actor(type(self.state.actors[k]), self.address, k, self)\n",
      "KeyError: '_deploy_dask_func-64a63884-3704-4c69-9e0e-e58a6673b7df'\n"
     ]
    },
    {
     "name": "stderr",
     "output_type": "stream",
     "text": [
      "UserWarning: Distributing <class 'dict'> object. This may take some time.\n",
      "UserWarning: Group indices computation is not currently supported by PandasOnDask, defaulting to pandas implementation.\n"
     ]
    },
    {
     "name": "stderr",
     "output_type": "stream",
     "text": [
      "2023-03-25 10:36:50,890 - distributed.worker - ERROR - Exception during execution of task lambda-94bf548b99c1b524a17a19716db415cb.\n",
      "Traceback (most recent call last):\n",
      "  File \"/opt/conda/lib/python3.10/site-packages/distributed/worker.py\", line 2390, in _prepare_args_for_execution\n",
      "    data[k] = self.data[k]\n",
      "  File \"/opt/conda/lib/python3.10/site-packages/distributed/spill.py\", line 245, in __getitem__\n",
      "    return super().__getitem__(key)\n",
      "  File \"/opt/conda/lib/python3.10/site-packages/zict/buffer.py\", line 108, in __getitem__\n",
      "    raise KeyError(key)\n",
      "KeyError: '_deploy_dask_func-5306ed75-50be-4c53-bd38-223a99e80952'\n",
      "\n",
      "During handling of the above exception, another exception occurred:\n",
      "\n",
      "Traceback (most recent call last):\n",
      "  File \"/opt/conda/lib/python3.10/site-packages/distributed/worker.py\", line 2271, in execute\n",
      "    args2, kwargs2 = self._prepare_args_for_execution(ts, args, kwargs)\n",
      "  File \"/opt/conda/lib/python3.10/site-packages/distributed/worker.py\", line 2394, in _prepare_args_for_execution\n",
      "    data[k] = Actor(type(self.state.actors[k]), self.address, k, self)\n",
      "KeyError: '_deploy_dask_func-5306ed75-50be-4c53-bd38-223a99e80952'\n"
     ]
    },
    {
     "name": "stderr",
     "output_type": "stream",
     "text": [
      "2023-03-25 10:36:57,051 - distributed.utils_perf - WARNING - full garbage collections took 10% CPU time recently (threshold: 10%)\n"
     ]
    },
    {
     "name": "stderr",
     "output_type": "stream",
     "text": [
      "RuntimeWarning: divide by zero encountered in log\n",
      "UserWarning: Distributing <class 'dict'> object. This may take some time.\n",
      "UserWarning: Group indices computation is not currently supported by PandasOnDask, defaulting to pandas implementation.\n"
     ]
    },
    {
     "name": "stderr",
     "output_type": "stream",
     "text": [
      "2023-03-25 10:37:00,812 - distributed.worker - ERROR - Exception during execution of task lambda-1f04551b00a3d4fa6e78e329f8a3dd07.\n",
      "Traceback (most recent call last):\n",
      "  File \"/opt/conda/lib/python3.10/site-packages/distributed/worker.py\", line 2390, in _prepare_args_for_execution\n",
      "    data[k] = self.data[k]\n",
      "  File \"/opt/conda/lib/python3.10/site-packages/distributed/spill.py\", line 245, in __getitem__\n",
      "    return super().__getitem__(key)\n",
      "  File \"/opt/conda/lib/python3.10/site-packages/zict/buffer.py\", line 108, in __getitem__\n",
      "    raise KeyError(key)\n",
      "KeyError: '_deploy_dask_func-ccbe0c2b-dcc4-4e7b-8f99-123def2b1891'\n",
      "\n",
      "During handling of the above exception, another exception occurred:\n",
      "\n",
      "Traceback (most recent call last):\n",
      "  File \"/opt/conda/lib/python3.10/site-packages/distributed/worker.py\", line 2271, in execute\n",
      "    args2, kwargs2 = self._prepare_args_for_execution(ts, args, kwargs)\n",
      "  File \"/opt/conda/lib/python3.10/site-packages/distributed/worker.py\", line 2394, in _prepare_args_for_execution\n",
      "    data[k] = Actor(type(self.state.actors[k]), self.address, k, self)\n",
      "KeyError: '_deploy_dask_func-ccbe0c2b-dcc4-4e7b-8f99-123def2b1891'\n"
     ]
    },
    {
     "name": "stderr",
     "output_type": "stream",
     "text": [
      "UserWarning: Distributing <class 'dict'> object. This may take some time.\n"
     ]
    },
    {
     "name": "stderr",
     "output_type": "stream",
     "text": [
      "2023-03-25 10:37:02,823 - distributed.utils_perf - WARNING - full garbage collections took 10% CPU time recently (threshold: 10%)\n"
     ]
    },
    {
     "name": "stderr",
     "output_type": "stream",
     "text": [
      "UserWarning: Group indices computation is not currently supported by PandasOnDask, defaulting to pandas implementation.\n"
     ]
    },
    {
     "name": "stderr",
     "output_type": "stream",
     "text": [
      "2023-03-25 10:37:04,029 - distributed.worker - ERROR - Exception during execution of task lambda-b6b429021bc77b17c67d0c6114d83482.\n",
      "Traceback (most recent call last):\n",
      "  File \"/opt/conda/lib/python3.10/site-packages/distributed/worker.py\", line 2390, in _prepare_args_for_execution\n",
      "    data[k] = self.data[k]\n",
      "  File \"/opt/conda/lib/python3.10/site-packages/distributed/spill.py\", line 245, in __getitem__\n",
      "    return super().__getitem__(key)\n",
      "  File \"/opt/conda/lib/python3.10/site-packages/zict/buffer.py\", line 108, in __getitem__\n",
      "    raise KeyError(key)\n",
      "KeyError: '_deploy_dask_func-9e3b28bb-83f9-49db-b3c2-b0c73bf5bfa2'\n",
      "\n",
      "During handling of the above exception, another exception occurred:\n",
      "\n",
      "Traceback (most recent call last):\n",
      "  File \"/opt/conda/lib/python3.10/site-packages/distributed/worker.py\", line 2271, in execute\n",
      "    args2, kwargs2 = self._prepare_args_for_execution(ts, args, kwargs)\n",
      "  File \"/opt/conda/lib/python3.10/site-packages/distributed/worker.py\", line 2394, in _prepare_args_for_execution\n",
      "    data[k] = Actor(type(self.state.actors[k]), self.address, k, self)\n",
      "KeyError: '_deploy_dask_func-9e3b28bb-83f9-49db-b3c2-b0c73bf5bfa2'\n"
     ]
    },
    {
     "name": "stderr",
     "output_type": "stream",
     "text": [
      "2023-03-25 10:37:06,441 - distributed.worker - ERROR - Exception during execution of task lambda-3c1241a8aae9c974175464c0b3887a35.\n",
      "Traceback (most recent call last):\n",
      "  File \"/opt/conda/lib/python3.10/site-packages/distributed/worker.py\", line 2390, in _prepare_args_for_execution\n",
      "    data[k] = self.data[k]\n",
      "  File \"/opt/conda/lib/python3.10/site-packages/distributed/spill.py\", line 245, in __getitem__\n",
      "    return super().__getitem__(key)\n",
      "  File \"/opt/conda/lib/python3.10/site-packages/zict/buffer.py\", line 108, in __getitem__\n",
      "    raise KeyError(key)\n",
      "KeyError: '_deploy_dask_func-0183e4fe-1a6d-4bbc-af61-fb4202ae21d2'\n",
      "\n",
      "During handling of the above exception, another exception occurred:\n",
      "\n",
      "Traceback (most recent call last):\n",
      "  File \"/opt/conda/lib/python3.10/site-packages/distributed/worker.py\", line 2271, in execute\n",
      "    args2, kwargs2 = self._prepare_args_for_execution(ts, args, kwargs)\n",
      "  File \"/opt/conda/lib/python3.10/site-packages/distributed/worker.py\", line 2394, in _prepare_args_for_execution\n",
      "    data[k] = Actor(type(self.state.actors[k]), self.address, k, self)\n",
      "KeyError: '_deploy_dask_func-0183e4fe-1a6d-4bbc-af61-fb4202ae21d2'\n"
     ]
    },
    {
     "name": "stderr",
     "output_type": "stream",
     "text": [
      "UserWarning: Distributing <class 'dict'> object. This may take some time.\n",
      "UserWarning: Group indices computation is not currently supported by PandasOnDask, defaulting to pandas implementation.\n"
     ]
    },
    {
     "name": "stderr",
     "output_type": "stream",
     "text": [
      "2023-03-25 10:37:08,701 - distributed.utils_perf - WARNING - full garbage collections took 10% CPU time recently (threshold: 10%)\n"
     ]
    },
    {
     "name": "stderr",
     "output_type": "stream",
     "text": [
      "RuntimeWarning: divide by zero encountered in log\n"
     ]
    },
    {
     "name": "stderr",
     "output_type": "stream",
     "text": [
      "2023-03-25 10:37:14,669 - distributed.utils_perf - WARNING - full garbage collections took 10% CPU time recently (threshold: 10%)\n"
     ]
    },
    {
     "name": "stderr",
     "output_type": "stream",
     "text": [
      "UserWarning: Distributing <class 'dict'> object. This may take some time.\n"
     ]
    },
    {
     "name": "stderr",
     "output_type": "stream",
     "text": [
      "UserWarning: Group indices computation is not currently supported by PandasOnDask, defaulting to pandas implementation.\n"
     ]
    },
    {
     "name": "stderr",
     "output_type": "stream",
     "text": [
      "2023-03-25 10:37:20,718 - distributed.utils_perf - WARNING - full garbage collections took 10% CPU time recently (threshold: 10%)\n"
     ]
    },
    {
     "name": "stderr",
     "output_type": "stream",
     "text": [
      "2023-03-25 10:37:24,888 - distributed.worker - ERROR - Exception during execution of task lambda-115ac6f9571ceb50a7b20892a3f8111d.\n",
      "Traceback (most recent call last):\n",
      "  File \"/opt/conda/lib/python3.10/site-packages/distributed/worker.py\", line 2390, in _prepare_args_for_execution\n",
      "    data[k] = self.data[k]\n",
      "  File \"/opt/conda/lib/python3.10/site-packages/distributed/spill.py\", line 245, in __getitem__\n",
      "    return super().__getitem__(key)\n",
      "  File \"/opt/conda/lib/python3.10/site-packages/zict/buffer.py\", line 108, in __getitem__\n",
      "    raise KeyError(key)\n",
      "KeyError: '_deploy_dask_func-80301fa5-09fe-40e9-bcde-a0716859c461'\n",
      "\n",
      "During handling of the above exception, another exception occurred:\n",
      "\n",
      "Traceback (most recent call last):\n",
      "  File \"/opt/conda/lib/python3.10/site-packages/distributed/worker.py\", line 2271, in execute\n",
      "    args2, kwargs2 = self._prepare_args_for_execution(ts, args, kwargs)\n",
      "  File \"/opt/conda/lib/python3.10/site-packages/distributed/worker.py\", line 2394, in _prepare_args_for_execution\n",
      "    data[k] = Actor(type(self.state.actors[k]), self.address, k, self)\n",
      "KeyError: '_deploy_dask_func-80301fa5-09fe-40e9-bcde-a0716859c461'\n"
     ]
    },
    {
     "name": "stderr",
     "output_type": "stream",
     "text": [
      "2023-03-25 10:37:26,600 - distributed.utils_perf - WARNING - full garbage collections took 10% CPU time recently (threshold: 10%)\n"
     ]
    },
    {
     "name": "stderr",
     "output_type": "stream",
     "text": [
      "RuntimeWarning: divide by zero encountered in log\n",
      "UserWarning: Distributing <class 'dict'> object. This may take some time.\n",
      "UserWarning: Group indices computation is not currently supported by PandasOnDask, defaulting to pandas implementation.\n"
     ]
    },
    {
     "name": "stderr",
     "output_type": "stream",
     "text": [
      "2023-03-25 10:37:31,030 - distributed.worker - ERROR - Exception during execution of task lambda-baa8411fd64984b4ee4bb53fe41f6148.\n",
      "Traceback (most recent call last):\n",
      "  File \"/opt/conda/lib/python3.10/site-packages/distributed/worker.py\", line 2390, in _prepare_args_for_execution\n",
      "    data[k] = self.data[k]\n",
      "  File \"/opt/conda/lib/python3.10/site-packages/distributed/spill.py\", line 245, in __getitem__\n",
      "    return super().__getitem__(key)\n",
      "  File \"/opt/conda/lib/python3.10/site-packages/zict/buffer.py\", line 108, in __getitem__\n",
      "    raise KeyError(key)\n",
      "KeyError: '_deploy_dask_func-157457f6-3e81-4996-97ea-ae853465571b'\n",
      "\n",
      "During handling of the above exception, another exception occurred:\n",
      "\n",
      "Traceback (most recent call last):\n",
      "  File \"/opt/conda/lib/python3.10/site-packages/distributed/worker.py\", line 2271, in execute\n",
      "    args2, kwargs2 = self._prepare_args_for_execution(ts, args, kwargs)\n",
      "  File \"/opt/conda/lib/python3.10/site-packages/distributed/worker.py\", line 2394, in _prepare_args_for_execution\n",
      "    data[k] = Actor(type(self.state.actors[k]), self.address, k, self)\n",
      "KeyError: '_deploy_dask_func-157457f6-3e81-4996-97ea-ae853465571b'\n"
     ]
    },
    {
     "name": "stderr",
     "output_type": "stream",
     "text": [
      "2023-03-25 10:37:32,503 - distributed.utils_perf - WARNING - full garbage collections took 11% CPU time recently (threshold: 10%)\n"
     ]
    },
    {
     "name": "stderr",
     "output_type": "stream",
     "text": [
      "2023-03-25 10:37:33,982 - distributed.worker - ERROR - Exception during execution of task lambda-28488a714b42527691ce5bf8e0469a72.\n",
      "Traceback (most recent call last):\n",
      "  File \"/opt/conda/lib/python3.10/site-packages/distributed/worker.py\", line 2390, in _prepare_args_for_execution\n",
      "    data[k] = self.data[k]\n",
      "  File \"/opt/conda/lib/python3.10/site-packages/distributed/spill.py\", line 245, in __getitem__\n",
      "    return super().__getitem__(key)\n",
      "  File \"/opt/conda/lib/python3.10/site-packages/zict/buffer.py\", line 108, in __getitem__\n",
      "    raise KeyError(key)\n",
      "KeyError: 'apply_func-5fc49ef6-b94d-4881-9c83-0d770d7ed85b'\n",
      "\n",
      "During handling of the above exception, another exception occurred:\n",
      "\n",
      "Traceback (most recent call last):\n",
      "  File \"/opt/conda/lib/python3.10/site-packages/distributed/worker.py\", line 2271, in execute\n",
      "    args2, kwargs2 = self._prepare_args_for_execution(ts, args, kwargs)\n",
      "  File \"/opt/conda/lib/python3.10/site-packages/distributed/worker.py\", line 2394, in _prepare_args_for_execution\n",
      "    data[k] = Actor(type(self.state.actors[k]), self.address, k, self)\n",
      "KeyError: 'apply_func-5fc49ef6-b94d-4881-9c83-0d770d7ed85b'\n"
     ]
    },
    {
     "name": "stderr",
     "output_type": "stream",
     "text": [
      "2023-03-25 10:37:35,404 - distributed.worker - ERROR - Exception during execution of task lambda-6178acfbb3dfdba83229bba9e76a4ecd.\n",
      "Traceback (most recent call last):\n",
      "  File \"/opt/conda/lib/python3.10/site-packages/distributed/worker.py\", line 2390, in _prepare_args_for_execution\n",
      "    data[k] = self.data[k]\n",
      "  File \"/opt/conda/lib/python3.10/site-packages/distributed/spill.py\", line 245, in __getitem__\n",
      "    return super().__getitem__(key)\n",
      "  File \"/opt/conda/lib/python3.10/site-packages/zict/buffer.py\", line 108, in __getitem__\n",
      "    raise KeyError(key)\n",
      "KeyError: '_deploy_dask_func-8623aceb-bf0a-417f-98ec-e11f6cda3fc7'\n",
      "\n",
      "During handling of the above exception, another exception occurred:\n",
      "\n",
      "Traceback (most recent call last):\n",
      "  File \"/opt/conda/lib/python3.10/site-packages/distributed/worker.py\", line 2271, in execute\n",
      "    args2, kwargs2 = self._prepare_args_for_execution(ts, args, kwargs)\n",
      "  File \"/opt/conda/lib/python3.10/site-packages/distributed/worker.py\", line 2394, in _prepare_args_for_execution\n",
      "    data[k] = Actor(type(self.state.actors[k]), self.address, k, self)\n",
      "KeyError: '_deploy_dask_func-8623aceb-bf0a-417f-98ec-e11f6cda3fc7'\n"
     ]
    },
    {
     "name": "stderr",
     "output_type": "stream",
     "text": [
      "2023-03-25 10:37:38,862 - distributed.utils_perf - WARNING - full garbage collections took 11% CPU time recently (threshold: 10%)\n"
     ]
    },
    {
     "name": "stderr",
     "output_type": "stream",
     "text": [
      "2023-03-25 10:37:39,085 - distributed.worker - WARNING - Could not find data: {'function-b441cf020b514fddb14c58d1a8d88714': ['tcp://127.0.0.1:36939', 'tcp://127.0.0.1:43711', 'tcp://127.0.0.1:38199', 'tcp://127.0.0.1:36073', 'tcp://127.0.0.1:38009', 'tcp://127.0.0.1:38743', 'tcp://127.0.0.1:43717', 'tcp://127.0.0.1:40871', 'tcp://127.0.0.1:41309']} on workers: [] (who_has: {'function-b441cf020b514fddb14c58d1a8d88714': ['tcp://127.0.0.1:36939', 'tcp://127.0.0.1:43711', 'tcp://127.0.0.1:38199', 'tcp://127.0.0.1:36073', 'tcp://127.0.0.1:38009', 'tcp://127.0.0.1:38743', 'tcp://127.0.0.1:43717', 'tcp://127.0.0.1:40871', 'tcp://127.0.0.1:41309']})\n",
      "2023-03-25 10:37:39,086 - distributed.scheduler - WARNING - Worker tcp://127.0.0.1:39409 failed to acquire keys: {'function-b441cf020b514fddb14c58d1a8d88714': ('tcp://127.0.0.1:36939', 'tcp://127.0.0.1:43711', 'tcp://127.0.0.1:38199', 'tcp://127.0.0.1:36073', 'tcp://127.0.0.1:38009', 'tcp://127.0.0.1:38743', 'tcp://127.0.0.1:43717', 'tcp://127.0.0.1:40871', 'tcp://127.0.0.1:41309')}\n"
     ]
    },
    {
     "name": "stderr",
     "output_type": "stream",
     "text": [
      "2023-03-25 10:37:39,687 - distributed.worker - ERROR - Exception during execution of task lambda-502d7e001c6687e95e021b598cc1732e.\n",
      "Traceback (most recent call last):\n",
      "  File \"/opt/conda/lib/python3.10/site-packages/distributed/worker.py\", line 2390, in _prepare_args_for_execution\n",
      "    data[k] = self.data[k]\n",
      "  File \"/opt/conda/lib/python3.10/site-packages/distributed/spill.py\", line 245, in __getitem__\n",
      "    return super().__getitem__(key)\n",
      "  File \"/opt/conda/lib/python3.10/site-packages/zict/buffer.py\", line 108, in __getitem__\n",
      "    raise KeyError(key)\n",
      "KeyError: '_deploy_dask_func-edb0f21c-fca3-4ec2-b0ba-508801fe25cd'\n",
      "\n",
      "During handling of the above exception, another exception occurred:\n",
      "\n",
      "Traceback (most recent call last):\n",
      "  File \"/opt/conda/lib/python3.10/site-packages/distributed/worker.py\", line 2271, in execute\n",
      "    args2, kwargs2 = self._prepare_args_for_execution(ts, args, kwargs)\n",
      "  File \"/opt/conda/lib/python3.10/site-packages/distributed/worker.py\", line 2394, in _prepare_args_for_execution\n",
      "    data[k] = Actor(type(self.state.actors[k]), self.address, k, self)\n",
      "KeyError: '_deploy_dask_func-edb0f21c-fca3-4ec2-b0ba-508801fe25cd'\n"
     ]
    },
    {
     "name": "stderr",
     "output_type": "stream",
     "text": [
      "2023-03-25 10:37:42,865 - distributed.worker - ERROR - Exception during execution of task lambda-8f296533a3b9850d12720181b263ca8a.\n",
      "Traceback (most recent call last):\n",
      "  File \"/opt/conda/lib/python3.10/site-packages/distributed/worker.py\", line 2390, in _prepare_args_for_execution\n",
      "    data[k] = self.data[k]\n",
      "  File \"/opt/conda/lib/python3.10/site-packages/distributed/spill.py\", line 245, in __getitem__\n",
      "    return super().__getitem__(key)\n",
      "  File \"/opt/conda/lib/python3.10/site-packages/zict/buffer.py\", line 108, in __getitem__\n",
      "    raise KeyError(key)\n",
      "KeyError: '_deploy_dask_func-96e583ba-746a-41f7-9710-7eeed3a71f6e'\n",
      "\n",
      "During handling of the above exception, another exception occurred:\n",
      "\n",
      "Traceback (most recent call last):\n",
      "  File \"/opt/conda/lib/python3.10/site-packages/distributed/worker.py\", line 2271, in execute\n",
      "    args2, kwargs2 = self._prepare_args_for_execution(ts, args, kwargs)\n",
      "  File \"/opt/conda/lib/python3.10/site-packages/distributed/worker.py\", line 2394, in _prepare_args_for_execution\n",
      "    data[k] = Actor(type(self.state.actors[k]), self.address, k, self)\n",
      "KeyError: '_deploy_dask_func-96e583ba-746a-41f7-9710-7eeed3a71f6e'\n"
     ]
    },
    {
     "name": "stderr",
     "output_type": "stream",
     "text": [
      "RuntimeWarning: divide by zero encountered in log\n",
      "UserWarning: Distributing <class 'dict'> object. This may take some time.\n"
     ]
    },
    {
     "name": "stderr",
     "output_type": "stream",
     "text": [
      "2023-03-25 10:37:44,819 - distributed.utils_perf - WARNING - full garbage collections took 11% CPU time recently (threshold: 10%)\n"
     ]
    },
    {
     "name": "stderr",
     "output_type": "stream",
     "text": [
      "UserWarning: Group indices computation is not currently supported by PandasOnDask, defaulting to pandas implementation.\n"
     ]
    },
    {
     "name": "stderr",
     "output_type": "stream",
     "text": [
      "2023-03-25 10:37:46,733 - distributed.worker - ERROR - Exception during execution of task lambda-16af20444e48b4ccab11d13fa7dd091f.\n",
      "Traceback (most recent call last):\n",
      "  File \"/opt/conda/lib/python3.10/site-packages/distributed/worker.py\", line 2390, in _prepare_args_for_execution\n",
      "    data[k] = self.data[k]\n",
      "  File \"/opt/conda/lib/python3.10/site-packages/distributed/spill.py\", line 245, in __getitem__\n",
      "    return super().__getitem__(key)\n",
      "  File \"/opt/conda/lib/python3.10/site-packages/zict/buffer.py\", line 108, in __getitem__\n",
      "    raise KeyError(key)\n",
      "KeyError: '_deploy_dask_func-21457951-b8ad-453d-9d29-283d731a040a'\n",
      "\n",
      "During handling of the above exception, another exception occurred:\n",
      "\n",
      "Traceback (most recent call last):\n",
      "  File \"/opt/conda/lib/python3.10/site-packages/distributed/worker.py\", line 2271, in execute\n",
      "    args2, kwargs2 = self._prepare_args_for_execution(ts, args, kwargs)\n",
      "  File \"/opt/conda/lib/python3.10/site-packages/distributed/worker.py\", line 2394, in _prepare_args_for_execution\n",
      "    data[k] = Actor(type(self.state.actors[k]), self.address, k, self)\n",
      "KeyError: '_deploy_dask_func-21457951-b8ad-453d-9d29-283d731a040a'\n"
     ]
    },
    {
     "name": "stderr",
     "output_type": "stream",
     "text": [
      "2023-03-25 10:37:47,986 - distributed.worker - ERROR - Exception during execution of task lambda-a6e5bec6d97b4935e973717d3669a59e.\n",
      "Traceback (most recent call last):\n",
      "  File \"/opt/conda/lib/python3.10/site-packages/distributed/worker.py\", line 2390, in _prepare_args_for_execution\n",
      "    data[k] = self.data[k]\n",
      "  File \"/opt/conda/lib/python3.10/site-packages/distributed/spill.py\", line 245, in __getitem__\n",
      "    return super().__getitem__(key)\n",
      "  File \"/opt/conda/lib/python3.10/site-packages/zict/buffer.py\", line 108, in __getitem__\n",
      "    raise KeyError(key)\n",
      "KeyError: 'apply_func-a9d5d103-92d5-4c79-aac6-0ce022add338'\n",
      "\n",
      "During handling of the above exception, another exception occurred:\n",
      "\n",
      "Traceback (most recent call last):\n",
      "  File \"/opt/conda/lib/python3.10/site-packages/distributed/worker.py\", line 2271, in execute\n",
      "    args2, kwargs2 = self._prepare_args_for_execution(ts, args, kwargs)\n",
      "  File \"/opt/conda/lib/python3.10/site-packages/distributed/worker.py\", line 2394, in _prepare_args_for_execution\n",
      "    data[k] = Actor(type(self.state.actors[k]), self.address, k, self)\n",
      "KeyError: 'apply_func-a9d5d103-92d5-4c79-aac6-0ce022add338'\n"
     ]
    },
    {
     "name": "stderr",
     "output_type": "stream",
     "text": [
      "2023-03-25 10:37:51,316 - distributed.utils_perf - WARNING - full garbage collections took 11% CPU time recently (threshold: 10%)\n"
     ]
    },
    {
     "name": "stderr",
     "output_type": "stream",
     "text": [
      "2023-03-25 10:37:57,327 - distributed.utils_perf - WARNING - full garbage collections took 12% CPU time recently (threshold: 10%)\n"
     ]
    },
    {
     "name": "stderr",
     "output_type": "stream",
     "text": [
      "UserWarning: Distributing <class 'dict'> object. This may take some time.\n",
      "UserWarning: Group indices computation is not currently supported by PandasOnDask, defaulting to pandas implementation.\n"
     ]
    },
    {
     "name": "stderr",
     "output_type": "stream",
     "text": [
      "2023-03-25 10:38:03,444 - distributed.utils_perf - WARNING - full garbage collections took 12% CPU time recently (threshold: 10%)\n"
     ]
    },
    {
     "name": "stderr",
     "output_type": "stream",
     "text": [
      "2023-03-25 10:38:09,357 - distributed.worker - ERROR - Exception during execution of task lambda-82272d507bc610bf027a2558ada98aa3.\n",
      "Traceback (most recent call last):\n",
      "  File \"/opt/conda/lib/python3.10/site-packages/distributed/worker.py\", line 2390, in _prepare_args_for_execution\n",
      "    data[k] = self.data[k]\n",
      "  File \"/opt/conda/lib/python3.10/site-packages/distributed/spill.py\", line 245, in __getitem__\n",
      "    return super().__getitem__(key)\n",
      "  File \"/opt/conda/lib/python3.10/site-packages/zict/buffer.py\", line 108, in __getitem__\n",
      "    raise KeyError(key)\n",
      "KeyError: '_deploy_dask_func-a7888f05-396d-4548-96ad-ef5632fca291'\n",
      "\n",
      "During handling of the above exception, another exception occurred:\n",
      "\n",
      "Traceback (most recent call last):\n",
      "  File \"/opt/conda/lib/python3.10/site-packages/distributed/worker.py\", line 2271, in execute\n",
      "    args2, kwargs2 = self._prepare_args_for_execution(ts, args, kwargs)\n",
      "  File \"/opt/conda/lib/python3.10/site-packages/distributed/worker.py\", line 2394, in _prepare_args_for_execution\n",
      "    data[k] = Actor(type(self.state.actors[k]), self.address, k, self)\n",
      "KeyError: '_deploy_dask_func-a7888f05-396d-4548-96ad-ef5632fca291'\n"
     ]
    },
    {
     "name": "stderr",
     "output_type": "stream",
     "text": [
      "2023-03-25 10:38:09,926 - distributed.utils_perf - WARNING - full garbage collections took 12% CPU time recently (threshold: 10%)\n"
     ]
    },
    {
     "name": "stderr",
     "output_type": "stream",
     "text": [
      "RuntimeWarning: divide by zero encountered in log\n",
      "UserWarning: Distributing <class 'dict'> object. This may take some time.\n"
     ]
    },
    {
     "name": "stderr",
     "output_type": "stream",
     "text": [
      "UserWarning: Group indices computation is not currently supported by PandasOnDask, defaulting to pandas implementation.\n"
     ]
    },
    {
     "name": "stderr",
     "output_type": "stream",
     "text": [
      "2023-03-25 10:38:16,249 - distributed.utils_perf - WARNING - full garbage collections took 12% CPU time recently (threshold: 10%)\n"
     ]
    },
    {
     "name": "stderr",
     "output_type": "stream",
     "text": [
      "2023-03-25 10:38:16,929 - distributed.worker - ERROR - Exception during execution of task lambda-f233faa1c272be9cd58dbb5862bbe09c.\n",
      "Traceback (most recent call last):\n",
      "  File \"/opt/conda/lib/python3.10/site-packages/distributed/worker.py\", line 2390, in _prepare_args_for_execution\n",
      "    data[k] = self.data[k]\n",
      "  File \"/opt/conda/lib/python3.10/site-packages/distributed/spill.py\", line 245, in __getitem__\n",
      "    return super().__getitem__(key)\n",
      "  File \"/opt/conda/lib/python3.10/site-packages/zict/buffer.py\", line 108, in __getitem__\n",
      "    raise KeyError(key)\n",
      "KeyError: '_deploy_dask_func-a218b91d-134f-4dfb-9b99-98d63bfe734d'\n",
      "\n",
      "During handling of the above exception, another exception occurred:\n",
      "\n",
      "Traceback (most recent call last):\n",
      "  File \"/opt/conda/lib/python3.10/site-packages/distributed/worker.py\", line 2271, in execute\n",
      "    args2, kwargs2 = self._prepare_args_for_execution(ts, args, kwargs)\n",
      "  File \"/opt/conda/lib/python3.10/site-packages/distributed/worker.py\", line 2394, in _prepare_args_for_execution\n",
      "    data[k] = Actor(type(self.state.actors[k]), self.address, k, self)\n",
      "KeyError: '_deploy_dask_func-a218b91d-134f-4dfb-9b99-98d63bfe734d'\n"
     ]
    },
    {
     "name": "stderr",
     "output_type": "stream",
     "text": [
      "2023-03-25 10:38:20,683 - distributed.worker - ERROR - Exception during execution of task lambda-0668d81536a2569ff4ba675eb1d4fe85.\n",
      "Traceback (most recent call last):\n",
      "  File \"/opt/conda/lib/python3.10/site-packages/distributed/worker.py\", line 2390, in _prepare_args_for_execution\n",
      "    data[k] = self.data[k]\n",
      "  File \"/opt/conda/lib/python3.10/site-packages/distributed/spill.py\", line 245, in __getitem__\n",
      "    return super().__getitem__(key)\n",
      "  File \"/opt/conda/lib/python3.10/site-packages/zict/buffer.py\", line 108, in __getitem__\n",
      "    raise KeyError(key)\n",
      "KeyError: '_deploy_dask_func-48828535-4ed4-4085-9b92-b2631a27c5c5'\n",
      "\n",
      "During handling of the above exception, another exception occurred:\n",
      "\n",
      "Traceback (most recent call last):\n",
      "  File \"/opt/conda/lib/python3.10/site-packages/distributed/worker.py\", line 2271, in execute\n",
      "    args2, kwargs2 = self._prepare_args_for_execution(ts, args, kwargs)\n",
      "  File \"/opt/conda/lib/python3.10/site-packages/distributed/worker.py\", line 2394, in _prepare_args_for_execution\n",
      "    data[k] = Actor(type(self.state.actors[k]), self.address, k, self)\n",
      "KeyError: '_deploy_dask_func-48828535-4ed4-4085-9b92-b2631a27c5c5'\n"
     ]
    },
    {
     "name": "stderr",
     "output_type": "stream",
     "text": [
      "2023-03-25 10:38:22,939 - distributed.utils_perf - WARNING - full garbage collections took 13% CPU time recently (threshold: 10%)\n"
     ]
    },
    {
     "name": "stderr",
     "output_type": "stream",
     "text": [
      "UserWarning: Distributing <class 'dict'> object. This may take some time.\n"
     ]
    },
    {
     "name": "stderr",
     "output_type": "stream",
     "text": [
      "UserWarning: Group indices computation is not currently supported by PandasOnDask, defaulting to pandas implementation.\n"
     ]
    },
    {
     "name": "stderr",
     "output_type": "stream",
     "text": [
      "2023-03-25 10:38:24,975 - distributed.worker - ERROR - Exception during execution of task lambda-ed2c549e6e4923f6ef56213d7c131f1f.\n",
      "Traceback (most recent call last):\n",
      "  File \"/opt/conda/lib/python3.10/site-packages/distributed/worker.py\", line 2390, in _prepare_args_for_execution\n",
      "    data[k] = self.data[k]\n",
      "  File \"/opt/conda/lib/python3.10/site-packages/distributed/spill.py\", line 245, in __getitem__\n",
      "    return super().__getitem__(key)\n",
      "  File \"/opt/conda/lib/python3.10/site-packages/zict/buffer.py\", line 108, in __getitem__\n",
      "    raise KeyError(key)\n",
      "KeyError: '_deploy_dask_func-395fcfd0-e6e2-47ac-b324-19c8a3b3e8a6'\n",
      "\n",
      "During handling of the above exception, another exception occurred:\n",
      "\n",
      "Traceback (most recent call last):\n",
      "  File \"/opt/conda/lib/python3.10/site-packages/distributed/worker.py\", line 2271, in execute\n",
      "    args2, kwargs2 = self._prepare_args_for_execution(ts, args, kwargs)\n",
      "  File \"/opt/conda/lib/python3.10/site-packages/distributed/worker.py\", line 2394, in _prepare_args_for_execution\n",
      "    data[k] = Actor(type(self.state.actors[k]), self.address, k, self)\n",
      "KeyError: '_deploy_dask_func-395fcfd0-e6e2-47ac-b324-19c8a3b3e8a6'\n"
     ]
    },
    {
     "name": "stderr",
     "output_type": "stream",
     "text": [
      "2023-03-25 10:38:29,235 - distributed.utils_perf - WARNING - full garbage collections took 13% CPU time recently (threshold: 10%)\n"
     ]
    },
    {
     "name": "stderr",
     "output_type": "stream",
     "text": [
      "UserWarning: Distributing <class 'dict'> object. This may take some time.\n",
      "UserWarning: Group indices computation is not currently supported by PandasOnDask, defaulting to pandas implementation.\n"
     ]
    },
    {
     "name": "stderr",
     "output_type": "stream",
     "text": [
      "2023-03-25 10:38:35,647 - distributed.utils_perf - WARNING - full garbage collections took 13% CPU time recently (threshold: 10%)\n"
     ]
    },
    {
     "name": "stderr",
     "output_type": "stream",
     "text": [
      "2023-03-25 10:38:42,109 - distributed.utils_perf - WARNING - full garbage collections took 14% CPU time recently (threshold: 10%)\n"
     ]
    },
    {
     "name": "stderr",
     "output_type": "stream",
     "text": [
      "2023-03-25 10:38:42,974 - distributed.worker - ERROR - Exception during execution of task lambda-39ae338b29f07f1e944e61073339839d.\n",
      "Traceback (most recent call last):\n",
      "  File \"/opt/conda/lib/python3.10/site-packages/distributed/worker.py\", line 2390, in _prepare_args_for_execution\n",
      "    data[k] = self.data[k]\n",
      "  File \"/opt/conda/lib/python3.10/site-packages/distributed/spill.py\", line 245, in __getitem__\n",
      "    return super().__getitem__(key)\n",
      "  File \"/opt/conda/lib/python3.10/site-packages/zict/buffer.py\", line 108, in __getitem__\n",
      "    raise KeyError(key)\n",
      "KeyError: '_deploy_dask_func-f444a935-adcb-4dfb-96fa-f1cd3ac4477d'\n",
      "\n",
      "During handling of the above exception, another exception occurred:\n",
      "\n",
      "Traceback (most recent call last):\n",
      "  File \"/opt/conda/lib/python3.10/site-packages/distributed/worker.py\", line 2271, in execute\n",
      "    args2, kwargs2 = self._prepare_args_for_execution(ts, args, kwargs)\n",
      "  File \"/opt/conda/lib/python3.10/site-packages/distributed/worker.py\", line 2394, in _prepare_args_for_execution\n",
      "    data[k] = Actor(type(self.state.actors[k]), self.address, k, self)\n",
      "KeyError: '_deploy_dask_func-f444a935-adcb-4dfb-96fa-f1cd3ac4477d'\n"
     ]
    },
    {
     "name": "stderr",
     "output_type": "stream",
     "text": [
      "UserWarning: Distributing <class 'dict'> object. This may take some time.\n",
      "UserWarning: Group indices computation is not currently supported by PandasOnDask, defaulting to pandas implementation.\n"
     ]
    },
    {
     "name": "stderr",
     "output_type": "stream",
     "text": [
      "2023-03-25 10:38:46,679 - distributed.worker - ERROR - Exception during execution of task lambda-37fabafc8365a169e33beafbb6cf2a39.\n",
      "Traceback (most recent call last):\n",
      "  File \"/opt/conda/lib/python3.10/site-packages/distributed/worker.py\", line 2390, in _prepare_args_for_execution\n",
      "    data[k] = self.data[k]\n",
      "  File \"/opt/conda/lib/python3.10/site-packages/distributed/spill.py\", line 245, in __getitem__\n",
      "    return super().__getitem__(key)\n",
      "  File \"/opt/conda/lib/python3.10/site-packages/zict/buffer.py\", line 108, in __getitem__\n",
      "    raise KeyError(key)\n",
      "KeyError: '_deploy_dask_func-3d5078b7-f44f-4894-a096-28efaa018a7b'\n",
      "\n",
      "During handling of the above exception, another exception occurred:\n",
      "\n",
      "Traceback (most recent call last):\n",
      "  File \"/opt/conda/lib/python3.10/site-packages/distributed/worker.py\", line 2271, in execute\n",
      "    args2, kwargs2 = self._prepare_args_for_execution(ts, args, kwargs)\n",
      "  File \"/opt/conda/lib/python3.10/site-packages/distributed/worker.py\", line 2394, in _prepare_args_for_execution\n",
      "    data[k] = Actor(type(self.state.actors[k]), self.address, k, self)\n",
      "KeyError: '_deploy_dask_func-3d5078b7-f44f-4894-a096-28efaa018a7b'\n"
     ]
    },
    {
     "name": "stderr",
     "output_type": "stream",
     "text": [
      "2023-03-25 10:38:48,865 - distributed.utils_perf - WARNING - full garbage collections took 14% CPU time recently (threshold: 10%)\n"
     ]
    },
    {
     "name": "stderr",
     "output_type": "stream",
     "text": [
      "2023-03-25 10:38:50,579 - distributed.worker - ERROR - Exception during execution of task lambda-17de646fcbad67c01c71af9118169edd.\n",
      "Traceback (most recent call last):\n",
      "  File \"/opt/conda/lib/python3.10/site-packages/distributed/worker.py\", line 2390, in _prepare_args_for_execution\n",
      "    data[k] = self.data[k]\n",
      "  File \"/opt/conda/lib/python3.10/site-packages/distributed/spill.py\", line 245, in __getitem__\n",
      "    return super().__getitem__(key)\n",
      "  File \"/opt/conda/lib/python3.10/site-packages/zict/buffer.py\", line 108, in __getitem__\n",
      "    raise KeyError(key)\n",
      "KeyError: '_deploy_dask_func-9523e11f-9b4f-4d65-8daa-3c04d7f7d6c5'\n",
      "\n",
      "During handling of the above exception, another exception occurred:\n",
      "\n",
      "Traceback (most recent call last):\n",
      "  File \"/opt/conda/lib/python3.10/site-packages/distributed/worker.py\", line 2271, in execute\n",
      "    args2, kwargs2 = self._prepare_args_for_execution(ts, args, kwargs)\n",
      "  File \"/opt/conda/lib/python3.10/site-packages/distributed/worker.py\", line 2394, in _prepare_args_for_execution\n",
      "    data[k] = Actor(type(self.state.actors[k]), self.address, k, self)\n",
      "KeyError: '_deploy_dask_func-9523e11f-9b4f-4d65-8daa-3c04d7f7d6c5'\n"
     ]
    },
    {
     "name": "stderr",
     "output_type": "stream",
     "text": [
      "2023-03-25 10:38:55,681 - distributed.utils_perf - WARNING - full garbage collections took 14% CPU time recently (threshold: 10%)\n"
     ]
    },
    {
     "name": "stderr",
     "output_type": "stream",
     "text": [
      "UserWarning: Distributing <class 'dict'> object. This may take some time.\n"
     ]
    },
    {
     "name": "stderr",
     "output_type": "stream",
     "text": [
      "UserWarning: Group indices computation is not currently supported by PandasOnDask, defaulting to pandas implementation.\n"
     ]
    },
    {
     "name": "stderr",
     "output_type": "stream",
     "text": [
      "2023-03-25 10:39:02,050 - distributed.utils_perf - WARNING - full garbage collections took 14% CPU time recently (threshold: 10%)\n"
     ]
    },
    {
     "name": "stderr",
     "output_type": "stream",
     "text": [
      "2023-03-25 10:39:06,531 - distributed.worker - ERROR - Exception during execution of task lambda-fffa9e00139792849eff453c25da5bac.\n",
      "Traceback (most recent call last):\n",
      "  File \"/opt/conda/lib/python3.10/site-packages/distributed/worker.py\", line 2390, in _prepare_args_for_execution\n",
      "    data[k] = self.data[k]\n",
      "  File \"/opt/conda/lib/python3.10/site-packages/distributed/spill.py\", line 245, in __getitem__\n",
      "    return super().__getitem__(key)\n",
      "  File \"/opt/conda/lib/python3.10/site-packages/zict/buffer.py\", line 108, in __getitem__\n",
      "    raise KeyError(key)\n",
      "KeyError: '_deploy_dask_func-de6984c1-0b5e-4305-9e48-851498f0c2fa'\n",
      "\n",
      "During handling of the above exception, another exception occurred:\n",
      "\n",
      "Traceback (most recent call last):\n",
      "  File \"/opt/conda/lib/python3.10/site-packages/distributed/worker.py\", line 2271, in execute\n",
      "    args2, kwargs2 = self._prepare_args_for_execution(ts, args, kwargs)\n",
      "  File \"/opt/conda/lib/python3.10/site-packages/distributed/worker.py\", line 2394, in _prepare_args_for_execution\n",
      "    data[k] = Actor(type(self.state.actors[k]), self.address, k, self)\n",
      "KeyError: '_deploy_dask_func-de6984c1-0b5e-4305-9e48-851498f0c2fa'\n"
     ]
    },
    {
     "name": "stderr",
     "output_type": "stream",
     "text": [
      "2023-03-25 10:39:08,815 - distributed.utils_perf - WARNING - full garbage collections took 14% CPU time recently (threshold: 10%)\n"
     ]
    },
    {
     "name": "stderr",
     "output_type": "stream",
     "text": [
      "UserWarning: Distributing <class 'dict'> object. This may take some time.\n",
      "UserWarning: Group indices computation is not currently supported by PandasOnDask, defaulting to pandas implementation.\n"
     ]
    },
    {
     "name": "stderr",
     "output_type": "stream",
     "text": [
      "2023-03-25 10:39:14,387 - distributed.worker - ERROR - Exception during execution of task lambda-25daf0cbb6be63aef813835269600a74.\n",
      "Traceback (most recent call last):\n",
      "  File \"/opt/conda/lib/python3.10/site-packages/distributed/worker.py\", line 2390, in _prepare_args_for_execution\n",
      "    data[k] = self.data[k]\n",
      "  File \"/opt/conda/lib/python3.10/site-packages/distributed/spill.py\", line 245, in __getitem__\n",
      "    return super().__getitem__(key)\n",
      "  File \"/opt/conda/lib/python3.10/site-packages/zict/buffer.py\", line 108, in __getitem__\n",
      "    raise KeyError(key)\n",
      "KeyError: '_deploy_dask_func-6051a691-c401-40d5-8d44-d3cb2232dbfb'\n",
      "\n",
      "During handling of the above exception, another exception occurred:\n",
      "\n",
      "Traceback (most recent call last):\n",
      "  File \"/opt/conda/lib/python3.10/site-packages/distributed/worker.py\", line 2271, in execute\n",
      "    args2, kwargs2 = self._prepare_args_for_execution(ts, args, kwargs)\n",
      "  File \"/opt/conda/lib/python3.10/site-packages/distributed/worker.py\", line 2394, in _prepare_args_for_execution\n",
      "    data[k] = Actor(type(self.state.actors[k]), self.address, k, self)\n",
      "KeyError: '_deploy_dask_func-6051a691-c401-40d5-8d44-d3cb2232dbfb'\n"
     ]
    },
    {
     "name": "stderr",
     "output_type": "stream",
     "text": [
      "2023-03-25 10:39:15,231 - distributed.utils_perf - WARNING - full garbage collections took 14% CPU time recently (threshold: 10%)\n"
     ]
    },
    {
     "name": "stderr",
     "output_type": "stream",
     "text": [
      "UserWarning: Distributing <class 'dict'> object. This may take some time.\n",
      "UserWarning: Group indices computation is not currently supported by PandasOnDask, defaulting to pandas implementation.\n"
     ]
    },
    {
     "name": "stderr",
     "output_type": "stream",
     "text": [
      "2023-03-25 10:39:21,833 - distributed.utils_perf - WARNING - full garbage collections took 13% CPU time recently (threshold: 10%)\n"
     ]
    },
    {
     "name": "stderr",
     "output_type": "stream",
     "text": [
      "2023-03-25 10:39:29,024 - distributed.utils_perf - WARNING - full garbage collections took 13% CPU time recently (threshold: 10%)\n"
     ]
    },
    {
     "name": "stderr",
     "output_type": "stream",
     "text": [
      "UserWarning: Distributing <class 'dict'> object. This may take some time.\n",
      "UserWarning: Group indices computation is not currently supported by PandasOnDask, defaulting to pandas implementation.\n"
     ]
    },
    {
     "name": "stderr",
     "output_type": "stream",
     "text": [
      "2023-03-25 10:39:36,092 - distributed.utils_perf - WARNING - full garbage collections took 13% CPU time recently (threshold: 10%)\n"
     ]
    },
    {
     "name": "stderr",
     "output_type": "stream",
     "text": [
      "2023-03-25 10:39:43,517 - distributed.utils_perf - WARNING - full garbage collections took 13% CPU time recently (threshold: 10%)\n"
     ]
    },
    {
     "name": "stderr",
     "output_type": "stream",
     "text": [
      "UserWarning: Distributing <class 'dict'> object. This may take some time.\n",
      "UserWarning: Group indices computation is not currently supported by PandasOnDask, defaulting to pandas implementation.\n"
     ]
    },
    {
     "name": "stderr",
     "output_type": "stream",
     "text": [
      "2023-03-25 10:39:46,994 - distributed.worker - ERROR - Exception during execution of task lambda-13e6763a04fca5577115094a209592cf.\n",
      "Traceback (most recent call last):\n",
      "  File \"/opt/conda/lib/python3.10/site-packages/distributed/worker.py\", line 2390, in _prepare_args_for_execution\n",
      "    data[k] = self.data[k]\n",
      "  File \"/opt/conda/lib/python3.10/site-packages/distributed/spill.py\", line 245, in __getitem__\n",
      "    return super().__getitem__(key)\n",
      "  File \"/opt/conda/lib/python3.10/site-packages/zict/buffer.py\", line 108, in __getitem__\n",
      "    raise KeyError(key)\n",
      "KeyError: '_deploy_dask_func-3cb548db-370d-4813-9a13-d510297fcc61'\n",
      "\n",
      "During handling of the above exception, another exception occurred:\n",
      "\n",
      "Traceback (most recent call last):\n",
      "  File \"/opt/conda/lib/python3.10/site-packages/distributed/worker.py\", line 2271, in execute\n",
      "    args2, kwargs2 = self._prepare_args_for_execution(ts, args, kwargs)\n",
      "  File \"/opt/conda/lib/python3.10/site-packages/distributed/worker.py\", line 2394, in _prepare_args_for_execution\n",
      "    data[k] = Actor(type(self.state.actors[k]), self.address, k, self)\n",
      "KeyError: '_deploy_dask_func-3cb548db-370d-4813-9a13-d510297fcc61'\n"
     ]
    },
    {
     "name": "stderr",
     "output_type": "stream",
     "text": [
      "2023-03-25 10:39:50,775 - distributed.utils_perf - WARNING - full garbage collections took 13% CPU time recently (threshold: 10%)\n"
     ]
    },
    {
     "name": "stderr",
     "output_type": "stream",
     "text": [
      "2023-03-25 10:39:58,074 - distributed.utils_perf - WARNING - full garbage collections took 13% CPU time recently (threshold: 10%)\n"
     ]
    },
    {
     "name": "stderr",
     "output_type": "stream",
     "text": [
      "UserWarning: Distributing <class 'dict'> object. This may take some time.\n"
     ]
    },
    {
     "name": "stderr",
     "output_type": "stream",
     "text": [
      "UserWarning: Group indices computation is not currently supported by PandasOnDask, defaulting to pandas implementation.\n"
     ]
    },
    {
     "name": "stderr",
     "output_type": "stream",
     "text": [
      "2023-03-25 10:40:04,839 - distributed.utils_perf - WARNING - full garbage collections took 12% CPU time recently (threshold: 10%)\n"
     ]
    },
    {
     "name": "stderr",
     "output_type": "stream",
     "text": [
      "2023-03-25 10:40:07,251 - distributed.worker - ERROR - Exception during execution of task lambda-af94248fc357643f6e1f447aacc04b94.\n",
      "Traceback (most recent call last):\n",
      "  File \"/opt/conda/lib/python3.10/site-packages/distributed/worker.py\", line 2390, in _prepare_args_for_execution\n",
      "    data[k] = self.data[k]\n",
      "  File \"/opt/conda/lib/python3.10/site-packages/distributed/spill.py\", line 245, in __getitem__\n",
      "    return super().__getitem__(key)\n",
      "  File \"/opt/conda/lib/python3.10/site-packages/zict/buffer.py\", line 108, in __getitem__\n",
      "    raise KeyError(key)\n",
      "KeyError: '_deploy_dask_func-4ec70fad-17fc-44d9-bb21-41100d0461ac'\n",
      "\n",
      "During handling of the above exception, another exception occurred:\n",
      "\n",
      "Traceback (most recent call last):\n",
      "  File \"/opt/conda/lib/python3.10/site-packages/distributed/worker.py\", line 2271, in execute\n",
      "    args2, kwargs2 = self._prepare_args_for_execution(ts, args, kwargs)\n",
      "  File \"/opt/conda/lib/python3.10/site-packages/distributed/worker.py\", line 2394, in _prepare_args_for_execution\n",
      "    data[k] = Actor(type(self.state.actors[k]), self.address, k, self)\n",
      "KeyError: '_deploy_dask_func-4ec70fad-17fc-44d9-bb21-41100d0461ac'\n"
     ]
    },
    {
     "name": "stderr",
     "output_type": "stream",
     "text": [
      "2023-03-25 10:40:10,084 - distributed.worker - ERROR - Exception during execution of task lambda-57fa128da70d6b3c2ffba8fd0bd6b2c1.\n",
      "Traceback (most recent call last):\n",
      "  File \"/opt/conda/lib/python3.10/site-packages/distributed/worker.py\", line 2390, in _prepare_args_for_execution\n",
      "    data[k] = self.data[k]\n",
      "  File \"/opt/conda/lib/python3.10/site-packages/distributed/spill.py\", line 245, in __getitem__\n",
      "    return super().__getitem__(key)\n",
      "  File \"/opt/conda/lib/python3.10/site-packages/zict/buffer.py\", line 108, in __getitem__\n",
      "    raise KeyError(key)\n",
      "KeyError: '_deploy_dask_func-0f680d66-c17e-4b22-82e4-f0de052fe973'\n",
      "\n",
      "During handling of the above exception, another exception occurred:\n",
      "\n",
      "Traceback (most recent call last):\n",
      "  File \"/opt/conda/lib/python3.10/site-packages/distributed/worker.py\", line 2271, in execute\n",
      "    args2, kwargs2 = self._prepare_args_for_execution(ts, args, kwargs)\n",
      "  File \"/opt/conda/lib/python3.10/site-packages/distributed/worker.py\", line 2394, in _prepare_args_for_execution\n",
      "    data[k] = Actor(type(self.state.actors[k]), self.address, k, self)\n",
      "KeyError: '_deploy_dask_func-0f680d66-c17e-4b22-82e4-f0de052fe973'\n"
     ]
    },
    {
     "name": "stderr",
     "output_type": "stream",
     "text": [
      "2023-03-25 10:40:11,800 - distributed.utils_perf - WARNING - full garbage collections took 12% CPU time recently (threshold: 10%)\n"
     ]
    },
    {
     "name": "stderr",
     "output_type": "stream",
     "text": [
      "RuntimeWarning: divide by zero encountered in log\n",
      "UserWarning: Distributing <class 'dict'> object. This may take some time.\n",
      "UserWarning: Group indices computation is not currently supported by PandasOnDask, defaulting to pandas implementation.\n"
     ]
    },
    {
     "name": "stderr",
     "output_type": "stream",
     "text": [
      "2023-03-25 10:40:13,574 - distributed.worker - ERROR - Exception during execution of task lambda-942922ea00f1809bf1fdc2f78180cf4e.\n",
      "Traceback (most recent call last):\n",
      "  File \"/opt/conda/lib/python3.10/site-packages/distributed/worker.py\", line 2390, in _prepare_args_for_execution\n",
      "    data[k] = self.data[k]\n",
      "  File \"/opt/conda/lib/python3.10/site-packages/distributed/spill.py\", line 245, in __getitem__\n",
      "    return super().__getitem__(key)\n",
      "  File \"/opt/conda/lib/python3.10/site-packages/zict/buffer.py\", line 108, in __getitem__\n",
      "    raise KeyError(key)\n",
      "KeyError: '_deploy_dask_func-bcb99704-2817-4e2e-a2b8-3ae45d3bdbf4'\n",
      "\n",
      "During handling of the above exception, another exception occurred:\n",
      "\n",
      "Traceback (most recent call last):\n",
      "  File \"/opt/conda/lib/python3.10/site-packages/distributed/worker.py\", line 2271, in execute\n",
      "    args2, kwargs2 = self._prepare_args_for_execution(ts, args, kwargs)\n",
      "  File \"/opt/conda/lib/python3.10/site-packages/distributed/worker.py\", line 2394, in _prepare_args_for_execution\n",
      "    data[k] = Actor(type(self.state.actors[k]), self.address, k, self)\n",
      "KeyError: '_deploy_dask_func-bcb99704-2817-4e2e-a2b8-3ae45d3bdbf4'\n"
     ]
    },
    {
     "name": "stderr",
     "output_type": "stream",
     "text": [
      "2023-03-25 10:40:16,608 - distributed.worker - ERROR - Exception during execution of task lambda-49cf69ae8d280e5169619d196fd20b48.\n",
      "Traceback (most recent call last):\n",
      "  File \"/opt/conda/lib/python3.10/site-packages/distributed/worker.py\", line 2390, in _prepare_args_for_execution\n",
      "    data[k] = self.data[k]\n",
      "  File \"/opt/conda/lib/python3.10/site-packages/distributed/spill.py\", line 245, in __getitem__\n",
      "    return super().__getitem__(key)\n",
      "  File \"/opt/conda/lib/python3.10/site-packages/zict/buffer.py\", line 108, in __getitem__\n",
      "    raise KeyError(key)\n",
      "KeyError: '_deploy_dask_func-2b358d4d-de69-49d9-a1d2-054fd7cf29f3'\n",
      "\n",
      "During handling of the above exception, another exception occurred:\n",
      "\n",
      "Traceback (most recent call last):\n",
      "  File \"/opt/conda/lib/python3.10/site-packages/distributed/worker.py\", line 2271, in execute\n",
      "    args2, kwargs2 = self._prepare_args_for_execution(ts, args, kwargs)\n",
      "  File \"/opt/conda/lib/python3.10/site-packages/distributed/worker.py\", line 2394, in _prepare_args_for_execution\n",
      "    data[k] = Actor(type(self.state.actors[k]), self.address, k, self)\n",
      "KeyError: '_deploy_dask_func-2b358d4d-de69-49d9-a1d2-054fd7cf29f3'\n"
     ]
    },
    {
     "name": "stderr",
     "output_type": "stream",
     "text": [
      "2023-03-25 10:40:19,304 - distributed.utils_perf - WARNING - full garbage collections took 12% CPU time recently (threshold: 10%)\n"
     ]
    },
    {
     "name": "stderr",
     "output_type": "stream",
     "text": [
      "UserWarning: Distributing <class 'dict'> object. This may take some time.\n",
      "UserWarning: Group indices computation is not currently supported by PandasOnDask, defaulting to pandas implementation.\n"
     ]
    },
    {
     "name": "stderr",
     "output_type": "stream",
     "text": [
      "2023-03-25 10:40:26,742 - distributed.utils_perf - WARNING - full garbage collections took 13% CPU time recently (threshold: 10%)\n"
     ]
    },
    {
     "name": "stderr",
     "output_type": "stream",
     "text": [
      "2023-03-25 10:40:27,530 - distributed.worker - ERROR - Exception during execution of task lambda-2a058804b75198560ccd24c37bb74312.\n",
      "Traceback (most recent call last):\n",
      "  File \"/opt/conda/lib/python3.10/site-packages/distributed/worker.py\", line 2390, in _prepare_args_for_execution\n",
      "    data[k] = self.data[k]\n",
      "  File \"/opt/conda/lib/python3.10/site-packages/distributed/spill.py\", line 245, in __getitem__\n",
      "    return super().__getitem__(key)\n",
      "  File \"/opt/conda/lib/python3.10/site-packages/zict/buffer.py\", line 108, in __getitem__\n",
      "    raise KeyError(key)\n",
      "KeyError: '_deploy_dask_func-32817b8c-df5a-4d9b-9c4c-e31e7cc91d32'\n",
      "\n",
      "During handling of the above exception, another exception occurred:\n",
      "\n",
      "Traceback (most recent call last):\n",
      "  File \"/opt/conda/lib/python3.10/site-packages/distributed/worker.py\", line 2271, in execute\n",
      "    args2, kwargs2 = self._prepare_args_for_execution(ts, args, kwargs)\n",
      "  File \"/opt/conda/lib/python3.10/site-packages/distributed/worker.py\", line 2394, in _prepare_args_for_execution\n",
      "    data[k] = Actor(type(self.state.actors[k]), self.address, k, self)\n",
      "KeyError: '_deploy_dask_func-32817b8c-df5a-4d9b-9c4c-e31e7cc91d32'\n"
     ]
    },
    {
     "name": "stderr",
     "output_type": "stream",
     "text": [
      "UserWarning: Distributing <class 'dict'> object. This may take some time.\n",
      "UserWarning: Group indices computation is not currently supported by PandasOnDask, defaulting to pandas implementation.\n"
     ]
    },
    {
     "name": "stderr",
     "output_type": "stream",
     "text": [
      "2023-03-25 10:40:33,941 - distributed.utils_perf - WARNING - full garbage collections took 13% CPU time recently (threshold: 10%)\n"
     ]
    },
    {
     "name": "stderr",
     "output_type": "stream",
     "text": [
      "2023-03-25 10:40:40,809 - distributed.utils_perf - WARNING - full garbage collections took 13% CPU time recently (threshold: 10%)\n"
     ]
    },
    {
     "name": "stderr",
     "output_type": "stream",
     "text": [
      "UserWarning: Distributing <class 'dict'> object. This may take some time.\n",
      "UserWarning: Group indices computation is not currently supported by PandasOnDask, defaulting to pandas implementation.\n"
     ]
    },
    {
     "name": "stderr",
     "output_type": "stream",
     "text": [
      "2023-03-25 10:40:48,072 - distributed.utils_perf - WARNING - full garbage collections took 13% CPU time recently (threshold: 10%)\n"
     ]
    },
    {
     "name": "stderr",
     "output_type": "stream",
     "text": [
      "2023-03-25 10:40:50,953 - distributed.worker - ERROR - Exception during execution of task lambda-5f16177c37010074c56087916abc9c1a.\n",
      "Traceback (most recent call last):\n",
      "  File \"/opt/conda/lib/python3.10/site-packages/distributed/worker.py\", line 2390, in _prepare_args_for_execution\n",
      "    data[k] = self.data[k]\n",
      "  File \"/opt/conda/lib/python3.10/site-packages/distributed/spill.py\", line 245, in __getitem__\n",
      "    return super().__getitem__(key)\n",
      "  File \"/opt/conda/lib/python3.10/site-packages/zict/buffer.py\", line 108, in __getitem__\n",
      "    raise KeyError(key)\n",
      "KeyError: '_deploy_dask_func-61ce1b10-cd1c-4cda-b73c-067a2f367ac4'\n",
      "\n",
      "During handling of the above exception, another exception occurred:\n",
      "\n",
      "Traceback (most recent call last):\n",
      "  File \"/opt/conda/lib/python3.10/site-packages/distributed/worker.py\", line 2271, in execute\n",
      "    args2, kwargs2 = self._prepare_args_for_execution(ts, args, kwargs)\n",
      "  File \"/opt/conda/lib/python3.10/site-packages/distributed/worker.py\", line 2394, in _prepare_args_for_execution\n",
      "    data[k] = Actor(type(self.state.actors[k]), self.address, k, self)\n",
      "KeyError: '_deploy_dask_func-61ce1b10-cd1c-4cda-b73c-067a2f367ac4'\n"
     ]
    },
    {
     "name": "stderr",
     "output_type": "stream",
     "text": [
      "2023-03-25 10:40:55,711 - distributed.utils_perf - WARNING - full garbage collections took 13% CPU time recently (threshold: 10%)\n"
     ]
    },
    {
     "name": "stderr",
     "output_type": "stream",
     "text": [
      "2023-03-25 10:40:58,587 - distributed.worker - ERROR - Exception during execution of task lambda-52cf10a1ca8625cff6abb942a094c208.\n",
      "Traceback (most recent call last):\n",
      "  File \"/opt/conda/lib/python3.10/site-packages/distributed/worker.py\", line 2390, in _prepare_args_for_execution\n",
      "    data[k] = self.data[k]\n",
      "  File \"/opt/conda/lib/python3.10/site-packages/distributed/spill.py\", line 245, in __getitem__\n",
      "    return super().__getitem__(key)\n",
      "  File \"/opt/conda/lib/python3.10/site-packages/zict/buffer.py\", line 108, in __getitem__\n",
      "    raise KeyError(key)\n",
      "KeyError: '_deploy_dask_func-cecfabce-1f6f-4f36-a945-bfdf85c417f6'\n",
      "\n",
      "During handling of the above exception, another exception occurred:\n",
      "\n",
      "Traceback (most recent call last):\n",
      "  File \"/opt/conda/lib/python3.10/site-packages/distributed/worker.py\", line 2271, in execute\n",
      "    args2, kwargs2 = self._prepare_args_for_execution(ts, args, kwargs)\n",
      "  File \"/opt/conda/lib/python3.10/site-packages/distributed/worker.py\", line 2394, in _prepare_args_for_execution\n",
      "    data[k] = Actor(type(self.state.actors[k]), self.address, k, self)\n",
      "KeyError: '_deploy_dask_func-cecfabce-1f6f-4f36-a945-bfdf85c417f6'\n"
     ]
    },
    {
     "name": "stderr",
     "output_type": "stream",
     "text": [
      "RuntimeWarning: divide by zero encountered in log\n",
      "UserWarning: Distributing <class 'dict'> object. This may take some time.\n",
      "UserWarning: Group indices computation is not currently supported by PandasOnDask, defaulting to pandas implementation.\n"
     ]
    },
    {
     "name": "stderr",
     "output_type": "stream",
     "text": [
      "2023-03-25 10:41:01,148 - distributed.worker - ERROR - Exception during execution of task lambda-f04e66f72573dcffec74f141f6f564b3.\n",
      "Traceback (most recent call last):\n",
      "  File \"/opt/conda/lib/python3.10/site-packages/distributed/worker.py\", line 2390, in _prepare_args_for_execution\n",
      "    data[k] = self.data[k]\n",
      "  File \"/opt/conda/lib/python3.10/site-packages/distributed/spill.py\", line 245, in __getitem__\n",
      "    return super().__getitem__(key)\n",
      "  File \"/opt/conda/lib/python3.10/site-packages/zict/buffer.py\", line 108, in __getitem__\n",
      "    raise KeyError(key)\n",
      "KeyError: '_deploy_dask_func-7abcf6ba-e779-4a1c-9ba8-58589096058c'\n",
      "\n",
      "During handling of the above exception, another exception occurred:\n",
      "\n",
      "Traceback (most recent call last):\n",
      "  File \"/opt/conda/lib/python3.10/site-packages/distributed/worker.py\", line 2271, in execute\n",
      "    args2, kwargs2 = self._prepare_args_for_execution(ts, args, kwargs)\n",
      "  File \"/opt/conda/lib/python3.10/site-packages/distributed/worker.py\", line 2394, in _prepare_args_for_execution\n",
      "    data[k] = Actor(type(self.state.actors[k]), self.address, k, self)\n",
      "KeyError: '_deploy_dask_func-7abcf6ba-e779-4a1c-9ba8-58589096058c'\n"
     ]
    },
    {
     "name": "stderr",
     "output_type": "stream",
     "text": [
      "2023-03-25 10:41:02,887 - distributed.utils_perf - WARNING - full garbage collections took 12% CPU time recently (threshold: 10%)\n"
     ]
    },
    {
     "name": "stderr",
     "output_type": "stream",
     "text": [
      "2023-03-25 10:41:05,408 - distributed.worker - ERROR - Exception during execution of task lambda-b7c238a548ab8a91db4a090879ef1d29.\n",
      "Traceback (most recent call last):\n",
      "  File \"/opt/conda/lib/python3.10/site-packages/distributed/worker.py\", line 2390, in _prepare_args_for_execution\n",
      "    data[k] = self.data[k]\n",
      "  File \"/opt/conda/lib/python3.10/site-packages/distributed/spill.py\", line 245, in __getitem__\n",
      "    return super().__getitem__(key)\n",
      "  File \"/opt/conda/lib/python3.10/site-packages/zict/buffer.py\", line 108, in __getitem__\n",
      "    raise KeyError(key)\n",
      "KeyError: '_deploy_dask_func-e0308293-ed33-4a41-bbe7-02e0906f96ef'\n",
      "\n",
      "During handling of the above exception, another exception occurred:\n",
      "\n",
      "Traceback (most recent call last):\n",
      "  File \"/opt/conda/lib/python3.10/site-packages/distributed/worker.py\", line 2271, in execute\n",
      "    args2, kwargs2 = self._prepare_args_for_execution(ts, args, kwargs)\n",
      "  File \"/opt/conda/lib/python3.10/site-packages/distributed/worker.py\", line 2394, in _prepare_args_for_execution\n",
      "    data[k] = Actor(type(self.state.actors[k]), self.address, k, self)\n",
      "KeyError: '_deploy_dask_func-e0308293-ed33-4a41-bbe7-02e0906f96ef'\n"
     ]
    },
    {
     "name": "stderr",
     "output_type": "stream",
     "text": [
      "2023-03-25 10:41:08,889 - distributed.worker - ERROR - Exception during execution of task lambda-f697cc55b42d4f65ca1b5db7150257d0.\n",
      "Traceback (most recent call last):\n",
      "  File \"/opt/conda/lib/python3.10/site-packages/distributed/worker.py\", line 2390, in _prepare_args_for_execution\n",
      "    data[k] = self.data[k]\n",
      "  File \"/opt/conda/lib/python3.10/site-packages/distributed/spill.py\", line 245, in __getitem__\n",
      "    return super().__getitem__(key)\n",
      "  File \"/opt/conda/lib/python3.10/site-packages/zict/buffer.py\", line 108, in __getitem__\n",
      "    raise KeyError(key)\n",
      "KeyError: '_deploy_dask_func-fb54dd02-aa65-46c4-a1fd-cfeb45733076'\n",
      "\n",
      "During handling of the above exception, another exception occurred:\n",
      "\n",
      "Traceback (most recent call last):\n",
      "  File \"/opt/conda/lib/python3.10/site-packages/distributed/worker.py\", line 2271, in execute\n",
      "    args2, kwargs2 = self._prepare_args_for_execution(ts, args, kwargs)\n",
      "  File \"/opt/conda/lib/python3.10/site-packages/distributed/worker.py\", line 2394, in _prepare_args_for_execution\n",
      "    data[k] = Actor(type(self.state.actors[k]), self.address, k, self)\n",
      "KeyError: '_deploy_dask_func-fb54dd02-aa65-46c4-a1fd-cfeb45733076'\n"
     ]
    },
    {
     "name": "stderr",
     "output_type": "stream",
     "text": [
      "2023-03-25 10:41:10,465 - distributed.utils_perf - WARNING - full garbage collections took 12% CPU time recently (threshold: 10%)\n"
     ]
    },
    {
     "name": "stderr",
     "output_type": "stream",
     "text": [
      "UserWarning: Distributing <class 'dict'> object. This may take some time.\n",
      "UserWarning: Group indices computation is not currently supported by PandasOnDask, defaulting to pandas implementation.\n"
     ]
    },
    {
     "name": "stderr",
     "output_type": "stream",
     "text": [
      "2023-03-25 10:41:17,849 - distributed.utils_perf - WARNING - full garbage collections took 13% CPU time recently (threshold: 10%)\n"
     ]
    },
    {
     "name": "stderr",
     "output_type": "stream",
     "text": [
      "UserWarning: Distributing <class 'dict'> object. This may take some time.\n"
     ]
    },
    {
     "name": "stdout",
     "output_type": "stream",
     "text": [
      "0.9\n"
     ]
    },
    {
     "name": "stderr",
     "output_type": "stream",
     "text": [
      "2023-03-25 10:41:26,077 - distributed.utils_perf - WARNING - full garbage collections took 13% CPU time recently (threshold: 10%)\n"
     ]
    },
    {
     "name": "stderr",
     "output_type": "stream",
     "text": [
      "2023-03-25 10:41:32,271 - distributed.utils_perf - WARNING - full garbage collections took 13% CPU time recently (threshold: 10%)\n"
     ]
    },
    {
     "name": "stderr",
     "output_type": "stream",
     "text": [
      "UserWarning: `DataFrame.groupby_on_multiple_columns` is not currently supported by PandasOnDask, defaulting to pandas implementation.\n"
     ]
    },
    {
     "name": "stderr",
     "output_type": "stream",
     "text": [
      "2023-03-25 10:41:37,931 - distributed.utils_perf - WARNING - full garbage collections took 13% CPU time recently (threshold: 10%)\n"
     ]
    },
    {
     "name": "stderr",
     "output_type": "stream",
     "text": [
      "2023-03-25 10:41:44,390 - distributed.utils_perf - WARNING - full garbage collections took 12% CPU time recently (threshold: 10%)\n"
     ]
    },
    {
     "name": "stderr",
     "output_type": "stream",
     "text": [
      "FutureWarning: The `squeeze` parameter is deprecated and will be removed in a future version.\n"
     ]
    },
    {
     "name": "stderr",
     "output_type": "stream",
     "text": [
      "UserWarning: Distributing <class 'pandas.core.frame.DataFrame'> object. This may take some time.\n",
      "UserWarning: Group indices computation is not currently supported by PandasOnDask, defaulting to pandas implementation.\n"
     ]
    },
    {
     "name": "stderr",
     "output_type": "stream",
     "text": [
      "2023-03-25 10:41:50,621 - distributed.utils_perf - WARNING - full garbage collections took 13% CPU time recently (threshold: 10%)\n"
     ]
    },
    {
     "name": "stderr",
     "output_type": "stream",
     "text": [
      "2023-03-25 10:41:51,240 - distributed.worker - ERROR - Exception during execution of task lambda-6f80e09374c067b06d3769d6d5e05793.\n",
      "Traceback (most recent call last):\n",
      "  File \"/opt/conda/lib/python3.10/site-packages/distributed/worker.py\", line 2390, in _prepare_args_for_execution\n",
      "    data[k] = self.data[k]\n",
      "  File \"/opt/conda/lib/python3.10/site-packages/distributed/spill.py\", line 245, in __getitem__\n",
      "    return super().__getitem__(key)\n",
      "  File \"/opt/conda/lib/python3.10/site-packages/zict/buffer.py\", line 108, in __getitem__\n",
      "    raise KeyError(key)\n",
      "KeyError: '_deploy_dask_func-fc32848a-ad73-4ef0-b198-65ddbfe54c99'\n",
      "\n",
      "During handling of the above exception, another exception occurred:\n",
      "\n",
      "Traceback (most recent call last):\n",
      "  File \"/opt/conda/lib/python3.10/site-packages/distributed/worker.py\", line 2271, in execute\n",
      "    args2, kwargs2 = self._prepare_args_for_execution(ts, args, kwargs)\n",
      "  File \"/opt/conda/lib/python3.10/site-packages/distributed/worker.py\", line 2394, in _prepare_args_for_execution\n",
      "    data[k] = Actor(type(self.state.actors[k]), self.address, k, self)\n",
      "KeyError: '_deploy_dask_func-fc32848a-ad73-4ef0-b198-65ddbfe54c99'\n"
     ]
    },
    {
     "name": "stderr",
     "output_type": "stream",
     "text": [
      "2023-03-25 10:41:53,163 - distributed.worker - ERROR - Exception during execution of task lambda-71873df0742e5630357f515ae93afed4.\n",
      "Traceback (most recent call last):\n",
      "  File \"/opt/conda/lib/python3.10/site-packages/distributed/worker.py\", line 2390, in _prepare_args_for_execution\n",
      "    data[k] = self.data[k]\n",
      "  File \"/opt/conda/lib/python3.10/site-packages/distributed/spill.py\", line 245, in __getitem__\n",
      "    return super().__getitem__(key)\n",
      "  File \"/opt/conda/lib/python3.10/site-packages/zict/buffer.py\", line 108, in __getitem__\n",
      "    raise KeyError(key)\n",
      "KeyError: '_deploy_dask_func-f79c2f03-5fdc-420e-8f47-82c1ac470a67'\n",
      "\n",
      "During handling of the above exception, another exception occurred:\n",
      "\n",
      "Traceback (most recent call last):\n",
      "  File \"/opt/conda/lib/python3.10/site-packages/distributed/worker.py\", line 2271, in execute\n",
      "    args2, kwargs2 = self._prepare_args_for_execution(ts, args, kwargs)\n",
      "  File \"/opt/conda/lib/python3.10/site-packages/distributed/worker.py\", line 2394, in _prepare_args_for_execution\n",
      "    data[k] = Actor(type(self.state.actors[k]), self.address, k, self)\n",
      "KeyError: '_deploy_dask_func-f79c2f03-5fdc-420e-8f47-82c1ac470a67'\n"
     ]
    },
    {
     "name": "stderr",
     "output_type": "stream",
     "text": [
      "RuntimeWarning: divide by zero encountered in log\n",
      "UserWarning: Distributing <class 'dict'> object. This may take some time.\n",
      "UserWarning: Group indices computation is not currently supported by PandasOnDask, defaulting to pandas implementation.\n"
     ]
    },
    {
     "name": "stderr",
     "output_type": "stream",
     "text": [
      "2023-03-25 10:41:59,049 - distributed.utils_perf - WARNING - full garbage collections took 13% CPU time recently (threshold: 10%)\n"
     ]
    },
    {
     "name": "stderr",
     "output_type": "stream",
     "text": [
      "UserWarning: Distributing <class 'dict'> object. This may take some time.\n",
      "UserWarning: Group indices computation is not currently supported by PandasOnDask, defaulting to pandas implementation.\n"
     ]
    },
    {
     "name": "stderr",
     "output_type": "stream",
     "text": [
      "UserWarning: Distributing <class 'dict'> object. This may take some time.\n",
      "UserWarning: Group indices computation is not currently supported by PandasOnDask, defaulting to pandas implementation.\n"
     ]
    },
    {
     "name": "stderr",
     "output_type": "stream",
     "text": [
      "2023-03-25 10:42:07,606 - distributed.utils_perf - WARNING - full garbage collections took 12% CPU time recently (threshold: 10%)\n"
     ]
    },
    {
     "name": "stderr",
     "output_type": "stream",
     "text": [
      "2023-03-25 10:42:08,627 - distributed.worker - ERROR - Exception during execution of task lambda-7091bd599ed4c038f2919b6ceb46833e.\n",
      "Traceback (most recent call last):\n",
      "  File \"/opt/conda/lib/python3.10/site-packages/distributed/worker.py\", line 2390, in _prepare_args_for_execution\n",
      "    data[k] = self.data[k]\n",
      "  File \"/opt/conda/lib/python3.10/site-packages/distributed/spill.py\", line 245, in __getitem__\n",
      "    return super().__getitem__(key)\n",
      "  File \"/opt/conda/lib/python3.10/site-packages/zict/buffer.py\", line 108, in __getitem__\n",
      "    raise KeyError(key)\n",
      "KeyError: '_deploy_dask_func-44b85046-94ac-480a-9df3-3f0ee4415b3f'\n",
      "\n",
      "During handling of the above exception, another exception occurred:\n",
      "\n",
      "Traceback (most recent call last):\n",
      "  File \"/opt/conda/lib/python3.10/site-packages/distributed/worker.py\", line 2271, in execute\n",
      "    args2, kwargs2 = self._prepare_args_for_execution(ts, args, kwargs)\n",
      "  File \"/opt/conda/lib/python3.10/site-packages/distributed/worker.py\", line 2394, in _prepare_args_for_execution\n",
      "    data[k] = Actor(type(self.state.actors[k]), self.address, k, self)\n",
      "KeyError: '_deploy_dask_func-44b85046-94ac-480a-9df3-3f0ee4415b3f'\n"
     ]
    },
    {
     "name": "stderr",
     "output_type": "stream",
     "text": [
      "RuntimeWarning: divide by zero encountered in log\n"
     ]
    },
    {
     "name": "stderr",
     "output_type": "stream",
     "text": [
      "UserWarning: Distributing <class 'dict'> object. This may take some time.\n",
      "UserWarning: Group indices computation is not currently supported by PandasOnDask, defaulting to pandas implementation.\n"
     ]
    },
    {
     "name": "stderr",
     "output_type": "stream",
     "text": [
      "2023-03-25 10:42:13,149 - distributed.worker - ERROR - Exception during execution of task lambda-17fccb6c1c58402538f1b3952b39c467.\n",
      "Traceback (most recent call last):\n",
      "  File \"/opt/conda/lib/python3.10/site-packages/distributed/worker.py\", line 2390, in _prepare_args_for_execution\n",
      "    data[k] = self.data[k]\n",
      "  File \"/opt/conda/lib/python3.10/site-packages/distributed/spill.py\", line 245, in __getitem__\n",
      "    return super().__getitem__(key)\n",
      "  File \"/opt/conda/lib/python3.10/site-packages/zict/buffer.py\", line 108, in __getitem__\n",
      "    raise KeyError(key)\n",
      "KeyError: '_deploy_dask_func-7dc6d990-a717-46e2-b84c-91295731f3e4'\n",
      "\n",
      "During handling of the above exception, another exception occurred:\n",
      "\n",
      "Traceback (most recent call last):\n",
      "  File \"/opt/conda/lib/python3.10/site-packages/distributed/worker.py\", line 2271, in execute\n",
      "    args2, kwargs2 = self._prepare_args_for_execution(ts, args, kwargs)\n",
      "  File \"/opt/conda/lib/python3.10/site-packages/distributed/worker.py\", line 2394, in _prepare_args_for_execution\n",
      "    data[k] = Actor(type(self.state.actors[k]), self.address, k, self)\n",
      "KeyError: '_deploy_dask_func-7dc6d990-a717-46e2-b84c-91295731f3e4'\n"
     ]
    },
    {
     "name": "stderr",
     "output_type": "stream",
     "text": [
      "2023-03-25 10:42:15,646 - distributed.utils_perf - WARNING - full garbage collections took 12% CPU time recently (threshold: 10%)\n"
     ]
    },
    {
     "name": "stderr",
     "output_type": "stream",
     "text": [
      "2023-03-25 10:42:15,959 - distributed.worker - ERROR - Exception during execution of task lambda-e3e809088f0533e4e2c2f78c7a2f8994.\n",
      "Traceback (most recent call last):\n",
      "  File \"/opt/conda/lib/python3.10/site-packages/distributed/worker.py\", line 2390, in _prepare_args_for_execution\n",
      "    data[k] = self.data[k]\n",
      "  File \"/opt/conda/lib/python3.10/site-packages/distributed/spill.py\", line 245, in __getitem__\n",
      "    return super().__getitem__(key)\n",
      "  File \"/opt/conda/lib/python3.10/site-packages/zict/buffer.py\", line 108, in __getitem__\n",
      "    raise KeyError(key)\n",
      "KeyError: '_deploy_dask_func-24092eb3-f2c3-4213-ae48-c56e010b8cc5'\n",
      "\n",
      "During handling of the above exception, another exception occurred:\n",
      "\n",
      "Traceback (most recent call last):\n",
      "  File \"/opt/conda/lib/python3.10/site-packages/distributed/worker.py\", line 2271, in execute\n",
      "    args2, kwargs2 = self._prepare_args_for_execution(ts, args, kwargs)\n",
      "  File \"/opt/conda/lib/python3.10/site-packages/distributed/worker.py\", line 2394, in _prepare_args_for_execution\n",
      "    data[k] = Actor(type(self.state.actors[k]), self.address, k, self)\n",
      "KeyError: '_deploy_dask_func-24092eb3-f2c3-4213-ae48-c56e010b8cc5'\n"
     ]
    },
    {
     "name": "stderr",
     "output_type": "stream",
     "text": [
      "UserWarning: Distributing <class 'dict'> object. This may take some time.\n",
      "UserWarning: Group indices computation is not currently supported by PandasOnDask, defaulting to pandas implementation.\n"
     ]
    },
    {
     "name": "stderr",
     "output_type": "stream",
     "text": [
      "2023-03-25 10:42:21,087 - distributed.worker - ERROR - Exception during execution of task lambda-991b2330448c9fa2b020db259afa690e.\n",
      "Traceback (most recent call last):\n",
      "  File \"/opt/conda/lib/python3.10/site-packages/distributed/worker.py\", line 2390, in _prepare_args_for_execution\n",
      "    data[k] = self.data[k]\n",
      "  File \"/opt/conda/lib/python3.10/site-packages/distributed/spill.py\", line 245, in __getitem__\n",
      "    return super().__getitem__(key)\n",
      "  File \"/opt/conda/lib/python3.10/site-packages/zict/buffer.py\", line 108, in __getitem__\n",
      "    raise KeyError(key)\n",
      "KeyError: '_deploy_dask_func-52dd65bc-544f-461d-a897-9ce737bb8705'\n",
      "\n",
      "During handling of the above exception, another exception occurred:\n",
      "\n",
      "Traceback (most recent call last):\n",
      "  File \"/opt/conda/lib/python3.10/site-packages/distributed/worker.py\", line 2271, in execute\n",
      "    args2, kwargs2 = self._prepare_args_for_execution(ts, args, kwargs)\n",
      "  File \"/opt/conda/lib/python3.10/site-packages/distributed/worker.py\", line 2394, in _prepare_args_for_execution\n",
      "    data[k] = Actor(type(self.state.actors[k]), self.address, k, self)\n",
      "KeyError: '_deploy_dask_func-52dd65bc-544f-461d-a897-9ce737bb8705'\n"
     ]
    },
    {
     "name": "stderr",
     "output_type": "stream",
     "text": [
      "UserWarning: Distributing <class 'dict'> object. This may take some time.\n",
      "UserWarning: Group indices computation is not currently supported by PandasOnDask, defaulting to pandas implementation.\n"
     ]
    },
    {
     "name": "stderr",
     "output_type": "stream",
     "text": [
      "2023-03-25 10:42:24,490 - distributed.utils_perf - WARNING - full garbage collections took 12% CPU time recently (threshold: 10%)\n"
     ]
    },
    {
     "name": "stderr",
     "output_type": "stream",
     "text": [
      "2023-03-25 10:42:27,104 - distributed.worker - ERROR - Exception during execution of task lambda-166194dd4145653748517b1923607ce3.\n",
      "Traceback (most recent call last):\n",
      "  File \"/opt/conda/lib/python3.10/site-packages/distributed/worker.py\", line 2390, in _prepare_args_for_execution\n",
      "    data[k] = self.data[k]\n",
      "  File \"/opt/conda/lib/python3.10/site-packages/distributed/spill.py\", line 245, in __getitem__\n",
      "    return super().__getitem__(key)\n",
      "  File \"/opt/conda/lib/python3.10/site-packages/zict/buffer.py\", line 108, in __getitem__\n",
      "    raise KeyError(key)\n",
      "KeyError: '_deploy_dask_func-4e665877-1d28-4195-ba83-e1676e6fa101'\n",
      "\n",
      "During handling of the above exception, another exception occurred:\n",
      "\n",
      "Traceback (most recent call last):\n",
      "  File \"/opt/conda/lib/python3.10/site-packages/distributed/worker.py\", line 2271, in execute\n",
      "    args2, kwargs2 = self._prepare_args_for_execution(ts, args, kwargs)\n",
      "  File \"/opt/conda/lib/python3.10/site-packages/distributed/worker.py\", line 2394, in _prepare_args_for_execution\n",
      "    data[k] = Actor(type(self.state.actors[k]), self.address, k, self)\n",
      "KeyError: '_deploy_dask_func-4e665877-1d28-4195-ba83-e1676e6fa101'\n"
     ]
    },
    {
     "name": "stderr",
     "output_type": "stream",
     "text": [
      "RuntimeWarning: divide by zero encountered in log\n"
     ]
    },
    {
     "name": "stderr",
     "output_type": "stream",
     "text": [
      "2023-03-25 10:42:29,098 - distributed.worker - ERROR - Exception during execution of task lambda-cedbc3df0461c1b386ac9db689e03600.\n",
      "Traceback (most recent call last):\n",
      "  File \"/opt/conda/lib/python3.10/site-packages/distributed/worker.py\", line 2390, in _prepare_args_for_execution\n",
      "    data[k] = self.data[k]\n",
      "  File \"/opt/conda/lib/python3.10/site-packages/distributed/spill.py\", line 245, in __getitem__\n",
      "    return super().__getitem__(key)\n",
      "  File \"/opt/conda/lib/python3.10/site-packages/zict/buffer.py\", line 108, in __getitem__\n",
      "    raise KeyError(key)\n",
      "KeyError: '_deploy_dask_func-6305b0f2-8c3b-4ba8-a82b-48f0df5a307c'\n",
      "\n",
      "During handling of the above exception, another exception occurred:\n",
      "\n",
      "Traceback (most recent call last):\n",
      "  File \"/opt/conda/lib/python3.10/site-packages/distributed/worker.py\", line 2271, in execute\n",
      "    args2, kwargs2 = self._prepare_args_for_execution(ts, args, kwargs)\n",
      "  File \"/opt/conda/lib/python3.10/site-packages/distributed/worker.py\", line 2394, in _prepare_args_for_execution\n",
      "    data[k] = Actor(type(self.state.actors[k]), self.address, k, self)\n",
      "KeyError: '_deploy_dask_func-6305b0f2-8c3b-4ba8-a82b-48f0df5a307c'\n"
     ]
    },
    {
     "name": "stderr",
     "output_type": "stream",
     "text": [
      "UserWarning: Distributing <class 'dict'> object. This may take some time.\n",
      "UserWarning: Group indices computation is not currently supported by PandasOnDask, defaulting to pandas implementation.\n"
     ]
    },
    {
     "name": "stderr",
     "output_type": "stream",
     "text": [
      "2023-03-25 10:42:31,571 - distributed.worker - ERROR - Exception during execution of task lambda-c1c2ad5b76a057753d587a52b0f95859.\n",
      "Traceback (most recent call last):\n",
      "  File \"/opt/conda/lib/python3.10/site-packages/distributed/worker.py\", line 2390, in _prepare_args_for_execution\n",
      "    data[k] = self.data[k]\n",
      "  File \"/opt/conda/lib/python3.10/site-packages/distributed/spill.py\", line 245, in __getitem__\n",
      "    return super().__getitem__(key)\n",
      "  File \"/opt/conda/lib/python3.10/site-packages/zict/buffer.py\", line 108, in __getitem__\n",
      "    raise KeyError(key)\n",
      "KeyError: '_deploy_dask_func-710ad033-1510-4afc-a29f-6b8d6faa1fb4'\n",
      "\n",
      "During handling of the above exception, another exception occurred:\n",
      "\n",
      "Traceback (most recent call last):\n",
      "  File \"/opt/conda/lib/python3.10/site-packages/distributed/worker.py\", line 2271, in execute\n",
      "    args2, kwargs2 = self._prepare_args_for_execution(ts, args, kwargs)\n",
      "  File \"/opt/conda/lib/python3.10/site-packages/distributed/worker.py\", line 2394, in _prepare_args_for_execution\n",
      "    data[k] = Actor(type(self.state.actors[k]), self.address, k, self)\n",
      "KeyError: '_deploy_dask_func-710ad033-1510-4afc-a29f-6b8d6faa1fb4'\n"
     ]
    },
    {
     "name": "stderr",
     "output_type": "stream",
     "text": [
      "2023-03-25 10:42:32,806 - distributed.utils_perf - WARNING - full garbage collections took 12% CPU time recently (threshold: 10%)\n"
     ]
    },
    {
     "name": "stderr",
     "output_type": "stream",
     "text": [
      "2023-03-25 10:42:34,449 - distributed.worker - ERROR - Exception during execution of task lambda-16f8f5257e1e85f66505d6d096e42fcf.\n",
      "Traceback (most recent call last):\n",
      "  File \"/opt/conda/lib/python3.10/site-packages/distributed/worker.py\", line 2390, in _prepare_args_for_execution\n",
      "    data[k] = self.data[k]\n",
      "  File \"/opt/conda/lib/python3.10/site-packages/distributed/spill.py\", line 245, in __getitem__\n",
      "    return super().__getitem__(key)\n",
      "  File \"/opt/conda/lib/python3.10/site-packages/zict/buffer.py\", line 108, in __getitem__\n",
      "    raise KeyError(key)\n",
      "KeyError: '_deploy_dask_func-18244efc-3470-49cf-a5ce-588d2dfc008a'\n",
      "\n",
      "During handling of the above exception, another exception occurred:\n",
      "\n",
      "Traceback (most recent call last):\n",
      "  File \"/opt/conda/lib/python3.10/site-packages/distributed/worker.py\", line 2271, in execute\n",
      "    args2, kwargs2 = self._prepare_args_for_execution(ts, args, kwargs)\n",
      "  File \"/opt/conda/lib/python3.10/site-packages/distributed/worker.py\", line 2394, in _prepare_args_for_execution\n",
      "    data[k] = Actor(type(self.state.actors[k]), self.address, k, self)\n",
      "KeyError: '_deploy_dask_func-18244efc-3470-49cf-a5ce-588d2dfc008a'\n"
     ]
    },
    {
     "name": "stderr",
     "output_type": "stream",
     "text": [
      "UserWarning: Distributing <class 'dict'> object. This may take some time.\n",
      "2023-03-25 10:42:35,550 - distributed.worker - ERROR - Exception during execution of task lambda-5408ff9af345efacd8bd0b8d9b3b4fec.\n",
      "Traceback (most recent call last):\n",
      "  File \"/opt/conda/lib/python3.10/site-packages/distributed/worker.py\", line 2390, in _prepare_args_for_execution\n",
      "    data[k] = self.data[k]\n",
      "  File \"/opt/conda/lib/python3.10/site-packages/distributed/spill.py\", line 245, in __getitem__\n",
      "    return super().__getitem__(key)\n",
      "  File \"/opt/conda/lib/python3.10/site-packages/zict/buffer.py\", line 108, in __getitem__\n",
      "    raise KeyError(key)\n",
      "KeyError: 'apply_list_of_funcs-6fecaa7a-78cb-4e58-9f78-37ede02c854b'\n",
      "\n",
      "During handling of the above exception, another exception occurred:\n",
      "\n",
      "Traceback (most recent call last):\n",
      "  File \"/opt/conda/lib/python3.10/site-packages/distributed/worker.py\", line 2271, in execute\n",
      "    args2, kwargs2 = self._prepare_args_for_execution(ts, args, kwargs)\n",
      "  File \"/opt/conda/lib/python3.10/site-packages/distributed/worker.py\", line 2394, in _prepare_args_for_execution\n",
      "    data[k] = Actor(type(self.state.actors[k]), self.address, k, self)\n",
      "KeyError: 'apply_list_of_funcs-6fecaa7a-78cb-4e58-9f78-37ede02c854b'\n",
      "UserWarning: Group indices computation is not currently supported by PandasOnDask, defaulting to pandas implementation.\n"
     ]
    },
    {
     "name": "stderr",
     "output_type": "stream",
     "text": [
      "RuntimeWarning: divide by zero encountered in log\n"
     ]
    },
    {
     "name": "stderr",
     "output_type": "stream",
     "text": [
      "2023-03-25 10:42:38,396 - distributed.worker - ERROR - Exception during execution of task lambda-30f74d20892222c0929cb8ef5da6b4ec.\n",
      "Traceback (most recent call last):\n",
      "  File \"/opt/conda/lib/python3.10/site-packages/distributed/worker.py\", line 2390, in _prepare_args_for_execution\n",
      "    data[k] = self.data[k]\n",
      "  File \"/opt/conda/lib/python3.10/site-packages/distributed/spill.py\", line 245, in __getitem__\n",
      "    return super().__getitem__(key)\n",
      "  File \"/opt/conda/lib/python3.10/site-packages/zict/buffer.py\", line 108, in __getitem__\n",
      "    raise KeyError(key)\n",
      "KeyError: '_deploy_dask_func-a8bda3c6-7381-4d03-a151-90ccbaa3ac0c'\n",
      "\n",
      "During handling of the above exception, another exception occurred:\n",
      "\n",
      "Traceback (most recent call last):\n",
      "  File \"/opt/conda/lib/python3.10/site-packages/distributed/worker.py\", line 2271, in execute\n",
      "    args2, kwargs2 = self._prepare_args_for_execution(ts, args, kwargs)\n",
      "  File \"/opt/conda/lib/python3.10/site-packages/distributed/worker.py\", line 2394, in _prepare_args_for_execution\n",
      "    data[k] = Actor(type(self.state.actors[k]), self.address, k, self)\n",
      "KeyError: '_deploy_dask_func-a8bda3c6-7381-4d03-a151-90ccbaa3ac0c'\n"
     ]
    },
    {
     "name": "stderr",
     "output_type": "stream",
     "text": [
      "2023-03-25 10:42:41,352 - distributed.utils_perf - WARNING - full garbage collections took 12% CPU time recently (threshold: 10%)\n"
     ]
    },
    {
     "name": "stderr",
     "output_type": "stream",
     "text": [
      "RuntimeWarning: divide by zero encountered in log\n",
      "UserWarning: Distributing <class 'dict'> object. This may take some time.\n",
      "UserWarning: Group indices computation is not currently supported by PandasOnDask, defaulting to pandas implementation.\n"
     ]
    },
    {
     "name": "stderr",
     "output_type": "stream",
     "text": [
      "2023-03-25 10:42:49,775 - distributed.utils_perf - WARNING - full garbage collections took 12% CPU time recently (threshold: 10%)\n"
     ]
    },
    {
     "name": "stderr",
     "output_type": "stream",
     "text": [
      "UserWarning: Distributing <class 'dict'> object. This may take some time.\n",
      "UserWarning: Group indices computation is not currently supported by PandasOnDask, defaulting to pandas implementation.\n"
     ]
    },
    {
     "name": "stderr",
     "output_type": "stream",
     "text": [
      "2023-03-25 10:42:51,998 - distributed.worker - ERROR - Exception during execution of task lambda-7993ea6ce0a8f88fa1eee47eef0f5da6.\n",
      "Traceback (most recent call last):\n",
      "  File \"/opt/conda/lib/python3.10/site-packages/distributed/worker.py\", line 2390, in _prepare_args_for_execution\n",
      "    data[k] = self.data[k]\n",
      "  File \"/opt/conda/lib/python3.10/site-packages/distributed/spill.py\", line 245, in __getitem__\n",
      "    return super().__getitem__(key)\n",
      "  File \"/opt/conda/lib/python3.10/site-packages/zict/buffer.py\", line 108, in __getitem__\n",
      "    raise KeyError(key)\n",
      "KeyError: '_deploy_dask_func-ac39f637-8748-4e30-879b-64029ade79ba'\n",
      "\n",
      "During handling of the above exception, another exception occurred:\n",
      "\n",
      "Traceback (most recent call last):\n",
      "  File \"/opt/conda/lib/python3.10/site-packages/distributed/worker.py\", line 2271, in execute\n",
      "    args2, kwargs2 = self._prepare_args_for_execution(ts, args, kwargs)\n",
      "  File \"/opt/conda/lib/python3.10/site-packages/distributed/worker.py\", line 2394, in _prepare_args_for_execution\n",
      "    data[k] = Actor(type(self.state.actors[k]), self.address, k, self)\n",
      "KeyError: '_deploy_dask_func-ac39f637-8748-4e30-879b-64029ade79ba'\n"
     ]
    },
    {
     "name": "stderr",
     "output_type": "stream",
     "text": [
      "2023-03-25 10:42:53,755 - distributed.worker - ERROR - Exception during execution of task lambda-b36f93dc22c5b71e986e596d230d2b25.\n",
      "Traceback (most recent call last):\n",
      "  File \"/opt/conda/lib/python3.10/site-packages/distributed/worker.py\", line 2390, in _prepare_args_for_execution\n",
      "    data[k] = self.data[k]\n",
      "  File \"/opt/conda/lib/python3.10/site-packages/distributed/spill.py\", line 245, in __getitem__\n",
      "    return super().__getitem__(key)\n",
      "  File \"/opt/conda/lib/python3.10/site-packages/zict/buffer.py\", line 108, in __getitem__\n",
      "    raise KeyError(key)\n",
      "KeyError: '_deploy_dask_func-e12a1d4e-b3a5-4d69-bd5f-5b7732100e0c'\n",
      "\n",
      "During handling of the above exception, another exception occurred:\n",
      "\n",
      "Traceback (most recent call last):\n",
      "  File \"/opt/conda/lib/python3.10/site-packages/distributed/worker.py\", line 2271, in execute\n",
      "    args2, kwargs2 = self._prepare_args_for_execution(ts, args, kwargs)\n",
      "  File \"/opt/conda/lib/python3.10/site-packages/distributed/worker.py\", line 2394, in _prepare_args_for_execution\n",
      "    data[k] = Actor(type(self.state.actors[k]), self.address, k, self)\n",
      "KeyError: '_deploy_dask_func-e12a1d4e-b3a5-4d69-bd5f-5b7732100e0c'\n"
     ]
    },
    {
     "name": "stderr",
     "output_type": "stream",
     "text": [
      "RuntimeWarning: divide by zero encountered in log\n"
     ]
    },
    {
     "name": "stderr",
     "output_type": "stream",
     "text": [
      "2023-03-25 10:42:55,488 - distributed.worker - ERROR - Exception during execution of task lambda-1ec4fd19995e596a5e9cb7a935f40474.\n",
      "Traceback (most recent call last):\n",
      "  File \"/opt/conda/lib/python3.10/site-packages/distributed/worker.py\", line 2390, in _prepare_args_for_execution\n",
      "    data[k] = self.data[k]\n",
      "  File \"/opt/conda/lib/python3.10/site-packages/distributed/spill.py\", line 245, in __getitem__\n",
      "    return super().__getitem__(key)\n",
      "  File \"/opt/conda/lib/python3.10/site-packages/zict/buffer.py\", line 108, in __getitem__\n",
      "    raise KeyError(key)\n",
      "KeyError: '_deploy_dask_func-0dc00c28-57aa-41d7-825b-6711d5cd9080'\n",
      "\n",
      "During handling of the above exception, another exception occurred:\n",
      "\n",
      "Traceback (most recent call last):\n",
      "  File \"/opt/conda/lib/python3.10/site-packages/distributed/worker.py\", line 2271, in execute\n",
      "    args2, kwargs2 = self._prepare_args_for_execution(ts, args, kwargs)\n",
      "  File \"/opt/conda/lib/python3.10/site-packages/distributed/worker.py\", line 2394, in _prepare_args_for_execution\n",
      "    data[k] = Actor(type(self.state.actors[k]), self.address, k, self)\n",
      "KeyError: '_deploy_dask_func-0dc00c28-57aa-41d7-825b-6711d5cd9080'\n"
     ]
    },
    {
     "name": "stderr",
     "output_type": "stream",
     "text": [
      "2023-03-25 10:42:58,498 - distributed.utils_perf - WARNING - full garbage collections took 12% CPU time recently (threshold: 10%)\n"
     ]
    },
    {
     "name": "stderr",
     "output_type": "stream",
     "text": [
      "RuntimeWarning: divide by zero encountered in log\n",
      "UserWarning: Distributing <class 'dict'> object. This may take some time.\n",
      "UserWarning: Group indices computation is not currently supported by PandasOnDask, defaulting to pandas implementation.\n"
     ]
    },
    {
     "name": "stderr",
     "output_type": "stream",
     "text": [
      "2023-03-25 10:43:00,627 - distributed.worker - ERROR - Exception during execution of task lambda-0f183660cefc04d408174e7ffda16311.\n",
      "Traceback (most recent call last):\n",
      "  File \"/opt/conda/lib/python3.10/site-packages/distributed/worker.py\", line 2390, in _prepare_args_for_execution\n",
      "    data[k] = self.data[k]\n",
      "  File \"/opt/conda/lib/python3.10/site-packages/distributed/spill.py\", line 245, in __getitem__\n",
      "    return super().__getitem__(key)\n",
      "  File \"/opt/conda/lib/python3.10/site-packages/zict/buffer.py\", line 108, in __getitem__\n",
      "    raise KeyError(key)\n",
      "KeyError: '_deploy_dask_func-f2242d5b-0640-48f2-9740-f3c15045bd81'\n",
      "\n",
      "During handling of the above exception, another exception occurred:\n",
      "\n",
      "Traceback (most recent call last):\n",
      "  File \"/opt/conda/lib/python3.10/site-packages/distributed/worker.py\", line 2271, in execute\n",
      "    args2, kwargs2 = self._prepare_args_for_execution(ts, args, kwargs)\n",
      "  File \"/opt/conda/lib/python3.10/site-packages/distributed/worker.py\", line 2394, in _prepare_args_for_execution\n",
      "    data[k] = Actor(type(self.state.actors[k]), self.address, k, self)\n",
      "KeyError: '_deploy_dask_func-f2242d5b-0640-48f2-9740-f3c15045bd81'\n"
     ]
    },
    {
     "name": "stderr",
     "output_type": "stream",
     "text": [
      "UserWarning: Distributing <class 'dict'> object. This may take some time.\n",
      "UserWarning: Group indices computation is not currently supported by PandasOnDask, defaulting to pandas implementation.\n"
     ]
    },
    {
     "name": "stderr",
     "output_type": "stream",
     "text": [
      "2023-03-25 10:43:06,916 - distributed.utils_perf - WARNING - full garbage collections took 12% CPU time recently (threshold: 10%)\n"
     ]
    },
    {
     "name": "stderr",
     "output_type": "stream",
     "text": [
      "UserWarning: Distributing <class 'dict'> object. This may take some time.\n",
      "UserWarning: Group indices computation is not currently supported by PandasOnDask, defaulting to pandas implementation.\n"
     ]
    },
    {
     "name": "stderr",
     "output_type": "stream",
     "text": [
      "UserWarning: `Series.to_numpy` for empty DataFrame is not currently supported by PandasOnDask, defaulting to pandas implementation.\n"
     ]
    },
    {
     "name": "stderr",
     "output_type": "stream",
     "text": [
      "UserWarning: `Series.to_numpy` for empty DataFrame is not currently supported by PandasOnDask, defaulting to pandas implementation.\n"
     ]
    },
    {
     "name": "stderr",
     "output_type": "stream",
     "text": [
      "2023-03-25 10:43:14,437 - distributed.worker - ERROR - Exception during execution of task lambda-0320d9e6f6a673f91e194314af60da28.\n",
      "Traceback (most recent call last):\n",
      "  File \"/opt/conda/lib/python3.10/site-packages/distributed/worker.py\", line 2390, in _prepare_args_for_execution\n",
      "    data[k] = self.data[k]\n",
      "  File \"/opt/conda/lib/python3.10/site-packages/distributed/spill.py\", line 245, in __getitem__\n",
      "    return super().__getitem__(key)\n",
      "  File \"/opt/conda/lib/python3.10/site-packages/zict/buffer.py\", line 108, in __getitem__\n",
      "    raise KeyError(key)\n",
      "KeyError: '_deploy_dask_func-ffa6784d-24e3-4fe8-b90b-c1190df47387'\n",
      "\n",
      "During handling of the above exception, another exception occurred:\n",
      "\n",
      "Traceback (most recent call last):\n",
      "  File \"/opt/conda/lib/python3.10/site-packages/distributed/worker.py\", line 2271, in execute\n",
      "    args2, kwargs2 = self._prepare_args_for_execution(ts, args, kwargs)\n",
      "  File \"/opt/conda/lib/python3.10/site-packages/distributed/worker.py\", line 2394, in _prepare_args_for_execution\n",
      "    data[k] = Actor(type(self.state.actors[k]), self.address, k, self)\n",
      "KeyError: '_deploy_dask_func-ffa6784d-24e3-4fe8-b90b-c1190df47387'\n"
     ]
    },
    {
     "name": "stderr",
     "output_type": "stream",
     "text": [
      "2023-03-25 10:43:15,574 - distributed.utils_perf - WARNING - full garbage collections took 12% CPU time recently (threshold: 10%)\n"
     ]
    },
    {
     "name": "stderr",
     "output_type": "stream",
     "text": [
      "UserWarning: Distributing <class 'dict'> object. This may take some time.\n",
      "UserWarning: Group indices computation is not currently supported by PandasOnDask, defaulting to pandas implementation.\n"
     ]
    },
    {
     "name": "stderr",
     "output_type": "stream",
     "text": [
      "2023-03-25 10:43:19,692 - distributed.worker - ERROR - Exception during execution of task lambda-b922af8a2f4934ad4379a2cd56447274.\n",
      "Traceback (most recent call last):\n",
      "  File \"/opt/conda/lib/python3.10/site-packages/distributed/worker.py\", line 2390, in _prepare_args_for_execution\n",
      "    data[k] = self.data[k]\n",
      "  File \"/opt/conda/lib/python3.10/site-packages/distributed/spill.py\", line 245, in __getitem__\n",
      "    return super().__getitem__(key)\n",
      "  File \"/opt/conda/lib/python3.10/site-packages/zict/buffer.py\", line 108, in __getitem__\n",
      "    raise KeyError(key)\n",
      "KeyError: '_deploy_dask_func-d3488fd0-9bfe-47a1-b1fc-4d3e656ef446'\n",
      "\n",
      "During handling of the above exception, another exception occurred:\n",
      "\n",
      "Traceback (most recent call last):\n",
      "  File \"/opt/conda/lib/python3.10/site-packages/distributed/worker.py\", line 2271, in execute\n",
      "    args2, kwargs2 = self._prepare_args_for_execution(ts, args, kwargs)\n",
      "  File \"/opt/conda/lib/python3.10/site-packages/distributed/worker.py\", line 2394, in _prepare_args_for_execution\n",
      "    data[k] = Actor(type(self.state.actors[k]), self.address, k, self)\n",
      "KeyError: '_deploy_dask_func-d3488fd0-9bfe-47a1-b1fc-4d3e656ef446'\n"
     ]
    },
    {
     "name": "stderr",
     "output_type": "stream",
     "text": [
      "UserWarning: Distributing <class 'dict'> object. This may take some time.\n",
      "UserWarning: Group indices computation is not currently supported by PandasOnDask, defaulting to pandas implementation.\n"
     ]
    },
    {
     "name": "stderr",
     "output_type": "stream",
     "text": [
      "2023-03-25 10:43:24,719 - distributed.utils_perf - WARNING - full garbage collections took 12% CPU time recently (threshold: 10%)\n"
     ]
    },
    {
     "name": "stderr",
     "output_type": "stream",
     "text": [
      "2023-03-25 10:43:25,403 - distributed.worker - ERROR - Exception during execution of task lambda-ffdbb5834c1d4fcd6b714c7afc6b2008.\n",
      "Traceback (most recent call last):\n",
      "  File \"/opt/conda/lib/python3.10/site-packages/distributed/worker.py\", line 2390, in _prepare_args_for_execution\n",
      "    data[k] = self.data[k]\n",
      "  File \"/opt/conda/lib/python3.10/site-packages/distributed/spill.py\", line 245, in __getitem__\n",
      "    return super().__getitem__(key)\n",
      "  File \"/opt/conda/lib/python3.10/site-packages/zict/buffer.py\", line 108, in __getitem__\n",
      "    raise KeyError(key)\n",
      "KeyError: '_deploy_dask_func-e6f8859b-5d7d-4fbb-b4e2-e7d9a83858cc'\n",
      "\n",
      "During handling of the above exception, another exception occurred:\n",
      "\n",
      "Traceback (most recent call last):\n",
      "  File \"/opt/conda/lib/python3.10/site-packages/distributed/worker.py\", line 2271, in execute\n",
      "    args2, kwargs2 = self._prepare_args_for_execution(ts, args, kwargs)\n",
      "  File \"/opt/conda/lib/python3.10/site-packages/distributed/worker.py\", line 2394, in _prepare_args_for_execution\n",
      "    data[k] = Actor(type(self.state.actors[k]), self.address, k, self)\n",
      "KeyError: '_deploy_dask_func-e6f8859b-5d7d-4fbb-b4e2-e7d9a83858cc'\n"
     ]
    },
    {
     "name": "stderr",
     "output_type": "stream",
     "text": [
      "UserWarning: Distributing <class 'dict'> object. This may take some time.\n",
      "UserWarning: Group indices computation is not currently supported by PandasOnDask, defaulting to pandas implementation.\n"
     ]
    },
    {
     "name": "stderr",
     "output_type": "stream",
     "text": [
      "2023-03-25 10:43:30,517 - distributed.worker - ERROR - Exception during execution of task lambda-9340ddeea4c34be49c05faefdf83ab6e.\n",
      "Traceback (most recent call last):\n",
      "  File \"/opt/conda/lib/python3.10/site-packages/distributed/worker.py\", line 2390, in _prepare_args_for_execution\n",
      "    data[k] = self.data[k]\n",
      "  File \"/opt/conda/lib/python3.10/site-packages/distributed/spill.py\", line 245, in __getitem__\n",
      "    return super().__getitem__(key)\n",
      "  File \"/opt/conda/lib/python3.10/site-packages/zict/buffer.py\", line 108, in __getitem__\n",
      "    raise KeyError(key)\n",
      "KeyError: '_deploy_dask_func-829f62ba-cc10-42bc-a613-402c5a9ef114'\n",
      "\n",
      "During handling of the above exception, another exception occurred:\n",
      "\n",
      "Traceback (most recent call last):\n",
      "  File \"/opt/conda/lib/python3.10/site-packages/distributed/worker.py\", line 2271, in execute\n",
      "    args2, kwargs2 = self._prepare_args_for_execution(ts, args, kwargs)\n",
      "  File \"/opt/conda/lib/python3.10/site-packages/distributed/worker.py\", line 2394, in _prepare_args_for_execution\n",
      "    data[k] = Actor(type(self.state.actors[k]), self.address, k, self)\n",
      "KeyError: '_deploy_dask_func-829f62ba-cc10-42bc-a613-402c5a9ef114'\n"
     ]
    },
    {
     "name": "stderr",
     "output_type": "stream",
     "text": [
      "2023-03-25 10:43:33,550 - distributed.utils_perf - WARNING - full garbage collections took 12% CPU time recently (threshold: 10%)\n"
     ]
    },
    {
     "name": "stderr",
     "output_type": "stream",
     "text": [
      "2023-03-25 10:43:33,678 - distributed.worker - ERROR - Exception during execution of task lambda-aad27fdc5aa91462277973a99b6374f4.\n",
      "Traceback (most recent call last):\n",
      "  File \"/opt/conda/lib/python3.10/site-packages/distributed/worker.py\", line 2390, in _prepare_args_for_execution\n",
      "    data[k] = self.data[k]\n",
      "  File \"/opt/conda/lib/python3.10/site-packages/distributed/spill.py\", line 245, in __getitem__\n",
      "    return super().__getitem__(key)\n",
      "  File \"/opt/conda/lib/python3.10/site-packages/zict/buffer.py\", line 108, in __getitem__\n",
      "    raise KeyError(key)\n",
      "KeyError: '_deploy_dask_func-733662ac-28d5-4428-9ed5-afecc7380f01'\n",
      "\n",
      "During handling of the above exception, another exception occurred:\n",
      "\n",
      "Traceback (most recent call last):\n",
      "  File \"/opt/conda/lib/python3.10/site-packages/distributed/worker.py\", line 2271, in execute\n",
      "    args2, kwargs2 = self._prepare_args_for_execution(ts, args, kwargs)\n",
      "  File \"/opt/conda/lib/python3.10/site-packages/distributed/worker.py\", line 2394, in _prepare_args_for_execution\n",
      "    data[k] = Actor(type(self.state.actors[k]), self.address, k, self)\n",
      "KeyError: '_deploy_dask_func-733662ac-28d5-4428-9ed5-afecc7380f01'\n"
     ]
    },
    {
     "name": "stderr",
     "output_type": "stream",
     "text": [
      "RuntimeWarning: divide by zero encountered in log\n",
      "UserWarning: Distributing <class 'dict'> object. This may take some time.\n",
      "UserWarning: Group indices computation is not currently supported by PandasOnDask, defaulting to pandas implementation.\n"
     ]
    },
    {
     "name": "stderr",
     "output_type": "stream",
     "text": [
      "2023-03-25 10:43:35,820 - distributed.worker - ERROR - Exception during execution of task lambda-7e031df103818ea5873a14519f8e8d50.\n",
      "Traceback (most recent call last):\n",
      "  File \"/opt/conda/lib/python3.10/site-packages/distributed/worker.py\", line 2390, in _prepare_args_for_execution\n",
      "    data[k] = self.data[k]\n",
      "  File \"/opt/conda/lib/python3.10/site-packages/distributed/spill.py\", line 245, in __getitem__\n",
      "    return super().__getitem__(key)\n",
      "  File \"/opt/conda/lib/python3.10/site-packages/zict/buffer.py\", line 108, in __getitem__\n",
      "    raise KeyError(key)\n",
      "KeyError: '_deploy_dask_func-b2fe1451-9668-414c-9151-9fb80662c6ad'\n",
      "\n",
      "During handling of the above exception, another exception occurred:\n",
      "\n",
      "Traceback (most recent call last):\n",
      "  File \"/opt/conda/lib/python3.10/site-packages/distributed/worker.py\", line 2271, in execute\n",
      "    args2, kwargs2 = self._prepare_args_for_execution(ts, args, kwargs)\n",
      "  File \"/opt/conda/lib/python3.10/site-packages/distributed/worker.py\", line 2394, in _prepare_args_for_execution\n",
      "    data[k] = Actor(type(self.state.actors[k]), self.address, k, self)\n",
      "KeyError: '_deploy_dask_func-b2fe1451-9668-414c-9151-9fb80662c6ad'\n"
     ]
    },
    {
     "name": "stderr",
     "output_type": "stream",
     "text": [
      "UserWarning: Distributing <class 'dict'> object. This may take some time.\n",
      "UserWarning: Group indices computation is not currently supported by PandasOnDask, defaulting to pandas implementation.\n"
     ]
    },
    {
     "name": "stderr",
     "output_type": "stream",
     "text": [
      "2023-03-25 10:43:42,389 - distributed.utils_perf - WARNING - full garbage collections took 12% CPU time recently (threshold: 10%)\n"
     ]
    },
    {
     "name": "stderr",
     "output_type": "stream",
     "text": [
      "2023-03-25 10:43:44,439 - distributed.worker - ERROR - Exception during execution of task lambda-f93ffd0de35a416c57513756ded741b3.\n",
      "Traceback (most recent call last):\n",
      "  File \"/opt/conda/lib/python3.10/site-packages/distributed/worker.py\", line 2390, in _prepare_args_for_execution\n",
      "    data[k] = self.data[k]\n",
      "  File \"/opt/conda/lib/python3.10/site-packages/distributed/spill.py\", line 245, in __getitem__\n",
      "    return super().__getitem__(key)\n",
      "  File \"/opt/conda/lib/python3.10/site-packages/zict/buffer.py\", line 108, in __getitem__\n",
      "    raise KeyError(key)\n",
      "KeyError: '_deploy_dask_func-bcf5c659-cc5b-436e-b6bc-c8c6ad44f199'\n",
      "\n",
      "During handling of the above exception, another exception occurred:\n",
      "\n",
      "Traceback (most recent call last):\n",
      "  File \"/opt/conda/lib/python3.10/site-packages/distributed/worker.py\", line 2271, in execute\n",
      "    args2, kwargs2 = self._prepare_args_for_execution(ts, args, kwargs)\n",
      "  File \"/opt/conda/lib/python3.10/site-packages/distributed/worker.py\", line 2394, in _prepare_args_for_execution\n",
      "    data[k] = Actor(type(self.state.actors[k]), self.address, k, self)\n",
      "KeyError: '_deploy_dask_func-bcf5c659-cc5b-436e-b6bc-c8c6ad44f199'\n"
     ]
    },
    {
     "name": "stderr",
     "output_type": "stream",
     "text": [
      "UserWarning: Distributing <class 'dict'> object. This may take some time.\n",
      "UserWarning: Group indices computation is not currently supported by PandasOnDask, defaulting to pandas implementation.\n"
     ]
    },
    {
     "name": "stderr",
     "output_type": "stream",
     "text": [
      "2023-03-25 10:43:48,677 - distributed.worker - ERROR - Exception during execution of task lambda-ea3d2b0afae2de7a62c558c4faa09b0c.\n",
      "Traceback (most recent call last):\n",
      "  File \"/opt/conda/lib/python3.10/site-packages/distributed/worker.py\", line 2390, in _prepare_args_for_execution\n",
      "    data[k] = self.data[k]\n",
      "  File \"/opt/conda/lib/python3.10/site-packages/distributed/spill.py\", line 245, in __getitem__\n",
      "    return super().__getitem__(key)\n",
      "  File \"/opt/conda/lib/python3.10/site-packages/zict/buffer.py\", line 108, in __getitem__\n",
      "    raise KeyError(key)\n",
      "KeyError: '_deploy_dask_func-c79ddd0b-d2ee-4bcb-99c2-4ceaba73d52d'\n",
      "\n",
      "During handling of the above exception, another exception occurred:\n",
      "\n",
      "Traceback (most recent call last):\n",
      "  File \"/opt/conda/lib/python3.10/site-packages/distributed/worker.py\", line 2271, in execute\n",
      "    args2, kwargs2 = self._prepare_args_for_execution(ts, args, kwargs)\n",
      "  File \"/opt/conda/lib/python3.10/site-packages/distributed/worker.py\", line 2394, in _prepare_args_for_execution\n",
      "    data[k] = Actor(type(self.state.actors[k]), self.address, k, self)\n",
      "KeyError: '_deploy_dask_func-c79ddd0b-d2ee-4bcb-99c2-4ceaba73d52d'\n"
     ]
    },
    {
     "name": "stderr",
     "output_type": "stream",
     "text": [
      "RuntimeWarning: divide by zero encountered in log\n"
     ]
    },
    {
     "name": "stderr",
     "output_type": "stream",
     "text": [
      "2023-03-25 10:43:50,583 - distributed.worker - ERROR - Exception during execution of task lambda-f397f1883c188869154cc8306e694320.\n",
      "Traceback (most recent call last):\n",
      "  File \"/opt/conda/lib/python3.10/site-packages/distributed/worker.py\", line 2390, in _prepare_args_for_execution\n",
      "    data[k] = self.data[k]\n",
      "  File \"/opt/conda/lib/python3.10/site-packages/distributed/spill.py\", line 245, in __getitem__\n",
      "    return super().__getitem__(key)\n",
      "  File \"/opt/conda/lib/python3.10/site-packages/zict/buffer.py\", line 108, in __getitem__\n",
      "    raise KeyError(key)\n",
      "KeyError: '_deploy_dask_func-3fecad1c-60c8-4137-9287-032e45726901'\n",
      "\n",
      "During handling of the above exception, another exception occurred:\n",
      "\n",
      "Traceback (most recent call last):\n",
      "  File \"/opt/conda/lib/python3.10/site-packages/distributed/worker.py\", line 2271, in execute\n",
      "    args2, kwargs2 = self._prepare_args_for_execution(ts, args, kwargs)\n",
      "  File \"/opt/conda/lib/python3.10/site-packages/distributed/worker.py\", line 2394, in _prepare_args_for_execution\n",
      "    data[k] = Actor(type(self.state.actors[k]), self.address, k, self)\n",
      "KeyError: '_deploy_dask_func-3fecad1c-60c8-4137-9287-032e45726901'\n"
     ]
    },
    {
     "name": "stderr",
     "output_type": "stream",
     "text": [
      "2023-03-25 10:43:51,964 - distributed.utils_perf - WARNING - full garbage collections took 12% CPU time recently (threshold: 10%)\n"
     ]
    },
    {
     "name": "stderr",
     "output_type": "stream",
     "text": [
      "UserWarning: Distributing <class 'dict'> object. This may take some time.\n",
      "UserWarning: Group indices computation is not currently supported by PandasOnDask, defaulting to pandas implementation.\n"
     ]
    },
    {
     "name": "stderr",
     "output_type": "stream",
     "text": [
      "2023-03-25 10:43:54,427 - distributed.worker - ERROR - Exception during execution of task lambda-4ade5b9501f60af248a1323d6878d7e3.\n",
      "Traceback (most recent call last):\n",
      "  File \"/opt/conda/lib/python3.10/site-packages/distributed/worker.py\", line 2390, in _prepare_args_for_execution\n",
      "    data[k] = self.data[k]\n",
      "  File \"/opt/conda/lib/python3.10/site-packages/distributed/spill.py\", line 245, in __getitem__\n",
      "    return super().__getitem__(key)\n",
      "  File \"/opt/conda/lib/python3.10/site-packages/zict/buffer.py\", line 108, in __getitem__\n",
      "    raise KeyError(key)\n",
      "KeyError: '_deploy_dask_func-694d7873-6296-4e3e-a507-470729b67a92'\n",
      "\n",
      "During handling of the above exception, another exception occurred:\n",
      "\n",
      "Traceback (most recent call last):\n",
      "  File \"/opt/conda/lib/python3.10/site-packages/distributed/worker.py\", line 2271, in execute\n",
      "    args2, kwargs2 = self._prepare_args_for_execution(ts, args, kwargs)\n",
      "  File \"/opt/conda/lib/python3.10/site-packages/distributed/worker.py\", line 2394, in _prepare_args_for_execution\n",
      "    data[k] = Actor(type(self.state.actors[k]), self.address, k, self)\n",
      "KeyError: '_deploy_dask_func-694d7873-6296-4e3e-a507-470729b67a92'\n"
     ]
    },
    {
     "name": "stderr",
     "output_type": "stream",
     "text": [
      "2023-03-25 10:43:58,585 - distributed.worker - ERROR - Exception during execution of task lambda-dbe3c11e1aad01ac09165c1af15729cc.\n",
      "Traceback (most recent call last):\n",
      "  File \"/opt/conda/lib/python3.10/site-packages/distributed/worker.py\", line 2390, in _prepare_args_for_execution\n",
      "    data[k] = self.data[k]\n",
      "  File \"/opt/conda/lib/python3.10/site-packages/distributed/spill.py\", line 245, in __getitem__\n",
      "    return super().__getitem__(key)\n",
      "  File \"/opt/conda/lib/python3.10/site-packages/zict/buffer.py\", line 108, in __getitem__\n",
      "    raise KeyError(key)\n",
      "KeyError: '_deploy_dask_func-9ad90f29-959b-46f9-9f36-7d0329b3a8ac'\n",
      "\n",
      "During handling of the above exception, another exception occurred:\n",
      "\n",
      "Traceback (most recent call last):\n",
      "  File \"/opt/conda/lib/python3.10/site-packages/distributed/worker.py\", line 2271, in execute\n",
      "    args2, kwargs2 = self._prepare_args_for_execution(ts, args, kwargs)\n",
      "  File \"/opt/conda/lib/python3.10/site-packages/distributed/worker.py\", line 2394, in _prepare_args_for_execution\n",
      "    data[k] = Actor(type(self.state.actors[k]), self.address, k, self)\n",
      "KeyError: '_deploy_dask_func-9ad90f29-959b-46f9-9f36-7d0329b3a8ac'\n"
     ]
    },
    {
     "name": "stderr",
     "output_type": "stream",
     "text": [
      "2023-03-25 10:44:00,976 - distributed.utils_perf - WARNING - full garbage collections took 12% CPU time recently (threshold: 10%)\n"
     ]
    },
    {
     "name": "stderr",
     "output_type": "stream",
     "text": [
      "2023-03-25 10:44:02,789 - distributed.worker - ERROR - Exception during execution of task lambda-1151d6738310ddaef60501f178b0839e.\n",
      "Traceback (most recent call last):\n",
      "  File \"/opt/conda/lib/python3.10/site-packages/distributed/worker.py\", line 2390, in _prepare_args_for_execution\n",
      "    data[k] = self.data[k]\n",
      "  File \"/opt/conda/lib/python3.10/site-packages/distributed/spill.py\", line 245, in __getitem__\n",
      "    return super().__getitem__(key)\n",
      "  File \"/opt/conda/lib/python3.10/site-packages/zict/buffer.py\", line 108, in __getitem__\n",
      "    raise KeyError(key)\n",
      "KeyError: '_deploy_dask_func-1fdfc650-66f1-4052-b0c7-6c454a6c89af'\n",
      "\n",
      "During handling of the above exception, another exception occurred:\n",
      "\n",
      "Traceback (most recent call last):\n",
      "  File \"/opt/conda/lib/python3.10/site-packages/distributed/worker.py\", line 2271, in execute\n",
      "    args2, kwargs2 = self._prepare_args_for_execution(ts, args, kwargs)\n",
      "  File \"/opt/conda/lib/python3.10/site-packages/distributed/worker.py\", line 2394, in _prepare_args_for_execution\n",
      "    data[k] = Actor(type(self.state.actors[k]), self.address, k, self)\n",
      "KeyError: '_deploy_dask_func-1fdfc650-66f1-4052-b0c7-6c454a6c89af'\n"
     ]
    },
    {
     "name": "stderr",
     "output_type": "stream",
     "text": [
      "2023-03-25 10:44:05,947 - distributed.worker - ERROR - Exception during execution of task lambda-517c4ae1da9dd34e228a84cda2e5fb0e.\n",
      "Traceback (most recent call last):\n",
      "  File \"/opt/conda/lib/python3.10/site-packages/distributed/worker.py\", line 2390, in _prepare_args_for_execution\n",
      "    data[k] = self.data[k]\n",
      "  File \"/opt/conda/lib/python3.10/site-packages/distributed/spill.py\", line 245, in __getitem__\n",
      "    return super().__getitem__(key)\n",
      "  File \"/opt/conda/lib/python3.10/site-packages/zict/buffer.py\", line 108, in __getitem__\n",
      "    raise KeyError(key)\n",
      "KeyError: '_deploy_dask_func-5ec5094d-37bb-46b4-a0c0-1a9459676f75'\n",
      "\n",
      "During handling of the above exception, another exception occurred:\n",
      "\n",
      "Traceback (most recent call last):\n",
      "  File \"/opt/conda/lib/python3.10/site-packages/distributed/worker.py\", line 2271, in execute\n",
      "    args2, kwargs2 = self._prepare_args_for_execution(ts, args, kwargs)\n",
      "  File \"/opt/conda/lib/python3.10/site-packages/distributed/worker.py\", line 2394, in _prepare_args_for_execution\n",
      "    data[k] = Actor(type(self.state.actors[k]), self.address, k, self)\n",
      "KeyError: '_deploy_dask_func-5ec5094d-37bb-46b4-a0c0-1a9459676f75'\n"
     ]
    },
    {
     "name": "stderr",
     "output_type": "stream",
     "text": [
      "RuntimeWarning: divide by zero encountered in log\n",
      "UserWarning: Distributing <class 'dict'> object. This may take some time.\n",
      "2023-03-25 10:44:06,983 - distributed.worker - ERROR - Exception during execution of task lambda-25a03a1c29dc97fd80e2e605a143bbba.\n",
      "Traceback (most recent call last):\n",
      "  File \"/opt/conda/lib/python3.10/site-packages/distributed/worker.py\", line 2390, in _prepare_args_for_execution\n",
      "    data[k] = self.data[k]\n",
      "  File \"/opt/conda/lib/python3.10/site-packages/distributed/spill.py\", line 245, in __getitem__\n",
      "    return super().__getitem__(key)\n",
      "  File \"/opt/conda/lib/python3.10/site-packages/zict/buffer.py\", line 108, in __getitem__\n",
      "    raise KeyError(key)\n",
      "KeyError: 'apply_list_of_funcs-20b91634-5f8e-464b-9035-2c30c41ba457'\n",
      "\n",
      "During handling of the above exception, another exception occurred:\n",
      "\n",
      "Traceback (most recent call last):\n",
      "  File \"/opt/conda/lib/python3.10/site-packages/distributed/worker.py\", line 2271, in execute\n",
      "    args2, kwargs2 = self._prepare_args_for_execution(ts, args, kwargs)\n",
      "  File \"/opt/conda/lib/python3.10/site-packages/distributed/worker.py\", line 2394, in _prepare_args_for_execution\n",
      "    data[k] = Actor(type(self.state.actors[k]), self.address, k, self)\n",
      "KeyError: 'apply_list_of_funcs-20b91634-5f8e-464b-9035-2c30c41ba457'\n",
      "UserWarning: Group indices computation is not currently supported by PandasOnDask, defaulting to pandas implementation.\n"
     ]
    },
    {
     "name": "stderr",
     "output_type": "stream",
     "text": [
      "2023-03-25 10:44:10,151 - distributed.utils_perf - WARNING - full garbage collections took 13% CPU time recently (threshold: 10%)\n"
     ]
    },
    {
     "name": "stderr",
     "output_type": "stream",
     "text": [
      "2023-03-25 10:44:13,031 - distributed.worker - ERROR - Exception during execution of task lambda-871c14fbaadd32439e2ec7231318d27f.\n",
      "Traceback (most recent call last):\n",
      "  File \"/opt/conda/lib/python3.10/site-packages/distributed/worker.py\", line 2390, in _prepare_args_for_execution\n",
      "    data[k] = self.data[k]\n",
      "  File \"/opt/conda/lib/python3.10/site-packages/distributed/spill.py\", line 245, in __getitem__\n",
      "    return super().__getitem__(key)\n",
      "  File \"/opt/conda/lib/python3.10/site-packages/zict/buffer.py\", line 108, in __getitem__\n",
      "    raise KeyError(key)\n",
      "KeyError: '_deploy_dask_func-ebc75255-ef4d-452a-a4f7-9cb19535a528'\n",
      "\n",
      "During handling of the above exception, another exception occurred:\n",
      "\n",
      "Traceback (most recent call last):\n",
      "  File \"/opt/conda/lib/python3.10/site-packages/distributed/worker.py\", line 2271, in execute\n",
      "    args2, kwargs2 = self._prepare_args_for_execution(ts, args, kwargs)\n",
      "  File \"/opt/conda/lib/python3.10/site-packages/distributed/worker.py\", line 2394, in _prepare_args_for_execution\n",
      "    data[k] = Actor(type(self.state.actors[k]), self.address, k, self)\n",
      "KeyError: '_deploy_dask_func-ebc75255-ef4d-452a-a4f7-9cb19535a528'\n"
     ]
    },
    {
     "name": "stderr",
     "output_type": "stream",
     "text": [
      "2023-03-25 10:44:16,526 - distributed.worker - ERROR - Exception during execution of task lambda-accd85ccbab63b4e9065d8154ff53ddf.\n",
      "Traceback (most recent call last):\n",
      "  File \"/opt/conda/lib/python3.10/site-packages/distributed/worker.py\", line 2390, in _prepare_args_for_execution\n",
      "    data[k] = self.data[k]\n",
      "  File \"/opt/conda/lib/python3.10/site-packages/distributed/spill.py\", line 245, in __getitem__\n",
      "    return super().__getitem__(key)\n",
      "  File \"/opt/conda/lib/python3.10/site-packages/zict/buffer.py\", line 108, in __getitem__\n",
      "    raise KeyError(key)\n",
      "KeyError: '_deploy_dask_func-ad3d20f1-14f9-4d32-be4f-ac65b46770ae'\n",
      "\n",
      "During handling of the above exception, another exception occurred:\n",
      "\n",
      "Traceback (most recent call last):\n",
      "  File \"/opt/conda/lib/python3.10/site-packages/distributed/worker.py\", line 2271, in execute\n",
      "    args2, kwargs2 = self._prepare_args_for_execution(ts, args, kwargs)\n",
      "  File \"/opt/conda/lib/python3.10/site-packages/distributed/worker.py\", line 2394, in _prepare_args_for_execution\n",
      "    data[k] = Actor(type(self.state.actors[k]), self.address, k, self)\n",
      "KeyError: '_deploy_dask_func-ad3d20f1-14f9-4d32-be4f-ac65b46770ae'\n"
     ]
    },
    {
     "name": "stderr",
     "output_type": "stream",
     "text": [
      "2023-03-25 10:44:18,796 - distributed.utils_perf - WARNING - full garbage collections took 13% CPU time recently (threshold: 10%)\n"
     ]
    },
    {
     "name": "stderr",
     "output_type": "stream",
     "text": [
      "RuntimeWarning: divide by zero encountered in log\n",
      "UserWarning: Distributing <class 'dict'> object. This may take some time.\n",
      "UserWarning: Group indices computation is not currently supported by PandasOnDask, defaulting to pandas implementation.\n"
     ]
    },
    {
     "name": "stderr",
     "output_type": "stream",
     "text": [
      "2023-03-25 10:44:28,089 - distributed.utils_perf - WARNING - full garbage collections took 12% CPU time recently (threshold: 10%)\n"
     ]
    },
    {
     "name": "stderr",
     "output_type": "stream",
     "text": [
      "2023-03-25 10:44:28,942 - distributed.worker - ERROR - Exception during execution of task lambda-d7d205a1bdc5c538d3319a461abb5442.\n",
      "Traceback (most recent call last):\n",
      "  File \"/opt/conda/lib/python3.10/site-packages/distributed/worker.py\", line 2390, in _prepare_args_for_execution\n",
      "    data[k] = self.data[k]\n",
      "  File \"/opt/conda/lib/python3.10/site-packages/distributed/spill.py\", line 245, in __getitem__\n",
      "    return super().__getitem__(key)\n",
      "  File \"/opt/conda/lib/python3.10/site-packages/zict/buffer.py\", line 108, in __getitem__\n",
      "    raise KeyError(key)\n",
      "KeyError: '_deploy_dask_func-38f084d3-445c-42e2-866a-134b6c5e430b'\n",
      "\n",
      "During handling of the above exception, another exception occurred:\n",
      "\n",
      "Traceback (most recent call last):\n",
      "  File \"/opt/conda/lib/python3.10/site-packages/distributed/worker.py\", line 2271, in execute\n",
      "    args2, kwargs2 = self._prepare_args_for_execution(ts, args, kwargs)\n",
      "  File \"/opt/conda/lib/python3.10/site-packages/distributed/worker.py\", line 2394, in _prepare_args_for_execution\n",
      "    data[k] = Actor(type(self.state.actors[k]), self.address, k, self)\n",
      "KeyError: '_deploy_dask_func-38f084d3-445c-42e2-866a-134b6c5e430b'\n"
     ]
    },
    {
     "name": "stderr",
     "output_type": "stream",
     "text": [
      "UserWarning: Distributing <class 'dict'> object. This may take some time.\n"
     ]
    },
    {
     "name": "stderr",
     "output_type": "stream",
     "text": [
      "UserWarning: Group indices computation is not currently supported by PandasOnDask, defaulting to pandas implementation.\n"
     ]
    },
    {
     "name": "stderr",
     "output_type": "stream",
     "text": [
      "2023-03-25 10:44:36,996 - distributed.utils_perf - WARNING - full garbage collections took 12% CPU time recently (threshold: 10%)\n"
     ]
    },
    {
     "name": "stderr",
     "output_type": "stream",
     "text": [
      "2023-03-25 10:44:44,138 - distributed.worker - ERROR - Exception during execution of task lambda-c9419e8e5e4109ba31de035f6dd68b0f.\n",
      "Traceback (most recent call last):\n",
      "  File \"/opt/conda/lib/python3.10/site-packages/distributed/worker.py\", line 2390, in _prepare_args_for_execution\n",
      "    data[k] = self.data[k]\n",
      "  File \"/opt/conda/lib/python3.10/site-packages/distributed/spill.py\", line 245, in __getitem__\n",
      "    return super().__getitem__(key)\n",
      "  File \"/opt/conda/lib/python3.10/site-packages/zict/buffer.py\", line 108, in __getitem__\n",
      "    raise KeyError(key)\n",
      "KeyError: '_deploy_dask_func-12cb5046-6a25-44b0-b39b-106cf6feeb45'\n",
      "\n",
      "During handling of the above exception, another exception occurred:\n",
      "\n",
      "Traceback (most recent call last):\n",
      "  File \"/opt/conda/lib/python3.10/site-packages/distributed/worker.py\", line 2271, in execute\n",
      "    args2, kwargs2 = self._prepare_args_for_execution(ts, args, kwargs)\n",
      "  File \"/opt/conda/lib/python3.10/site-packages/distributed/worker.py\", line 2394, in _prepare_args_for_execution\n",
      "    data[k] = Actor(type(self.state.actors[k]), self.address, k, self)\n",
      "KeyError: '_deploy_dask_func-12cb5046-6a25-44b0-b39b-106cf6feeb45'\n"
     ]
    },
    {
     "name": "stderr",
     "output_type": "stream",
     "text": [
      "2023-03-25 10:44:45,916 - distributed.utils_perf - WARNING - full garbage collections took 13% CPU time recently (threshold: 10%)\n"
     ]
    },
    {
     "name": "stderr",
     "output_type": "stream",
     "text": [
      "RuntimeWarning: divide by zero encountered in log\n",
      "UserWarning: Distributing <class 'dict'> object. This may take some time.\n",
      "UserWarning: Group indices computation is not currently supported by PandasOnDask, defaulting to pandas implementation.\n"
     ]
    },
    {
     "name": "stderr",
     "output_type": "stream",
     "text": [
      "2023-03-25 10:44:55,281 - distributed.utils_perf - WARNING - full garbage collections took 13% CPU time recently (threshold: 10%)\n"
     ]
    },
    {
     "name": "stderr",
     "output_type": "stream",
     "text": [
      "2023-03-25 10:44:58,946 - distributed.worker - ERROR - Exception during execution of task lambda-a218820bfc1a8b5153d3ba7adb41b798.\n",
      "Traceback (most recent call last):\n",
      "  File \"/opt/conda/lib/python3.10/site-packages/distributed/worker.py\", line 2390, in _prepare_args_for_execution\n",
      "    data[k] = self.data[k]\n",
      "  File \"/opt/conda/lib/python3.10/site-packages/distributed/spill.py\", line 245, in __getitem__\n",
      "    return super().__getitem__(key)\n",
      "  File \"/opt/conda/lib/python3.10/site-packages/zict/buffer.py\", line 108, in __getitem__\n",
      "    raise KeyError(key)\n",
      "KeyError: '_deploy_dask_func-72227bd3-c179-4603-8f14-874bf7f41722'\n",
      "\n",
      "During handling of the above exception, another exception occurred:\n",
      "\n",
      "Traceback (most recent call last):\n",
      "  File \"/opt/conda/lib/python3.10/site-packages/distributed/worker.py\", line 2271, in execute\n",
      "    args2, kwargs2 = self._prepare_args_for_execution(ts, args, kwargs)\n",
      "  File \"/opt/conda/lib/python3.10/site-packages/distributed/worker.py\", line 2394, in _prepare_args_for_execution\n",
      "    data[k] = Actor(type(self.state.actors[k]), self.address, k, self)\n",
      "KeyError: '_deploy_dask_func-72227bd3-c179-4603-8f14-874bf7f41722'\n"
     ]
    },
    {
     "name": "stderr",
     "output_type": "stream",
     "text": [
      "UserWarning: Distributing <class 'dict'> object. This may take some time.\n",
      "UserWarning: Group indices computation is not currently supported by PandasOnDask, defaulting to pandas implementation.\n"
     ]
    },
    {
     "name": "stderr",
     "output_type": "stream",
     "text": [
      "2023-03-25 10:45:04,760 - distributed.utils_perf - WARNING - full garbage collections took 13% CPU time recently (threshold: 10%)\n"
     ]
    },
    {
     "name": "stderr",
     "output_type": "stream",
     "text": [
      "UserWarning: Distributing <class 'dict'> object. This may take some time.\n"
     ]
    },
    {
     "name": "stderr",
     "output_type": "stream",
     "text": [
      "UserWarning: Group indices computation is not currently supported by PandasOnDask, defaulting to pandas implementation.\n"
     ]
    },
    {
     "name": "stderr",
     "output_type": "stream",
     "text": [
      "2023-03-25 10:45:13,795 - distributed.utils_perf - WARNING - full garbage collections took 12% CPU time recently (threshold: 10%)\n"
     ]
    },
    {
     "name": "stderr",
     "output_type": "stream",
     "text": [
      "2023-03-25 10:45:21,165 - distributed.worker - ERROR - Exception during execution of task lambda-f920737486cae0e7d65c45ac9910e529.\n",
      "Traceback (most recent call last):\n",
      "  File \"/opt/conda/lib/python3.10/site-packages/distributed/worker.py\", line 2390, in _prepare_args_for_execution\n",
      "    data[k] = self.data[k]\n",
      "  File \"/opt/conda/lib/python3.10/site-packages/distributed/spill.py\", line 245, in __getitem__\n",
      "    return super().__getitem__(key)\n",
      "  File \"/opt/conda/lib/python3.10/site-packages/zict/buffer.py\", line 108, in __getitem__\n",
      "    raise KeyError(key)\n",
      "KeyError: '_deploy_dask_func-d3b7e6df-b36a-4096-a138-f9be5f7368fb'\n",
      "\n",
      "During handling of the above exception, another exception occurred:\n",
      "\n",
      "Traceback (most recent call last):\n",
      "  File \"/opt/conda/lib/python3.10/site-packages/distributed/worker.py\", line 2271, in execute\n",
      "    args2, kwargs2 = self._prepare_args_for_execution(ts, args, kwargs)\n",
      "  File \"/opt/conda/lib/python3.10/site-packages/distributed/worker.py\", line 2394, in _prepare_args_for_execution\n",
      "    data[k] = Actor(type(self.state.actors[k]), self.address, k, self)\n",
      "KeyError: '_deploy_dask_func-d3b7e6df-b36a-4096-a138-f9be5f7368fb'\n"
     ]
    },
    {
     "name": "stderr",
     "output_type": "stream",
     "text": [
      "2023-03-25 10:45:22,734 - distributed.utils_perf - WARNING - full garbage collections took 13% CPU time recently (threshold: 10%)\n"
     ]
    },
    {
     "name": "stderr",
     "output_type": "stream",
     "text": [
      "UserWarning: Distributing <class 'dict'> object. This may take some time.\n",
      "UserWarning: Group indices computation is not currently supported by PandasOnDask, defaulting to pandas implementation.\n"
     ]
    },
    {
     "name": "stderr",
     "output_type": "stream",
     "text": [
      "2023-03-25 10:45:25,815 - distributed.worker - ERROR - Exception during execution of task lambda-45e8243aa531e8a4f5e333beb8d930de.\n",
      "Traceback (most recent call last):\n",
      "  File \"/opt/conda/lib/python3.10/site-packages/distributed/worker.py\", line 2390, in _prepare_args_for_execution\n",
      "    data[k] = self.data[k]\n",
      "  File \"/opt/conda/lib/python3.10/site-packages/distributed/spill.py\", line 245, in __getitem__\n",
      "    return super().__getitem__(key)\n",
      "  File \"/opt/conda/lib/python3.10/site-packages/zict/buffer.py\", line 108, in __getitem__\n",
      "    raise KeyError(key)\n",
      "KeyError: '_deploy_dask_func-9ccfaa97-bd06-4519-9edc-bb040824d1c6'\n",
      "\n",
      "During handling of the above exception, another exception occurred:\n",
      "\n",
      "Traceback (most recent call last):\n",
      "  File \"/opt/conda/lib/python3.10/site-packages/distributed/worker.py\", line 2271, in execute\n",
      "    args2, kwargs2 = self._prepare_args_for_execution(ts, args, kwargs)\n",
      "  File \"/opt/conda/lib/python3.10/site-packages/distributed/worker.py\", line 2394, in _prepare_args_for_execution\n",
      "    data[k] = Actor(type(self.state.actors[k]), self.address, k, self)\n",
      "KeyError: '_deploy_dask_func-9ccfaa97-bd06-4519-9edc-bb040824d1c6'\n"
     ]
    },
    {
     "name": "stderr",
     "output_type": "stream",
     "text": [
      "2023-03-25 10:45:29,087 - distributed.worker - ERROR - Exception during execution of task lambda-3313b0f89f1c71915819b5b8f5a708cc.\n",
      "Traceback (most recent call last):\n",
      "  File \"/opt/conda/lib/python3.10/site-packages/distributed/worker.py\", line 2390, in _prepare_args_for_execution\n",
      "    data[k] = self.data[k]\n",
      "  File \"/opt/conda/lib/python3.10/site-packages/distributed/spill.py\", line 245, in __getitem__\n",
      "    return super().__getitem__(key)\n",
      "  File \"/opt/conda/lib/python3.10/site-packages/zict/buffer.py\", line 108, in __getitem__\n",
      "    raise KeyError(key)\n",
      "KeyError: '_deploy_dask_func-a9cc7097-df46-439b-bef3-0ad68f0f16c8'\n",
      "\n",
      "During handling of the above exception, another exception occurred:\n",
      "\n",
      "Traceback (most recent call last):\n",
      "  File \"/opt/conda/lib/python3.10/site-packages/distributed/worker.py\", line 2271, in execute\n",
      "    args2, kwargs2 = self._prepare_args_for_execution(ts, args, kwargs)\n",
      "  File \"/opt/conda/lib/python3.10/site-packages/distributed/worker.py\", line 2394, in _prepare_args_for_execution\n",
      "    data[k] = Actor(type(self.state.actors[k]), self.address, k, self)\n",
      "KeyError: '_deploy_dask_func-a9cc7097-df46-439b-bef3-0ad68f0f16c8'\n"
     ]
    },
    {
     "name": "stderr",
     "output_type": "stream",
     "text": [
      "2023-03-25 10:45:32,511 - distributed.utils_perf - WARNING - full garbage collections took 12% CPU time recently (threshold: 10%)\n"
     ]
    },
    {
     "name": "stderr",
     "output_type": "stream",
     "text": [
      "UserWarning: Distributing <class 'dict'> object. This may take some time.\n",
      "UserWarning: Group indices computation is not currently supported by PandasOnDask, defaulting to pandas implementation.\n"
     ]
    },
    {
     "name": "stderr",
     "output_type": "stream",
     "text": [
      "2023-03-25 10:45:37,499 - distributed.worker - ERROR - Exception during execution of task lambda-5cd0e51153446a70aad0f7f7a9d8d31d.\n",
      "Traceback (most recent call last):\n",
      "  File \"/opt/conda/lib/python3.10/site-packages/distributed/worker.py\", line 2390, in _prepare_args_for_execution\n",
      "    data[k] = self.data[k]\n",
      "  File \"/opt/conda/lib/python3.10/site-packages/distributed/spill.py\", line 245, in __getitem__\n",
      "    return super().__getitem__(key)\n",
      "  File \"/opt/conda/lib/python3.10/site-packages/zict/buffer.py\", line 108, in __getitem__\n",
      "    raise KeyError(key)\n",
      "KeyError: '_deploy_dask_func-01c8ebc7-0e3a-4491-afc8-c2ea903f9e88'\n",
      "\n",
      "During handling of the above exception, another exception occurred:\n",
      "\n",
      "Traceback (most recent call last):\n",
      "  File \"/opt/conda/lib/python3.10/site-packages/distributed/worker.py\", line 2271, in execute\n",
      "    args2, kwargs2 = self._prepare_args_for_execution(ts, args, kwargs)\n",
      "  File \"/opt/conda/lib/python3.10/site-packages/distributed/worker.py\", line 2394, in _prepare_args_for_execution\n",
      "    data[k] = Actor(type(self.state.actors[k]), self.address, k, self)\n",
      "KeyError: '_deploy_dask_func-01c8ebc7-0e3a-4491-afc8-c2ea903f9e88'\n"
     ]
    },
    {
     "name": "stderr",
     "output_type": "stream",
     "text": [
      "2023-03-25 10:45:41,544 - distributed.utils_perf - WARNING - full garbage collections took 13% CPU time recently (threshold: 10%)\n"
     ]
    },
    {
     "name": "stderr",
     "output_type": "stream",
     "text": [
      "UserWarning: Distributing <class 'dict'> object. This may take some time.\n",
      "UserWarning: Group indices computation is not currently supported by PandasOnDask, defaulting to pandas implementation.\n"
     ]
    },
    {
     "name": "stderr",
     "output_type": "stream",
     "text": [
      "2023-03-25 10:45:49,383 - distributed.worker - ERROR - Exception during execution of task lambda-19b65b0bb95b0ac9f688ba4f727fafc0.\n",
      "Traceback (most recent call last):\n",
      "  File \"/opt/conda/lib/python3.10/site-packages/distributed/worker.py\", line 2390, in _prepare_args_for_execution\n",
      "    data[k] = self.data[k]\n",
      "  File \"/opt/conda/lib/python3.10/site-packages/distributed/spill.py\", line 245, in __getitem__\n",
      "    return super().__getitem__(key)\n",
      "  File \"/opt/conda/lib/python3.10/site-packages/zict/buffer.py\", line 108, in __getitem__\n",
      "    raise KeyError(key)\n",
      "KeyError: '_deploy_dask_func-bf5f3e01-c861-45ba-8077-05835ea30fec'\n",
      "\n",
      "During handling of the above exception, another exception occurred:\n",
      "\n",
      "Traceback (most recent call last):\n",
      "  File \"/opt/conda/lib/python3.10/site-packages/distributed/worker.py\", line 2271, in execute\n",
      "    args2, kwargs2 = self._prepare_args_for_execution(ts, args, kwargs)\n",
      "  File \"/opt/conda/lib/python3.10/site-packages/distributed/worker.py\", line 2394, in _prepare_args_for_execution\n",
      "    data[k] = Actor(type(self.state.actors[k]), self.address, k, self)\n",
      "KeyError: '_deploy_dask_func-bf5f3e01-c861-45ba-8077-05835ea30fec'\n"
     ]
    },
    {
     "name": "stderr",
     "output_type": "stream",
     "text": [
      "2023-03-25 10:45:51,050 - distributed.utils_perf - WARNING - full garbage collections took 13% CPU time recently (threshold: 10%)\n"
     ]
    },
    {
     "name": "stderr",
     "output_type": "stream",
     "text": [
      "UserWarning: Distributing <class 'dict'> object. This may take some time.\n"
     ]
    },
    {
     "name": "stderr",
     "output_type": "stream",
     "text": [
      "UserWarning: Group indices computation is not currently supported by PandasOnDask, defaulting to pandas implementation.\n"
     ]
    },
    {
     "name": "stderr",
     "output_type": "stream",
     "text": [
      "2023-03-25 10:46:00,716 - distributed.utils_perf - WARNING - full garbage collections took 13% CPU time recently (threshold: 10%)\n"
     ]
    },
    {
     "name": "stderr",
     "output_type": "stream",
     "text": [
      "2023-03-25 10:46:01,804 - distributed.worker - ERROR - Exception during execution of task lambda-cff266bfd38ff771372ad99ae8d7bdb1.\n",
      "Traceback (most recent call last):\n",
      "  File \"/opt/conda/lib/python3.10/site-packages/distributed/worker.py\", line 2390, in _prepare_args_for_execution\n",
      "    data[k] = self.data[k]\n",
      "  File \"/opt/conda/lib/python3.10/site-packages/distributed/spill.py\", line 245, in __getitem__\n",
      "    return super().__getitem__(key)\n",
      "  File \"/opt/conda/lib/python3.10/site-packages/zict/buffer.py\", line 108, in __getitem__\n",
      "    raise KeyError(key)\n",
      "KeyError: '_deploy_dask_func-27cdd838-f92b-4629-8ecd-9bfd91c86bdb'\n",
      "\n",
      "During handling of the above exception, another exception occurred:\n",
      "\n",
      "Traceback (most recent call last):\n",
      "  File \"/opt/conda/lib/python3.10/site-packages/distributed/worker.py\", line 2271, in execute\n",
      "    args2, kwargs2 = self._prepare_args_for_execution(ts, args, kwargs)\n",
      "  File \"/opt/conda/lib/python3.10/site-packages/distributed/worker.py\", line 2394, in _prepare_args_for_execution\n",
      "    data[k] = Actor(type(self.state.actors[k]), self.address, k, self)\n",
      "KeyError: '_deploy_dask_func-27cdd838-f92b-4629-8ecd-9bfd91c86bdb'\n"
     ]
    },
    {
     "name": "stderr",
     "output_type": "stream",
     "text": [
      "2023-03-25 10:46:05,751 - distributed.worker - ERROR - Exception during execution of task lambda-1505b717a13245809f0827f4b6c7fd5b.\n",
      "Traceback (most recent call last):\n",
      "  File \"/opt/conda/lib/python3.10/site-packages/distributed/worker.py\", line 2390, in _prepare_args_for_execution\n",
      "    data[k] = self.data[k]\n",
      "  File \"/opt/conda/lib/python3.10/site-packages/distributed/spill.py\", line 245, in __getitem__\n",
      "    return super().__getitem__(key)\n",
      "  File \"/opt/conda/lib/python3.10/site-packages/zict/buffer.py\", line 108, in __getitem__\n",
      "    raise KeyError(key)\n",
      "KeyError: '_deploy_dask_func-d7000b68-bfa7-43a4-8604-3499920baf00'\n",
      "\n",
      "During handling of the above exception, another exception occurred:\n",
      "\n",
      "Traceback (most recent call last):\n",
      "  File \"/opt/conda/lib/python3.10/site-packages/distributed/worker.py\", line 2271, in execute\n",
      "    args2, kwargs2 = self._prepare_args_for_execution(ts, args, kwargs)\n",
      "  File \"/opt/conda/lib/python3.10/site-packages/distributed/worker.py\", line 2394, in _prepare_args_for_execution\n",
      "    data[k] = Actor(type(self.state.actors[k]), self.address, k, self)\n",
      "KeyError: '_deploy_dask_func-d7000b68-bfa7-43a4-8604-3499920baf00'\n"
     ]
    },
    {
     "name": "stderr",
     "output_type": "stream",
     "text": [
      "2023-03-25 10:46:10,745 - distributed.utils_perf - WARNING - full garbage collections took 13% CPU time recently (threshold: 10%)\n"
     ]
    },
    {
     "name": "stderr",
     "output_type": "stream",
     "text": [
      "2023-03-25 10:46:10,809 - distributed.worker - ERROR - Exception during execution of task lambda-2820220b399d15258379e1f7aa980b2c.\n",
      "Traceback (most recent call last):\n",
      "  File \"/opt/conda/lib/python3.10/site-packages/distributed/worker.py\", line 2390, in _prepare_args_for_execution\n",
      "    data[k] = self.data[k]\n",
      "  File \"/opt/conda/lib/python3.10/site-packages/distributed/spill.py\", line 245, in __getitem__\n",
      "    return super().__getitem__(key)\n",
      "  File \"/opt/conda/lib/python3.10/site-packages/zict/buffer.py\", line 108, in __getitem__\n",
      "    raise KeyError(key)\n",
      "KeyError: '_deploy_dask_func-7354749e-c885-44e9-b011-86caea150851'\n",
      "\n",
      "During handling of the above exception, another exception occurred:\n",
      "\n",
      "Traceback (most recent call last):\n",
      "  File \"/opt/conda/lib/python3.10/site-packages/distributed/worker.py\", line 2271, in execute\n",
      "    args2, kwargs2 = self._prepare_args_for_execution(ts, args, kwargs)\n",
      "  File \"/opt/conda/lib/python3.10/site-packages/distributed/worker.py\", line 2394, in _prepare_args_for_execution\n",
      "    data[k] = Actor(type(self.state.actors[k]), self.address, k, self)\n",
      "KeyError: '_deploy_dask_func-7354749e-c885-44e9-b011-86caea150851'\n"
     ]
    },
    {
     "name": "stderr",
     "output_type": "stream",
     "text": [
      "UserWarning: Distributing <class 'dict'> object. This may take some time.\n"
     ]
    },
    {
     "name": "stderr",
     "output_type": "stream",
     "text": [
      "UserWarning: Group indices computation is not currently supported by PandasOnDask, defaulting to pandas implementation.\n"
     ]
    },
    {
     "name": "stderr",
     "output_type": "stream",
     "text": [
      "2023-03-25 10:46:18,628 - distributed.worker - ERROR - Exception during execution of task lambda-88f29b07dbc24bf0c6f7bb6336b31cfb.\n",
      "Traceback (most recent call last):\n",
      "  File \"/opt/conda/lib/python3.10/site-packages/distributed/worker.py\", line 2390, in _prepare_args_for_execution\n",
      "    data[k] = self.data[k]\n",
      "  File \"/opt/conda/lib/python3.10/site-packages/distributed/spill.py\", line 245, in __getitem__\n",
      "    return super().__getitem__(key)\n",
      "  File \"/opt/conda/lib/python3.10/site-packages/zict/buffer.py\", line 108, in __getitem__\n",
      "    raise KeyError(key)\n",
      "KeyError: '_deploy_dask_func-8018b1f8-53b9-4878-9997-821f0547c4ca'\n",
      "\n",
      "During handling of the above exception, another exception occurred:\n",
      "\n",
      "Traceback (most recent call last):\n",
      "  File \"/opt/conda/lib/python3.10/site-packages/distributed/worker.py\", line 2271, in execute\n",
      "    args2, kwargs2 = self._prepare_args_for_execution(ts, args, kwargs)\n",
      "  File \"/opt/conda/lib/python3.10/site-packages/distributed/worker.py\", line 2394, in _prepare_args_for_execution\n",
      "    data[k] = Actor(type(self.state.actors[k]), self.address, k, self)\n",
      "KeyError: '_deploy_dask_func-8018b1f8-53b9-4878-9997-821f0547c4ca'\n"
     ]
    },
    {
     "name": "stderr",
     "output_type": "stream",
     "text": [
      "2023-03-25 10:46:20,351 - distributed.utils_perf - WARNING - full garbage collections took 13% CPU time recently (threshold: 10%)\n"
     ]
    },
    {
     "name": "stderr",
     "output_type": "stream",
     "text": [
      "UserWarning: Distributing <class 'dict'> object. This may take some time.\n"
     ]
    },
    {
     "name": "stderr",
     "output_type": "stream",
     "text": [
      "UserWarning: Group indices computation is not currently supported by PandasOnDask, defaulting to pandas implementation.\n"
     ]
    },
    {
     "name": "stderr",
     "output_type": "stream",
     "text": [
      "2023-03-25 10:46:27,241 - distributed.worker - ERROR - Exception during execution of task lambda-a14f99d013903b507458e0e46c0ce72c.\n",
      "Traceback (most recent call last):\n",
      "  File \"/opt/conda/lib/python3.10/site-packages/distributed/worker.py\", line 2390, in _prepare_args_for_execution\n",
      "    data[k] = self.data[k]\n",
      "  File \"/opt/conda/lib/python3.10/site-packages/distributed/spill.py\", line 245, in __getitem__\n",
      "    return super().__getitem__(key)\n",
      "  File \"/opt/conda/lib/python3.10/site-packages/zict/buffer.py\", line 108, in __getitem__\n",
      "    raise KeyError(key)\n",
      "KeyError: '_deploy_dask_func-5ea3e48f-a4c6-4a5a-a1bb-d1fb881bb269'\n",
      "\n",
      "During handling of the above exception, another exception occurred:\n",
      "\n",
      "Traceback (most recent call last):\n",
      "  File \"/opt/conda/lib/python3.10/site-packages/distributed/worker.py\", line 2271, in execute\n",
      "    args2, kwargs2 = self._prepare_args_for_execution(ts, args, kwargs)\n",
      "  File \"/opt/conda/lib/python3.10/site-packages/distributed/worker.py\", line 2394, in _prepare_args_for_execution\n",
      "    data[k] = Actor(type(self.state.actors[k]), self.address, k, self)\n",
      "KeyError: '_deploy_dask_func-5ea3e48f-a4c6-4a5a-a1bb-d1fb881bb269'\n"
     ]
    },
    {
     "name": "stderr",
     "output_type": "stream",
     "text": [
      "2023-03-25 10:46:29,765 - distributed.utils_perf - WARNING - full garbage collections took 13% CPU time recently (threshold: 10%)\n"
     ]
    },
    {
     "name": "stderr",
     "output_type": "stream",
     "text": [
      "2023-03-25 10:46:36,360 - distributed.worker - ERROR - Exception during execution of task lambda-c4ff5848274d0d704cac5b845161f9b7.\n",
      "Traceback (most recent call last):\n",
      "  File \"/opt/conda/lib/python3.10/site-packages/distributed/worker.py\", line 2390, in _prepare_args_for_execution\n",
      "    data[k] = self.data[k]\n",
      "  File \"/opt/conda/lib/python3.10/site-packages/distributed/spill.py\", line 245, in __getitem__\n",
      "    return super().__getitem__(key)\n",
      "  File \"/opt/conda/lib/python3.10/site-packages/zict/buffer.py\", line 108, in __getitem__\n",
      "    raise KeyError(key)\n",
      "KeyError: '_deploy_dask_func-0f7a0f11-5296-4095-843e-8f2c8625a60c'\n",
      "\n",
      "During handling of the above exception, another exception occurred:\n",
      "\n",
      "Traceback (most recent call last):\n",
      "  File \"/opt/conda/lib/python3.10/site-packages/distributed/worker.py\", line 2271, in execute\n",
      "    args2, kwargs2 = self._prepare_args_for_execution(ts, args, kwargs)\n",
      "  File \"/opt/conda/lib/python3.10/site-packages/distributed/worker.py\", line 2394, in _prepare_args_for_execution\n",
      "    data[k] = Actor(type(self.state.actors[k]), self.address, k, self)\n",
      "KeyError: '_deploy_dask_func-0f7a0f11-5296-4095-843e-8f2c8625a60c'\n"
     ]
    },
    {
     "name": "stderr",
     "output_type": "stream",
     "text": [
      "2023-03-25 10:46:39,411 - distributed.utils_perf - WARNING - full garbage collections took 13% CPU time recently (threshold: 10%)\n"
     ]
    },
    {
     "name": "stderr",
     "output_type": "stream",
     "text": [
      "UserWarning: Distributing <class 'dict'> object. This may take some time.\n",
      "UserWarning: Group indices computation is not currently supported by PandasOnDask, defaulting to pandas implementation.\n"
     ]
    },
    {
     "name": "stderr",
     "output_type": "stream",
     "text": [
      "2023-03-25 10:46:41,249 - distributed.worker - ERROR - Exception during execution of task lambda-f20cacdce06105d1de6464d4884c1472.\n",
      "Traceback (most recent call last):\n",
      "  File \"/opt/conda/lib/python3.10/site-packages/distributed/worker.py\", line 2390, in _prepare_args_for_execution\n",
      "    data[k] = self.data[k]\n",
      "  File \"/opt/conda/lib/python3.10/site-packages/distributed/spill.py\", line 245, in __getitem__\n",
      "    return super().__getitem__(key)\n",
      "  File \"/opt/conda/lib/python3.10/site-packages/zict/buffer.py\", line 108, in __getitem__\n",
      "    raise KeyError(key)\n",
      "KeyError: '_deploy_dask_func-5890ac8f-82d3-43d8-92ea-f667a52c3e86'\n",
      "\n",
      "During handling of the above exception, another exception occurred:\n",
      "\n",
      "Traceback (most recent call last):\n",
      "  File \"/opt/conda/lib/python3.10/site-packages/distributed/worker.py\", line 2271, in execute\n",
      "    args2, kwargs2 = self._prepare_args_for_execution(ts, args, kwargs)\n",
      "  File \"/opt/conda/lib/python3.10/site-packages/distributed/worker.py\", line 2394, in _prepare_args_for_execution\n",
      "    data[k] = Actor(type(self.state.actors[k]), self.address, k, self)\n",
      "KeyError: '_deploy_dask_func-5890ac8f-82d3-43d8-92ea-f667a52c3e86'\n"
     ]
    },
    {
     "name": "stderr",
     "output_type": "stream",
     "text": [
      "2023-03-25 10:46:48,952 - distributed.utils_perf - WARNING - full garbage collections took 13% CPU time recently (threshold: 10%)\n"
     ]
    },
    {
     "name": "stderr",
     "output_type": "stream",
     "text": [
      "2023-03-25 10:46:51,477 - distributed.worker - ERROR - Exception during execution of task lambda-4c45b2f9754f11d6a7aa5b99dcd1aed5.\n",
      "Traceback (most recent call last):\n",
      "  File \"/opt/conda/lib/python3.10/site-packages/distributed/worker.py\", line 2390, in _prepare_args_for_execution\n",
      "    data[k] = self.data[k]\n",
      "  File \"/opt/conda/lib/python3.10/site-packages/distributed/spill.py\", line 245, in __getitem__\n",
      "    return super().__getitem__(key)\n",
      "  File \"/opt/conda/lib/python3.10/site-packages/zict/buffer.py\", line 108, in __getitem__\n",
      "    raise KeyError(key)\n",
      "KeyError: '_deploy_dask_func-c06fd5fe-b098-4443-aec9-d25897304ce9'\n",
      "\n",
      "During handling of the above exception, another exception occurred:\n",
      "\n",
      "Traceback (most recent call last):\n",
      "  File \"/opt/conda/lib/python3.10/site-packages/distributed/worker.py\", line 2271, in execute\n",
      "    args2, kwargs2 = self._prepare_args_for_execution(ts, args, kwargs)\n",
      "  File \"/opt/conda/lib/python3.10/site-packages/distributed/worker.py\", line 2394, in _prepare_args_for_execution\n",
      "    data[k] = Actor(type(self.state.actors[k]), self.address, k, self)\n",
      "KeyError: '_deploy_dask_func-c06fd5fe-b098-4443-aec9-d25897304ce9'\n"
     ]
    },
    {
     "name": "stderr",
     "output_type": "stream",
     "text": [
      "RuntimeWarning: divide by zero encountered in log\n",
      "UserWarning: Distributing <class 'dict'> object. This may take some time.\n",
      "UserWarning: Group indices computation is not currently supported by PandasOnDask, defaulting to pandas implementation.\n"
     ]
    },
    {
     "name": "stderr",
     "output_type": "stream",
     "text": [
      "2023-03-25 10:46:54,356 - distributed.worker - ERROR - Exception during execution of task lambda-a0293feae528695d3be502ea9708cb9e.\n",
      "Traceback (most recent call last):\n",
      "  File \"/opt/conda/lib/python3.10/site-packages/distributed/worker.py\", line 2390, in _prepare_args_for_execution\n",
      "    data[k] = self.data[k]\n",
      "  File \"/opt/conda/lib/python3.10/site-packages/distributed/spill.py\", line 245, in __getitem__\n",
      "    return super().__getitem__(key)\n",
      "  File \"/opt/conda/lib/python3.10/site-packages/zict/buffer.py\", line 108, in __getitem__\n",
      "    raise KeyError(key)\n",
      "KeyError: '_deploy_dask_func-f68679d1-e15c-4d71-9833-145d3ccd2bcb'\n",
      "\n",
      "During handling of the above exception, another exception occurred:\n",
      "\n",
      "Traceback (most recent call last):\n",
      "  File \"/opt/conda/lib/python3.10/site-packages/distributed/worker.py\", line 2271, in execute\n",
      "    args2, kwargs2 = self._prepare_args_for_execution(ts, args, kwargs)\n",
      "  File \"/opt/conda/lib/python3.10/site-packages/distributed/worker.py\", line 2394, in _prepare_args_for_execution\n",
      "    data[k] = Actor(type(self.state.actors[k]), self.address, k, self)\n",
      "KeyError: '_deploy_dask_func-f68679d1-e15c-4d71-9833-145d3ccd2bcb'\n"
     ]
    },
    {
     "name": "stderr",
     "output_type": "stream",
     "text": [
      "2023-03-25 10:46:58,857 - distributed.utils_perf - WARNING - full garbage collections took 13% CPU time recently (threshold: 10%)\n"
     ]
    },
    {
     "name": "stderr",
     "output_type": "stream",
     "text": [
      "2023-03-25 10:47:01,548 - distributed.worker - ERROR - Exception during execution of task lambda-5a08873ffae79ac79bfc64c19c823f93.\n",
      "Traceback (most recent call last):\n",
      "  File \"/opt/conda/lib/python3.10/site-packages/distributed/worker.py\", line 2390, in _prepare_args_for_execution\n",
      "    data[k] = self.data[k]\n",
      "  File \"/opt/conda/lib/python3.10/site-packages/distributed/spill.py\", line 245, in __getitem__\n",
      "    return super().__getitem__(key)\n",
      "  File \"/opt/conda/lib/python3.10/site-packages/zict/buffer.py\", line 108, in __getitem__\n",
      "    raise KeyError(key)\n",
      "KeyError: '_deploy_dask_func-8daa357b-c471-4471-9480-16c530e849fe'\n",
      "\n",
      "During handling of the above exception, another exception occurred:\n",
      "\n",
      "Traceback (most recent call last):\n",
      "  File \"/opt/conda/lib/python3.10/site-packages/distributed/worker.py\", line 2271, in execute\n",
      "    args2, kwargs2 = self._prepare_args_for_execution(ts, args, kwargs)\n",
      "  File \"/opt/conda/lib/python3.10/site-packages/distributed/worker.py\", line 2394, in _prepare_args_for_execution\n",
      "    data[k] = Actor(type(self.state.actors[k]), self.address, k, self)\n",
      "KeyError: '_deploy_dask_func-8daa357b-c471-4471-9480-16c530e849fe'\n"
     ]
    },
    {
     "name": "stderr",
     "output_type": "stream",
     "text": [
      "UserWarning: Distributing <class 'dict'> object. This may take some time.\n",
      "UserWarning: Group indices computation is not currently supported by PandasOnDask, defaulting to pandas implementation.\n"
     ]
    },
    {
     "name": "stderr",
     "output_type": "stream",
     "text": [
      "2023-03-25 10:47:08,865 - distributed.utils_perf - WARNING - full garbage collections took 13% CPU time recently (threshold: 10%)\n"
     ]
    },
    {
     "name": "stderr",
     "output_type": "stream",
     "text": [
      "2023-03-25 10:47:12,161 - distributed.worker - ERROR - Exception during execution of task lambda-97c5865f34e6205c3da19c0fd156020e.\n",
      "Traceback (most recent call last):\n",
      "  File \"/opt/conda/lib/python3.10/site-packages/distributed/worker.py\", line 2390, in _prepare_args_for_execution\n",
      "    data[k] = self.data[k]\n",
      "  File \"/opt/conda/lib/python3.10/site-packages/distributed/spill.py\", line 245, in __getitem__\n",
      "    return super().__getitem__(key)\n",
      "  File \"/opt/conda/lib/python3.10/site-packages/zict/buffer.py\", line 108, in __getitem__\n",
      "    raise KeyError(key)\n",
      "KeyError: '_deploy_dask_func-d637509d-a408-4b6a-a86e-e9a94974a210'\n",
      "\n",
      "During handling of the above exception, another exception occurred:\n",
      "\n",
      "Traceback (most recent call last):\n",
      "  File \"/opt/conda/lib/python3.10/site-packages/distributed/worker.py\", line 2271, in execute\n",
      "    args2, kwargs2 = self._prepare_args_for_execution(ts, args, kwargs)\n",
      "  File \"/opt/conda/lib/python3.10/site-packages/distributed/worker.py\", line 2394, in _prepare_args_for_execution\n",
      "    data[k] = Actor(type(self.state.actors[k]), self.address, k, self)\n",
      "KeyError: '_deploy_dask_func-d637509d-a408-4b6a-a86e-e9a94974a210'\n"
     ]
    },
    {
     "name": "stderr",
     "output_type": "stream",
     "text": [
      "UserWarning: Distributing <class 'dict'> object. This may take some time.\n",
      "UserWarning: Group indices computation is not currently supported by PandasOnDask, defaulting to pandas implementation.\n"
     ]
    },
    {
     "name": "stderr",
     "output_type": "stream",
     "text": [
      "2023-03-25 10:47:15,634 - distributed.worker - ERROR - Exception during execution of task lambda-f1f25e515b2f57dc93a540ad16efe998.\n",
      "Traceback (most recent call last):\n",
      "  File \"/opt/conda/lib/python3.10/site-packages/distributed/worker.py\", line 2390, in _prepare_args_for_execution\n",
      "    data[k] = self.data[k]\n",
      "  File \"/opt/conda/lib/python3.10/site-packages/distributed/spill.py\", line 245, in __getitem__\n",
      "    return super().__getitem__(key)\n",
      "  File \"/opt/conda/lib/python3.10/site-packages/zict/buffer.py\", line 108, in __getitem__\n",
      "    raise KeyError(key)\n",
      "KeyError: '_deploy_dask_func-154fa0d4-1333-42b9-8595-fe18b85c1609'\n",
      "\n",
      "During handling of the above exception, another exception occurred:\n",
      "\n",
      "Traceback (most recent call last):\n",
      "  File \"/opt/conda/lib/python3.10/site-packages/distributed/worker.py\", line 2271, in execute\n",
      "    args2, kwargs2 = self._prepare_args_for_execution(ts, args, kwargs)\n",
      "  File \"/opt/conda/lib/python3.10/site-packages/distributed/worker.py\", line 2394, in _prepare_args_for_execution\n",
      "    data[k] = Actor(type(self.state.actors[k]), self.address, k, self)\n",
      "KeyError: '_deploy_dask_func-154fa0d4-1333-42b9-8595-fe18b85c1609'\n"
     ]
    },
    {
     "name": "stderr",
     "output_type": "stream",
     "text": [
      "2023-03-25 10:47:19,413 - distributed.utils_perf - WARNING - full garbage collections took 13% CPU time recently (threshold: 10%)\n"
     ]
    },
    {
     "name": "stderr",
     "output_type": "stream",
     "text": [
      "UserWarning: Distributing <class 'dict'> object. This may take some time.\n",
      "UserWarning: Group indices computation is not currently supported by PandasOnDask, defaulting to pandas implementation.\n"
     ]
    },
    {
     "name": "stderr",
     "output_type": "stream",
     "text": [
      "2023-03-25 10:47:29,360 - distributed.utils_perf - WARNING - full garbage collections took 14% CPU time recently (threshold: 10%)\n"
     ]
    },
    {
     "name": "stderr",
     "output_type": "stream",
     "text": [
      "2023-03-25 10:47:32,598 - distributed.worker - ERROR - Exception during execution of task lambda-9a7f1671dbba91404ab9897c2c9c125c.\n",
      "Traceback (most recent call last):\n",
      "  File \"/opt/conda/lib/python3.10/site-packages/distributed/worker.py\", line 2390, in _prepare_args_for_execution\n",
      "    data[k] = self.data[k]\n",
      "  File \"/opt/conda/lib/python3.10/site-packages/distributed/spill.py\", line 245, in __getitem__\n",
      "    return super().__getitem__(key)\n",
      "  File \"/opt/conda/lib/python3.10/site-packages/zict/buffer.py\", line 108, in __getitem__\n",
      "    raise KeyError(key)\n",
      "KeyError: '_deploy_dask_func-486f661b-8d4a-4976-825c-a4422148fb3c'\n",
      "\n",
      "During handling of the above exception, another exception occurred:\n",
      "\n",
      "Traceback (most recent call last):\n",
      "  File \"/opt/conda/lib/python3.10/site-packages/distributed/worker.py\", line 2271, in execute\n",
      "    args2, kwargs2 = self._prepare_args_for_execution(ts, args, kwargs)\n",
      "  File \"/opt/conda/lib/python3.10/site-packages/distributed/worker.py\", line 2394, in _prepare_args_for_execution\n",
      "    data[k] = Actor(type(self.state.actors[k]), self.address, k, self)\n",
      "KeyError: '_deploy_dask_func-486f661b-8d4a-4976-825c-a4422148fb3c'\n"
     ]
    },
    {
     "name": "stderr",
     "output_type": "stream",
     "text": [
      "2023-03-25 10:47:40,066 - distributed.utils_perf - WARNING - full garbage collections took 14% CPU time recently (threshold: 10%)\n"
     ]
    },
    {
     "name": "stderr",
     "output_type": "stream",
     "text": [
      "RuntimeWarning: divide by zero encountered in log\n",
      "UserWarning: Distributing <class 'dict'> object. This may take some time.\n",
      "UserWarning: Group indices computation is not currently supported by PandasOnDask, defaulting to pandas implementation.\n"
     ]
    },
    {
     "name": "stderr",
     "output_type": "stream",
     "text": [
      "2023-03-25 10:47:50,416 - distributed.utils_perf - WARNING - full garbage collections took 14% CPU time recently (threshold: 10%)\n"
     ]
    },
    {
     "name": "stderr",
     "output_type": "stream",
     "text": [
      "2023-03-25 10:47:51,196 - distributed.worker - ERROR - Exception during execution of task lambda-937d6e03716e8180ede941a3b6b8a7e6.\n",
      "Traceback (most recent call last):\n",
      "  File \"/opt/conda/lib/python3.10/site-packages/distributed/worker.py\", line 2390, in _prepare_args_for_execution\n",
      "    data[k] = self.data[k]\n",
      "  File \"/opt/conda/lib/python3.10/site-packages/distributed/spill.py\", line 245, in __getitem__\n",
      "    return super().__getitem__(key)\n",
      "  File \"/opt/conda/lib/python3.10/site-packages/zict/buffer.py\", line 108, in __getitem__\n",
      "    raise KeyError(key)\n",
      "KeyError: '_deploy_dask_func-3dc662ed-93bb-4556-9e72-01f1668bb204'\n",
      "\n",
      "During handling of the above exception, another exception occurred:\n",
      "\n",
      "Traceback (most recent call last):\n",
      "  File \"/opt/conda/lib/python3.10/site-packages/distributed/worker.py\", line 2271, in execute\n",
      "    args2, kwargs2 = self._prepare_args_for_execution(ts, args, kwargs)\n",
      "  File \"/opt/conda/lib/python3.10/site-packages/distributed/worker.py\", line 2394, in _prepare_args_for_execution\n",
      "    data[k] = Actor(type(self.state.actors[k]), self.address, k, self)\n",
      "KeyError: '_deploy_dask_func-3dc662ed-93bb-4556-9e72-01f1668bb204'\n"
     ]
    },
    {
     "name": "stderr",
     "output_type": "stream",
     "text": [
      "UserWarning: Distributing <class 'dict'> object. This may take some time.\n",
      "UserWarning: Group indices computation is not currently supported by PandasOnDask, defaulting to pandas implementation.\n"
     ]
    },
    {
     "name": "stderr",
     "output_type": "stream",
     "text": [
      "2023-03-25 10:47:57,947 - distributed.worker - ERROR - Exception during execution of task lambda-0eccc3d5d87cbbed1a6648e3933acb4c.\n",
      "Traceback (most recent call last):\n",
      "  File \"/opt/conda/lib/python3.10/site-packages/distributed/worker.py\", line 2390, in _prepare_args_for_execution\n",
      "    data[k] = self.data[k]\n",
      "  File \"/opt/conda/lib/python3.10/site-packages/distributed/spill.py\", line 245, in __getitem__\n",
      "    return super().__getitem__(key)\n",
      "  File \"/opt/conda/lib/python3.10/site-packages/zict/buffer.py\", line 108, in __getitem__\n",
      "    raise KeyError(key)\n",
      "KeyError: '_deploy_dask_func-a35a7f97-d2c2-45bb-a3a7-a2bdf1feeb25'\n",
      "\n",
      "During handling of the above exception, another exception occurred:\n",
      "\n",
      "Traceback (most recent call last):\n",
      "  File \"/opt/conda/lib/python3.10/site-packages/distributed/worker.py\", line 2271, in execute\n",
      "    args2, kwargs2 = self._prepare_args_for_execution(ts, args, kwargs)\n",
      "  File \"/opt/conda/lib/python3.10/site-packages/distributed/worker.py\", line 2394, in _prepare_args_for_execution\n",
      "    data[k] = Actor(type(self.state.actors[k]), self.address, k, self)\n",
      "KeyError: '_deploy_dask_func-a35a7f97-d2c2-45bb-a3a7-a2bdf1feeb25'\n"
     ]
    },
    {
     "name": "stderr",
     "output_type": "stream",
     "text": [
      "2023-03-25 10:48:00,769 - distributed.utils_perf - WARNING - full garbage collections took 14% CPU time recently (threshold: 10%)\n"
     ]
    },
    {
     "name": "stderr",
     "output_type": "stream",
     "text": [
      "UserWarning: Distributing <class 'dict'> object. This may take some time.\n"
     ]
    }
   ],
   "source": [
    "f = '3min'\n",
    "\n",
    "for sensitivity, value in data.items():\n",
    "    print(sensitivity)\n",
    "\n",
    "    df_pred = value[\"df\"]\n",
    "    local_df = df_pred[df_pred[\"ipaddr SRC_IP\"].str.startswith(\"192.168\")].copy()\n",
    "    local_df[\"time TIME_FIRST\"] = local_df[\"time TIME_FIRST\"].apply(dateutil.parser.parse)\n",
    "    \n",
    "    calc_ips = {}\n",
    "\n",
    "    a1_t = local_df.set_index([\"time TIME_FIRST\"])\n",
    "\n",
    "    df_resample = a1_t.groupby(pd.Grouper(freq=f, origin=min_ts)).first()\n",
    "    times = df_resample.index.tolist()\n",
    "    ranges = list(zip(times, times[1:]))\n",
    "\n",
    "    df_calcs = []\n",
    "    for ran in ranges:\n",
    "        df_ran = a1_t[(a1_t.index > ran[0]) & (a1_t.index < ran[1])]\n",
    "        df_calc = calc(df_ran)\n",
    "        df_calc[\"ts\"] = ran[0]\n",
    "        df_calcs.append(df_calc)\n",
    "\n",
    "    value[\"df_calc\"] = pd.concat(df_calcs).reset_index(drop=True)"
   ]
  },
  {
   "cell_type": "code",
   "execution_count": 23,
   "id": "50c68198-fc75-46b2-9f22-e171cdb2ad55",
   "metadata": {
    "execution": {
     "iopub.execute_input": "2023-03-25T10:48:05.337242Z",
     "iopub.status.busy": "2023-03-25T10:48:05.336784Z",
     "iopub.status.idle": "2023-03-25T10:48:26.492118Z",
     "shell.execute_reply": "2023-03-25T10:48:26.491471Z"
    },
    "papermill": {
     "duration": 21.184997,
     "end_time": "2023-03-25T10:48:26.493511",
     "exception": false,
     "start_time": "2023-03-25T10:48:05.308514",
     "status": "completed"
    },
    "tags": []
   },
   "outputs": [
    {
     "name": "stdout",
     "output_type": "stream",
     "text": [
      "0.8\n"
     ]
    },
    {
     "name": "stderr",
     "output_type": "stream",
     "text": [
      "2023-03-25 10:48:07,249 - distributed.worker - ERROR - Exception during execution of task lambda-fdfbfac47b6f2529b705ae7c5c92e21e.\n",
      "Traceback (most recent call last):\n",
      "  File \"/opt/conda/lib/python3.10/site-packages/distributed/worker.py\", line 2390, in _prepare_args_for_execution\n",
      "    data[k] = self.data[k]\n",
      "  File \"/opt/conda/lib/python3.10/site-packages/distributed/spill.py\", line 245, in __getitem__\n",
      "    return super().__getitem__(key)\n",
      "  File \"/opt/conda/lib/python3.10/site-packages/zict/buffer.py\", line 108, in __getitem__\n",
      "    raise KeyError(key)\n",
      "KeyError: 'apply_list_of_funcs-fb8fde0e-b5b6-41b1-987b-8ae92eae6c8c'\n",
      "\n",
      "During handling of the above exception, another exception occurred:\n",
      "\n",
      "Traceback (most recent call last):\n",
      "  File \"/opt/conda/lib/python3.10/site-packages/distributed/worker.py\", line 2271, in execute\n",
      "    args2, kwargs2 = self._prepare_args_for_execution(ts, args, kwargs)\n",
      "  File \"/opt/conda/lib/python3.10/site-packages/distributed/worker.py\", line 2394, in _prepare_args_for_execution\n",
      "    data[k] = Actor(type(self.state.actors[k]), self.address, k, self)\n",
      "KeyError: 'apply_list_of_funcs-fb8fde0e-b5b6-41b1-987b-8ae92eae6c8c'\n"
     ]
    },
    {
     "name": "stderr",
     "output_type": "stream",
     "text": [
      "2023-03-25 10:48:08,860 - distributed.worker - ERROR - Exception during execution of task lambda-1d6eac7deed88500fdaaa13cf0b696dc.\n",
      "Traceback (most recent call last):\n",
      "  File \"/opt/conda/lib/python3.10/site-packages/distributed/worker.py\", line 2390, in _prepare_args_for_execution\n",
      "    data[k] = self.data[k]\n",
      "  File \"/opt/conda/lib/python3.10/site-packages/distributed/spill.py\", line 245, in __getitem__\n",
      "    return super().__getitem__(key)\n",
      "  File \"/opt/conda/lib/python3.10/site-packages/zict/buffer.py\", line 108, in __getitem__\n",
      "    raise KeyError(key)\n",
      "KeyError: 'apply_list_of_funcs-d61b0f06-32a8-47c8-975b-836ef4a05e40'\n",
      "\n",
      "During handling of the above exception, another exception occurred:\n",
      "\n",
      "Traceback (most recent call last):\n",
      "  File \"/opt/conda/lib/python3.10/site-packages/distributed/worker.py\", line 2271, in execute\n",
      "    args2, kwargs2 = self._prepare_args_for_execution(ts, args, kwargs)\n",
      "  File \"/opt/conda/lib/python3.10/site-packages/distributed/worker.py\", line 2394, in _prepare_args_for_execution\n",
      "    data[k] = Actor(type(self.state.actors[k]), self.address, k, self)\n",
      "KeyError: 'apply_list_of_funcs-d61b0f06-32a8-47c8-975b-836ef4a05e40'\n"
     ]
    },
    {
     "name": "stderr",
     "output_type": "stream",
     "text": [
      "2023-03-25 10:48:09,179 - distributed.worker - ERROR - Exception during execution of task lambda-0007ff99aadc71f8a3e33bd9f3de5590.\n",
      "Traceback (most recent call last):\n",
      "  File \"/opt/conda/lib/python3.10/site-packages/distributed/worker.py\", line 2390, in _prepare_args_for_execution\n",
      "    data[k] = self.data[k]\n",
      "  File \"/opt/conda/lib/python3.10/site-packages/distributed/spill.py\", line 245, in __getitem__\n",
      "    return super().__getitem__(key)\n",
      "  File \"/opt/conda/lib/python3.10/site-packages/zict/buffer.py\", line 108, in __getitem__\n",
      "    raise KeyError(key)\n",
      "KeyError: 'apply_list_of_funcs-552d6771-d0c4-4ea6-b489-83b5ae730441'\n",
      "\n",
      "During handling of the above exception, another exception occurred:\n",
      "\n",
      "Traceback (most recent call last):\n",
      "  File \"/opt/conda/lib/python3.10/site-packages/distributed/worker.py\", line 2271, in execute\n",
      "    args2, kwargs2 = self._prepare_args_for_execution(ts, args, kwargs)\n",
      "  File \"/opt/conda/lib/python3.10/site-packages/distributed/worker.py\", line 2394, in _prepare_args_for_execution\n",
      "    data[k] = Actor(type(self.state.actors[k]), self.address, k, self)\n",
      "KeyError: 'apply_list_of_funcs-552d6771-d0c4-4ea6-b489-83b5ae730441'\n"
     ]
    },
    {
     "name": "stderr",
     "output_type": "stream",
     "text": [
      "2023-03-25 10:48:13,063 - distributed.utils_perf - WARNING - full garbage collections took 14% CPU time recently (threshold: 10%)\n"
     ]
    },
    {
     "name": "stderr",
     "output_type": "stream",
     "text": [
      "2023-03-25 10:48:15,700 - distributed.worker - ERROR - Exception during execution of task lambda-3247e8074f4e443da6f8ec30d94530af.\n",
      "Traceback (most recent call last):\n",
      "  File \"/opt/conda/lib/python3.10/site-packages/distributed/worker.py\", line 2390, in _prepare_args_for_execution\n",
      "    data[k] = self.data[k]\n",
      "  File \"/opt/conda/lib/python3.10/site-packages/distributed/spill.py\", line 245, in __getitem__\n",
      "    return super().__getitem__(key)\n",
      "  File \"/opt/conda/lib/python3.10/site-packages/zict/buffer.py\", line 108, in __getitem__\n",
      "    raise KeyError(key)\n",
      "KeyError: 'apply_list_of_funcs-d19b52ba-1b05-4644-969e-2c13d642b223'\n",
      "\n",
      "During handling of the above exception, another exception occurred:\n",
      "\n",
      "Traceback (most recent call last):\n",
      "  File \"/opt/conda/lib/python3.10/site-packages/distributed/worker.py\", line 2271, in execute\n",
      "    args2, kwargs2 = self._prepare_args_for_execution(ts, args, kwargs)\n",
      "  File \"/opt/conda/lib/python3.10/site-packages/distributed/worker.py\", line 2394, in _prepare_args_for_execution\n",
      "    data[k] = Actor(type(self.state.actors[k]), self.address, k, self)\n",
      "KeyError: 'apply_list_of_funcs-d19b52ba-1b05-4644-969e-2c13d642b223'\n"
     ]
    },
    {
     "name": "stderr",
     "output_type": "stream",
     "text": [
      "2023-03-25 10:48:16,137 - distributed.worker - ERROR - Exception during execution of task lambda-9fcf329c66a869907734d7c85ebfd100.\n",
      "Traceback (most recent call last):\n",
      "  File \"/opt/conda/lib/python3.10/site-packages/distributed/worker.py\", line 2390, in _prepare_args_for_execution\n",
      "    data[k] = self.data[k]\n",
      "  File \"/opt/conda/lib/python3.10/site-packages/distributed/spill.py\", line 245, in __getitem__\n",
      "    return super().__getitem__(key)\n",
      "  File \"/opt/conda/lib/python3.10/site-packages/zict/buffer.py\", line 108, in __getitem__\n",
      "    raise KeyError(key)\n",
      "KeyError: 'apply_list_of_funcs-2750aca4-ed5a-46ff-87b9-f34d6c4a8603'\n",
      "\n",
      "During handling of the above exception, another exception occurred:\n",
      "\n",
      "Traceback (most recent call last):\n",
      "  File \"/opt/conda/lib/python3.10/site-packages/distributed/worker.py\", line 2271, in execute\n",
      "    args2, kwargs2 = self._prepare_args_for_execution(ts, args, kwargs)\n",
      "  File \"/opt/conda/lib/python3.10/site-packages/distributed/worker.py\", line 2394, in _prepare_args_for_execution\n",
      "    data[k] = Actor(type(self.state.actors[k]), self.address, k, self)\n",
      "KeyError: 'apply_list_of_funcs-2750aca4-ed5a-46ff-87b9-f34d6c4a8603'\n"
     ]
    },
    {
     "data": {
      "image/png": "[encoded data removed]",
      "text/plain": [
       "<Figure size 1200x400 with 1 Axes>"
      ]
     },
     "metadata": {},
     "output_type": "display_data"
    },
    {
     "name": "stdout",
     "output_type": "stream",
     "text": [
      "0.9\n"
     ]
    },
    {
     "name": "stderr",
     "output_type": "stream",
     "text": [
      "2023-03-25 10:48:17,865 - distributed.worker - ERROR - Exception during execution of task lambda-dc8f7417073e623a5b36391677e26478.\n",
      "Traceback (most recent call last):\n",
      "  File \"/opt/conda/lib/python3.10/site-packages/distributed/worker.py\", line 2390, in _prepare_args_for_execution\n",
      "    data[k] = self.data[k]\n",
      "  File \"/opt/conda/lib/python3.10/site-packages/distributed/spill.py\", line 245, in __getitem__\n",
      "    return super().__getitem__(key)\n",
      "  File \"/opt/conda/lib/python3.10/site-packages/zict/buffer.py\", line 108, in __getitem__\n",
      "    raise KeyError(key)\n",
      "KeyError: 'apply_list_of_funcs-74e6a5d7-c601-4e60-95b4-e799a2294608'\n",
      "\n",
      "During handling of the above exception, another exception occurred:\n",
      "\n",
      "Traceback (most recent call last):\n",
      "  File \"/opt/conda/lib/python3.10/site-packages/distributed/worker.py\", line 2271, in execute\n",
      "    args2, kwargs2 = self._prepare_args_for_execution(ts, args, kwargs)\n",
      "  File \"/opt/conda/lib/python3.10/site-packages/distributed/worker.py\", line 2394, in _prepare_args_for_execution\n",
      "    data[k] = Actor(type(self.state.actors[k]), self.address, k, self)\n",
      "KeyError: 'apply_list_of_funcs-74e6a5d7-c601-4e60-95b4-e799a2294608'\n"
     ]
    },
    {
     "name": "stderr",
     "output_type": "stream",
     "text": [
      "2023-03-25 10:48:20,068 - distributed.worker - ERROR - Exception during execution of task lambda-121fc4162ec98f8a45ca587782547b22.\n",
      "Traceback (most recent call last):\n",
      "  File \"/opt/conda/lib/python3.10/site-packages/distributed/worker.py\", line 2390, in _prepare_args_for_execution\n",
      "    data[k] = self.data[k]\n",
      "  File \"/opt/conda/lib/python3.10/site-packages/distributed/spill.py\", line 245, in __getitem__\n",
      "    return super().__getitem__(key)\n",
      "  File \"/opt/conda/lib/python3.10/site-packages/zict/buffer.py\", line 108, in __getitem__\n",
      "    raise KeyError(key)\n",
      "KeyError: 'apply_list_of_funcs-2cc43f8e-a420-4557-98cc-9852cf38b4d2'\n",
      "\n",
      "During handling of the above exception, another exception occurred:\n",
      "\n",
      "Traceback (most recent call last):\n",
      "  File \"/opt/conda/lib/python3.10/site-packages/distributed/worker.py\", line 2271, in execute\n",
      "    args2, kwargs2 = self._prepare_args_for_execution(ts, args, kwargs)\n",
      "  File \"/opt/conda/lib/python3.10/site-packages/distributed/worker.py\", line 2394, in _prepare_args_for_execution\n",
      "    data[k] = Actor(type(self.state.actors[k]), self.address, k, self)\n",
      "KeyError: 'apply_list_of_funcs-2cc43f8e-a420-4557-98cc-9852cf38b4d2'\n"
     ]
    },
    {
     "name": "stderr",
     "output_type": "stream",
     "text": [
      "2023-03-25 10:48:20,526 - distributed.worker - ERROR - Exception during execution of task lambda-b9d6a914660a1083de58bc65bda450ee.\n",
      "Traceback (most recent call last):\n",
      "  File \"/opt/conda/lib/python3.10/site-packages/distributed/worker.py\", line 2390, in _prepare_args_for_execution\n",
      "    data[k] = self.data[k]\n",
      "  File \"/opt/conda/lib/python3.10/site-packages/distributed/spill.py\", line 245, in __getitem__\n",
      "    return super().__getitem__(key)\n",
      "  File \"/opt/conda/lib/python3.10/site-packages/zict/buffer.py\", line 108, in __getitem__\n",
      "    raise KeyError(key)\n",
      "KeyError: 'apply_list_of_funcs-6d6a76e8-9332-4078-be4d-4b44b84e2de3'\n",
      "\n",
      "During handling of the above exception, another exception occurred:\n",
      "\n",
      "Traceback (most recent call last):\n",
      "  File \"/opt/conda/lib/python3.10/site-packages/distributed/worker.py\", line 2271, in execute\n",
      "    args2, kwargs2 = self._prepare_args_for_execution(ts, args, kwargs)\n",
      "  File \"/opt/conda/lib/python3.10/site-packages/distributed/worker.py\", line 2394, in _prepare_args_for_execution\n",
      "    data[k] = Actor(type(self.state.actors[k]), self.address, k, self)\n",
      "KeyError: 'apply_list_of_funcs-6d6a76e8-9332-4078-be4d-4b44b84e2de3'\n"
     ]
    },
    {
     "name": "stderr",
     "output_type": "stream",
     "text": [
      "2023-03-25 10:48:21,901 - distributed.worker - ERROR - Exception during execution of task lambda-2528ddb647e4a06389cc7f5714e91597.\n",
      "Traceback (most recent call last):\n",
      "  File \"/opt/conda/lib/python3.10/site-packages/distributed/worker.py\", line 2390, in _prepare_args_for_execution\n",
      "    data[k] = self.data[k]\n",
      "  File \"/opt/conda/lib/python3.10/site-packages/distributed/spill.py\", line 245, in __getitem__\n",
      "    return super().__getitem__(key)\n",
      "  File \"/opt/conda/lib/python3.10/site-packages/zict/buffer.py\", line 108, in __getitem__\n",
      "    raise KeyError(key)\n",
      "KeyError: 'apply_list_of_funcs-61873a88-34ec-490e-a47a-236571a302fc'\n",
      "\n",
      "During handling of the above exception, another exception occurred:\n",
      "\n",
      "Traceback (most recent call last):\n",
      "  File \"/opt/conda/lib/python3.10/site-packages/distributed/worker.py\", line 2271, in execute\n",
      "    args2, kwargs2 = self._prepare_args_for_execution(ts, args, kwargs)\n",
      "  File \"/opt/conda/lib/python3.10/site-packages/distributed/worker.py\", line 2394, in _prepare_args_for_execution\n",
      "    data[k] = Actor(type(self.state.actors[k]), self.address, k, self)\n",
      "KeyError: 'apply_list_of_funcs-61873a88-34ec-490e-a47a-236571a302fc'\n"
     ]
    },
    {
     "name": "stderr",
     "output_type": "stream",
     "text": [
      "2023-03-25 10:48:23,909 - distributed.worker - ERROR - Exception during execution of task lambda-5fdadd971e9a36c50337cec0211ea809.\n",
      "Traceback (most recent call last):\n",
      "  File \"/opt/conda/lib/python3.10/site-packages/distributed/worker.py\", line 2390, in _prepare_args_for_execution\n",
      "    data[k] = self.data[k]\n",
      "  File \"/opt/conda/lib/python3.10/site-packages/distributed/spill.py\", line 245, in __getitem__\n",
      "    return super().__getitem__(key)\n",
      "  File \"/opt/conda/lib/python3.10/site-packages/zict/buffer.py\", line 108, in __getitem__\n",
      "    raise KeyError(key)\n",
      "KeyError: 'apply_list_of_funcs-ec854fde-0ec1-4150-b0b0-28d64ee9e47f'\n",
      "\n",
      "During handling of the above exception, another exception occurred:\n",
      "\n",
      "Traceback (most recent call last):\n",
      "  File \"/opt/conda/lib/python3.10/site-packages/distributed/worker.py\", line 2271, in execute\n",
      "    args2, kwargs2 = self._prepare_args_for_execution(ts, args, kwargs)\n",
      "  File \"/opt/conda/lib/python3.10/site-packages/distributed/worker.py\", line 2394, in _prepare_args_for_execution\n",
      "    data[k] = Actor(type(self.state.actors[k]), self.address, k, self)\n",
      "KeyError: 'apply_list_of_funcs-ec854fde-0ec1-4150-b0b0-28d64ee9e47f'\n",
      "2023-03-25 10:48:24,025 - distributed.worker - ERROR - Exception during execution of task lambda-80a05790327984e713f2fb5acccbd2bc.\n",
      "Traceback (most recent call last):\n",
      "  File \"/opt/conda/lib/python3.10/site-packages/distributed/worker.py\", line 2390, in _prepare_args_for_execution\n",
      "    data[k] = self.data[k]\n",
      "  File \"/opt/conda/lib/python3.10/site-packages/distributed/spill.py\", line 245, in __getitem__\n",
      "    return super().__getitem__(key)\n",
      "  File \"/opt/conda/lib/python3.10/site-packages/zict/buffer.py\", line 108, in __getitem__\n",
      "    raise KeyError(key)\n",
      "KeyError: 'apply_list_of_funcs-3526acca-2b13-455e-8b51-cecfbc031fb9'\n",
      "\n",
      "During handling of the above exception, another exception occurred:\n",
      "\n",
      "Traceback (most recent call last):\n",
      "  File \"/opt/conda/lib/python3.10/site-packages/distributed/worker.py\", line 2271, in execute\n",
      "    args2, kwargs2 = self._prepare_args_for_execution(ts, args, kwargs)\n",
      "  File \"/opt/conda/lib/python3.10/site-packages/distributed/worker.py\", line 2394, in _prepare_args_for_execution\n",
      "    data[k] = Actor(type(self.state.actors[k]), self.address, k, self)\n",
      "KeyError: 'apply_list_of_funcs-3526acca-2b13-455e-8b51-cecfbc031fb9'\n"
     ]
    },
    {
     "name": "stderr",
     "output_type": "stream",
     "text": [
      "2023-03-25 10:48:24,176 - distributed.worker - ERROR - Exception during execution of task lambda-cc1f825585bf529834cee80e019a5801.\n",
      "Traceback (most recent call last):\n",
      "  File \"/opt/conda/lib/python3.10/site-packages/distributed/worker.py\", line 2390, in _prepare_args_for_execution\n",
      "    data[k] = self.data[k]\n",
      "  File \"/opt/conda/lib/python3.10/site-packages/distributed/spill.py\", line 245, in __getitem__\n",
      "    return super().__getitem__(key)\n",
      "  File \"/opt/conda/lib/python3.10/site-packages/zict/buffer.py\", line 108, in __getitem__\n",
      "    raise KeyError(key)\n",
      "KeyError: 'apply_list_of_funcs-236fcad0-1433-44a5-88db-062fb2be077a'\n",
      "\n",
      "During handling of the above exception, another exception occurred:\n",
      "\n",
      "Traceback (most recent call last):\n",
      "  File \"/opt/conda/lib/python3.10/site-packages/distributed/worker.py\", line 2271, in execute\n",
      "    args2, kwargs2 = self._prepare_args_for_execution(ts, args, kwargs)\n",
      "  File \"/opt/conda/lib/python3.10/site-packages/distributed/worker.py\", line 2394, in _prepare_args_for_execution\n",
      "    data[k] = Actor(type(self.state.actors[k]), self.address, k, self)\n",
      "KeyError: 'apply_list_of_funcs-236fcad0-1433-44a5-88db-062fb2be077a'\n",
      "2023-03-25 10:48:24,218 - distributed.worker - ERROR - Exception during execution of task lambda-c66e7129efdc600dd9a5d59a77bdcc66.\n",
      "Traceback (most recent call last):\n",
      "  File \"/opt/conda/lib/python3.10/site-packages/distributed/worker.py\", line 2390, in _prepare_args_for_execution\n",
      "    data[k] = self.data[k]\n",
      "  File \"/opt/conda/lib/python3.10/site-packages/distributed/spill.py\", line 245, in __getitem__\n",
      "    return super().__getitem__(key)\n",
      "  File \"/opt/conda/lib/python3.10/site-packages/zict/buffer.py\", line 108, in __getitem__\n",
      "    raise KeyError(key)\n",
      "KeyError: 'apply_list_of_funcs-0eaee146-ceb8-439c-823f-ca218b5588f4'\n",
      "\n",
      "During handling of the above exception, another exception occurred:\n",
      "\n",
      "Traceback (most recent call last):\n",
      "  File \"/opt/conda/lib/python3.10/site-packages/distributed/worker.py\", line 2271, in execute\n",
      "    args2, kwargs2 = self._prepare_args_for_execution(ts, args, kwargs)\n",
      "  File \"/opt/conda/lib/python3.10/site-packages/distributed/worker.py\", line 2394, in _prepare_args_for_execution\n",
      "    data[k] = Actor(type(self.state.actors[k]), self.address, k, self)\n",
      "KeyError: 'apply_list_of_funcs-0eaee146-ceb8-439c-823f-ca218b5588f4'\n"
     ]
    },
    {
     "name": "stderr",
     "output_type": "stream",
     "text": [
      "2023-03-25 10:48:25,522 - distributed.worker - ERROR - Exception during execution of task lambda-6cfc7339613975244cfaf4d9c4d3419e.\n",
      "Traceback (most recent call last):\n",
      "  File \"/opt/conda/lib/python3.10/site-packages/distributed/worker.py\", line 2390, in _prepare_args_for_execution\n",
      "    data[k] = self.data[k]\n",
      "  File \"/opt/conda/lib/python3.10/site-packages/distributed/spill.py\", line 245, in __getitem__\n",
      "    return super().__getitem__(key)\n",
      "  File \"/opt/conda/lib/python3.10/site-packages/zict/buffer.py\", line 108, in __getitem__\n",
      "    raise KeyError(key)\n",
      "KeyError: 'apply_list_of_funcs-e8169990-7ea9-485c-aecd-70c237a1fcf2'\n",
      "\n",
      "During handling of the above exception, another exception occurred:\n",
      "\n",
      "Traceback (most recent call last):\n",
      "  File \"/opt/conda/lib/python3.10/site-packages/distributed/worker.py\", line 2271, in execute\n",
      "    args2, kwargs2 = self._prepare_args_for_execution(ts, args, kwargs)\n",
      "  File \"/opt/conda/lib/python3.10/site-packages/distributed/worker.py\", line 2394, in _prepare_args_for_execution\n",
      "    data[k] = Actor(type(self.state.actors[k]), self.address, k, self)\n",
      "KeyError: 'apply_list_of_funcs-e8169990-7ea9-485c-aecd-70c237a1fcf2'\n"
     ]
    },
    {
     "data": {
      "image/png": "[encoded data removed]",
      "text/plain": [
       "<Figure size 1200x400 with 1 Axes>"
      ]
     },
     "metadata": {},
     "output_type": "display_data"
    }
   ],
   "source": [
    "import matplotlib.pyplot as plt\n",
    "\n",
    "for sensitivity, value in data.items():\n",
    "    print(sensitivity)\n",
    "    fig, axs = plt.subplots(ncols=1, figsize=(12, 4))\n",
    "    df_calcs = value[\"df_calc\"]\n",
    "    for host in local_ips:\n",
    "        df_calc_host = df_calcs[df_calcs[\"index\"] == host].set_index(\"ts\")\n",
    "        df_calc_host[\"rate_log\"].plot(label=f'{host}', ax=axs)\n",
    "\n",
    "    plt.ylim(ymin=0)\n",
    "    plt.title(f\"Sensitivity: {sensitivity}, threshold: {value['threshold']}\")\n",
    "    plt.legend()\n",
    "    plt.show()"
   ]
  },
  {
   "cell_type": "code",
   "execution_count": null,
   "id": "87d3782d-d91a-4552-b1c5-0c5d50d2d7c8",
   "metadata": {
    "papermill": {
     "duration": 0.022535,
     "end_time": "2023-03-25T10:48:26.543141",
     "exception": false,
     "start_time": "2023-03-25T10:48:26.520606",
     "status": "completed"
    },
    "tags": []
   },
   "outputs": [],
   "source": []
  }
 ],
 "metadata": {
  "kernelspec": {
   "display_name": "Python 3 (ipykernel)",
   "language": "python",
   "name": "python3"
  },
  "language_info": {
   "codemirror_mode": {
    "name": "ipython",
    "version": 3
   },
   "file_extension": ".py",
   "mimetype": "text/x-python",
   "name": "python",
   "nbconvert_exporter": "python",
   "pygments_lexer": "ipython3",
   "version": "3.10.9"
  },
  "papermill": {
   "default_parameters": {},
   "duration": 1154.217775,
   "end_time": "2023-03-25T10:48:29.194889",
   "environment_variables": {},
   "exception": null,
   "input_path": "./flubot-detection-one.ipynb",
   "output_path": "./flubot-detection-try-models/gen-flubot-detection-RF-normed-2-4-2-4.ipynb",
   "parameters": {
    "model": "RF",
    "normed": true,
    "skips_and_weights": [
     2,
     4,
     2,
     4
    ]
   },
   "start_time": "2023-03-25T10:29:14.977114",
   "version": "2.3.4"
  }
 },
 "nbformat": 4,
 "nbformat_minor": 5
}
