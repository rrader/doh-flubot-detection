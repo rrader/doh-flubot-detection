{
 "cells": [
  {
   "cell_type": "markdown",
   "id": "af89f7ae-3c40-422d-b543-7045ec10fe06",
   "metadata": {
    "papermill": {
     "duration": 0.005272,
     "end_time": "2023-03-25T11:26:14.765525",
     "exception": false,
     "start_time": "2023-03-25T11:26:14.760253",
     "status": "completed"
    },
    "tags": []
   },
   "source": [
    "---\n",
    "execute:\n",
    "  echo: true\n",
    "  enabled: false\n",
    "  output: true\n",
    "  warning: false\n",
    "format:\n",
    "    html:\n",
    "        code-fold: false\n",
    "---"
   ]
  },
  {
   "cell_type": "markdown",
   "id": "33ff003b-93f7-493e-8b36-de15f3ce7d7f",
   "metadata": {
    "papermill": {
     "duration": 0.00445,
     "end_time": "2023-03-25T11:26:14.775500",
     "exception": false,
     "start_time": "2023-03-25T11:26:14.771050",
     "status": "completed"
    },
    "tags": [
     "title"
    ]
   },
   "source": [
    "# Detect malware (RF unnormed-2-4-0-0)"
   ]
  },
  {
   "cell_type": "markdown",
   "id": "9d880d57-9101-42ec-a724-4ab9e5c08572",
   "metadata": {
    "papermill": {
     "duration": 0.004081,
     "end_time": "2023-03-25T11:26:14.783485",
     "exception": false,
     "start_time": "2023-03-25T11:26:14.779404",
     "status": "completed"
    },
    "tags": []
   },
   "source": [
    "The model deployment is done in two stages: I. tune the model, II. turn on the malware detection (on the data collected in B1 and B2 periods respectively, described in the timeline @fig-timeline)\n",
    "\n",
    "![Timeline](../../imgs/timeline.png)\n",
    "\n",
    "### Stage I: Model tuning\n",
    "\n",
    "On this state we fit the scaler on the data collected in B1 period, to be used later on the second stage"
   ]
  },
  {
   "cell_type": "code",
   "execution_count": 1,
   "id": "72e77a0e-823e-4dca-bb12-1f80d6d8bbda",
   "metadata": {
    "execution": {
     "iopub.execute_input": "2023-03-25T11:26:14.793229Z",
     "iopub.status.busy": "2023-03-25T11:26:14.792948Z",
     "iopub.status.idle": "2023-03-25T11:26:14.799025Z",
     "shell.execute_reply": "2023-03-25T11:26:14.798562Z"
    },
    "papermill": {
     "duration": 0.012899,
     "end_time": "2023-03-25T11:26:14.800413",
     "exception": false,
     "start_time": "2023-03-25T11:26:14.787514",
     "status": "completed"
    },
    "tags": []
   },
   "outputs": [],
   "source": [
    "#| echo: false\n",
    "#| output: false\n",
    "basepath = \"/home/u1/\""
   ]
  },
  {
   "cell_type": "code",
   "execution_count": 2,
   "id": "f59ef549-32d7-4459-b456-45157fd39f02",
   "metadata": {
    "execution": {
     "iopub.execute_input": "2023-03-25T11:26:14.810259Z",
     "iopub.status.busy": "2023-03-25T11:26:14.810023Z",
     "iopub.status.idle": "2023-03-25T11:26:15.158480Z",
     "shell.execute_reply": "2023-03-25T11:26:15.157589Z"
    },
    "papermill": {
     "duration": 0.355123,
     "end_time": "2023-03-25T11:26:15.160458",
     "exception": false,
     "start_time": "2023-03-25T11:26:14.805335",
     "status": "completed"
    },
    "tags": []
   },
   "outputs": [],
   "source": [
    "#| echo: false\n",
    "#| output: false\n",
    "import os\n",
    "os.environ[\"MODIN_ENGINE\"] = \"dask\"\n",
    "import modin.pandas as pd\n",
    "import numpy as np\n",
    "\n",
    "pd.set_option(\"display.max_columns\", None)"
   ]
  },
  {
   "cell_type": "code",
   "execution_count": 3,
   "id": "d12ce5c6-e506-47d7-87d6-94b37863fb39",
   "metadata": {
    "execution": {
     "iopub.execute_input": "2023-03-25T11:26:15.172562Z",
     "iopub.status.busy": "2023-03-25T11:26:15.172034Z",
     "iopub.status.idle": "2023-03-25T11:26:15.512267Z",
     "shell.execute_reply": "2023-03-25T11:26:15.511415Z"
    },
    "papermill": {
     "duration": 0.348836,
     "end_time": "2023-03-25T11:26:15.514983",
     "exception": false,
     "start_time": "2023-03-25T11:26:15.166147",
     "status": "completed"
    },
    "tags": []
   },
   "outputs": [],
   "source": [
    "from detect_common import *"
   ]
  },
  {
   "cell_type": "code",
   "execution_count": 4,
   "id": "f3297aa6-d756-4368-b6a9-dc43b087a523",
   "metadata": {
    "execution": {
     "iopub.execute_input": "2023-03-25T11:26:15.526837Z",
     "iopub.status.busy": "2023-03-25T11:26:15.526415Z",
     "iopub.status.idle": "2023-03-25T11:26:15.530156Z",
     "shell.execute_reply": "2023-03-25T11:26:15.529535Z"
    },
    "papermill": {
     "duration": 0.011602,
     "end_time": "2023-03-25T11:26:15.531938",
     "exception": false,
     "start_time": "2023-03-25T11:26:15.520336",
     "status": "completed"
    },
    "tags": []
   },
   "outputs": [],
   "source": [
    "#| output: false\n",
    "p1version = \"v6\"\n",
    "p2version = \"v7\"\n",
    "p3version = \"v5\""
   ]
  },
  {
   "cell_type": "code",
   "execution_count": 5,
   "id": "85f79e6a-fd00-464f-8486-60823d6a672a",
   "metadata": {
    "execution": {
     "iopub.execute_input": "2023-03-25T11:26:15.543311Z",
     "iopub.status.busy": "2023-03-25T11:26:15.543130Z",
     "iopub.status.idle": "2023-03-25T11:26:15.546338Z",
     "shell.execute_reply": "2023-03-25T11:26:15.545710Z"
    },
    "papermill": {
     "duration": 0.010604,
     "end_time": "2023-03-25T11:26:15.547775",
     "exception": false,
     "start_time": "2023-03-25T11:26:15.537171",
     "status": "completed"
    },
    "tags": [
     "parameters"
    ]
   },
   "outputs": [],
   "source": [
    "model = 'RF'\n",
    "normed = True\n",
    "skips_and_weights = [2,4,0,0]"
   ]
  },
  {
   "cell_type": "code",
   "execution_count": 6,
   "id": "e1c4102a",
   "metadata": {
    "execution": {
     "iopub.execute_input": "2023-03-25T11:26:15.557669Z",
     "iopub.status.busy": "2023-03-25T11:26:15.557197Z",
     "iopub.status.idle": "2023-03-25T11:26:15.560224Z",
     "shell.execute_reply": "2023-03-25T11:26:15.559647Z"
    },
    "papermill": {
     "duration": 0.009709,
     "end_time": "2023-03-25T11:26:15.561578",
     "exception": false,
     "start_time": "2023-03-25T11:26:15.551869",
     "status": "completed"
    },
    "tags": [
     "injected-parameters"
    ]
   },
   "outputs": [],
   "source": [
    "# Parameters\n",
    "model = \"RF\"\n",
    "normed = False\n",
    "skips_and_weights = [2, 4, 0, 0]\n"
   ]
  },
  {
   "cell_type": "code",
   "execution_count": 7,
   "id": "264f7781-2969-4b4d-9c56-cc61dc7b79e4",
   "metadata": {
    "execution": {
     "iopub.execute_input": "2023-03-25T11:26:15.572138Z",
     "iopub.status.busy": "2023-03-25T11:26:15.571425Z",
     "iopub.status.idle": "2023-03-25T11:26:20.995776Z",
     "shell.execute_reply": "2023-03-25T11:26:20.994188Z"
    },
    "papermill": {
     "duration": 5.432496,
     "end_time": "2023-03-25T11:26:20.998356",
     "exception": false,
     "start_time": "2023-03-25T11:26:15.565860",
     "status": "completed"
    },
    "tags": []
   },
   "outputs": [
    {
     "name": "stderr",
     "output_type": "stream",
     "text": [
      "UserWarning: Dask execution environment not yet initialized. Initializing...\n",
      "To remove this warning, run the following python code before doing dataframe operations:\n",
      "\n",
      "    from distributed import Client\n",
      "\n",
      "    client = Client()\n",
      "\n",
      "UserWarning: Port 8787 is already in use.\n",
      "Perhaps you already have a cluster running?\n",
      "Hosting the HTTP server on port 39389 instead\n"
     ]
    },
    {
     "name": "stderr",
     "output_type": "stream",
     "text": [
      "2023-03-25 11:26:16,806 - distributed.diskutils - INFO - Found stale lock file and directory '/tmp/dask-worker-space/worker-zpz6_dj2', purging\n",
      "2023-03-25 11:26:16,807 - distributed.diskutils - INFO - Found stale lock file and directory '/tmp/dask-worker-space/worker-1rmkqp72', purging\n",
      "2023-03-25 11:26:16,807 - distributed.diskutils - INFO - Found stale lock file and directory '/tmp/dask-worker-space/worker-x9geqe5o', purging\n",
      "2023-03-25 11:26:16,808 - distributed.diskutils - INFO - Found stale lock file and directory '/tmp/dask-worker-space/worker-t2qe673b', purging\n",
      "2023-03-25 11:26:16,808 - distributed.diskutils - INFO - Found stale lock file and directory '/tmp/dask-worker-space/worker-17nrzj0a', purging\n",
      "2023-03-25 11:26:16,809 - distributed.diskutils - INFO - Found stale lock file and directory '/tmp/dask-worker-space/worker-yor9dz5j', purging\n",
      "2023-03-25 11:26:16,809 - distributed.diskutils - INFO - Found stale lock file and directory '/tmp/dask-worker-space/worker-7q41lbc_', purging\n",
      "2023-03-25 11:26:16,809 - distributed.diskutils - INFO - Found stale lock file and directory '/tmp/dask-worker-space/worker-tsngiwq8', purging\n",
      "2023-03-25 11:26:16,810 - distributed.diskutils - INFO - Found stale lock file and directory '/tmp/dask-worker-space/worker-jwpoybbz', purging\n",
      "2023-03-25 11:26:16,810 - distributed.diskutils - INFO - Found stale lock file and directory '/tmp/dask-worker-space/worker-oz5t7n5a', purging\n"
     ]
    }
   ],
   "source": [
    "import dateutil.parser\n",
    "\n",
    "df_b1 = pd.read_feather(\"cached/v5_1.ft\")"
   ]
  },
  {
   "cell_type": "code",
   "execution_count": 8,
   "id": "e1f828b4-aa8c-4f49-b4af-890104845789",
   "metadata": {
    "execution": {
     "iopub.execute_input": "2023-03-25T11:26:21.012343Z",
     "iopub.status.busy": "2023-03-25T11:26:21.011604Z",
     "iopub.status.idle": "2023-03-25T11:26:26.294519Z",
     "shell.execute_reply": "2023-03-25T11:26:26.293679Z"
    },
    "papermill": {
     "duration": 5.292275,
     "end_time": "2023-03-25T11:26:26.297160",
     "exception": false,
     "start_time": "2023-03-25T11:26:21.004885",
     "status": "completed"
    },
    "tags": []
   },
   "outputs": [
    {
     "name": "stderr",
     "output_type": "stream",
     "text": [
      "UserWarning: `Series.tolist` is not currently supported by PandasOnDask, defaulting to pandas implementation.\n",
      "Please refer to https://modin.readthedocs.io/en/stable/supported_apis/defaulting_to_pandas.html for explanation.\n"
     ]
    },
    {
     "name": "stderr",
     "output_type": "stream",
     "text": [
      "UserWarning: `Series.tolist` is not currently supported by PandasOnDask, defaulting to pandas implementation.\n"
     ]
    },
    {
     "name": "stderr",
     "output_type": "stream",
     "text": [
      "UserWarning: Defaulting to pandas implementation.\n",
      "Reason: `lines` argument not supported\n",
      "FutureWarning: the 'numpy' keyword is deprecated and will be removed in a future version. Please take steps to stop the use of 'numpy'\n"
     ]
    }
   ],
   "source": [
    "path_doh_ips_androids = basepath + \"datasets/flubot20230323/data/v5_benign_doh_ips.csv\"\n",
    "path_doh_ips_general = \"doh_resolver_ip.csv\"\n",
    "full_list = get_doh_ips(path_doh_ips_androids) + get_doh_ips(path_doh_ips_general)\n",
    "\n",
    "cp = CacheableProcessing(100, 100, full_list)\n",
    "df_b1_p = cp.process(df_b1, f\"cached/v5_1.p3.{p3version}.cp.ft\")"
   ]
  },
  {
   "cell_type": "code",
   "execution_count": 9,
   "id": "7daa1018-6186-4b0c-8669-80fa4e04f914",
   "metadata": {
    "execution": {
     "iopub.execute_input": "2023-03-25T11:26:26.310958Z",
     "iopub.status.busy": "2023-03-25T11:26:26.310468Z",
     "iopub.status.idle": "2023-03-25T11:26:26.666699Z",
     "shell.execute_reply": "2023-03-25T11:26:26.665983Z"
    },
    "papermill": {
     "duration": 0.364915,
     "end_time": "2023-03-25T11:26:26.668829",
     "exception": false,
     "start_time": "2023-03-25T11:26:26.303914",
     "status": "completed"
    },
    "tags": []
   },
   "outputs": [],
   "source": [
    "from joblib import dump, load\n",
    "\n",
    "name = (\n",
    "    ('normed-' if normed else 'unnormed-') + \n",
    "    '-'.join(str(p) for p in skips_and_weights)\n",
    ")\n",
    "\n",
    "clf = load(f'models/{model}-mix-1-p-{name}.p1.{p1version}.p2.{p2version}.joblib')\n"
   ]
  },
  {
   "cell_type": "code",
   "execution_count": 10,
   "id": "edf3713d-545a-4940-8c88-f830a82b48e8",
   "metadata": {
    "execution": {
     "iopub.execute_input": "2023-03-25T11:26:26.682628Z",
     "iopub.status.busy": "2023-03-25T11:26:26.682033Z",
     "iopub.status.idle": "2023-03-25T11:26:33.269117Z",
     "shell.execute_reply": "2023-03-25T11:26:33.267643Z"
    },
    "papermill": {
     "duration": 6.595653,
     "end_time": "2023-03-25T11:26:33.271219",
     "exception": false,
     "start_time": "2023-03-25T11:26:26.675566",
     "status": "completed"
    },
    "tags": []
   },
   "outputs": [
    {
     "name": "stderr",
     "output_type": "stream",
     "text": [
      "UserWarning: Defaulting to pandas implementation.\n",
      "Reason: `lines` argument not supported\n",
      "FutureWarning: the 'numpy' keyword is deprecated and will be removed in a future version. Please take steps to stop the use of 'numpy'\n"
     ]
    },
    {
     "name": "stderr",
     "output_type": "stream",
     "text": [
      "UserWarning: Defaulting to pandas implementation.\n",
      "Reason: `lines` argument not supported\n",
      "FutureWarning: the 'numpy' keyword is deprecated and will be removed in a future version. Please take steps to stop the use of 'numpy'\n"
     ]
    },
    {
     "name": "stderr",
     "output_type": "stream",
     "text": [
      "UserWarning: Defaulting to pandas implementation.\n",
      "Reason: `lines` argument not supported\n",
      "FutureWarning: the 'numpy' keyword is deprecated and will be removed in a future version. Please take steps to stop the use of 'numpy'\n"
     ]
    }
   ],
   "source": [
    "pp_b1 = PreProcessing(normed, *skips_and_weights)\n",
    "\n",
    "df_b1_pp = pp_b1.process(\n",
    "    df_b1_p,\n",
    "    f\"cached/p3.{p3version}.pp.{model}-{name}.saved\", \n",
    "    fit_new_scaler=True\n",
    ")"
   ]
  },
  {
   "cell_type": "code",
   "execution_count": 11,
   "id": "6c552387-a1c3-4c87-86bc-72d4604a63ba",
   "metadata": {
    "execution": {
     "iopub.execute_input": "2023-03-25T11:26:33.286828Z",
     "iopub.status.busy": "2023-03-25T11:26:33.286481Z",
     "iopub.status.idle": "2023-03-25T11:26:33.290892Z",
     "shell.execute_reply": "2023-03-25T11:26:33.290281Z"
    },
    "papermill": {
     "duration": 0.013461,
     "end_time": "2023-03-25T11:26:33.292077",
     "exception": false,
     "start_time": "2023-03-25T11:26:33.278616",
     "status": "completed"
    },
    "tags": []
   },
   "outputs": [],
   "source": [
    "pp_b1.store_scaler(\n",
    "    f\"cached/p3.{p3version}.pp.{model}-{name}.scaler\"\n",
    ")"
   ]
  },
  {
   "cell_type": "markdown",
   "id": "10b0c26b-fefe-4bf2-8aeb-1b5d2e558a43",
   "metadata": {
    "papermill": {
     "duration": 0.004542,
     "end_time": "2023-03-25T11:26:33.301799",
     "exception": false,
     "start_time": "2023-03-25T11:26:33.297257",
     "status": "completed"
    },
    "tags": []
   },
   "source": [
    "### Stage II: Malware detection\n",
    "\n",
    "On this state we turn on the malware detection, provisioning the model with the scaler trained before. For malware detection we use the data trained in B2 period."
   ]
  },
  {
   "cell_type": "code",
   "execution_count": 12,
   "id": "c92c81ef-2f5e-4a96-97aa-1779e2e90805",
   "metadata": {
    "execution": {
     "iopub.execute_input": "2023-03-25T11:26:33.313066Z",
     "iopub.status.busy": "2023-03-25T11:26:33.312653Z",
     "iopub.status.idle": "2023-03-25T11:26:36.433668Z",
     "shell.execute_reply": "2023-03-25T11:26:36.432637Z"
    },
    "papermill": {
     "duration": 3.12958,
     "end_time": "2023-03-25T11:26:36.436110",
     "exception": false,
     "start_time": "2023-03-25T11:26:33.306530",
     "status": "completed"
    },
    "tags": []
   },
   "outputs": [],
   "source": [
    "df_b2 = pd.read_feather(\"cached/v5_2.ft\")"
   ]
  },
  {
   "cell_type": "code",
   "execution_count": 13,
   "id": "2e14959a-c427-4f07-90b9-a5aaf22cdf34",
   "metadata": {
    "execution": {
     "iopub.execute_input": "2023-03-25T11:26:36.453361Z",
     "iopub.status.busy": "2023-03-25T11:26:36.452833Z",
     "iopub.status.idle": "2023-03-25T11:26:49.187110Z",
     "shell.execute_reply": "2023-03-25T11:26:49.186081Z"
    },
    "papermill": {
     "duration": 12.747111,
     "end_time": "2023-03-25T11:26:49.189678",
     "exception": false,
     "start_time": "2023-03-25T11:26:36.442567",
     "status": "completed"
    },
    "tags": []
   },
   "outputs": [
    {
     "name": "stderr",
     "output_type": "stream",
     "text": [
      "UserWarning: Defaulting to pandas implementation.\n",
      "Reason: `lines` argument not supported\n",
      "FutureWarning: the 'numpy' keyword is deprecated and will be removed in a future version. Please take steps to stop the use of 'numpy'\n"
     ]
    }
   ],
   "source": [
    "cp = CacheableProcessing(100, 100, full_list)\n",
    "df_b2_p = cp.process(df_b2, f\"cached/v5_2.p3.{p3version}.cp.ft\")"
   ]
  },
  {
   "cell_type": "code",
   "execution_count": 14,
   "id": "56b34685-fb23-4bf1-8c80-8aa1514158f2",
   "metadata": {
    "execution": {
     "iopub.execute_input": "2023-03-25T11:26:49.209444Z",
     "iopub.status.busy": "2023-03-25T11:26:49.209217Z",
     "iopub.status.idle": "2023-03-25T11:27:08.728333Z",
     "shell.execute_reply": "2023-03-25T11:27:08.727496Z"
    },
    "papermill": {
     "duration": 19.53304,
     "end_time": "2023-03-25T11:27:08.730746",
     "exception": false,
     "start_time": "2023-03-25T11:26:49.197706",
     "status": "completed"
    },
    "tags": []
   },
   "outputs": [
    {
     "name": "stderr",
     "output_type": "stream",
     "text": [
      "UserWarning: Defaulting to pandas implementation.\n",
      "Reason: `lines` argument not supported\n",
      "FutureWarning: the 'numpy' keyword is deprecated and will be removed in a future version. Please take steps to stop the use of 'numpy'\n"
     ]
    },
    {
     "name": "stderr",
     "output_type": "stream",
     "text": [
      "UserWarning: Defaulting to pandas implementation.\n",
      "Reason: `lines` argument not supported\n",
      "FutureWarning: the 'numpy' keyword is deprecated and will be removed in a future version. Please take steps to stop the use of 'numpy'\n"
     ]
    },
    {
     "name": "stderr",
     "output_type": "stream",
     "text": [
      "UserWarning: Defaulting to pandas implementation.\n",
      "Reason: `lines` argument not supported\n",
      "FutureWarning: the 'numpy' keyword is deprecated and will be removed in a future version. Please take steps to stop the use of 'numpy'\n"
     ]
    }
   ],
   "source": [
    "pp_b2 = PreProcessing(normed, *skips_and_weights)\n",
    "pp_b2.load_scaler(\n",
    "    f\"cached/p3.{p3version}.pp.{model}-{name}.scaler\"\n",
    ")\n",
    "df_b2_pp, df_b2_pp_features, df_b2_pp_labels = pp_b2.process(\n",
    "    df_b2_p,\n",
    "    f\"cached/b2.p3.{p3version}.pp.{model}-{name}.saved\", \n",
    "    fit_new_scaler=False  # use scaler trained in B1\n",
    ")"
   ]
  },
  {
   "cell_type": "code",
   "execution_count": 15,
   "id": "3d76898c-0ba3-489f-b1d2-1a1577184037",
   "metadata": {
    "execution": {
     "iopub.execute_input": "2023-03-25T11:27:08.749304Z",
     "iopub.status.busy": "2023-03-25T11:27:08.748646Z",
     "iopub.status.idle": "2023-03-25T11:27:08.754692Z",
     "shell.execute_reply": "2023-03-25T11:27:08.753905Z"
    },
    "papermill": {
     "duration": 0.016259,
     "end_time": "2023-03-25T11:27:08.756325",
     "exception": false,
     "start_time": "2023-03-25T11:27:08.740066",
     "status": "completed"
    },
    "tags": []
   },
   "outputs": [],
   "source": [
    "def predict(pp, clf, threshold, df_pp, df_orig):\n",
    "    \"\"\"\n",
    "    pp: PreProcessing object\n",
    "    clf: classifier\n",
    "    threshold: >=threshold for positive (DoH) class\n",
    "    df_pp: preprocessed dataframe\n",
    "    df_orig: unprocessed dataframe\n",
    "    \"\"\"\n",
    "    df_pp2 = df_pp.copy()\n",
    "\n",
    "    df_pp2[\"IsDoHPredicted\"] = (clf.predict_proba(df_pp2[pp.feature_fields])[:,1] >= threshold).astype(bool)\n",
    "\n",
    "    df_orig2 = df_orig.copy()\n",
    "    # fill predicted to the original dataframe\n",
    "    df_orig2[\"IsDoHPredicted\"] = df_pp2[\"IsDoHPredicted\"]\n",
    "    # non-443 rows will be NaN, replace with False\n",
    "    df_orig2[\"IsDoHPredicted\"] = df_orig2[\"IsDoHPredicted\"].fillna(False)\n",
    "\n",
    "    return df_orig2\n"
   ]
  },
  {
   "cell_type": "code",
   "execution_count": 16,
   "id": "bbfee790-4c9e-4d47-8ee1-700c9321f377",
   "metadata": {
    "execution": {
     "iopub.execute_input": "2023-03-25T11:27:08.771077Z",
     "iopub.status.busy": "2023-03-25T11:27:08.770479Z",
     "iopub.status.idle": "2023-03-25T11:27:10.581568Z",
     "shell.execute_reply": "2023-03-25T11:27:10.580857Z"
    },
    "papermill": {
     "duration": 1.819962,
     "end_time": "2023-03-25T11:27:10.583894",
     "exception": false,
     "start_time": "2023-03-25T11:27:08.763932",
     "status": "completed"
    },
    "tags": []
   },
   "outputs": [],
   "source": [
    "results_df = pd.read_feather(f\"cached/robustness.balanced_mix-results.p3.{p3version}.ft\")\n",
    "results_df[\"skips_and_weights\"] = results_df[\"skips_and_weights\"].apply(str)\n",
    "model, normed, skips_and_weights_str, auc, fprs, tprs, thresholds = results_df[\n",
    "    (results_df[\"model\"] == model) & (results_df[\"normed\"] == normed) & (results_df[\"skips_and_weights\"] == str(np.array(skips_and_weights)))\n",
    "].iloc[0]"
   ]
  },
  {
   "cell_type": "code",
   "execution_count": 17,
   "id": "f7d50caf-4d05-470e-bac7-a80c6233a01a",
   "metadata": {
    "execution": {
     "iopub.execute_input": "2023-03-25T11:27:10.604770Z",
     "iopub.status.busy": "2023-03-25T11:27:10.603795Z",
     "iopub.status.idle": "2023-03-25T11:27:25.203750Z",
     "shell.execute_reply": "2023-03-25T11:27:25.203081Z"
    },
    "papermill": {
     "duration": 14.615116,
     "end_time": "2023-03-25T11:27:25.206245",
     "exception": false,
     "start_time": "2023-03-25T11:27:10.591129",
     "status": "completed"
    },
    "tags": []
   },
   "outputs": [],
   "source": [
    "data = {}\n",
    "for sensitivity in [0.8, 0.9]:\n",
    "    threshold = [threshold for tpr, threshold in zip(tprs, thresholds) if tpr >= sensitivity][0]\n",
    "    df_pred = predict(pp_b2, clf, threshold, df_b2_pp, df_b2)\n",
    "    data[sensitivity] = {\n",
    "        'df': df_pred,  # dataframe with predicted values,\n",
    "        'threshold': threshold,\n",
    "    }\n"
   ]
  },
  {
   "cell_type": "code",
   "execution_count": 18,
   "id": "8155dfaa-56e5-4115-bc01-4b06534d79bc",
   "metadata": {
    "execution": {
     "iopub.execute_input": "2023-03-25T11:27:25.226303Z",
     "iopub.status.busy": "2023-03-25T11:27:25.225819Z",
     "iopub.status.idle": "2023-03-25T11:27:25.241453Z",
     "shell.execute_reply": "2023-03-25T11:27:25.240827Z"
    },
    "papermill": {
     "duration": 0.028455,
     "end_time": "2023-03-25T11:27:25.242676",
     "exception": false,
     "start_time": "2023-03-25T11:27:25.214221",
     "status": "completed"
    },
    "tags": []
   },
   "outputs": [],
   "source": [
    "def calc(df_n):\n",
    "    def rate(df_h):\n",
    "        dns_packets = df_h[df_h[\"IsDoHPredicted\"] == True][\"uint32 PACKETS\"].sum()  # outgoing packets\n",
    "        non_dns_ips = set(df_h[df_h[\"IsDoHPredicted\"] == False][\"ipaddr SRC_IP\"].unique()).union(\n",
    "            set(df_h[df_h[\"IsDoHPredicted\"] == False][\"ipaddr DST_IP\"].unique()))\n",
    "        rate = float(dns_packets) / (1.0 + len(non_dns_ips))\n",
    "        return {\"dns_packets\": dns_packets, \"non_dns\": len(non_dns_ips), \"rate\": rate, \"rate_log\": np.log(rate)}\n",
    "\n",
    "    return pd.DataFrame({ ip: rate(grp) for ip, grp in df_n.groupby([\"ipaddr SRC_IP\"]) }).T.reset_index()\n"
   ]
  },
  {
   "cell_type": "markdown",
   "id": "ac4629fe-dac8-4cd6-bc0e-417e9587531e",
   "metadata": {
    "papermill": {
     "duration": 0.007351,
     "end_time": "2023-03-25T11:27:25.256535",
     "exception": false,
     "start_time": "2023-03-25T11:27:25.249184",
     "status": "completed"
    },
    "tags": []
   },
   "source": [
    "#### Calculate ratio on the whole dataset"
   ]
  },
  {
   "cell_type": "code",
   "execution_count": 19,
   "id": "2cf669e6-0227-490d-af2a-7da1e433e0c3",
   "metadata": {
    "execution": {
     "iopub.execute_input": "2023-03-25T11:27:25.283094Z",
     "iopub.status.busy": "2023-03-25T11:27:25.282652Z",
     "iopub.status.idle": "2023-03-25T11:31:30.445350Z",
     "shell.execute_reply": "2023-03-25T11:31:30.444720Z"
    },
    "papermill": {
     "duration": 245.183483,
     "end_time": "2023-03-25T11:31:30.447397",
     "exception": false,
     "start_time": "2023-03-25T11:27:25.263914",
     "status": "completed"
    },
    "tags": []
   },
   "outputs": [
    {
     "name": "stdout",
     "output_type": "stream",
     "text": [
      "0.8\n"
     ]
    },
    {
     "name": "stderr",
     "output_type": "stream",
     "text": [
      "UserWarning: Group indices computation is not currently supported by PandasOnDask, defaulting to pandas implementation.\n"
     ]
    },
    {
     "name": "stderr",
     "output_type": "stream",
     "text": [
      "2023-03-25 11:27:36,345 - distributed.worker - ERROR - Exception during execution of task lambda-4fec8cc281e514321a9f2875839d9c3f.\n",
      "Traceback (most recent call last):\n",
      "  File \"/opt/conda/lib/python3.10/site-packages/distributed/worker.py\", line 2390, in _prepare_args_for_execution\n",
      "    data[k] = self.data[k]\n",
      "  File \"/opt/conda/lib/python3.10/site-packages/distributed/spill.py\", line 245, in __getitem__\n",
      "    return super().__getitem__(key)\n",
      "  File \"/opt/conda/lib/python3.10/site-packages/zict/buffer.py\", line 108, in __getitem__\n",
      "    raise KeyError(key)\n",
      "KeyError: '_deploy_dask_func-d14ea667-6e95-4956-859c-385157fb5429'\n",
      "\n",
      "During handling of the above exception, another exception occurred:\n",
      "\n",
      "Traceback (most recent call last):\n",
      "  File \"/opt/conda/lib/python3.10/site-packages/distributed/worker.py\", line 2271, in execute\n",
      "    args2, kwargs2 = self._prepare_args_for_execution(ts, args, kwargs)\n",
      "  File \"/opt/conda/lib/python3.10/site-packages/distributed/worker.py\", line 2394, in _prepare_args_for_execution\n",
      "    data[k] = Actor(type(self.state.actors[k]), self.address, k, self)\n",
      "KeyError: '_deploy_dask_func-d14ea667-6e95-4956-859c-385157fb5429'\n"
     ]
    },
    {
     "name": "stderr",
     "output_type": "stream",
     "text": [
      "RuntimeWarning: divide by zero encountered in log\n"
     ]
    },
    {
     "name": "stderr",
     "output_type": "stream",
     "text": [
      "2023-03-25 11:28:54,517 - distributed.utils_perf - WARNING - full garbage collections took 10% CPU time recently (threshold: 10%)\n"
     ]
    },
    {
     "name": "stderr",
     "output_type": "stream",
     "text": [
      "2023-03-25 11:28:59,510 - distributed.utils_perf - WARNING - full garbage collections took 10% CPU time recently (threshold: 10%)\n"
     ]
    },
    {
     "name": "stderr",
     "output_type": "stream",
     "text": [
      "2023-03-25 11:29:02,833 - distributed.utils_perf - WARNING - full garbage collections took 10% CPU time recently (threshold: 10%)\n"
     ]
    },
    {
     "name": "stderr",
     "output_type": "stream",
     "text": [
      "2023-03-25 11:29:07,750 - distributed.utils_perf - WARNING - full garbage collections took 10% CPU time recently (threshold: 10%)\n"
     ]
    },
    {
     "name": "stderr",
     "output_type": "stream",
     "text": [
      "2023-03-25 11:29:13,527 - distributed.utils_perf - WARNING - full garbage collections took 10% CPU time recently (threshold: 10%)\n"
     ]
    },
    {
     "name": "stderr",
     "output_type": "stream",
     "text": [
      "2023-03-25 11:29:16,075 - distributed.utils_perf - WARNING - full garbage collections took 10% CPU time recently (threshold: 10%)\n"
     ]
    },
    {
     "name": "stderr",
     "output_type": "stream",
     "text": [
      "2023-03-25 11:29:20,957 - distributed.utils_perf - WARNING - full garbage collections took 10% CPU time recently (threshold: 10%)\n"
     ]
    },
    {
     "name": "stderr",
     "output_type": "stream",
     "text": [
      "2023-03-25 11:29:24,687 - distributed.utils_perf - WARNING - full garbage collections took 10% CPU time recently (threshold: 10%)\n"
     ]
    },
    {
     "name": "stderr",
     "output_type": "stream",
     "text": [
      "RuntimeWarning: divide by zero encountered in log\n",
      "UserWarning: Distributing <class 'dict'> object. This may take some time.\n"
     ]
    },
    {
     "data": {
      "text/html": [
       "<div>\n",
       "<style scoped>\n",
       "    .dataframe tbody tr th:only-of-type {\n",
       "        vertical-align: middle;\n",
       "    }\n",
       "\n",
       "    .dataframe tbody tr th {\n",
       "        vertical-align: top;\n",
       "    }\n",
       "\n",
       "    .dataframe thead th {\n",
       "        text-align: right;\n",
       "    }\n",
       "</style>\n",
       "<table border=\"1\" class=\"dataframe\">\n",
       "  <thead>\n",
       "    <tr style=\"text-align: right;\">\n",
       "      <th></th>\n",
       "      <th>index</th>\n",
       "      <th>dns_packets</th>\n",
       "      <th>non_dns</th>\n",
       "      <th>rate</th>\n",
       "      <th>rate_log</th>\n",
       "    </tr>\n",
       "  </thead>\n",
       "  <tbody>\n",
       "    <tr>\n",
       "      <th>0</th>\n",
       "      <td>192.168.1.1</td>\n",
       "      <td>0.0</td>\n",
       "      <td>2.0</td>\n",
       "      <td>0.000000</td>\n",
       "      <td>-inf</td>\n",
       "    </tr>\n",
       "    <tr>\n",
       "      <th>1</th>\n",
       "      <td>192.168.2.149</td>\n",
       "      <td>93503.0</td>\n",
       "      <td>4930.0</td>\n",
       "      <td>18.962279</td>\n",
       "      <td>2.942452</td>\n",
       "    </tr>\n",
       "    <tr>\n",
       "      <th>2</th>\n",
       "      <td>192.168.2.217</td>\n",
       "      <td>141.0</td>\n",
       "      <td>21.0</td>\n",
       "      <td>6.409091</td>\n",
       "      <td>1.857717</td>\n",
       "    </tr>\n",
       "    <tr>\n",
       "      <th>3</th>\n",
       "      <td>192.168.2.249</td>\n",
       "      <td>21203.0</td>\n",
       "      <td>3872.0</td>\n",
       "      <td>5.474568</td>\n",
       "      <td>1.700113</td>\n",
       "    </tr>\n",
       "    <tr>\n",
       "      <th>4</th>\n",
       "      <td>192.168.2.42</td>\n",
       "      <td>0.0</td>\n",
       "      <td>5.0</td>\n",
       "      <td>0.000000</td>\n",
       "      <td>-inf</td>\n",
       "    </tr>\n",
       "  </tbody>\n",
       "</table>\n",
       "</div>"
      ],
      "text/plain": [
       "           index  dns_packets  non_dns       rate  rate_log\n",
       "0    192.168.1.1          0.0      2.0   0.000000      -inf\n",
       "1  192.168.2.149      93503.0   4930.0  18.962279  2.942452\n",
       "2  192.168.2.217        141.0     21.0   6.409091  1.857717\n",
       "3  192.168.2.249      21203.0   3872.0   5.474568  1.700113\n",
       "4   192.168.2.42          0.0      5.0   0.000000      -inf"
      ]
     },
     "metadata": {},
     "output_type": "display_data"
    },
    {
     "name": "stdout",
     "output_type": "stream",
     "text": [
      "0.9\n"
     ]
    },
    {
     "name": "stderr",
     "output_type": "stream",
     "text": [
      "2023-03-25 11:29:29,595 - distributed.utils_perf - WARNING - full garbage collections took 10% CPU time recently (threshold: 10%)\n"
     ]
    },
    {
     "name": "stderr",
     "output_type": "stream",
     "text": [
      "2023-03-25 11:29:34,237 - distributed.utils_perf - WARNING - full garbage collections took 10% CPU time recently (threshold: 10%)\n"
     ]
    },
    {
     "name": "stderr",
     "output_type": "stream",
     "text": [
      "2023-03-25 11:29:36,459 - distributed.utils_perf - WARNING - full garbage collections took 10% CPU time recently (threshold: 10%)\n"
     ]
    },
    {
     "name": "stderr",
     "output_type": "stream",
     "text": [
      "UserWarning: Group indices computation is not currently supported by PandasOnDask, defaulting to pandas implementation.\n"
     ]
    },
    {
     "name": "stderr",
     "output_type": "stream",
     "text": [
      "RuntimeWarning: divide by zero encountered in log\n"
     ]
    },
    {
     "name": "stderr",
     "output_type": "stream",
     "text": [
      "2023-03-25 11:29:40,572 - distributed.utils_perf - WARNING - full garbage collections took 10% CPU time recently (threshold: 10%)\n"
     ]
    },
    {
     "name": "stderr",
     "output_type": "stream",
     "text": [
      "2023-03-25 11:29:46,356 - distributed.utils_perf - WARNING - full garbage collections took 10% CPU time recently (threshold: 10%)\n"
     ]
    },
    {
     "name": "stderr",
     "output_type": "stream",
     "text": [
      "2023-03-25 11:29:48,676 - distributed.utils_perf - WARNING - full garbage collections took 10% CPU time recently (threshold: 10%)\n"
     ]
    },
    {
     "name": "stderr",
     "output_type": "stream",
     "text": [
      "2023-03-25 11:31:25,148 - distributed.worker - ERROR - Exception during execution of task lambda-ec2bd29ad32bba3293b9a2b395b12f9f.\n",
      "Traceback (most recent call last):\n",
      "  File \"/opt/conda/lib/python3.10/site-packages/distributed/worker.py\", line 2390, in _prepare_args_for_execution\n",
      "    data[k] = self.data[k]\n",
      "  File \"/opt/conda/lib/python3.10/site-packages/distributed/spill.py\", line 245, in __getitem__\n",
      "    return super().__getitem__(key)\n",
      "  File \"/opt/conda/lib/python3.10/site-packages/zict/buffer.py\", line 108, in __getitem__\n",
      "    raise KeyError(key)\n",
      "KeyError: '_deploy_dask_func-b0a82c8f-3bb0-49ce-ba14-42e4a4437eb0'\n",
      "\n",
      "During handling of the above exception, another exception occurred:\n",
      "\n",
      "Traceback (most recent call last):\n",
      "  File \"/opt/conda/lib/python3.10/site-packages/distributed/worker.py\", line 2271, in execute\n",
      "    args2, kwargs2 = self._prepare_args_for_execution(ts, args, kwargs)\n",
      "  File \"/opt/conda/lib/python3.10/site-packages/distributed/worker.py\", line 2394, in _prepare_args_for_execution\n",
      "    data[k] = Actor(type(self.state.actors[k]), self.address, k, self)\n",
      "KeyError: '_deploy_dask_func-b0a82c8f-3bb0-49ce-ba14-42e4a4437eb0'\n"
     ]
    },
    {
     "name": "stderr",
     "output_type": "stream",
     "text": [
      "2023-03-25 11:31:30,048 - distributed.worker - ERROR - Exception during execution of task lambda-7aabcee5ff0cab0122f45b5b75ba9330.\n",
      "Traceback (most recent call last):\n",
      "  File \"/opt/conda/lib/python3.10/site-packages/distributed/worker.py\", line 2390, in _prepare_args_for_execution\n",
      "    data[k] = self.data[k]\n",
      "  File \"/opt/conda/lib/python3.10/site-packages/distributed/spill.py\", line 245, in __getitem__\n",
      "    return super().__getitem__(key)\n",
      "  File \"/opt/conda/lib/python3.10/site-packages/zict/buffer.py\", line 108, in __getitem__\n",
      "    raise KeyError(key)\n",
      "KeyError: 'apply_func-d624667a-936c-4021-a483-08b0025b2a88'\n",
      "\n",
      "During handling of the above exception, another exception occurred:\n",
      "\n",
      "Traceback (most recent call last):\n",
      "  File \"/opt/conda/lib/python3.10/site-packages/distributed/worker.py\", line 2271, in execute\n",
      "    args2, kwargs2 = self._prepare_args_for_execution(ts, args, kwargs)\n",
      "  File \"/opt/conda/lib/python3.10/site-packages/distributed/worker.py\", line 2394, in _prepare_args_for_execution\n",
      "    data[k] = Actor(type(self.state.actors[k]), self.address, k, self)\n",
      "KeyError: 'apply_func-d624667a-936c-4021-a483-08b0025b2a88'\n",
      "RuntimeWarning: divide by zero encountered in log\n",
      "UserWarning: Distributing <class 'dict'> object. This may take some time.\n"
     ]
    },
    {
     "data": {
      "text/html": [
       "<div>\n",
       "<style scoped>\n",
       "    .dataframe tbody tr th:only-of-type {\n",
       "        vertical-align: middle;\n",
       "    }\n",
       "\n",
       "    .dataframe tbody tr th {\n",
       "        vertical-align: top;\n",
       "    }\n",
       "\n",
       "    .dataframe thead th {\n",
       "        text-align: right;\n",
       "    }\n",
       "</style>\n",
       "<table border=\"1\" class=\"dataframe\">\n",
       "  <thead>\n",
       "    <tr style=\"text-align: right;\">\n",
       "      <th></th>\n",
       "      <th>index</th>\n",
       "      <th>dns_packets</th>\n",
       "      <th>non_dns</th>\n",
       "      <th>rate</th>\n",
       "      <th>rate_log</th>\n",
       "    </tr>\n",
       "  </thead>\n",
       "  <tbody>\n",
       "    <tr>\n",
       "      <th>0</th>\n",
       "      <td>192.168.1.1</td>\n",
       "      <td>0.0</td>\n",
       "      <td>2.0</td>\n",
       "      <td>0.000000</td>\n",
       "      <td>-inf</td>\n",
       "    </tr>\n",
       "    <tr>\n",
       "      <th>1</th>\n",
       "      <td>192.168.2.149</td>\n",
       "      <td>136344.0</td>\n",
       "      <td>4861.0</td>\n",
       "      <td>28.042781</td>\n",
       "      <td>3.333731</td>\n",
       "    </tr>\n",
       "    <tr>\n",
       "      <th>2</th>\n",
       "      <td>192.168.2.217</td>\n",
       "      <td>4590.0</td>\n",
       "      <td>19.0</td>\n",
       "      <td>229.500000</td>\n",
       "      <td>5.435903</td>\n",
       "    </tr>\n",
       "    <tr>\n",
       "      <th>3</th>\n",
       "      <td>192.168.2.249</td>\n",
       "      <td>55013.0</td>\n",
       "      <td>3833.0</td>\n",
       "      <td>14.348722</td>\n",
       "      <td>2.663661</td>\n",
       "    </tr>\n",
       "    <tr>\n",
       "      <th>4</th>\n",
       "      <td>192.168.2.42</td>\n",
       "      <td>0.0</td>\n",
       "      <td>5.0</td>\n",
       "      <td>0.000000</td>\n",
       "      <td>-inf</td>\n",
       "    </tr>\n",
       "  </tbody>\n",
       "</table>\n",
       "</div>"
      ],
      "text/plain": [
       "           index  dns_packets  non_dns        rate  rate_log\n",
       "0    192.168.1.1          0.0      2.0    0.000000      -inf\n",
       "1  192.168.2.149     136344.0   4861.0   28.042781  3.333731\n",
       "2  192.168.2.217       4590.0     19.0  229.500000  5.435903\n",
       "3  192.168.2.249      55013.0   3833.0   14.348722  2.663661\n",
       "4   192.168.2.42          0.0      5.0    0.000000      -inf"
      ]
     },
     "metadata": {},
     "output_type": "display_data"
    }
   ],
   "source": [
    "for sensitivity, value in data.items():\n",
    "    print(sensitivity)\n",
    "    df_pred = value[\"df\"]\n",
    "    local_df = df_pred[df_pred[\"ipaddr SRC_IP\"].str.startswith(\"192.168\")]\n",
    "    display(calc(local_df))\n"
   ]
  },
  {
   "cell_type": "markdown",
   "id": "6ab3069e-4858-474f-aead-0b8d7746efa3",
   "metadata": {
    "papermill": {
     "duration": 0.007039,
     "end_time": "2023-03-25T11:31:30.464361",
     "exception": false,
     "start_time": "2023-03-25T11:31:30.457322",
     "status": "completed"
    },
    "tags": []
   },
   "source": [
    "#### Split into time windows"
   ]
  },
  {
   "cell_type": "code",
   "execution_count": 20,
   "id": "b1d036bc-bcc9-4c84-97c4-fc3c12ed8360",
   "metadata": {
    "execution": {
     "iopub.execute_input": "2023-03-25T11:31:30.480827Z",
     "iopub.status.busy": "2023-03-25T11:31:30.480233Z",
     "iopub.status.idle": "2023-03-25T11:31:32.151862Z",
     "shell.execute_reply": "2023-03-25T11:31:32.151211Z"
    },
    "papermill": {
     "duration": 1.682904,
     "end_time": "2023-03-25T11:31:32.154084",
     "exception": false,
     "start_time": "2023-03-25T11:31:30.471180",
     "status": "completed"
    },
    "tags": []
   },
   "outputs": [
    {
     "data": {
      "text/plain": [
       "Timestamp('2023-03-23 14:50:04.316951')"
      ]
     },
     "execution_count": 20,
     "metadata": {},
     "output_type": "execute_result"
    }
   ],
   "source": [
    "min_ts = df_b2[\"time TIME_FIRST\"].apply(dateutil.parser.parse).min()\n",
    "min_ts"
   ]
  },
  {
   "cell_type": "code",
   "execution_count": 21,
   "id": "3d3f7f3e-7542-45ea-aee7-1912876e7382",
   "metadata": {
    "execution": {
     "iopub.execute_input": "2023-03-25T11:31:32.171852Z",
     "iopub.status.busy": "2023-03-25T11:31:32.171351Z",
     "iopub.status.idle": "2023-03-25T11:31:43.819369Z",
     "shell.execute_reply": "2023-03-25T11:31:43.818772Z"
    },
    "papermill": {
     "duration": 11.659429,
     "end_time": "2023-03-25T11:31:43.822032",
     "exception": false,
     "start_time": "2023-03-25T11:31:32.162603",
     "status": "completed"
    },
    "tags": []
   },
   "outputs": [
    {
     "data": {
      "text/plain": [
       "['192.168.2.249',\n",
       " '192.168.2.149',\n",
       " '192.168.2.42',\n",
       " '192.168.2.217',\n",
       " '192.168.1.1']"
      ]
     },
     "execution_count": 21,
     "metadata": {},
     "output_type": "execute_result"
    }
   ],
   "source": [
    "local_ips = df_b2[df_b2[\"ipaddr SRC_IP\"].str.startswith(\"192.168\")][\"ipaddr SRC_IP\"].unique().tolist()\n",
    "local_ips"
   ]
  },
  {
   "cell_type": "code",
   "execution_count": 22,
   "id": "c41e1871-24f4-43a5-9b55-189e2ead01f5",
   "metadata": {
    "execution": {
     "iopub.execute_input": "2023-03-25T11:31:43.851218Z",
     "iopub.status.busy": "2023-03-25T11:31:43.850837Z",
     "iopub.status.idle": "2023-03-25T11:44:56.025833Z",
     "shell.execute_reply": "2023-03-25T11:44:56.024798Z"
    },
    "papermill": {
     "duration": 792.19584,
     "end_time": "2023-03-25T11:44:56.027962",
     "exception": false,
     "start_time": "2023-03-25T11:31:43.832122",
     "status": "completed"
    },
    "tags": []
   },
   "outputs": [
    {
     "name": "stdout",
     "output_type": "stream",
     "text": [
      "0.8\n"
     ]
    },
    {
     "name": "stderr",
     "output_type": "stream",
     "text": [
      "UserWarning: `DataFrame.groupby_on_multiple_columns` is not currently supported by PandasOnDask, defaulting to pandas implementation.\n"
     ]
    },
    {
     "name": "stderr",
     "output_type": "stream",
     "text": [
      "FutureWarning: The `squeeze` parameter is deprecated and will be removed in a future version.\n"
     ]
    },
    {
     "name": "stderr",
     "output_type": "stream",
     "text": [
      "UserWarning: Distributing <class 'pandas.core.frame.DataFrame'> object. This may take some time.\n",
      "UserWarning: Group indices computation is not currently supported by PandasOnDask, defaulting to pandas implementation.\n"
     ]
    },
    {
     "name": "stderr",
     "output_type": "stream",
     "text": [
      "RuntimeWarning: divide by zero encountered in log\n",
      "UserWarning: Distributing <class 'dict'> object. This may take some time.\n",
      "UserWarning: Group indices computation is not currently supported by PandasOnDask, defaulting to pandas implementation.\n"
     ]
    },
    {
     "name": "stderr",
     "output_type": "stream",
     "text": [
      "UserWarning: Distributing <class 'dict'> object. This may take some time.\n",
      "UserWarning: Group indices computation is not currently supported by PandasOnDask, defaulting to pandas implementation.\n"
     ]
    },
    {
     "name": "stderr",
     "output_type": "stream",
     "text": [
      "2023-03-25 11:32:19,900 - distributed.worker - ERROR - Exception during execution of task lambda-4724267b2168bd0e013b5c9d5fe204be.\n",
      "Traceback (most recent call last):\n",
      "  File \"/opt/conda/lib/python3.10/site-packages/distributed/worker.py\", line 2390, in _prepare_args_for_execution\n",
      "    data[k] = self.data[k]\n",
      "  File \"/opt/conda/lib/python3.10/site-packages/distributed/spill.py\", line 245, in __getitem__\n",
      "    return super().__getitem__(key)\n",
      "  File \"/opt/conda/lib/python3.10/site-packages/zict/buffer.py\", line 108, in __getitem__\n",
      "    raise KeyError(key)\n",
      "KeyError: '_deploy_dask_func-56ead7d6-e34b-4211-ab2d-0e6b13086507'\n",
      "\n",
      "During handling of the above exception, another exception occurred:\n",
      "\n",
      "Traceback (most recent call last):\n",
      "  File \"/opt/conda/lib/python3.10/site-packages/distributed/worker.py\", line 2271, in execute\n",
      "    args2, kwargs2 = self._prepare_args_for_execution(ts, args, kwargs)\n",
      "  File \"/opt/conda/lib/python3.10/site-packages/distributed/worker.py\", line 2394, in _prepare_args_for_execution\n",
      "    data[k] = Actor(type(self.state.actors[k]), self.address, k, self)\n",
      "KeyError: '_deploy_dask_func-56ead7d6-e34b-4211-ab2d-0e6b13086507'\n"
     ]
    },
    {
     "name": "stderr",
     "output_type": "stream",
     "text": [
      "UserWarning: Distributing <class 'dict'> object. This may take some time.\n",
      "UserWarning: Group indices computation is not currently supported by PandasOnDask, defaulting to pandas implementation.\n"
     ]
    },
    {
     "name": "stderr",
     "output_type": "stream",
     "text": [
      "RuntimeWarning: divide by zero encountered in log\n"
     ]
    },
    {
     "name": "stderr",
     "output_type": "stream",
     "text": [
      "2023-03-25 11:32:28,950 - distributed.worker - ERROR - Exception during execution of task lambda-c4331fb27830ac413483dfe5ad455ad2.\n",
      "Traceback (most recent call last):\n",
      "  File \"/opt/conda/lib/python3.10/site-packages/distributed/worker.py\", line 2390, in _prepare_args_for_execution\n",
      "    data[k] = self.data[k]\n",
      "  File \"/opt/conda/lib/python3.10/site-packages/distributed/spill.py\", line 245, in __getitem__\n",
      "    return super().__getitem__(key)\n",
      "  File \"/opt/conda/lib/python3.10/site-packages/zict/buffer.py\", line 108, in __getitem__\n",
      "    raise KeyError(key)\n",
      "KeyError: '_deploy_dask_func-cb414bc1-2862-4041-b9cb-d4ff1a21c6a4'\n",
      "\n",
      "During handling of the above exception, another exception occurred:\n",
      "\n",
      "Traceback (most recent call last):\n",
      "  File \"/opt/conda/lib/python3.10/site-packages/distributed/worker.py\", line 2271, in execute\n",
      "    args2, kwargs2 = self._prepare_args_for_execution(ts, args, kwargs)\n",
      "  File \"/opt/conda/lib/python3.10/site-packages/distributed/worker.py\", line 2394, in _prepare_args_for_execution\n",
      "    data[k] = Actor(type(self.state.actors[k]), self.address, k, self)\n",
      "KeyError: '_deploy_dask_func-cb414bc1-2862-4041-b9cb-d4ff1a21c6a4'\n"
     ]
    },
    {
     "name": "stderr",
     "output_type": "stream",
     "text": [
      "UserWarning: Distributing <class 'dict'> object. This may take some time.\n",
      "UserWarning: Group indices computation is not currently supported by PandasOnDask, defaulting to pandas implementation.\n"
     ]
    },
    {
     "name": "stderr",
     "output_type": "stream",
     "text": [
      "UserWarning: Distributing <class 'dict'> object. This may take some time.\n",
      "UserWarning: Group indices computation is not currently supported by PandasOnDask, defaulting to pandas implementation.\n"
     ]
    },
    {
     "name": "stderr",
     "output_type": "stream",
     "text": [
      "2023-03-25 11:32:36,412 - distributed.worker - ERROR - Exception during execution of task lambda-af43d0eec52373132498f1ad956cdb9a.\n",
      "Traceback (most recent call last):\n",
      "  File \"/opt/conda/lib/python3.10/site-packages/distributed/worker.py\", line 2390, in _prepare_args_for_execution\n",
      "    data[k] = self.data[k]\n",
      "  File \"/opt/conda/lib/python3.10/site-packages/distributed/spill.py\", line 245, in __getitem__\n",
      "    return super().__getitem__(key)\n",
      "  File \"/opt/conda/lib/python3.10/site-packages/zict/buffer.py\", line 108, in __getitem__\n",
      "    raise KeyError(key)\n",
      "KeyError: '_deploy_dask_func-97a4406e-8f45-4ded-af55-188b08e1d47e'\n",
      "\n",
      "During handling of the above exception, another exception occurred:\n",
      "\n",
      "Traceback (most recent call last):\n",
      "  File \"/opt/conda/lib/python3.10/site-packages/distributed/worker.py\", line 2271, in execute\n",
      "    args2, kwargs2 = self._prepare_args_for_execution(ts, args, kwargs)\n",
      "  File \"/opt/conda/lib/python3.10/site-packages/distributed/worker.py\", line 2394, in _prepare_args_for_execution\n",
      "    data[k] = Actor(type(self.state.actors[k]), self.address, k, self)\n",
      "KeyError: '_deploy_dask_func-97a4406e-8f45-4ded-af55-188b08e1d47e'\n"
     ]
    },
    {
     "name": "stderr",
     "output_type": "stream",
     "text": [
      "UserWarning: Distributing <class 'dict'> object. This may take some time.\n",
      "UserWarning: Group indices computation is not currently supported by PandasOnDask, defaulting to pandas implementation.\n"
     ]
    },
    {
     "name": "stderr",
     "output_type": "stream",
     "text": [
      "RuntimeWarning: divide by zero encountered in log\n"
     ]
    },
    {
     "name": "stderr",
     "output_type": "stream",
     "text": [
      "2023-03-25 11:32:46,487 - distributed.worker - ERROR - Exception during execution of task lambda-0ee55ebe28a843c2c025cec650f19a9e.\n",
      "Traceback (most recent call last):\n",
      "  File \"/opt/conda/lib/python3.10/site-packages/distributed/worker.py\", line 2390, in _prepare_args_for_execution\n",
      "    data[k] = self.data[k]\n",
      "  File \"/opt/conda/lib/python3.10/site-packages/distributed/spill.py\", line 245, in __getitem__\n",
      "    return super().__getitem__(key)\n",
      "  File \"/opt/conda/lib/python3.10/site-packages/zict/buffer.py\", line 108, in __getitem__\n",
      "    raise KeyError(key)\n",
      "KeyError: '_deploy_dask_func-f160f208-ca9c-49ec-9dd0-2ce10209cc8c'\n",
      "\n",
      "During handling of the above exception, another exception occurred:\n",
      "\n",
      "Traceback (most recent call last):\n",
      "  File \"/opt/conda/lib/python3.10/site-packages/distributed/worker.py\", line 2271, in execute\n",
      "    args2, kwargs2 = self._prepare_args_for_execution(ts, args, kwargs)\n",
      "  File \"/opt/conda/lib/python3.10/site-packages/distributed/worker.py\", line 2394, in _prepare_args_for_execution\n",
      "    data[k] = Actor(type(self.state.actors[k]), self.address, k, self)\n",
      "KeyError: '_deploy_dask_func-f160f208-ca9c-49ec-9dd0-2ce10209cc8c'\n"
     ]
    },
    {
     "name": "stderr",
     "output_type": "stream",
     "text": [
      "UserWarning: Distributing <class 'dict'> object. This may take some time.\n",
      "UserWarning: Group indices computation is not currently supported by PandasOnDask, defaulting to pandas implementation.\n"
     ]
    },
    {
     "name": "stderr",
     "output_type": "stream",
     "text": [
      "2023-03-25 11:32:49,451 - distributed.worker - ERROR - Exception during execution of task lambda-97b98d62d9d03511d7a0bd38b3ff4860.\n",
      "Traceback (most recent call last):\n",
      "  File \"/opt/conda/lib/python3.10/site-packages/distributed/worker.py\", line 2390, in _prepare_args_for_execution\n",
      "    data[k] = self.data[k]\n",
      "  File \"/opt/conda/lib/python3.10/site-packages/distributed/spill.py\", line 245, in __getitem__\n",
      "    return super().__getitem__(key)\n",
      "  File \"/opt/conda/lib/python3.10/site-packages/zict/buffer.py\", line 108, in __getitem__\n",
      "    raise KeyError(key)\n",
      "KeyError: '_deploy_dask_func-5112de66-ee5a-4bac-aea7-e4aac8578d5d'\n",
      "\n",
      "During handling of the above exception, another exception occurred:\n",
      "\n",
      "Traceback (most recent call last):\n",
      "  File \"/opt/conda/lib/python3.10/site-packages/distributed/worker.py\", line 2271, in execute\n",
      "    args2, kwargs2 = self._prepare_args_for_execution(ts, args, kwargs)\n",
      "  File \"/opt/conda/lib/python3.10/site-packages/distributed/worker.py\", line 2394, in _prepare_args_for_execution\n",
      "    data[k] = Actor(type(self.state.actors[k]), self.address, k, self)\n",
      "KeyError: '_deploy_dask_func-5112de66-ee5a-4bac-aea7-e4aac8578d5d'\n"
     ]
    },
    {
     "name": "stderr",
     "output_type": "stream",
     "text": [
      "2023-03-25 11:32:51,234 - distributed.worker - ERROR - Exception during execution of task lambda-53f951c94c43bb17b901236d4ba5dd48.\n",
      "Traceback (most recent call last):\n",
      "  File \"/opt/conda/lib/python3.10/site-packages/distributed/worker.py\", line 2390, in _prepare_args_for_execution\n",
      "    data[k] = self.data[k]\n",
      "  File \"/opt/conda/lib/python3.10/site-packages/distributed/spill.py\", line 245, in __getitem__\n",
      "    return super().__getitem__(key)\n",
      "  File \"/opt/conda/lib/python3.10/site-packages/zict/buffer.py\", line 108, in __getitem__\n",
      "    raise KeyError(key)\n",
      "KeyError: '_deploy_dask_func-9cd83a5c-10af-4790-80de-da593ef08aff'\n",
      "\n",
      "During handling of the above exception, another exception occurred:\n",
      "\n",
      "Traceback (most recent call last):\n",
      "  File \"/opt/conda/lib/python3.10/site-packages/distributed/worker.py\", line 2271, in execute\n",
      "    args2, kwargs2 = self._prepare_args_for_execution(ts, args, kwargs)\n",
      "  File \"/opt/conda/lib/python3.10/site-packages/distributed/worker.py\", line 2394, in _prepare_args_for_execution\n",
      "    data[k] = Actor(type(self.state.actors[k]), self.address, k, self)\n",
      "KeyError: '_deploy_dask_func-9cd83a5c-10af-4790-80de-da593ef08aff'\n"
     ]
    },
    {
     "name": "stderr",
     "output_type": "stream",
     "text": [
      "UserWarning: Distributing <class 'dict'> object. This may take some time.\n",
      "UserWarning: Group indices computation is not currently supported by PandasOnDask, defaulting to pandas implementation.\n"
     ]
    },
    {
     "name": "stderr",
     "output_type": "stream",
     "text": [
      "RuntimeWarning: divide by zero encountered in log\n"
     ]
    },
    {
     "name": "stderr",
     "output_type": "stream",
     "text": [
      "2023-03-25 11:32:55,586 - distributed.worker - ERROR - Exception during execution of task lambda-5e42331bf0ed9c91fe8564b272e42a5c.\n",
      "Traceback (most recent call last):\n",
      "  File \"/opt/conda/lib/python3.10/site-packages/distributed/worker.py\", line 2390, in _prepare_args_for_execution\n",
      "    data[k] = self.data[k]\n",
      "  File \"/opt/conda/lib/python3.10/site-packages/distributed/spill.py\", line 245, in __getitem__\n",
      "    return super().__getitem__(key)\n",
      "  File \"/opt/conda/lib/python3.10/site-packages/zict/buffer.py\", line 108, in __getitem__\n",
      "    raise KeyError(key)\n",
      "KeyError: '_deploy_dask_func-f33205ea-3c5b-48db-9ace-fcb88041bfb2'\n",
      "\n",
      "During handling of the above exception, another exception occurred:\n",
      "\n",
      "Traceback (most recent call last):\n",
      "  File \"/opt/conda/lib/python3.10/site-packages/distributed/worker.py\", line 2271, in execute\n",
      "    args2, kwargs2 = self._prepare_args_for_execution(ts, args, kwargs)\n",
      "  File \"/opt/conda/lib/python3.10/site-packages/distributed/worker.py\", line 2394, in _prepare_args_for_execution\n",
      "    data[k] = Actor(type(self.state.actors[k]), self.address, k, self)\n",
      "KeyError: '_deploy_dask_func-f33205ea-3c5b-48db-9ace-fcb88041bfb2'\n"
     ]
    },
    {
     "name": "stderr",
     "output_type": "stream",
     "text": [
      "RuntimeWarning: divide by zero encountered in log\n",
      "UserWarning: Distributing <class 'dict'> object. This may take some time.\n",
      "UserWarning: Group indices computation is not currently supported by PandasOnDask, defaulting to pandas implementation.\n"
     ]
    },
    {
     "name": "stderr",
     "output_type": "stream",
     "text": [
      "2023-03-25 11:33:02,857 - distributed.worker - ERROR - Exception during execution of task lambda-08f869a18604d517339bb3fe1bac265c.\n",
      "Traceback (most recent call last):\n",
      "  File \"/opt/conda/lib/python3.10/site-packages/distributed/worker.py\", line 2390, in _prepare_args_for_execution\n",
      "    data[k] = self.data[k]\n",
      "  File \"/opt/conda/lib/python3.10/site-packages/distributed/spill.py\", line 245, in __getitem__\n",
      "    return super().__getitem__(key)\n",
      "  File \"/opt/conda/lib/python3.10/site-packages/zict/buffer.py\", line 108, in __getitem__\n",
      "    raise KeyError(key)\n",
      "KeyError: '_deploy_dask_func-5fb42052-8a7f-41c5-a6dc-db3dc13b6cf6'\n",
      "\n",
      "During handling of the above exception, another exception occurred:\n",
      "\n",
      "Traceback (most recent call last):\n",
      "  File \"/opt/conda/lib/python3.10/site-packages/distributed/worker.py\", line 2271, in execute\n",
      "    args2, kwargs2 = self._prepare_args_for_execution(ts, args, kwargs)\n",
      "  File \"/opt/conda/lib/python3.10/site-packages/distributed/worker.py\", line 2394, in _prepare_args_for_execution\n",
      "    data[k] = Actor(type(self.state.actors[k]), self.address, k, self)\n",
      "KeyError: '_deploy_dask_func-5fb42052-8a7f-41c5-a6dc-db3dc13b6cf6'\n"
     ]
    },
    {
     "name": "stderr",
     "output_type": "stream",
     "text": [
      "UserWarning: Distributing <class 'dict'> object. This may take some time.\n",
      "UserWarning: Group indices computation is not currently supported by PandasOnDask, defaulting to pandas implementation.\n"
     ]
    },
    {
     "name": "stderr",
     "output_type": "stream",
     "text": [
      "RuntimeWarning: divide by zero encountered in log\n"
     ]
    },
    {
     "name": "stderr",
     "output_type": "stream",
     "text": [
      "2023-03-25 11:33:11,931 - distributed.worker - ERROR - Exception during execution of task lambda-27ec7a97b93ea7491101c3618eb8052a.\n",
      "Traceback (most recent call last):\n",
      "  File \"/opt/conda/lib/python3.10/site-packages/distributed/worker.py\", line 2390, in _prepare_args_for_execution\n",
      "    data[k] = self.data[k]\n",
      "  File \"/opt/conda/lib/python3.10/site-packages/distributed/spill.py\", line 245, in __getitem__\n",
      "    return super().__getitem__(key)\n",
      "  File \"/opt/conda/lib/python3.10/site-packages/zict/buffer.py\", line 108, in __getitem__\n",
      "    raise KeyError(key)\n",
      "KeyError: '_deploy_dask_func-b03dd138-4218-458a-ab52-9c6b34c2e58b'\n",
      "\n",
      "During handling of the above exception, another exception occurred:\n",
      "\n",
      "Traceback (most recent call last):\n",
      "  File \"/opt/conda/lib/python3.10/site-packages/distributed/worker.py\", line 2271, in execute\n",
      "    args2, kwargs2 = self._prepare_args_for_execution(ts, args, kwargs)\n",
      "  File \"/opt/conda/lib/python3.10/site-packages/distributed/worker.py\", line 2394, in _prepare_args_for_execution\n",
      "    data[k] = Actor(type(self.state.actors[k]), self.address, k, self)\n",
      "KeyError: '_deploy_dask_func-b03dd138-4218-458a-ab52-9c6b34c2e58b'\n"
     ]
    },
    {
     "name": "stderr",
     "output_type": "stream",
     "text": [
      "2023-03-25 11:33:13,639 - distributed.worker - ERROR - Exception during execution of task lambda-83760a7f305b1ad5d042840d952f3dfa.\n",
      "Traceback (most recent call last):\n",
      "  File \"/opt/conda/lib/python3.10/site-packages/distributed/worker.py\", line 2390, in _prepare_args_for_execution\n",
      "    data[k] = self.data[k]\n",
      "  File \"/opt/conda/lib/python3.10/site-packages/distributed/spill.py\", line 245, in __getitem__\n",
      "    return super().__getitem__(key)\n",
      "  File \"/opt/conda/lib/python3.10/site-packages/zict/buffer.py\", line 108, in __getitem__\n",
      "    raise KeyError(key)\n",
      "KeyError: '_deploy_dask_func-aedd8c65-8fb3-4930-926a-6dd75ffa8dff'\n",
      "\n",
      "During handling of the above exception, another exception occurred:\n",
      "\n",
      "Traceback (most recent call last):\n",
      "  File \"/opt/conda/lib/python3.10/site-packages/distributed/worker.py\", line 2271, in execute\n",
      "    args2, kwargs2 = self._prepare_args_for_execution(ts, args, kwargs)\n",
      "  File \"/opt/conda/lib/python3.10/site-packages/distributed/worker.py\", line 2394, in _prepare_args_for_execution\n",
      "    data[k] = Actor(type(self.state.actors[k]), self.address, k, self)\n",
      "KeyError: '_deploy_dask_func-aedd8c65-8fb3-4930-926a-6dd75ffa8dff'\n"
     ]
    },
    {
     "name": "stderr",
     "output_type": "stream",
     "text": [
      "RuntimeWarning: divide by zero encountered in log\n",
      "UserWarning: Distributing <class 'dict'> object. This may take some time.\n",
      "UserWarning: Group indices computation is not currently supported by PandasOnDask, defaulting to pandas implementation.\n"
     ]
    },
    {
     "name": "stderr",
     "output_type": "stream",
     "text": [
      "2023-03-25 11:33:18,801 - distributed.worker - ERROR - Exception during execution of task lambda-8967a5a24bf533e7d19cc5ff3202f354.\n",
      "Traceback (most recent call last):\n",
      "  File \"/opt/conda/lib/python3.10/site-packages/distributed/worker.py\", line 2390, in _prepare_args_for_execution\n",
      "    data[k] = self.data[k]\n",
      "  File \"/opt/conda/lib/python3.10/site-packages/distributed/spill.py\", line 245, in __getitem__\n",
      "    return super().__getitem__(key)\n",
      "  File \"/opt/conda/lib/python3.10/site-packages/zict/buffer.py\", line 108, in __getitem__\n",
      "    raise KeyError(key)\n",
      "KeyError: '_deploy_dask_func-563ac335-2fec-48bb-ad8c-760b0d05f99b'\n",
      "\n",
      "During handling of the above exception, another exception occurred:\n",
      "\n",
      "Traceback (most recent call last):\n",
      "  File \"/opt/conda/lib/python3.10/site-packages/distributed/worker.py\", line 2271, in execute\n",
      "    args2, kwargs2 = self._prepare_args_for_execution(ts, args, kwargs)\n",
      "  File \"/opt/conda/lib/python3.10/site-packages/distributed/worker.py\", line 2394, in _prepare_args_for_execution\n",
      "    data[k] = Actor(type(self.state.actors[k]), self.address, k, self)\n",
      "KeyError: '_deploy_dask_func-563ac335-2fec-48bb-ad8c-760b0d05f99b'\n"
     ]
    },
    {
     "name": "stderr",
     "output_type": "stream",
     "text": [
      "UserWarning: Distributing <class 'dict'> object. This may take some time.\n",
      "UserWarning: Group indices computation is not currently supported by PandasOnDask, defaulting to pandas implementation.\n"
     ]
    },
    {
     "name": "stderr",
     "output_type": "stream",
     "text": [
      "UserWarning: Distributing <class 'dict'> object. This may take some time.\n",
      "UserWarning: Group indices computation is not currently supported by PandasOnDask, defaulting to pandas implementation.\n"
     ]
    },
    {
     "name": "stderr",
     "output_type": "stream",
     "text": [
      "RuntimeWarning: divide by zero encountered in log\n"
     ]
    },
    {
     "name": "stderr",
     "output_type": "stream",
     "text": [
      "2023-03-25 11:33:30,545 - distributed.worker - ERROR - Exception during execution of task lambda-44881c6c8fa2098fca62ec2cc296de6b.\n",
      "Traceback (most recent call last):\n",
      "  File \"/opt/conda/lib/python3.10/site-packages/distributed/worker.py\", line 2390, in _prepare_args_for_execution\n",
      "    data[k] = self.data[k]\n",
      "  File \"/opt/conda/lib/python3.10/site-packages/distributed/spill.py\", line 245, in __getitem__\n",
      "    return super().__getitem__(key)\n",
      "  File \"/opt/conda/lib/python3.10/site-packages/zict/buffer.py\", line 108, in __getitem__\n",
      "    raise KeyError(key)\n",
      "KeyError: '_deploy_dask_func-016e12ce-3a34-4f08-9524-c79a1a8a4bc9'\n",
      "\n",
      "During handling of the above exception, another exception occurred:\n",
      "\n",
      "Traceback (most recent call last):\n",
      "  File \"/opt/conda/lib/python3.10/site-packages/distributed/worker.py\", line 2271, in execute\n",
      "    args2, kwargs2 = self._prepare_args_for_execution(ts, args, kwargs)\n",
      "  File \"/opt/conda/lib/python3.10/site-packages/distributed/worker.py\", line 2394, in _prepare_args_for_execution\n",
      "    data[k] = Actor(type(self.state.actors[k]), self.address, k, self)\n",
      "KeyError: '_deploy_dask_func-016e12ce-3a34-4f08-9524-c79a1a8a4bc9'\n"
     ]
    },
    {
     "name": "stderr",
     "output_type": "stream",
     "text": [
      "UserWarning: Distributing <class 'dict'> object. This may take some time.\n",
      "UserWarning: Group indices computation is not currently supported by PandasOnDask, defaulting to pandas implementation.\n"
     ]
    },
    {
     "name": "stderr",
     "output_type": "stream",
     "text": [
      "UserWarning: Distributing <class 'dict'> object. This may take some time.\n",
      "UserWarning: Group indices computation is not currently supported by PandasOnDask, defaulting to pandas implementation.\n"
     ]
    },
    {
     "name": "stderr",
     "output_type": "stream",
     "text": [
      "2023-03-25 11:33:39,984 - distributed.worker - ERROR - Exception during execution of task lambda-b9e9baa9a735304829edcb603cd0240b.\n",
      "Traceback (most recent call last):\n",
      "  File \"/opt/conda/lib/python3.10/site-packages/distributed/worker.py\", line 2390, in _prepare_args_for_execution\n",
      "    data[k] = self.data[k]\n",
      "  File \"/opt/conda/lib/python3.10/site-packages/distributed/spill.py\", line 245, in __getitem__\n",
      "    return super().__getitem__(key)\n",
      "  File \"/opt/conda/lib/python3.10/site-packages/zict/buffer.py\", line 108, in __getitem__\n",
      "    raise KeyError(key)\n",
      "KeyError: '_deploy_dask_func-b490e230-2690-494e-8470-2f8b8668f2e8'\n",
      "\n",
      "During handling of the above exception, another exception occurred:\n",
      "\n",
      "Traceback (most recent call last):\n",
      "  File \"/opt/conda/lib/python3.10/site-packages/distributed/worker.py\", line 2271, in execute\n",
      "    args2, kwargs2 = self._prepare_args_for_execution(ts, args, kwargs)\n",
      "  File \"/opt/conda/lib/python3.10/site-packages/distributed/worker.py\", line 2394, in _prepare_args_for_execution\n",
      "    data[k] = Actor(type(self.state.actors[k]), self.address, k, self)\n",
      "KeyError: '_deploy_dask_func-b490e230-2690-494e-8470-2f8b8668f2e8'\n"
     ]
    },
    {
     "name": "stderr",
     "output_type": "stream",
     "text": [
      "UserWarning: Distributing <class 'dict'> object. This may take some time.\n",
      "UserWarning: Group indices computation is not currently supported by PandasOnDask, defaulting to pandas implementation.\n"
     ]
    },
    {
     "name": "stderr",
     "output_type": "stream",
     "text": [
      "2023-03-25 11:33:43,202 - distributed.worker - ERROR - Exception during execution of task lambda-21ed363df82268f4085a429db9d6dd05.\n",
      "Traceback (most recent call last):\n",
      "  File \"/opt/conda/lib/python3.10/site-packages/distributed/worker.py\", line 2390, in _prepare_args_for_execution\n",
      "    data[k] = self.data[k]\n",
      "  File \"/opt/conda/lib/python3.10/site-packages/distributed/spill.py\", line 245, in __getitem__\n",
      "    return super().__getitem__(key)\n",
      "  File \"/opt/conda/lib/python3.10/site-packages/zict/buffer.py\", line 108, in __getitem__\n",
      "    raise KeyError(key)\n",
      "KeyError: '_deploy_dask_func-177946ef-fd47-4e78-bd68-e30b5222f611'\n",
      "\n",
      "During handling of the above exception, another exception occurred:\n",
      "\n",
      "Traceback (most recent call last):\n",
      "  File \"/opt/conda/lib/python3.10/site-packages/distributed/worker.py\", line 2271, in execute\n",
      "    args2, kwargs2 = self._prepare_args_for_execution(ts, args, kwargs)\n",
      "  File \"/opt/conda/lib/python3.10/site-packages/distributed/worker.py\", line 2394, in _prepare_args_for_execution\n",
      "    data[k] = Actor(type(self.state.actors[k]), self.address, k, self)\n",
      "KeyError: '_deploy_dask_func-177946ef-fd47-4e78-bd68-e30b5222f611'\n"
     ]
    },
    {
     "name": "stderr",
     "output_type": "stream",
     "text": [
      "2023-03-25 11:33:45,700 - distributed.worker - ERROR - Exception during execution of task lambda-2e896b8934de036f0f2ab8d84716e2f9.\n",
      "Traceback (most recent call last):\n",
      "  File \"/opt/conda/lib/python3.10/site-packages/distributed/worker.py\", line 2390, in _prepare_args_for_execution\n",
      "    data[k] = self.data[k]\n",
      "  File \"/opt/conda/lib/python3.10/site-packages/distributed/spill.py\", line 245, in __getitem__\n",
      "    return super().__getitem__(key)\n",
      "  File \"/opt/conda/lib/python3.10/site-packages/zict/buffer.py\", line 108, in __getitem__\n",
      "    raise KeyError(key)\n",
      "KeyError: '_deploy_dask_func-cc611a5f-c95f-4bf5-83b9-dcfcb134f6ce'\n",
      "\n",
      "During handling of the above exception, another exception occurred:\n",
      "\n",
      "Traceback (most recent call last):\n",
      "  File \"/opt/conda/lib/python3.10/site-packages/distributed/worker.py\", line 2271, in execute\n",
      "    args2, kwargs2 = self._prepare_args_for_execution(ts, args, kwargs)\n",
      "  File \"/opt/conda/lib/python3.10/site-packages/distributed/worker.py\", line 2394, in _prepare_args_for_execution\n",
      "    data[k] = Actor(type(self.state.actors[k]), self.address, k, self)\n",
      "KeyError: '_deploy_dask_func-cc611a5f-c95f-4bf5-83b9-dcfcb134f6ce'\n"
     ]
    },
    {
     "name": "stderr",
     "output_type": "stream",
     "text": [
      "RuntimeWarning: divide by zero encountered in log\n",
      "UserWarning: Distributing <class 'dict'> object. This may take some time.\n",
      "UserWarning: Group indices computation is not currently supported by PandasOnDask, defaulting to pandas implementation.\n"
     ]
    },
    {
     "name": "stderr",
     "output_type": "stream",
     "text": [
      "UserWarning: Distributing <class 'dict'> object. This may take some time.\n",
      "UserWarning: Group indices computation is not currently supported by PandasOnDask, defaulting to pandas implementation.\n"
     ]
    },
    {
     "name": "stderr",
     "output_type": "stream",
     "text": [
      "UserWarning: Distributing <class 'dict'> object. This may take some time.\n",
      "UserWarning: Group indices computation is not currently supported by PandasOnDask, defaulting to pandas implementation.\n"
     ]
    },
    {
     "name": "stderr",
     "output_type": "stream",
     "text": [
      "2023-03-25 11:34:01,583 - distributed.worker - ERROR - Exception during execution of task lambda-a2a9a977900e3435a8c84b898d64dfa3.\n",
      "Traceback (most recent call last):\n",
      "  File \"/opt/conda/lib/python3.10/site-packages/distributed/worker.py\", line 2390, in _prepare_args_for_execution\n",
      "    data[k] = self.data[k]\n",
      "  File \"/opt/conda/lib/python3.10/site-packages/distributed/spill.py\", line 245, in __getitem__\n",
      "    return super().__getitem__(key)\n",
      "  File \"/opt/conda/lib/python3.10/site-packages/zict/buffer.py\", line 108, in __getitem__\n",
      "    raise KeyError(key)\n",
      "KeyError: '_deploy_dask_func-d002c892-e80a-4849-911a-5d63946e453a'\n",
      "\n",
      "During handling of the above exception, another exception occurred:\n",
      "\n",
      "Traceback (most recent call last):\n",
      "  File \"/opt/conda/lib/python3.10/site-packages/distributed/worker.py\", line 2271, in execute\n",
      "    args2, kwargs2 = self._prepare_args_for_execution(ts, args, kwargs)\n",
      "  File \"/opt/conda/lib/python3.10/site-packages/distributed/worker.py\", line 2394, in _prepare_args_for_execution\n",
      "    data[k] = Actor(type(self.state.actors[k]), self.address, k, self)\n",
      "KeyError: '_deploy_dask_func-d002c892-e80a-4849-911a-5d63946e453a'\n"
     ]
    },
    {
     "name": "stderr",
     "output_type": "stream",
     "text": [
      "2023-03-25 11:34:03,343 - distributed.worker - ERROR - Exception during execution of task lambda-3cba55cf0c7d2b4e1b24cf0a939d9a58.\n",
      "Traceback (most recent call last):\n",
      "  File \"/opt/conda/lib/python3.10/site-packages/distributed/worker.py\", line 2390, in _prepare_args_for_execution\n",
      "    data[k] = self.data[k]\n",
      "  File \"/opt/conda/lib/python3.10/site-packages/distributed/spill.py\", line 245, in __getitem__\n",
      "    return super().__getitem__(key)\n",
      "  File \"/opt/conda/lib/python3.10/site-packages/zict/buffer.py\", line 108, in __getitem__\n",
      "    raise KeyError(key)\n",
      "KeyError: '_deploy_dask_func-f232e259-15f5-49a5-b412-686e6634f181'\n",
      "\n",
      "During handling of the above exception, another exception occurred:\n",
      "\n",
      "Traceback (most recent call last):\n",
      "  File \"/opt/conda/lib/python3.10/site-packages/distributed/worker.py\", line 2271, in execute\n",
      "    args2, kwargs2 = self._prepare_args_for_execution(ts, args, kwargs)\n",
      "  File \"/opt/conda/lib/python3.10/site-packages/distributed/worker.py\", line 2394, in _prepare_args_for_execution\n",
      "    data[k] = Actor(type(self.state.actors[k]), self.address, k, self)\n",
      "KeyError: '_deploy_dask_func-f232e259-15f5-49a5-b412-686e6634f181'\n"
     ]
    },
    {
     "name": "stderr",
     "output_type": "stream",
     "text": [
      "RuntimeWarning: divide by zero encountered in log\n"
     ]
    },
    {
     "name": "stderr",
     "output_type": "stream",
     "text": [
      "UserWarning: Distributing <class 'dict'> object. This may take some time.\n",
      "UserWarning: Group indices computation is not currently supported by PandasOnDask, defaulting to pandas implementation.\n"
     ]
    },
    {
     "name": "stderr",
     "output_type": "stream",
     "text": [
      "2023-03-25 11:34:13,439 - distributed.worker - ERROR - Exception during execution of task lambda-bb6bb0081230944c0c6c8d02ac35cd6d.\n",
      "Traceback (most recent call last):\n",
      "  File \"/opt/conda/lib/python3.10/site-packages/distributed/worker.py\", line 2390, in _prepare_args_for_execution\n",
      "    data[k] = self.data[k]\n",
      "  File \"/opt/conda/lib/python3.10/site-packages/distributed/spill.py\", line 245, in __getitem__\n",
      "    return super().__getitem__(key)\n",
      "  File \"/opt/conda/lib/python3.10/site-packages/zict/buffer.py\", line 108, in __getitem__\n",
      "    raise KeyError(key)\n",
      "KeyError: '_deploy_dask_func-cf24fb2a-a6b8-47f4-9ed0-dff449a33f87'\n",
      "\n",
      "During handling of the above exception, another exception occurred:\n",
      "\n",
      "Traceback (most recent call last):\n",
      "  File \"/opt/conda/lib/python3.10/site-packages/distributed/worker.py\", line 2271, in execute\n",
      "    args2, kwargs2 = self._prepare_args_for_execution(ts, args, kwargs)\n",
      "  File \"/opt/conda/lib/python3.10/site-packages/distributed/worker.py\", line 2394, in _prepare_args_for_execution\n",
      "    data[k] = Actor(type(self.state.actors[k]), self.address, k, self)\n",
      "KeyError: '_deploy_dask_func-cf24fb2a-a6b8-47f4-9ed0-dff449a33f87'\n"
     ]
    },
    {
     "name": "stderr",
     "output_type": "stream",
     "text": [
      "2023-03-25 11:34:20,340 - distributed.worker - ERROR - Exception during execution of task lambda-a84970b6da9d2e1d5da073af2e576b44.\n",
      "Traceback (most recent call last):\n",
      "  File \"/opt/conda/lib/python3.10/site-packages/distributed/worker.py\", line 2390, in _prepare_args_for_execution\n",
      "    data[k] = self.data[k]\n",
      "  File \"/opt/conda/lib/python3.10/site-packages/distributed/spill.py\", line 245, in __getitem__\n",
      "    return super().__getitem__(key)\n",
      "  File \"/opt/conda/lib/python3.10/site-packages/zict/buffer.py\", line 108, in __getitem__\n",
      "    raise KeyError(key)\n",
      "KeyError: '_deploy_dask_func-b4683987-80df-41e8-8d1d-1cc118e388d9'\n",
      "\n",
      "During handling of the above exception, another exception occurred:\n",
      "\n",
      "Traceback (most recent call last):\n",
      "  File \"/opt/conda/lib/python3.10/site-packages/distributed/worker.py\", line 2271, in execute\n",
      "    args2, kwargs2 = self._prepare_args_for_execution(ts, args, kwargs)\n",
      "  File \"/opt/conda/lib/python3.10/site-packages/distributed/worker.py\", line 2394, in _prepare_args_for_execution\n",
      "    data[k] = Actor(type(self.state.actors[k]), self.address, k, self)\n",
      "KeyError: '_deploy_dask_func-b4683987-80df-41e8-8d1d-1cc118e388d9'\n"
     ]
    },
    {
     "name": "stderr",
     "output_type": "stream",
     "text": [
      "RuntimeWarning: divide by zero encountered in log\n",
      "UserWarning: Distributing <class 'dict'> object. This may take some time.\n",
      "UserWarning: Group indices computation is not currently supported by PandasOnDask, defaulting to pandas implementation.\n"
     ]
    },
    {
     "name": "stderr",
     "output_type": "stream",
     "text": [
      "2023-03-25 11:34:26,849 - distributed.worker - ERROR - Exception during execution of task lambda-3f4926a3b5b8ff59ce80846877f974f0.\n",
      "Traceback (most recent call last):\n",
      "  File \"/opt/conda/lib/python3.10/site-packages/distributed/worker.py\", line 2390, in _prepare_args_for_execution\n",
      "    data[k] = self.data[k]\n",
      "  File \"/opt/conda/lib/python3.10/site-packages/distributed/spill.py\", line 245, in __getitem__\n",
      "    return super().__getitem__(key)\n",
      "  File \"/opt/conda/lib/python3.10/site-packages/zict/buffer.py\", line 108, in __getitem__\n",
      "    raise KeyError(key)\n",
      "KeyError: '_deploy_dask_func-dd65932c-32f2-4f2f-ba8a-3ad51279a968'\n",
      "\n",
      "During handling of the above exception, another exception occurred:\n",
      "\n",
      "Traceback (most recent call last):\n",
      "  File \"/opt/conda/lib/python3.10/site-packages/distributed/worker.py\", line 2271, in execute\n",
      "    args2, kwargs2 = self._prepare_args_for_execution(ts, args, kwargs)\n",
      "  File \"/opt/conda/lib/python3.10/site-packages/distributed/worker.py\", line 2394, in _prepare_args_for_execution\n",
      "    data[k] = Actor(type(self.state.actors[k]), self.address, k, self)\n",
      "KeyError: '_deploy_dask_func-dd65932c-32f2-4f2f-ba8a-3ad51279a968'\n"
     ]
    },
    {
     "name": "stderr",
     "output_type": "stream",
     "text": [
      "2023-03-25 11:34:28,155 - distributed.worker - WARNING - Could not find data: {'function-8d1539c1beaf4ba483c87a7f4b97cfa5': ['tcp://127.0.0.1:35619', 'tcp://127.0.0.1:37653', 'tcp://127.0.0.1:40585', 'tcp://127.0.0.1:46237', 'tcp://127.0.0.1:46741', 'tcp://127.0.0.1:45815', 'tcp://127.0.0.1:40195', 'tcp://127.0.0.1:39425', 'tcp://127.0.0.1:42607']} on workers: [] (who_has: {'function-8d1539c1beaf4ba483c87a7f4b97cfa5': ['tcp://127.0.0.1:35619', 'tcp://127.0.0.1:37653', 'tcp://127.0.0.1:40585', 'tcp://127.0.0.1:46237', 'tcp://127.0.0.1:46741', 'tcp://127.0.0.1:45815', 'tcp://127.0.0.1:40195', 'tcp://127.0.0.1:39425', 'tcp://127.0.0.1:42607']})\n",
      "2023-03-25 11:34:28,156 - distributed.scheduler - WARNING - Worker tcp://127.0.0.1:33915 failed to acquire keys: {'function-8d1539c1beaf4ba483c87a7f4b97cfa5': ('tcp://127.0.0.1:35619', 'tcp://127.0.0.1:37653', 'tcp://127.0.0.1:40585', 'tcp://127.0.0.1:46237', 'tcp://127.0.0.1:46741', 'tcp://127.0.0.1:45815', 'tcp://127.0.0.1:40195', 'tcp://127.0.0.1:39425', 'tcp://127.0.0.1:42607')}\n"
     ]
    },
    {
     "name": "stderr",
     "output_type": "stream",
     "text": [
      "2023-03-25 11:34:34,331 - distributed.worker - ERROR - Exception during execution of task lambda-b1c0a14536ab81fc638de890ccab780d.\n",
      "Traceback (most recent call last):\n",
      "  File \"/opt/conda/lib/python3.10/site-packages/distributed/worker.py\", line 2390, in _prepare_args_for_execution\n",
      "    data[k] = self.data[k]\n",
      "  File \"/opt/conda/lib/python3.10/site-packages/distributed/spill.py\", line 245, in __getitem__\n",
      "    return super().__getitem__(key)\n",
      "  File \"/opt/conda/lib/python3.10/site-packages/zict/buffer.py\", line 108, in __getitem__\n",
      "    raise KeyError(key)\n",
      "KeyError: '_deploy_dask_func-02b9a169-75a7-4e5e-9c3a-31e7d2b0d783'\n",
      "\n",
      "During handling of the above exception, another exception occurred:\n",
      "\n",
      "Traceback (most recent call last):\n",
      "  File \"/opt/conda/lib/python3.10/site-packages/distributed/worker.py\", line 2271, in execute\n",
      "    args2, kwargs2 = self._prepare_args_for_execution(ts, args, kwargs)\n",
      "  File \"/opt/conda/lib/python3.10/site-packages/distributed/worker.py\", line 2394, in _prepare_args_for_execution\n",
      "    data[k] = Actor(type(self.state.actors[k]), self.address, k, self)\n",
      "KeyError: '_deploy_dask_func-02b9a169-75a7-4e5e-9c3a-31e7d2b0d783'\n"
     ]
    },
    {
     "name": "stderr",
     "output_type": "stream",
     "text": [
      "2023-03-25 11:34:36,224 - distributed.utils_perf - WARNING - full garbage collections took 10% CPU time recently (threshold: 10%)\n"
     ]
    },
    {
     "name": "stderr",
     "output_type": "stream",
     "text": [
      "RuntimeWarning: divide by zero encountered in log\n",
      "UserWarning: Distributing <class 'dict'> object. This may take some time.\n",
      "UserWarning: Group indices computation is not currently supported by PandasOnDask, defaulting to pandas implementation.\n"
     ]
    },
    {
     "name": "stderr",
     "output_type": "stream",
     "text": [
      "2023-03-25 11:34:42,280 - distributed.utils_perf - WARNING - full garbage collections took 10% CPU time recently (threshold: 10%)\n"
     ]
    },
    {
     "name": "stderr",
     "output_type": "stream",
     "text": [
      "2023-03-25 11:34:48,626 - distributed.utils_perf - WARNING - full garbage collections took 11% CPU time recently (threshold: 10%)\n"
     ]
    },
    {
     "name": "stderr",
     "output_type": "stream",
     "text": [
      "UserWarning: Distributing <class 'dict'> object. This may take some time.\n",
      "UserWarning: Group indices computation is not currently supported by PandasOnDask, defaulting to pandas implementation.\n"
     ]
    },
    {
     "name": "stderr",
     "output_type": "stream",
     "text": [
      "2023-03-25 11:34:50,605 - distributed.worker - ERROR - Exception during execution of task lambda-47f07c93570c2cf5419c5d30026e40f3.\n",
      "Traceback (most recent call last):\n",
      "  File \"/opt/conda/lib/python3.10/site-packages/distributed/worker.py\", line 2390, in _prepare_args_for_execution\n",
      "    data[k] = self.data[k]\n",
      "  File \"/opt/conda/lib/python3.10/site-packages/distributed/spill.py\", line 245, in __getitem__\n",
      "    return super().__getitem__(key)\n",
      "  File \"/opt/conda/lib/python3.10/site-packages/zict/buffer.py\", line 108, in __getitem__\n",
      "    raise KeyError(key)\n",
      "KeyError: '_deploy_dask_func-932295a3-2887-4082-a30b-d74f900f2596'\n",
      "\n",
      "During handling of the above exception, another exception occurred:\n",
      "\n",
      "Traceback (most recent call last):\n",
      "  File \"/opt/conda/lib/python3.10/site-packages/distributed/worker.py\", line 2271, in execute\n",
      "    args2, kwargs2 = self._prepare_args_for_execution(ts, args, kwargs)\n",
      "  File \"/opt/conda/lib/python3.10/site-packages/distributed/worker.py\", line 2394, in _prepare_args_for_execution\n",
      "    data[k] = Actor(type(self.state.actors[k]), self.address, k, self)\n",
      "KeyError: '_deploy_dask_func-932295a3-2887-4082-a30b-d74f900f2596'\n"
     ]
    },
    {
     "name": "stderr",
     "output_type": "stream",
     "text": [
      "2023-03-25 11:34:54,964 - distributed.utils_perf - WARNING - full garbage collections took 12% CPU time recently (threshold: 10%)\n"
     ]
    },
    {
     "name": "stderr",
     "output_type": "stream",
     "text": [
      "2023-03-25 11:35:01,585 - distributed.utils_perf - WARNING - full garbage collections took 12% CPU time recently (threshold: 10%)\n"
     ]
    },
    {
     "name": "stderr",
     "output_type": "stream",
     "text": [
      "RuntimeWarning: divide by zero encountered in log\n",
      "UserWarning: Distributing <class 'dict'> object. This may take some time.\n"
     ]
    },
    {
     "name": "stderr",
     "output_type": "stream",
     "text": [
      "UserWarning: Group indices computation is not currently supported by PandasOnDask, defaulting to pandas implementation.\n"
     ]
    },
    {
     "name": "stderr",
     "output_type": "stream",
     "text": [
      "2023-03-25 11:35:07,199 - distributed.worker - ERROR - Exception during execution of task lambda-d344450d094e3bf7d5f3eb8d9d4355b9.\n",
      "Traceback (most recent call last):\n",
      "  File \"/opt/conda/lib/python3.10/site-packages/distributed/worker.py\", line 2390, in _prepare_args_for_execution\n",
      "    data[k] = self.data[k]\n",
      "  File \"/opt/conda/lib/python3.10/site-packages/distributed/spill.py\", line 245, in __getitem__\n",
      "    return super().__getitem__(key)\n",
      "  File \"/opt/conda/lib/python3.10/site-packages/zict/buffer.py\", line 108, in __getitem__\n",
      "    raise KeyError(key)\n",
      "KeyError: '_deploy_dask_func-0001c305-006f-4eaf-9890-4e0b008da6b7'\n",
      "\n",
      "During handling of the above exception, another exception occurred:\n",
      "\n",
      "Traceback (most recent call last):\n",
      "  File \"/opt/conda/lib/python3.10/site-packages/distributed/worker.py\", line 2271, in execute\n",
      "    args2, kwargs2 = self._prepare_args_for_execution(ts, args, kwargs)\n",
      "  File \"/opt/conda/lib/python3.10/site-packages/distributed/worker.py\", line 2394, in _prepare_args_for_execution\n",
      "    data[k] = Actor(type(self.state.actors[k]), self.address, k, self)\n",
      "KeyError: '_deploy_dask_func-0001c305-006f-4eaf-9890-4e0b008da6b7'\n"
     ]
    },
    {
     "name": "stderr",
     "output_type": "stream",
     "text": [
      "2023-03-25 11:35:08,189 - distributed.utils_perf - WARNING - full garbage collections took 12% CPU time recently (threshold: 10%)\n"
     ]
    },
    {
     "name": "stderr",
     "output_type": "stream",
     "text": [
      "RuntimeWarning: divide by zero encountered in log\n"
     ]
    },
    {
     "name": "stderr",
     "output_type": "stream",
     "text": [
      "UserWarning: Distributing <class 'dict'> object. This may take some time.\n",
      "UserWarning: Group indices computation is not currently supported by PandasOnDask, defaulting to pandas implementation.\n"
     ]
    },
    {
     "name": "stderr",
     "output_type": "stream",
     "text": [
      "2023-03-25 11:35:14,399 - distributed.utils_perf - WARNING - full garbage collections took 12% CPU time recently (threshold: 10%)\n"
     ]
    },
    {
     "name": "stderr",
     "output_type": "stream",
     "text": [
      "2023-03-25 11:35:20,893 - distributed.utils_perf - WARNING - full garbage collections took 12% CPU time recently (threshold: 10%)\n"
     ]
    },
    {
     "name": "stderr",
     "output_type": "stream",
     "text": [
      "2023-03-25 11:35:22,202 - distributed.worker - ERROR - Exception during execution of task lambda-c0b005488cc48c72a06111b7780d695e.\n",
      "Traceback (most recent call last):\n",
      "  File \"/opt/conda/lib/python3.10/site-packages/distributed/worker.py\", line 2390, in _prepare_args_for_execution\n",
      "    data[k] = self.data[k]\n",
      "  File \"/opt/conda/lib/python3.10/site-packages/distributed/spill.py\", line 245, in __getitem__\n",
      "    return super().__getitem__(key)\n",
      "  File \"/opt/conda/lib/python3.10/site-packages/zict/buffer.py\", line 108, in __getitem__\n",
      "    raise KeyError(key)\n",
      "KeyError: '_deploy_dask_func-a53ace66-e74e-47db-a1b3-116f6cd15866'\n",
      "\n",
      "During handling of the above exception, another exception occurred:\n",
      "\n",
      "Traceback (most recent call last):\n",
      "  File \"/opt/conda/lib/python3.10/site-packages/distributed/worker.py\", line 2271, in execute\n",
      "    args2, kwargs2 = self._prepare_args_for_execution(ts, args, kwargs)\n",
      "  File \"/opt/conda/lib/python3.10/site-packages/distributed/worker.py\", line 2394, in _prepare_args_for_execution\n",
      "    data[k] = Actor(type(self.state.actors[k]), self.address, k, self)\n",
      "KeyError: '_deploy_dask_func-a53ace66-e74e-47db-a1b3-116f6cd15866'\n"
     ]
    },
    {
     "name": "stderr",
     "output_type": "stream",
     "text": [
      "UserWarning: Distributing <class 'dict'> object. This may take some time.\n",
      "UserWarning: Group indices computation is not currently supported by PandasOnDask, defaulting to pandas implementation.\n"
     ]
    },
    {
     "name": "stderr",
     "output_type": "stream",
     "text": [
      "2023-03-25 11:35:27,106 - distributed.utils_perf - WARNING - full garbage collections took 12% CPU time recently (threshold: 10%)\n"
     ]
    },
    {
     "name": "stderr",
     "output_type": "stream",
     "text": [
      "RuntimeWarning: divide by zero encountered in log\n"
     ]
    },
    {
     "name": "stderr",
     "output_type": "stream",
     "text": [
      "2023-03-25 11:35:33,662 - distributed.utils_perf - WARNING - full garbage collections took 12% CPU time recently (threshold: 10%)\n"
     ]
    },
    {
     "name": "stderr",
     "output_type": "stream",
     "text": [
      "UserWarning: Distributing <class 'dict'> object. This may take some time.\n",
      "UserWarning: Group indices computation is not currently supported by PandasOnDask, defaulting to pandas implementation.\n"
     ]
    },
    {
     "name": "stderr",
     "output_type": "stream",
     "text": [
      "2023-03-25 11:35:37,192 - distributed.worker - ERROR - Exception during execution of task lambda-d54921e0ab87665f360e83709214088f.\n",
      "Traceback (most recent call last):\n",
      "  File \"/opt/conda/lib/python3.10/site-packages/distributed/worker.py\", line 2390, in _prepare_args_for_execution\n",
      "    data[k] = self.data[k]\n",
      "  File \"/opt/conda/lib/python3.10/site-packages/distributed/spill.py\", line 245, in __getitem__\n",
      "    return super().__getitem__(key)\n",
      "  File \"/opt/conda/lib/python3.10/site-packages/zict/buffer.py\", line 108, in __getitem__\n",
      "    raise KeyError(key)\n",
      "KeyError: '_deploy_dask_func-1ba51a83-b5ca-4959-aa24-5403705f6754'\n",
      "\n",
      "During handling of the above exception, another exception occurred:\n",
      "\n",
      "Traceback (most recent call last):\n",
      "  File \"/opt/conda/lib/python3.10/site-packages/distributed/worker.py\", line 2271, in execute\n",
      "    args2, kwargs2 = self._prepare_args_for_execution(ts, args, kwargs)\n",
      "  File \"/opt/conda/lib/python3.10/site-packages/distributed/worker.py\", line 2394, in _prepare_args_for_execution\n",
      "    data[k] = Actor(type(self.state.actors[k]), self.address, k, self)\n",
      "KeyError: '_deploy_dask_func-1ba51a83-b5ca-4959-aa24-5403705f6754'\n"
     ]
    },
    {
     "name": "stderr",
     "output_type": "stream",
     "text": [
      "2023-03-25 11:35:40,384 - distributed.utils_perf - WARNING - full garbage collections took 12% CPU time recently (threshold: 10%)\n"
     ]
    },
    {
     "name": "stderr",
     "output_type": "stream",
     "text": [
      "RuntimeWarning: divide by zero encountered in log\n"
     ]
    },
    {
     "name": "stderr",
     "output_type": "stream",
     "text": [
      "2023-03-25 11:35:47,331 - distributed.utils_perf - WARNING - full garbage collections took 12% CPU time recently (threshold: 10%)\n"
     ]
    },
    {
     "name": "stderr",
     "output_type": "stream",
     "text": [
      "UserWarning: Distributing <class 'dict'> object. This may take some time.\n"
     ]
    },
    {
     "name": "stderr",
     "output_type": "stream",
     "text": [
      "UserWarning: Group indices computation is not currently supported by PandasOnDask, defaulting to pandas implementation.\n"
     ]
    },
    {
     "name": "stderr",
     "output_type": "stream",
     "text": [
      "2023-03-25 11:35:49,091 - distributed.worker - ERROR - Exception during execution of task lambda-69fbdfde24d41b97e594129f65acc096.\n",
      "Traceback (most recent call last):\n",
      "  File \"/opt/conda/lib/python3.10/site-packages/distributed/worker.py\", line 2390, in _prepare_args_for_execution\n",
      "    data[k] = self.data[k]\n",
      "  File \"/opt/conda/lib/python3.10/site-packages/distributed/spill.py\", line 245, in __getitem__\n",
      "    return super().__getitem__(key)\n",
      "  File \"/opt/conda/lib/python3.10/site-packages/zict/buffer.py\", line 108, in __getitem__\n",
      "    raise KeyError(key)\n",
      "KeyError: '_deploy_dask_func-97226ee2-6fb7-4b12-9fbe-6ca1fe0fc883'\n",
      "\n",
      "During handling of the above exception, another exception occurred:\n",
      "\n",
      "Traceback (most recent call last):\n",
      "  File \"/opt/conda/lib/python3.10/site-packages/distributed/worker.py\", line 2271, in execute\n",
      "    args2, kwargs2 = self._prepare_args_for_execution(ts, args, kwargs)\n",
      "  File \"/opt/conda/lib/python3.10/site-packages/distributed/worker.py\", line 2394, in _prepare_args_for_execution\n",
      "    data[k] = Actor(type(self.state.actors[k]), self.address, k, self)\n",
      "KeyError: '_deploy_dask_func-97226ee2-6fb7-4b12-9fbe-6ca1fe0fc883'\n"
     ]
    },
    {
     "name": "stderr",
     "output_type": "stream",
     "text": [
      "2023-03-25 11:35:54,143 - distributed.utils_perf - WARNING - full garbage collections took 13% CPU time recently (threshold: 10%)\n"
     ]
    },
    {
     "name": "stderr",
     "output_type": "stream",
     "text": [
      "UserWarning: Distributing <class 'dict'> object. This may take some time.\n",
      "UserWarning: Group indices computation is not currently supported by PandasOnDask, defaulting to pandas implementation.\n"
     ]
    },
    {
     "name": "stderr",
     "output_type": "stream",
     "text": [
      "2023-03-25 11:36:01,140 - distributed.utils_perf - WARNING - full garbage collections took 13% CPU time recently (threshold: 10%)\n"
     ]
    },
    {
     "name": "stderr",
     "output_type": "stream",
     "text": [
      "RuntimeWarning: divide by zero encountered in log\n"
     ]
    },
    {
     "name": "stderr",
     "output_type": "stream",
     "text": [
      "2023-03-25 11:36:07,868 - distributed.utils_perf - WARNING - full garbage collections took 13% CPU time recently (threshold: 10%)\n"
     ]
    },
    {
     "name": "stderr",
     "output_type": "stream",
     "text": [
      "UserWarning: Distributing <class 'dict'> object. This may take some time.\n"
     ]
    },
    {
     "name": "stderr",
     "output_type": "stream",
     "text": [
      "UserWarning: Group indices computation is not currently supported by PandasOnDask, defaulting to pandas implementation.\n"
     ]
    },
    {
     "name": "stderr",
     "output_type": "stream",
     "text": [
      "2023-03-25 11:36:12,206 - distributed.worker - ERROR - Exception during execution of task lambda-6e109db6d47a259163530874765ddd6f.\n",
      "Traceback (most recent call last):\n",
      "  File \"/opt/conda/lib/python3.10/site-packages/distributed/worker.py\", line 2390, in _prepare_args_for_execution\n",
      "    data[k] = self.data[k]\n",
      "  File \"/opt/conda/lib/python3.10/site-packages/distributed/spill.py\", line 245, in __getitem__\n",
      "    return super().__getitem__(key)\n",
      "  File \"/opt/conda/lib/python3.10/site-packages/zict/buffer.py\", line 108, in __getitem__\n",
      "    raise KeyError(key)\n",
      "KeyError: '_deploy_dask_func-10a6fc8a-12b7-4a12-8f67-8c823442ffcd'\n",
      "\n",
      "During handling of the above exception, another exception occurred:\n",
      "\n",
      "Traceback (most recent call last):\n",
      "  File \"/opt/conda/lib/python3.10/site-packages/distributed/worker.py\", line 2271, in execute\n",
      "    args2, kwargs2 = self._prepare_args_for_execution(ts, args, kwargs)\n",
      "  File \"/opt/conda/lib/python3.10/site-packages/distributed/worker.py\", line 2394, in _prepare_args_for_execution\n",
      "    data[k] = Actor(type(self.state.actors[k]), self.address, k, self)\n",
      "KeyError: '_deploy_dask_func-10a6fc8a-12b7-4a12-8f67-8c823442ffcd'\n"
     ]
    },
    {
     "name": "stderr",
     "output_type": "stream",
     "text": [
      "2023-03-25 11:36:14,690 - distributed.utils_perf - WARNING - full garbage collections took 12% CPU time recently (threshold: 10%)\n"
     ]
    },
    {
     "name": "stderr",
     "output_type": "stream",
     "text": [
      "RuntimeWarning: divide by zero encountered in log\n"
     ]
    },
    {
     "name": "stderr",
     "output_type": "stream",
     "text": [
      "2023-03-25 11:36:21,251 - distributed.utils_perf - WARNING - full garbage collections took 12% CPU time recently (threshold: 10%)\n"
     ]
    },
    {
     "name": "stderr",
     "output_type": "stream",
     "text": [
      "UserWarning: Distributing <class 'dict'> object. This may take some time.\n",
      "UserWarning: Group indices computation is not currently supported by PandasOnDask, defaulting to pandas implementation.\n"
     ]
    },
    {
     "name": "stderr",
     "output_type": "stream",
     "text": [
      "2023-03-25 11:36:28,244 - distributed.utils_perf - WARNING - full garbage collections took 12% CPU time recently (threshold: 10%)\n"
     ]
    },
    {
     "name": "stderr",
     "output_type": "stream",
     "text": [
      "2023-03-25 11:36:29,702 - distributed.worker - ERROR - Exception during execution of task lambda-72dd23624ced3eba8a5eda0135fa144e.\n",
      "Traceback (most recent call last):\n",
      "  File \"/opt/conda/lib/python3.10/site-packages/distributed/worker.py\", line 2390, in _prepare_args_for_execution\n",
      "    data[k] = self.data[k]\n",
      "  File \"/opt/conda/lib/python3.10/site-packages/distributed/spill.py\", line 245, in __getitem__\n",
      "    return super().__getitem__(key)\n",
      "  File \"/opt/conda/lib/python3.10/site-packages/zict/buffer.py\", line 108, in __getitem__\n",
      "    raise KeyError(key)\n",
      "KeyError: '_deploy_dask_func-3a27c8e2-eebf-4670-99f7-3969c9282cf6'\n",
      "\n",
      "During handling of the above exception, another exception occurred:\n",
      "\n",
      "Traceback (most recent call last):\n",
      "  File \"/opt/conda/lib/python3.10/site-packages/distributed/worker.py\", line 2271, in execute\n",
      "    args2, kwargs2 = self._prepare_args_for_execution(ts, args, kwargs)\n",
      "  File \"/opt/conda/lib/python3.10/site-packages/distributed/worker.py\", line 2394, in _prepare_args_for_execution\n",
      "    data[k] = Actor(type(self.state.actors[k]), self.address, k, self)\n",
      "KeyError: '_deploy_dask_func-3a27c8e2-eebf-4670-99f7-3969c9282cf6'\n"
     ]
    },
    {
     "name": "stderr",
     "output_type": "stream",
     "text": [
      "RuntimeWarning: divide by zero encountered in log\n"
     ]
    },
    {
     "name": "stderr",
     "output_type": "stream",
     "text": [
      "2023-03-25 11:36:35,375 - distributed.utils_perf - WARNING - full garbage collections took 12% CPU time recently (threshold: 10%)\n"
     ]
    },
    {
     "name": "stderr",
     "output_type": "stream",
     "text": [
      "UserWarning: Distributing <class 'dict'> object. This may take some time.\n",
      "UserWarning: Group indices computation is not currently supported by PandasOnDask, defaulting to pandas implementation.\n"
     ]
    },
    {
     "name": "stderr",
     "output_type": "stream",
     "text": [
      "2023-03-25 11:36:38,141 - distributed.worker - ERROR - Exception during execution of task lambda-ca72c4b63b38f80d9f4353edd2505080.\n",
      "Traceback (most recent call last):\n",
      "  File \"/opt/conda/lib/python3.10/site-packages/distributed/worker.py\", line 2390, in _prepare_args_for_execution\n",
      "    data[k] = self.data[k]\n",
      "  File \"/opt/conda/lib/python3.10/site-packages/distributed/spill.py\", line 245, in __getitem__\n",
      "    return super().__getitem__(key)\n",
      "  File \"/opt/conda/lib/python3.10/site-packages/zict/buffer.py\", line 108, in __getitem__\n",
      "    raise KeyError(key)\n",
      "KeyError: '_deploy_dask_func-74d82843-e2ab-4ac4-99ea-1a2b120697f6'\n",
      "\n",
      "During handling of the above exception, another exception occurred:\n",
      "\n",
      "Traceback (most recent call last):\n",
      "  File \"/opt/conda/lib/python3.10/site-packages/distributed/worker.py\", line 2271, in execute\n",
      "    args2, kwargs2 = self._prepare_args_for_execution(ts, args, kwargs)\n",
      "  File \"/opt/conda/lib/python3.10/site-packages/distributed/worker.py\", line 2394, in _prepare_args_for_execution\n",
      "    data[k] = Actor(type(self.state.actors[k]), self.address, k, self)\n",
      "KeyError: '_deploy_dask_func-74d82843-e2ab-4ac4-99ea-1a2b120697f6'\n"
     ]
    },
    {
     "name": "stderr",
     "output_type": "stream",
     "text": [
      "2023-03-25 11:36:42,157 - distributed.utils_perf - WARNING - full garbage collections took 12% CPU time recently (threshold: 10%)\n"
     ]
    },
    {
     "name": "stderr",
     "output_type": "stream",
     "text": [
      "RuntimeWarning: divide by zero encountered in log\n"
     ]
    },
    {
     "name": "stderr",
     "output_type": "stream",
     "text": [
      "2023-03-25 11:36:49,530 - distributed.utils_perf - WARNING - full garbage collections took 13% CPU time recently (threshold: 10%)\n"
     ]
    },
    {
     "name": "stderr",
     "output_type": "stream",
     "text": [
      "UserWarning: Distributing <class 'dict'> object. This may take some time.\n",
      "UserWarning: Group indices computation is not currently supported by PandasOnDask, defaulting to pandas implementation.\n"
     ]
    },
    {
     "name": "stderr",
     "output_type": "stream",
     "text": [
      "2023-03-25 11:36:51,389 - distributed.worker - ERROR - Exception during execution of task lambda-ad6cd83f2a793a3b74b3bb7c1d79ff09.\n",
      "Traceback (most recent call last):\n",
      "  File \"/opt/conda/lib/python3.10/site-packages/distributed/worker.py\", line 2390, in _prepare_args_for_execution\n",
      "    data[k] = self.data[k]\n",
      "  File \"/opt/conda/lib/python3.10/site-packages/distributed/spill.py\", line 245, in __getitem__\n",
      "    return super().__getitem__(key)\n",
      "  File \"/opt/conda/lib/python3.10/site-packages/zict/buffer.py\", line 108, in __getitem__\n",
      "    raise KeyError(key)\n",
      "KeyError: '_deploy_dask_func-8bd5ff8a-7ce1-44d8-85c1-fd5fd0d884f0'\n",
      "\n",
      "During handling of the above exception, another exception occurred:\n",
      "\n",
      "Traceback (most recent call last):\n",
      "  File \"/opt/conda/lib/python3.10/site-packages/distributed/worker.py\", line 2271, in execute\n",
      "    args2, kwargs2 = self._prepare_args_for_execution(ts, args, kwargs)\n",
      "  File \"/opt/conda/lib/python3.10/site-packages/distributed/worker.py\", line 2394, in _prepare_args_for_execution\n",
      "    data[k] = Actor(type(self.state.actors[k]), self.address, k, self)\n",
      "KeyError: '_deploy_dask_func-8bd5ff8a-7ce1-44d8-85c1-fd5fd0d884f0'\n"
     ]
    },
    {
     "name": "stderr",
     "output_type": "stream",
     "text": [
      "2023-03-25 11:36:57,034 - distributed.utils_perf - WARNING - full garbage collections took 13% CPU time recently (threshold: 10%)\n"
     ]
    },
    {
     "name": "stderr",
     "output_type": "stream",
     "text": [
      "RuntimeWarning: divide by zero encountered in log\n"
     ]
    },
    {
     "name": "stderr",
     "output_type": "stream",
     "text": [
      "2023-03-25 11:37:01,352 - distributed.worker - ERROR - Exception during execution of task lambda-e606b974235c99a626c9f86e24f6dcdc.\n",
      "Traceback (most recent call last):\n",
      "  File \"/opt/conda/lib/python3.10/site-packages/distributed/worker.py\", line 2390, in _prepare_args_for_execution\n",
      "    data[k] = self.data[k]\n",
      "  File \"/opt/conda/lib/python3.10/site-packages/distributed/spill.py\", line 245, in __getitem__\n",
      "    return super().__getitem__(key)\n",
      "  File \"/opt/conda/lib/python3.10/site-packages/zict/buffer.py\", line 108, in __getitem__\n",
      "    raise KeyError(key)\n",
      "KeyError: '_deploy_dask_func-a95353db-9d24-4f7a-aa24-aa6fadd10a90'\n",
      "\n",
      "During handling of the above exception, another exception occurred:\n",
      "\n",
      "Traceback (most recent call last):\n",
      "  File \"/opt/conda/lib/python3.10/site-packages/distributed/worker.py\", line 2271, in execute\n",
      "    args2, kwargs2 = self._prepare_args_for_execution(ts, args, kwargs)\n",
      "  File \"/opt/conda/lib/python3.10/site-packages/distributed/worker.py\", line 2394, in _prepare_args_for_execution\n",
      "    data[k] = Actor(type(self.state.actors[k]), self.address, k, self)\n",
      "KeyError: '_deploy_dask_func-a95353db-9d24-4f7a-aa24-aa6fadd10a90'\n"
     ]
    },
    {
     "name": "stderr",
     "output_type": "stream",
     "text": [
      "RuntimeWarning: divide by zero encountered in log\n",
      "UserWarning: Distributing <class 'dict'> object. This may take some time.\n",
      "UserWarning: Group indices computation is not currently supported by PandasOnDask, defaulting to pandas implementation.\n"
     ]
    },
    {
     "name": "stderr",
     "output_type": "stream",
     "text": [
      "2023-03-25 11:37:04,151 - distributed.utils_perf - WARNING - full garbage collections took 13% CPU time recently (threshold: 10%)\n"
     ]
    },
    {
     "name": "stderr",
     "output_type": "stream",
     "text": [
      "2023-03-25 11:37:05,043 - distributed.worker - ERROR - Exception during execution of task lambda-ee226a4bd925543ab8e789cc6d7b8077.\n",
      "Traceback (most recent call last):\n",
      "  File \"/opt/conda/lib/python3.10/site-packages/distributed/worker.py\", line 2390, in _prepare_args_for_execution\n",
      "    data[k] = self.data[k]\n",
      "  File \"/opt/conda/lib/python3.10/site-packages/distributed/spill.py\", line 245, in __getitem__\n",
      "    return super().__getitem__(key)\n",
      "  File \"/opt/conda/lib/python3.10/site-packages/zict/buffer.py\", line 108, in __getitem__\n",
      "    raise KeyError(key)\n",
      "KeyError: '_deploy_dask_func-02a1d999-15a5-4ce1-9ba2-f73cd37f06e0'\n",
      "\n",
      "During handling of the above exception, another exception occurred:\n",
      "\n",
      "Traceback (most recent call last):\n",
      "  File \"/opt/conda/lib/python3.10/site-packages/distributed/worker.py\", line 2271, in execute\n",
      "    args2, kwargs2 = self._prepare_args_for_execution(ts, args, kwargs)\n",
      "  File \"/opt/conda/lib/python3.10/site-packages/distributed/worker.py\", line 2394, in _prepare_args_for_execution\n",
      "    data[k] = Actor(type(self.state.actors[k]), self.address, k, self)\n",
      "KeyError: '_deploy_dask_func-02a1d999-15a5-4ce1-9ba2-f73cd37f06e0'\n"
     ]
    },
    {
     "name": "stderr",
     "output_type": "stream",
     "text": [
      "2023-03-25 11:37:08,159 - distributed.worker - ERROR - Exception during execution of task lambda-e868714d460c702ea9a3211f1d3e536c.\n",
      "Traceback (most recent call last):\n",
      "  File \"/opt/conda/lib/python3.10/site-packages/distributed/worker.py\", line 2390, in _prepare_args_for_execution\n",
      "    data[k] = self.data[k]\n",
      "  File \"/opt/conda/lib/python3.10/site-packages/distributed/spill.py\", line 245, in __getitem__\n",
      "    return super().__getitem__(key)\n",
      "  File \"/opt/conda/lib/python3.10/site-packages/zict/buffer.py\", line 108, in __getitem__\n",
      "    raise KeyError(key)\n",
      "KeyError: '_deploy_dask_func-b1c92d03-92c6-4780-b454-5f57397e9f73'\n",
      "\n",
      "During handling of the above exception, another exception occurred:\n",
      "\n",
      "Traceback (most recent call last):\n",
      "  File \"/opt/conda/lib/python3.10/site-packages/distributed/worker.py\", line 2271, in execute\n",
      "    args2, kwargs2 = self._prepare_args_for_execution(ts, args, kwargs)\n",
      "  File \"/opt/conda/lib/python3.10/site-packages/distributed/worker.py\", line 2394, in _prepare_args_for_execution\n",
      "    data[k] = Actor(type(self.state.actors[k]), self.address, k, self)\n",
      "KeyError: '_deploy_dask_func-b1c92d03-92c6-4780-b454-5f57397e9f73'\n"
     ]
    },
    {
     "name": "stderr",
     "output_type": "stream",
     "text": [
      "RuntimeWarning: divide by zero encountered in log\n"
     ]
    },
    {
     "name": "stderr",
     "output_type": "stream",
     "text": [
      "2023-03-25 11:37:11,897 - distributed.utils_perf - WARNING - full garbage collections took 13% CPU time recently (threshold: 10%)\n"
     ]
    },
    {
     "name": "stderr",
     "output_type": "stream",
     "text": [
      "UserWarning: Distributing <class 'dict'> object. This may take some time.\n",
      "2023-03-25 11:37:14,045 - distributed.worker - ERROR - Exception during execution of task lambda-11d0f3cc5c33bb4492b9abf9c2fe2f12.\n",
      "Traceback (most recent call last):\n",
      "  File \"/opt/conda/lib/python3.10/site-packages/distributed/worker.py\", line 2390, in _prepare_args_for_execution\n",
      "    data[k] = self.data[k]\n",
      "  File \"/opt/conda/lib/python3.10/site-packages/distributed/spill.py\", line 245, in __getitem__\n",
      "    return super().__getitem__(key)\n",
      "  File \"/opt/conda/lib/python3.10/site-packages/zict/buffer.py\", line 108, in __getitem__\n",
      "    raise KeyError(key)\n",
      "KeyError: 'apply_list_of_funcs-c4e658ee-2528-47f3-81f6-14cb4b1adb82'\n",
      "\n",
      "During handling of the above exception, another exception occurred:\n",
      "\n",
      "Traceback (most recent call last):\n",
      "  File \"/opt/conda/lib/python3.10/site-packages/distributed/worker.py\", line 2271, in execute\n",
      "    args2, kwargs2 = self._prepare_args_for_execution(ts, args, kwargs)\n",
      "  File \"/opt/conda/lib/python3.10/site-packages/distributed/worker.py\", line 2394, in _prepare_args_for_execution\n",
      "    data[k] = Actor(type(self.state.actors[k]), self.address, k, self)\n",
      "KeyError: 'apply_list_of_funcs-c4e658ee-2528-47f3-81f6-14cb4b1adb82'\n"
     ]
    },
    {
     "name": "stderr",
     "output_type": "stream",
     "text": [
      "UserWarning: Group indices computation is not currently supported by PandasOnDask, defaulting to pandas implementation.\n"
     ]
    },
    {
     "name": "stderr",
     "output_type": "stream",
     "text": [
      "2023-03-25 11:37:15,320 - distributed.worker - ERROR - Exception during execution of task lambda-0080ae49d3850b9b6c094c287cedd8e9.\n",
      "Traceback (most recent call last):\n",
      "  File \"/opt/conda/lib/python3.10/site-packages/distributed/worker.py\", line 2390, in _prepare_args_for_execution\n",
      "    data[k] = self.data[k]\n",
      "  File \"/opt/conda/lib/python3.10/site-packages/distributed/spill.py\", line 245, in __getitem__\n",
      "    return super().__getitem__(key)\n",
      "  File \"/opt/conda/lib/python3.10/site-packages/zict/buffer.py\", line 108, in __getitem__\n",
      "    raise KeyError(key)\n",
      "KeyError: '_deploy_dask_func-e7d65a72-3ed5-497c-9a75-1e469346b43d'\n",
      "\n",
      "During handling of the above exception, another exception occurred:\n",
      "\n",
      "Traceback (most recent call last):\n",
      "  File \"/opt/conda/lib/python3.10/site-packages/distributed/worker.py\", line 2271, in execute\n",
      "    args2, kwargs2 = self._prepare_args_for_execution(ts, args, kwargs)\n",
      "  File \"/opt/conda/lib/python3.10/site-packages/distributed/worker.py\", line 2394, in _prepare_args_for_execution\n",
      "    data[k] = Actor(type(self.state.actors[k]), self.address, k, self)\n",
      "KeyError: '_deploy_dask_func-e7d65a72-3ed5-497c-9a75-1e469346b43d'\n"
     ]
    },
    {
     "name": "stderr",
     "output_type": "stream",
     "text": [
      "2023-03-25 11:37:19,122 - distributed.utils_perf - WARNING - full garbage collections took 12% CPU time recently (threshold: 10%)\n"
     ]
    },
    {
     "name": "stderr",
     "output_type": "stream",
     "text": [
      "RuntimeWarning: divide by zero encountered in log\n"
     ]
    },
    {
     "name": "stderr",
     "output_type": "stream",
     "text": [
      "2023-03-25 11:37:22,156 - distributed.worker - ERROR - Exception during execution of task lambda-f5a1d3b974a505fb75bbd86a36d2d265.\n",
      "Traceback (most recent call last):\n",
      "  File \"/opt/conda/lib/python3.10/site-packages/distributed/worker.py\", line 2390, in _prepare_args_for_execution\n",
      "    data[k] = self.data[k]\n",
      "  File \"/opt/conda/lib/python3.10/site-packages/distributed/spill.py\", line 245, in __getitem__\n",
      "    return super().__getitem__(key)\n",
      "  File \"/opt/conda/lib/python3.10/site-packages/zict/buffer.py\", line 108, in __getitem__\n",
      "    raise KeyError(key)\n",
      "KeyError: '_deploy_dask_func-339a65ce-dc15-4a2d-a2ad-dab91af0d311'\n",
      "\n",
      "During handling of the above exception, another exception occurred:\n",
      "\n",
      "Traceback (most recent call last):\n",
      "  File \"/opt/conda/lib/python3.10/site-packages/distributed/worker.py\", line 2271, in execute\n",
      "    args2, kwargs2 = self._prepare_args_for_execution(ts, args, kwargs)\n",
      "  File \"/opt/conda/lib/python3.10/site-packages/distributed/worker.py\", line 2394, in _prepare_args_for_execution\n",
      "    data[k] = Actor(type(self.state.actors[k]), self.address, k, self)\n",
      "KeyError: '_deploy_dask_func-339a65ce-dc15-4a2d-a2ad-dab91af0d311'\n"
     ]
    },
    {
     "name": "stderr",
     "output_type": "stream",
     "text": [
      "UserWarning: Distributing <class 'dict'> object. This may take some time.\n"
     ]
    },
    {
     "name": "stderr",
     "output_type": "stream",
     "text": [
      "UserWarning: Group indices computation is not currently supported by PandasOnDask, defaulting to pandas implementation.\n"
     ]
    },
    {
     "name": "stderr",
     "output_type": "stream",
     "text": [
      "2023-03-25 11:37:26,144 - distributed.utils_perf - WARNING - full garbage collections took 12% CPU time recently (threshold: 10%)\n"
     ]
    },
    {
     "name": "stderr",
     "output_type": "stream",
     "text": [
      "RuntimeWarning: divide by zero encountered in log\n"
     ]
    },
    {
     "name": "stderr",
     "output_type": "stream",
     "text": [
      "2023-03-25 11:37:33,600 - distributed.utils_perf - WARNING - full garbage collections took 12% CPU time recently (threshold: 10%)\n"
     ]
    },
    {
     "name": "stderr",
     "output_type": "stream",
     "text": [
      "2023-03-25 11:37:34,495 - distributed.worker - ERROR - Exception during execution of task lambda-524094dc1427819e26865223904fcf05.\n",
      "Traceback (most recent call last):\n",
      "  File \"/opt/conda/lib/python3.10/site-packages/distributed/worker.py\", line 2390, in _prepare_args_for_execution\n",
      "    data[k] = self.data[k]\n",
      "  File \"/opt/conda/lib/python3.10/site-packages/distributed/spill.py\", line 245, in __getitem__\n",
      "    return super().__getitem__(key)\n",
      "  File \"/opt/conda/lib/python3.10/site-packages/zict/buffer.py\", line 108, in __getitem__\n",
      "    raise KeyError(key)\n",
      "KeyError: '_deploy_dask_func-3f513ed1-9f1d-4462-b082-21b1ed337167'\n",
      "\n",
      "During handling of the above exception, another exception occurred:\n",
      "\n",
      "Traceback (most recent call last):\n",
      "  File \"/opt/conda/lib/python3.10/site-packages/distributed/worker.py\", line 2271, in execute\n",
      "    args2, kwargs2 = self._prepare_args_for_execution(ts, args, kwargs)\n",
      "  File \"/opt/conda/lib/python3.10/site-packages/distributed/worker.py\", line 2394, in _prepare_args_for_execution\n",
      "    data[k] = Actor(type(self.state.actors[k]), self.address, k, self)\n",
      "KeyError: '_deploy_dask_func-3f513ed1-9f1d-4462-b082-21b1ed337167'\n"
     ]
    },
    {
     "name": "stderr",
     "output_type": "stream",
     "text": [
      "UserWarning: Distributing <class 'dict'> object. This may take some time.\n",
      "2023-03-25 11:37:36,949 - distributed.worker - ERROR - Exception during execution of task lambda-dde69d69107dddf2db4a3bce524f6274.\n",
      "Traceback (most recent call last):\n",
      "  File \"/opt/conda/lib/python3.10/site-packages/distributed/worker.py\", line 2390, in _prepare_args_for_execution\n",
      "    data[k] = self.data[k]\n",
      "  File \"/opt/conda/lib/python3.10/site-packages/distributed/spill.py\", line 245, in __getitem__\n",
      "    return super().__getitem__(key)\n",
      "  File \"/opt/conda/lib/python3.10/site-packages/zict/buffer.py\", line 108, in __getitem__\n",
      "    raise KeyError(key)\n",
      "KeyError: 'apply_list_of_funcs-2398fc39-f9f6-4174-b658-53f869724c2d'\n",
      "\n",
      "During handling of the above exception, another exception occurred:\n",
      "\n",
      "Traceback (most recent call last):\n",
      "  File \"/opt/conda/lib/python3.10/site-packages/distributed/worker.py\", line 2271, in execute\n",
      "    args2, kwargs2 = self._prepare_args_for_execution(ts, args, kwargs)\n",
      "  File \"/opt/conda/lib/python3.10/site-packages/distributed/worker.py\", line 2394, in _prepare_args_for_execution\n",
      "    data[k] = Actor(type(self.state.actors[k]), self.address, k, self)\n",
      "KeyError: 'apply_list_of_funcs-2398fc39-f9f6-4174-b658-53f869724c2d'\n",
      "UserWarning: Group indices computation is not currently supported by PandasOnDask, defaulting to pandas implementation.\n"
     ]
    },
    {
     "name": "stderr",
     "output_type": "stream",
     "text": [
      "2023-03-25 11:37:41,120 - distributed.utils_perf - WARNING - full garbage collections took 12% CPU time recently (threshold: 10%)\n"
     ]
    },
    {
     "name": "stderr",
     "output_type": "stream",
     "text": [
      "RuntimeWarning: divide by zero encountered in log\n"
     ]
    },
    {
     "name": "stderr",
     "output_type": "stream",
     "text": [
      "2023-03-25 11:37:48,816 - distributed.utils_perf - WARNING - full garbage collections took 12% CPU time recently (threshold: 10%)\n"
     ]
    },
    {
     "name": "stderr",
     "output_type": "stream",
     "text": [
      "RuntimeWarning: divide by zero encountered in log\n",
      "UserWarning: Distributing <class 'dict'> object. This may take some time.\n",
      "UserWarning: Group indices computation is not currently supported by PandasOnDask, defaulting to pandas implementation.\n"
     ]
    },
    {
     "name": "stderr",
     "output_type": "stream",
     "text": [
      "2023-03-25 11:37:56,240 - distributed.utils_perf - WARNING - full garbage collections took 12% CPU time recently (threshold: 10%)\n"
     ]
    },
    {
     "name": "stderr",
     "output_type": "stream",
     "text": [
      "RuntimeWarning: divide by zero encountered in log\n"
     ]
    },
    {
     "name": "stderr",
     "output_type": "stream",
     "text": [
      "UserWarning: Distributing <class 'dict'> object. This may take some time.\n",
      "UserWarning: Group indices computation is not currently supported by PandasOnDask, defaulting to pandas implementation.\n"
     ]
    },
    {
     "name": "stderr",
     "output_type": "stream",
     "text": [
      "2023-03-25 11:38:04,038 - distributed.utils_perf - WARNING - full garbage collections took 12% CPU time recently (threshold: 10%)\n"
     ]
    },
    {
     "name": "stderr",
     "output_type": "stream",
     "text": [
      "2023-03-25 11:38:05,015 - distributed.worker - ERROR - Exception during execution of task lambda-8764f4868ec94fc83bae2c09231c1c2c.\n",
      "Traceback (most recent call last):\n",
      "  File \"/opt/conda/lib/python3.10/site-packages/distributed/worker.py\", line 2390, in _prepare_args_for_execution\n",
      "    data[k] = self.data[k]\n",
      "  File \"/opt/conda/lib/python3.10/site-packages/distributed/spill.py\", line 245, in __getitem__\n",
      "    return super().__getitem__(key)\n",
      "  File \"/opt/conda/lib/python3.10/site-packages/zict/buffer.py\", line 108, in __getitem__\n",
      "    raise KeyError(key)\n",
      "KeyError: '_deploy_dask_func-869831cb-0299-4247-bb92-52a932a3f9eb'\n",
      "\n",
      "During handling of the above exception, another exception occurred:\n",
      "\n",
      "Traceback (most recent call last):\n",
      "  File \"/opt/conda/lib/python3.10/site-packages/distributed/worker.py\", line 2271, in execute\n",
      "    args2, kwargs2 = self._prepare_args_for_execution(ts, args, kwargs)\n",
      "  File \"/opt/conda/lib/python3.10/site-packages/distributed/worker.py\", line 2394, in _prepare_args_for_execution\n",
      "    data[k] = Actor(type(self.state.actors[k]), self.address, k, self)\n",
      "KeyError: '_deploy_dask_func-869831cb-0299-4247-bb92-52a932a3f9eb'\n"
     ]
    },
    {
     "name": "stderr",
     "output_type": "stream",
     "text": [
      "RuntimeWarning: divide by zero encountered in log\n"
     ]
    },
    {
     "name": "stderr",
     "output_type": "stream",
     "text": [
      "2023-03-25 11:38:11,385 - distributed.utils_perf - WARNING - full garbage collections took 12% CPU time recently (threshold: 10%)\n"
     ]
    },
    {
     "name": "stderr",
     "output_type": "stream",
     "text": [
      "2023-03-25 11:38:12,836 - distributed.worker - ERROR - Exception during execution of task lambda-1b3d02f3487d2bcd7f939162bb4ecde1.\n",
      "Traceback (most recent call last):\n",
      "  File \"/opt/conda/lib/python3.10/site-packages/distributed/worker.py\", line 2390, in _prepare_args_for_execution\n",
      "    data[k] = self.data[k]\n",
      "  File \"/opt/conda/lib/python3.10/site-packages/distributed/spill.py\", line 245, in __getitem__\n",
      "    return super().__getitem__(key)\n",
      "  File \"/opt/conda/lib/python3.10/site-packages/zict/buffer.py\", line 108, in __getitem__\n",
      "    raise KeyError(key)\n",
      "KeyError: '_deploy_dask_func-99734c13-820d-452e-8b8d-9bb14bf18fa4'\n",
      "\n",
      "During handling of the above exception, another exception occurred:\n",
      "\n",
      "Traceback (most recent call last):\n",
      "  File \"/opt/conda/lib/python3.10/site-packages/distributed/worker.py\", line 2271, in execute\n",
      "    args2, kwargs2 = self._prepare_args_for_execution(ts, args, kwargs)\n",
      "  File \"/opt/conda/lib/python3.10/site-packages/distributed/worker.py\", line 2394, in _prepare_args_for_execution\n",
      "    data[k] = Actor(type(self.state.actors[k]), self.address, k, self)\n",
      "KeyError: '_deploy_dask_func-99734c13-820d-452e-8b8d-9bb14bf18fa4'\n"
     ]
    },
    {
     "name": "stderr",
     "output_type": "stream",
     "text": [
      "UserWarning: Distributing <class 'dict'> object. This may take some time.\n"
     ]
    },
    {
     "name": "stdout",
     "output_type": "stream",
     "text": [
      "0.9\n"
     ]
    },
    {
     "name": "stderr",
     "output_type": "stream",
     "text": [
      "2023-03-25 11:38:20,209 - distributed.utils_perf - WARNING - full garbage collections took 13% CPU time recently (threshold: 10%)\n"
     ]
    },
    {
     "name": "stderr",
     "output_type": "stream",
     "text": [
      "2023-03-25 11:38:26,288 - distributed.utils_perf - WARNING - full garbage collections took 13% CPU time recently (threshold: 10%)\n"
     ]
    },
    {
     "name": "stderr",
     "output_type": "stream",
     "text": [
      "2023-03-25 11:38:27,109 - distributed.worker - ERROR - Exception during execution of task lambda-5858921592ea5460e82cb6f4bafad6c7.\n",
      "Traceback (most recent call last):\n",
      "  File \"/opt/conda/lib/python3.10/site-packages/distributed/worker.py\", line 2390, in _prepare_args_for_execution\n",
      "    data[k] = self.data[k]\n",
      "  File \"/opt/conda/lib/python3.10/site-packages/distributed/spill.py\", line 245, in __getitem__\n",
      "    return super().__getitem__(key)\n",
      "  File \"/opt/conda/lib/python3.10/site-packages/zict/buffer.py\", line 108, in __getitem__\n",
      "    raise KeyError(key)\n",
      "KeyError: 'apply_list_of_funcs-ff5ca2ea-f727-4f14-8c4b-2cf8af88cc5b'\n",
      "\n",
      "During handling of the above exception, another exception occurred:\n",
      "\n",
      "Traceback (most recent call last):\n",
      "  File \"/opt/conda/lib/python3.10/site-packages/distributed/worker.py\", line 2271, in execute\n",
      "    args2, kwargs2 = self._prepare_args_for_execution(ts, args, kwargs)\n",
      "  File \"/opt/conda/lib/python3.10/site-packages/distributed/worker.py\", line 2394, in _prepare_args_for_execution\n",
      "    data[k] = Actor(type(self.state.actors[k]), self.address, k, self)\n",
      "KeyError: 'apply_list_of_funcs-ff5ca2ea-f727-4f14-8c4b-2cf8af88cc5b'\n"
     ]
    },
    {
     "name": "stderr",
     "output_type": "stream",
     "text": [
      "UserWarning: `DataFrame.groupby_on_multiple_columns` is not currently supported by PandasOnDask, defaulting to pandas implementation.\n"
     ]
    },
    {
     "name": "stderr",
     "output_type": "stream",
     "text": [
      "2023-03-25 11:38:33,389 - distributed.utils_perf - WARNING - full garbage collections took 13% CPU time recently (threshold: 10%)\n"
     ]
    },
    {
     "name": "stderr",
     "output_type": "stream",
     "text": [
      "2023-03-25 11:38:38,111 - distributed.utils_perf - WARNING - full garbage collections took 13% CPU time recently (threshold: 10%)\n"
     ]
    },
    {
     "name": "stderr",
     "output_type": "stream",
     "text": [
      "FutureWarning: The `squeeze` parameter is deprecated and will be removed in a future version.\n"
     ]
    },
    {
     "name": "stderr",
     "output_type": "stream",
     "text": [
      "UserWarning: Distributing <class 'pandas.core.frame.DataFrame'> object. This may take some time.\n",
      "UserWarning: Group indices computation is not currently supported by PandasOnDask, defaulting to pandas implementation.\n"
     ]
    },
    {
     "name": "stderr",
     "output_type": "stream",
     "text": [
      "2023-03-25 11:38:45,431 - distributed.utils_perf - WARNING - full garbage collections took 13% CPU time recently (threshold: 10%)\n"
     ]
    },
    {
     "name": "stderr",
     "output_type": "stream",
     "text": [
      "RuntimeWarning: divide by zero encountered in log\n",
      "UserWarning: Distributing <class 'dict'> object. This may take some time.\n",
      "UserWarning: Group indices computation is not currently supported by PandasOnDask, defaulting to pandas implementation.\n"
     ]
    },
    {
     "name": "stderr",
     "output_type": "stream",
     "text": [
      "2023-03-25 11:38:47,340 - distributed.worker - ERROR - Exception during execution of task lambda-b765c99fc97e655bc11b3f1644523ed3.\n",
      "Traceback (most recent call last):\n",
      "  File \"/opt/conda/lib/python3.10/site-packages/distributed/worker.py\", line 2390, in _prepare_args_for_execution\n",
      "    data[k] = self.data[k]\n",
      "  File \"/opt/conda/lib/python3.10/site-packages/distributed/spill.py\", line 245, in __getitem__\n",
      "    return super().__getitem__(key)\n",
      "  File \"/opt/conda/lib/python3.10/site-packages/zict/buffer.py\", line 108, in __getitem__\n",
      "    raise KeyError(key)\n",
      "KeyError: '_deploy_dask_func-1c1c3c1d-802e-45b2-94f2-7089d4257eb2'\n",
      "\n",
      "During handling of the above exception, another exception occurred:\n",
      "\n",
      "Traceback (most recent call last):\n",
      "  File \"/opt/conda/lib/python3.10/site-packages/distributed/worker.py\", line 2271, in execute\n",
      "    args2, kwargs2 = self._prepare_args_for_execution(ts, args, kwargs)\n",
      "  File \"/opt/conda/lib/python3.10/site-packages/distributed/worker.py\", line 2394, in _prepare_args_for_execution\n",
      "    data[k] = Actor(type(self.state.actors[k]), self.address, k, self)\n",
      "KeyError: '_deploy_dask_func-1c1c3c1d-802e-45b2-94f2-7089d4257eb2'\n"
     ]
    },
    {
     "name": "stderr",
     "output_type": "stream",
     "text": [
      "UserWarning: Distributing <class 'dict'> object. This may take some time.\n",
      "UserWarning: Group indices computation is not currently supported by PandasOnDask, defaulting to pandas implementation.\n"
     ]
    },
    {
     "name": "stderr",
     "output_type": "stream",
     "text": [
      "2023-03-25 11:38:53,119 - distributed.utils_perf - WARNING - full garbage collections took 13% CPU time recently (threshold: 10%)\n"
     ]
    },
    {
     "name": "stderr",
     "output_type": "stream",
     "text": [
      "UserWarning: Distributing <class 'dict'> object. This may take some time.\n",
      "UserWarning: Group indices computation is not currently supported by PandasOnDask, defaulting to pandas implementation.\n"
     ]
    },
    {
     "name": "stderr",
     "output_type": "stream",
     "text": [
      "2023-03-25 11:38:58,108 - distributed.worker - WARNING - Could not find data: {'function-93b7029776eb46cab712f280207bec52': ['tcp://127.0.0.1:44051', 'tcp://127.0.0.1:45151', 'tcp://127.0.0.1:38495', 'tcp://127.0.0.1:38221', 'tcp://127.0.0.1:44209', 'tcp://127.0.0.1:40715', 'tcp://127.0.0.1:39797', 'tcp://127.0.0.1:42775', 'tcp://127.0.0.1:35551', 'tcp://127.0.0.1:35975', 'tcp://127.0.0.1:33233', 'tcp://127.0.0.1:41407', 'tcp://127.0.0.1:34877', 'tcp://127.0.0.1:38451', 'tcp://127.0.0.1:41261', 'tcp://127.0.0.1:42289', 'tcp://127.0.0.1:33915', 'tcp://127.0.0.1:39423', 'tcp://127.0.0.1:36411', 'tcp://127.0.0.1:35781', 'tcp://127.0.0.1:41423', 'tcp://127.0.0.1:35643', 'tcp://127.0.0.1:34937', 'tcp://127.0.0.1:35787', 'tcp://127.0.0.1:38651', 'tcp://127.0.0.1:40725', 'tcp://127.0.0.1:42183']} on workers: [] (who_has: {'function-93b7029776eb46cab712f280207bec52': ['tcp://127.0.0.1:44051', 'tcp://127.0.0.1:45151', 'tcp://127.0.0.1:38495', 'tcp://127.0.0.1:38221', 'tcp://127.0.0.1:44209', 'tcp://127.0.0.1:40715', 'tcp://127.0.0.1:39797', 'tcp://127.0.0.1:42775', 'tcp://127.0.0.1:35551', 'tcp://127.0.0.1:35975', 'tcp://127.0.0.1:33233', 'tcp://127.0.0.1:41407', 'tcp://127.0.0.1:34877', 'tcp://127.0.0.1:38451', 'tcp://127.0.0.1:41261', 'tcp://127.0.0.1:42289', 'tcp://127.0.0.1:33915', 'tcp://127.0.0.1:39423', 'tcp://127.0.0.1:36411', 'tcp://127.0.0.1:35781', 'tcp://127.0.0.1:41423', 'tcp://127.0.0.1:35643', 'tcp://127.0.0.1:34937', 'tcp://127.0.0.1:35787', 'tcp://127.0.0.1:38651', 'tcp://127.0.0.1:40725', 'tcp://127.0.0.1:42183']})\n",
      "2023-03-25 11:38:58,109 - distributed.worker - WARNING - Could not find data: {'function-93b7029776eb46cab712f280207bec52': ['tcp://127.0.0.1:44051', 'tcp://127.0.0.1:45151', 'tcp://127.0.0.1:38495', 'tcp://127.0.0.1:38221', 'tcp://127.0.0.1:44209', 'tcp://127.0.0.1:40715', 'tcp://127.0.0.1:39797', 'tcp://127.0.0.1:42775', 'tcp://127.0.0.1:35551', 'tcp://127.0.0.1:35975', 'tcp://127.0.0.1:33233', 'tcp://127.0.0.1:41407', 'tcp://127.0.0.1:34877', 'tcp://127.0.0.1:38451', 'tcp://127.0.0.1:41261', 'tcp://127.0.0.1:42289', 'tcp://127.0.0.1:33915', 'tcp://127.0.0.1:39423', 'tcp://127.0.0.1:36411', 'tcp://127.0.0.1:35781', 'tcp://127.0.0.1:41423', 'tcp://127.0.0.1:35643', 'tcp://127.0.0.1:34937', 'tcp://127.0.0.1:35787', 'tcp://127.0.0.1:38651', 'tcp://127.0.0.1:40725', 'tcp://127.0.0.1:42183']} on workers: [] (who_has: {'function-93b7029776eb46cab712f280207bec52': ['tcp://127.0.0.1:44051', 'tcp://127.0.0.1:45151', 'tcp://127.0.0.1:38495', 'tcp://127.0.0.1:38221', 'tcp://127.0.0.1:44209', 'tcp://127.0.0.1:40715', 'tcp://127.0.0.1:39797', 'tcp://127.0.0.1:42775', 'tcp://127.0.0.1:35551', 'tcp://127.0.0.1:35975', 'tcp://127.0.0.1:33233', 'tcp://127.0.0.1:41407', 'tcp://127.0.0.1:34877', 'tcp://127.0.0.1:38451', 'tcp://127.0.0.1:41261', 'tcp://127.0.0.1:42289', 'tcp://127.0.0.1:33915', 'tcp://127.0.0.1:39423', 'tcp://127.0.0.1:36411', 'tcp://127.0.0.1:35781', 'tcp://127.0.0.1:41423', 'tcp://127.0.0.1:35643', 'tcp://127.0.0.1:34937', 'tcp://127.0.0.1:35787', 'tcp://127.0.0.1:38651', 'tcp://127.0.0.1:40725', 'tcp://127.0.0.1:42183']})\n",
      "2023-03-25 11:38:58,110 - distributed.worker - WARNING - Could not find data: {'function-93b7029776eb46cab712f280207bec52': ['tcp://127.0.0.1:44051', 'tcp://127.0.0.1:45151', 'tcp://127.0.0.1:38495', 'tcp://127.0.0.1:38221', 'tcp://127.0.0.1:44209', 'tcp://127.0.0.1:40715', 'tcp://127.0.0.1:39797', 'tcp://127.0.0.1:42775', 'tcp://127.0.0.1:35551', 'tcp://127.0.0.1:35975', 'tcp://127.0.0.1:33233', 'tcp://127.0.0.1:41407', 'tcp://127.0.0.1:34877', 'tcp://127.0.0.1:38451', 'tcp://127.0.0.1:41261', 'tcp://127.0.0.1:42289', 'tcp://127.0.0.1:33915', 'tcp://127.0.0.1:39423', 'tcp://127.0.0.1:36411', 'tcp://127.0.0.1:35781', 'tcp://127.0.0.1:41423', 'tcp://127.0.0.1:35643', 'tcp://127.0.0.1:34937', 'tcp://127.0.0.1:35787', 'tcp://127.0.0.1:38651', 'tcp://127.0.0.1:40725', 'tcp://127.0.0.1:42183']} on workers: [] (who_has: {'function-93b7029776eb46cab712f280207bec52': ['tcp://127.0.0.1:44051', 'tcp://127.0.0.1:45151', 'tcp://127.0.0.1:38495', 'tcp://127.0.0.1:38221', 'tcp://127.0.0.1:44209', 'tcp://127.0.0.1:40715', 'tcp://127.0.0.1:39797', 'tcp://127.0.0.1:42775', 'tcp://127.0.0.1:35551', 'tcp://127.0.0.1:35975', 'tcp://127.0.0.1:33233', 'tcp://127.0.0.1:41407', 'tcp://127.0.0.1:34877', 'tcp://127.0.0.1:38451', 'tcp://127.0.0.1:41261', 'tcp://127.0.0.1:42289', 'tcp://127.0.0.1:33915', 'tcp://127.0.0.1:39423', 'tcp://127.0.0.1:36411', 'tcp://127.0.0.1:35781', 'tcp://127.0.0.1:41423', 'tcp://127.0.0.1:35643', 'tcp://127.0.0.1:34937', 'tcp://127.0.0.1:35787', 'tcp://127.0.0.1:38651', 'tcp://127.0.0.1:40725', 'tcp://127.0.0.1:42183']})\n",
      "2023-03-25 11:38:58,110 - distributed.worker - WARNING - Could not find data: {'function-93b7029776eb46cab712f280207bec52': ['tcp://127.0.0.1:44051', 'tcp://127.0.0.1:45151', 'tcp://127.0.0.1:38495', 'tcp://127.0.0.1:38221', 'tcp://127.0.0.1:44209', 'tcp://127.0.0.1:40715', 'tcp://127.0.0.1:39797', 'tcp://127.0.0.1:42775', 'tcp://127.0.0.1:35551', 'tcp://127.0.0.1:35975', 'tcp://127.0.0.1:33233', 'tcp://127.0.0.1:41407', 'tcp://127.0.0.1:34877', 'tcp://127.0.0.1:38451', 'tcp://127.0.0.1:41261', 'tcp://127.0.0.1:42289', 'tcp://127.0.0.1:33915', 'tcp://127.0.0.1:39423', 'tcp://127.0.0.1:36411', 'tcp://127.0.0.1:35781', 'tcp://127.0.0.1:41423', 'tcp://127.0.0.1:35643', 'tcp://127.0.0.1:34937', 'tcp://127.0.0.1:35787', 'tcp://127.0.0.1:38651', 'tcp://127.0.0.1:40725', 'tcp://127.0.0.1:42183']} on workers: [] (who_has: {'function-93b7029776eb46cab712f280207bec52': ['tcp://127.0.0.1:44051', 'tcp://127.0.0.1:45151', 'tcp://127.0.0.1:38495', 'tcp://127.0.0.1:38221', 'tcp://127.0.0.1:44209', 'tcp://127.0.0.1:40715', 'tcp://127.0.0.1:39797', 'tcp://127.0.0.1:42775', 'tcp://127.0.0.1:35551', 'tcp://127.0.0.1:35975', 'tcp://127.0.0.1:33233', 'tcp://127.0.0.1:41407', 'tcp://127.0.0.1:34877', 'tcp://127.0.0.1:38451', 'tcp://127.0.0.1:41261', 'tcp://127.0.0.1:42289', 'tcp://127.0.0.1:33915', 'tcp://127.0.0.1:39423', 'tcp://127.0.0.1:36411', 'tcp://127.0.0.1:35781', 'tcp://127.0.0.1:41423', 'tcp://127.0.0.1:35643', 'tcp://127.0.0.1:34937', 'tcp://127.0.0.1:35787', 'tcp://127.0.0.1:38651', 'tcp://127.0.0.1:40725', 'tcp://127.0.0.1:42183']})\n",
      "2023-03-25 11:38:58,113 - distributed.worker - WARNING - Could not find data: {'function-93b7029776eb46cab712f280207bec52': ['tcp://127.0.0.1:44051', 'tcp://127.0.0.1:45151', 'tcp://127.0.0.1:38495', 'tcp://127.0.0.1:38221', 'tcp://127.0.0.1:44209', 'tcp://127.0.0.1:40715', 'tcp://127.0.0.1:39797', 'tcp://127.0.0.1:42775', 'tcp://127.0.0.1:35551', 'tcp://127.0.0.1:35975', 'tcp://127.0.0.1:33233', 'tcp://127.0.0.1:41407', 'tcp://127.0.0.1:34877', 'tcp://127.0.0.1:38451', 'tcp://127.0.0.1:41261', 'tcp://127.0.0.1:42289', 'tcp://127.0.0.1:33915', 'tcp://127.0.0.1:39423', 'tcp://127.0.0.1:36411', 'tcp://127.0.0.1:35781', 'tcp://127.0.0.1:41423', 'tcp://127.0.0.1:35643', 'tcp://127.0.0.1:34937', 'tcp://127.0.0.1:35787', 'tcp://127.0.0.1:38651', 'tcp://127.0.0.1:40725', 'tcp://127.0.0.1:42183']} on workers: [] (who_has: {'function-93b7029776eb46cab712f280207bec52': ['tcp://127.0.0.1:44051', 'tcp://127.0.0.1:45151', 'tcp://127.0.0.1:38495', 'tcp://127.0.0.1:38221', 'tcp://127.0.0.1:44209', 'tcp://127.0.0.1:40715', 'tcp://127.0.0.1:39797', 'tcp://127.0.0.1:42775', 'tcp://127.0.0.1:35551', 'tcp://127.0.0.1:35975', 'tcp://127.0.0.1:33233', 'tcp://127.0.0.1:41407', 'tcp://127.0.0.1:34877', 'tcp://127.0.0.1:38451', 'tcp://127.0.0.1:41261', 'tcp://127.0.0.1:42289', 'tcp://127.0.0.1:33915', 'tcp://127.0.0.1:39423', 'tcp://127.0.0.1:36411', 'tcp://127.0.0.1:35781', 'tcp://127.0.0.1:41423', 'tcp://127.0.0.1:35643', 'tcp://127.0.0.1:34937', 'tcp://127.0.0.1:35787', 'tcp://127.0.0.1:38651', 'tcp://127.0.0.1:40725', 'tcp://127.0.0.1:42183']})\n",
      "2023-03-25 11:38:58,114 - distributed.scheduler - WARNING - Worker tcp://127.0.0.1:32993 failed to acquire keys: {'function-93b7029776eb46cab712f280207bec52': ('tcp://127.0.0.1:44051', 'tcp://127.0.0.1:45151', 'tcp://127.0.0.1:38495', 'tcp://127.0.0.1:38221', 'tcp://127.0.0.1:44209', 'tcp://127.0.0.1:40715', 'tcp://127.0.0.1:39797', 'tcp://127.0.0.1:42775', 'tcp://127.0.0.1:35551', 'tcp://127.0.0.1:35975', 'tcp://127.0.0.1:33233', 'tcp://127.0.0.1:41407', 'tcp://127.0.0.1:34877', 'tcp://127.0.0.1:38451', 'tcp://127.0.0.1:41261', 'tcp://127.0.0.1:42289', 'tcp://127.0.0.1:33915', 'tcp://127.0.0.1:39423', 'tcp://127.0.0.1:36411', 'tcp://127.0.0.1:35781', 'tcp://127.0.0.1:41423', 'tcp://127.0.0.1:35643', 'tcp://127.0.0.1:34937', 'tcp://127.0.0.1:35787', 'tcp://127.0.0.1:38651', 'tcp://127.0.0.1:40725', 'tcp://127.0.0.1:42183')}\n"
     ]
    },
    {
     "name": "stderr",
     "output_type": "stream",
     "text": [
      "2023-03-25 11:38:58,115 - distributed.scheduler - WARNING - Worker tcp://127.0.0.1:40645 failed to acquire keys: {'function-93b7029776eb46cab712f280207bec52': ('tcp://127.0.0.1:44051', 'tcp://127.0.0.1:45151', 'tcp://127.0.0.1:38495', 'tcp://127.0.0.1:38221', 'tcp://127.0.0.1:44209', 'tcp://127.0.0.1:40715', 'tcp://127.0.0.1:39797', 'tcp://127.0.0.1:42775', 'tcp://127.0.0.1:35551', 'tcp://127.0.0.1:35975', 'tcp://127.0.0.1:33233', 'tcp://127.0.0.1:41407', 'tcp://127.0.0.1:34877', 'tcp://127.0.0.1:38451', 'tcp://127.0.0.1:41261', 'tcp://127.0.0.1:42289', 'tcp://127.0.0.1:33915', 'tcp://127.0.0.1:39423', 'tcp://127.0.0.1:36411', 'tcp://127.0.0.1:35781', 'tcp://127.0.0.1:41423', 'tcp://127.0.0.1:35643', 'tcp://127.0.0.1:34937', 'tcp://127.0.0.1:35787', 'tcp://127.0.0.1:38651', 'tcp://127.0.0.1:40725', 'tcp://127.0.0.1:42183')}\n"
     ]
    },
    {
     "name": "stderr",
     "output_type": "stream",
     "text": [
      "2023-03-25 11:38:58,116 - distributed.scheduler - WARNING - Worker tcp://127.0.0.1:40873 failed to acquire keys: {'function-93b7029776eb46cab712f280207bec52': ('tcp://127.0.0.1:44051', 'tcp://127.0.0.1:45151', 'tcp://127.0.0.1:38495', 'tcp://127.0.0.1:38221', 'tcp://127.0.0.1:44209', 'tcp://127.0.0.1:40715', 'tcp://127.0.0.1:39797', 'tcp://127.0.0.1:42775', 'tcp://127.0.0.1:35551', 'tcp://127.0.0.1:35975', 'tcp://127.0.0.1:33233', 'tcp://127.0.0.1:41407', 'tcp://127.0.0.1:34877', 'tcp://127.0.0.1:38451', 'tcp://127.0.0.1:41261', 'tcp://127.0.0.1:42289', 'tcp://127.0.0.1:33915', 'tcp://127.0.0.1:39423', 'tcp://127.0.0.1:36411', 'tcp://127.0.0.1:35781', 'tcp://127.0.0.1:41423', 'tcp://127.0.0.1:35643', 'tcp://127.0.0.1:34937', 'tcp://127.0.0.1:35787', 'tcp://127.0.0.1:38651', 'tcp://127.0.0.1:40725', 'tcp://127.0.0.1:42183')}\n"
     ]
    },
    {
     "name": "stderr",
     "output_type": "stream",
     "text": [
      "2023-03-25 11:38:58,116 - distributed.scheduler - WARNING - Worker tcp://127.0.0.1:34175 failed to acquire keys: {'function-93b7029776eb46cab712f280207bec52': ('tcp://127.0.0.1:44051', 'tcp://127.0.0.1:45151', 'tcp://127.0.0.1:38495', 'tcp://127.0.0.1:38221', 'tcp://127.0.0.1:44209', 'tcp://127.0.0.1:40715', 'tcp://127.0.0.1:39797', 'tcp://127.0.0.1:42775', 'tcp://127.0.0.1:35551', 'tcp://127.0.0.1:35975', 'tcp://127.0.0.1:33233', 'tcp://127.0.0.1:41407', 'tcp://127.0.0.1:34877', 'tcp://127.0.0.1:38451', 'tcp://127.0.0.1:41261', 'tcp://127.0.0.1:42289', 'tcp://127.0.0.1:33915', 'tcp://127.0.0.1:39423', 'tcp://127.0.0.1:36411', 'tcp://127.0.0.1:35781', 'tcp://127.0.0.1:41423', 'tcp://127.0.0.1:35643', 'tcp://127.0.0.1:34937', 'tcp://127.0.0.1:35787', 'tcp://127.0.0.1:38651', 'tcp://127.0.0.1:40725', 'tcp://127.0.0.1:42183')}\n"
     ]
    },
    {
     "name": "stderr",
     "output_type": "stream",
     "text": [
      "2023-03-25 11:38:58,118 - distributed.scheduler - WARNING - Worker tcp://127.0.0.1:45355 failed to acquire keys: {'function-93b7029776eb46cab712f280207bec52': ('tcp://127.0.0.1:44051', 'tcp://127.0.0.1:45151', 'tcp://127.0.0.1:38495', 'tcp://127.0.0.1:38221', 'tcp://127.0.0.1:44209', 'tcp://127.0.0.1:40715', 'tcp://127.0.0.1:39797', 'tcp://127.0.0.1:42775', 'tcp://127.0.0.1:35551', 'tcp://127.0.0.1:35975', 'tcp://127.0.0.1:33233', 'tcp://127.0.0.1:41407', 'tcp://127.0.0.1:34877', 'tcp://127.0.0.1:38451', 'tcp://127.0.0.1:41261', 'tcp://127.0.0.1:42289', 'tcp://127.0.0.1:33915', 'tcp://127.0.0.1:39423', 'tcp://127.0.0.1:36411', 'tcp://127.0.0.1:35781', 'tcp://127.0.0.1:41423', 'tcp://127.0.0.1:35643', 'tcp://127.0.0.1:34937', 'tcp://127.0.0.1:35787', 'tcp://127.0.0.1:38651', 'tcp://127.0.0.1:40725', 'tcp://127.0.0.1:42183')}\n"
     ]
    },
    {
     "name": "stderr",
     "output_type": "stream",
     "text": [
      "2023-03-25 11:38:59,954 - distributed.worker - ERROR - Exception during execution of task lambda-c5bf1bde2e9485828fc4a4d050e97c96.\n",
      "Traceback (most recent call last):\n",
      "  File \"/opt/conda/lib/python3.10/site-packages/distributed/worker.py\", line 2390, in _prepare_args_for_execution\n",
      "    data[k] = self.data[k]\n",
      "  File \"/opt/conda/lib/python3.10/site-packages/distributed/spill.py\", line 245, in __getitem__\n",
      "    return super().__getitem__(key)\n",
      "  File \"/opt/conda/lib/python3.10/site-packages/zict/buffer.py\", line 108, in __getitem__\n",
      "    raise KeyError(key)\n",
      "KeyError: '_deploy_dask_func-aecf1a76-bd78-4592-ad04-67292a79fe36'\n",
      "\n",
      "During handling of the above exception, another exception occurred:\n",
      "\n",
      "Traceback (most recent call last):\n",
      "  File \"/opt/conda/lib/python3.10/site-packages/distributed/worker.py\", line 2271, in execute\n",
      "    args2, kwargs2 = self._prepare_args_for_execution(ts, args, kwargs)\n",
      "  File \"/opt/conda/lib/python3.10/site-packages/distributed/worker.py\", line 2394, in _prepare_args_for_execution\n",
      "    data[k] = Actor(type(self.state.actors[k]), self.address, k, self)\n",
      "KeyError: '_deploy_dask_func-aecf1a76-bd78-4592-ad04-67292a79fe36'\n"
     ]
    },
    {
     "name": "stderr",
     "output_type": "stream",
     "text": [
      "RuntimeWarning: divide by zero encountered in log\n"
     ]
    },
    {
     "name": "stderr",
     "output_type": "stream",
     "text": [
      "2023-03-25 11:39:01,809 - distributed.utils_perf - WARNING - full garbage collections took 12% CPU time recently (threshold: 10%)\n"
     ]
    },
    {
     "name": "stderr",
     "output_type": "stream",
     "text": [
      "2023-03-25 11:39:02,919 - distributed.worker - ERROR - Exception during execution of task lambda-073883c7a29c91087c3011096606c99e.\n",
      "Traceback (most recent call last):\n",
      "  File \"/opt/conda/lib/python3.10/site-packages/distributed/worker.py\", line 2390, in _prepare_args_for_execution\n",
      "    data[k] = self.data[k]\n",
      "  File \"/opt/conda/lib/python3.10/site-packages/distributed/spill.py\", line 245, in __getitem__\n",
      "    return super().__getitem__(key)\n",
      "  File \"/opt/conda/lib/python3.10/site-packages/zict/buffer.py\", line 108, in __getitem__\n",
      "    raise KeyError(key)\n",
      "KeyError: '_deploy_dask_func-6de79feb-6d8f-486e-81b2-c53db02b731f'\n",
      "\n",
      "During handling of the above exception, another exception occurred:\n",
      "\n",
      "Traceback (most recent call last):\n",
      "  File \"/opt/conda/lib/python3.10/site-packages/distributed/worker.py\", line 2271, in execute\n",
      "    args2, kwargs2 = self._prepare_args_for_execution(ts, args, kwargs)\n",
      "  File \"/opt/conda/lib/python3.10/site-packages/distributed/worker.py\", line 2394, in _prepare_args_for_execution\n",
      "    data[k] = Actor(type(self.state.actors[k]), self.address, k, self)\n",
      "KeyError: '_deploy_dask_func-6de79feb-6d8f-486e-81b2-c53db02b731f'\n"
     ]
    },
    {
     "name": "stderr",
     "output_type": "stream",
     "text": [
      "UserWarning: Distributing <class 'dict'> object. This may take some time.\n",
      "UserWarning: Group indices computation is not currently supported by PandasOnDask, defaulting to pandas implementation.\n"
     ]
    },
    {
     "name": "stderr",
     "output_type": "stream",
     "text": [
      "2023-03-25 11:39:05,498 - distributed.worker - ERROR - Exception during execution of task lambda-a8b9c4c570ca7fe704b9a868ecf1d5a1.\n",
      "Traceback (most recent call last):\n",
      "  File \"/opt/conda/lib/python3.10/site-packages/distributed/worker.py\", line 2390, in _prepare_args_for_execution\n",
      "    data[k] = self.data[k]\n",
      "  File \"/opt/conda/lib/python3.10/site-packages/distributed/spill.py\", line 245, in __getitem__\n",
      "    return super().__getitem__(key)\n",
      "  File \"/opt/conda/lib/python3.10/site-packages/zict/buffer.py\", line 108, in __getitem__\n",
      "    raise KeyError(key)\n",
      "KeyError: '_deploy_dask_func-21bffa1a-e61f-4d31-89ff-29a3120d752f'\n",
      "\n",
      "During handling of the above exception, another exception occurred:\n",
      "\n",
      "Traceback (most recent call last):\n",
      "  File \"/opt/conda/lib/python3.10/site-packages/distributed/worker.py\", line 2271, in execute\n",
      "    args2, kwargs2 = self._prepare_args_for_execution(ts, args, kwargs)\n",
      "  File \"/opt/conda/lib/python3.10/site-packages/distributed/worker.py\", line 2394, in _prepare_args_for_execution\n",
      "    data[k] = Actor(type(self.state.actors[k]), self.address, k, self)\n",
      "KeyError: '_deploy_dask_func-21bffa1a-e61f-4d31-89ff-29a3120d752f'\n"
     ]
    },
    {
     "name": "stderr",
     "output_type": "stream",
     "text": [
      "2023-03-25 11:39:07,551 - distributed.worker - ERROR - Exception during execution of task lambda-57dbd6882c0d9330f7e2a33ac704333e.\n",
      "Traceback (most recent call last):\n",
      "  File \"/opt/conda/lib/python3.10/site-packages/distributed/worker.py\", line 2390, in _prepare_args_for_execution\n",
      "    data[k] = self.data[k]\n",
      "  File \"/opt/conda/lib/python3.10/site-packages/distributed/spill.py\", line 245, in __getitem__\n",
      "    return super().__getitem__(key)\n",
      "  File \"/opt/conda/lib/python3.10/site-packages/zict/buffer.py\", line 108, in __getitem__\n",
      "    raise KeyError(key)\n",
      "KeyError: '_deploy_dask_func-7f7a0469-b867-4196-9705-1bc4f43a8d3c'\n",
      "\n",
      "During handling of the above exception, another exception occurred:\n",
      "\n",
      "Traceback (most recent call last):\n",
      "  File \"/opt/conda/lib/python3.10/site-packages/distributed/worker.py\", line 2271, in execute\n",
      "    args2, kwargs2 = self._prepare_args_for_execution(ts, args, kwargs)\n",
      "  File \"/opt/conda/lib/python3.10/site-packages/distributed/worker.py\", line 2394, in _prepare_args_for_execution\n",
      "    data[k] = Actor(type(self.state.actors[k]), self.address, k, self)\n",
      "KeyError: '_deploy_dask_func-7f7a0469-b867-4196-9705-1bc4f43a8d3c'\n"
     ]
    },
    {
     "name": "stderr",
     "output_type": "stream",
     "text": [
      "UserWarning: Distributing <class 'dict'> object. This may take some time.\n",
      "UserWarning: Group indices computation is not currently supported by PandasOnDask, defaulting to pandas implementation.\n"
     ]
    },
    {
     "name": "stderr",
     "output_type": "stream",
     "text": [
      "2023-03-25 11:39:10,156 - distributed.utils_perf - WARNING - full garbage collections took 12% CPU time recently (threshold: 10%)\n"
     ]
    },
    {
     "name": "stderr",
     "output_type": "stream",
     "text": [
      "2023-03-25 11:39:13,589 - distributed.worker - ERROR - Exception during execution of task lambda-d800a58b1dfd16864cde99d35baf0da7.\n",
      "Traceback (most recent call last):\n",
      "  File \"/opt/conda/lib/python3.10/site-packages/distributed/worker.py\", line 2390, in _prepare_args_for_execution\n",
      "    data[k] = self.data[k]\n",
      "  File \"/opt/conda/lib/python3.10/site-packages/distributed/spill.py\", line 245, in __getitem__\n",
      "    return super().__getitem__(key)\n",
      "  File \"/opt/conda/lib/python3.10/site-packages/zict/buffer.py\", line 108, in __getitem__\n",
      "    raise KeyError(key)\n",
      "KeyError: '_deploy_dask_func-dbdbdec4-3f76-4945-86e5-dd7199165532'\n",
      "\n",
      "During handling of the above exception, another exception occurred:\n",
      "\n",
      "Traceback (most recent call last):\n",
      "  File \"/opt/conda/lib/python3.10/site-packages/distributed/worker.py\", line 2271, in execute\n",
      "    args2, kwargs2 = self._prepare_args_for_execution(ts, args, kwargs)\n",
      "  File \"/opt/conda/lib/python3.10/site-packages/distributed/worker.py\", line 2394, in _prepare_args_for_execution\n",
      "    data[k] = Actor(type(self.state.actors[k]), self.address, k, self)\n",
      "KeyError: '_deploy_dask_func-dbdbdec4-3f76-4945-86e5-dd7199165532'\n"
     ]
    },
    {
     "name": "stderr",
     "output_type": "stream",
     "text": [
      "UserWarning: Distributing <class 'dict'> object. This may take some time.\n",
      "UserWarning: Group indices computation is not currently supported by PandasOnDask, defaulting to pandas implementation.\n"
     ]
    },
    {
     "name": "stderr",
     "output_type": "stream",
     "text": [
      "2023-03-25 11:39:17,849 - distributed.utils_perf - WARNING - full garbage collections took 12% CPU time recently (threshold: 10%)\n"
     ]
    },
    {
     "name": "stderr",
     "output_type": "stream",
     "text": [
      "2023-03-25 11:39:19,229 - distributed.worker - ERROR - Exception during execution of task lambda-2e32506b2b08a48107154e60c72feb84.\n",
      "Traceback (most recent call last):\n",
      "  File \"/opt/conda/lib/python3.10/site-packages/distributed/worker.py\", line 2390, in _prepare_args_for_execution\n",
      "    data[k] = self.data[k]\n",
      "  File \"/opt/conda/lib/python3.10/site-packages/distributed/spill.py\", line 245, in __getitem__\n",
      "    return super().__getitem__(key)\n",
      "  File \"/opt/conda/lib/python3.10/site-packages/zict/buffer.py\", line 108, in __getitem__\n",
      "    raise KeyError(key)\n",
      "KeyError: '_deploy_dask_func-5c267214-4043-465f-9020-1362058f1fbd'\n",
      "\n",
      "During handling of the above exception, another exception occurred:\n",
      "\n",
      "Traceback (most recent call last):\n",
      "  File \"/opt/conda/lib/python3.10/site-packages/distributed/worker.py\", line 2271, in execute\n",
      "    args2, kwargs2 = self._prepare_args_for_execution(ts, args, kwargs)\n",
      "  File \"/opt/conda/lib/python3.10/site-packages/distributed/worker.py\", line 2394, in _prepare_args_for_execution\n",
      "    data[k] = Actor(type(self.state.actors[k]), self.address, k, self)\n",
      "KeyError: '_deploy_dask_func-5c267214-4043-465f-9020-1362058f1fbd'\n"
     ]
    },
    {
     "name": "stderr",
     "output_type": "stream",
     "text": [
      "RuntimeWarning: divide by zero encountered in log\n"
     ]
    },
    {
     "name": "stderr",
     "output_type": "stream",
     "text": [
      "UserWarning: Distributing <class 'dict'> object. This may take some time.\n",
      "UserWarning: Group indices computation is not currently supported by PandasOnDask, defaulting to pandas implementation.\n"
     ]
    },
    {
     "name": "stderr",
     "output_type": "stream",
     "text": [
      "2023-03-25 11:39:23,580 - distributed.worker - ERROR - Exception during execution of task lambda-36ca11db5f43b4fcb4e1606789d43279.\n",
      "Traceback (most recent call last):\n",
      "  File \"/opt/conda/lib/python3.10/site-packages/distributed/worker.py\", line 2390, in _prepare_args_for_execution\n",
      "    data[k] = self.data[k]\n",
      "  File \"/opt/conda/lib/python3.10/site-packages/distributed/spill.py\", line 245, in __getitem__\n",
      "    return super().__getitem__(key)\n",
      "  File \"/opt/conda/lib/python3.10/site-packages/zict/buffer.py\", line 108, in __getitem__\n",
      "    raise KeyError(key)\n",
      "KeyError: '_deploy_dask_func-d11e2cfc-e46b-4dd0-986e-8f706aa6518e'\n",
      "\n",
      "During handling of the above exception, another exception occurred:\n",
      "\n",
      "Traceback (most recent call last):\n",
      "  File \"/opt/conda/lib/python3.10/site-packages/distributed/worker.py\", line 2271, in execute\n",
      "    args2, kwargs2 = self._prepare_args_for_execution(ts, args, kwargs)\n",
      "  File \"/opt/conda/lib/python3.10/site-packages/distributed/worker.py\", line 2394, in _prepare_args_for_execution\n",
      "    data[k] = Actor(type(self.state.actors[k]), self.address, k, self)\n",
      "KeyError: '_deploy_dask_func-d11e2cfc-e46b-4dd0-986e-8f706aa6518e'\n"
     ]
    },
    {
     "name": "stderr",
     "output_type": "stream",
     "text": [
      "2023-03-25 11:39:25,870 - distributed.utils_perf - WARNING - full garbage collections took 12% CPU time recently (threshold: 10%)\n"
     ]
    },
    {
     "name": "stderr",
     "output_type": "stream",
     "text": [
      "2023-03-25 11:39:26,355 - distributed.worker - ERROR - Exception during execution of task lambda-0c910cc3f4865308301b4510d3daf6f7.\n",
      "Traceback (most recent call last):\n",
      "  File \"/opt/conda/lib/python3.10/site-packages/distributed/worker.py\", line 2390, in _prepare_args_for_execution\n",
      "    data[k] = self.data[k]\n",
      "  File \"/opt/conda/lib/python3.10/site-packages/distributed/spill.py\", line 245, in __getitem__\n",
      "    return super().__getitem__(key)\n",
      "  File \"/opt/conda/lib/python3.10/site-packages/zict/buffer.py\", line 108, in __getitem__\n",
      "    raise KeyError(key)\n",
      "KeyError: '_deploy_dask_func-61990553-908d-48f5-8bad-0372b745cdad'\n",
      "\n",
      "During handling of the above exception, another exception occurred:\n",
      "\n",
      "Traceback (most recent call last):\n",
      "  File \"/opt/conda/lib/python3.10/site-packages/distributed/worker.py\", line 2271, in execute\n",
      "    args2, kwargs2 = self._prepare_args_for_execution(ts, args, kwargs)\n",
      "  File \"/opt/conda/lib/python3.10/site-packages/distributed/worker.py\", line 2394, in _prepare_args_for_execution\n",
      "    data[k] = Actor(type(self.state.actors[k]), self.address, k, self)\n",
      "KeyError: '_deploy_dask_func-61990553-908d-48f5-8bad-0372b745cdad'\n"
     ]
    },
    {
     "name": "stderr",
     "output_type": "stream",
     "text": [
      "UserWarning: Distributing <class 'dict'> object. This may take some time.\n",
      "UserWarning: Group indices computation is not currently supported by PandasOnDask, defaulting to pandas implementation.\n"
     ]
    },
    {
     "name": "stderr",
     "output_type": "stream",
     "text": [
      "RuntimeWarning: divide by zero encountered in log\n"
     ]
    },
    {
     "name": "stderr",
     "output_type": "stream",
     "text": [
      "2023-03-25 11:39:30,313 - distributed.worker - ERROR - Exception during execution of task lambda-dd2e9ea893a318f80e9e18dc99078e6b.\n",
      "Traceback (most recent call last):\n",
      "  File \"/opt/conda/lib/python3.10/site-packages/distributed/worker.py\", line 2390, in _prepare_args_for_execution\n",
      "    data[k] = self.data[k]\n",
      "  File \"/opt/conda/lib/python3.10/site-packages/distributed/spill.py\", line 245, in __getitem__\n",
      "    return super().__getitem__(key)\n",
      "  File \"/opt/conda/lib/python3.10/site-packages/zict/buffer.py\", line 108, in __getitem__\n",
      "    raise KeyError(key)\n",
      "KeyError: '_deploy_dask_func-bdcd3000-ee1b-4de1-af65-6a144c826b47'\n",
      "\n",
      "During handling of the above exception, another exception occurred:\n",
      "\n",
      "Traceback (most recent call last):\n",
      "  File \"/opt/conda/lib/python3.10/site-packages/distributed/worker.py\", line 2271, in execute\n",
      "    args2, kwargs2 = self._prepare_args_for_execution(ts, args, kwargs)\n",
      "  File \"/opt/conda/lib/python3.10/site-packages/distributed/worker.py\", line 2394, in _prepare_args_for_execution\n",
      "    data[k] = Actor(type(self.state.actors[k]), self.address, k, self)\n",
      "KeyError: '_deploy_dask_func-bdcd3000-ee1b-4de1-af65-6a144c826b47'\n"
     ]
    },
    {
     "name": "stderr",
     "output_type": "stream",
     "text": [
      "2023-03-25 11:39:34,002 - distributed.utils_perf - WARNING - full garbage collections took 12% CPU time recently (threshold: 10%)\n"
     ]
    },
    {
     "name": "stderr",
     "output_type": "stream",
     "text": [
      "RuntimeWarning: divide by zero encountered in log\n",
      "UserWarning: Distributing <class 'dict'> object. This may take some time.\n",
      "UserWarning: Group indices computation is not currently supported by PandasOnDask, defaulting to pandas implementation.\n"
     ]
    },
    {
     "name": "stderr",
     "output_type": "stream",
     "text": [
      "2023-03-25 11:39:37,940 - distributed.worker - ERROR - Exception during execution of task lambda-172fdf61cd38facd32d86467a2279b80.\n",
      "Traceback (most recent call last):\n",
      "  File \"/opt/conda/lib/python3.10/site-packages/distributed/worker.py\", line 2390, in _prepare_args_for_execution\n",
      "    data[k] = self.data[k]\n",
      "  File \"/opt/conda/lib/python3.10/site-packages/distributed/spill.py\", line 245, in __getitem__\n",
      "    return super().__getitem__(key)\n",
      "  File \"/opt/conda/lib/python3.10/site-packages/zict/buffer.py\", line 108, in __getitem__\n",
      "    raise KeyError(key)\n",
      "KeyError: '_deploy_dask_func-cf02b3c1-63e5-42e4-a820-53446a2262a6'\n",
      "\n",
      "During handling of the above exception, another exception occurred:\n",
      "\n",
      "Traceback (most recent call last):\n",
      "  File \"/opt/conda/lib/python3.10/site-packages/distributed/worker.py\", line 2271, in execute\n",
      "    args2, kwargs2 = self._prepare_args_for_execution(ts, args, kwargs)\n",
      "  File \"/opt/conda/lib/python3.10/site-packages/distributed/worker.py\", line 2394, in _prepare_args_for_execution\n",
      "    data[k] = Actor(type(self.state.actors[k]), self.address, k, self)\n",
      "KeyError: '_deploy_dask_func-cf02b3c1-63e5-42e4-a820-53446a2262a6'\n"
     ]
    },
    {
     "name": "stderr",
     "output_type": "stream",
     "text": [
      "2023-03-25 11:39:40,409 - distributed.worker - ERROR - Exception during execution of task lambda-fa70548574b6bd543a1344adcbd9c943.\n",
      "Traceback (most recent call last):\n",
      "  File \"/opt/conda/lib/python3.10/site-packages/distributed/worker.py\", line 2390, in _prepare_args_for_execution\n",
      "    data[k] = self.data[k]\n",
      "  File \"/opt/conda/lib/python3.10/site-packages/distributed/spill.py\", line 245, in __getitem__\n",
      "    return super().__getitem__(key)\n",
      "  File \"/opt/conda/lib/python3.10/site-packages/zict/buffer.py\", line 108, in __getitem__\n",
      "    raise KeyError(key)\n",
      "KeyError: '_deploy_dask_func-13c367cb-08b0-48fc-9e80-47ddcafcc0b4'\n",
      "\n",
      "During handling of the above exception, another exception occurred:\n",
      "\n",
      "Traceback (most recent call last):\n",
      "  File \"/opt/conda/lib/python3.10/site-packages/distributed/worker.py\", line 2271, in execute\n",
      "    args2, kwargs2 = self._prepare_args_for_execution(ts, args, kwargs)\n",
      "  File \"/opt/conda/lib/python3.10/site-packages/distributed/worker.py\", line 2394, in _prepare_args_for_execution\n",
      "    data[k] = Actor(type(self.state.actors[k]), self.address, k, self)\n",
      "KeyError: '_deploy_dask_func-13c367cb-08b0-48fc-9e80-47ddcafcc0b4'\n"
     ]
    },
    {
     "name": "stderr",
     "output_type": "stream",
     "text": [
      "2023-03-25 11:39:42,340 - distributed.utils_perf - WARNING - full garbage collections took 12% CPU time recently (threshold: 10%)\n"
     ]
    },
    {
     "name": "stderr",
     "output_type": "stream",
     "text": [
      "UserWarning: Distributing <class 'dict'> object. This may take some time.\n"
     ]
    },
    {
     "name": "stderr",
     "output_type": "stream",
     "text": [
      "UserWarning: Group indices computation is not currently supported by PandasOnDask, defaulting to pandas implementation.\n"
     ]
    },
    {
     "name": "stderr",
     "output_type": "stream",
     "text": [
      "2023-03-25 11:39:43,916 - distributed.worker - ERROR - Exception during execution of task lambda-2be6a222e803a0a936af7a60aef97870.\n",
      "Traceback (most recent call last):\n",
      "  File \"/opt/conda/lib/python3.10/site-packages/distributed/worker.py\", line 2390, in _prepare_args_for_execution\n",
      "    data[k] = self.data[k]\n",
      "  File \"/opt/conda/lib/python3.10/site-packages/distributed/spill.py\", line 245, in __getitem__\n",
      "    return super().__getitem__(key)\n",
      "  File \"/opt/conda/lib/python3.10/site-packages/zict/buffer.py\", line 108, in __getitem__\n",
      "    raise KeyError(key)\n",
      "KeyError: '_deploy_dask_func-f5c27302-c108-4282-bb9c-9addb2c50091'\n",
      "\n",
      "During handling of the above exception, another exception occurred:\n",
      "\n",
      "Traceback (most recent call last):\n",
      "  File \"/opt/conda/lib/python3.10/site-packages/distributed/worker.py\", line 2271, in execute\n",
      "    args2, kwargs2 = self._prepare_args_for_execution(ts, args, kwargs)\n",
      "  File \"/opt/conda/lib/python3.10/site-packages/distributed/worker.py\", line 2394, in _prepare_args_for_execution\n",
      "    data[k] = Actor(type(self.state.actors[k]), self.address, k, self)\n",
      "KeyError: '_deploy_dask_func-f5c27302-c108-4282-bb9c-9addb2c50091'\n"
     ]
    },
    {
     "name": "stderr",
     "output_type": "stream",
     "text": [
      "RuntimeWarning: divide by zero encountered in log\n"
     ]
    },
    {
     "name": "stderr",
     "output_type": "stream",
     "text": [
      "2023-03-25 11:39:47,468 - distributed.worker - ERROR - Exception during execution of task lambda-c1d5d6594f75326bab29dcbec0625593.\n",
      "Traceback (most recent call last):\n",
      "  File \"/opt/conda/lib/python3.10/site-packages/distributed/worker.py\", line 2390, in _prepare_args_for_execution\n",
      "    data[k] = self.data[k]\n",
      "  File \"/opt/conda/lib/python3.10/site-packages/distributed/spill.py\", line 245, in __getitem__\n",
      "    return super().__getitem__(key)\n",
      "  File \"/opt/conda/lib/python3.10/site-packages/zict/buffer.py\", line 108, in __getitem__\n",
      "    raise KeyError(key)\n",
      "KeyError: '_deploy_dask_func-05dc9aca-a619-473b-bdcb-62f16fc3b5c6'\n",
      "\n",
      "During handling of the above exception, another exception occurred:\n",
      "\n",
      "Traceback (most recent call last):\n",
      "  File \"/opt/conda/lib/python3.10/site-packages/distributed/worker.py\", line 2271, in execute\n",
      "    args2, kwargs2 = self._prepare_args_for_execution(ts, args, kwargs)\n",
      "  File \"/opt/conda/lib/python3.10/site-packages/distributed/worker.py\", line 2394, in _prepare_args_for_execution\n",
      "    data[k] = Actor(type(self.state.actors[k]), self.address, k, self)\n",
      "KeyError: '_deploy_dask_func-05dc9aca-a619-473b-bdcb-62f16fc3b5c6'\n"
     ]
    },
    {
     "name": "stderr",
     "output_type": "stream",
     "text": [
      "2023-03-25 11:39:50,827 - distributed.utils_perf - WARNING - full garbage collections took 12% CPU time recently (threshold: 10%)\n"
     ]
    },
    {
     "name": "stderr",
     "output_type": "stream",
     "text": [
      "RuntimeWarning: divide by zero encountered in log\n",
      "UserWarning: Distributing <class 'dict'> object. This may take some time.\n",
      "UserWarning: Group indices computation is not currently supported by PandasOnDask, defaulting to pandas implementation.\n"
     ]
    },
    {
     "name": "stderr",
     "output_type": "stream",
     "text": [
      "2023-03-25 11:39:54,462 - distributed.worker - WARNING - Could not find data: {'function-b33351530e5d487fab135006a5595c34': ['tcp://127.0.0.1:38495', 'tcp://127.0.0.1:46647', 'tcp://127.0.0.1:46237', 'tcp://127.0.0.1:41935', 'tcp://127.0.0.1:38221', 'tcp://127.0.0.1:40561', 'tcp://127.0.0.1:35859', 'tcp://127.0.0.1:39797', 'tcp://127.0.0.1:35551', 'tcp://127.0.0.1:42607', 'tcp://127.0.0.1:45577', 'tcp://127.0.0.1:35975', 'tcp://127.0.0.1:34877', 'tcp://127.0.0.1:40585', 'tcp://127.0.0.1:42289', 'tcp://127.0.0.1:39423', 'tcp://127.0.0.1:45815', 'tcp://127.0.0.1:40195', 'tcp://127.0.0.1:41423', 'tcp://127.0.0.1:45355', 'tcp://127.0.0.1:45349', 'tcp://127.0.0.1:35179', 'tcp://127.0.0.1:35643', 'tcp://127.0.0.1:34597', 'tcp://127.0.0.1:46741', 'tcp://127.0.0.1:38651', 'tcp://127.0.0.1:40725']} on workers: [] (who_has: {'function-b33351530e5d487fab135006a5595c34': ['tcp://127.0.0.1:38495', 'tcp://127.0.0.1:46647', 'tcp://127.0.0.1:46237', 'tcp://127.0.0.1:41935', 'tcp://127.0.0.1:38221', 'tcp://127.0.0.1:40561', 'tcp://127.0.0.1:35859', 'tcp://127.0.0.1:39797', 'tcp://127.0.0.1:35551', 'tcp://127.0.0.1:42607', 'tcp://127.0.0.1:45577', 'tcp://127.0.0.1:35975', 'tcp://127.0.0.1:34877', 'tcp://127.0.0.1:40585', 'tcp://127.0.0.1:42289', 'tcp://127.0.0.1:39423', 'tcp://127.0.0.1:45815', 'tcp://127.0.0.1:40195', 'tcp://127.0.0.1:41423', 'tcp://127.0.0.1:45355', 'tcp://127.0.0.1:45349', 'tcp://127.0.0.1:35179', 'tcp://127.0.0.1:35643', 'tcp://127.0.0.1:34597', 'tcp://127.0.0.1:46741', 'tcp://127.0.0.1:38651', 'tcp://127.0.0.1:40725']})\n",
      "2023-03-25 11:39:54,463 - distributed.scheduler - WARNING - Worker tcp://127.0.0.1:40715 failed to acquire keys: {'function-b33351530e5d487fab135006a5595c34': ('tcp://127.0.0.1:38495', 'tcp://127.0.0.1:46647', 'tcp://127.0.0.1:46237', 'tcp://127.0.0.1:41935', 'tcp://127.0.0.1:38221', 'tcp://127.0.0.1:40561', 'tcp://127.0.0.1:35859', 'tcp://127.0.0.1:39797', 'tcp://127.0.0.1:35551', 'tcp://127.0.0.1:42607', 'tcp://127.0.0.1:45577', 'tcp://127.0.0.1:35975', 'tcp://127.0.0.1:34877', 'tcp://127.0.0.1:40585', 'tcp://127.0.0.1:42289', 'tcp://127.0.0.1:39423', 'tcp://127.0.0.1:45815', 'tcp://127.0.0.1:40195', 'tcp://127.0.0.1:41423', 'tcp://127.0.0.1:45355', 'tcp://127.0.0.1:45349', 'tcp://127.0.0.1:35179', 'tcp://127.0.0.1:35643', 'tcp://127.0.0.1:34597', 'tcp://127.0.0.1:46741', 'tcp://127.0.0.1:38651', 'tcp://127.0.0.1:40725')}\n"
     ]
    },
    {
     "name": "stderr",
     "output_type": "stream",
     "text": [
      "UserWarning: Distributing <class 'dict'> object. This may take some time.\n",
      "UserWarning: Group indices computation is not currently supported by PandasOnDask, defaulting to pandas implementation.\n"
     ]
    },
    {
     "name": "stderr",
     "output_type": "stream",
     "text": [
      "2023-03-25 11:39:57,679 - distributed.worker - ERROR - Exception during execution of task lambda-cf089c974a979b4e5ca91d0774143d85.\n",
      "Traceback (most recent call last):\n",
      "  File \"/opt/conda/lib/python3.10/site-packages/distributed/worker.py\", line 2390, in _prepare_args_for_execution\n",
      "    data[k] = self.data[k]\n",
      "  File \"/opt/conda/lib/python3.10/site-packages/distributed/spill.py\", line 245, in __getitem__\n",
      "    return super().__getitem__(key)\n",
      "  File \"/opt/conda/lib/python3.10/site-packages/zict/buffer.py\", line 108, in __getitem__\n",
      "    raise KeyError(key)\n",
      "KeyError: '_deploy_dask_func-b3907131-406a-49ea-baee-54af8db956f0'\n",
      "\n",
      "During handling of the above exception, another exception occurred:\n",
      "\n",
      "Traceback (most recent call last):\n",
      "  File \"/opt/conda/lib/python3.10/site-packages/distributed/worker.py\", line 2271, in execute\n",
      "    args2, kwargs2 = self._prepare_args_for_execution(ts, args, kwargs)\n",
      "  File \"/opt/conda/lib/python3.10/site-packages/distributed/worker.py\", line 2394, in _prepare_args_for_execution\n",
      "    data[k] = Actor(type(self.state.actors[k]), self.address, k, self)\n",
      "KeyError: '_deploy_dask_func-b3907131-406a-49ea-baee-54af8db956f0'\n"
     ]
    },
    {
     "name": "stderr",
     "output_type": "stream",
     "text": [
      "2023-03-25 11:40:00,144 - distributed.utils_perf - WARNING - full garbage collections took 12% CPU time recently (threshold: 10%)\n"
     ]
    },
    {
     "name": "stderr",
     "output_type": "stream",
     "text": [
      "2023-03-25 11:40:00,384 - distributed.worker - ERROR - Exception during execution of task lambda-3ac367dc2ed22f404ecc2627966c843d.\n",
      "Traceback (most recent call last):\n",
      "  File \"/opt/conda/lib/python3.10/site-packages/distributed/worker.py\", line 2390, in _prepare_args_for_execution\n",
      "    data[k] = self.data[k]\n",
      "  File \"/opt/conda/lib/python3.10/site-packages/distributed/spill.py\", line 245, in __getitem__\n",
      "    return super().__getitem__(key)\n",
      "  File \"/opt/conda/lib/python3.10/site-packages/zict/buffer.py\", line 108, in __getitem__\n",
      "    raise KeyError(key)\n",
      "KeyError: '_deploy_dask_func-1824db54-4c65-4393-b81b-86474d9147ef'\n",
      "\n",
      "During handling of the above exception, another exception occurred:\n",
      "\n",
      "Traceback (most recent call last):\n",
      "  File \"/opt/conda/lib/python3.10/site-packages/distributed/worker.py\", line 2271, in execute\n",
      "    args2, kwargs2 = self._prepare_args_for_execution(ts, args, kwargs)\n",
      "  File \"/opt/conda/lib/python3.10/site-packages/distributed/worker.py\", line 2394, in _prepare_args_for_execution\n",
      "    data[k] = Actor(type(self.state.actors[k]), self.address, k, self)\n",
      "KeyError: '_deploy_dask_func-1824db54-4c65-4393-b81b-86474d9147ef'\n"
     ]
    },
    {
     "name": "stderr",
     "output_type": "stream",
     "text": [
      "UserWarning: Distributing <class 'dict'> object. This may take some time.\n",
      "UserWarning: Group indices computation is not currently supported by PandasOnDask, defaulting to pandas implementation.\n"
     ]
    },
    {
     "name": "stderr",
     "output_type": "stream",
     "text": [
      "2023-03-25 11:40:02,537 - distributed.worker - ERROR - Exception during execution of task lambda-f333713718ef30ba06b1f79579d09751.\n",
      "Traceback (most recent call last):\n",
      "  File \"/opt/conda/lib/python3.10/site-packages/distributed/worker.py\", line 2390, in _prepare_args_for_execution\n",
      "    data[k] = self.data[k]\n",
      "  File \"/opt/conda/lib/python3.10/site-packages/distributed/spill.py\", line 245, in __getitem__\n",
      "    return super().__getitem__(key)\n",
      "  File \"/opt/conda/lib/python3.10/site-packages/zict/buffer.py\", line 108, in __getitem__\n",
      "    raise KeyError(key)\n",
      "KeyError: '_deploy_dask_func-7aad0cd3-3721-4394-859a-d58467d8cd7b'\n",
      "\n",
      "During handling of the above exception, another exception occurred:\n",
      "\n",
      "Traceback (most recent call last):\n",
      "  File \"/opt/conda/lib/python3.10/site-packages/distributed/worker.py\", line 2271, in execute\n",
      "    args2, kwargs2 = self._prepare_args_for_execution(ts, args, kwargs)\n",
      "  File \"/opt/conda/lib/python3.10/site-packages/distributed/worker.py\", line 2394, in _prepare_args_for_execution\n",
      "    data[k] = Actor(type(self.state.actors[k]), self.address, k, self)\n",
      "KeyError: '_deploy_dask_func-7aad0cd3-3721-4394-859a-d58467d8cd7b'\n"
     ]
    },
    {
     "name": "stderr",
     "output_type": "stream",
     "text": [
      "RuntimeWarning: divide by zero encountered in log\n"
     ]
    },
    {
     "name": "stderr",
     "output_type": "stream",
     "text": [
      "UserWarning: Distributing <class 'dict'> object. This may take some time.\n",
      "UserWarning: Group indices computation is not currently supported by PandasOnDask, defaulting to pandas implementation.\n"
     ]
    },
    {
     "name": "stderr",
     "output_type": "stream",
     "text": [
      "2023-03-25 11:40:09,268 - distributed.utils_perf - WARNING - full garbage collections took 12% CPU time recently (threshold: 10%)\n"
     ]
    },
    {
     "name": "stderr",
     "output_type": "stream",
     "text": [
      "2023-03-25 11:40:11,883 - distributed.worker - ERROR - Exception during execution of task lambda-49a09ebb8b60c0198cd803c0ed63dcc6.\n",
      "Traceback (most recent call last):\n",
      "  File \"/opt/conda/lib/python3.10/site-packages/distributed/worker.py\", line 2390, in _prepare_args_for_execution\n",
      "    data[k] = self.data[k]\n",
      "  File \"/opt/conda/lib/python3.10/site-packages/distributed/spill.py\", line 245, in __getitem__\n",
      "    return super().__getitem__(key)\n",
      "  File \"/opt/conda/lib/python3.10/site-packages/zict/buffer.py\", line 108, in __getitem__\n",
      "    raise KeyError(key)\n",
      "KeyError: '_deploy_dask_func-708d2a6a-ab25-4212-a670-5450e9a816d7'\n",
      "\n",
      "During handling of the above exception, another exception occurred:\n",
      "\n",
      "Traceback (most recent call last):\n",
      "  File \"/opt/conda/lib/python3.10/site-packages/distributed/worker.py\", line 2271, in execute\n",
      "    args2, kwargs2 = self._prepare_args_for_execution(ts, args, kwargs)\n",
      "  File \"/opt/conda/lib/python3.10/site-packages/distributed/worker.py\", line 2394, in _prepare_args_for_execution\n",
      "    data[k] = Actor(type(self.state.actors[k]), self.address, k, self)\n",
      "KeyError: '_deploy_dask_func-708d2a6a-ab25-4212-a670-5450e9a816d7'\n"
     ]
    },
    {
     "name": "stderr",
     "output_type": "stream",
     "text": [
      "UserWarning: Distributing <class 'dict'> object. This may take some time.\n",
      "UserWarning: Group indices computation is not currently supported by PandasOnDask, defaulting to pandas implementation.\n"
     ]
    },
    {
     "name": "stderr",
     "output_type": "stream",
     "text": [
      "2023-03-25 11:40:16,338 - distributed.worker - ERROR - Exception during execution of task lambda-3076a4e59f031fe521d8e3584cb09882.\n",
      "Traceback (most recent call last):\n",
      "  File \"/opt/conda/lib/python3.10/site-packages/distributed/worker.py\", line 2390, in _prepare_args_for_execution\n",
      "    data[k] = self.data[k]\n",
      "  File \"/opt/conda/lib/python3.10/site-packages/distributed/spill.py\", line 245, in __getitem__\n",
      "    return super().__getitem__(key)\n",
      "  File \"/opt/conda/lib/python3.10/site-packages/zict/buffer.py\", line 108, in __getitem__\n",
      "    raise KeyError(key)\n",
      "KeyError: '_deploy_dask_func-9c550d2f-18af-41f9-9c8f-0868dc71b42a'\n",
      "\n",
      "During handling of the above exception, another exception occurred:\n",
      "\n",
      "Traceback (most recent call last):\n",
      "  File \"/opt/conda/lib/python3.10/site-packages/distributed/worker.py\", line 2271, in execute\n",
      "    args2, kwargs2 = self._prepare_args_for_execution(ts, args, kwargs)\n",
      "  File \"/opt/conda/lib/python3.10/site-packages/distributed/worker.py\", line 2394, in _prepare_args_for_execution\n",
      "    data[k] = Actor(type(self.state.actors[k]), self.address, k, self)\n",
      "KeyError: '_deploy_dask_func-9c550d2f-18af-41f9-9c8f-0868dc71b42a'\n"
     ]
    },
    {
     "name": "stderr",
     "output_type": "stream",
     "text": [
      "2023-03-25 11:40:17,589 - distributed.utils_perf - WARNING - full garbage collections took 12% CPU time recently (threshold: 10%)\n"
     ]
    },
    {
     "name": "stderr",
     "output_type": "stream",
     "text": [
      "UserWarning: Distributing <class 'dict'> object. This may take some time.\n",
      "UserWarning: Group indices computation is not currently supported by PandasOnDask, defaulting to pandas implementation.\n"
     ]
    },
    {
     "name": "stderr",
     "output_type": "stream",
     "text": [
      "2023-03-25 11:40:19,975 - distributed.worker - ERROR - Exception during execution of task lambda-67d99b12c8acf688c5f200d807b318d9.\n",
      "Traceback (most recent call last):\n",
      "  File \"/opt/conda/lib/python3.10/site-packages/distributed/worker.py\", line 2390, in _prepare_args_for_execution\n",
      "    data[k] = self.data[k]\n",
      "  File \"/opt/conda/lib/python3.10/site-packages/distributed/spill.py\", line 245, in __getitem__\n",
      "    return super().__getitem__(key)\n",
      "  File \"/opt/conda/lib/python3.10/site-packages/zict/buffer.py\", line 108, in __getitem__\n",
      "    raise KeyError(key)\n",
      "KeyError: '_deploy_dask_func-ff880ffa-5448-4776-a7ed-9ae66ff9d7bf'\n",
      "\n",
      "During handling of the above exception, another exception occurred:\n",
      "\n",
      "Traceback (most recent call last):\n",
      "  File \"/opt/conda/lib/python3.10/site-packages/distributed/worker.py\", line 2271, in execute\n",
      "    args2, kwargs2 = self._prepare_args_for_execution(ts, args, kwargs)\n",
      "  File \"/opt/conda/lib/python3.10/site-packages/distributed/worker.py\", line 2394, in _prepare_args_for_execution\n",
      "    data[k] = Actor(type(self.state.actors[k]), self.address, k, self)\n",
      "KeyError: '_deploy_dask_func-ff880ffa-5448-4776-a7ed-9ae66ff9d7bf'\n"
     ]
    },
    {
     "name": "stderr",
     "output_type": "stream",
     "text": [
      "2023-03-25 11:40:22,542 - distributed.worker - ERROR - Exception during execution of task lambda-df0b6199fea986b65141855ec7b4d8f4.\n",
      "Traceback (most recent call last):\n",
      "  File \"/opt/conda/lib/python3.10/site-packages/distributed/worker.py\", line 2390, in _prepare_args_for_execution\n",
      "    data[k] = self.data[k]\n",
      "  File \"/opt/conda/lib/python3.10/site-packages/distributed/spill.py\", line 245, in __getitem__\n",
      "    return super().__getitem__(key)\n",
      "  File \"/opt/conda/lib/python3.10/site-packages/zict/buffer.py\", line 108, in __getitem__\n",
      "    raise KeyError(key)\n",
      "KeyError: '_deploy_dask_func-4ab2ff10-3e8a-4228-a1d5-572108e6d8df'\n",
      "\n",
      "During handling of the above exception, another exception occurred:\n",
      "\n",
      "Traceback (most recent call last):\n",
      "  File \"/opt/conda/lib/python3.10/site-packages/distributed/worker.py\", line 2271, in execute\n",
      "    args2, kwargs2 = self._prepare_args_for_execution(ts, args, kwargs)\n",
      "  File \"/opt/conda/lib/python3.10/site-packages/distributed/worker.py\", line 2394, in _prepare_args_for_execution\n",
      "    data[k] = Actor(type(self.state.actors[k]), self.address, k, self)\n",
      "KeyError: '_deploy_dask_func-4ab2ff10-3e8a-4228-a1d5-572108e6d8df'\n"
     ]
    },
    {
     "name": "stderr",
     "output_type": "stream",
     "text": [
      "2023-03-25 11:40:24,877 - distributed.worker - ERROR - Exception during execution of task lambda-d8d2b0eb5406e8a6b2263e9883c2e1fa.\n",
      "Traceback (most recent call last):\n",
      "  File \"/opt/conda/lib/python3.10/site-packages/distributed/worker.py\", line 2390, in _prepare_args_for_execution\n",
      "    data[k] = self.data[k]\n",
      "  File \"/opt/conda/lib/python3.10/site-packages/distributed/spill.py\", line 245, in __getitem__\n",
      "    return super().__getitem__(key)\n",
      "  File \"/opt/conda/lib/python3.10/site-packages/zict/buffer.py\", line 108, in __getitem__\n",
      "    raise KeyError(key)\n",
      "KeyError: '_deploy_dask_func-d22ba076-8425-45f9-9e46-e77554464c3b'\n",
      "\n",
      "During handling of the above exception, another exception occurred:\n",
      "\n",
      "Traceback (most recent call last):\n",
      "  File \"/opt/conda/lib/python3.10/site-packages/distributed/worker.py\", line 2271, in execute\n",
      "    args2, kwargs2 = self._prepare_args_for_execution(ts, args, kwargs)\n",
      "  File \"/opt/conda/lib/python3.10/site-packages/distributed/worker.py\", line 2394, in _prepare_args_for_execution\n",
      "    data[k] = Actor(type(self.state.actors[k]), self.address, k, self)\n",
      "KeyError: '_deploy_dask_func-d22ba076-8425-45f9-9e46-e77554464c3b'\n"
     ]
    },
    {
     "name": "stderr",
     "output_type": "stream",
     "text": [
      "RuntimeWarning: divide by zero encountered in log\n",
      "UserWarning: Distributing <class 'dict'> object. This may take some time.\n",
      "UserWarning: Group indices computation is not currently supported by PandasOnDask, defaulting to pandas implementation.\n"
     ]
    },
    {
     "name": "stderr",
     "output_type": "stream",
     "text": [
      "2023-03-25 11:40:26,901 - distributed.utils_perf - WARNING - full garbage collections took 11% CPU time recently (threshold: 10%)\n"
     ]
    },
    {
     "name": "stderr",
     "output_type": "stream",
     "text": [
      "2023-03-25 11:40:30,479 - distributed.worker - ERROR - Exception during execution of task lambda-0b2460b656dabaeba5c5903b6f75b39f.\n",
      "Traceback (most recent call last):\n",
      "  File \"/opt/conda/lib/python3.10/site-packages/distributed/worker.py\", line 2390, in _prepare_args_for_execution\n",
      "    data[k] = self.data[k]\n",
      "  File \"/opt/conda/lib/python3.10/site-packages/distributed/spill.py\", line 245, in __getitem__\n",
      "    return super().__getitem__(key)\n",
      "  File \"/opt/conda/lib/python3.10/site-packages/zict/buffer.py\", line 108, in __getitem__\n",
      "    raise KeyError(key)\n",
      "KeyError: '_deploy_dask_func-d7f93a3e-7013-4e08-97a2-80108a13a00e'\n",
      "\n",
      "During handling of the above exception, another exception occurred:\n",
      "\n",
      "Traceback (most recent call last):\n",
      "  File \"/opt/conda/lib/python3.10/site-packages/distributed/worker.py\", line 2271, in execute\n",
      "    args2, kwargs2 = self._prepare_args_for_execution(ts, args, kwargs)\n",
      "  File \"/opt/conda/lib/python3.10/site-packages/distributed/worker.py\", line 2394, in _prepare_args_for_execution\n",
      "    data[k] = Actor(type(self.state.actors[k]), self.address, k, self)\n",
      "KeyError: '_deploy_dask_func-d7f93a3e-7013-4e08-97a2-80108a13a00e'\n"
     ]
    },
    {
     "name": "stderr",
     "output_type": "stream",
     "text": [
      "UserWarning: Distributing <class 'dict'> object. This may take some time.\n",
      "UserWarning: Group indices computation is not currently supported by PandasOnDask, defaulting to pandas implementation.\n"
     ]
    },
    {
     "name": "stderr",
     "output_type": "stream",
     "text": [
      "2023-03-25 11:40:35,808 - distributed.utils_perf - WARNING - full garbage collections took 11% CPU time recently (threshold: 10%)\n"
     ]
    },
    {
     "name": "stderr",
     "output_type": "stream",
     "text": [
      "UserWarning: Distributing <class 'dict'> object. This may take some time.\n",
      "UserWarning: Group indices computation is not currently supported by PandasOnDask, defaulting to pandas implementation.\n"
     ]
    },
    {
     "name": "stderr",
     "output_type": "stream",
     "text": [
      "RuntimeWarning: divide by zero encountered in log\n"
     ]
    },
    {
     "name": "stderr",
     "output_type": "stream",
     "text": [
      "UserWarning: Distributing <class 'dict'> object. This may take some time.\n",
      "UserWarning: Group indices computation is not currently supported by PandasOnDask, defaulting to pandas implementation.\n"
     ]
    },
    {
     "name": "stderr",
     "output_type": "stream",
     "text": [
      "2023-03-25 11:40:45,521 - distributed.utils_perf - WARNING - full garbage collections took 11% CPU time recently (threshold: 10%)\n"
     ]
    },
    {
     "name": "stderr",
     "output_type": "stream",
     "text": [
      "2023-03-25 11:40:54,504 - distributed.utils_perf - WARNING - full garbage collections took 11% CPU time recently (threshold: 10%)\n"
     ]
    },
    {
     "name": "stderr",
     "output_type": "stream",
     "text": [
      "2023-03-25 11:40:54,865 - distributed.worker - ERROR - Exception during execution of task lambda-6599bdb8a99c6e73c5dbf780bf24b4b6.\n",
      "Traceback (most recent call last):\n",
      "  File \"/opt/conda/lib/python3.10/site-packages/distributed/worker.py\", line 2390, in _prepare_args_for_execution\n",
      "    data[k] = self.data[k]\n",
      "  File \"/opt/conda/lib/python3.10/site-packages/distributed/spill.py\", line 245, in __getitem__\n",
      "    return super().__getitem__(key)\n",
      "  File \"/opt/conda/lib/python3.10/site-packages/zict/buffer.py\", line 108, in __getitem__\n",
      "    raise KeyError(key)\n",
      "KeyError: '_deploy_dask_func-d765eab1-64a4-4e8f-9f85-e32934467416'\n",
      "\n",
      "During handling of the above exception, another exception occurred:\n",
      "\n",
      "Traceback (most recent call last):\n",
      "  File \"/opt/conda/lib/python3.10/site-packages/distributed/worker.py\", line 2271, in execute\n",
      "    args2, kwargs2 = self._prepare_args_for_execution(ts, args, kwargs)\n",
      "  File \"/opt/conda/lib/python3.10/site-packages/distributed/worker.py\", line 2394, in _prepare_args_for_execution\n",
      "    data[k] = Actor(type(self.state.actors[k]), self.address, k, self)\n",
      "KeyError: '_deploy_dask_func-d765eab1-64a4-4e8f-9f85-e32934467416'\n"
     ]
    },
    {
     "name": "stderr",
     "output_type": "stream",
     "text": [
      "2023-03-25 11:40:58,040 - distributed.worker - ERROR - Exception during execution of task lambda-8646b5f68b7d6ddef5379aa93ec0862d.\n",
      "Traceback (most recent call last):\n",
      "  File \"/opt/conda/lib/python3.10/site-packages/distributed/worker.py\", line 2390, in _prepare_args_for_execution\n",
      "    data[k] = self.data[k]\n",
      "  File \"/opt/conda/lib/python3.10/site-packages/distributed/spill.py\", line 245, in __getitem__\n",
      "    return super().__getitem__(key)\n",
      "  File \"/opt/conda/lib/python3.10/site-packages/zict/buffer.py\", line 108, in __getitem__\n",
      "    raise KeyError(key)\n",
      "KeyError: '_deploy_dask_func-d063f8b3-283d-469f-af92-32fc4f728fbb'\n",
      "\n",
      "During handling of the above exception, another exception occurred:\n",
      "\n",
      "Traceback (most recent call last):\n",
      "  File \"/opt/conda/lib/python3.10/site-packages/distributed/worker.py\", line 2271, in execute\n",
      "    args2, kwargs2 = self._prepare_args_for_execution(ts, args, kwargs)\n",
      "  File \"/opt/conda/lib/python3.10/site-packages/distributed/worker.py\", line 2394, in _prepare_args_for_execution\n",
      "    data[k] = Actor(type(self.state.actors[k]), self.address, k, self)\n",
      "KeyError: '_deploy_dask_func-d063f8b3-283d-469f-af92-32fc4f728fbb'\n"
     ]
    },
    {
     "name": "stderr",
     "output_type": "stream",
     "text": [
      "RuntimeWarning: divide by zero encountered in log\n",
      "UserWarning: Distributing <class 'dict'> object. This may take some time.\n",
      "UserWarning: Group indices computation is not currently supported by PandasOnDask, defaulting to pandas implementation.\n"
     ]
    },
    {
     "name": "stderr",
     "output_type": "stream",
     "text": [
      "2023-03-25 11:41:00,607 - distributed.worker - ERROR - Exception during execution of task lambda-b56de69d2b3cc91041dcdc6027e55d79.\n",
      "Traceback (most recent call last):\n",
      "  File \"/opt/conda/lib/python3.10/site-packages/distributed/worker.py\", line 2390, in _prepare_args_for_execution\n",
      "    data[k] = self.data[k]\n",
      "  File \"/opt/conda/lib/python3.10/site-packages/distributed/spill.py\", line 245, in __getitem__\n",
      "    return super().__getitem__(key)\n",
      "  File \"/opt/conda/lib/python3.10/site-packages/zict/buffer.py\", line 108, in __getitem__\n",
      "    raise KeyError(key)\n",
      "KeyError: '_deploy_dask_func-7ea6b9a3-a876-45c9-81fa-e50e3ca8a5dd'\n",
      "\n",
      "During handling of the above exception, another exception occurred:\n",
      "\n",
      "Traceback (most recent call last):\n",
      "  File \"/opt/conda/lib/python3.10/site-packages/distributed/worker.py\", line 2271, in execute\n",
      "    args2, kwargs2 = self._prepare_args_for_execution(ts, args, kwargs)\n",
      "  File \"/opt/conda/lib/python3.10/site-packages/distributed/worker.py\", line 2394, in _prepare_args_for_execution\n",
      "    data[k] = Actor(type(self.state.actors[k]), self.address, k, self)\n",
      "KeyError: '_deploy_dask_func-7ea6b9a3-a876-45c9-81fa-e50e3ca8a5dd'\n"
     ]
    },
    {
     "name": "stderr",
     "output_type": "stream",
     "text": [
      "2023-03-25 11:41:03,562 - distributed.utils_perf - WARNING - full garbage collections took 11% CPU time recently (threshold: 10%)\n"
     ]
    },
    {
     "name": "stderr",
     "output_type": "stream",
     "text": [
      "2023-03-25 11:41:05,403 - distributed.worker - ERROR - Exception during execution of task lambda-90794de580f0c29d2932856380feeb1e.\n",
      "Traceback (most recent call last):\n",
      "  File \"/opt/conda/lib/python3.10/site-packages/distributed/worker.py\", line 2390, in _prepare_args_for_execution\n",
      "    data[k] = self.data[k]\n",
      "  File \"/opt/conda/lib/python3.10/site-packages/distributed/spill.py\", line 245, in __getitem__\n",
      "    return super().__getitem__(key)\n",
      "  File \"/opt/conda/lib/python3.10/site-packages/zict/buffer.py\", line 108, in __getitem__\n",
      "    raise KeyError(key)\n",
      "KeyError: '_deploy_dask_func-c5733606-7efd-4eb0-b068-9a24cbb2231a'\n",
      "\n",
      "During handling of the above exception, another exception occurred:\n",
      "\n",
      "Traceback (most recent call last):\n",
      "  File \"/opt/conda/lib/python3.10/site-packages/distributed/worker.py\", line 2271, in execute\n",
      "    args2, kwargs2 = self._prepare_args_for_execution(ts, args, kwargs)\n",
      "  File \"/opt/conda/lib/python3.10/site-packages/distributed/worker.py\", line 2394, in _prepare_args_for_execution\n",
      "    data[k] = Actor(type(self.state.actors[k]), self.address, k, self)\n",
      "KeyError: '_deploy_dask_func-c5733606-7efd-4eb0-b068-9a24cbb2231a'\n"
     ]
    },
    {
     "name": "stderr",
     "output_type": "stream",
     "text": [
      "2023-03-25 11:41:12,934 - distributed.utils_perf - WARNING - full garbage collections took 11% CPU time recently (threshold: 10%)\n"
     ]
    },
    {
     "name": "stderr",
     "output_type": "stream",
     "text": [
      "2023-03-25 11:41:13,458 - distributed.worker - ERROR - Exception during execution of task lambda-98fb06f9564f5b350805e54f03afc3cf.\n",
      "Traceback (most recent call last):\n",
      "  File \"/opt/conda/lib/python3.10/site-packages/distributed/worker.py\", line 2390, in _prepare_args_for_execution\n",
      "    data[k] = self.data[k]\n",
      "  File \"/opt/conda/lib/python3.10/site-packages/distributed/spill.py\", line 245, in __getitem__\n",
      "    return super().__getitem__(key)\n",
      "  File \"/opt/conda/lib/python3.10/site-packages/zict/buffer.py\", line 108, in __getitem__\n",
      "    raise KeyError(key)\n",
      "KeyError: '_deploy_dask_func-8c4a1a60-63af-4d06-977c-d65cf28796b5'\n",
      "\n",
      "During handling of the above exception, another exception occurred:\n",
      "\n",
      "Traceback (most recent call last):\n",
      "  File \"/opt/conda/lib/python3.10/site-packages/distributed/worker.py\", line 2271, in execute\n",
      "    args2, kwargs2 = self._prepare_args_for_execution(ts, args, kwargs)\n",
      "  File \"/opt/conda/lib/python3.10/site-packages/distributed/worker.py\", line 2394, in _prepare_args_for_execution\n",
      "    data[k] = Actor(type(self.state.actors[k]), self.address, k, self)\n",
      "KeyError: '_deploy_dask_func-8c4a1a60-63af-4d06-977c-d65cf28796b5'\n"
     ]
    },
    {
     "name": "stderr",
     "output_type": "stream",
     "text": [
      "RuntimeWarning: divide by zero encountered in log\n",
      "UserWarning: Distributing <class 'dict'> object. This may take some time.\n",
      "UserWarning: Group indices computation is not currently supported by PandasOnDask, defaulting to pandas implementation.\n"
     ]
    },
    {
     "name": "stderr",
     "output_type": "stream",
     "text": [
      "2023-03-25 11:41:21,778 - distributed.utils_perf - WARNING - full garbage collections took 11% CPU time recently (threshold: 10%)\n"
     ]
    },
    {
     "name": "stderr",
     "output_type": "stream",
     "text": [
      "2023-03-25 11:41:25,238 - distributed.worker - ERROR - Exception during execution of task lambda-0fe8b7c501aa00de563255a57dde6ca5.\n",
      "Traceback (most recent call last):\n",
      "  File \"/opt/conda/lib/python3.10/site-packages/distributed/worker.py\", line 2390, in _prepare_args_for_execution\n",
      "    data[k] = self.data[k]\n",
      "  File \"/opt/conda/lib/python3.10/site-packages/distributed/spill.py\", line 245, in __getitem__\n",
      "    return super().__getitem__(key)\n",
      "  File \"/opt/conda/lib/python3.10/site-packages/zict/buffer.py\", line 108, in __getitem__\n",
      "    raise KeyError(key)\n",
      "KeyError: '_deploy_dask_func-3c6755a7-2302-4b2f-9297-d087977b329e'\n",
      "\n",
      "During handling of the above exception, another exception occurred:\n",
      "\n",
      "Traceback (most recent call last):\n",
      "  File \"/opt/conda/lib/python3.10/site-packages/distributed/worker.py\", line 2271, in execute\n",
      "    args2, kwargs2 = self._prepare_args_for_execution(ts, args, kwargs)\n",
      "  File \"/opt/conda/lib/python3.10/site-packages/distributed/worker.py\", line 2394, in _prepare_args_for_execution\n",
      "    data[k] = Actor(type(self.state.actors[k]), self.address, k, self)\n",
      "KeyError: '_deploy_dask_func-3c6755a7-2302-4b2f-9297-d087977b329e'\n"
     ]
    },
    {
     "name": "stderr",
     "output_type": "stream",
     "text": [
      "UserWarning: Distributing <class 'dict'> object. This may take some time.\n"
     ]
    },
    {
     "name": "stderr",
     "output_type": "stream",
     "text": [
      "UserWarning: Group indices computation is not currently supported by PandasOnDask, defaulting to pandas implementation.\n"
     ]
    },
    {
     "name": "stderr",
     "output_type": "stream",
     "text": [
      "2023-03-25 11:41:29,051 - distributed.worker - ERROR - Exception during execution of task lambda-d3788402266718e53a094cadbac9ec9d.\n",
      "Traceback (most recent call last):\n",
      "  File \"/opt/conda/lib/python3.10/site-packages/distributed/worker.py\", line 2390, in _prepare_args_for_execution\n",
      "    data[k] = self.data[k]\n",
      "  File \"/opt/conda/lib/python3.10/site-packages/distributed/spill.py\", line 245, in __getitem__\n",
      "    return super().__getitem__(key)\n",
      "  File \"/opt/conda/lib/python3.10/site-packages/zict/buffer.py\", line 108, in __getitem__\n",
      "    raise KeyError(key)\n",
      "KeyError: '_deploy_dask_func-6f39ef87-e707-4250-b09d-5386b9529d45'\n",
      "\n",
      "During handling of the above exception, another exception occurred:\n",
      "\n",
      "Traceback (most recent call last):\n",
      "  File \"/opt/conda/lib/python3.10/site-packages/distributed/worker.py\", line 2271, in execute\n",
      "    args2, kwargs2 = self._prepare_args_for_execution(ts, args, kwargs)\n",
      "  File \"/opt/conda/lib/python3.10/site-packages/distributed/worker.py\", line 2394, in _prepare_args_for_execution\n",
      "    data[k] = Actor(type(self.state.actors[k]), self.address, k, self)\n",
      "KeyError: '_deploy_dask_func-6f39ef87-e707-4250-b09d-5386b9529d45'\n"
     ]
    },
    {
     "name": "stderr",
     "output_type": "stream",
     "text": [
      "2023-03-25 11:41:31,057 - distributed.utils_perf - WARNING - full garbage collections took 11% CPU time recently (threshold: 10%)\n"
     ]
    },
    {
     "name": "stderr",
     "output_type": "stream",
     "text": [
      "2023-03-25 11:41:39,200 - distributed.worker - ERROR - Exception during execution of task lambda-48558325325e46e3ce114d651bc300d4.\n",
      "Traceback (most recent call last):\n",
      "  File \"/opt/conda/lib/python3.10/site-packages/distributed/worker.py\", line 2390, in _prepare_args_for_execution\n",
      "    data[k] = self.data[k]\n",
      "  File \"/opt/conda/lib/python3.10/site-packages/distributed/spill.py\", line 245, in __getitem__\n",
      "    return super().__getitem__(key)\n",
      "  File \"/opt/conda/lib/python3.10/site-packages/zict/buffer.py\", line 108, in __getitem__\n",
      "    raise KeyError(key)\n",
      "KeyError: '_deploy_dask_func-809ffd96-51ec-451a-8e6a-53f71f98dd48'\n",
      "\n",
      "During handling of the above exception, another exception occurred:\n",
      "\n",
      "Traceback (most recent call last):\n",
      "  File \"/opt/conda/lib/python3.10/site-packages/distributed/worker.py\", line 2271, in execute\n",
      "    args2, kwargs2 = self._prepare_args_for_execution(ts, args, kwargs)\n",
      "  File \"/opt/conda/lib/python3.10/site-packages/distributed/worker.py\", line 2394, in _prepare_args_for_execution\n",
      "    data[k] = Actor(type(self.state.actors[k]), self.address, k, self)\n",
      "KeyError: '_deploy_dask_func-809ffd96-51ec-451a-8e6a-53f71f98dd48'\n"
     ]
    },
    {
     "name": "stderr",
     "output_type": "stream",
     "text": [
      "2023-03-25 11:41:40,454 - distributed.utils_perf - WARNING - full garbage collections took 11% CPU time recently (threshold: 10%)\n"
     ]
    },
    {
     "name": "stderr",
     "output_type": "stream",
     "text": [
      "RuntimeWarning: divide by zero encountered in log\n",
      "UserWarning: Distributing <class 'dict'> object. This may take some time.\n",
      "UserWarning: Group indices computation is not currently supported by PandasOnDask, defaulting to pandas implementation.\n"
     ]
    },
    {
     "name": "stderr",
     "output_type": "stream",
     "text": [
      "2023-03-25 11:41:50,027 - distributed.utils_perf - WARNING - full garbage collections took 11% CPU time recently (threshold: 10%)\n"
     ]
    },
    {
     "name": "stderr",
     "output_type": "stream",
     "text": [
      "UserWarning: Distributing <class 'dict'> object. This may take some time.\n",
      "UserWarning: Group indices computation is not currently supported by PandasOnDask, defaulting to pandas implementation.\n"
     ]
    },
    {
     "name": "stderr",
     "output_type": "stream",
     "text": [
      "2023-03-25 11:41:59,658 - distributed.utils_perf - WARNING - full garbage collections took 11% CPU time recently (threshold: 10%)\n"
     ]
    },
    {
     "name": "stderr",
     "output_type": "stream",
     "text": [
      "UserWarning: Distributing <class 'dict'> object. This may take some time.\n",
      "UserWarning: Group indices computation is not currently supported by PandasOnDask, defaulting to pandas implementation.\n"
     ]
    },
    {
     "name": "stderr",
     "output_type": "stream",
     "text": [
      "2023-03-25 11:42:05,533 - distributed.worker - ERROR - Exception during execution of task lambda-0bec74055f63614e2b1ab1f574d5aa49.\n",
      "Traceback (most recent call last):\n",
      "  File \"/opt/conda/lib/python3.10/site-packages/distributed/worker.py\", line 2390, in _prepare_args_for_execution\n",
      "    data[k] = self.data[k]\n",
      "  File \"/opt/conda/lib/python3.10/site-packages/distributed/spill.py\", line 245, in __getitem__\n",
      "    return super().__getitem__(key)\n",
      "  File \"/opt/conda/lib/python3.10/site-packages/zict/buffer.py\", line 108, in __getitem__\n",
      "    raise KeyError(key)\n",
      "KeyError: '_deploy_dask_func-eefd22c7-b2f0-48fe-9c06-9ace5a5e0a32'\n",
      "\n",
      "During handling of the above exception, another exception occurred:\n",
      "\n",
      "Traceback (most recent call last):\n",
      "  File \"/opt/conda/lib/python3.10/site-packages/distributed/worker.py\", line 2271, in execute\n",
      "    args2, kwargs2 = self._prepare_args_for_execution(ts, args, kwargs)\n",
      "  File \"/opt/conda/lib/python3.10/site-packages/distributed/worker.py\", line 2394, in _prepare_args_for_execution\n",
      "    data[k] = Actor(type(self.state.actors[k]), self.address, k, self)\n",
      "KeyError: '_deploy_dask_func-eefd22c7-b2f0-48fe-9c06-9ace5a5e0a32'\n"
     ]
    },
    {
     "name": "stderr",
     "output_type": "stream",
     "text": [
      "2023-03-25 11:42:09,417 - distributed.utils_perf - WARNING - full garbage collections took 11% CPU time recently (threshold: 10%)\n"
     ]
    },
    {
     "name": "stderr",
     "output_type": "stream",
     "text": [
      "UserWarning: Distributing <class 'dict'> object. This may take some time.\n",
      "2023-03-25 11:42:15,648 - distributed.worker - ERROR - Exception during execution of task lambda-9cafd10f3272efa87eebada085ba62b7.\n",
      "Traceback (most recent call last):\n",
      "  File \"/opt/conda/lib/python3.10/site-packages/distributed/worker.py\", line 2390, in _prepare_args_for_execution\n",
      "    data[k] = self.data[k]\n",
      "  File \"/opt/conda/lib/python3.10/site-packages/distributed/spill.py\", line 245, in __getitem__\n",
      "    return super().__getitem__(key)\n",
      "  File \"/opt/conda/lib/python3.10/site-packages/zict/buffer.py\", line 108, in __getitem__\n",
      "    raise KeyError(key)\n",
      "KeyError: 'apply_list_of_funcs-2124995f-1937-4e82-8e28-3051ff06fd9b'\n",
      "\n",
      "During handling of the above exception, another exception occurred:\n",
      "\n",
      "Traceback (most recent call last):\n",
      "  File \"/opt/conda/lib/python3.10/site-packages/distributed/worker.py\", line 2271, in execute\n",
      "    args2, kwargs2 = self._prepare_args_for_execution(ts, args, kwargs)\n",
      "  File \"/opt/conda/lib/python3.10/site-packages/distributed/worker.py\", line 2394, in _prepare_args_for_execution\n",
      "    data[k] = Actor(type(self.state.actors[k]), self.address, k, self)\n",
      "KeyError: 'apply_list_of_funcs-2124995f-1937-4e82-8e28-3051ff06fd9b'\n",
      "UserWarning: Group indices computation is not currently supported by PandasOnDask, defaulting to pandas implementation.\n"
     ]
    },
    {
     "name": "stderr",
     "output_type": "stream",
     "text": [
      "2023-03-25 11:42:18,616 - distributed.utils_perf - WARNING - full garbage collections took 11% CPU time recently (threshold: 10%)\n"
     ]
    },
    {
     "name": "stderr",
     "output_type": "stream",
     "text": [
      "2023-03-25 11:42:21,295 - distributed.worker - ERROR - Exception during execution of task lambda-8188bb5593b483d1791a7999f8868a91.\n",
      "Traceback (most recent call last):\n",
      "  File \"/opt/conda/lib/python3.10/site-packages/distributed/worker.py\", line 2390, in _prepare_args_for_execution\n",
      "    data[k] = self.data[k]\n",
      "  File \"/opt/conda/lib/python3.10/site-packages/distributed/spill.py\", line 245, in __getitem__\n",
      "    return super().__getitem__(key)\n",
      "  File \"/opt/conda/lib/python3.10/site-packages/zict/buffer.py\", line 108, in __getitem__\n",
      "    raise KeyError(key)\n",
      "KeyError: '_deploy_dask_func-eb03cd69-a7d1-43bb-8652-19a74b093e3b'\n",
      "\n",
      "During handling of the above exception, another exception occurred:\n",
      "\n",
      "Traceback (most recent call last):\n",
      "  File \"/opt/conda/lib/python3.10/site-packages/distributed/worker.py\", line 2271, in execute\n",
      "    args2, kwargs2 = self._prepare_args_for_execution(ts, args, kwargs)\n",
      "  File \"/opt/conda/lib/python3.10/site-packages/distributed/worker.py\", line 2394, in _prepare_args_for_execution\n",
      "    data[k] = Actor(type(self.state.actors[k]), self.address, k, self)\n",
      "KeyError: '_deploy_dask_func-eb03cd69-a7d1-43bb-8652-19a74b093e3b'\n"
     ]
    },
    {
     "name": "stderr",
     "output_type": "stream",
     "text": [
      "2023-03-25 11:42:27,885 - distributed.utils_perf - WARNING - full garbage collections took 11% CPU time recently (threshold: 10%)\n"
     ]
    },
    {
     "name": "stderr",
     "output_type": "stream",
     "text": [
      "UserWarning: Distributing <class 'dict'> object. This may take some time.\n",
      "UserWarning: Group indices computation is not currently supported by PandasOnDask, defaulting to pandas implementation.\n"
     ]
    },
    {
     "name": "stderr",
     "output_type": "stream",
     "text": [
      "2023-03-25 11:42:37,165 - distributed.utils_perf - WARNING - full garbage collections took 11% CPU time recently (threshold: 10%)\n"
     ]
    },
    {
     "name": "stderr",
     "output_type": "stream",
     "text": [
      "2023-03-25 11:42:37,878 - distributed.worker - ERROR - Exception during execution of task lambda-0e2ffc21a4c31a2aedb2b34b868309e6.\n",
      "Traceback (most recent call last):\n",
      "  File \"/opt/conda/lib/python3.10/site-packages/distributed/worker.py\", line 2390, in _prepare_args_for_execution\n",
      "    data[k] = self.data[k]\n",
      "  File \"/opt/conda/lib/python3.10/site-packages/distributed/spill.py\", line 245, in __getitem__\n",
      "    return super().__getitem__(key)\n",
      "  File \"/opt/conda/lib/python3.10/site-packages/zict/buffer.py\", line 108, in __getitem__\n",
      "    raise KeyError(key)\n",
      "KeyError: '_deploy_dask_func-41f9dc14-d7f1-4216-84ba-052df23f514c'\n",
      "\n",
      "During handling of the above exception, another exception occurred:\n",
      "\n",
      "Traceback (most recent call last):\n",
      "  File \"/opt/conda/lib/python3.10/site-packages/distributed/worker.py\", line 2271, in execute\n",
      "    args2, kwargs2 = self._prepare_args_for_execution(ts, args, kwargs)\n",
      "  File \"/opt/conda/lib/python3.10/site-packages/distributed/worker.py\", line 2394, in _prepare_args_for_execution\n",
      "    data[k] = Actor(type(self.state.actors[k]), self.address, k, self)\n",
      "KeyError: '_deploy_dask_func-41f9dc14-d7f1-4216-84ba-052df23f514c'\n"
     ]
    },
    {
     "name": "stderr",
     "output_type": "stream",
     "text": [
      "UserWarning: Distributing <class 'dict'> object. This may take some time.\n",
      "UserWarning: Group indices computation is not currently supported by PandasOnDask, defaulting to pandas implementation.\n"
     ]
    },
    {
     "name": "stderr",
     "output_type": "stream",
     "text": [
      "2023-03-25 11:42:45,288 - distributed.worker - ERROR - Exception during execution of task lambda-2b446f2302666b773aedb11d2288f465.\n",
      "Traceback (most recent call last):\n",
      "  File \"/opt/conda/lib/python3.10/site-packages/distributed/worker.py\", line 2390, in _prepare_args_for_execution\n",
      "    data[k] = self.data[k]\n",
      "  File \"/opt/conda/lib/python3.10/site-packages/distributed/spill.py\", line 245, in __getitem__\n",
      "    return super().__getitem__(key)\n",
      "  File \"/opt/conda/lib/python3.10/site-packages/zict/buffer.py\", line 108, in __getitem__\n",
      "    raise KeyError(key)\n",
      "KeyError: '_deploy_dask_func-b1a9c4ba-0a10-48ac-a750-3cf9e5ba0ec1'\n",
      "\n",
      "During handling of the above exception, another exception occurred:\n",
      "\n",
      "Traceback (most recent call last):\n",
      "  File \"/opt/conda/lib/python3.10/site-packages/distributed/worker.py\", line 2271, in execute\n",
      "    args2, kwargs2 = self._prepare_args_for_execution(ts, args, kwargs)\n",
      "  File \"/opt/conda/lib/python3.10/site-packages/distributed/worker.py\", line 2394, in _prepare_args_for_execution\n",
      "    data[k] = Actor(type(self.state.actors[k]), self.address, k, self)\n",
      "KeyError: '_deploy_dask_func-b1a9c4ba-0a10-48ac-a750-3cf9e5ba0ec1'\n"
     ]
    },
    {
     "name": "stderr",
     "output_type": "stream",
     "text": [
      "2023-03-25 11:42:47,089 - distributed.utils_perf - WARNING - full garbage collections took 11% CPU time recently (threshold: 10%)\n"
     ]
    },
    {
     "name": "stderr",
     "output_type": "stream",
     "text": [
      "2023-03-25 11:42:49,453 - distributed.worker - ERROR - Exception during execution of task lambda-17e62119cbcd398edd8f700c5169b49e.\n",
      "Traceback (most recent call last):\n",
      "  File \"/opt/conda/lib/python3.10/site-packages/distributed/worker.py\", line 2390, in _prepare_args_for_execution\n",
      "    data[k] = self.data[k]\n",
      "  File \"/opt/conda/lib/python3.10/site-packages/distributed/spill.py\", line 245, in __getitem__\n",
      "    return super().__getitem__(key)\n",
      "  File \"/opt/conda/lib/python3.10/site-packages/zict/buffer.py\", line 108, in __getitem__\n",
      "    raise KeyError(key)\n",
      "KeyError: '_deploy_dask_func-0ca73e9e-066c-421c-b7df-3048750ff165'\n",
      "\n",
      "During handling of the above exception, another exception occurred:\n",
      "\n",
      "Traceback (most recent call last):\n",
      "  File \"/opt/conda/lib/python3.10/site-packages/distributed/worker.py\", line 2271, in execute\n",
      "    args2, kwargs2 = self._prepare_args_for_execution(ts, args, kwargs)\n",
      "  File \"/opt/conda/lib/python3.10/site-packages/distributed/worker.py\", line 2394, in _prepare_args_for_execution\n",
      "    data[k] = Actor(type(self.state.actors[k]), self.address, k, self)\n",
      "KeyError: '_deploy_dask_func-0ca73e9e-066c-421c-b7df-3048750ff165'\n"
     ]
    },
    {
     "name": "stderr",
     "output_type": "stream",
     "text": [
      "UserWarning: Distributing <class 'dict'> object. This may take some time.\n",
      "UserWarning: Group indices computation is not currently supported by PandasOnDask, defaulting to pandas implementation.\n"
     ]
    },
    {
     "name": "stderr",
     "output_type": "stream",
     "text": [
      "2023-03-25 11:42:52,961 - distributed.worker - ERROR - Exception during execution of task lambda-fbdc3151594491f80527820cad51e920.\n",
      "Traceback (most recent call last):\n",
      "  File \"/opt/conda/lib/python3.10/site-packages/distributed/worker.py\", line 2390, in _prepare_args_for_execution\n",
      "    data[k] = self.data[k]\n",
      "  File \"/opt/conda/lib/python3.10/site-packages/distributed/spill.py\", line 245, in __getitem__\n",
      "    return super().__getitem__(key)\n",
      "  File \"/opt/conda/lib/python3.10/site-packages/zict/buffer.py\", line 108, in __getitem__\n",
      "    raise KeyError(key)\n",
      "KeyError: '_deploy_dask_func-c0b48dcd-294a-4ff0-b305-7b18750c5bd4'\n",
      "\n",
      "During handling of the above exception, another exception occurred:\n",
      "\n",
      "Traceback (most recent call last):\n",
      "  File \"/opt/conda/lib/python3.10/site-packages/distributed/worker.py\", line 2271, in execute\n",
      "    args2, kwargs2 = self._prepare_args_for_execution(ts, args, kwargs)\n",
      "  File \"/opt/conda/lib/python3.10/site-packages/distributed/worker.py\", line 2394, in _prepare_args_for_execution\n",
      "    data[k] = Actor(type(self.state.actors[k]), self.address, k, self)\n",
      "KeyError: '_deploy_dask_func-c0b48dcd-294a-4ff0-b305-7b18750c5bd4'\n"
     ]
    },
    {
     "name": "stderr",
     "output_type": "stream",
     "text": [
      "2023-03-25 11:42:56,818 - distributed.utils_perf - WARNING - full garbage collections took 11% CPU time recently (threshold: 10%)\n"
     ]
    },
    {
     "name": "stderr",
     "output_type": "stream",
     "text": [
      "2023-03-25 11:43:01,918 - distributed.worker - ERROR - Exception during execution of task lambda-aa8e0b8d1d3098030a65f73d3fcca7a5.\n",
      "Traceback (most recent call last):\n",
      "  File \"/opt/conda/lib/python3.10/site-packages/distributed/worker.py\", line 2390, in _prepare_args_for_execution\n",
      "    data[k] = self.data[k]\n",
      "  File \"/opt/conda/lib/python3.10/site-packages/distributed/spill.py\", line 245, in __getitem__\n",
      "    return super().__getitem__(key)\n",
      "  File \"/opt/conda/lib/python3.10/site-packages/zict/buffer.py\", line 108, in __getitem__\n",
      "    raise KeyError(key)\n",
      "KeyError: '_deploy_dask_func-5e8cddd8-46db-4cb1-bc89-2a6d7ee92550'\n",
      "\n",
      "During handling of the above exception, another exception occurred:\n",
      "\n",
      "Traceback (most recent call last):\n",
      "  File \"/opt/conda/lib/python3.10/site-packages/distributed/worker.py\", line 2271, in execute\n",
      "    args2, kwargs2 = self._prepare_args_for_execution(ts, args, kwargs)\n",
      "  File \"/opt/conda/lib/python3.10/site-packages/distributed/worker.py\", line 2394, in _prepare_args_for_execution\n",
      "    data[k] = Actor(type(self.state.actors[k]), self.address, k, self)\n",
      "KeyError: '_deploy_dask_func-5e8cddd8-46db-4cb1-bc89-2a6d7ee92550'\n"
     ]
    },
    {
     "name": "stderr",
     "output_type": "stream",
     "text": [
      "UserWarning: Distributing <class 'dict'> object. This may take some time.\n",
      "UserWarning: Group indices computation is not currently supported by PandasOnDask, defaulting to pandas implementation.\n"
     ]
    },
    {
     "name": "stderr",
     "output_type": "stream",
     "text": [
      "2023-03-25 11:43:06,447 - distributed.utils_perf - WARNING - full garbage collections took 12% CPU time recently (threshold: 10%)\n"
     ]
    },
    {
     "name": "stderr",
     "output_type": "stream",
     "text": [
      "2023-03-25 11:43:14,223 - distributed.worker - ERROR - Exception during execution of task lambda-0629efd4da09cce10d4839b1707f436b.\n",
      "Traceback (most recent call last):\n",
      "  File \"/opt/conda/lib/python3.10/site-packages/distributed/worker.py\", line 2390, in _prepare_args_for_execution\n",
      "    data[k] = self.data[k]\n",
      "  File \"/opt/conda/lib/python3.10/site-packages/distributed/spill.py\", line 245, in __getitem__\n",
      "    return super().__getitem__(key)\n",
      "  File \"/opt/conda/lib/python3.10/site-packages/zict/buffer.py\", line 108, in __getitem__\n",
      "    raise KeyError(key)\n",
      "KeyError: '_deploy_dask_func-031ef69f-6a27-4bd8-b415-8ccaa7548878'\n",
      "\n",
      "During handling of the above exception, another exception occurred:\n",
      "\n",
      "Traceback (most recent call last):\n",
      "  File \"/opt/conda/lib/python3.10/site-packages/distributed/worker.py\", line 2271, in execute\n",
      "    args2, kwargs2 = self._prepare_args_for_execution(ts, args, kwargs)\n",
      "  File \"/opt/conda/lib/python3.10/site-packages/distributed/worker.py\", line 2394, in _prepare_args_for_execution\n",
      "    data[k] = Actor(type(self.state.actors[k]), self.address, k, self)\n",
      "KeyError: '_deploy_dask_func-031ef69f-6a27-4bd8-b415-8ccaa7548878'\n"
     ]
    },
    {
     "name": "stderr",
     "output_type": "stream",
     "text": [
      "2023-03-25 11:43:16,024 - distributed.utils_perf - WARNING - full garbage collections took 12% CPU time recently (threshold: 10%)\n"
     ]
    },
    {
     "name": "stderr",
     "output_type": "stream",
     "text": [
      "UserWarning: Distributing <class 'dict'> object. This may take some time.\n",
      "UserWarning: Group indices computation is not currently supported by PandasOnDask, defaulting to pandas implementation.\n"
     ]
    },
    {
     "name": "stderr",
     "output_type": "stream",
     "text": [
      "2023-03-25 11:43:19,244 - distributed.worker - ERROR - Exception during execution of task lambda-c60601a2a4489e21fda56a49aeee4651.\n",
      "Traceback (most recent call last):\n",
      "  File \"/opt/conda/lib/python3.10/site-packages/distributed/worker.py\", line 2390, in _prepare_args_for_execution\n",
      "    data[k] = self.data[k]\n",
      "  File \"/opt/conda/lib/python3.10/site-packages/distributed/spill.py\", line 245, in __getitem__\n",
      "    return super().__getitem__(key)\n",
      "  File \"/opt/conda/lib/python3.10/site-packages/zict/buffer.py\", line 108, in __getitem__\n",
      "    raise KeyError(key)\n",
      "KeyError: '_deploy_dask_func-cb0b2f7c-de4b-4261-a844-53f9138139e0'\n",
      "\n",
      "During handling of the above exception, another exception occurred:\n",
      "\n",
      "Traceback (most recent call last):\n",
      "  File \"/opt/conda/lib/python3.10/site-packages/distributed/worker.py\", line 2271, in execute\n",
      "    args2, kwargs2 = self._prepare_args_for_execution(ts, args, kwargs)\n",
      "  File \"/opt/conda/lib/python3.10/site-packages/distributed/worker.py\", line 2394, in _prepare_args_for_execution\n",
      "    data[k] = Actor(type(self.state.actors[k]), self.address, k, self)\n",
      "KeyError: '_deploy_dask_func-cb0b2f7c-de4b-4261-a844-53f9138139e0'\n"
     ]
    },
    {
     "name": "stderr",
     "output_type": "stream",
     "text": [
      "2023-03-25 11:43:26,680 - distributed.utils_perf - WARNING - full garbage collections took 12% CPU time recently (threshold: 10%)\n"
     ]
    },
    {
     "name": "stderr",
     "output_type": "stream",
     "text": [
      "UserWarning: Distributing <class 'dict'> object. This may take some time.\n",
      "UserWarning: Group indices computation is not currently supported by PandasOnDask, defaulting to pandas implementation.\n"
     ]
    },
    {
     "name": "stderr",
     "output_type": "stream",
     "text": [
      "2023-03-25 11:43:32,414 - distributed.worker - ERROR - Exception during execution of task lambda-fb2edb660e513bde618d24b9382b47a1.\n",
      "Traceback (most recent call last):\n",
      "  File \"/opt/conda/lib/python3.10/site-packages/distributed/worker.py\", line 2390, in _prepare_args_for_execution\n",
      "    data[k] = self.data[k]\n",
      "  File \"/opt/conda/lib/python3.10/site-packages/distributed/spill.py\", line 245, in __getitem__\n",
      "    return super().__getitem__(key)\n",
      "  File \"/opt/conda/lib/python3.10/site-packages/zict/buffer.py\", line 108, in __getitem__\n",
      "    raise KeyError(key)\n",
      "KeyError: '_deploy_dask_func-e70a614e-f015-4ecb-bf19-e6b5df18fbff'\n",
      "\n",
      "During handling of the above exception, another exception occurred:\n",
      "\n",
      "Traceback (most recent call last):\n",
      "  File \"/opt/conda/lib/python3.10/site-packages/distributed/worker.py\", line 2271, in execute\n",
      "    args2, kwargs2 = self._prepare_args_for_execution(ts, args, kwargs)\n",
      "  File \"/opt/conda/lib/python3.10/site-packages/distributed/worker.py\", line 2394, in _prepare_args_for_execution\n",
      "    data[k] = Actor(type(self.state.actors[k]), self.address, k, self)\n",
      "KeyError: '_deploy_dask_func-e70a614e-f015-4ecb-bf19-e6b5df18fbff'\n"
     ]
    },
    {
     "name": "stderr",
     "output_type": "stream",
     "text": [
      "2023-03-25 11:43:36,638 - distributed.utils_perf - WARNING - full garbage collections took 12% CPU time recently (threshold: 10%)\n"
     ]
    },
    {
     "name": "stderr",
     "output_type": "stream",
     "text": [
      "2023-03-25 11:43:42,215 - distributed.worker - ERROR - Exception during execution of task lambda-1ba4975c198ccc6f8e62c342c553707f.\n",
      "Traceback (most recent call last):\n",
      "  File \"/opt/conda/lib/python3.10/site-packages/distributed/worker.py\", line 2390, in _prepare_args_for_execution\n",
      "    data[k] = self.data[k]\n",
      "  File \"/opt/conda/lib/python3.10/site-packages/distributed/spill.py\", line 245, in __getitem__\n",
      "    return super().__getitem__(key)\n",
      "  File \"/opt/conda/lib/python3.10/site-packages/zict/buffer.py\", line 108, in __getitem__\n",
      "    raise KeyError(key)\n",
      "KeyError: '_deploy_dask_func-b65ce1a4-90bb-49ca-a130-6b49301b7c98'\n",
      "\n",
      "During handling of the above exception, another exception occurred:\n",
      "\n",
      "Traceback (most recent call last):\n",
      "  File \"/opt/conda/lib/python3.10/site-packages/distributed/worker.py\", line 2271, in execute\n",
      "    args2, kwargs2 = self._prepare_args_for_execution(ts, args, kwargs)\n",
      "  File \"/opt/conda/lib/python3.10/site-packages/distributed/worker.py\", line 2394, in _prepare_args_for_execution\n",
      "    data[k] = Actor(type(self.state.actors[k]), self.address, k, self)\n",
      "KeyError: '_deploy_dask_func-b65ce1a4-90bb-49ca-a130-6b49301b7c98'\n"
     ]
    },
    {
     "name": "stderr",
     "output_type": "stream",
     "text": [
      "RuntimeWarning: divide by zero encountered in log\n",
      "UserWarning: Distributing <class 'dict'> object. This may take some time.\n",
      "UserWarning: Group indices computation is not currently supported by PandasOnDask, defaulting to pandas implementation.\n"
     ]
    },
    {
     "name": "stderr",
     "output_type": "stream",
     "text": [
      "2023-03-25 11:43:46,345 - distributed.utils_perf - WARNING - full garbage collections took 12% CPU time recently (threshold: 10%)\n"
     ]
    },
    {
     "name": "stderr",
     "output_type": "stream",
     "text": [
      "2023-03-25 11:43:52,227 - distributed.worker - ERROR - Exception during execution of task lambda-28b8b4f4bad23ff97babf425bd4b32fd.\n",
      "Traceback (most recent call last):\n",
      "  File \"/opt/conda/lib/python3.10/site-packages/distributed/worker.py\", line 2390, in _prepare_args_for_execution\n",
      "    data[k] = self.data[k]\n",
      "  File \"/opt/conda/lib/python3.10/site-packages/distributed/spill.py\", line 245, in __getitem__\n",
      "    return super().__getitem__(key)\n",
      "  File \"/opt/conda/lib/python3.10/site-packages/zict/buffer.py\", line 108, in __getitem__\n",
      "    raise KeyError(key)\n",
      "KeyError: '_deploy_dask_func-01521348-9d50-46e6-80c0-5aa85f09f18b'\n",
      "\n",
      "During handling of the above exception, another exception occurred:\n",
      "\n",
      "Traceback (most recent call last):\n",
      "  File \"/opt/conda/lib/python3.10/site-packages/distributed/worker.py\", line 2271, in execute\n",
      "    args2, kwargs2 = self._prepare_args_for_execution(ts, args, kwargs)\n",
      "  File \"/opt/conda/lib/python3.10/site-packages/distributed/worker.py\", line 2394, in _prepare_args_for_execution\n",
      "    data[k] = Actor(type(self.state.actors[k]), self.address, k, self)\n",
      "KeyError: '_deploy_dask_func-01521348-9d50-46e6-80c0-5aa85f09f18b'\n"
     ]
    },
    {
     "name": "stderr",
     "output_type": "stream",
     "text": [
      "UserWarning: Distributing <class 'dict'> object. This may take some time.\n"
     ]
    },
    {
     "name": "stderr",
     "output_type": "stream",
     "text": [
      "UserWarning: Group indices computation is not currently supported by PandasOnDask, defaulting to pandas implementation.\n"
     ]
    },
    {
     "name": "stderr",
     "output_type": "stream",
     "text": [
      "2023-03-25 11:43:56,199 - distributed.utils_perf - WARNING - full garbage collections took 11% CPU time recently (threshold: 10%)\n"
     ]
    },
    {
     "name": "stderr",
     "output_type": "stream",
     "text": [
      "2023-03-25 11:43:59,693 - distributed.worker - ERROR - Exception during execution of task lambda-4a1b3e5cda0a558152d0a76cbd6697e3.\n",
      "Traceback (most recent call last):\n",
      "  File \"/opt/conda/lib/python3.10/site-packages/distributed/worker.py\", line 2390, in _prepare_args_for_execution\n",
      "    data[k] = self.data[k]\n",
      "  File \"/opt/conda/lib/python3.10/site-packages/distributed/spill.py\", line 245, in __getitem__\n",
      "    return super().__getitem__(key)\n",
      "  File \"/opt/conda/lib/python3.10/site-packages/zict/buffer.py\", line 108, in __getitem__\n",
      "    raise KeyError(key)\n",
      "KeyError: '_deploy_dask_func-ab05ce3e-faf7-46b9-bde1-e7e1718160de'\n",
      "\n",
      "During handling of the above exception, another exception occurred:\n",
      "\n",
      "Traceback (most recent call last):\n",
      "  File \"/opt/conda/lib/python3.10/site-packages/distributed/worker.py\", line 2271, in execute\n",
      "    args2, kwargs2 = self._prepare_args_for_execution(ts, args, kwargs)\n",
      "  File \"/opt/conda/lib/python3.10/site-packages/distributed/worker.py\", line 2394, in _prepare_args_for_execution\n",
      "    data[k] = Actor(type(self.state.actors[k]), self.address, k, self)\n",
      "KeyError: '_deploy_dask_func-ab05ce3e-faf7-46b9-bde1-e7e1718160de'\n"
     ]
    },
    {
     "name": "stderr",
     "output_type": "stream",
     "text": [
      "UserWarning: Distributing <class 'dict'> object. This may take some time.\n",
      "UserWarning: Group indices computation is not currently supported by PandasOnDask, defaulting to pandas implementation.\n"
     ]
    },
    {
     "name": "stderr",
     "output_type": "stream",
     "text": [
      "2023-03-25 11:44:06,416 - distributed.utils_perf - WARNING - full garbage collections took 11% CPU time recently (threshold: 10%)\n"
     ]
    },
    {
     "name": "stderr",
     "output_type": "stream",
     "text": [
      "2023-03-25 11:44:10,946 - distributed.worker - ERROR - Exception during execution of task lambda-b92261c1b6a4edf03ede9e24e932500d.\n",
      "Traceback (most recent call last):\n",
      "  File \"/opt/conda/lib/python3.10/site-packages/distributed/worker.py\", line 2390, in _prepare_args_for_execution\n",
      "    data[k] = self.data[k]\n",
      "  File \"/opt/conda/lib/python3.10/site-packages/distributed/spill.py\", line 245, in __getitem__\n",
      "    return super().__getitem__(key)\n",
      "  File \"/opt/conda/lib/python3.10/site-packages/zict/buffer.py\", line 108, in __getitem__\n",
      "    raise KeyError(key)\n",
      "KeyError: '_deploy_dask_func-8f18d2cd-9c54-4e83-99ec-77282ba91d48'\n",
      "\n",
      "During handling of the above exception, another exception occurred:\n",
      "\n",
      "Traceback (most recent call last):\n",
      "  File \"/opt/conda/lib/python3.10/site-packages/distributed/worker.py\", line 2271, in execute\n",
      "    args2, kwargs2 = self._prepare_args_for_execution(ts, args, kwargs)\n",
      "  File \"/opt/conda/lib/python3.10/site-packages/distributed/worker.py\", line 2394, in _prepare_args_for_execution\n",
      "    data[k] = Actor(type(self.state.actors[k]), self.address, k, self)\n",
      "KeyError: '_deploy_dask_func-8f18d2cd-9c54-4e83-99ec-77282ba91d48'\n"
     ]
    },
    {
     "name": "stderr",
     "output_type": "stream",
     "text": [
      "2023-03-25 11:44:17,313 - distributed.utils_perf - WARNING - full garbage collections took 12% CPU time recently (threshold: 10%)\n"
     ]
    },
    {
     "name": "stderr",
     "output_type": "stream",
     "text": [
      "UserWarning: Distributing <class 'dict'> object. This may take some time.\n",
      "UserWarning: Group indices computation is not currently supported by PandasOnDask, defaulting to pandas implementation.\n"
     ]
    },
    {
     "name": "stderr",
     "output_type": "stream",
     "text": [
      "2023-03-25 11:44:20,702 - distributed.worker - ERROR - Exception during execution of task lambda-240ae4e8cc1fbf2e896e9b0991949526.\n",
      "Traceback (most recent call last):\n",
      "  File \"/opt/conda/lib/python3.10/site-packages/distributed/worker.py\", line 2390, in _prepare_args_for_execution\n",
      "    data[k] = self.data[k]\n",
      "  File \"/opt/conda/lib/python3.10/site-packages/distributed/spill.py\", line 245, in __getitem__\n",
      "    return super().__getitem__(key)\n",
      "  File \"/opt/conda/lib/python3.10/site-packages/zict/buffer.py\", line 108, in __getitem__\n",
      "    raise KeyError(key)\n",
      "KeyError: 'apply_func-4185686b-4411-4d72-b2f1-1fe27d9fe03c'\n",
      "\n",
      "During handling of the above exception, another exception occurred:\n",
      "\n",
      "Traceback (most recent call last):\n",
      "  File \"/opt/conda/lib/python3.10/site-packages/distributed/worker.py\", line 2271, in execute\n",
      "    args2, kwargs2 = self._prepare_args_for_execution(ts, args, kwargs)\n",
      "  File \"/opt/conda/lib/python3.10/site-packages/distributed/worker.py\", line 2394, in _prepare_args_for_execution\n",
      "    data[k] = Actor(type(self.state.actors[k]), self.address, k, self)\n",
      "KeyError: 'apply_func-4185686b-4411-4d72-b2f1-1fe27d9fe03c'\n"
     ]
    },
    {
     "name": "stderr",
     "output_type": "stream",
     "text": [
      "2023-03-25 11:44:27,014 - distributed.utils_perf - WARNING - full garbage collections took 12% CPU time recently (threshold: 10%)\n"
     ]
    },
    {
     "name": "stderr",
     "output_type": "stream",
     "text": [
      "2023-03-25 11:44:27,884 - distributed.worker - ERROR - Exception during execution of task lambda-78f5323ef475ee756e48a276ce232e30.\n",
      "Traceback (most recent call last):\n",
      "  File \"/opt/conda/lib/python3.10/site-packages/distributed/worker.py\", line 2390, in _prepare_args_for_execution\n",
      "    data[k] = self.data[k]\n",
      "  File \"/opt/conda/lib/python3.10/site-packages/distributed/spill.py\", line 245, in __getitem__\n",
      "    return super().__getitem__(key)\n",
      "  File \"/opt/conda/lib/python3.10/site-packages/zict/buffer.py\", line 108, in __getitem__\n",
      "    raise KeyError(key)\n",
      "KeyError: '_deploy_dask_func-a8803f9d-9888-4d16-a4a8-316f5c374046'\n",
      "\n",
      "During handling of the above exception, another exception occurred:\n",
      "\n",
      "Traceback (most recent call last):\n",
      "  File \"/opt/conda/lib/python3.10/site-packages/distributed/worker.py\", line 2271, in execute\n",
      "    args2, kwargs2 = self._prepare_args_for_execution(ts, args, kwargs)\n",
      "  File \"/opt/conda/lib/python3.10/site-packages/distributed/worker.py\", line 2394, in _prepare_args_for_execution\n",
      "    data[k] = Actor(type(self.state.actors[k]), self.address, k, self)\n",
      "KeyError: '_deploy_dask_func-a8803f9d-9888-4d16-a4a8-316f5c374046'\n"
     ]
    },
    {
     "name": "stderr",
     "output_type": "stream",
     "text": [
      "2023-03-25 11:44:30,996 - distributed.worker - ERROR - Exception during execution of task lambda-dfbf97876c4871a2d3d2479a1237b1d4.\n",
      "Traceback (most recent call last):\n",
      "  File \"/opt/conda/lib/python3.10/site-packages/distributed/worker.py\", line 2390, in _prepare_args_for_execution\n",
      "    data[k] = self.data[k]\n",
      "  File \"/opt/conda/lib/python3.10/site-packages/distributed/spill.py\", line 245, in __getitem__\n",
      "    return super().__getitem__(key)\n",
      "  File \"/opt/conda/lib/python3.10/site-packages/zict/buffer.py\", line 108, in __getitem__\n",
      "    raise KeyError(key)\n",
      "KeyError: '_deploy_dask_func-e889baaa-d4f2-4c52-a12b-a78c014db8cb'\n",
      "\n",
      "During handling of the above exception, another exception occurred:\n",
      "\n",
      "Traceback (most recent call last):\n",
      "  File \"/opt/conda/lib/python3.10/site-packages/distributed/worker.py\", line 2271, in execute\n",
      "    args2, kwargs2 = self._prepare_args_for_execution(ts, args, kwargs)\n",
      "  File \"/opt/conda/lib/python3.10/site-packages/distributed/worker.py\", line 2394, in _prepare_args_for_execution\n",
      "    data[k] = Actor(type(self.state.actors[k]), self.address, k, self)\n",
      "KeyError: '_deploy_dask_func-e889baaa-d4f2-4c52-a12b-a78c014db8cb'\n"
     ]
    },
    {
     "name": "stderr",
     "output_type": "stream",
     "text": [
      "RuntimeWarning: divide by zero encountered in log\n",
      "UserWarning: Distributing <class 'dict'> object. This may take some time.\n",
      "UserWarning: Group indices computation is not currently supported by PandasOnDask, defaulting to pandas implementation.\n"
     ]
    },
    {
     "name": "stderr",
     "output_type": "stream",
     "text": [
      "2023-03-25 11:44:33,494 - distributed.worker - ERROR - Exception during execution of task lambda-ccb8b32db135c8f0dfff492197175c6f.\n",
      "Traceback (most recent call last):\n",
      "  File \"/opt/conda/lib/python3.10/site-packages/distributed/worker.py\", line 2390, in _prepare_args_for_execution\n",
      "    data[k] = self.data[k]\n",
      "  File \"/opt/conda/lib/python3.10/site-packages/distributed/spill.py\", line 245, in __getitem__\n",
      "    return super().__getitem__(key)\n",
      "  File \"/opt/conda/lib/python3.10/site-packages/zict/buffer.py\", line 108, in __getitem__\n",
      "    raise KeyError(key)\n",
      "KeyError: '_deploy_dask_func-f8a05fcb-f834-4698-b15f-ca4794c8544a'\n",
      "\n",
      "During handling of the above exception, another exception occurred:\n",
      "\n",
      "Traceback (most recent call last):\n",
      "  File \"/opt/conda/lib/python3.10/site-packages/distributed/worker.py\", line 2271, in execute\n",
      "    args2, kwargs2 = self._prepare_args_for_execution(ts, args, kwargs)\n",
      "  File \"/opt/conda/lib/python3.10/site-packages/distributed/worker.py\", line 2394, in _prepare_args_for_execution\n",
      "    data[k] = Actor(type(self.state.actors[k]), self.address, k, self)\n",
      "KeyError: '_deploy_dask_func-f8a05fcb-f834-4698-b15f-ca4794c8544a'\n"
     ]
    },
    {
     "name": "stderr",
     "output_type": "stream",
     "text": [
      "2023-03-25 11:44:37,442 - distributed.utils_perf - WARNING - full garbage collections took 12% CPU time recently (threshold: 10%)\n"
     ]
    },
    {
     "name": "stderr",
     "output_type": "stream",
     "text": [
      "2023-03-25 11:44:38,099 - distributed.worker - ERROR - Exception during execution of task lambda-5b8e6d1ff72015f6f818fa6dd0693e8a.\n",
      "Traceback (most recent call last):\n",
      "  File \"/opt/conda/lib/python3.10/site-packages/distributed/worker.py\", line 2390, in _prepare_args_for_execution\n",
      "    data[k] = self.data[k]\n",
      "  File \"/opt/conda/lib/python3.10/site-packages/distributed/spill.py\", line 245, in __getitem__\n",
      "    return super().__getitem__(key)\n",
      "  File \"/opt/conda/lib/python3.10/site-packages/zict/buffer.py\", line 108, in __getitem__\n",
      "    raise KeyError(key)\n",
      "KeyError: '_deploy_dask_func-bf3f542b-57da-4cf5-a40e-d67f8eaf4bba'\n",
      "\n",
      "During handling of the above exception, another exception occurred:\n",
      "\n",
      "Traceback (most recent call last):\n",
      "  File \"/opt/conda/lib/python3.10/site-packages/distributed/worker.py\", line 2271, in execute\n",
      "    args2, kwargs2 = self._prepare_args_for_execution(ts, args, kwargs)\n",
      "  File \"/opt/conda/lib/python3.10/site-packages/distributed/worker.py\", line 2394, in _prepare_args_for_execution\n",
      "    data[k] = Actor(type(self.state.actors[k]), self.address, k, self)\n",
      "KeyError: '_deploy_dask_func-bf3f542b-57da-4cf5-a40e-d67f8eaf4bba'\n"
     ]
    },
    {
     "name": "stderr",
     "output_type": "stream",
     "text": [
      "2023-03-25 11:44:41,313 - distributed.worker - ERROR - Exception during execution of task lambda-2ca49d9cd6765ee7ee4590c7835a7975.\n",
      "Traceback (most recent call last):\n",
      "  File \"/opt/conda/lib/python3.10/site-packages/distributed/worker.py\", line 2390, in _prepare_args_for_execution\n",
      "    data[k] = self.data[k]\n",
      "  File \"/opt/conda/lib/python3.10/site-packages/distributed/spill.py\", line 245, in __getitem__\n",
      "    return super().__getitem__(key)\n",
      "  File \"/opt/conda/lib/python3.10/site-packages/zict/buffer.py\", line 108, in __getitem__\n",
      "    raise KeyError(key)\n",
      "KeyError: '_deploy_dask_func-c94bc123-3987-4300-8edc-4ce76b0e652e'\n",
      "\n",
      "During handling of the above exception, another exception occurred:\n",
      "\n",
      "Traceback (most recent call last):\n",
      "  File \"/opt/conda/lib/python3.10/site-packages/distributed/worker.py\", line 2271, in execute\n",
      "    args2, kwargs2 = self._prepare_args_for_execution(ts, args, kwargs)\n",
      "  File \"/opt/conda/lib/python3.10/site-packages/distributed/worker.py\", line 2394, in _prepare_args_for_execution\n",
      "    data[k] = Actor(type(self.state.actors[k]), self.address, k, self)\n",
      "KeyError: '_deploy_dask_func-c94bc123-3987-4300-8edc-4ce76b0e652e'\n"
     ]
    },
    {
     "name": "stderr",
     "output_type": "stream",
     "text": [
      "UserWarning: Distributing <class 'dict'> object. This may take some time.\n"
     ]
    },
    {
     "name": "stderr",
     "output_type": "stream",
     "text": [
      "UserWarning: Group indices computation is not currently supported by PandasOnDask, defaulting to pandas implementation.\n"
     ]
    },
    {
     "name": "stderr",
     "output_type": "stream",
     "text": [
      "2023-03-25 11:44:47,601 - distributed.utils_perf - WARNING - full garbage collections took 12% CPU time recently (threshold: 10%)\n"
     ]
    },
    {
     "name": "stderr",
     "output_type": "stream",
     "text": [
      "UserWarning: Distributing <class 'dict'> object. This may take some time.\n"
     ]
    }
   ],
   "source": [
    "f = '3min'\n",
    "\n",
    "for sensitivity, value in data.items():\n",
    "    print(sensitivity)\n",
    "\n",
    "    df_pred = value[\"df\"]\n",
    "    local_df = df_pred[df_pred[\"ipaddr SRC_IP\"].str.startswith(\"192.168\")].copy()\n",
    "    local_df[\"time TIME_FIRST\"] = local_df[\"time TIME_FIRST\"].apply(dateutil.parser.parse)\n",
    "    \n",
    "    calc_ips = {}\n",
    "\n",
    "    a1_t = local_df.set_index([\"time TIME_FIRST\"])\n",
    "\n",
    "    df_resample = a1_t.groupby(pd.Grouper(freq=f, origin=min_ts)).first()\n",
    "    times = df_resample.index.tolist()\n",
    "    ranges = list(zip(times, times[1:]))\n",
    "\n",
    "    df_calcs = []\n",
    "    for ran in ranges:\n",
    "        df_ran = a1_t[(a1_t.index > ran[0]) & (a1_t.index < ran[1])]\n",
    "        df_calc = calc(df_ran)\n",
    "        df_calc[\"ts\"] = ran[0]\n",
    "        df_calcs.append(df_calc)\n",
    "\n",
    "    value[\"df_calc\"] = pd.concat(df_calcs).reset_index(drop=True)"
   ]
  },
  {
   "cell_type": "code",
   "execution_count": 23,
   "id": "50c68198-fc75-46b2-9f22-e171cdb2ad55",
   "metadata": {
    "execution": {
     "iopub.execute_input": "2023-03-25T11:44:56.081381Z",
     "iopub.status.busy": "2023-03-25T11:44:56.081011Z",
     "iopub.status.idle": "2023-03-25T11:45:19.106482Z",
     "shell.execute_reply": "2023-03-25T11:45:19.105726Z"
    },
    "papermill": {
     "duration": 23.052727,
     "end_time": "2023-03-25T11:45:19.107948",
     "exception": false,
     "start_time": "2023-03-25T11:44:56.055221",
     "status": "completed"
    },
    "tags": []
   },
   "outputs": [
    {
     "name": "stdout",
     "output_type": "stream",
     "text": [
      "0.8\n"
     ]
    },
    {
     "name": "stderr",
     "output_type": "stream",
     "text": [
      "2023-03-25 11:44:58,321 - distributed.utils_perf - WARNING - full garbage collections took 12% CPU time recently (threshold: 10%)\n"
     ]
    },
    {
     "name": "stderr",
     "output_type": "stream",
     "text": [
      "2023-03-25 11:44:59,089 - distributed.worker - ERROR - Exception during execution of task lambda-8de807dbaef58f0d88fc6dafe270bb55.\n",
      "Traceback (most recent call last):\n",
      "  File \"/opt/conda/lib/python3.10/site-packages/distributed/worker.py\", line 2390, in _prepare_args_for_execution\n",
      "    data[k] = self.data[k]\n",
      "  File \"/opt/conda/lib/python3.10/site-packages/distributed/spill.py\", line 245, in __getitem__\n",
      "    return super().__getitem__(key)\n",
      "  File \"/opt/conda/lib/python3.10/site-packages/zict/buffer.py\", line 108, in __getitem__\n",
      "    raise KeyError(key)\n",
      "KeyError: 'apply_list_of_funcs-b5229a9d-b44c-4042-b6a6-c6f00aa221d9'\n",
      "\n",
      "During handling of the above exception, another exception occurred:\n",
      "\n",
      "Traceback (most recent call last):\n",
      "  File \"/opt/conda/lib/python3.10/site-packages/distributed/worker.py\", line 2271, in execute\n",
      "    args2, kwargs2 = self._prepare_args_for_execution(ts, args, kwargs)\n",
      "  File \"/opt/conda/lib/python3.10/site-packages/distributed/worker.py\", line 2394, in _prepare_args_for_execution\n",
      "    data[k] = Actor(type(self.state.actors[k]), self.address, k, self)\n",
      "KeyError: 'apply_list_of_funcs-b5229a9d-b44c-4042-b6a6-c6f00aa221d9'\n",
      "2023-03-25 11:44:59,286 - distributed.worker - ERROR - Exception during execution of task lambda-27fa259effbadb341082395e07d1be2f.\n",
      "Traceback (most recent call last):\n",
      "  File \"/opt/conda/lib/python3.10/site-packages/distributed/worker.py\", line 2390, in _prepare_args_for_execution\n",
      "    data[k] = self.data[k]\n",
      "  File \"/opt/conda/lib/python3.10/site-packages/distributed/spill.py\", line 245, in __getitem__\n",
      "    return super().__getitem__(key)\n",
      "  File \"/opt/conda/lib/python3.10/site-packages/zict/buffer.py\", line 108, in __getitem__\n",
      "    raise KeyError(key)\n",
      "KeyError: 'apply_list_of_funcs-2c31f8e0-d8ae-4003-babf-0b3b6f32fcfc'\n",
      "\n",
      "During handling of the above exception, another exception occurred:\n",
      "\n",
      "Traceback (most recent call last):\n",
      "  File \"/opt/conda/lib/python3.10/site-packages/distributed/worker.py\", line 2271, in execute\n",
      "    args2, kwargs2 = self._prepare_args_for_execution(ts, args, kwargs)\n",
      "  File \"/opt/conda/lib/python3.10/site-packages/distributed/worker.py\", line 2394, in _prepare_args_for_execution\n",
      "    data[k] = Actor(type(self.state.actors[k]), self.address, k, self)\n",
      "KeyError: 'apply_list_of_funcs-2c31f8e0-d8ae-4003-babf-0b3b6f32fcfc'\n"
     ]
    },
    {
     "name": "stderr",
     "output_type": "stream",
     "text": [
      "2023-03-25 11:44:59,378 - distributed.worker - ERROR - Exception during execution of task lambda-f06af249fd6b9ba0ba8c78db98c8f839.\n",
      "Traceback (most recent call last):\n",
      "  File \"/opt/conda/lib/python3.10/site-packages/distributed/worker.py\", line 2390, in _prepare_args_for_execution\n",
      "    data[k] = self.data[k]\n",
      "  File \"/opt/conda/lib/python3.10/site-packages/distributed/spill.py\", line 245, in __getitem__\n",
      "    return super().__getitem__(key)\n",
      "  File \"/opt/conda/lib/python3.10/site-packages/zict/buffer.py\", line 108, in __getitem__\n",
      "    raise KeyError(key)\n",
      "KeyError: 'apply_list_of_funcs-cd3f7187-dd1f-4168-9cdb-4898e58d700c'\n",
      "\n",
      "During handling of the above exception, another exception occurred:\n",
      "\n",
      "Traceback (most recent call last):\n",
      "  File \"/opt/conda/lib/python3.10/site-packages/distributed/worker.py\", line 2271, in execute\n",
      "    args2, kwargs2 = self._prepare_args_for_execution(ts, args, kwargs)\n",
      "  File \"/opt/conda/lib/python3.10/site-packages/distributed/worker.py\", line 2394, in _prepare_args_for_execution\n",
      "    data[k] = Actor(type(self.state.actors[k]), self.address, k, self)\n",
      "KeyError: 'apply_list_of_funcs-cd3f7187-dd1f-4168-9cdb-4898e58d700c'\n"
     ]
    },
    {
     "name": "stderr",
     "output_type": "stream",
     "text": [
      "2023-03-25 11:45:01,286 - distributed.worker - ERROR - Exception during execution of task lambda-891cd265c6084a58589d3dee560b11c9.\n",
      "Traceback (most recent call last):\n",
      "  File \"/opt/conda/lib/python3.10/site-packages/distributed/worker.py\", line 2390, in _prepare_args_for_execution\n",
      "    data[k] = self.data[k]\n",
      "  File \"/opt/conda/lib/python3.10/site-packages/distributed/spill.py\", line 245, in __getitem__\n",
      "    return super().__getitem__(key)\n",
      "  File \"/opt/conda/lib/python3.10/site-packages/zict/buffer.py\", line 108, in __getitem__\n",
      "    raise KeyError(key)\n",
      "KeyError: 'apply_list_of_funcs-071f1a04-2553-4ac8-a8d4-848305f6ef96'\n",
      "\n",
      "During handling of the above exception, another exception occurred:\n",
      "\n",
      "Traceback (most recent call last):\n",
      "  File \"/opt/conda/lib/python3.10/site-packages/distributed/worker.py\", line 2271, in execute\n",
      "    args2, kwargs2 = self._prepare_args_for_execution(ts, args, kwargs)\n",
      "  File \"/opt/conda/lib/python3.10/site-packages/distributed/worker.py\", line 2394, in _prepare_args_for_execution\n",
      "    data[k] = Actor(type(self.state.actors[k]), self.address, k, self)\n",
      "KeyError: 'apply_list_of_funcs-071f1a04-2553-4ac8-a8d4-848305f6ef96'\n"
     ]
    },
    {
     "name": "stderr",
     "output_type": "stream",
     "text": [
      "2023-03-25 11:45:01,643 - distributed.worker - ERROR - Exception during execution of task lambda-874dcb8b26e00b5c6ead19cf93875be3.\n",
      "Traceback (most recent call last):\n",
      "  File \"/opt/conda/lib/python3.10/site-packages/distributed/worker.py\", line 2390, in _prepare_args_for_execution\n",
      "    data[k] = self.data[k]\n",
      "  File \"/opt/conda/lib/python3.10/site-packages/distributed/spill.py\", line 245, in __getitem__\n",
      "    return super().__getitem__(key)\n",
      "  File \"/opt/conda/lib/python3.10/site-packages/zict/buffer.py\", line 108, in __getitem__\n",
      "    raise KeyError(key)\n",
      "KeyError: 'apply_list_of_funcs-b4d35ca9-c503-45b4-ac5a-2cfb0fddd79a'\n",
      "\n",
      "During handling of the above exception, another exception occurred:\n",
      "\n",
      "Traceback (most recent call last):\n",
      "  File \"/opt/conda/lib/python3.10/site-packages/distributed/worker.py\", line 2271, in execute\n",
      "    args2, kwargs2 = self._prepare_args_for_execution(ts, args, kwargs)\n",
      "  File \"/opt/conda/lib/python3.10/site-packages/distributed/worker.py\", line 2394, in _prepare_args_for_execution\n",
      "    data[k] = Actor(type(self.state.actors[k]), self.address, k, self)\n",
      "KeyError: 'apply_list_of_funcs-b4d35ca9-c503-45b4-ac5a-2cfb0fddd79a'\n"
     ]
    },
    {
     "name": "stderr",
     "output_type": "stream",
     "text": [
      "2023-03-25 11:45:03,138 - distributed.worker - ERROR - Exception during execution of task lambda-1cf3ad9b43c458566adb73514e7f30f0.\n",
      "Traceback (most recent call last):\n",
      "  File \"/opt/conda/lib/python3.10/site-packages/distributed/worker.py\", line 2390, in _prepare_args_for_execution\n",
      "    data[k] = self.data[k]\n",
      "  File \"/opt/conda/lib/python3.10/site-packages/distributed/spill.py\", line 245, in __getitem__\n",
      "    return super().__getitem__(key)\n",
      "  File \"/opt/conda/lib/python3.10/site-packages/zict/buffer.py\", line 108, in __getitem__\n",
      "    raise KeyError(key)\n",
      "KeyError: 'apply_list_of_funcs-d0820e1c-3140-43c1-a158-0f7db7eb540f'\n",
      "\n",
      "During handling of the above exception, another exception occurred:\n",
      "\n",
      "Traceback (most recent call last):\n",
      "  File \"/opt/conda/lib/python3.10/site-packages/distributed/worker.py\", line 2271, in execute\n",
      "    args2, kwargs2 = self._prepare_args_for_execution(ts, args, kwargs)\n",
      "  File \"/opt/conda/lib/python3.10/site-packages/distributed/worker.py\", line 2394, in _prepare_args_for_execution\n",
      "    data[k] = Actor(type(self.state.actors[k]), self.address, k, self)\n",
      "KeyError: 'apply_list_of_funcs-d0820e1c-3140-43c1-a158-0f7db7eb540f'\n"
     ]
    },
    {
     "name": "stderr",
     "output_type": "stream",
     "text": [
      "2023-03-25 11:45:06,979 - distributed.worker - ERROR - Exception during execution of task lambda-a34c7d3b949111ccc1d30f7d10c5ad7a.\n",
      "Traceback (most recent call last):\n",
      "  File \"/opt/conda/lib/python3.10/site-packages/distributed/worker.py\", line 2390, in _prepare_args_for_execution\n",
      "    data[k] = self.data[k]\n",
      "  File \"/opt/conda/lib/python3.10/site-packages/distributed/spill.py\", line 245, in __getitem__\n",
      "    return super().__getitem__(key)\n",
      "  File \"/opt/conda/lib/python3.10/site-packages/zict/buffer.py\", line 108, in __getitem__\n",
      "    raise KeyError(key)\n",
      "KeyError: 'apply_list_of_funcs-e17b8405-e79b-42a2-a500-78a4ffd24f29'\n",
      "\n",
      "During handling of the above exception, another exception occurred:\n",
      "\n",
      "Traceback (most recent call last):\n",
      "  File \"/opt/conda/lib/python3.10/site-packages/distributed/worker.py\", line 2271, in execute\n",
      "    args2, kwargs2 = self._prepare_args_for_execution(ts, args, kwargs)\n",
      "  File \"/opt/conda/lib/python3.10/site-packages/distributed/worker.py\", line 2394, in _prepare_args_for_execution\n",
      "    data[k] = Actor(type(self.state.actors[k]), self.address, k, self)\n",
      "KeyError: 'apply_list_of_funcs-e17b8405-e79b-42a2-a500-78a4ffd24f29'\n"
     ]
    },
    {
     "name": "stderr",
     "output_type": "stream",
     "text": [
      "2023-03-25 11:45:07,296 - distributed.worker - ERROR - Exception during execution of task lambda-4530fbd5f9b5210c58f899e8a8297e4b.\n",
      "Traceback (most recent call last):\n",
      "  File \"/opt/conda/lib/python3.10/site-packages/distributed/worker.py\", line 2390, in _prepare_args_for_execution\n",
      "    data[k] = self.data[k]\n",
      "  File \"/opt/conda/lib/python3.10/site-packages/distributed/spill.py\", line 245, in __getitem__\n",
      "    return super().__getitem__(key)\n",
      "  File \"/opt/conda/lib/python3.10/site-packages/zict/buffer.py\", line 108, in __getitem__\n",
      "    raise KeyError(key)\n",
      "KeyError: 'apply_list_of_funcs-96cc262c-e03c-4469-ad31-5a5b64654c49'\n",
      "\n",
      "During handling of the above exception, another exception occurred:\n",
      "\n",
      "Traceback (most recent call last):\n",
      "  File \"/opt/conda/lib/python3.10/site-packages/distributed/worker.py\", line 2271, in execute\n",
      "    args2, kwargs2 = self._prepare_args_for_execution(ts, args, kwargs)\n",
      "  File \"/opt/conda/lib/python3.10/site-packages/distributed/worker.py\", line 2394, in _prepare_args_for_execution\n",
      "    data[k] = Actor(type(self.state.actors[k]), self.address, k, self)\n",
      "KeyError: 'apply_list_of_funcs-96cc262c-e03c-4469-ad31-5a5b64654c49'\n",
      "2023-03-25 11:45:07,368 - distributed.worker - ERROR - Exception during execution of task lambda-8bb9930cd24dd9f05e05fa444aca1957.\n",
      "Traceback (most recent call last):\n",
      "  File \"/opt/conda/lib/python3.10/site-packages/distributed/worker.py\", line 2390, in _prepare_args_for_execution\n",
      "    data[k] = self.data[k]\n",
      "  File \"/opt/conda/lib/python3.10/site-packages/distributed/spill.py\", line 245, in __getitem__\n",
      "    return super().__getitem__(key)\n",
      "  File \"/opt/conda/lib/python3.10/site-packages/zict/buffer.py\", line 108, in __getitem__\n",
      "    raise KeyError(key)\n",
      "KeyError: 'apply_list_of_funcs-5858ea99-4085-45fe-aabf-fbf9d70c58e2'\n",
      "\n",
      "During handling of the above exception, another exception occurred:\n",
      "\n",
      "Traceback (most recent call last):\n",
      "  File \"/opt/conda/lib/python3.10/site-packages/distributed/worker.py\", line 2271, in execute\n",
      "    args2, kwargs2 = self._prepare_args_for_execution(ts, args, kwargs)\n",
      "  File \"/opt/conda/lib/python3.10/site-packages/distributed/worker.py\", line 2394, in _prepare_args_for_execution\n",
      "    data[k] = Actor(type(self.state.actors[k]), self.address, k, self)\n",
      "KeyError: 'apply_list_of_funcs-5858ea99-4085-45fe-aabf-fbf9d70c58e2'\n"
     ]
    },
    {
     "data": {
      "image/png": "[encoded data removed]",
      "text/plain": [
       "<Figure size 1200x400 with 1 Axes>"
      ]
     },
     "metadata": {},
     "output_type": "display_data"
    },
    {
     "name": "stdout",
     "output_type": "stream",
     "text": [
      "0.9\n"
     ]
    },
    {
     "name": "stderr",
     "output_type": "stream",
     "text": [
      "2023-03-25 11:45:11,667 - distributed.worker - ERROR - Exception during execution of task lambda-1b4c5306cb6c24d4deae663a6fe59024.\n",
      "Traceback (most recent call last):\n",
      "  File \"/opt/conda/lib/python3.10/site-packages/distributed/worker.py\", line 2390, in _prepare_args_for_execution\n",
      "    data[k] = self.data[k]\n",
      "  File \"/opt/conda/lib/python3.10/site-packages/distributed/spill.py\", line 245, in __getitem__\n",
      "    return super().__getitem__(key)\n",
      "  File \"/opt/conda/lib/python3.10/site-packages/zict/buffer.py\", line 108, in __getitem__\n",
      "    raise KeyError(key)\n",
      "KeyError: 'apply_list_of_funcs-41de2339-435c-4c3c-93e0-fc1498fdb6f8'\n",
      "\n",
      "During handling of the above exception, another exception occurred:\n",
      "\n",
      "Traceback (most recent call last):\n",
      "  File \"/opt/conda/lib/python3.10/site-packages/distributed/worker.py\", line 2271, in execute\n",
      "    args2, kwargs2 = self._prepare_args_for_execution(ts, args, kwargs)\n",
      "  File \"/opt/conda/lib/python3.10/site-packages/distributed/worker.py\", line 2394, in _prepare_args_for_execution\n",
      "    data[k] = Actor(type(self.state.actors[k]), self.address, k, self)\n",
      "KeyError: 'apply_list_of_funcs-41de2339-435c-4c3c-93e0-fc1498fdb6f8'\n",
      "2023-03-25 11:45:11,686 - distributed.worker - ERROR - Exception during execution of task lambda-c49a7a34c563b48384a07bad44933540.\n",
      "Traceback (most recent call last):\n",
      "  File \"/opt/conda/lib/python3.10/site-packages/distributed/worker.py\", line 2390, in _prepare_args_for_execution\n",
      "    data[k] = self.data[k]\n",
      "  File \"/opt/conda/lib/python3.10/site-packages/distributed/spill.py\", line 245, in __getitem__\n",
      "    return super().__getitem__(key)\n",
      "  File \"/opt/conda/lib/python3.10/site-packages/zict/buffer.py\", line 108, in __getitem__\n",
      "    raise KeyError(key)\n",
      "KeyError: 'apply_list_of_funcs-7063c68a-fae6-4ee8-8be9-95644964d456'\n",
      "\n",
      "During handling of the above exception, another exception occurred:\n",
      "\n",
      "Traceback (most recent call last):\n",
      "  File \"/opt/conda/lib/python3.10/site-packages/distributed/worker.py\", line 2271, in execute\n",
      "    args2, kwargs2 = self._prepare_args_for_execution(ts, args, kwargs)\n",
      "  File \"/opt/conda/lib/python3.10/site-packages/distributed/worker.py\", line 2394, in _prepare_args_for_execution\n",
      "    data[k] = Actor(type(self.state.actors[k]), self.address, k, self)\n",
      "KeyError: 'apply_list_of_funcs-7063c68a-fae6-4ee8-8be9-95644964d456'\n"
     ]
    },
    {
     "name": "stderr",
     "output_type": "stream",
     "text": [
      "2023-03-25 11:45:13,236 - distributed.worker - ERROR - Exception during execution of task lambda-15970a996eb71c41c497424a8e4a802a.\n",
      "Traceback (most recent call last):\n",
      "  File \"/opt/conda/lib/python3.10/site-packages/distributed/worker.py\", line 2390, in _prepare_args_for_execution\n",
      "    data[k] = self.data[k]\n",
      "  File \"/opt/conda/lib/python3.10/site-packages/distributed/spill.py\", line 245, in __getitem__\n",
      "    return super().__getitem__(key)\n",
      "  File \"/opt/conda/lib/python3.10/site-packages/zict/buffer.py\", line 108, in __getitem__\n",
      "    raise KeyError(key)\n",
      "KeyError: 'apply_list_of_funcs-50a9964b-17d9-4d53-b4a8-ad06d3ec3d04'\n",
      "\n",
      "During handling of the above exception, another exception occurred:\n",
      "\n",
      "Traceback (most recent call last):\n",
      "  File \"/opt/conda/lib/python3.10/site-packages/distributed/worker.py\", line 2271, in execute\n",
      "    args2, kwargs2 = self._prepare_args_for_execution(ts, args, kwargs)\n",
      "  File \"/opt/conda/lib/python3.10/site-packages/distributed/worker.py\", line 2394, in _prepare_args_for_execution\n",
      "    data[k] = Actor(type(self.state.actors[k]), self.address, k, self)\n",
      "KeyError: 'apply_list_of_funcs-50a9964b-17d9-4d53-b4a8-ad06d3ec3d04'\n"
     ]
    },
    {
     "name": "stderr",
     "output_type": "stream",
     "text": [
      "2023-03-25 11:45:15,435 - distributed.utils_perf - WARNING - full garbage collections took 12% CPU time recently (threshold: 10%)\n"
     ]
    },
    {
     "name": "stderr",
     "output_type": "stream",
     "text": [
      "2023-03-25 11:45:16,428 - distributed.worker - ERROR - Exception during execution of task lambda-c6196f5bff075700496765d29cc8a464.\n",
      "Traceback (most recent call last):\n",
      "  File \"/opt/conda/lib/python3.10/site-packages/distributed/worker.py\", line 2390, in _prepare_args_for_execution\n",
      "    data[k] = self.data[k]\n",
      "  File \"/opt/conda/lib/python3.10/site-packages/distributed/spill.py\", line 245, in __getitem__\n",
      "    return super().__getitem__(key)\n",
      "  File \"/opt/conda/lib/python3.10/site-packages/zict/buffer.py\", line 108, in __getitem__\n",
      "    raise KeyError(key)\n",
      "KeyError: 'apply_list_of_funcs-2d31c7e5-ad3b-4deb-81dc-a451f2e72ede'\n",
      "\n",
      "During handling of the above exception, another exception occurred:\n",
      "\n",
      "Traceback (most recent call last):\n",
      "  File \"/opt/conda/lib/python3.10/site-packages/distributed/worker.py\", line 2271, in execute\n",
      "    args2, kwargs2 = self._prepare_args_for_execution(ts, args, kwargs)\n",
      "  File \"/opt/conda/lib/python3.10/site-packages/distributed/worker.py\", line 2394, in _prepare_args_for_execution\n",
      "    data[k] = Actor(type(self.state.actors[k]), self.address, k, self)\n",
      "KeyError: 'apply_list_of_funcs-2d31c7e5-ad3b-4deb-81dc-a451f2e72ede'\n",
      "2023-03-25 11:45:16,567 - distributed.worker - ERROR - Exception during execution of task lambda-74ce355db3b6b02db8fbc793b3d81dd9.\n",
      "Traceback (most recent call last):\n",
      "  File \"/opt/conda/lib/python3.10/site-packages/distributed/worker.py\", line 2390, in _prepare_args_for_execution\n",
      "    data[k] = self.data[k]\n",
      "  File \"/opt/conda/lib/python3.10/site-packages/distributed/spill.py\", line 245, in __getitem__\n",
      "    return super().__getitem__(key)\n",
      "  File \"/opt/conda/lib/python3.10/site-packages/zict/buffer.py\", line 108, in __getitem__\n",
      "    raise KeyError(key)\n",
      "KeyError: 'apply_list_of_funcs-865e061d-3aae-457d-818b-e38e242a1fb7'\n",
      "\n",
      "During handling of the above exception, another exception occurred:\n",
      "\n",
      "Traceback (most recent call last):\n",
      "  File \"/opt/conda/lib/python3.10/site-packages/distributed/worker.py\", line 2271, in execute\n",
      "    args2, kwargs2 = self._prepare_args_for_execution(ts, args, kwargs)\n",
      "  File \"/opt/conda/lib/python3.10/site-packages/distributed/worker.py\", line 2394, in _prepare_args_for_execution\n",
      "    data[k] = Actor(type(self.state.actors[k]), self.address, k, self)\n",
      "KeyError: 'apply_list_of_funcs-865e061d-3aae-457d-818b-e38e242a1fb7'\n",
      "2023-03-25 11:45:16,589 - distributed.worker - ERROR - Exception during execution of task lambda-ca5341ae07ab8a1389f0028b3bd6ac8d.\n",
      "Traceback (most recent call last):\n",
      "  File \"/opt/conda/lib/python3.10/site-packages/distributed/worker.py\", line 2390, in _prepare_args_for_execution\n",
      "    data[k] = self.data[k]\n",
      "  File \"/opt/conda/lib/python3.10/site-packages/distributed/spill.py\", line 245, in __getitem__\n",
      "    return super().__getitem__(key)\n",
      "  File \"/opt/conda/lib/python3.10/site-packages/zict/buffer.py\", line 108, in __getitem__\n",
      "    raise KeyError(key)\n",
      "KeyError: 'apply_list_of_funcs-1b8a57ae-9e5c-4bef-bfbc-1eac373c941a'\n",
      "\n",
      "During handling of the above exception, another exception occurred:\n",
      "\n",
      "Traceback (most recent call last):\n",
      "  File \"/opt/conda/lib/python3.10/site-packages/distributed/worker.py\", line 2271, in execute\n",
      "    args2, kwargs2 = self._prepare_args_for_execution(ts, args, kwargs)\n",
      "  File \"/opt/conda/lib/python3.10/site-packages/distributed/worker.py\", line 2394, in _prepare_args_for_execution\n",
      "    data[k] = Actor(type(self.state.actors[k]), self.address, k, self)\n",
      "KeyError: 'apply_list_of_funcs-1b8a57ae-9e5c-4bef-bfbc-1eac373c941a'\n"
     ]
    },
    {
     "name": "stderr",
     "output_type": "stream",
     "text": [
      "2023-03-25 11:45:16,634 - distributed.worker - ERROR - Exception during execution of task lambda-a4e29d4d6392a1a5ec8029fc01aba790.\n",
      "Traceback (most recent call last):\n",
      "  File \"/opt/conda/lib/python3.10/site-packages/distributed/worker.py\", line 2390, in _prepare_args_for_execution\n",
      "    data[k] = self.data[k]\n",
      "  File \"/opt/conda/lib/python3.10/site-packages/distributed/spill.py\", line 245, in __getitem__\n",
      "    return super().__getitem__(key)\n",
      "  File \"/opt/conda/lib/python3.10/site-packages/zict/buffer.py\", line 108, in __getitem__\n",
      "    raise KeyError(key)\n",
      "KeyError: 'apply_list_of_funcs-94aebd1e-bbc9-4d9c-96c1-13ced3036c94'\n",
      "\n",
      "During handling of the above exception, another exception occurred:\n",
      "\n",
      "Traceback (most recent call last):\n",
      "  File \"/opt/conda/lib/python3.10/site-packages/distributed/worker.py\", line 2271, in execute\n",
      "    args2, kwargs2 = self._prepare_args_for_execution(ts, args, kwargs)\n",
      "  File \"/opt/conda/lib/python3.10/site-packages/distributed/worker.py\", line 2394, in _prepare_args_for_execution\n",
      "    data[k] = Actor(type(self.state.actors[k]), self.address, k, self)\n",
      "KeyError: 'apply_list_of_funcs-94aebd1e-bbc9-4d9c-96c1-13ced3036c94'\n",
      "2023-03-25 11:45:16,823 - distributed.worker - ERROR - Exception during execution of task lambda-0fa46f91862c16c394bb1e090f2347af.\n",
      "Traceback (most recent call last):\n",
      "  File \"/opt/conda/lib/python3.10/site-packages/distributed/worker.py\", line 2390, in _prepare_args_for_execution\n",
      "    data[k] = self.data[k]\n",
      "  File \"/opt/conda/lib/python3.10/site-packages/distributed/spill.py\", line 245, in __getitem__\n",
      "    return super().__getitem__(key)\n",
      "  File \"/opt/conda/lib/python3.10/site-packages/zict/buffer.py\", line 108, in __getitem__\n",
      "    raise KeyError(key)\n",
      "KeyError: 'apply_list_of_funcs-1e47ea01-2d38-4c86-be4d-4055aecf360f'\n",
      "\n",
      "During handling of the above exception, another exception occurred:\n",
      "\n",
      "Traceback (most recent call last):\n",
      "  File \"/opt/conda/lib/python3.10/site-packages/distributed/worker.py\", line 2271, in execute\n",
      "    args2, kwargs2 = self._prepare_args_for_execution(ts, args, kwargs)\n",
      "  File \"/opt/conda/lib/python3.10/site-packages/distributed/worker.py\", line 2394, in _prepare_args_for_execution\n",
      "    data[k] = Actor(type(self.state.actors[k]), self.address, k, self)\n",
      "KeyError: 'apply_list_of_funcs-1e47ea01-2d38-4c86-be4d-4055aecf360f'\n"
     ]
    },
    {
     "name": "stderr",
     "output_type": "stream",
     "text": [
      "2023-03-25 11:45:18,511 - distributed.worker - ERROR - Exception during execution of task lambda-695df10c3d18e34a3c83cd91966bf1cf.\n",
      "Traceback (most recent call last):\n",
      "  File \"/opt/conda/lib/python3.10/site-packages/distributed/worker.py\", line 2390, in _prepare_args_for_execution\n",
      "    data[k] = self.data[k]\n",
      "  File \"/opt/conda/lib/python3.10/site-packages/distributed/spill.py\", line 245, in __getitem__\n",
      "    return super().__getitem__(key)\n",
      "  File \"/opt/conda/lib/python3.10/site-packages/zict/buffer.py\", line 108, in __getitem__\n",
      "    raise KeyError(key)\n",
      "KeyError: 'apply_list_of_funcs-ae1079d8-f850-49de-8309-e45e397d9a37'\n",
      "\n",
      "During handling of the above exception, another exception occurred:\n",
      "\n",
      "Traceback (most recent call last):\n",
      "  File \"/opt/conda/lib/python3.10/site-packages/distributed/worker.py\", line 2271, in execute\n",
      "    args2, kwargs2 = self._prepare_args_for_execution(ts, args, kwargs)\n",
      "  File \"/opt/conda/lib/python3.10/site-packages/distributed/worker.py\", line 2394, in _prepare_args_for_execution\n",
      "    data[k] = Actor(type(self.state.actors[k]), self.address, k, self)\n",
      "KeyError: 'apply_list_of_funcs-ae1079d8-f850-49de-8309-e45e397d9a37'\n",
      "2023-03-25 11:45:18,708 - distributed.worker - ERROR - Exception during execution of task lambda-a7bacd01c8acde93a4f0e7751dbb7b6e.\n",
      "Traceback (most recent call last):\n",
      "  File \"/opt/conda/lib/python3.10/site-packages/distributed/worker.py\", line 2390, in _prepare_args_for_execution\n",
      "    data[k] = self.data[k]\n",
      "  File \"/opt/conda/lib/python3.10/site-packages/distributed/spill.py\", line 245, in __getitem__\n",
      "    return super().__getitem__(key)\n",
      "  File \"/opt/conda/lib/python3.10/site-packages/zict/buffer.py\", line 108, in __getitem__\n",
      "    raise KeyError(key)\n",
      "KeyError: 'apply_list_of_funcs-9da2361a-d782-4067-96b9-00ec30e92d43'\n",
      "\n",
      "During handling of the above exception, another exception occurred:\n",
      "\n",
      "Traceback (most recent call last):\n",
      "  File \"/opt/conda/lib/python3.10/site-packages/distributed/worker.py\", line 2271, in execute\n",
      "    args2, kwargs2 = self._prepare_args_for_execution(ts, args, kwargs)\n",
      "  File \"/opt/conda/lib/python3.10/site-packages/distributed/worker.py\", line 2394, in _prepare_args_for_execution\n",
      "    data[k] = Actor(type(self.state.actors[k]), self.address, k, self)\n",
      "KeyError: 'apply_list_of_funcs-9da2361a-d782-4067-96b9-00ec30e92d43'\n"
     ]
    },
    {
     "data": {
      "image/png": "[encoded data removed]",
      "text/plain": [
       "<Figure size 1200x400 with 1 Axes>"
      ]
     },
     "metadata": {},
     "output_type": "display_data"
    }
   ],
   "source": [
    "import matplotlib.pyplot as plt\n",
    "\n",
    "for sensitivity, value in data.items():\n",
    "    print(sensitivity)\n",
    "    fig, axs = plt.subplots(ncols=1, figsize=(12, 4))\n",
    "    df_calcs = value[\"df_calc\"]\n",
    "    for host in local_ips:\n",
    "        df_calc_host = df_calcs[df_calcs[\"index\"] == host].set_index(\"ts\")\n",
    "        df_calc_host[\"rate_log\"].plot(label=f'{host}', ax=axs)\n",
    "\n",
    "    plt.ylim(ymin=0)\n",
    "    plt.title(f\"Sensitivity: {sensitivity}, threshold: {value['threshold']}\")\n",
    "    plt.legend()\n",
    "    plt.show()"
   ]
  },
  {
   "cell_type": "code",
   "execution_count": null,
   "id": "87d3782d-d91a-4552-b1c5-0c5d50d2d7c8",
   "metadata": {
    "papermill": {
     "duration": 0.023876,
     "end_time": "2023-03-25T11:45:19.158123",
     "exception": false,
     "start_time": "2023-03-25T11:45:19.134247",
     "status": "completed"
    },
    "tags": []
   },
   "outputs": [],
   "source": []
  }
 ],
 "metadata": {
  "kernelspec": {
   "display_name": "Python 3 (ipykernel)",
   "language": "python",
   "name": "python3"
  },
  "language_info": {
   "codemirror_mode": {
    "name": "ipython",
    "version": 3
   },
   "file_extension": ".py",
   "mimetype": "text/x-python",
   "name": "python",
   "nbconvert_exporter": "python",
   "pygments_lexer": "ipython3",
   "version": "3.10.9"
  },
  "papermill": {
   "default_parameters": {},
   "duration": 1147.750605,
   "end_time": "2023-03-25T11:45:21.805152",
   "environment_variables": {},
   "exception": null,
   "input_path": "./flubot-detection-one.ipynb",
   "output_path": "./flubot-detection-try-models/gen-flubot-detection-RF-unnormed-2-4-0-0.ipynb",
   "parameters": {
    "model": "RF",
    "normed": false,
    "skips_and_weights": [
     2,
     4,
     0,
     0
    ]
   },
   "start_time": "2023-03-25T11:26:14.054547",
   "version": "2.3.4"
  }
 },
 "nbformat": 4,
 "nbformat_minor": 5
}
