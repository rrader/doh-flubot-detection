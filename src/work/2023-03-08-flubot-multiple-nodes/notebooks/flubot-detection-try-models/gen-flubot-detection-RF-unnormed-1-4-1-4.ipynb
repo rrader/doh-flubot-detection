{
 "cells": [
  {
   "cell_type": "markdown",
   "id": "af89f7ae-3c40-422d-b543-7045ec10fe06",
   "metadata": {
    "papermill": {
     "duration": 0.009769,
     "end_time": "2023-03-25T11:45:22.900694",
     "exception": false,
     "start_time": "2023-03-25T11:45:22.890925",
     "status": "completed"
    },
    "tags": []
   },
   "source": [
    "---\n",
    "execute:\n",
    "  echo: true\n",
    "  enabled: false\n",
    "  output: true\n",
    "  warning: false\n",
    "format:\n",
    "    html:\n",
    "        code-fold: false\n",
    "---"
   ]
  },
  {
   "cell_type": "markdown",
   "id": "33ff003b-93f7-493e-8b36-de15f3ce7d7f",
   "metadata": {
    "papermill": {
     "duration": 0.005057,
     "end_time": "2023-03-25T11:45:22.911615",
     "exception": false,
     "start_time": "2023-03-25T11:45:22.906558",
     "status": "completed"
    },
    "tags": [
     "title"
    ]
   },
   "source": [
    "# Detect malware (RF unnormed-1-4-1-4)"
   ]
  },
  {
   "cell_type": "markdown",
   "id": "9d880d57-9101-42ec-a724-4ab9e5c08572",
   "metadata": {
    "papermill": {
     "duration": 0.004068,
     "end_time": "2023-03-25T11:45:22.920302",
     "exception": false,
     "start_time": "2023-03-25T11:45:22.916234",
     "status": "completed"
    },
    "tags": []
   },
   "source": [
    "The model deployment is done in two stages: I. tune the model, II. turn on the malware detection (on the data collected in B1 and B2 periods respectively, described in the timeline @fig-timeline)\n",
    "\n",
    "![Timeline](../../imgs/timeline.png)\n",
    "\n",
    "### Stage I: Model tuning\n",
    "\n",
    "On this state we fit the scaler on the data collected in B1 period, to be used later on the second stage"
   ]
  },
  {
   "cell_type": "code",
   "execution_count": 1,
   "id": "72e77a0e-823e-4dca-bb12-1f80d6d8bbda",
   "metadata": {
    "execution": {
     "iopub.execute_input": "2023-03-25T11:45:22.929787Z",
     "iopub.status.busy": "2023-03-25T11:45:22.929451Z",
     "iopub.status.idle": "2023-03-25T11:45:22.935220Z",
     "shell.execute_reply": "2023-03-25T11:45:22.934756Z"
    },
    "papermill": {
     "duration": 0.012327,
     "end_time": "2023-03-25T11:45:22.936515",
     "exception": false,
     "start_time": "2023-03-25T11:45:22.924188",
     "status": "completed"
    },
    "tags": []
   },
   "outputs": [],
   "source": [
    "#| echo: false\n",
    "#| output: false\n",
    "basepath = \"/home/u1/\""
   ]
  },
  {
   "cell_type": "code",
   "execution_count": 2,
   "id": "f59ef549-32d7-4459-b456-45157fd39f02",
   "metadata": {
    "execution": {
     "iopub.execute_input": "2023-03-25T11:45:22.945319Z",
     "iopub.status.busy": "2023-03-25T11:45:22.944944Z",
     "iopub.status.idle": "2023-03-25T11:45:23.268275Z",
     "shell.execute_reply": "2023-03-25T11:45:23.267646Z"
    },
    "papermill": {
     "duration": 0.329999,
     "end_time": "2023-03-25T11:45:23.270494",
     "exception": false,
     "start_time": "2023-03-25T11:45:22.940495",
     "status": "completed"
    },
    "tags": []
   },
   "outputs": [],
   "source": [
    "#| echo: false\n",
    "#| output: false\n",
    "import os\n",
    "os.environ[\"MODIN_ENGINE\"] = \"dask\"\n",
    "import modin.pandas as pd\n",
    "import numpy as np\n",
    "\n",
    "pd.set_option(\"display.max_columns\", None)"
   ]
  },
  {
   "cell_type": "code",
   "execution_count": 3,
   "id": "d12ce5c6-e506-47d7-87d6-94b37863fb39",
   "metadata": {
    "execution": {
     "iopub.execute_input": "2023-03-25T11:45:23.281725Z",
     "iopub.status.busy": "2023-03-25T11:45:23.281465Z",
     "iopub.status.idle": "2023-03-25T11:45:23.572376Z",
     "shell.execute_reply": "2023-03-25T11:45:23.571606Z"
    },
    "papermill": {
     "duration": 0.298758,
     "end_time": "2023-03-25T11:45:23.574359",
     "exception": false,
     "start_time": "2023-03-25T11:45:23.275601",
     "status": "completed"
    },
    "tags": []
   },
   "outputs": [],
   "source": [
    "from detect_common import *"
   ]
  },
  {
   "cell_type": "code",
   "execution_count": 4,
   "id": "f3297aa6-d756-4368-b6a9-dc43b087a523",
   "metadata": {
    "execution": {
     "iopub.execute_input": "2023-03-25T11:45:23.585334Z",
     "iopub.status.busy": "2023-03-25T11:45:23.585009Z",
     "iopub.status.idle": "2023-03-25T11:45:23.588049Z",
     "shell.execute_reply": "2023-03-25T11:45:23.587575Z"
    },
    "papermill": {
     "duration": 0.010089,
     "end_time": "2023-03-25T11:45:23.589490",
     "exception": false,
     "start_time": "2023-03-25T11:45:23.579401",
     "status": "completed"
    },
    "tags": []
   },
   "outputs": [],
   "source": [
    "#| output: false\n",
    "p1version = \"v6\"\n",
    "p2version = \"v7\"\n",
    "p3version = \"v5\""
   ]
  },
  {
   "cell_type": "code",
   "execution_count": 5,
   "id": "85f79e6a-fd00-464f-8486-60823d6a672a",
   "metadata": {
    "execution": {
     "iopub.execute_input": "2023-03-25T11:45:23.599787Z",
     "iopub.status.busy": "2023-03-25T11:45:23.599402Z",
     "iopub.status.idle": "2023-03-25T11:45:23.602072Z",
     "shell.execute_reply": "2023-03-25T11:45:23.601598Z"
    },
    "papermill": {
     "duration": 0.009266,
     "end_time": "2023-03-25T11:45:23.603433",
     "exception": false,
     "start_time": "2023-03-25T11:45:23.594167",
     "status": "completed"
    },
    "tags": [
     "parameters"
    ]
   },
   "outputs": [],
   "source": [
    "model = 'RF'\n",
    "normed = True\n",
    "skips_and_weights = [2,4,0,0]"
   ]
  },
  {
   "cell_type": "code",
   "execution_count": 6,
   "id": "f15ca82f",
   "metadata": {
    "execution": {
     "iopub.execute_input": "2023-03-25T11:45:23.614383Z",
     "iopub.status.busy": "2023-03-25T11:45:23.614201Z",
     "iopub.status.idle": "2023-03-25T11:45:23.616921Z",
     "shell.execute_reply": "2023-03-25T11:45:23.616448Z"
    },
    "papermill": {
     "duration": 0.009517,
     "end_time": "2023-03-25T11:45:23.618408",
     "exception": false,
     "start_time": "2023-03-25T11:45:23.608891",
     "status": "completed"
    },
    "tags": [
     "injected-parameters"
    ]
   },
   "outputs": [],
   "source": [
    "# Parameters\n",
    "model = \"RF\"\n",
    "normed = False\n",
    "skips_and_weights = [1, 4, 1, 4]\n"
   ]
  },
  {
   "cell_type": "code",
   "execution_count": 7,
   "id": "264f7781-2969-4b4d-9c56-cc61dc7b79e4",
   "metadata": {
    "execution": {
     "iopub.execute_input": "2023-03-25T11:45:23.628319Z",
     "iopub.status.busy": "2023-03-25T11:45:23.628151Z",
     "iopub.status.idle": "2023-03-25T11:45:29.124408Z",
     "shell.execute_reply": "2023-03-25T11:45:29.123825Z"
    },
    "papermill": {
     "duration": 5.513672,
     "end_time": "2023-03-25T11:45:29.136383",
     "exception": false,
     "start_time": "2023-03-25T11:45:23.622711",
     "status": "completed"
    },
    "tags": []
   },
   "outputs": [
    {
     "name": "stderr",
     "output_type": "stream",
     "text": [
      "UserWarning: Dask execution environment not yet initialized. Initializing...\n",
      "To remove this warning, run the following python code before doing dataframe operations:\n",
      "\n",
      "    from distributed import Client\n",
      "\n",
      "    client = Client()\n",
      "\n",
      "UserWarning: Port 8787 is already in use.\n",
      "Perhaps you already have a cluster running?\n",
      "Hosting the HTTP server on port 33471 instead\n"
     ]
    }
   ],
   "source": [
    "import dateutil.parser\n",
    "\n",
    "df_b1 = pd.read_feather(\"cached/v5_1.ft\")"
   ]
  },
  {
   "cell_type": "code",
   "execution_count": 8,
   "id": "e1f828b4-aa8c-4f49-b4af-890104845789",
   "metadata": {
    "execution": {
     "iopub.execute_input": "2023-03-25T11:45:29.155700Z",
     "iopub.status.busy": "2023-03-25T11:45:29.155275Z",
     "iopub.status.idle": "2023-03-25T11:45:33.959674Z",
     "shell.execute_reply": "2023-03-25T11:45:33.958951Z"
    },
    "papermill": {
     "duration": 4.817045,
     "end_time": "2023-03-25T11:45:33.962262",
     "exception": false,
     "start_time": "2023-03-25T11:45:29.145217",
     "status": "completed"
    },
    "tags": []
   },
   "outputs": [
    {
     "name": "stderr",
     "output_type": "stream",
     "text": [
      "UserWarning: `Series.tolist` is not currently supported by PandasOnDask, defaulting to pandas implementation.\n",
      "Please refer to https://modin.readthedocs.io/en/stable/supported_apis/defaulting_to_pandas.html for explanation.\n"
     ]
    },
    {
     "name": "stderr",
     "output_type": "stream",
     "text": [
      "UserWarning: `Series.tolist` is not currently supported by PandasOnDask, defaulting to pandas implementation.\n"
     ]
    },
    {
     "name": "stderr",
     "output_type": "stream",
     "text": [
      "UserWarning: Defaulting to pandas implementation.\n",
      "Reason: `lines` argument not supported\n",
      "FutureWarning: the 'numpy' keyword is deprecated and will be removed in a future version. Please take steps to stop the use of 'numpy'\n"
     ]
    }
   ],
   "source": [
    "path_doh_ips_androids = basepath + \"datasets/flubot20230323/data/v5_benign_doh_ips.csv\"\n",
    "path_doh_ips_general = \"doh_resolver_ip.csv\"\n",
    "full_list = get_doh_ips(path_doh_ips_androids) + get_doh_ips(path_doh_ips_general)\n",
    "\n",
    "cp = CacheableProcessing(100, 100, full_list)\n",
    "df_b1_p = cp.process(df_b1, f\"cached/v5_1.p3.{p3version}.cp.ft\")"
   ]
  },
  {
   "cell_type": "code",
   "execution_count": 9,
   "id": "7daa1018-6186-4b0c-8669-80fa4e04f914",
   "metadata": {
    "execution": {
     "iopub.execute_input": "2023-03-25T11:45:33.980941Z",
     "iopub.status.busy": "2023-03-25T11:45:33.979902Z",
     "iopub.status.idle": "2023-03-25T11:45:34.250384Z",
     "shell.execute_reply": "2023-03-25T11:45:34.249674Z"
    },
    "papermill": {
     "duration": 0.283601,
     "end_time": "2023-03-25T11:45:34.252224",
     "exception": false,
     "start_time": "2023-03-25T11:45:33.968623",
     "status": "completed"
    },
    "tags": []
   },
   "outputs": [],
   "source": [
    "from joblib import dump, load\n",
    "\n",
    "name = (\n",
    "    ('normed-' if normed else 'unnormed-') + \n",
    "    '-'.join(str(p) for p in skips_and_weights)\n",
    ")\n",
    "\n",
    "clf = load(f'models/{model}-mix-1-p-{name}.p1.{p1version}.p2.{p2version}.joblib')\n"
   ]
  },
  {
   "cell_type": "code",
   "execution_count": 10,
   "id": "edf3713d-545a-4940-8c88-f830a82b48e8",
   "metadata": {
    "execution": {
     "iopub.execute_input": "2023-03-25T11:45:34.269525Z",
     "iopub.status.busy": "2023-03-25T11:45:34.268917Z",
     "iopub.status.idle": "2023-03-25T11:46:41.248133Z",
     "shell.execute_reply": "2023-03-25T11:46:41.247317Z"
    },
    "papermill": {
     "duration": 66.991455,
     "end_time": "2023-03-25T11:46:41.250351",
     "exception": false,
     "start_time": "2023-03-25T11:45:34.258896",
     "status": "completed"
    },
    "tags": []
   },
   "outputs": [
    {
     "name": "stderr",
     "output_type": "stream",
     "text": [
      "UserWarning: `Series.__array_wrap__` is not currently supported by PandasOnDask, defaulting to pandas implementation.\n"
     ]
    },
    {
     "name": "stderr",
     "output_type": "stream",
     "text": [
      "UserWarning: Distributing <class 'pandas.core.series.Series'> object. This may take some time.\n"
     ]
    },
    {
     "name": "stderr",
     "output_type": "stream",
     "text": [
      "2023-03-25 11:45:41,870 - distributed.worker - ERROR - Exception during execution of task lambda-fe2219f10b65a7842be6019e48329851.\n",
      "Traceback (most recent call last):\n",
      "  File \"/opt/conda/lib/python3.10/site-packages/distributed/worker.py\", line 2390, in _prepare_args_for_execution\n",
      "    data[k] = self.data[k]\n",
      "  File \"/opt/conda/lib/python3.10/site-packages/distributed/spill.py\", line 245, in __getitem__\n",
      "    return super().__getitem__(key)\n",
      "  File \"/opt/conda/lib/python3.10/site-packages/zict/buffer.py\", line 108, in __getitem__\n",
      "    raise KeyError(key)\n",
      "KeyError: '_deploy_dask_func-fc3dceac-2c71-4ee8-947a-d967358b201c'\n",
      "\n",
      "During handling of the above exception, another exception occurred:\n",
      "\n",
      "Traceback (most recent call last):\n",
      "  File \"/opt/conda/lib/python3.10/site-packages/distributed/worker.py\", line 2271, in execute\n",
      "    args2, kwargs2 = self._prepare_args_for_execution(ts, args, kwargs)\n",
      "  File \"/opt/conda/lib/python3.10/site-packages/distributed/worker.py\", line 2394, in _prepare_args_for_execution\n",
      "    data[k] = Actor(type(self.state.actors[k]), self.address, k, self)\n",
      "KeyError: '_deploy_dask_func-fc3dceac-2c71-4ee8-947a-d967358b201c'\n"
     ]
    },
    {
     "name": "stderr",
     "output_type": "stream",
     "text": [
      "UserWarning: `Series.__array_wrap__` is not currently supported by PandasOnDask, defaulting to pandas implementation.\n"
     ]
    },
    {
     "name": "stderr",
     "output_type": "stream",
     "text": [
      "UserWarning: Distributing <class 'pandas.core.series.Series'> object. This may take some time.\n"
     ]
    },
    {
     "name": "stderr",
     "output_type": "stream",
     "text": [
      "2023-03-25 11:45:47,831 - distributed.worker - ERROR - Exception during execution of task lambda-3411454fcef6ff45eaa85e00eff30f44.\n",
      "Traceback (most recent call last):\n",
      "  File \"/opt/conda/lib/python3.10/site-packages/distributed/worker.py\", line 2390, in _prepare_args_for_execution\n",
      "    data[k] = self.data[k]\n",
      "  File \"/opt/conda/lib/python3.10/site-packages/distributed/spill.py\", line 245, in __getitem__\n",
      "    return super().__getitem__(key)\n",
      "  File \"/opt/conda/lib/python3.10/site-packages/zict/buffer.py\", line 108, in __getitem__\n",
      "    raise KeyError(key)\n",
      "KeyError: '_deploy_dask_func-813d3c17-afc7-4097-a351-ca4dd6c26841'\n",
      "\n",
      "During handling of the above exception, another exception occurred:\n",
      "\n",
      "Traceback (most recent call last):\n",
      "  File \"/opt/conda/lib/python3.10/site-packages/distributed/worker.py\", line 2271, in execute\n",
      "    args2, kwargs2 = self._prepare_args_for_execution(ts, args, kwargs)\n",
      "  File \"/opt/conda/lib/python3.10/site-packages/distributed/worker.py\", line 2394, in _prepare_args_for_execution\n",
      "    data[k] = Actor(type(self.state.actors[k]), self.address, k, self)\n",
      "KeyError: '_deploy_dask_func-813d3c17-afc7-4097-a351-ca4dd6c26841'\n"
     ]
    },
    {
     "name": "stderr",
     "output_type": "stream",
     "text": [
      "UserWarning: `Series.__array_wrap__` is not currently supported by PandasOnDask, defaulting to pandas implementation.\n"
     ]
    },
    {
     "name": "stderr",
     "output_type": "stream",
     "text": [
      "UserWarning: Distributing <class 'pandas.core.series.Series'> object. This may take some time.\n"
     ]
    },
    {
     "name": "stderr",
     "output_type": "stream",
     "text": [
      "2023-03-25 11:45:53,310 - distributed.worker - ERROR - Exception during execution of task lambda-ec27b7f659bee77d6303d48b89be6afa.\n",
      "Traceback (most recent call last):\n",
      "  File \"/opt/conda/lib/python3.10/site-packages/distributed/worker.py\", line 2390, in _prepare_args_for_execution\n",
      "    data[k] = self.data[k]\n",
      "  File \"/opt/conda/lib/python3.10/site-packages/distributed/spill.py\", line 245, in __getitem__\n",
      "    return super().__getitem__(key)\n",
      "  File \"/opt/conda/lib/python3.10/site-packages/zict/buffer.py\", line 108, in __getitem__\n",
      "    raise KeyError(key)\n",
      "KeyError: '_deploy_dask_func-d9e7861c-1c5a-4377-bbc4-f1d2805eab09'\n",
      "\n",
      "During handling of the above exception, another exception occurred:\n",
      "\n",
      "Traceback (most recent call last):\n",
      "  File \"/opt/conda/lib/python3.10/site-packages/distributed/worker.py\", line 2271, in execute\n",
      "    args2, kwargs2 = self._prepare_args_for_execution(ts, args, kwargs)\n",
      "  File \"/opt/conda/lib/python3.10/site-packages/distributed/worker.py\", line 2394, in _prepare_args_for_execution\n",
      "    data[k] = Actor(type(self.state.actors[k]), self.address, k, self)\n",
      "KeyError: '_deploy_dask_func-d9e7861c-1c5a-4377-bbc4-f1d2805eab09'\n"
     ]
    },
    {
     "name": "stderr",
     "output_type": "stream",
     "text": [
      "UserWarning: `Series.__array_wrap__` is not currently supported by PandasOnDask, defaulting to pandas implementation.\n"
     ]
    },
    {
     "name": "stderr",
     "output_type": "stream",
     "text": [
      "UserWarning: Distributing <class 'pandas.core.series.Series'> object. This may take some time.\n"
     ]
    },
    {
     "name": "stderr",
     "output_type": "stream",
     "text": [
      "2023-03-25 11:46:02,699 - distributed.worker - ERROR - Exception during execution of task lambda-e979feba6655a9868ef4789d3b686603.\n",
      "Traceback (most recent call last):\n",
      "  File \"/opt/conda/lib/python3.10/site-packages/distributed/worker.py\", line 2390, in _prepare_args_for_execution\n",
      "    data[k] = self.data[k]\n",
      "  File \"/opt/conda/lib/python3.10/site-packages/distributed/spill.py\", line 245, in __getitem__\n",
      "    return super().__getitem__(key)\n",
      "  File \"/opt/conda/lib/python3.10/site-packages/zict/buffer.py\", line 108, in __getitem__\n",
      "    raise KeyError(key)\n",
      "KeyError: 'apply_list_of_funcs-b05161f3-1575-4ae7-8681-2f2309571dd3'\n",
      "\n",
      "During handling of the above exception, another exception occurred:\n",
      "\n",
      "Traceback (most recent call last):\n",
      "  File \"/opt/conda/lib/python3.10/site-packages/distributed/worker.py\", line 2271, in execute\n",
      "    args2, kwargs2 = self._prepare_args_for_execution(ts, args, kwargs)\n",
      "  File \"/opt/conda/lib/python3.10/site-packages/distributed/worker.py\", line 2394, in _prepare_args_for_execution\n",
      "    data[k] = Actor(type(self.state.actors[k]), self.address, k, self)\n",
      "KeyError: 'apply_list_of_funcs-b05161f3-1575-4ae7-8681-2f2309571dd3'\n"
     ]
    },
    {
     "name": "stderr",
     "output_type": "stream",
     "text": [
      "UserWarning: `Series.__array_wrap__` is not currently supported by PandasOnDask, defaulting to pandas implementation.\n"
     ]
    },
    {
     "name": "stderr",
     "output_type": "stream",
     "text": [
      "UserWarning: Distributing <class 'pandas.core.series.Series'> object. This may take some time.\n"
     ]
    },
    {
     "name": "stderr",
     "output_type": "stream",
     "text": [
      "2023-03-25 11:46:04,811 - distributed.worker - ERROR - Exception during execution of task lambda-9d2c7f3584a222d11c2c1839d9105c0f.\n",
      "Traceback (most recent call last):\n",
      "  File \"/opt/conda/lib/python3.10/site-packages/distributed/worker.py\", line 2390, in _prepare_args_for_execution\n",
      "    data[k] = self.data[k]\n",
      "  File \"/opt/conda/lib/python3.10/site-packages/distributed/spill.py\", line 245, in __getitem__\n",
      "    return super().__getitem__(key)\n",
      "  File \"/opt/conda/lib/python3.10/site-packages/zict/buffer.py\", line 108, in __getitem__\n",
      "    raise KeyError(key)\n",
      "KeyError: '_deploy_dask_func-13e268d6-cc31-4c43-a406-1e3c5e5c775a'\n",
      "\n",
      "During handling of the above exception, another exception occurred:\n",
      "\n",
      "Traceback (most recent call last):\n",
      "  File \"/opt/conda/lib/python3.10/site-packages/distributed/worker.py\", line 2271, in execute\n",
      "    args2, kwargs2 = self._prepare_args_for_execution(ts, args, kwargs)\n",
      "  File \"/opt/conda/lib/python3.10/site-packages/distributed/worker.py\", line 2394, in _prepare_args_for_execution\n",
      "    data[k] = Actor(type(self.state.actors[k]), self.address, k, self)\n",
      "KeyError: '_deploy_dask_func-13e268d6-cc31-4c43-a406-1e3c5e5c775a'\n"
     ]
    },
    {
     "name": "stderr",
     "output_type": "stream",
     "text": [
      "UserWarning: `Series.__array_wrap__` is not currently supported by PandasOnDask, defaulting to pandas implementation.\n"
     ]
    },
    {
     "name": "stderr",
     "output_type": "stream",
     "text": [
      "UserWarning: Distributing <class 'pandas.core.series.Series'> object. This may take some time.\n"
     ]
    },
    {
     "name": "stderr",
     "output_type": "stream",
     "text": [
      "UserWarning: `DataFrame.to_json` is not currently supported by PandasOnDask, defaulting to pandas implementation.\n"
     ]
    },
    {
     "name": "stderr",
     "output_type": "stream",
     "text": [
      "UserWarning: Distributing <class 'pandas.core.frame.DataFrame'> object. This may take some time.\n"
     ]
    },
    {
     "name": "stderr",
     "output_type": "stream",
     "text": [
      "UserWarning: `DataFrame.to_json` is not currently supported by PandasOnDask, defaulting to pandas implementation.\n"
     ]
    },
    {
     "name": "stderr",
     "output_type": "stream",
     "text": [
      "UserWarning: Distributing <class 'pandas.core.frame.DataFrame'> object. This may take some time.\n"
     ]
    },
    {
     "name": "stderr",
     "output_type": "stream",
     "text": [
      "UserWarning: `DataFrame.to_json` is not currently supported by PandasOnDask, defaulting to pandas implementation.\n"
     ]
    },
    {
     "name": "stderr",
     "output_type": "stream",
     "text": [
      "UserWarning: Distributing <class 'pandas.core.frame.DataFrame'> object. This may take some time.\n"
     ]
    }
   ],
   "source": [
    "pp_b1 = PreProcessing(normed, *skips_and_weights)\n",
    "\n",
    "df_b1_pp = pp_b1.process(\n",
    "    df_b1_p,\n",
    "    f\"cached/p3.{p3version}.pp.{model}-{name}.saved\", \n",
    "    fit_new_scaler=True\n",
    ")"
   ]
  },
  {
   "cell_type": "code",
   "execution_count": 11,
   "id": "6c552387-a1c3-4c87-86bc-72d4604a63ba",
   "metadata": {
    "execution": {
     "iopub.execute_input": "2023-03-25T11:46:41.275142Z",
     "iopub.status.busy": "2023-03-25T11:46:41.274898Z",
     "iopub.status.idle": "2023-03-25T11:46:41.279058Z",
     "shell.execute_reply": "2023-03-25T11:46:41.278356Z"
    },
    "papermill": {
     "duration": 0.018459,
     "end_time": "2023-03-25T11:46:41.280410",
     "exception": false,
     "start_time": "2023-03-25T11:46:41.261951",
     "status": "completed"
    },
    "tags": []
   },
   "outputs": [],
   "source": [
    "pp_b1.store_scaler(\n",
    "    f\"cached/p3.{p3version}.pp.{model}-{name}.scaler\"\n",
    ")"
   ]
  },
  {
   "cell_type": "markdown",
   "id": "10b0c26b-fefe-4bf2-8aeb-1b5d2e558a43",
   "metadata": {
    "papermill": {
     "duration": 0.005513,
     "end_time": "2023-03-25T11:46:41.292366",
     "exception": false,
     "start_time": "2023-03-25T11:46:41.286853",
     "status": "completed"
    },
    "tags": []
   },
   "source": [
    "### Stage II: Malware detection\n",
    "\n",
    "On this state we turn on the malware detection, provisioning the model with the scaler trained before. For malware detection we use the data trained in B2 period."
   ]
  },
  {
   "cell_type": "code",
   "execution_count": 12,
   "id": "c92c81ef-2f5e-4a96-97aa-1779e2e90805",
   "metadata": {
    "execution": {
     "iopub.execute_input": "2023-03-25T11:46:41.305460Z",
     "iopub.status.busy": "2023-03-25T11:46:41.305046Z",
     "iopub.status.idle": "2023-03-25T11:46:44.237907Z",
     "shell.execute_reply": "2023-03-25T11:46:44.236004Z"
    },
    "papermill": {
     "duration": 2.9422,
     "end_time": "2023-03-25T11:46:44.240305",
     "exception": false,
     "start_time": "2023-03-25T11:46:41.298105",
     "status": "completed"
    },
    "tags": []
   },
   "outputs": [],
   "source": [
    "df_b2 = pd.read_feather(\"cached/v5_2.ft\")"
   ]
  },
  {
   "cell_type": "code",
   "execution_count": 13,
   "id": "2e14959a-c427-4f07-90b9-a5aaf22cdf34",
   "metadata": {
    "execution": {
     "iopub.execute_input": "2023-03-25T11:46:44.262457Z",
     "iopub.status.busy": "2023-03-25T11:46:44.262256Z",
     "iopub.status.idle": "2023-03-25T11:46:55.945059Z",
     "shell.execute_reply": "2023-03-25T11:46:55.944377Z"
    },
    "papermill": {
     "duration": 11.698071,
     "end_time": "2023-03-25T11:46:55.947690",
     "exception": false,
     "start_time": "2023-03-25T11:46:44.249619",
     "status": "completed"
    },
    "tags": []
   },
   "outputs": [
    {
     "name": "stderr",
     "output_type": "stream",
     "text": [
      "UserWarning: Defaulting to pandas implementation.\n",
      "Reason: `lines` argument not supported\n",
      "FutureWarning: the 'numpy' keyword is deprecated and will be removed in a future version. Please take steps to stop the use of 'numpy'\n"
     ]
    }
   ],
   "source": [
    "cp = CacheableProcessing(100, 100, full_list)\n",
    "df_b2_p = cp.process(df_b2, f\"cached/v5_2.p3.{p3version}.cp.ft\")"
   ]
  },
  {
   "cell_type": "code",
   "execution_count": 14,
   "id": "56b34685-fb23-4bf1-8c80-8aa1514158f2",
   "metadata": {
    "execution": {
     "iopub.execute_input": "2023-03-25T11:46:55.965769Z",
     "iopub.status.busy": "2023-03-25T11:46:55.965529Z",
     "iopub.status.idle": "2023-03-25T11:48:22.160252Z",
     "shell.execute_reply": "2023-03-25T11:48:22.159229Z"
    },
    "papermill": {
     "duration": 86.204399,
     "end_time": "2023-03-25T11:48:22.162311",
     "exception": false,
     "start_time": "2023-03-25T11:46:55.957912",
     "status": "completed"
    },
    "tags": []
   },
   "outputs": [
    {
     "name": "stderr",
     "output_type": "stream",
     "text": [
      "UserWarning: `Series.__array_wrap__` is not currently supported by PandasOnDask, defaulting to pandas implementation.\n"
     ]
    },
    {
     "name": "stderr",
     "output_type": "stream",
     "text": [
      "UserWarning: Distributing <class 'pandas.core.series.Series'> object. This may take some time.\n"
     ]
    },
    {
     "name": "stderr",
     "output_type": "stream",
     "text": [
      "2023-03-25 11:47:08,258 - distributed.worker - WARNING - Could not find data: {'function-8d4048e3846048eeb0aeb13cb78597e2': ['tcp://127.0.0.1:36687', 'tcp://127.0.0.1:36761', 'tcp://127.0.0.1:43121']} on workers: [] (who_has: {'function-8d4048e3846048eeb0aeb13cb78597e2': ['tcp://127.0.0.1:36687', 'tcp://127.0.0.1:36761', 'tcp://127.0.0.1:43121']})\n",
      "2023-03-25 11:47:08,260 - distributed.scheduler - WARNING - Worker tcp://127.0.0.1:35933 failed to acquire keys: {'function-8d4048e3846048eeb0aeb13cb78597e2': ('tcp://127.0.0.1:36687', 'tcp://127.0.0.1:36761', 'tcp://127.0.0.1:43121')}\n"
     ]
    },
    {
     "name": "stderr",
     "output_type": "stream",
     "text": [
      "2023-03-25 11:47:08,260 - distributed.worker - WARNING - Could not find data: {'function-8d4048e3846048eeb0aeb13cb78597e2': ['tcp://127.0.0.1:36687', 'tcp://127.0.0.1:36761', 'tcp://127.0.0.1:43121']} on workers: [] (who_has: {'function-8d4048e3846048eeb0aeb13cb78597e2': ['tcp://127.0.0.1:36687', 'tcp://127.0.0.1:36761', 'tcp://127.0.0.1:43121']})\n",
      "2023-03-25 11:47:08,265 - distributed.scheduler - WARNING - Worker tcp://127.0.0.1:33307 failed to acquire keys: {'function-8d4048e3846048eeb0aeb13cb78597e2': ('tcp://127.0.0.1:36687', 'tcp://127.0.0.1:36761', 'tcp://127.0.0.1:43121')}\n"
     ]
    },
    {
     "name": "stderr",
     "output_type": "stream",
     "text": [
      "2023-03-25 11:47:08,275 - distributed.worker - WARNING - Could not find data: {'function-8d4048e3846048eeb0aeb13cb78597e2': ['tcp://127.0.0.1:36687', 'tcp://127.0.0.1:36761', 'tcp://127.0.0.1:43121']} on workers: [] (who_has: {'function-8d4048e3846048eeb0aeb13cb78597e2': ['tcp://127.0.0.1:36687', 'tcp://127.0.0.1:36761', 'tcp://127.0.0.1:43121']})\n",
      "2023-03-25 11:47:08,281 - distributed.scheduler - WARNING - Worker tcp://127.0.0.1:37083 failed to acquire keys: {'function-8d4048e3846048eeb0aeb13cb78597e2': ('tcp://127.0.0.1:36687', 'tcp://127.0.0.1:36761', 'tcp://127.0.0.1:43121')}\n"
     ]
    },
    {
     "name": "stderr",
     "output_type": "stream",
     "text": [
      "2023-03-25 11:47:10,354 - distributed.worker - WARNING - Could not find data: {'function-177290fc3a63484697335b5fd269aa2a': ['tcp://127.0.0.1:43765', 'tcp://127.0.0.1:43919', 'tcp://127.0.0.1:43309']} on workers: [] (who_has: {'function-177290fc3a63484697335b5fd269aa2a': ['tcp://127.0.0.1:43765', 'tcp://127.0.0.1:43919', 'tcp://127.0.0.1:43309']})\n",
      "2023-03-25 11:47:10,359 - distributed.scheduler - WARNING - Worker tcp://127.0.0.1:39927 failed to acquire keys: {'function-177290fc3a63484697335b5fd269aa2a': ('tcp://127.0.0.1:43765', 'tcp://127.0.0.1:43919', 'tcp://127.0.0.1:43309')}\n"
     ]
    },
    {
     "name": "stderr",
     "output_type": "stream",
     "text": [
      "UserWarning: `Series.__array_wrap__` is not currently supported by PandasOnDask, defaulting to pandas implementation.\n"
     ]
    },
    {
     "name": "stderr",
     "output_type": "stream",
     "text": [
      "UserWarning: Distributing <class 'pandas.core.series.Series'> object. This may take some time.\n"
     ]
    },
    {
     "name": "stderr",
     "output_type": "stream",
     "text": [
      "UserWarning: `Series.__array_wrap__` is not currently supported by PandasOnDask, defaulting to pandas implementation.\n"
     ]
    },
    {
     "name": "stderr",
     "output_type": "stream",
     "text": [
      "UserWarning: Distributing <class 'pandas.core.series.Series'> object. This may take some time.\n"
     ]
    },
    {
     "name": "stderr",
     "output_type": "stream",
     "text": [
      "2023-03-25 11:47:25,793 - distributed.worker - ERROR - Exception during execution of task lambda-027ee11a2cfe6dce1e581f16ae6716cf.\n",
      "Traceback (most recent call last):\n",
      "  File \"/opt/conda/lib/python3.10/site-packages/distributed/worker.py\", line 2390, in _prepare_args_for_execution\n",
      "    data[k] = self.data[k]\n",
      "  File \"/opt/conda/lib/python3.10/site-packages/distributed/spill.py\", line 245, in __getitem__\n",
      "    return super().__getitem__(key)\n",
      "  File \"/opt/conda/lib/python3.10/site-packages/zict/buffer.py\", line 108, in __getitem__\n",
      "    raise KeyError(key)\n",
      "KeyError: 'apply_list_of_funcs-465c9f8f-4d5c-4362-8d4e-5332b841215c'\n",
      "\n",
      "During handling of the above exception, another exception occurred:\n",
      "\n",
      "Traceback (most recent call last):\n",
      "  File \"/opt/conda/lib/python3.10/site-packages/distributed/worker.py\", line 2271, in execute\n",
      "    args2, kwargs2 = self._prepare_args_for_execution(ts, args, kwargs)\n",
      "  File \"/opt/conda/lib/python3.10/site-packages/distributed/worker.py\", line 2394, in _prepare_args_for_execution\n",
      "    data[k] = Actor(type(self.state.actors[k]), self.address, k, self)\n",
      "KeyError: 'apply_list_of_funcs-465c9f8f-4d5c-4362-8d4e-5332b841215c'\n"
     ]
    },
    {
     "name": "stderr",
     "output_type": "stream",
     "text": [
      "UserWarning: `Series.__array_wrap__` is not currently supported by PandasOnDask, defaulting to pandas implementation.\n"
     ]
    },
    {
     "name": "stderr",
     "output_type": "stream",
     "text": [
      "UserWarning: Distributing <class 'pandas.core.series.Series'> object. This may take some time.\n"
     ]
    },
    {
     "name": "stderr",
     "output_type": "stream",
     "text": [
      "2023-03-25 11:47:32,044 - distributed.worker - ERROR - Exception during execution of task lambda-710530db0adbed8c9cb16d721682a46a.\n",
      "Traceback (most recent call last):\n",
      "  File \"/opt/conda/lib/python3.10/site-packages/distributed/worker.py\", line 2390, in _prepare_args_for_execution\n",
      "    data[k] = self.data[k]\n",
      "  File \"/opt/conda/lib/python3.10/site-packages/distributed/spill.py\", line 245, in __getitem__\n",
      "    return super().__getitem__(key)\n",
      "  File \"/opt/conda/lib/python3.10/site-packages/zict/buffer.py\", line 108, in __getitem__\n",
      "    raise KeyError(key)\n",
      "KeyError: 'apply_list_of_funcs-6ba91110-dc4d-4891-9ddf-2479d9ef2a4c'\n",
      "\n",
      "During handling of the above exception, another exception occurred:\n",
      "\n",
      "Traceback (most recent call last):\n",
      "  File \"/opt/conda/lib/python3.10/site-packages/distributed/worker.py\", line 2271, in execute\n",
      "    args2, kwargs2 = self._prepare_args_for_execution(ts, args, kwargs)\n",
      "  File \"/opt/conda/lib/python3.10/site-packages/distributed/worker.py\", line 2394, in _prepare_args_for_execution\n",
      "    data[k] = Actor(type(self.state.actors[k]), self.address, k, self)\n",
      "KeyError: 'apply_list_of_funcs-6ba91110-dc4d-4891-9ddf-2479d9ef2a4c'\n"
     ]
    },
    {
     "name": "stderr",
     "output_type": "stream",
     "text": [
      "UserWarning: `Series.__array_wrap__` is not currently supported by PandasOnDask, defaulting to pandas implementation.\n"
     ]
    },
    {
     "name": "stderr",
     "output_type": "stream",
     "text": [
      "UserWarning: Distributing <class 'pandas.core.series.Series'> object. This may take some time.\n"
     ]
    },
    {
     "name": "stderr",
     "output_type": "stream",
     "text": [
      "UserWarning: `Series.__array_wrap__` is not currently supported by PandasOnDask, defaulting to pandas implementation.\n"
     ]
    },
    {
     "name": "stderr",
     "output_type": "stream",
     "text": [
      "UserWarning: Distributing <class 'pandas.core.series.Series'> object. This may take some time.\n"
     ]
    },
    {
     "name": "stderr",
     "output_type": "stream",
     "text": [
      "UserWarning: `DataFrame.to_json` is not currently supported by PandasOnDask, defaulting to pandas implementation.\n"
     ]
    },
    {
     "name": "stderr",
     "output_type": "stream",
     "text": [
      "UserWarning: Distributing <class 'pandas.core.frame.DataFrame'> object. This may take some time.\n"
     ]
    },
    {
     "name": "stderr",
     "output_type": "stream",
     "text": [
      "UserWarning: `DataFrame.to_json` is not currently supported by PandasOnDask, defaulting to pandas implementation.\n"
     ]
    },
    {
     "name": "stderr",
     "output_type": "stream",
     "text": [
      "UserWarning: Distributing <class 'pandas.core.frame.DataFrame'> object. This may take some time.\n"
     ]
    },
    {
     "name": "stderr",
     "output_type": "stream",
     "text": [
      "UserWarning: `DataFrame.to_json` is not currently supported by PandasOnDask, defaulting to pandas implementation.\n"
     ]
    },
    {
     "name": "stderr",
     "output_type": "stream",
     "text": [
      "UserWarning: Distributing <class 'pandas.core.frame.DataFrame'> object. This may take some time.\n"
     ]
    }
   ],
   "source": [
    "pp_b2 = PreProcessing(normed, *skips_and_weights)\n",
    "pp_b2.load_scaler(\n",
    "    f\"cached/p3.{p3version}.pp.{model}-{name}.scaler\"\n",
    ")\n",
    "df_b2_pp, df_b2_pp_features, df_b2_pp_labels = pp_b2.process(\n",
    "    df_b2_p,\n",
    "    f\"cached/b2.p3.{p3version}.pp.{model}-{name}.saved\", \n",
    "    fit_new_scaler=False  # use scaler trained in B1\n",
    ")"
   ]
  },
  {
   "cell_type": "code",
   "execution_count": 15,
   "id": "3d76898c-0ba3-489f-b1d2-1a1577184037",
   "metadata": {
    "execution": {
     "iopub.execute_input": "2023-03-25T11:48:22.186203Z",
     "iopub.status.busy": "2023-03-25T11:48:22.185895Z",
     "iopub.status.idle": "2023-03-25T11:48:22.192937Z",
     "shell.execute_reply": "2023-03-25T11:48:22.192080Z"
    },
    "papermill": {
     "duration": 0.021745,
     "end_time": "2023-03-25T11:48:22.194229",
     "exception": false,
     "start_time": "2023-03-25T11:48:22.172484",
     "status": "completed"
    },
    "tags": []
   },
   "outputs": [],
   "source": [
    "def predict(pp, clf, threshold, df_pp, df_orig):\n",
    "    \"\"\"\n",
    "    pp: PreProcessing object\n",
    "    clf: classifier\n",
    "    threshold: >=threshold for positive (DoH) class\n",
    "    df_pp: preprocessed dataframe\n",
    "    df_orig: unprocessed dataframe\n",
    "    \"\"\"\n",
    "    df_pp2 = df_pp.copy()\n",
    "\n",
    "    df_pp2[\"IsDoHPredicted\"] = (clf.predict_proba(df_pp2[pp.feature_fields])[:,1] >= threshold).astype(bool)\n",
    "\n",
    "    df_orig2 = df_orig.copy()\n",
    "    # fill predicted to the original dataframe\n",
    "    df_orig2[\"IsDoHPredicted\"] = df_pp2[\"IsDoHPredicted\"]\n",
    "    # non-443 rows will be NaN, replace with False\n",
    "    df_orig2[\"IsDoHPredicted\"] = df_orig2[\"IsDoHPredicted\"].fillna(False)\n",
    "\n",
    "    return df_orig2\n"
   ]
  },
  {
   "cell_type": "code",
   "execution_count": 16,
   "id": "bbfee790-4c9e-4d47-8ee1-700c9321f377",
   "metadata": {
    "execution": {
     "iopub.execute_input": "2023-03-25T11:48:22.210407Z",
     "iopub.status.busy": "2023-03-25T11:48:22.210000Z",
     "iopub.status.idle": "2023-03-25T11:48:23.786181Z",
     "shell.execute_reply": "2023-03-25T11:48:23.785553Z"
    },
    "papermill": {
     "duration": 1.586087,
     "end_time": "2023-03-25T11:48:23.788271",
     "exception": false,
     "start_time": "2023-03-25T11:48:22.202184",
     "status": "completed"
    },
    "tags": []
   },
   "outputs": [],
   "source": [
    "results_df = pd.read_feather(f\"cached/robustness.balanced_mix-results.p3.{p3version}.ft\")\n",
    "results_df[\"skips_and_weights\"] = results_df[\"skips_and_weights\"].apply(str)\n",
    "model, normed, skips_and_weights_str, auc, fprs, tprs, thresholds = results_df[\n",
    "    (results_df[\"model\"] == model) & (results_df[\"normed\"] == normed) & (results_df[\"skips_and_weights\"] == str(np.array(skips_and_weights)))\n",
    "].iloc[0]"
   ]
  },
  {
   "cell_type": "code",
   "execution_count": 17,
   "id": "f7d50caf-4d05-470e-bac7-a80c6233a01a",
   "metadata": {
    "execution": {
     "iopub.execute_input": "2023-03-25T11:48:23.809108Z",
     "iopub.status.busy": "2023-03-25T11:48:23.808870Z",
     "iopub.status.idle": "2023-03-25T11:48:36.708875Z",
     "shell.execute_reply": "2023-03-25T11:48:36.708209Z"
    },
    "papermill": {
     "duration": 12.912771,
     "end_time": "2023-03-25T11:48:36.711619",
     "exception": false,
     "start_time": "2023-03-25T11:48:23.798848",
     "status": "completed"
    },
    "tags": []
   },
   "outputs": [],
   "source": [
    "data = {}\n",
    "for sensitivity in [0.8, 0.9]:\n",
    "    threshold = [threshold for tpr, threshold in zip(tprs, thresholds) if tpr >= sensitivity][0]\n",
    "    df_pred = predict(pp_b2, clf, threshold, df_b2_pp, df_b2)\n",
    "    data[sensitivity] = {\n",
    "        'df': df_pred,  # dataframe with predicted values,\n",
    "        'threshold': threshold,\n",
    "    }\n"
   ]
  },
  {
   "cell_type": "code",
   "execution_count": 18,
   "id": "8155dfaa-56e5-4115-bc01-4b06534d79bc",
   "metadata": {
    "execution": {
     "iopub.execute_input": "2023-03-25T11:48:36.734425Z",
     "iopub.status.busy": "2023-03-25T11:48:36.733560Z",
     "iopub.status.idle": "2023-03-25T11:48:36.740371Z",
     "shell.execute_reply": "2023-03-25T11:48:36.739199Z"
    },
    "papermill": {
     "duration": 0.018482,
     "end_time": "2023-03-25T11:48:36.741894",
     "exception": false,
     "start_time": "2023-03-25T11:48:36.723412",
     "status": "completed"
    },
    "tags": []
   },
   "outputs": [],
   "source": [
    "def calc(df_n):\n",
    "    def rate(df_h):\n",
    "        dns_packets = df_h[df_h[\"IsDoHPredicted\"] == True][\"uint32 PACKETS\"].sum()  # outgoing packets\n",
    "        non_dns_ips = set(df_h[df_h[\"IsDoHPredicted\"] == False][\"ipaddr SRC_IP\"].unique()).union(\n",
    "            set(df_h[df_h[\"IsDoHPredicted\"] == False][\"ipaddr DST_IP\"].unique()))\n",
    "        rate = float(dns_packets) / (1.0 + len(non_dns_ips))\n",
    "        return {\"dns_packets\": dns_packets, \"non_dns\": len(non_dns_ips), \"rate\": rate, \"rate_log\": np.log(rate)}\n",
    "\n",
    "    return pd.DataFrame({ ip: rate(grp) for ip, grp in df_n.groupby([\"ipaddr SRC_IP\"]) }).T.reset_index()\n"
   ]
  },
  {
   "cell_type": "markdown",
   "id": "ac4629fe-dac8-4cd6-bc0e-417e9587531e",
   "metadata": {
    "papermill": {
     "duration": 0.007379,
     "end_time": "2023-03-25T11:48:36.756953",
     "exception": false,
     "start_time": "2023-03-25T11:48:36.749574",
     "status": "completed"
    },
    "tags": []
   },
   "source": [
    "#### Calculate ratio on the whole dataset"
   ]
  },
  {
   "cell_type": "code",
   "execution_count": 19,
   "id": "2cf669e6-0227-490d-af2a-7da1e433e0c3",
   "metadata": {
    "execution": {
     "iopub.execute_input": "2023-03-25T11:48:36.772080Z",
     "iopub.status.busy": "2023-03-25T11:48:36.771619Z",
     "iopub.status.idle": "2023-03-25T11:52:45.296752Z",
     "shell.execute_reply": "2023-03-25T11:52:45.295809Z"
    },
    "papermill": {
     "duration": 248.535062,
     "end_time": "2023-03-25T11:52:45.298554",
     "exception": false,
     "start_time": "2023-03-25T11:48:36.763492",
     "status": "completed"
    },
    "tags": []
   },
   "outputs": [
    {
     "name": "stdout",
     "output_type": "stream",
     "text": [
      "0.8\n"
     ]
    },
    {
     "name": "stderr",
     "output_type": "stream",
     "text": [
      "UserWarning: Group indices computation is not currently supported by PandasOnDask, defaulting to pandas implementation.\n"
     ]
    },
    {
     "name": "stderr",
     "output_type": "stream",
     "text": [
      "RuntimeWarning: divide by zero encountered in log\n"
     ]
    },
    {
     "name": "stderr",
     "output_type": "stream",
     "text": [
      "2023-03-25 11:50:13,788 - distributed.utils_perf - WARNING - full garbage collections took 10% CPU time recently (threshold: 10%)\n"
     ]
    },
    {
     "name": "stderr",
     "output_type": "stream",
     "text": [
      "2023-03-25 11:50:16,827 - distributed.utils_perf - WARNING - full garbage collections took 10% CPU time recently (threshold: 10%)\n"
     ]
    },
    {
     "name": "stderr",
     "output_type": "stream",
     "text": [
      "2023-03-25 11:50:22,337 - distributed.utils_perf - WARNING - full garbage collections took 10% CPU time recently (threshold: 10%)\n"
     ]
    },
    {
     "name": "stderr",
     "output_type": "stream",
     "text": [
      "2023-03-25 11:50:26,392 - distributed.utils_perf - WARNING - full garbage collections took 10% CPU time recently (threshold: 10%)\n"
     ]
    },
    {
     "name": "stderr",
     "output_type": "stream",
     "text": [
      "2023-03-25 11:50:30,006 - distributed.utils_perf - WARNING - full garbage collections took 10% CPU time recently (threshold: 10%)\n"
     ]
    },
    {
     "name": "stderr",
     "output_type": "stream",
     "text": [
      "2023-03-25 11:50:30,789 - distributed.worker - ERROR - Exception during execution of task lambda-2a1c1a4bb97b9f789fe95d4a5e342d90.\n",
      "Traceback (most recent call last):\n",
      "  File \"/opt/conda/lib/python3.10/site-packages/distributed/worker.py\", line 2390, in _prepare_args_for_execution\n",
      "    data[k] = self.data[k]\n",
      "  File \"/opt/conda/lib/python3.10/site-packages/distributed/spill.py\", line 245, in __getitem__\n",
      "    return super().__getitem__(key)\n",
      "  File \"/opt/conda/lib/python3.10/site-packages/zict/buffer.py\", line 108, in __getitem__\n",
      "    raise KeyError(key)\n",
      "KeyError: 'apply_func-f88a9687-5a03-4fb1-8559-1f1ac0a3401c'\n",
      "\n",
      "During handling of the above exception, another exception occurred:\n",
      "\n",
      "Traceback (most recent call last):\n",
      "  File \"/opt/conda/lib/python3.10/site-packages/distributed/worker.py\", line 2271, in execute\n",
      "    args2, kwargs2 = self._prepare_args_for_execution(ts, args, kwargs)\n",
      "  File \"/opt/conda/lib/python3.10/site-packages/distributed/worker.py\", line 2394, in _prepare_args_for_execution\n",
      "    data[k] = Actor(type(self.state.actors[k]), self.address, k, self)\n",
      "KeyError: 'apply_func-f88a9687-5a03-4fb1-8559-1f1ac0a3401c'\n"
     ]
    },
    {
     "name": "stderr",
     "output_type": "stream",
     "text": [
      "2023-03-25 11:50:34,320 - distributed.worker - ERROR - Exception during execution of task lambda-f54057c24091f263971cf0168f952ec5.\n",
      "Traceback (most recent call last):\n",
      "  File \"/opt/conda/lib/python3.10/site-packages/distributed/worker.py\", line 2390, in _prepare_args_for_execution\n",
      "    data[k] = self.data[k]\n",
      "  File \"/opt/conda/lib/python3.10/site-packages/distributed/spill.py\", line 245, in __getitem__\n",
      "    return super().__getitem__(key)\n",
      "  File \"/opt/conda/lib/python3.10/site-packages/zict/buffer.py\", line 108, in __getitem__\n",
      "    raise KeyError(key)\n",
      "KeyError: '_deploy_dask_func-0ab82655-193c-4956-9335-2dc34468970a'\n",
      "\n",
      "During handling of the above exception, another exception occurred:\n",
      "\n",
      "Traceback (most recent call last):\n",
      "  File \"/opt/conda/lib/python3.10/site-packages/distributed/worker.py\", line 2271, in execute\n",
      "    args2, kwargs2 = self._prepare_args_for_execution(ts, args, kwargs)\n",
      "  File \"/opt/conda/lib/python3.10/site-packages/distributed/worker.py\", line 2394, in _prepare_args_for_execution\n",
      "    data[k] = Actor(type(self.state.actors[k]), self.address, k, self)\n",
      "KeyError: '_deploy_dask_func-0ab82655-193c-4956-9335-2dc34468970a'\n"
     ]
    },
    {
     "name": "stderr",
     "output_type": "stream",
     "text": [
      "2023-03-25 11:50:35,337 - distributed.utils_perf - WARNING - full garbage collections took 10% CPU time recently (threshold: 10%)\n"
     ]
    },
    {
     "name": "stderr",
     "output_type": "stream",
     "text": [
      "RuntimeWarning: divide by zero encountered in log\n",
      "UserWarning: Distributing <class 'dict'> object. This may take some time.\n"
     ]
    },
    {
     "name": "stderr",
     "output_type": "stream",
     "text": [
      "2023-03-25 11:50:39,629 - distributed.utils_perf - WARNING - full garbage collections took 10% CPU time recently (threshold: 10%)\n"
     ]
    },
    {
     "data": {
      "text/html": [
       "<div>\n",
       "<style scoped>\n",
       "    .dataframe tbody tr th:only-of-type {\n",
       "        vertical-align: middle;\n",
       "    }\n",
       "\n",
       "    .dataframe tbody tr th {\n",
       "        vertical-align: top;\n",
       "    }\n",
       "\n",
       "    .dataframe thead th {\n",
       "        text-align: right;\n",
       "    }\n",
       "</style>\n",
       "<table border=\"1\" class=\"dataframe\">\n",
       "  <thead>\n",
       "    <tr style=\"text-align: right;\">\n",
       "      <th></th>\n",
       "      <th>index</th>\n",
       "      <th>dns_packets</th>\n",
       "      <th>non_dns</th>\n",
       "      <th>rate</th>\n",
       "      <th>rate_log</th>\n",
       "    </tr>\n",
       "  </thead>\n",
       "  <tbody>\n",
       "    <tr>\n",
       "      <th>0</th>\n",
       "      <td>192.168.1.1</td>\n",
       "      <td>0.0</td>\n",
       "      <td>2.0</td>\n",
       "      <td>0.000000</td>\n",
       "      <td>-inf</td>\n",
       "    </tr>\n",
       "    <tr>\n",
       "      <th>1</th>\n",
       "      <td>192.168.2.149</td>\n",
       "      <td>110756.0</td>\n",
       "      <td>4912.0</td>\n",
       "      <td>22.543456</td>\n",
       "      <td>3.115445</td>\n",
       "    </tr>\n",
       "    <tr>\n",
       "      <th>2</th>\n",
       "      <td>192.168.2.217</td>\n",
       "      <td>235.0</td>\n",
       "      <td>21.0</td>\n",
       "      <td>10.681818</td>\n",
       "      <td>2.368543</td>\n",
       "    </tr>\n",
       "    <tr>\n",
       "      <th>3</th>\n",
       "      <td>192.168.2.249</td>\n",
       "      <td>26635.0</td>\n",
       "      <td>3865.0</td>\n",
       "      <td>6.889550</td>\n",
       "      <td>1.930006</td>\n",
       "    </tr>\n",
       "    <tr>\n",
       "      <th>4</th>\n",
       "      <td>192.168.2.42</td>\n",
       "      <td>0.0</td>\n",
       "      <td>5.0</td>\n",
       "      <td>0.000000</td>\n",
       "      <td>-inf</td>\n",
       "    </tr>\n",
       "  </tbody>\n",
       "</table>\n",
       "</div>"
      ],
      "text/plain": [
       "           index  dns_packets  non_dns       rate  rate_log\n",
       "0    192.168.1.1          0.0      2.0   0.000000      -inf\n",
       "1  192.168.2.149     110756.0   4912.0  22.543456  3.115445\n",
       "2  192.168.2.217        235.0     21.0  10.681818  2.368543\n",
       "3  192.168.2.249      26635.0   3865.0   6.889550  1.930006\n",
       "4   192.168.2.42          0.0      5.0   0.000000      -inf"
      ]
     },
     "metadata": {},
     "output_type": "display_data"
    },
    {
     "name": "stdout",
     "output_type": "stream",
     "text": [
      "0.9\n"
     ]
    },
    {
     "name": "stderr",
     "output_type": "stream",
     "text": [
      "2023-03-25 11:50:44,301 - distributed.utils_perf - WARNING - full garbage collections took 10% CPU time recently (threshold: 10%)\n"
     ]
    },
    {
     "name": "stderr",
     "output_type": "stream",
     "text": [
      "2023-03-25 11:50:47,304 - distributed.utils_perf - WARNING - full garbage collections took 11% CPU time recently (threshold: 10%)\n"
     ]
    },
    {
     "name": "stderr",
     "output_type": "stream",
     "text": [
      "UserWarning: Group indices computation is not currently supported by PandasOnDask, defaulting to pandas implementation.\n"
     ]
    },
    {
     "name": "stderr",
     "output_type": "stream",
     "text": [
      "2023-03-25 11:50:51,017 - distributed.utils_perf - WARNING - full garbage collections took 11% CPU time recently (threshold: 10%)\n"
     ]
    },
    {
     "name": "stderr",
     "output_type": "stream",
     "text": [
      "RuntimeWarning: divide by zero encountered in log\n"
     ]
    },
    {
     "name": "stderr",
     "output_type": "stream",
     "text": [
      "2023-03-25 11:50:55,316 - distributed.utils_perf - WARNING - full garbage collections took 11% CPU time recently (threshold: 10%)\n"
     ]
    },
    {
     "name": "stderr",
     "output_type": "stream",
     "text": [
      "2023-03-25 11:50:59,183 - distributed.utils_perf - WARNING - full garbage collections took 11% CPU time recently (threshold: 10%)\n"
     ]
    },
    {
     "name": "stderr",
     "output_type": "stream",
     "text": [
      "2023-03-25 11:51:02,851 - distributed.utils_perf - WARNING - full garbage collections took 11% CPU time recently (threshold: 10%)\n"
     ]
    },
    {
     "name": "stderr",
     "output_type": "stream",
     "text": [
      "2023-03-25 11:51:07,992 - distributed.utils_perf - WARNING - full garbage collections took 12% CPU time recently (threshold: 10%)\n"
     ]
    },
    {
     "name": "stderr",
     "output_type": "stream",
     "text": [
      "2023-03-25 11:51:11,258 - distributed.utils_perf - WARNING - full garbage collections took 11% CPU time recently (threshold: 10%)\n"
     ]
    },
    {
     "name": "stderr",
     "output_type": "stream",
     "text": [
      "2023-03-25 11:51:16,821 - distributed.utils_perf - WARNING - full garbage collections took 12% CPU time recently (threshold: 10%)\n"
     ]
    },
    {
     "name": "stderr",
     "output_type": "stream",
     "text": [
      "2023-03-25 11:51:22,416 - distributed.utils_perf - WARNING - full garbage collections took 12% CPU time recently (threshold: 10%)\n"
     ]
    },
    {
     "name": "stderr",
     "output_type": "stream",
     "text": [
      "2023-03-25 11:51:25,117 - distributed.utils_perf - WARNING - full garbage collections took 12% CPU time recently (threshold: 10%)\n"
     ]
    },
    {
     "name": "stderr",
     "output_type": "stream",
     "text": [
      "2023-03-25 11:51:29,086 - distributed.utils_perf - WARNING - full garbage collections took 12% CPU time recently (threshold: 10%)\n"
     ]
    },
    {
     "name": "stderr",
     "output_type": "stream",
     "text": [
      "2023-03-25 11:51:34,619 - distributed.utils_perf - WARNING - full garbage collections took 12% CPU time recently (threshold: 10%)\n"
     ]
    },
    {
     "name": "stderr",
     "output_type": "stream",
     "text": [
      "2023-03-25 11:51:37,337 - distributed.utils_perf - WARNING - full garbage collections took 12% CPU time recently (threshold: 10%)\n"
     ]
    },
    {
     "name": "stderr",
     "output_type": "stream",
     "text": [
      "2023-03-25 11:51:42,401 - distributed.utils_perf - WARNING - full garbage collections took 12% CPU time recently (threshold: 10%)\n"
     ]
    },
    {
     "name": "stderr",
     "output_type": "stream",
     "text": [
      "2023-03-25 11:51:46,019 - distributed.utils_perf - WARNING - full garbage collections took 12% CPU time recently (threshold: 10%)\n"
     ]
    },
    {
     "name": "stderr",
     "output_type": "stream",
     "text": [
      "2023-03-25 11:51:52,070 - distributed.utils_perf - WARNING - full garbage collections took 13% CPU time recently (threshold: 10%)\n"
     ]
    },
    {
     "name": "stderr",
     "output_type": "stream",
     "text": [
      "2023-03-25 11:51:56,808 - distributed.utils_perf - WARNING - full garbage collections took 14% CPU time recently (threshold: 10%)\n"
     ]
    },
    {
     "name": "stderr",
     "output_type": "stream",
     "text": [
      "2023-03-25 11:52:01,357 - distributed.utils_perf - WARNING - full garbage collections took 14% CPU time recently (threshold: 10%)\n"
     ]
    },
    {
     "name": "stderr",
     "output_type": "stream",
     "text": [
      "2023-03-25 11:52:05,906 - distributed.utils_perf - WARNING - full garbage collections took 14% CPU time recently (threshold: 10%)\n"
     ]
    },
    {
     "name": "stderr",
     "output_type": "stream",
     "text": [
      "2023-03-25 11:52:09,598 - distributed.utils_perf - WARNING - full garbage collections took 14% CPU time recently (threshold: 10%)\n"
     ]
    },
    {
     "name": "stderr",
     "output_type": "stream",
     "text": [
      "2023-03-25 11:52:13,579 - distributed.utils_perf - WARNING - full garbage collections took 14% CPU time recently (threshold: 10%)\n"
     ]
    },
    {
     "name": "stderr",
     "output_type": "stream",
     "text": [
      "2023-03-25 11:52:19,314 - distributed.utils_perf - WARNING - full garbage collections took 14% CPU time recently (threshold: 10%)\n"
     ]
    },
    {
     "name": "stderr",
     "output_type": "stream",
     "text": [
      "2023-03-25 11:52:22,047 - distributed.utils_perf - WARNING - full garbage collections took 14% CPU time recently (threshold: 10%)\n"
     ]
    },
    {
     "name": "stderr",
     "output_type": "stream",
     "text": [
      "2023-03-25 11:52:27,840 - distributed.utils_perf - WARNING - full garbage collections took 15% CPU time recently (threshold: 10%)\n"
     ]
    },
    {
     "name": "stderr",
     "output_type": "stream",
     "text": [
      "2023-03-25 11:52:32,344 - distributed.utils_perf - WARNING - full garbage collections took 15% CPU time recently (threshold: 10%)\n"
     ]
    },
    {
     "name": "stderr",
     "output_type": "stream",
     "text": [
      "2023-03-25 11:52:35,685 - distributed.utils_perf - WARNING - full garbage collections took 15% CPU time recently (threshold: 10%)\n"
     ]
    },
    {
     "name": "stderr",
     "output_type": "stream",
     "text": [
      "2023-03-25 11:52:40,295 - distributed.utils_perf - WARNING - full garbage collections took 15% CPU time recently (threshold: 10%)\n"
     ]
    },
    {
     "name": "stderr",
     "output_type": "stream",
     "text": [
      "2023-03-25 11:52:44,345 - distributed.utils_perf - WARNING - full garbage collections took 15% CPU time recently (threshold: 10%)\n"
     ]
    },
    {
     "name": "stderr",
     "output_type": "stream",
     "text": [
      "RuntimeWarning: divide by zero encountered in log\n",
      "UserWarning: Distributing <class 'dict'> object. This may take some time.\n"
     ]
    },
    {
     "data": {
      "text/html": [
       "<div>\n",
       "<style scoped>\n",
       "    .dataframe tbody tr th:only-of-type {\n",
       "        vertical-align: middle;\n",
       "    }\n",
       "\n",
       "    .dataframe tbody tr th {\n",
       "        vertical-align: top;\n",
       "    }\n",
       "\n",
       "    .dataframe thead th {\n",
       "        text-align: right;\n",
       "    }\n",
       "</style>\n",
       "<table border=\"1\" class=\"dataframe\">\n",
       "  <thead>\n",
       "    <tr style=\"text-align: right;\">\n",
       "      <th></th>\n",
       "      <th>index</th>\n",
       "      <th>dns_packets</th>\n",
       "      <th>non_dns</th>\n",
       "      <th>rate</th>\n",
       "      <th>rate_log</th>\n",
       "    </tr>\n",
       "  </thead>\n",
       "  <tbody>\n",
       "    <tr>\n",
       "      <th>0</th>\n",
       "      <td>192.168.1.1</td>\n",
       "      <td>0.0</td>\n",
       "      <td>2.0</td>\n",
       "      <td>0.000000</td>\n",
       "      <td>-inf</td>\n",
       "    </tr>\n",
       "    <tr>\n",
       "      <th>1</th>\n",
       "      <td>192.168.2.149</td>\n",
       "      <td>133846.0</td>\n",
       "      <td>4854.0</td>\n",
       "      <td>27.568692</td>\n",
       "      <td>3.316681</td>\n",
       "    </tr>\n",
       "    <tr>\n",
       "      <th>2</th>\n",
       "      <td>192.168.2.217</td>\n",
       "      <td>4620.0</td>\n",
       "      <td>19.0</td>\n",
       "      <td>231.000000</td>\n",
       "      <td>5.442418</td>\n",
       "    </tr>\n",
       "    <tr>\n",
       "      <th>3</th>\n",
       "      <td>192.168.2.249</td>\n",
       "      <td>48900.0</td>\n",
       "      <td>3836.0</td>\n",
       "      <td>12.744332</td>\n",
       "      <td>2.545087</td>\n",
       "    </tr>\n",
       "    <tr>\n",
       "      <th>4</th>\n",
       "      <td>192.168.2.42</td>\n",
       "      <td>0.0</td>\n",
       "      <td>5.0</td>\n",
       "      <td>0.000000</td>\n",
       "      <td>-inf</td>\n",
       "    </tr>\n",
       "  </tbody>\n",
       "</table>\n",
       "</div>"
      ],
      "text/plain": [
       "           index  dns_packets  non_dns        rate  rate_log\n",
       "0    192.168.1.1          0.0      2.0    0.000000      -inf\n",
       "1  192.168.2.149     133846.0   4854.0   27.568692  3.316681\n",
       "2  192.168.2.217       4620.0     19.0  231.000000  5.442418\n",
       "3  192.168.2.249      48900.0   3836.0   12.744332  2.545087\n",
       "4   192.168.2.42          0.0      5.0    0.000000      -inf"
      ]
     },
     "metadata": {},
     "output_type": "display_data"
    }
   ],
   "source": [
    "for sensitivity, value in data.items():\n",
    "    print(sensitivity)\n",
    "    df_pred = value[\"df\"]\n",
    "    local_df = df_pred[df_pred[\"ipaddr SRC_IP\"].str.startswith(\"192.168\")]\n",
    "    display(calc(local_df))\n"
   ]
  },
  {
   "cell_type": "markdown",
   "id": "6ab3069e-4858-474f-aead-0b8d7746efa3",
   "metadata": {
    "papermill": {
     "duration": 0.011846,
     "end_time": "2023-03-25T11:52:45.324781",
     "exception": false,
     "start_time": "2023-03-25T11:52:45.312935",
     "status": "completed"
    },
    "tags": []
   },
   "source": [
    "#### Split into time windows"
   ]
  },
  {
   "cell_type": "code",
   "execution_count": 20,
   "id": "b1d036bc-bcc9-4c84-97c4-fc3c12ed8360",
   "metadata": {
    "execution": {
     "iopub.execute_input": "2023-03-25T11:52:45.347145Z",
     "iopub.status.busy": "2023-03-25T11:52:45.346838Z",
     "iopub.status.idle": "2023-03-25T11:52:46.976518Z",
     "shell.execute_reply": "2023-03-25T11:52:46.975308Z"
    },
    "papermill": {
     "duration": 1.643412,
     "end_time": "2023-03-25T11:52:46.977934",
     "exception": false,
     "start_time": "2023-03-25T11:52:45.334522",
     "status": "completed"
    },
    "tags": []
   },
   "outputs": [
    {
     "name": "stderr",
     "output_type": "stream",
     "text": [
      "2023-03-25 11:52:46,148 - distributed.worker - WARNING - Could not find data: {'function-13e3b9365cbe4c4080b4a296a99c0e8a': ['tcp://127.0.0.1:43819', 'tcp://127.0.0.1:33097', 'tcp://127.0.0.1:42789', 'tcp://127.0.0.1:42445', 'tcp://127.0.0.1:38247', 'tcp://127.0.0.1:35933', 'tcp://127.0.0.1:46827', 'tcp://127.0.0.1:39771', 'tcp://127.0.0.1:33611']} on workers: [] (who_has: {'function-13e3b9365cbe4c4080b4a296a99c0e8a': ['tcp://127.0.0.1:43819', 'tcp://127.0.0.1:33097', 'tcp://127.0.0.1:42789', 'tcp://127.0.0.1:42445', 'tcp://127.0.0.1:38247', 'tcp://127.0.0.1:35933', 'tcp://127.0.0.1:46827', 'tcp://127.0.0.1:39771', 'tcp://127.0.0.1:33611']})\n",
      "2023-03-25 11:52:46,149 - distributed.scheduler - WARNING - Worker tcp://127.0.0.1:41971 failed to acquire keys: {'function-13e3b9365cbe4c4080b4a296a99c0e8a': ('tcp://127.0.0.1:43819', 'tcp://127.0.0.1:33097', 'tcp://127.0.0.1:42789', 'tcp://127.0.0.1:42445', 'tcp://127.0.0.1:38247', 'tcp://127.0.0.1:35933', 'tcp://127.0.0.1:46827', 'tcp://127.0.0.1:39771', 'tcp://127.0.0.1:33611')}\n"
     ]
    },
    {
     "data": {
      "text/plain": [
       "Timestamp('2023-03-23 14:50:04.316951')"
      ]
     },
     "execution_count": 20,
     "metadata": {},
     "output_type": "execute_result"
    }
   ],
   "source": [
    "min_ts = df_b2[\"time TIME_FIRST\"].apply(dateutil.parser.parse).min()\n",
    "min_ts"
   ]
  },
  {
   "cell_type": "code",
   "execution_count": 21,
   "id": "3d3f7f3e-7542-45ea-aee7-1912876e7382",
   "metadata": {
    "execution": {
     "iopub.execute_input": "2023-03-25T11:52:47.005602Z",
     "iopub.status.busy": "2023-03-25T11:52:47.004681Z",
     "iopub.status.idle": "2023-03-25T11:52:59.036163Z",
     "shell.execute_reply": "2023-03-25T11:52:59.035500Z"
    },
    "papermill": {
     "duration": 12.053612,
     "end_time": "2023-03-25T11:52:59.044242",
     "exception": false,
     "start_time": "2023-03-25T11:52:46.990630",
     "status": "completed"
    },
    "tags": []
   },
   "outputs": [
    {
     "name": "stderr",
     "output_type": "stream",
     "text": [
      "2023-03-25 11:52:50,138 - distributed.utils_perf - WARNING - full garbage collections took 15% CPU time recently (threshold: 10%)\n"
     ]
    },
    {
     "name": "stderr",
     "output_type": "stream",
     "text": [
      "2023-03-25 11:52:54,033 - distributed.utils_perf - WARNING - full garbage collections took 15% CPU time recently (threshold: 10%)\n"
     ]
    },
    {
     "name": "stderr",
     "output_type": "stream",
     "text": [
      "2023-03-25 11:52:58,144 - distributed.worker - ERROR - Exception during execution of task lambda-05ba320aab88de93cef0fc79ea9698c9.\n",
      "Traceback (most recent call last):\n",
      "  File \"/opt/conda/lib/python3.10/site-packages/distributed/worker.py\", line 2390, in _prepare_args_for_execution\n",
      "    data[k] = self.data[k]\n",
      "  File \"/opt/conda/lib/python3.10/site-packages/distributed/spill.py\", line 245, in __getitem__\n",
      "    return super().__getitem__(key)\n",
      "  File \"/opt/conda/lib/python3.10/site-packages/zict/buffer.py\", line 108, in __getitem__\n",
      "    raise KeyError(key)\n",
      "KeyError: 'apply_func-3c527005-3e08-40c7-ade5-00cc7c2a29e9'\n",
      "\n",
      "During handling of the above exception, another exception occurred:\n",
      "\n",
      "Traceback (most recent call last):\n",
      "  File \"/opt/conda/lib/python3.10/site-packages/distributed/worker.py\", line 2271, in execute\n",
      "    args2, kwargs2 = self._prepare_args_for_execution(ts, args, kwargs)\n",
      "  File \"/opt/conda/lib/python3.10/site-packages/distributed/worker.py\", line 2394, in _prepare_args_for_execution\n",
      "    data[k] = Actor(type(self.state.actors[k]), self.address, k, self)\n",
      "KeyError: 'apply_func-3c527005-3e08-40c7-ade5-00cc7c2a29e9'\n"
     ]
    },
    {
     "name": "stderr",
     "output_type": "stream",
     "text": [
      "2023-03-25 11:52:59,023 - distributed.utils_perf - WARNING - full garbage collections took 15% CPU time recently (threshold: 10%)\n"
     ]
    },
    {
     "data": {
      "text/plain": [
       "['192.168.2.249',\n",
       " '192.168.2.149',\n",
       " '192.168.2.42',\n",
       " '192.168.2.217',\n",
       " '192.168.1.1']"
      ]
     },
     "execution_count": 21,
     "metadata": {},
     "output_type": "execute_result"
    }
   ],
   "source": [
    "local_ips = df_b2[df_b2[\"ipaddr SRC_IP\"].str.startswith(\"192.168\")][\"ipaddr SRC_IP\"].unique().tolist()\n",
    "local_ips"
   ]
  },
  {
   "cell_type": "code",
   "execution_count": 22,
   "id": "c41e1871-24f4-43a5-9b55-189e2ead01f5",
   "metadata": {
    "execution": {
     "iopub.execute_input": "2023-03-25T11:52:59.080675Z",
     "iopub.status.busy": "2023-03-25T11:52:59.080430Z",
     "iopub.status.idle": "2023-03-25T12:06:11.989309Z",
     "shell.execute_reply": "2023-03-25T12:06:11.988511Z"
    },
    "papermill": {
     "duration": 792.931596,
     "end_time": "2023-03-25T12:06:11.991436",
     "exception": false,
     "start_time": "2023-03-25T11:52:59.059840",
     "status": "completed"
    },
    "tags": []
   },
   "outputs": [
    {
     "name": "stdout",
     "output_type": "stream",
     "text": [
      "0.8\n"
     ]
    },
    {
     "name": "stderr",
     "output_type": "stream",
     "text": [
      "2023-03-25 11:53:04,667 - distributed.utils_perf - WARNING - full garbage collections took 15% CPU time recently (threshold: 10%)\n"
     ]
    },
    {
     "name": "stderr",
     "output_type": "stream",
     "text": [
      "2023-03-25 11:53:06,712 - distributed.utils_perf - WARNING - full garbage collections took 15% CPU time recently (threshold: 10%)\n"
     ]
    },
    {
     "name": "stderr",
     "output_type": "stream",
     "text": [
      "2023-03-25 11:53:10,682 - distributed.utils_perf - WARNING - full garbage collections took 16% CPU time recently (threshold: 10%)\n"
     ]
    },
    {
     "name": "stderr",
     "output_type": "stream",
     "text": [
      "UserWarning: `DataFrame.groupby_on_multiple_columns` is not currently supported by PandasOnDask, defaulting to pandas implementation.\n"
     ]
    },
    {
     "name": "stderr",
     "output_type": "stream",
     "text": [
      "2023-03-25 11:53:15,922 - distributed.utils_perf - WARNING - full garbage collections took 16% CPU time recently (threshold: 10%)\n"
     ]
    },
    {
     "name": "stderr",
     "output_type": "stream",
     "text": [
      "2023-03-25 11:53:19,173 - distributed.utils_perf - WARNING - full garbage collections took 17% CPU time recently (threshold: 10%)\n"
     ]
    },
    {
     "name": "stderr",
     "output_type": "stream",
     "text": [
      "2023-03-25 11:53:22,044 - distributed.utils_perf - WARNING - full garbage collections took 17% CPU time recently (threshold: 10%)\n"
     ]
    },
    {
     "name": "stderr",
     "output_type": "stream",
     "text": [
      "FutureWarning: The `squeeze` parameter is deprecated and will be removed in a future version.\n"
     ]
    },
    {
     "name": "stderr",
     "output_type": "stream",
     "text": [
      "UserWarning: Distributing <class 'pandas.core.frame.DataFrame'> object. This may take some time.\n",
      "UserWarning: Group indices computation is not currently supported by PandasOnDask, defaulting to pandas implementation.\n"
     ]
    },
    {
     "name": "stderr",
     "output_type": "stream",
     "text": [
      "2023-03-25 11:53:27,383 - distributed.utils_perf - WARNING - full garbage collections took 16% CPU time recently (threshold: 10%)\n"
     ]
    },
    {
     "name": "stderr",
     "output_type": "stream",
     "text": [
      "2023-03-25 11:53:28,222 - distributed.worker - ERROR - Exception during execution of task lambda-5cd8ed7c80e0f38f3aad777b4adbc45c.\n",
      "Traceback (most recent call last):\n",
      "  File \"/opt/conda/lib/python3.10/site-packages/distributed/worker.py\", line 2390, in _prepare_args_for_execution\n",
      "    data[k] = self.data[k]\n",
      "  File \"/opt/conda/lib/python3.10/site-packages/distributed/spill.py\", line 245, in __getitem__\n",
      "    return super().__getitem__(key)\n",
      "  File \"/opt/conda/lib/python3.10/site-packages/zict/buffer.py\", line 108, in __getitem__\n",
      "    raise KeyError(key)\n",
      "KeyError: '_deploy_dask_func-6de0d484-1ff5-401b-b5ec-4d2b40e7ca7f'\n",
      "\n",
      "During handling of the above exception, another exception occurred:\n",
      "\n",
      "Traceback (most recent call last):\n",
      "  File \"/opt/conda/lib/python3.10/site-packages/distributed/worker.py\", line 2271, in execute\n",
      "    args2, kwargs2 = self._prepare_args_for_execution(ts, args, kwargs)\n",
      "  File \"/opt/conda/lib/python3.10/site-packages/distributed/worker.py\", line 2394, in _prepare_args_for_execution\n",
      "    data[k] = Actor(type(self.state.actors[k]), self.address, k, self)\n",
      "KeyError: '_deploy_dask_func-6de0d484-1ff5-401b-b5ec-4d2b40e7ca7f'\n"
     ]
    },
    {
     "name": "stderr",
     "output_type": "stream",
     "text": [
      "RuntimeWarning: divide by zero encountered in log\n",
      "UserWarning: Distributing <class 'dict'> object. This may take some time.\n",
      "UserWarning: Group indices computation is not currently supported by PandasOnDask, defaulting to pandas implementation.\n"
     ]
    },
    {
     "name": "stderr",
     "output_type": "stream",
     "text": [
      "2023-03-25 11:53:30,498 - distributed.worker - ERROR - Exception during execution of task lambda-fb28f6b8aabbd1b019a7cbee4c8623bf.\n",
      "Traceback (most recent call last):\n",
      "  File \"/opt/conda/lib/python3.10/site-packages/distributed/worker.py\", line 2390, in _prepare_args_for_execution\n",
      "    data[k] = self.data[k]\n",
      "  File \"/opt/conda/lib/python3.10/site-packages/distributed/spill.py\", line 245, in __getitem__\n",
      "    return super().__getitem__(key)\n",
      "  File \"/opt/conda/lib/python3.10/site-packages/zict/buffer.py\", line 108, in __getitem__\n",
      "    raise KeyError(key)\n",
      "KeyError: '_deploy_dask_func-ff220a38-715a-4d57-a1b8-69295dbbe3e0'\n",
      "\n",
      "During handling of the above exception, another exception occurred:\n",
      "\n",
      "Traceback (most recent call last):\n",
      "  File \"/opt/conda/lib/python3.10/site-packages/distributed/worker.py\", line 2271, in execute\n",
      "    args2, kwargs2 = self._prepare_args_for_execution(ts, args, kwargs)\n",
      "  File \"/opt/conda/lib/python3.10/site-packages/distributed/worker.py\", line 2394, in _prepare_args_for_execution\n",
      "    data[k] = Actor(type(self.state.actors[k]), self.address, k, self)\n",
      "KeyError: '_deploy_dask_func-ff220a38-715a-4d57-a1b8-69295dbbe3e0'\n"
     ]
    },
    {
     "name": "stderr",
     "output_type": "stream",
     "text": [
      "2023-03-25 11:53:32,850 - distributed.utils_perf - WARNING - full garbage collections took 16% CPU time recently (threshold: 10%)\n"
     ]
    },
    {
     "name": "stderr",
     "output_type": "stream",
     "text": [
      "UserWarning: Distributing <class 'dict'> object. This may take some time.\n",
      "UserWarning: Group indices computation is not currently supported by PandasOnDask, defaulting to pandas implementation.\n"
     ]
    },
    {
     "name": "stderr",
     "output_type": "stream",
     "text": [
      "2023-03-25 11:53:36,162 - distributed.worker - ERROR - Exception during execution of task lambda-f0f90cc87f4afe56ca4cc39e9dd1d031.\n",
      "Traceback (most recent call last):\n",
      "  File \"/opt/conda/lib/python3.10/site-packages/distributed/worker.py\", line 2390, in _prepare_args_for_execution\n",
      "    data[k] = self.data[k]\n",
      "  File \"/opt/conda/lib/python3.10/site-packages/distributed/spill.py\", line 245, in __getitem__\n",
      "    return super().__getitem__(key)\n",
      "  File \"/opt/conda/lib/python3.10/site-packages/zict/buffer.py\", line 108, in __getitem__\n",
      "    raise KeyError(key)\n",
      "KeyError: '_deploy_dask_func-97645f74-efdd-4a9d-a2ee-fa1ad34bb27a'\n",
      "\n",
      "During handling of the above exception, another exception occurred:\n",
      "\n",
      "Traceback (most recent call last):\n",
      "  File \"/opt/conda/lib/python3.10/site-packages/distributed/worker.py\", line 2271, in execute\n",
      "    args2, kwargs2 = self._prepare_args_for_execution(ts, args, kwargs)\n",
      "  File \"/opt/conda/lib/python3.10/site-packages/distributed/worker.py\", line 2394, in _prepare_args_for_execution\n",
      "    data[k] = Actor(type(self.state.actors[k]), self.address, k, self)\n",
      "KeyError: '_deploy_dask_func-97645f74-efdd-4a9d-a2ee-fa1ad34bb27a'\n"
     ]
    },
    {
     "name": "stderr",
     "output_type": "stream",
     "text": [
      "2023-03-25 11:53:38,010 - distributed.utils_perf - WARNING - full garbage collections took 16% CPU time recently (threshold: 10%)\n"
     ]
    },
    {
     "name": "stderr",
     "output_type": "stream",
     "text": [
      "UserWarning: Distributing <class 'dict'> object. This may take some time.\n",
      "UserWarning: Group indices computation is not currently supported by PandasOnDask, defaulting to pandas implementation.\n"
     ]
    },
    {
     "name": "stderr",
     "output_type": "stream",
     "text": [
      "2023-03-25 11:53:42,137 - distributed.worker - WARNING - Could not find data: {'function-598c0248beea441391690b4cbd5aa6d2': ['tcp://127.0.0.1:40137', 'tcp://127.0.0.1:43919', 'tcp://127.0.0.1:34315', 'tcp://127.0.0.1:35933', 'tcp://127.0.0.1:45651', 'tcp://127.0.0.1:39927', 'tcp://127.0.0.1:38975', 'tcp://127.0.0.1:33307', 'tcp://127.0.0.1:37809']} on workers: [] (who_has: {'function-598c0248beea441391690b4cbd5aa6d2': ['tcp://127.0.0.1:40137', 'tcp://127.0.0.1:43919', 'tcp://127.0.0.1:34315', 'tcp://127.0.0.1:35933', 'tcp://127.0.0.1:45651', 'tcp://127.0.0.1:39927', 'tcp://127.0.0.1:38975', 'tcp://127.0.0.1:33307', 'tcp://127.0.0.1:37809']})\n",
      "2023-03-25 11:53:42,138 - distributed.scheduler - WARNING - Worker tcp://127.0.0.1:46827 failed to acquire keys: {'function-598c0248beea441391690b4cbd5aa6d2': ('tcp://127.0.0.1:40137', 'tcp://127.0.0.1:43919', 'tcp://127.0.0.1:34315', 'tcp://127.0.0.1:35933', 'tcp://127.0.0.1:45651', 'tcp://127.0.0.1:39927', 'tcp://127.0.0.1:38975', 'tcp://127.0.0.1:33307', 'tcp://127.0.0.1:37809')}\n"
     ]
    },
    {
     "name": "stderr",
     "output_type": "stream",
     "text": [
      "2023-03-25 11:53:43,706 - distributed.utils_perf - WARNING - full garbage collections took 16% CPU time recently (threshold: 10%)\n"
     ]
    },
    {
     "name": "stderr",
     "output_type": "stream",
     "text": [
      "RuntimeWarning: divide by zero encountered in log\n"
     ]
    },
    {
     "name": "stderr",
     "output_type": "stream",
     "text": [
      "2023-03-25 11:53:45,807 - distributed.worker - ERROR - Exception during execution of task lambda-bfb72750d2c111efcc7107db9f838a6b.\n",
      "Traceback (most recent call last):\n",
      "  File \"/opt/conda/lib/python3.10/site-packages/distributed/worker.py\", line 2390, in _prepare_args_for_execution\n",
      "    data[k] = self.data[k]\n",
      "  File \"/opt/conda/lib/python3.10/site-packages/distributed/spill.py\", line 245, in __getitem__\n",
      "    return super().__getitem__(key)\n",
      "  File \"/opt/conda/lib/python3.10/site-packages/zict/buffer.py\", line 108, in __getitem__\n",
      "    raise KeyError(key)\n",
      "KeyError: '_deploy_dask_func-d803c76a-2fb2-4422-aa66-1fdd636239ce'\n",
      "\n",
      "During handling of the above exception, another exception occurred:\n",
      "\n",
      "Traceback (most recent call last):\n",
      "  File \"/opt/conda/lib/python3.10/site-packages/distributed/worker.py\", line 2271, in execute\n",
      "    args2, kwargs2 = self._prepare_args_for_execution(ts, args, kwargs)\n",
      "  File \"/opt/conda/lib/python3.10/site-packages/distributed/worker.py\", line 2394, in _prepare_args_for_execution\n",
      "    data[k] = Actor(type(self.state.actors[k]), self.address, k, self)\n",
      "KeyError: '_deploy_dask_func-d803c76a-2fb2-4422-aa66-1fdd636239ce'\n"
     ]
    },
    {
     "name": "stderr",
     "output_type": "stream",
     "text": [
      "UserWarning: Distributing <class 'dict'> object. This may take some time.\n",
      "UserWarning: Group indices computation is not currently supported by PandasOnDask, defaulting to pandas implementation.\n"
     ]
    },
    {
     "name": "stderr",
     "output_type": "stream",
     "text": [
      "2023-03-25 11:53:49,158 - distributed.utils_perf - WARNING - full garbage collections took 15% CPU time recently (threshold: 10%)\n"
     ]
    },
    {
     "name": "stderr",
     "output_type": "stream",
     "text": [
      "2023-03-25 11:53:50,715 - distributed.worker - ERROR - Exception during execution of task lambda-ac78e8cfe821938f741c1ee4484a38e3.\n",
      "Traceback (most recent call last):\n",
      "  File \"/opt/conda/lib/python3.10/site-packages/distributed/worker.py\", line 2390, in _prepare_args_for_execution\n",
      "    data[k] = self.data[k]\n",
      "  File \"/opt/conda/lib/python3.10/site-packages/distributed/spill.py\", line 245, in __getitem__\n",
      "    return super().__getitem__(key)\n",
      "  File \"/opt/conda/lib/python3.10/site-packages/zict/buffer.py\", line 108, in __getitem__\n",
      "    raise KeyError(key)\n",
      "KeyError: '_deploy_dask_func-5caf8684-9e9a-4cd3-b57a-1d83bec340d8'\n",
      "\n",
      "During handling of the above exception, another exception occurred:\n",
      "\n",
      "Traceback (most recent call last):\n",
      "  File \"/opt/conda/lib/python3.10/site-packages/distributed/worker.py\", line 2271, in execute\n",
      "    args2, kwargs2 = self._prepare_args_for_execution(ts, args, kwargs)\n",
      "  File \"/opt/conda/lib/python3.10/site-packages/distributed/worker.py\", line 2394, in _prepare_args_for_execution\n",
      "    data[k] = Actor(type(self.state.actors[k]), self.address, k, self)\n",
      "KeyError: '_deploy_dask_func-5caf8684-9e9a-4cd3-b57a-1d83bec340d8'\n"
     ]
    },
    {
     "name": "stderr",
     "output_type": "stream",
     "text": [
      "UserWarning: Distributing <class 'dict'> object. This may take some time.\n"
     ]
    },
    {
     "name": "stderr",
     "output_type": "stream",
     "text": [
      "UserWarning: Group indices computation is not currently supported by PandasOnDask, defaulting to pandas implementation.\n"
     ]
    },
    {
     "name": "stderr",
     "output_type": "stream",
     "text": [
      "2023-03-25 11:53:54,170 - distributed.utils_perf - WARNING - full garbage collections took 15% CPU time recently (threshold: 10%)\n"
     ]
    },
    {
     "name": "stderr",
     "output_type": "stream",
     "text": [
      "2023-03-25 11:53:55,134 - distributed.worker - ERROR - Exception during execution of task lambda-b4555b36547c257990f6100af9897c5f.\n",
      "Traceback (most recent call last):\n",
      "  File \"/opt/conda/lib/python3.10/site-packages/distributed/worker.py\", line 2390, in _prepare_args_for_execution\n",
      "    data[k] = self.data[k]\n",
      "  File \"/opt/conda/lib/python3.10/site-packages/distributed/spill.py\", line 245, in __getitem__\n",
      "    return super().__getitem__(key)\n",
      "  File \"/opt/conda/lib/python3.10/site-packages/zict/buffer.py\", line 108, in __getitem__\n",
      "    raise KeyError(key)\n",
      "KeyError: 'apply_func-64067392-0ef0-470d-ae88-7edb26051c77'\n",
      "\n",
      "During handling of the above exception, another exception occurred:\n",
      "\n",
      "Traceback (most recent call last):\n",
      "  File \"/opt/conda/lib/python3.10/site-packages/distributed/worker.py\", line 2271, in execute\n",
      "    args2, kwargs2 = self._prepare_args_for_execution(ts, args, kwargs)\n",
      "  File \"/opt/conda/lib/python3.10/site-packages/distributed/worker.py\", line 2394, in _prepare_args_for_execution\n",
      "    data[k] = Actor(type(self.state.actors[k]), self.address, k, self)\n",
      "KeyError: 'apply_func-64067392-0ef0-470d-ae88-7edb26051c77'\n"
     ]
    },
    {
     "name": "stderr",
     "output_type": "stream",
     "text": [
      "UserWarning: Distributing <class 'dict'> object. This may take some time.\n",
      "UserWarning: Group indices computation is not currently supported by PandasOnDask, defaulting to pandas implementation.\n"
     ]
    },
    {
     "name": "stderr",
     "output_type": "stream",
     "text": [
      "2023-03-25 11:53:58,794 - distributed.worker - ERROR - Exception during execution of task lambda-b741dba3ee7de776e5955ad3e6dc3b24.\n",
      "Traceback (most recent call last):\n",
      "  File \"/opt/conda/lib/python3.10/site-packages/distributed/worker.py\", line 2390, in _prepare_args_for_execution\n",
      "    data[k] = self.data[k]\n",
      "  File \"/opt/conda/lib/python3.10/site-packages/distributed/spill.py\", line 245, in __getitem__\n",
      "    return super().__getitem__(key)\n",
      "  File \"/opt/conda/lib/python3.10/site-packages/zict/buffer.py\", line 108, in __getitem__\n",
      "    raise KeyError(key)\n",
      "KeyError: '_deploy_dask_func-4edd76d6-677f-4c9d-b4f5-1b4feb3c8424'\n",
      "\n",
      "During handling of the above exception, another exception occurred:\n",
      "\n",
      "Traceback (most recent call last):\n",
      "  File \"/opt/conda/lib/python3.10/site-packages/distributed/worker.py\", line 2271, in execute\n",
      "    args2, kwargs2 = self._prepare_args_for_execution(ts, args, kwargs)\n",
      "  File \"/opt/conda/lib/python3.10/site-packages/distributed/worker.py\", line 2394, in _prepare_args_for_execution\n",
      "    data[k] = Actor(type(self.state.actors[k]), self.address, k, self)\n",
      "KeyError: '_deploy_dask_func-4edd76d6-677f-4c9d-b4f5-1b4feb3c8424'\n"
     ]
    },
    {
     "name": "stderr",
     "output_type": "stream",
     "text": [
      "2023-03-25 11:53:59,449 - distributed.utils_perf - WARNING - full garbage collections took 15% CPU time recently (threshold: 10%)\n"
     ]
    },
    {
     "name": "stderr",
     "output_type": "stream",
     "text": [
      "2023-03-25 11:54:01,483 - distributed.worker - ERROR - Exception during execution of task lambda-844d0884e032871660374e5d311cface.\n",
      "Traceback (most recent call last):\n",
      "  File \"/opt/conda/lib/python3.10/site-packages/distributed/worker.py\", line 2390, in _prepare_args_for_execution\n",
      "    data[k] = self.data[k]\n",
      "  File \"/opt/conda/lib/python3.10/site-packages/distributed/spill.py\", line 245, in __getitem__\n",
      "    return super().__getitem__(key)\n",
      "  File \"/opt/conda/lib/python3.10/site-packages/zict/buffer.py\", line 108, in __getitem__\n",
      "    raise KeyError(key)\n",
      "KeyError: '_deploy_dask_func-fc294a39-cf02-4eff-b931-99f88513e17d'\n",
      "\n",
      "During handling of the above exception, another exception occurred:\n",
      "\n",
      "Traceback (most recent call last):\n",
      "  File \"/opt/conda/lib/python3.10/site-packages/distributed/worker.py\", line 2271, in execute\n",
      "    args2, kwargs2 = self._prepare_args_for_execution(ts, args, kwargs)\n",
      "  File \"/opt/conda/lib/python3.10/site-packages/distributed/worker.py\", line 2394, in _prepare_args_for_execution\n",
      "    data[k] = Actor(type(self.state.actors[k]), self.address, k, self)\n",
      "KeyError: '_deploy_dask_func-fc294a39-cf02-4eff-b931-99f88513e17d'\n"
     ]
    },
    {
     "name": "stderr",
     "output_type": "stream",
     "text": [
      "RuntimeWarning: divide by zero encountered in log\n"
     ]
    },
    {
     "name": "stderr",
     "output_type": "stream",
     "text": [
      "2023-03-25 11:54:03,391 - distributed.worker - ERROR - Exception during execution of task lambda-3784e5c55c3cb966ceb957d1ab42c794.\n",
      "Traceback (most recent call last):\n",
      "  File \"/opt/conda/lib/python3.10/site-packages/distributed/worker.py\", line 2390, in _prepare_args_for_execution\n",
      "    data[k] = self.data[k]\n",
      "  File \"/opt/conda/lib/python3.10/site-packages/distributed/spill.py\", line 245, in __getitem__\n",
      "    return super().__getitem__(key)\n",
      "  File \"/opt/conda/lib/python3.10/site-packages/zict/buffer.py\", line 108, in __getitem__\n",
      "    raise KeyError(key)\n",
      "KeyError: '_deploy_dask_func-ec0a19de-0516-4960-be8f-fa0e5c093340'\n",
      "\n",
      "During handling of the above exception, another exception occurred:\n",
      "\n",
      "Traceback (most recent call last):\n",
      "  File \"/opt/conda/lib/python3.10/site-packages/distributed/worker.py\", line 2271, in execute\n",
      "    args2, kwargs2 = self._prepare_args_for_execution(ts, args, kwargs)\n",
      "  File \"/opt/conda/lib/python3.10/site-packages/distributed/worker.py\", line 2394, in _prepare_args_for_execution\n",
      "    data[k] = Actor(type(self.state.actors[k]), self.address, k, self)\n",
      "KeyError: '_deploy_dask_func-ec0a19de-0516-4960-be8f-fa0e5c093340'\n"
     ]
    },
    {
     "name": "stderr",
     "output_type": "stream",
     "text": [
      "2023-03-25 11:54:04,856 - distributed.utils_perf - WARNING - full garbage collections took 15% CPU time recently (threshold: 10%)\n"
     ]
    },
    {
     "name": "stderr",
     "output_type": "stream",
     "text": [
      "UserWarning: Distributing <class 'dict'> object. This may take some time.\n",
      "UserWarning: Group indices computation is not currently supported by PandasOnDask, defaulting to pandas implementation.\n"
     ]
    },
    {
     "name": "stderr",
     "output_type": "stream",
     "text": [
      "UserWarning: Distributing <class 'dict'> object. This may take some time.\n",
      "UserWarning: Group indices computation is not currently supported by PandasOnDask, defaulting to pandas implementation.\n"
     ]
    },
    {
     "name": "stderr",
     "output_type": "stream",
     "text": [
      "2023-03-25 11:54:10,586 - distributed.utils_perf - WARNING - full garbage collections took 14% CPU time recently (threshold: 10%)\n"
     ]
    },
    {
     "name": "stderr",
     "output_type": "stream",
     "text": [
      "2023-03-25 11:54:10,648 - distributed.worker - ERROR - Exception during execution of task lambda-34ca285a82065ef17ebf74bd29d8ad8c.\n",
      "Traceback (most recent call last):\n",
      "  File \"/opt/conda/lib/python3.10/site-packages/distributed/worker.py\", line 2390, in _prepare_args_for_execution\n",
      "    data[k] = self.data[k]\n",
      "  File \"/opt/conda/lib/python3.10/site-packages/distributed/spill.py\", line 245, in __getitem__\n",
      "    return super().__getitem__(key)\n",
      "  File \"/opt/conda/lib/python3.10/site-packages/zict/buffer.py\", line 108, in __getitem__\n",
      "    raise KeyError(key)\n",
      "KeyError: '_deploy_dask_func-71e7ad71-efd8-4529-b2ba-e076b571ed0b'\n",
      "\n",
      "During handling of the above exception, another exception occurred:\n",
      "\n",
      "Traceback (most recent call last):\n",
      "  File \"/opt/conda/lib/python3.10/site-packages/distributed/worker.py\", line 2271, in execute\n",
      "    args2, kwargs2 = self._prepare_args_for_execution(ts, args, kwargs)\n",
      "  File \"/opt/conda/lib/python3.10/site-packages/distributed/worker.py\", line 2394, in _prepare_args_for_execution\n",
      "    data[k] = Actor(type(self.state.actors[k]), self.address, k, self)\n",
      "KeyError: '_deploy_dask_func-71e7ad71-efd8-4529-b2ba-e076b571ed0b'\n"
     ]
    },
    {
     "name": "stderr",
     "output_type": "stream",
     "text": [
      "RuntimeWarning: divide by zero encountered in log\n"
     ]
    },
    {
     "name": "stderr",
     "output_type": "stream",
     "text": [
      "2023-03-25 11:54:16,223 - distributed.utils_perf - WARNING - full garbage collections took 14% CPU time recently (threshold: 10%)\n"
     ]
    },
    {
     "name": "stderr",
     "output_type": "stream",
     "text": [
      "RuntimeWarning: divide by zero encountered in log\n",
      "UserWarning: Distributing <class 'dict'> object. This may take some time.\n",
      "UserWarning: Group indices computation is not currently supported by PandasOnDask, defaulting to pandas implementation.\n"
     ]
    },
    {
     "name": "stderr",
     "output_type": "stream",
     "text": [
      "2023-03-25 11:54:20,337 - distributed.worker - ERROR - Exception during execution of task lambda-7c3ba2422ee5ea1926d70f0d6d534382.\n",
      "Traceback (most recent call last):\n",
      "  File \"/opt/conda/lib/python3.10/site-packages/distributed/worker.py\", line 2390, in _prepare_args_for_execution\n",
      "    data[k] = self.data[k]\n",
      "  File \"/opt/conda/lib/python3.10/site-packages/distributed/spill.py\", line 245, in __getitem__\n",
      "    return super().__getitem__(key)\n",
      "  File \"/opt/conda/lib/python3.10/site-packages/zict/buffer.py\", line 108, in __getitem__\n",
      "    raise KeyError(key)\n",
      "KeyError: '_deploy_dask_func-a1f0c9e1-7d7e-42c7-9676-3077ce0f6812'\n",
      "\n",
      "During handling of the above exception, another exception occurred:\n",
      "\n",
      "Traceback (most recent call last):\n",
      "  File \"/opt/conda/lib/python3.10/site-packages/distributed/worker.py\", line 2271, in execute\n",
      "    args2, kwargs2 = self._prepare_args_for_execution(ts, args, kwargs)\n",
      "  File \"/opt/conda/lib/python3.10/site-packages/distributed/worker.py\", line 2394, in _prepare_args_for_execution\n",
      "    data[k] = Actor(type(self.state.actors[k]), self.address, k, self)\n",
      "KeyError: '_deploy_dask_func-a1f0c9e1-7d7e-42c7-9676-3077ce0f6812'\n"
     ]
    },
    {
     "name": "stderr",
     "output_type": "stream",
     "text": [
      "2023-03-25 11:54:21,976 - distributed.utils_perf - WARNING - full garbage collections took 13% CPU time recently (threshold: 10%)\n"
     ]
    },
    {
     "name": "stderr",
     "output_type": "stream",
     "text": [
      "2023-03-25 11:54:23,338 - distributed.worker - ERROR - Exception during execution of task lambda-1a73f2a30e816b26728dc7ee83453810.\n",
      "Traceback (most recent call last):\n",
      "  File \"/opt/conda/lib/python3.10/site-packages/distributed/worker.py\", line 2390, in _prepare_args_for_execution\n",
      "    data[k] = self.data[k]\n",
      "  File \"/opt/conda/lib/python3.10/site-packages/distributed/spill.py\", line 245, in __getitem__\n",
      "    return super().__getitem__(key)\n",
      "  File \"/opt/conda/lib/python3.10/site-packages/zict/buffer.py\", line 108, in __getitem__\n",
      "    raise KeyError(key)\n",
      "KeyError: '_deploy_dask_func-58d29ef3-442d-4e02-a453-3c2d9ca85e3d'\n",
      "\n",
      "During handling of the above exception, another exception occurred:\n",
      "\n",
      "Traceback (most recent call last):\n",
      "  File \"/opt/conda/lib/python3.10/site-packages/distributed/worker.py\", line 2271, in execute\n",
      "    args2, kwargs2 = self._prepare_args_for_execution(ts, args, kwargs)\n",
      "  File \"/opt/conda/lib/python3.10/site-packages/distributed/worker.py\", line 2394, in _prepare_args_for_execution\n",
      "    data[k] = Actor(type(self.state.actors[k]), self.address, k, self)\n",
      "KeyError: '_deploy_dask_func-58d29ef3-442d-4e02-a453-3c2d9ca85e3d'\n"
     ]
    },
    {
     "name": "stderr",
     "output_type": "stream",
     "text": [
      "UserWarning: Distributing <class 'dict'> object. This may take some time.\n",
      "UserWarning: Group indices computation is not currently supported by PandasOnDask, defaulting to pandas implementation.\n"
     ]
    },
    {
     "name": "stderr",
     "output_type": "stream",
     "text": [
      "2023-03-25 11:54:27,408 - distributed.utils_perf - WARNING - full garbage collections took 13% CPU time recently (threshold: 10%)\n"
     ]
    },
    {
     "name": "stderr",
     "output_type": "stream",
     "text": [
      "RuntimeWarning: divide by zero encountered in log\n"
     ]
    },
    {
     "name": "stderr",
     "output_type": "stream",
     "text": [
      "RuntimeWarning: divide by zero encountered in log\n",
      "UserWarning: Distributing <class 'dict'> object. This may take some time.\n"
     ]
    },
    {
     "name": "stderr",
     "output_type": "stream",
     "text": [
      "2023-03-25 11:54:33,043 - distributed.utils_perf - WARNING - full garbage collections took 13% CPU time recently (threshold: 10%)\n"
     ]
    },
    {
     "name": "stderr",
     "output_type": "stream",
     "text": [
      "UserWarning: Group indices computation is not currently supported by PandasOnDask, defaulting to pandas implementation.\n"
     ]
    },
    {
     "name": "stderr",
     "output_type": "stream",
     "text": [
      "UserWarning: Distributing <class 'dict'> object. This may take some time.\n"
     ]
    },
    {
     "name": "stderr",
     "output_type": "stream",
     "text": [
      "2023-03-25 11:54:38,465 - distributed.utils_perf - WARNING - full garbage collections took 13% CPU time recently (threshold: 10%)\n"
     ]
    },
    {
     "name": "stderr",
     "output_type": "stream",
     "text": [
      "UserWarning: Group indices computation is not currently supported by PandasOnDask, defaulting to pandas implementation.\n"
     ]
    },
    {
     "name": "stderr",
     "output_type": "stream",
     "text": [
      "2023-03-25 11:54:39,660 - distributed.worker - ERROR - Exception during execution of task lambda-e939276715588257aacbb7a00a2eacbb.\n",
      "Traceback (most recent call last):\n",
      "  File \"/opt/conda/lib/python3.10/site-packages/distributed/worker.py\", line 2390, in _prepare_args_for_execution\n",
      "    data[k] = self.data[k]\n",
      "  File \"/opt/conda/lib/python3.10/site-packages/distributed/spill.py\", line 245, in __getitem__\n",
      "    return super().__getitem__(key)\n",
      "  File \"/opt/conda/lib/python3.10/site-packages/zict/buffer.py\", line 108, in __getitem__\n",
      "    raise KeyError(key)\n",
      "KeyError: '_deploy_dask_func-9d6b4b97-adb0-417e-a4dc-58a53d4978b8'\n",
      "\n",
      "During handling of the above exception, another exception occurred:\n",
      "\n",
      "Traceback (most recent call last):\n",
      "  File \"/opt/conda/lib/python3.10/site-packages/distributed/worker.py\", line 2271, in execute\n",
      "    args2, kwargs2 = self._prepare_args_for_execution(ts, args, kwargs)\n",
      "  File \"/opt/conda/lib/python3.10/site-packages/distributed/worker.py\", line 2394, in _prepare_args_for_execution\n",
      "    data[k] = Actor(type(self.state.actors[k]), self.address, k, self)\n",
      "KeyError: '_deploy_dask_func-9d6b4b97-adb0-417e-a4dc-58a53d4978b8'\n"
     ]
    },
    {
     "name": "stderr",
     "output_type": "stream",
     "text": [
      "2023-03-25 11:54:41,377 - distributed.worker - ERROR - Exception during execution of task lambda-5527724087a24f865ef2f93385e40149.\n",
      "Traceback (most recent call last):\n",
      "  File \"/opt/conda/lib/python3.10/site-packages/distributed/worker.py\", line 2390, in _prepare_args_for_execution\n",
      "    data[k] = self.data[k]\n",
      "  File \"/opt/conda/lib/python3.10/site-packages/distributed/spill.py\", line 245, in __getitem__\n",
      "    return super().__getitem__(key)\n",
      "  File \"/opt/conda/lib/python3.10/site-packages/zict/buffer.py\", line 108, in __getitem__\n",
      "    raise KeyError(key)\n",
      "KeyError: '_deploy_dask_func-0e1b95df-4cb0-4194-a7ce-18e49d7f71c7'\n",
      "\n",
      "During handling of the above exception, another exception occurred:\n",
      "\n",
      "Traceback (most recent call last):\n",
      "  File \"/opt/conda/lib/python3.10/site-packages/distributed/worker.py\", line 2271, in execute\n",
      "    args2, kwargs2 = self._prepare_args_for_execution(ts, args, kwargs)\n",
      "  File \"/opt/conda/lib/python3.10/site-packages/distributed/worker.py\", line 2394, in _prepare_args_for_execution\n",
      "    data[k] = Actor(type(self.state.actors[k]), self.address, k, self)\n",
      "KeyError: '_deploy_dask_func-0e1b95df-4cb0-4194-a7ce-18e49d7f71c7'\n"
     ]
    },
    {
     "name": "stderr",
     "output_type": "stream",
     "text": [
      "UserWarning: Distributing <class 'dict'> object. This may take some time.\n",
      "UserWarning: Group indices computation is not currently supported by PandasOnDask, defaulting to pandas implementation.\n"
     ]
    },
    {
     "name": "stderr",
     "output_type": "stream",
     "text": [
      "2023-03-25 11:54:44,015 - distributed.utils_perf - WARNING - full garbage collections took 13% CPU time recently (threshold: 10%)\n"
     ]
    },
    {
     "name": "stderr",
     "output_type": "stream",
     "text": [
      "RuntimeWarning: divide by zero encountered in log\n"
     ]
    },
    {
     "name": "stderr",
     "output_type": "stream",
     "text": [
      "2023-03-25 11:54:49,952 - distributed.utils_perf - WARNING - full garbage collections took 13% CPU time recently (threshold: 10%)\n"
     ]
    },
    {
     "name": "stderr",
     "output_type": "stream",
     "text": [
      "UserWarning: Distributing <class 'dict'> object. This may take some time.\n",
      "2023-03-25 11:54:50,341 - distributed.worker - ERROR - Exception during execution of task lambda-ff471487efed8ab523d41f1118292794.\n",
      "Traceback (most recent call last):\n",
      "  File \"/opt/conda/lib/python3.10/site-packages/distributed/worker.py\", line 2390, in _prepare_args_for_execution\n",
      "    data[k] = self.data[k]\n",
      "  File \"/opt/conda/lib/python3.10/site-packages/distributed/spill.py\", line 245, in __getitem__\n",
      "    return super().__getitem__(key)\n",
      "  File \"/opt/conda/lib/python3.10/site-packages/zict/buffer.py\", line 108, in __getitem__\n",
      "    raise KeyError(key)\n",
      "KeyError: 'apply_list_of_funcs-6043ae78-0ce4-41d6-b492-7a3e37fcb4f3'\n",
      "\n",
      "During handling of the above exception, another exception occurred:\n",
      "\n",
      "Traceback (most recent call last):\n",
      "  File \"/opt/conda/lib/python3.10/site-packages/distributed/worker.py\", line 2271, in execute\n",
      "    args2, kwargs2 = self._prepare_args_for_execution(ts, args, kwargs)\n",
      "  File \"/opt/conda/lib/python3.10/site-packages/distributed/worker.py\", line 2394, in _prepare_args_for_execution\n",
      "    data[k] = Actor(type(self.state.actors[k]), self.address, k, self)\n",
      "KeyError: 'apply_list_of_funcs-6043ae78-0ce4-41d6-b492-7a3e37fcb4f3'\n",
      "UserWarning: Group indices computation is not currently supported by PandasOnDask, defaulting to pandas implementation.\n"
     ]
    },
    {
     "name": "stderr",
     "output_type": "stream",
     "text": [
      "2023-03-25 11:54:51,231 - distributed.worker - ERROR - Exception during execution of task lambda-b9f2c233983866a2e823f97a77fe6a8f.\n",
      "Traceback (most recent call last):\n",
      "  File \"/opt/conda/lib/python3.10/site-packages/distributed/worker.py\", line 2390, in _prepare_args_for_execution\n",
      "    data[k] = self.data[k]\n",
      "  File \"/opt/conda/lib/python3.10/site-packages/distributed/spill.py\", line 245, in __getitem__\n",
      "    return super().__getitem__(key)\n",
      "  File \"/opt/conda/lib/python3.10/site-packages/zict/buffer.py\", line 108, in __getitem__\n",
      "    raise KeyError(key)\n",
      "KeyError: '_deploy_dask_func-fe16b196-0c6e-446f-bf28-4a0ccf8106ff'\n",
      "\n",
      "During handling of the above exception, another exception occurred:\n",
      "\n",
      "Traceback (most recent call last):\n",
      "  File \"/opt/conda/lib/python3.10/site-packages/distributed/worker.py\", line 2271, in execute\n",
      "    args2, kwargs2 = self._prepare_args_for_execution(ts, args, kwargs)\n",
      "  File \"/opt/conda/lib/python3.10/site-packages/distributed/worker.py\", line 2394, in _prepare_args_for_execution\n",
      "    data[k] = Actor(type(self.state.actors[k]), self.address, k, self)\n",
      "KeyError: '_deploy_dask_func-fe16b196-0c6e-446f-bf28-4a0ccf8106ff'\n"
     ]
    },
    {
     "name": "stderr",
     "output_type": "stream",
     "text": [
      "UserWarning: Distributing <class 'dict'> object. This may take some time.\n",
      "UserWarning: Group indices computation is not currently supported by PandasOnDask, defaulting to pandas implementation.\n"
     ]
    },
    {
     "name": "stderr",
     "output_type": "stream",
     "text": [
      "2023-03-25 11:54:55,820 - distributed.utils_perf - WARNING - full garbage collections took 13% CPU time recently (threshold: 10%)\n"
     ]
    },
    {
     "name": "stderr",
     "output_type": "stream",
     "text": [
      "UserWarning: Distributing <class 'dict'> object. This may take some time.\n",
      "UserWarning: Group indices computation is not currently supported by PandasOnDask, defaulting to pandas implementation.\n"
     ]
    },
    {
     "name": "stderr",
     "output_type": "stream",
     "text": [
      "2023-03-25 11:55:01,666 - distributed.utils_perf - WARNING - full garbage collections took 13% CPU time recently (threshold: 10%)\n"
     ]
    },
    {
     "name": "stderr",
     "output_type": "stream",
     "text": [
      "RuntimeWarning: divide by zero encountered in log\n",
      "UserWarning: Distributing <class 'dict'> object. This may take some time.\n",
      "UserWarning: Group indices computation is not currently supported by PandasOnDask, defaulting to pandas implementation.\n"
     ]
    },
    {
     "name": "stderr",
     "output_type": "stream",
     "text": [
      "2023-03-25 11:55:07,530 - distributed.utils_perf - WARNING - full garbage collections took 13% CPU time recently (threshold: 10%)\n"
     ]
    },
    {
     "name": "stderr",
     "output_type": "stream",
     "text": [
      "2023-03-25 11:55:08,311 - distributed.worker - ERROR - Exception during execution of task lambda-d250481617f2212c8b7f37820e3b75b5.\n",
      "Traceback (most recent call last):\n",
      "  File \"/opt/conda/lib/python3.10/site-packages/distributed/worker.py\", line 2390, in _prepare_args_for_execution\n",
      "    data[k] = self.data[k]\n",
      "  File \"/opt/conda/lib/python3.10/site-packages/distributed/spill.py\", line 245, in __getitem__\n",
      "    return super().__getitem__(key)\n",
      "  File \"/opt/conda/lib/python3.10/site-packages/zict/buffer.py\", line 108, in __getitem__\n",
      "    raise KeyError(key)\n",
      "KeyError: '_deploy_dask_func-3b01cadd-0fff-4bcc-b744-9550173ca1eb'\n",
      "\n",
      "During handling of the above exception, another exception occurred:\n",
      "\n",
      "Traceback (most recent call last):\n",
      "  File \"/opt/conda/lib/python3.10/site-packages/distributed/worker.py\", line 2271, in execute\n",
      "    args2, kwargs2 = self._prepare_args_for_execution(ts, args, kwargs)\n",
      "  File \"/opt/conda/lib/python3.10/site-packages/distributed/worker.py\", line 2394, in _prepare_args_for_execution\n",
      "    data[k] = Actor(type(self.state.actors[k]), self.address, k, self)\n",
      "KeyError: '_deploy_dask_func-3b01cadd-0fff-4bcc-b744-9550173ca1eb'\n"
     ]
    },
    {
     "name": "stderr",
     "output_type": "stream",
     "text": [
      "UserWarning: Distributing <class 'dict'> object. This may take some time.\n",
      "UserWarning: Group indices computation is not currently supported by PandasOnDask, defaulting to pandas implementation.\n"
     ]
    },
    {
     "name": "stderr",
     "output_type": "stream",
     "text": [
      "2023-03-25 11:55:13,593 - distributed.utils_perf - WARNING - full garbage collections took 13% CPU time recently (threshold: 10%)\n"
     ]
    },
    {
     "name": "stderr",
     "output_type": "stream",
     "text": [
      "2023-03-25 11:55:16,078 - distributed.worker - ERROR - Exception during execution of task lambda-1cb0f27f3de5130628869e264fe5c5a3.\n",
      "Traceback (most recent call last):\n",
      "  File \"/opt/conda/lib/python3.10/site-packages/distributed/worker.py\", line 2390, in _prepare_args_for_execution\n",
      "    data[k] = self.data[k]\n",
      "  File \"/opt/conda/lib/python3.10/site-packages/distributed/spill.py\", line 245, in __getitem__\n",
      "    return super().__getitem__(key)\n",
      "  File \"/opt/conda/lib/python3.10/site-packages/zict/buffer.py\", line 108, in __getitem__\n",
      "    raise KeyError(key)\n",
      "KeyError: '_deploy_dask_func-064a63da-4ceb-49a8-9fd4-c436fe6fca97'\n",
      "\n",
      "During handling of the above exception, another exception occurred:\n",
      "\n",
      "Traceback (most recent call last):\n",
      "  File \"/opt/conda/lib/python3.10/site-packages/distributed/worker.py\", line 2271, in execute\n",
      "    args2, kwargs2 = self._prepare_args_for_execution(ts, args, kwargs)\n",
      "  File \"/opt/conda/lib/python3.10/site-packages/distributed/worker.py\", line 2394, in _prepare_args_for_execution\n",
      "    data[k] = Actor(type(self.state.actors[k]), self.address, k, self)\n",
      "KeyError: '_deploy_dask_func-064a63da-4ceb-49a8-9fd4-c436fe6fca97'\n"
     ]
    },
    {
     "name": "stderr",
     "output_type": "stream",
     "text": [
      "UserWarning: Distributing <class 'dict'> object. This may take some time.\n",
      "UserWarning: Group indices computation is not currently supported by PandasOnDask, defaulting to pandas implementation.\n"
     ]
    },
    {
     "name": "stderr",
     "output_type": "stream",
     "text": [
      "2023-03-25 11:55:19,316 - distributed.utils_perf - WARNING - full garbage collections took 13% CPU time recently (threshold: 10%)\n"
     ]
    },
    {
     "name": "stderr",
     "output_type": "stream",
     "text": [
      "RuntimeWarning: divide by zero encountered in log\n"
     ]
    },
    {
     "name": "stderr",
     "output_type": "stream",
     "text": [
      "UserWarning: Distributing <class 'dict'> object. This may take some time.\n",
      "UserWarning: Group indices computation is not currently supported by PandasOnDask, defaulting to pandas implementation.\n"
     ]
    },
    {
     "name": "stderr",
     "output_type": "stream",
     "text": [
      "2023-03-25 11:55:25,195 - distributed.utils_perf - WARNING - full garbage collections took 13% CPU time recently (threshold: 10%)\n"
     ]
    },
    {
     "name": "stderr",
     "output_type": "stream",
     "text": [
      "2023-03-25 11:55:25,979 - distributed.worker - ERROR - Exception during execution of task lambda-d5fffbae68bd3710539b051758d46bca.\n",
      "Traceback (most recent call last):\n",
      "  File \"/opt/conda/lib/python3.10/site-packages/distributed/worker.py\", line 2390, in _prepare_args_for_execution\n",
      "    data[k] = self.data[k]\n",
      "  File \"/opt/conda/lib/python3.10/site-packages/distributed/spill.py\", line 245, in __getitem__\n",
      "    return super().__getitem__(key)\n",
      "  File \"/opt/conda/lib/python3.10/site-packages/zict/buffer.py\", line 108, in __getitem__\n",
      "    raise KeyError(key)\n",
      "KeyError: '_deploy_dask_func-3499bebe-e4ce-4873-87ad-55be53399f41'\n",
      "\n",
      "During handling of the above exception, another exception occurred:\n",
      "\n",
      "Traceback (most recent call last):\n",
      "  File \"/opt/conda/lib/python3.10/site-packages/distributed/worker.py\", line 2271, in execute\n",
      "    args2, kwargs2 = self._prepare_args_for_execution(ts, args, kwargs)\n",
      "  File \"/opt/conda/lib/python3.10/site-packages/distributed/worker.py\", line 2394, in _prepare_args_for_execution\n",
      "    data[k] = Actor(type(self.state.actors[k]), self.address, k, self)\n",
      "KeyError: '_deploy_dask_func-3499bebe-e4ce-4873-87ad-55be53399f41'\n"
     ]
    },
    {
     "name": "stderr",
     "output_type": "stream",
     "text": [
      "2023-03-25 11:55:31,489 - distributed.utils_perf - WARNING - full garbage collections took 13% CPU time recently (threshold: 10%)\n"
     ]
    },
    {
     "name": "stderr",
     "output_type": "stream",
     "text": [
      "2023-03-25 11:55:37,133 - distributed.utils_perf - WARNING - full garbage collections took 13% CPU time recently (threshold: 10%)\n"
     ]
    },
    {
     "name": "stderr",
     "output_type": "stream",
     "text": [
      "RuntimeWarning: divide by zero encountered in log\n",
      "UserWarning: Distributing <class 'dict'> object. This may take some time.\n",
      "UserWarning: Group indices computation is not currently supported by PandasOnDask, defaulting to pandas implementation.\n"
     ]
    },
    {
     "name": "stderr",
     "output_type": "stream",
     "text": [
      "2023-03-25 11:55:39,672 - distributed.worker - ERROR - Exception during execution of task lambda-2b898eb6be912371c45dbbe0220790ea.\n",
      "Traceback (most recent call last):\n",
      "  File \"/opt/conda/lib/python3.10/site-packages/distributed/worker.py\", line 2390, in _prepare_args_for_execution\n",
      "    data[k] = self.data[k]\n",
      "  File \"/opt/conda/lib/python3.10/site-packages/distributed/spill.py\", line 245, in __getitem__\n",
      "    return super().__getitem__(key)\n",
      "  File \"/opt/conda/lib/python3.10/site-packages/zict/buffer.py\", line 108, in __getitem__\n",
      "    raise KeyError(key)\n",
      "KeyError: '_deploy_dask_func-fcb60d5e-fd97-4759-9fdc-deb367ab1e79'\n",
      "\n",
      "During handling of the above exception, another exception occurred:\n",
      "\n",
      "Traceback (most recent call last):\n",
      "  File \"/opt/conda/lib/python3.10/site-packages/distributed/worker.py\", line 2271, in execute\n",
      "    args2, kwargs2 = self._prepare_args_for_execution(ts, args, kwargs)\n",
      "  File \"/opt/conda/lib/python3.10/site-packages/distributed/worker.py\", line 2394, in _prepare_args_for_execution\n",
      "    data[k] = Actor(type(self.state.actors[k]), self.address, k, self)\n",
      "KeyError: '_deploy_dask_func-fcb60d5e-fd97-4759-9fdc-deb367ab1e79'\n"
     ]
    },
    {
     "name": "stderr",
     "output_type": "stream",
     "text": [
      "2023-03-25 11:55:43,020 - distributed.utils_perf - WARNING - full garbage collections took 13% CPU time recently (threshold: 10%)\n"
     ]
    },
    {
     "name": "stderr",
     "output_type": "stream",
     "text": [
      "2023-03-25 11:55:47,716 - distributed.worker - ERROR - Exception during execution of task lambda-d56210e2e1633aded699d739590c7e42.\n",
      "Traceback (most recent call last):\n",
      "  File \"/opt/conda/lib/python3.10/site-packages/distributed/worker.py\", line 2390, in _prepare_args_for_execution\n",
      "    data[k] = self.data[k]\n",
      "  File \"/opt/conda/lib/python3.10/site-packages/distributed/spill.py\", line 245, in __getitem__\n",
      "    return super().__getitem__(key)\n",
      "  File \"/opt/conda/lib/python3.10/site-packages/zict/buffer.py\", line 108, in __getitem__\n",
      "    raise KeyError(key)\n",
      "KeyError: '_deploy_dask_func-23c385a7-0e5e-4e7c-a20c-154a32787fb2'\n",
      "\n",
      "During handling of the above exception, another exception occurred:\n",
      "\n",
      "Traceback (most recent call last):\n",
      "  File \"/opt/conda/lib/python3.10/site-packages/distributed/worker.py\", line 2271, in execute\n",
      "    args2, kwargs2 = self._prepare_args_for_execution(ts, args, kwargs)\n",
      "  File \"/opt/conda/lib/python3.10/site-packages/distributed/worker.py\", line 2394, in _prepare_args_for_execution\n",
      "    data[k] = Actor(type(self.state.actors[k]), self.address, k, self)\n",
      "KeyError: '_deploy_dask_func-23c385a7-0e5e-4e7c-a20c-154a32787fb2'\n"
     ]
    },
    {
     "name": "stderr",
     "output_type": "stream",
     "text": [
      "2023-03-25 11:55:49,002 - distributed.utils_perf - WARNING - full garbage collections took 13% CPU time recently (threshold: 10%)\n"
     ]
    },
    {
     "name": "stderr",
     "output_type": "stream",
     "text": [
      "RuntimeWarning: divide by zero encountered in log\n",
      "UserWarning: Distributing <class 'dict'> object. This may take some time.\n",
      "UserWarning: Group indices computation is not currently supported by PandasOnDask, defaulting to pandas implementation.\n"
     ]
    },
    {
     "name": "stderr",
     "output_type": "stream",
     "text": [
      "2023-03-25 11:55:55,471 - distributed.utils_perf - WARNING - full garbage collections took 13% CPU time recently (threshold: 10%)\n"
     ]
    },
    {
     "name": "stderr",
     "output_type": "stream",
     "text": [
      "2023-03-25 11:55:59,538 - distributed.worker - ERROR - Exception during execution of task lambda-2f739f69b8b73809c59606fdd57c1f7f.\n",
      "Traceback (most recent call last):\n",
      "  File \"/opt/conda/lib/python3.10/site-packages/distributed/worker.py\", line 2390, in _prepare_args_for_execution\n",
      "    data[k] = self.data[k]\n",
      "  File \"/opt/conda/lib/python3.10/site-packages/distributed/spill.py\", line 245, in __getitem__\n",
      "    return super().__getitem__(key)\n",
      "  File \"/opt/conda/lib/python3.10/site-packages/zict/buffer.py\", line 108, in __getitem__\n",
      "    raise KeyError(key)\n",
      "KeyError: '_deploy_dask_func-c7c7137f-0e9d-4ad7-b8ed-270d33746980'\n",
      "\n",
      "During handling of the above exception, another exception occurred:\n",
      "\n",
      "Traceback (most recent call last):\n",
      "  File \"/opt/conda/lib/python3.10/site-packages/distributed/worker.py\", line 2271, in execute\n",
      "    args2, kwargs2 = self._prepare_args_for_execution(ts, args, kwargs)\n",
      "  File \"/opt/conda/lib/python3.10/site-packages/distributed/worker.py\", line 2394, in _prepare_args_for_execution\n",
      "    data[k] = Actor(type(self.state.actors[k]), self.address, k, self)\n",
      "KeyError: '_deploy_dask_func-c7c7137f-0e9d-4ad7-b8ed-270d33746980'\n"
     ]
    },
    {
     "name": "stderr",
     "output_type": "stream",
     "text": [
      "2023-03-25 11:56:01,994 - distributed.utils_perf - WARNING - full garbage collections took 13% CPU time recently (threshold: 10%)\n"
     ]
    },
    {
     "name": "stderr",
     "output_type": "stream",
     "text": [
      "2023-03-25 11:56:03,854 - distributed.worker - ERROR - Exception during execution of task lambda-2640765f026e254b01ea8ecc7c3f9034.\n",
      "Traceback (most recent call last):\n",
      "  File \"/opt/conda/lib/python3.10/site-packages/distributed/worker.py\", line 2390, in _prepare_args_for_execution\n",
      "    data[k] = self.data[k]\n",
      "  File \"/opt/conda/lib/python3.10/site-packages/distributed/spill.py\", line 245, in __getitem__\n",
      "    return super().__getitem__(key)\n",
      "  File \"/opt/conda/lib/python3.10/site-packages/zict/buffer.py\", line 108, in __getitem__\n",
      "    raise KeyError(key)\n",
      "KeyError: '_deploy_dask_func-5cff84d8-90cd-41b8-8480-9e7339df339d'\n",
      "\n",
      "During handling of the above exception, another exception occurred:\n",
      "\n",
      "Traceback (most recent call last):\n",
      "  File \"/opt/conda/lib/python3.10/site-packages/distributed/worker.py\", line 2271, in execute\n",
      "    args2, kwargs2 = self._prepare_args_for_execution(ts, args, kwargs)\n",
      "  File \"/opt/conda/lib/python3.10/site-packages/distributed/worker.py\", line 2394, in _prepare_args_for_execution\n",
      "    data[k] = Actor(type(self.state.actors[k]), self.address, k, self)\n",
      "KeyError: '_deploy_dask_func-5cff84d8-90cd-41b8-8480-9e7339df339d'\n"
     ]
    },
    {
     "name": "stderr",
     "output_type": "stream",
     "text": [
      "UserWarning: Distributing <class 'dict'> object. This may take some time.\n"
     ]
    },
    {
     "name": "stderr",
     "output_type": "stream",
     "text": [
      "UserWarning: Group indices computation is not currently supported by PandasOnDask, defaulting to pandas implementation.\n"
     ]
    },
    {
     "name": "stderr",
     "output_type": "stream",
     "text": [
      "2023-03-25 11:56:08,539 - distributed.utils_perf - WARNING - full garbage collections took 13% CPU time recently (threshold: 10%)\n"
     ]
    },
    {
     "name": "stderr",
     "output_type": "stream",
     "text": [
      "RuntimeWarning: divide by zero encountered in log\n"
     ]
    },
    {
     "name": "stderr",
     "output_type": "stream",
     "text": [
      "2023-03-25 11:56:14,706 - distributed.utils_perf - WARNING - full garbage collections took 12% CPU time recently (threshold: 10%)\n"
     ]
    },
    {
     "name": "stderr",
     "output_type": "stream",
     "text": [
      "RuntimeWarning: divide by zero encountered in log\n",
      "UserWarning: Distributing <class 'dict'> object. This may take some time.\n",
      "UserWarning: Group indices computation is not currently supported by PandasOnDask, defaulting to pandas implementation.\n"
     ]
    },
    {
     "name": "stderr",
     "output_type": "stream",
     "text": [
      "2023-03-25 11:56:20,933 - distributed.utils_perf - WARNING - full garbage collections took 12% CPU time recently (threshold: 10%)\n"
     ]
    },
    {
     "name": "stderr",
     "output_type": "stream",
     "text": [
      "2023-03-25 11:56:25,098 - distributed.worker - ERROR - Exception during execution of task lambda-3113b788d491e2903e391103f1c75d9e.\n",
      "Traceback (most recent call last):\n",
      "  File \"/opt/conda/lib/python3.10/site-packages/distributed/worker.py\", line 2390, in _prepare_args_for_execution\n",
      "    data[k] = self.data[k]\n",
      "  File \"/opt/conda/lib/python3.10/site-packages/distributed/spill.py\", line 245, in __getitem__\n",
      "    return super().__getitem__(key)\n",
      "  File \"/opt/conda/lib/python3.10/site-packages/zict/buffer.py\", line 108, in __getitem__\n",
      "    raise KeyError(key)\n",
      "KeyError: '_deploy_dask_func-d6413ad1-0531-4a5c-b240-ab0300890254'\n",
      "\n",
      "During handling of the above exception, another exception occurred:\n",
      "\n",
      "Traceback (most recent call last):\n",
      "  File \"/opt/conda/lib/python3.10/site-packages/distributed/worker.py\", line 2271, in execute\n",
      "    args2, kwargs2 = self._prepare_args_for_execution(ts, args, kwargs)\n",
      "  File \"/opt/conda/lib/python3.10/site-packages/distributed/worker.py\", line 2394, in _prepare_args_for_execution\n",
      "    data[k] = Actor(type(self.state.actors[k]), self.address, k, self)\n",
      "KeyError: '_deploy_dask_func-d6413ad1-0531-4a5c-b240-ab0300890254'\n"
     ]
    },
    {
     "name": "stderr",
     "output_type": "stream",
     "text": [
      "2023-03-25 11:56:27,577 - distributed.utils_perf - WARNING - full garbage collections took 12% CPU time recently (threshold: 10%)\n"
     ]
    },
    {
     "name": "stderr",
     "output_type": "stream",
     "text": [
      "2023-03-25 11:56:29,494 - distributed.worker - ERROR - Exception during execution of task lambda-75b2b3ff2c04788817c87fef995e1a4c.\n",
      "Traceback (most recent call last):\n",
      "  File \"/opt/conda/lib/python3.10/site-packages/distributed/worker.py\", line 2390, in _prepare_args_for_execution\n",
      "    data[k] = self.data[k]\n",
      "  File \"/opt/conda/lib/python3.10/site-packages/distributed/spill.py\", line 245, in __getitem__\n",
      "    return super().__getitem__(key)\n",
      "  File \"/opt/conda/lib/python3.10/site-packages/zict/buffer.py\", line 108, in __getitem__\n",
      "    raise KeyError(key)\n",
      "KeyError: '_deploy_dask_func-fc9cbb9a-aa8f-4572-b57b-474629373b8f'\n",
      "\n",
      "During handling of the above exception, another exception occurred:\n",
      "\n",
      "Traceback (most recent call last):\n",
      "  File \"/opt/conda/lib/python3.10/site-packages/distributed/worker.py\", line 2271, in execute\n",
      "    args2, kwargs2 = self._prepare_args_for_execution(ts, args, kwargs)\n",
      "  File \"/opt/conda/lib/python3.10/site-packages/distributed/worker.py\", line 2394, in _prepare_args_for_execution\n",
      "    data[k] = Actor(type(self.state.actors[k]), self.address, k, self)\n",
      "KeyError: '_deploy_dask_func-fc9cbb9a-aa8f-4572-b57b-474629373b8f'\n"
     ]
    },
    {
     "name": "stderr",
     "output_type": "stream",
     "text": [
      "UserWarning: Distributing <class 'dict'> object. This may take some time.\n",
      "UserWarning: Group indices computation is not currently supported by PandasOnDask, defaulting to pandas implementation.\n"
     ]
    },
    {
     "name": "stderr",
     "output_type": "stream",
     "text": [
      "2023-03-25 11:56:33,966 - distributed.utils_perf - WARNING - full garbage collections took 12% CPU time recently (threshold: 10%)\n"
     ]
    },
    {
     "name": "stderr",
     "output_type": "stream",
     "text": [
      "2023-03-25 11:56:37,052 - distributed.worker - ERROR - Exception during execution of task lambda-81376639096245481cbbef8591f4a0f7.\n",
      "Traceback (most recent call last):\n",
      "  File \"/opt/conda/lib/python3.10/site-packages/distributed/worker.py\", line 2390, in _prepare_args_for_execution\n",
      "    data[k] = self.data[k]\n",
      "  File \"/opt/conda/lib/python3.10/site-packages/distributed/spill.py\", line 245, in __getitem__\n",
      "    return super().__getitem__(key)\n",
      "  File \"/opt/conda/lib/python3.10/site-packages/zict/buffer.py\", line 108, in __getitem__\n",
      "    raise KeyError(key)\n",
      "KeyError: '_deploy_dask_func-20a83066-152d-450b-9fb1-845706814478'\n",
      "\n",
      "During handling of the above exception, another exception occurred:\n",
      "\n",
      "Traceback (most recent call last):\n",
      "  File \"/opt/conda/lib/python3.10/site-packages/distributed/worker.py\", line 2271, in execute\n",
      "    args2, kwargs2 = self._prepare_args_for_execution(ts, args, kwargs)\n",
      "  File \"/opt/conda/lib/python3.10/site-packages/distributed/worker.py\", line 2394, in _prepare_args_for_execution\n",
      "    data[k] = Actor(type(self.state.actors[k]), self.address, k, self)\n",
      "KeyError: '_deploy_dask_func-20a83066-152d-450b-9fb1-845706814478'\n"
     ]
    },
    {
     "name": "stderr",
     "output_type": "stream",
     "text": [
      "2023-03-25 11:56:40,100 - distributed.utils_perf - WARNING - full garbage collections took 12% CPU time recently (threshold: 10%)\n"
     ]
    },
    {
     "name": "stderr",
     "output_type": "stream",
     "text": [
      "2023-03-25 11:56:40,834 - distributed.worker - ERROR - Exception during execution of task lambda-2021ccb807ef210171fed1b1cbae3731.\n",
      "Traceback (most recent call last):\n",
      "  File \"/opt/conda/lib/python3.10/site-packages/distributed/worker.py\", line 2390, in _prepare_args_for_execution\n",
      "    data[k] = self.data[k]\n",
      "  File \"/opt/conda/lib/python3.10/site-packages/distributed/spill.py\", line 245, in __getitem__\n",
      "    return super().__getitem__(key)\n",
      "  File \"/opt/conda/lib/python3.10/site-packages/zict/buffer.py\", line 108, in __getitem__\n",
      "    raise KeyError(key)\n",
      "KeyError: '_deploy_dask_func-332a6e11-7f30-4e79-868a-bad27c559f73'\n",
      "\n",
      "During handling of the above exception, another exception occurred:\n",
      "\n",
      "Traceback (most recent call last):\n",
      "  File \"/opt/conda/lib/python3.10/site-packages/distributed/worker.py\", line 2271, in execute\n",
      "    args2, kwargs2 = self._prepare_args_for_execution(ts, args, kwargs)\n",
      "  File \"/opt/conda/lib/python3.10/site-packages/distributed/worker.py\", line 2394, in _prepare_args_for_execution\n",
      "    data[k] = Actor(type(self.state.actors[k]), self.address, k, self)\n",
      "KeyError: '_deploy_dask_func-332a6e11-7f30-4e79-868a-bad27c559f73'\n"
     ]
    },
    {
     "name": "stderr",
     "output_type": "stream",
     "text": [
      "UserWarning: Distributing <class 'dict'> object. This may take some time.\n",
      "UserWarning: Group indices computation is not currently supported by PandasOnDask, defaulting to pandas implementation.\n"
     ]
    },
    {
     "name": "stderr",
     "output_type": "stream",
     "text": [
      "2023-03-25 11:56:46,902 - distributed.utils_perf - WARNING - full garbage collections took 13% CPU time recently (threshold: 10%)\n"
     ]
    },
    {
     "name": "stderr",
     "output_type": "stream",
     "text": [
      "RuntimeWarning: divide by zero encountered in log\n"
     ]
    },
    {
     "name": "stderr",
     "output_type": "stream",
     "text": [
      "2023-03-25 11:56:53,261 - distributed.utils_perf - WARNING - full garbage collections took 13% CPU time recently (threshold: 10%)\n"
     ]
    },
    {
     "name": "stderr",
     "output_type": "stream",
     "text": [
      "UserWarning: Distributing <class 'dict'> object. This may take some time.\n",
      "UserWarning: Group indices computation is not currently supported by PandasOnDask, defaulting to pandas implementation.\n"
     ]
    },
    {
     "name": "stderr",
     "output_type": "stream",
     "text": [
      "2023-03-25 11:56:59,588 - distributed.utils_perf - WARNING - full garbage collections took 13% CPU time recently (threshold: 10%)\n"
     ]
    },
    {
     "name": "stderr",
     "output_type": "stream",
     "text": [
      "2023-03-25 11:57:01,824 - distributed.worker - ERROR - Exception during execution of task lambda-1ea0a6600ed995e08cf7871be526189d.\n",
      "Traceback (most recent call last):\n",
      "  File \"/opt/conda/lib/python3.10/site-packages/distributed/worker.py\", line 2390, in _prepare_args_for_execution\n",
      "    data[k] = self.data[k]\n",
      "  File \"/opt/conda/lib/python3.10/site-packages/distributed/spill.py\", line 245, in __getitem__\n",
      "    return super().__getitem__(key)\n",
      "  File \"/opt/conda/lib/python3.10/site-packages/zict/buffer.py\", line 108, in __getitem__\n",
      "    raise KeyError(key)\n",
      "KeyError: 'apply_func-2c044385-3261-487a-9a20-f875341fd59b'\n",
      "\n",
      "During handling of the above exception, another exception occurred:\n",
      "\n",
      "Traceback (most recent call last):\n",
      "  File \"/opt/conda/lib/python3.10/site-packages/distributed/worker.py\", line 2271, in execute\n",
      "    args2, kwargs2 = self._prepare_args_for_execution(ts, args, kwargs)\n",
      "  File \"/opt/conda/lib/python3.10/site-packages/distributed/worker.py\", line 2394, in _prepare_args_for_execution\n",
      "    data[k] = Actor(type(self.state.actors[k]), self.address, k, self)\n",
      "KeyError: 'apply_func-2c044385-3261-487a-9a20-f875341fd59b'\n",
      "RuntimeWarning: divide by zero encountered in log\n"
     ]
    },
    {
     "name": "stderr",
     "output_type": "stream",
     "text": [
      "2023-03-25 11:57:05,811 - distributed.utils_perf - WARNING - full garbage collections took 13% CPU time recently (threshold: 10%)\n"
     ]
    },
    {
     "name": "stderr",
     "output_type": "stream",
     "text": [
      "UserWarning: Distributing <class 'dict'> object. This may take some time.\n",
      "UserWarning: Group indices computation is not currently supported by PandasOnDask, defaulting to pandas implementation.\n"
     ]
    },
    {
     "name": "stderr",
     "output_type": "stream",
     "text": [
      "2023-03-25 11:57:12,454 - distributed.utils_perf - WARNING - full garbage collections took 13% CPU time recently (threshold: 10%)\n"
     ]
    },
    {
     "name": "stderr",
     "output_type": "stream",
     "text": [
      "UserWarning: Distributing <class 'dict'> object. This may take some time.\n",
      "UserWarning: Group indices computation is not currently supported by PandasOnDask, defaulting to pandas implementation.\n"
     ]
    },
    {
     "name": "stderr",
     "output_type": "stream",
     "text": [
      "2023-03-25 11:57:18,947 - distributed.utils_perf - WARNING - full garbage collections took 14% CPU time recently (threshold: 10%)\n"
     ]
    },
    {
     "name": "stderr",
     "output_type": "stream",
     "text": [
      "2023-03-25 11:57:25,674 - distributed.utils_perf - WARNING - full garbage collections took 14% CPU time recently (threshold: 10%)\n"
     ]
    },
    {
     "name": "stderr",
     "output_type": "stream",
     "text": [
      "RuntimeWarning: divide by zero encountered in log\n"
     ]
    },
    {
     "name": "stderr",
     "output_type": "stream",
     "text": [
      "UserWarning: Distributing <class 'dict'> object. This may take some time.\n",
      "UserWarning: Group indices computation is not currently supported by PandasOnDask, defaulting to pandas implementation.\n"
     ]
    },
    {
     "name": "stderr",
     "output_type": "stream",
     "text": [
      "2023-03-25 11:57:30,352 - distributed.worker - ERROR - Exception during execution of task lambda-e5a807156eaf1446f994daabe4adff67.\n",
      "Traceback (most recent call last):\n",
      "  File \"/opt/conda/lib/python3.10/site-packages/distributed/worker.py\", line 2390, in _prepare_args_for_execution\n",
      "    data[k] = self.data[k]\n",
      "  File \"/opt/conda/lib/python3.10/site-packages/distributed/spill.py\", line 245, in __getitem__\n",
      "    return super().__getitem__(key)\n",
      "  File \"/opt/conda/lib/python3.10/site-packages/zict/buffer.py\", line 108, in __getitem__\n",
      "    raise KeyError(key)\n",
      "KeyError: '_deploy_dask_func-0a63a3e5-1b62-4db0-8daa-bab3c7d30069'\n",
      "\n",
      "During handling of the above exception, another exception occurred:\n",
      "\n",
      "Traceback (most recent call last):\n",
      "  File \"/opt/conda/lib/python3.10/site-packages/distributed/worker.py\", line 2271, in execute\n",
      "    args2, kwargs2 = self._prepare_args_for_execution(ts, args, kwargs)\n",
      "  File \"/opt/conda/lib/python3.10/site-packages/distributed/worker.py\", line 2394, in _prepare_args_for_execution\n",
      "    data[k] = Actor(type(self.state.actors[k]), self.address, k, self)\n",
      "KeyError: '_deploy_dask_func-0a63a3e5-1b62-4db0-8daa-bab3c7d30069'\n"
     ]
    },
    {
     "name": "stderr",
     "output_type": "stream",
     "text": [
      "2023-03-25 11:57:32,606 - distributed.utils_perf - WARNING - full garbage collections took 14% CPU time recently (threshold: 10%)\n"
     ]
    },
    {
     "name": "stderr",
     "output_type": "stream",
     "text": [
      "RuntimeWarning: divide by zero encountered in log\n"
     ]
    },
    {
     "name": "stderr",
     "output_type": "stream",
     "text": [
      "2023-03-25 11:57:39,199 - distributed.utils_perf - WARNING - full garbage collections took 14% CPU time recently (threshold: 10%)\n"
     ]
    },
    {
     "name": "stderr",
     "output_type": "stream",
     "text": [
      "UserWarning: Distributing <class 'dict'> object. This may take some time.\n",
      "UserWarning: Group indices computation is not currently supported by PandasOnDask, defaulting to pandas implementation.\n"
     ]
    },
    {
     "name": "stderr",
     "output_type": "stream",
     "text": [
      "2023-03-25 11:57:46,188 - distributed.utils_perf - WARNING - full garbage collections took 14% CPU time recently (threshold: 10%)\n"
     ]
    },
    {
     "name": "stderr",
     "output_type": "stream",
     "text": [
      "RuntimeWarning: divide by zero encountered in log\n"
     ]
    },
    {
     "name": "stderr",
     "output_type": "stream",
     "text": [
      "2023-03-25 11:57:52,775 - distributed.utils_perf - WARNING - full garbage collections took 14% CPU time recently (threshold: 10%)\n"
     ]
    },
    {
     "name": "stderr",
     "output_type": "stream",
     "text": [
      "UserWarning: Distributing <class 'dict'> object. This may take some time.\n",
      "UserWarning: Group indices computation is not currently supported by PandasOnDask, defaulting to pandas implementation.\n"
     ]
    },
    {
     "name": "stderr",
     "output_type": "stream",
     "text": [
      "2023-03-25 11:57:59,817 - distributed.utils_perf - WARNING - full garbage collections took 14% CPU time recently (threshold: 10%)\n"
     ]
    },
    {
     "name": "stderr",
     "output_type": "stream",
     "text": [
      "RuntimeWarning: divide by zero encountered in log\n"
     ]
    },
    {
     "name": "stderr",
     "output_type": "stream",
     "text": [
      "2023-03-25 11:58:07,116 - distributed.utils_perf - WARNING - full garbage collections took 14% CPU time recently (threshold: 10%)\n"
     ]
    },
    {
     "name": "stderr",
     "output_type": "stream",
     "text": [
      "UserWarning: Distributing <class 'dict'> object. This may take some time.\n",
      "UserWarning: Group indices computation is not currently supported by PandasOnDask, defaulting to pandas implementation.\n"
     ]
    },
    {
     "name": "stderr",
     "output_type": "stream",
     "text": [
      "2023-03-25 11:58:13,780 - distributed.utils_perf - WARNING - full garbage collections took 14% CPU time recently (threshold: 10%)\n"
     ]
    },
    {
     "name": "stderr",
     "output_type": "stream",
     "text": [
      "RuntimeWarning: divide by zero encountered in log\n"
     ]
    },
    {
     "name": "stderr",
     "output_type": "stream",
     "text": [
      "2023-03-25 11:58:18,709 - distributed.worker - ERROR - Exception during execution of task lambda-78190f1d970e8733603d99b3cc8a3242.\n",
      "Traceback (most recent call last):\n",
      "  File \"/opt/conda/lib/python3.10/site-packages/distributed/worker.py\", line 2390, in _prepare_args_for_execution\n",
      "    data[k] = self.data[k]\n",
      "  File \"/opt/conda/lib/python3.10/site-packages/distributed/spill.py\", line 245, in __getitem__\n",
      "    return super().__getitem__(key)\n",
      "  File \"/opt/conda/lib/python3.10/site-packages/zict/buffer.py\", line 108, in __getitem__\n",
      "    raise KeyError(key)\n",
      "KeyError: '_deploy_dask_func-e3e6c339-ebc4-4157-97dd-c545b6e3bc45'\n",
      "\n",
      "During handling of the above exception, another exception occurred:\n",
      "\n",
      "Traceback (most recent call last):\n",
      "  File \"/opt/conda/lib/python3.10/site-packages/distributed/worker.py\", line 2271, in execute\n",
      "    args2, kwargs2 = self._prepare_args_for_execution(ts, args, kwargs)\n",
      "  File \"/opt/conda/lib/python3.10/site-packages/distributed/worker.py\", line 2394, in _prepare_args_for_execution\n",
      "    data[k] = Actor(type(self.state.actors[k]), self.address, k, self)\n",
      "KeyError: '_deploy_dask_func-e3e6c339-ebc4-4157-97dd-c545b6e3bc45'\n"
     ]
    },
    {
     "name": "stderr",
     "output_type": "stream",
     "text": [
      "RuntimeWarning: divide by zero encountered in log\n",
      "UserWarning: Distributing <class 'dict'> object. This may take some time.\n"
     ]
    },
    {
     "name": "stderr",
     "output_type": "stream",
     "text": [
      "2023-03-25 11:58:21,038 - distributed.utils_perf - WARNING - full garbage collections took 14% CPU time recently (threshold: 10%)\n"
     ]
    },
    {
     "name": "stderr",
     "output_type": "stream",
     "text": [
      "UserWarning: Group indices computation is not currently supported by PandasOnDask, defaulting to pandas implementation.\n"
     ]
    },
    {
     "name": "stderr",
     "output_type": "stream",
     "text": [
      "2023-03-25 11:58:22,402 - distributed.worker - ERROR - Exception during execution of task lambda-e5c13b213c509ecb5fac2b8f470abe33.\n",
      "Traceback (most recent call last):\n",
      "  File \"/opt/conda/lib/python3.10/site-packages/distributed/worker.py\", line 2390, in _prepare_args_for_execution\n",
      "    data[k] = self.data[k]\n",
      "  File \"/opt/conda/lib/python3.10/site-packages/distributed/spill.py\", line 245, in __getitem__\n",
      "    return super().__getitem__(key)\n",
      "  File \"/opt/conda/lib/python3.10/site-packages/zict/buffer.py\", line 108, in __getitem__\n",
      "    raise KeyError(key)\n",
      "KeyError: '_deploy_dask_func-95a042a3-df9f-4345-91e1-cb2abadc07d7'\n",
      "\n",
      "During handling of the above exception, another exception occurred:\n",
      "\n",
      "Traceback (most recent call last):\n",
      "  File \"/opt/conda/lib/python3.10/site-packages/distributed/worker.py\", line 2271, in execute\n",
      "    args2, kwargs2 = self._prepare_args_for_execution(ts, args, kwargs)\n",
      "  File \"/opt/conda/lib/python3.10/site-packages/distributed/worker.py\", line 2394, in _prepare_args_for_execution\n",
      "    data[k] = Actor(type(self.state.actors[k]), self.address, k, self)\n",
      "KeyError: '_deploy_dask_func-95a042a3-df9f-4345-91e1-cb2abadc07d7'\n"
     ]
    },
    {
     "name": "stderr",
     "output_type": "stream",
     "text": [
      "RuntimeWarning: divide by zero encountered in log\n"
     ]
    },
    {
     "name": "stderr",
     "output_type": "stream",
     "text": [
      "2023-03-25 11:58:28,515 - distributed.utils_perf - WARNING - full garbage collections took 14% CPU time recently (threshold: 10%)\n"
     ]
    },
    {
     "name": "stderr",
     "output_type": "stream",
     "text": [
      "2023-03-25 11:58:29,336 - distributed.worker - ERROR - Exception during execution of task lambda-c2848f8fbbae74c636681ed84c7bb7c1.\n",
      "Traceback (most recent call last):\n",
      "  File \"/opt/conda/lib/python3.10/site-packages/distributed/worker.py\", line 2390, in _prepare_args_for_execution\n",
      "    data[k] = self.data[k]\n",
      "  File \"/opt/conda/lib/python3.10/site-packages/distributed/spill.py\", line 245, in __getitem__\n",
      "    return super().__getitem__(key)\n",
      "  File \"/opt/conda/lib/python3.10/site-packages/zict/buffer.py\", line 108, in __getitem__\n",
      "    raise KeyError(key)\n",
      "KeyError: '_deploy_dask_func-f45c463f-b748-4a73-861b-97f91665a410'\n",
      "\n",
      "During handling of the above exception, another exception occurred:\n",
      "\n",
      "Traceback (most recent call last):\n",
      "  File \"/opt/conda/lib/python3.10/site-packages/distributed/worker.py\", line 2271, in execute\n",
      "    args2, kwargs2 = self._prepare_args_for_execution(ts, args, kwargs)\n",
      "  File \"/opt/conda/lib/python3.10/site-packages/distributed/worker.py\", line 2394, in _prepare_args_for_execution\n",
      "    data[k] = Actor(type(self.state.actors[k]), self.address, k, self)\n",
      "KeyError: '_deploy_dask_func-f45c463f-b748-4a73-861b-97f91665a410'\n"
     ]
    },
    {
     "name": "stderr",
     "output_type": "stream",
     "text": [
      "UserWarning: Distributing <class 'dict'> object. This may take some time.\n",
      "UserWarning: Group indices computation is not currently supported by PandasOnDask, defaulting to pandas implementation.\n"
     ]
    },
    {
     "name": "stderr",
     "output_type": "stream",
     "text": [
      "2023-03-25 11:58:35,747 - distributed.utils_perf - WARNING - full garbage collections took 14% CPU time recently (threshold: 10%)\n"
     ]
    },
    {
     "name": "stderr",
     "output_type": "stream",
     "text": [
      "RuntimeWarning: divide by zero encountered in log\n"
     ]
    },
    {
     "name": "stderr",
     "output_type": "stream",
     "text": [
      "UserWarning: Distributing <class 'dict'> object. This may take some time.\n",
      "UserWarning: Group indices computation is not currently supported by PandasOnDask, defaulting to pandas implementation.\n"
     ]
    },
    {
     "name": "stderr",
     "output_type": "stream",
     "text": [
      "2023-03-25 11:58:42,891 - distributed.utils_perf - WARNING - full garbage collections took 15% CPU time recently (threshold: 10%)\n"
     ]
    },
    {
     "name": "stderr",
     "output_type": "stream",
     "text": [
      "2023-03-25 11:58:43,650 - distributed.worker - ERROR - Exception during execution of task lambda-5ae925cdb75547feeb678c15fdd304d0.\n",
      "Traceback (most recent call last):\n",
      "  File \"/opt/conda/lib/python3.10/site-packages/distributed/worker.py\", line 2390, in _prepare_args_for_execution\n",
      "    data[k] = self.data[k]\n",
      "  File \"/opt/conda/lib/python3.10/site-packages/distributed/spill.py\", line 245, in __getitem__\n",
      "    return super().__getitem__(key)\n",
      "  File \"/opt/conda/lib/python3.10/site-packages/zict/buffer.py\", line 108, in __getitem__\n",
      "    raise KeyError(key)\n",
      "KeyError: '_deploy_dask_func-d494f0c7-47a0-4184-bd4d-75330be2c206'\n",
      "\n",
      "During handling of the above exception, another exception occurred:\n",
      "\n",
      "Traceback (most recent call last):\n",
      "  File \"/opt/conda/lib/python3.10/site-packages/distributed/worker.py\", line 2271, in execute\n",
      "    args2, kwargs2 = self._prepare_args_for_execution(ts, args, kwargs)\n",
      "  File \"/opt/conda/lib/python3.10/site-packages/distributed/worker.py\", line 2394, in _prepare_args_for_execution\n",
      "    data[k] = Actor(type(self.state.actors[k]), self.address, k, self)\n",
      "KeyError: '_deploy_dask_func-d494f0c7-47a0-4184-bd4d-75330be2c206'\n"
     ]
    },
    {
     "name": "stderr",
     "output_type": "stream",
     "text": [
      "2023-03-25 11:58:47,202 - distributed.worker - ERROR - Exception during execution of task lambda-b5159f6d1c7fccaafd906e5c3986bebf.\n",
      "Traceback (most recent call last):\n",
      "  File \"/opt/conda/lib/python3.10/site-packages/distributed/worker.py\", line 2390, in _prepare_args_for_execution\n",
      "    data[k] = self.data[k]\n",
      "  File \"/opt/conda/lib/python3.10/site-packages/distributed/spill.py\", line 245, in __getitem__\n",
      "    return super().__getitem__(key)\n",
      "  File \"/opt/conda/lib/python3.10/site-packages/zict/buffer.py\", line 108, in __getitem__\n",
      "    raise KeyError(key)\n",
      "KeyError: '_deploy_dask_func-8fc39884-951c-4dd6-a57e-6711c671e712'\n",
      "\n",
      "During handling of the above exception, another exception occurred:\n",
      "\n",
      "Traceback (most recent call last):\n",
      "  File \"/opt/conda/lib/python3.10/site-packages/distributed/worker.py\", line 2271, in execute\n",
      "    args2, kwargs2 = self._prepare_args_for_execution(ts, args, kwargs)\n",
      "  File \"/opt/conda/lib/python3.10/site-packages/distributed/worker.py\", line 2394, in _prepare_args_for_execution\n",
      "    data[k] = Actor(type(self.state.actors[k]), self.address, k, self)\n",
      "KeyError: '_deploy_dask_func-8fc39884-951c-4dd6-a57e-6711c671e712'\n"
     ]
    },
    {
     "name": "stderr",
     "output_type": "stream",
     "text": [
      "2023-03-25 11:58:50,076 - distributed.utils_perf - WARNING - full garbage collections took 15% CPU time recently (threshold: 10%)\n"
     ]
    },
    {
     "name": "stderr",
     "output_type": "stream",
     "text": [
      "2023-03-25 11:58:51,498 - distributed.worker - ERROR - Exception during execution of task lambda-b354a2c5e874d759f75fc217a68bac67.\n",
      "Traceback (most recent call last):\n",
      "  File \"/opt/conda/lib/python3.10/site-packages/distributed/worker.py\", line 2390, in _prepare_args_for_execution\n",
      "    data[k] = self.data[k]\n",
      "  File \"/opt/conda/lib/python3.10/site-packages/distributed/spill.py\", line 245, in __getitem__\n",
      "    return super().__getitem__(key)\n",
      "  File \"/opt/conda/lib/python3.10/site-packages/zict/buffer.py\", line 108, in __getitem__\n",
      "    raise KeyError(key)\n",
      "KeyError: '_deploy_dask_func-bcde0970-17ac-438b-b5f9-fd05a6b19766'\n",
      "\n",
      "During handling of the above exception, another exception occurred:\n",
      "\n",
      "Traceback (most recent call last):\n",
      "  File \"/opt/conda/lib/python3.10/site-packages/distributed/worker.py\", line 2271, in execute\n",
      "    args2, kwargs2 = self._prepare_args_for_execution(ts, args, kwargs)\n",
      "  File \"/opt/conda/lib/python3.10/site-packages/distributed/worker.py\", line 2394, in _prepare_args_for_execution\n",
      "    data[k] = Actor(type(self.state.actors[k]), self.address, k, self)\n",
      "KeyError: '_deploy_dask_func-bcde0970-17ac-438b-b5f9-fd05a6b19766'\n"
     ]
    },
    {
     "name": "stderr",
     "output_type": "stream",
     "text": [
      "UserWarning: Distributing <class 'dict'> object. This may take some time.\n"
     ]
    },
    {
     "name": "stderr",
     "output_type": "stream",
     "text": [
      "UserWarning: Group indices computation is not currently supported by PandasOnDask, defaulting to pandas implementation.\n"
     ]
    },
    {
     "name": "stderr",
     "output_type": "stream",
     "text": [
      "2023-03-25 11:58:57,597 - distributed.utils_perf - WARNING - full garbage collections took 15% CPU time recently (threshold: 10%)\n"
     ]
    },
    {
     "name": "stderr",
     "output_type": "stream",
     "text": [
      "2023-03-25 11:58:59,914 - distributed.worker - ERROR - Exception during execution of task lambda-41cf380658b60121d59a951f34841068.\n",
      "Traceback (most recent call last):\n",
      "  File \"/opt/conda/lib/python3.10/site-packages/distributed/worker.py\", line 2390, in _prepare_args_for_execution\n",
      "    data[k] = self.data[k]\n",
      "  File \"/opt/conda/lib/python3.10/site-packages/distributed/spill.py\", line 245, in __getitem__\n",
      "    return super().__getitem__(key)\n",
      "  File \"/opt/conda/lib/python3.10/site-packages/zict/buffer.py\", line 108, in __getitem__\n",
      "    raise KeyError(key)\n",
      "KeyError: '_deploy_dask_func-64a83ed0-b0ff-457e-ba8a-61010a1e42ee'\n",
      "\n",
      "During handling of the above exception, another exception occurred:\n",
      "\n",
      "Traceback (most recent call last):\n",
      "  File \"/opt/conda/lib/python3.10/site-packages/distributed/worker.py\", line 2271, in execute\n",
      "    args2, kwargs2 = self._prepare_args_for_execution(ts, args, kwargs)\n",
      "  File \"/opt/conda/lib/python3.10/site-packages/distributed/worker.py\", line 2394, in _prepare_args_for_execution\n",
      "    data[k] = Actor(type(self.state.actors[k]), self.address, k, self)\n",
      "KeyError: '_deploy_dask_func-64a83ed0-b0ff-457e-ba8a-61010a1e42ee'\n"
     ]
    },
    {
     "name": "stderr",
     "output_type": "stream",
     "text": [
      "RuntimeWarning: divide by zero encountered in log\n"
     ]
    },
    {
     "name": "stderr",
     "output_type": "stream",
     "text": [
      "2023-03-25 11:59:04,765 - distributed.utils_perf - WARNING - full garbage collections took 14% CPU time recently (threshold: 10%)\n"
     ]
    },
    {
     "name": "stderr",
     "output_type": "stream",
     "text": [
      "RuntimeWarning: divide by zero encountered in log\n",
      "UserWarning: Distributing <class 'dict'> object. This may take some time.\n",
      "UserWarning: Group indices computation is not currently supported by PandasOnDask, defaulting to pandas implementation.\n"
     ]
    },
    {
     "name": "stderr",
     "output_type": "stream",
     "text": [
      "2023-03-25 11:59:12,383 - distributed.utils_perf - WARNING - full garbage collections took 14% CPU time recently (threshold: 10%)\n"
     ]
    },
    {
     "name": "stderr",
     "output_type": "stream",
     "text": [
      "RuntimeWarning: divide by zero encountered in log\n"
     ]
    },
    {
     "name": "stderr",
     "output_type": "stream",
     "text": [
      "2023-03-25 11:59:16,913 - distributed.worker - ERROR - Exception during execution of task lambda-88182f363293fd82ff57643a504de6c3.\n",
      "Traceback (most recent call last):\n",
      "  File \"/opt/conda/lib/python3.10/site-packages/distributed/worker.py\", line 2390, in _prepare_args_for_execution\n",
      "    data[k] = self.data[k]\n",
      "  File \"/opt/conda/lib/python3.10/site-packages/distributed/spill.py\", line 245, in __getitem__\n",
      "    return super().__getitem__(key)\n",
      "  File \"/opt/conda/lib/python3.10/site-packages/zict/buffer.py\", line 108, in __getitem__\n",
      "    raise KeyError(key)\n",
      "KeyError: '_deploy_dask_func-89f3f4c4-ef43-424c-8758-966989b44508'\n",
      "\n",
      "During handling of the above exception, another exception occurred:\n",
      "\n",
      "Traceback (most recent call last):\n",
      "  File \"/opt/conda/lib/python3.10/site-packages/distributed/worker.py\", line 2271, in execute\n",
      "    args2, kwargs2 = self._prepare_args_for_execution(ts, args, kwargs)\n",
      "  File \"/opt/conda/lib/python3.10/site-packages/distributed/worker.py\", line 2394, in _prepare_args_for_execution\n",
      "    data[k] = Actor(type(self.state.actors[k]), self.address, k, self)\n",
      "KeyError: '_deploy_dask_func-89f3f4c4-ef43-424c-8758-966989b44508'\n"
     ]
    },
    {
     "name": "stderr",
     "output_type": "stream",
     "text": [
      "2023-03-25 11:59:19,889 - distributed.utils_perf - WARNING - full garbage collections took 14% CPU time recently (threshold: 10%)\n"
     ]
    },
    {
     "name": "stderr",
     "output_type": "stream",
     "text": [
      "UserWarning: Distributing <class 'dict'> object. This may take some time.\n"
     ]
    },
    {
     "name": "stderr",
     "output_type": "stream",
     "text": [
      "UserWarning: Group indices computation is not currently supported by PandasOnDask, defaulting to pandas implementation.\n"
     ]
    },
    {
     "name": "stderr",
     "output_type": "stream",
     "text": [
      "2023-03-25 11:59:27,660 - distributed.utils_perf - WARNING - full garbage collections took 14% CPU time recently (threshold: 10%)\n"
     ]
    },
    {
     "name": "stderr",
     "output_type": "stream",
     "text": [
      "UserWarning: Distributing <class 'dict'> object. This may take some time.\n"
     ]
    },
    {
     "name": "stdout",
     "output_type": "stream",
     "text": [
      "0.9\n"
     ]
    },
    {
     "name": "stderr",
     "output_type": "stream",
     "text": [
      "2023-03-25 11:59:36,286 - distributed.utils_perf - WARNING - full garbage collections took 14% CPU time recently (threshold: 10%)\n"
     ]
    },
    {
     "name": "stderr",
     "output_type": "stream",
     "text": [
      "2023-03-25 11:59:42,143 - distributed.utils_perf - WARNING - full garbage collections took 14% CPU time recently (threshold: 10%)\n"
     ]
    },
    {
     "name": "stderr",
     "output_type": "stream",
     "text": [
      "2023-03-25 11:59:42,908 - distributed.worker - ERROR - Exception during execution of task lambda-1d0652151a1650d0e06c9e03cd93a0d7.\n",
      "Traceback (most recent call last):\n",
      "  File \"/opt/conda/lib/python3.10/site-packages/distributed/worker.py\", line 2390, in _prepare_args_for_execution\n",
      "    data[k] = self.data[k]\n",
      "  File \"/opt/conda/lib/python3.10/site-packages/distributed/spill.py\", line 245, in __getitem__\n",
      "    return super().__getitem__(key)\n",
      "  File \"/opt/conda/lib/python3.10/site-packages/zict/buffer.py\", line 108, in __getitem__\n",
      "    raise KeyError(key)\n",
      "KeyError: '_deploy_dask_func-81dd1d5c-ecf4-412d-ad88-7fa8e98e05eb'\n",
      "\n",
      "During handling of the above exception, another exception occurred:\n",
      "\n",
      "Traceback (most recent call last):\n",
      "  File \"/opt/conda/lib/python3.10/site-packages/distributed/worker.py\", line 2271, in execute\n",
      "    args2, kwargs2 = self._prepare_args_for_execution(ts, args, kwargs)\n",
      "  File \"/opt/conda/lib/python3.10/site-packages/distributed/worker.py\", line 2394, in _prepare_args_for_execution\n",
      "    data[k] = Actor(type(self.state.actors[k]), self.address, k, self)\n",
      "KeyError: '_deploy_dask_func-81dd1d5c-ecf4-412d-ad88-7fa8e98e05eb'\n"
     ]
    },
    {
     "name": "stderr",
     "output_type": "stream",
     "text": [
      "UserWarning: `DataFrame.groupby_on_multiple_columns` is not currently supported by PandasOnDask, defaulting to pandas implementation.\n"
     ]
    },
    {
     "name": "stderr",
     "output_type": "stream",
     "text": [
      "2023-03-25 11:59:49,378 - distributed.utils_perf - WARNING - full garbage collections took 14% CPU time recently (threshold: 10%)\n"
     ]
    },
    {
     "name": "stderr",
     "output_type": "stream",
     "text": [
      "2023-03-25 11:59:54,369 - distributed.utils_perf - WARNING - full garbage collections took 14% CPU time recently (threshold: 10%)\n"
     ]
    },
    {
     "name": "stderr",
     "output_type": "stream",
     "text": [
      "FutureWarning: The `squeeze` parameter is deprecated and will be removed in a future version.\n"
     ]
    },
    {
     "name": "stderr",
     "output_type": "stream",
     "text": [
      "UserWarning: Distributing <class 'pandas.core.frame.DataFrame'> object. This may take some time.\n",
      "UserWarning: Group indices computation is not currently supported by PandasOnDask, defaulting to pandas implementation.\n"
     ]
    },
    {
     "name": "stderr",
     "output_type": "stream",
     "text": [
      "2023-03-25 12:00:01,675 - distributed.utils_perf - WARNING - full garbage collections took 14% CPU time recently (threshold: 10%)\n"
     ]
    },
    {
     "name": "stderr",
     "output_type": "stream",
     "text": [
      "RuntimeWarning: divide by zero encountered in log\n",
      "UserWarning: Distributing <class 'dict'> object. This may take some time.\n",
      "UserWarning: Group indices computation is not currently supported by PandasOnDask, defaulting to pandas implementation.\n"
     ]
    },
    {
     "name": "stderr",
     "output_type": "stream",
     "text": [
      "UserWarning: Distributing <class 'dict'> object. This may take some time.\n",
      "UserWarning: Group indices computation is not currently supported by PandasOnDask, defaulting to pandas implementation.\n"
     ]
    },
    {
     "name": "stderr",
     "output_type": "stream",
     "text": [
      "2023-03-25 12:00:09,754 - distributed.utils_perf - WARNING - full garbage collections took 14% CPU time recently (threshold: 10%)\n"
     ]
    },
    {
     "name": "stderr",
     "output_type": "stream",
     "text": [
      "UserWarning: Distributing <class 'dict'> object. This may take some time.\n",
      "UserWarning: Group indices computation is not currently supported by PandasOnDask, defaulting to pandas implementation.\n"
     ]
    },
    {
     "name": "stderr",
     "output_type": "stream",
     "text": [
      "2023-03-25 12:00:17,942 - distributed.utils_perf - WARNING - full garbage collections took 14% CPU time recently (threshold: 10%)\n"
     ]
    },
    {
     "name": "stderr",
     "output_type": "stream",
     "text": [
      "RuntimeWarning: divide by zero encountered in log\n"
     ]
    },
    {
     "name": "stderr",
     "output_type": "stream",
     "text": [
      "2023-03-25 12:00:19,159 - distributed.worker - ERROR - Exception during execution of task lambda-77cdca7da98fa473cc8ebfaeb6e4e610.\n",
      "Traceback (most recent call last):\n",
      "  File \"/opt/conda/lib/python3.10/site-packages/distributed/worker.py\", line 2390, in _prepare_args_for_execution\n",
      "    data[k] = self.data[k]\n",
      "  File \"/opt/conda/lib/python3.10/site-packages/distributed/spill.py\", line 245, in __getitem__\n",
      "    return super().__getitem__(key)\n",
      "  File \"/opt/conda/lib/python3.10/site-packages/zict/buffer.py\", line 108, in __getitem__\n",
      "    raise KeyError(key)\n",
      "KeyError: '_deploy_dask_func-72110c38-8db2-40a9-9558-3c45c844a70a'\n",
      "\n",
      "During handling of the above exception, another exception occurred:\n",
      "\n",
      "Traceback (most recent call last):\n",
      "  File \"/opt/conda/lib/python3.10/site-packages/distributed/worker.py\", line 2271, in execute\n",
      "    args2, kwargs2 = self._prepare_args_for_execution(ts, args, kwargs)\n",
      "  File \"/opt/conda/lib/python3.10/site-packages/distributed/worker.py\", line 2394, in _prepare_args_for_execution\n",
      "    data[k] = Actor(type(self.state.actors[k]), self.address, k, self)\n",
      "KeyError: '_deploy_dask_func-72110c38-8db2-40a9-9558-3c45c844a70a'\n"
     ]
    },
    {
     "name": "stderr",
     "output_type": "stream",
     "text": [
      "UserWarning: Distributing <class 'dict'> object. This may take some time.\n"
     ]
    },
    {
     "name": "stderr",
     "output_type": "stream",
     "text": [
      "UserWarning: Group indices computation is not currently supported by PandasOnDask, defaulting to pandas implementation.\n"
     ]
    },
    {
     "name": "stderr",
     "output_type": "stream",
     "text": [
      "2023-03-25 12:00:21,701 - distributed.worker - ERROR - Exception during execution of task lambda-8a478a415a492a41aff09a2264b7ea99.\n",
      "Traceback (most recent call last):\n",
      "  File \"/opt/conda/lib/python3.10/site-packages/distributed/worker.py\", line 2390, in _prepare_args_for_execution\n",
      "    data[k] = self.data[k]\n",
      "  File \"/opt/conda/lib/python3.10/site-packages/distributed/spill.py\", line 245, in __getitem__\n",
      "    return super().__getitem__(key)\n",
      "  File \"/opt/conda/lib/python3.10/site-packages/zict/buffer.py\", line 108, in __getitem__\n",
      "    raise KeyError(key)\n",
      "KeyError: '_deploy_dask_func-228a3308-f8c6-4189-94f3-6b711074f4d7'\n",
      "\n",
      "During handling of the above exception, another exception occurred:\n",
      "\n",
      "Traceback (most recent call last):\n",
      "  File \"/opt/conda/lib/python3.10/site-packages/distributed/worker.py\", line 2271, in execute\n",
      "    args2, kwargs2 = self._prepare_args_for_execution(ts, args, kwargs)\n",
      "  File \"/opt/conda/lib/python3.10/site-packages/distributed/worker.py\", line 2394, in _prepare_args_for_execution\n",
      "    data[k] = Actor(type(self.state.actors[k]), self.address, k, self)\n",
      "KeyError: '_deploy_dask_func-228a3308-f8c6-4189-94f3-6b711074f4d7'\n"
     ]
    },
    {
     "name": "stderr",
     "output_type": "stream",
     "text": [
      "UserWarning: Distributing <class 'dict'> object. This may take some time.\n",
      "UserWarning: Group indices computation is not currently supported by PandasOnDask, defaulting to pandas implementation.\n"
     ]
    },
    {
     "name": "stderr",
     "output_type": "stream",
     "text": [
      "2023-03-25 12:00:26,418 - distributed.utils_perf - WARNING - full garbage collections took 14% CPU time recently (threshold: 10%)\n"
     ]
    },
    {
     "name": "stderr",
     "output_type": "stream",
     "text": [
      "2023-03-25 12:00:29,885 - distributed.worker - ERROR - Exception during execution of task lambda-38db497055ab1514888366358de67fe4.\n",
      "Traceback (most recent call last):\n",
      "  File \"/opt/conda/lib/python3.10/site-packages/distributed/worker.py\", line 2390, in _prepare_args_for_execution\n",
      "    data[k] = self.data[k]\n",
      "  File \"/opt/conda/lib/python3.10/site-packages/distributed/spill.py\", line 245, in __getitem__\n",
      "    return super().__getitem__(key)\n",
      "  File \"/opt/conda/lib/python3.10/site-packages/zict/buffer.py\", line 108, in __getitem__\n",
      "    raise KeyError(key)\n",
      "KeyError: '_deploy_dask_func-24866dc8-0737-4a5e-af81-aff013813e4d'\n",
      "\n",
      "During handling of the above exception, another exception occurred:\n",
      "\n",
      "Traceback (most recent call last):\n",
      "  File \"/opt/conda/lib/python3.10/site-packages/distributed/worker.py\", line 2271, in execute\n",
      "    args2, kwargs2 = self._prepare_args_for_execution(ts, args, kwargs)\n",
      "  File \"/opt/conda/lib/python3.10/site-packages/distributed/worker.py\", line 2394, in _prepare_args_for_execution\n",
      "    data[k] = Actor(type(self.state.actors[k]), self.address, k, self)\n",
      "KeyError: '_deploy_dask_func-24866dc8-0737-4a5e-af81-aff013813e4d'\n"
     ]
    },
    {
     "name": "stderr",
     "output_type": "stream",
     "text": [
      "UserWarning: Distributing <class 'dict'> object. This may take some time.\n",
      "UserWarning: Group indices computation is not currently supported by PandasOnDask, defaulting to pandas implementation.\n"
     ]
    },
    {
     "name": "stderr",
     "output_type": "stream",
     "text": [
      "2023-03-25 12:00:34,755 - distributed.utils_perf - WARNING - full garbage collections took 14% CPU time recently (threshold: 10%)\n"
     ]
    },
    {
     "name": "stderr",
     "output_type": "stream",
     "text": [
      "RuntimeWarning: divide by zero encountered in log\n"
     ]
    },
    {
     "name": "stderr",
     "output_type": "stream",
     "text": [
      "UserWarning: Distributing <class 'dict'> object. This may take some time.\n",
      "UserWarning: Group indices computation is not currently supported by PandasOnDask, defaulting to pandas implementation.\n"
     ]
    },
    {
     "name": "stderr",
     "output_type": "stream",
     "text": [
      "2023-03-25 12:00:43,263 - distributed.utils_perf - WARNING - full garbage collections took 14% CPU time recently (threshold: 10%)\n"
     ]
    },
    {
     "name": "stderr",
     "output_type": "stream",
     "text": [
      "UserWarning: Distributing <class 'dict'> object. This may take some time.\n",
      "UserWarning: Group indices computation is not currently supported by PandasOnDask, defaulting to pandas implementation.\n"
     ]
    },
    {
     "name": "stderr",
     "output_type": "stream",
     "text": [
      "RuntimeWarning: divide by zero encountered in log\n"
     ]
    },
    {
     "name": "stderr",
     "output_type": "stream",
     "text": [
      "2023-03-25 12:00:52,184 - distributed.utils_perf - WARNING - full garbage collections took 14% CPU time recently (threshold: 10%)\n"
     ]
    },
    {
     "name": "stderr",
     "output_type": "stream",
     "text": [
      "2023-03-25 12:00:53,386 - distributed.worker - ERROR - Exception during execution of task lambda-742ca2dfbdba455900c14b1eb15c9a2f.\n",
      "Traceback (most recent call last):\n",
      "  File \"/opt/conda/lib/python3.10/site-packages/distributed/worker.py\", line 2390, in _prepare_args_for_execution\n",
      "    data[k] = self.data[k]\n",
      "  File \"/opt/conda/lib/python3.10/site-packages/distributed/spill.py\", line 245, in __getitem__\n",
      "    return super().__getitem__(key)\n",
      "  File \"/opt/conda/lib/python3.10/site-packages/zict/buffer.py\", line 108, in __getitem__\n",
      "    raise KeyError(key)\n",
      "KeyError: '_deploy_dask_func-88f8e76a-004d-443f-a52b-700e582a2bfc'\n",
      "\n",
      "During handling of the above exception, another exception occurred:\n",
      "\n",
      "Traceback (most recent call last):\n",
      "  File \"/opt/conda/lib/python3.10/site-packages/distributed/worker.py\", line 2271, in execute\n",
      "    args2, kwargs2 = self._prepare_args_for_execution(ts, args, kwargs)\n",
      "  File \"/opt/conda/lib/python3.10/site-packages/distributed/worker.py\", line 2394, in _prepare_args_for_execution\n",
      "    data[k] = Actor(type(self.state.actors[k]), self.address, k, self)\n",
      "KeyError: '_deploy_dask_func-88f8e76a-004d-443f-a52b-700e582a2bfc'\n"
     ]
    },
    {
     "name": "stderr",
     "output_type": "stream",
     "text": [
      "RuntimeWarning: divide by zero encountered in log\n",
      "UserWarning: Distributing <class 'dict'> object. This may take some time.\n",
      "UserWarning: Group indices computation is not currently supported by PandasOnDask, defaulting to pandas implementation.\n"
     ]
    },
    {
     "name": "stderr",
     "output_type": "stream",
     "text": [
      "2023-03-25 12:00:55,770 - distributed.worker - ERROR - Exception during execution of task lambda-eee738ade86b212d9b3516ef9532b9cf.\n",
      "Traceback (most recent call last):\n",
      "  File \"/opt/conda/lib/python3.10/site-packages/distributed/worker.py\", line 2390, in _prepare_args_for_execution\n",
      "    data[k] = self.data[k]\n",
      "  File \"/opt/conda/lib/python3.10/site-packages/distributed/spill.py\", line 245, in __getitem__\n",
      "    return super().__getitem__(key)\n",
      "  File \"/opt/conda/lib/python3.10/site-packages/zict/buffer.py\", line 108, in __getitem__\n",
      "    raise KeyError(key)\n",
      "KeyError: '_deploy_dask_func-9f12772b-941a-406b-8010-e150cecf98f8'\n",
      "\n",
      "During handling of the above exception, another exception occurred:\n",
      "\n",
      "Traceback (most recent call last):\n",
      "  File \"/opt/conda/lib/python3.10/site-packages/distributed/worker.py\", line 2271, in execute\n",
      "    args2, kwargs2 = self._prepare_args_for_execution(ts, args, kwargs)\n",
      "  File \"/opt/conda/lib/python3.10/site-packages/distributed/worker.py\", line 2394, in _prepare_args_for_execution\n",
      "    data[k] = Actor(type(self.state.actors[k]), self.address, k, self)\n",
      "KeyError: '_deploy_dask_func-9f12772b-941a-406b-8010-e150cecf98f8'\n"
     ]
    },
    {
     "name": "stderr",
     "output_type": "stream",
     "text": [
      "UserWarning: Distributing <class 'dict'> object. This may take some time.\n",
      "UserWarning: Group indices computation is not currently supported by PandasOnDask, defaulting to pandas implementation.\n"
     ]
    },
    {
     "name": "stderr",
     "output_type": "stream",
     "text": [
      "2023-03-25 12:01:01,090 - distributed.utils_perf - WARNING - full garbage collections took 14% CPU time recently (threshold: 10%)\n"
     ]
    },
    {
     "name": "stderr",
     "output_type": "stream",
     "text": [
      "2023-03-25 12:01:03,542 - distributed.worker - ERROR - Exception during execution of task lambda-6d392b63046a9f796ed86c1fd2b6f552.\n",
      "Traceback (most recent call last):\n",
      "  File \"/opt/conda/lib/python3.10/site-packages/distributed/worker.py\", line 2390, in _prepare_args_for_execution\n",
      "    data[k] = self.data[k]\n",
      "  File \"/opt/conda/lib/python3.10/site-packages/distributed/spill.py\", line 245, in __getitem__\n",
      "    return super().__getitem__(key)\n",
      "  File \"/opt/conda/lib/python3.10/site-packages/zict/buffer.py\", line 108, in __getitem__\n",
      "    raise KeyError(key)\n",
      "KeyError: '_deploy_dask_func-c46ffd70-58b6-4963-b2f5-d52d329525d2'\n",
      "\n",
      "During handling of the above exception, another exception occurred:\n",
      "\n",
      "Traceback (most recent call last):\n",
      "  File \"/opt/conda/lib/python3.10/site-packages/distributed/worker.py\", line 2271, in execute\n",
      "    args2, kwargs2 = self._prepare_args_for_execution(ts, args, kwargs)\n",
      "  File \"/opt/conda/lib/python3.10/site-packages/distributed/worker.py\", line 2394, in _prepare_args_for_execution\n",
      "    data[k] = Actor(type(self.state.actors[k]), self.address, k, self)\n",
      "KeyError: '_deploy_dask_func-c46ffd70-58b6-4963-b2f5-d52d329525d2'\n"
     ]
    },
    {
     "name": "stderr",
     "output_type": "stream",
     "text": [
      "RuntimeWarning: divide by zero encountered in log\n"
     ]
    },
    {
     "name": "stderr",
     "output_type": "stream",
     "text": [
      "2023-03-25 12:01:05,339 - distributed.worker - ERROR - Exception during execution of task lambda-3bf372a1506322f52b470e97c46db127.\n",
      "Traceback (most recent call last):\n",
      "  File \"/opt/conda/lib/python3.10/site-packages/distributed/worker.py\", line 2390, in _prepare_args_for_execution\n",
      "    data[k] = self.data[k]\n",
      "  File \"/opt/conda/lib/python3.10/site-packages/distributed/spill.py\", line 245, in __getitem__\n",
      "    return super().__getitem__(key)\n",
      "  File \"/opt/conda/lib/python3.10/site-packages/zict/buffer.py\", line 108, in __getitem__\n",
      "    raise KeyError(key)\n",
      "KeyError: '_deploy_dask_func-ada9117c-416a-4424-aa9b-768e58212e90'\n",
      "\n",
      "During handling of the above exception, another exception occurred:\n",
      "\n",
      "Traceback (most recent call last):\n",
      "  File \"/opt/conda/lib/python3.10/site-packages/distributed/worker.py\", line 2271, in execute\n",
      "    args2, kwargs2 = self._prepare_args_for_execution(ts, args, kwargs)\n",
      "  File \"/opt/conda/lib/python3.10/site-packages/distributed/worker.py\", line 2394, in _prepare_args_for_execution\n",
      "    data[k] = Actor(type(self.state.actors[k]), self.address, k, self)\n",
      "KeyError: '_deploy_dask_func-ada9117c-416a-4424-aa9b-768e58212e90'\n"
     ]
    },
    {
     "name": "stderr",
     "output_type": "stream",
     "text": [
      "RuntimeWarning: divide by zero encountered in log\n",
      "UserWarning: Distributing <class 'dict'> object. This may take some time.\n",
      "UserWarning: Group indices computation is not currently supported by PandasOnDask, defaulting to pandas implementation.\n"
     ]
    },
    {
     "name": "stderr",
     "output_type": "stream",
     "text": [
      "2023-03-25 12:01:09,445 - distributed.utils_perf - WARNING - full garbage collections took 14% CPU time recently (threshold: 10%)\n"
     ]
    },
    {
     "name": "stderr",
     "output_type": "stream",
     "text": [
      "UserWarning: Distributing <class 'dict'> object. This may take some time.\n",
      "UserWarning: Group indices computation is not currently supported by PandasOnDask, defaulting to pandas implementation.\n"
     ]
    },
    {
     "name": "stderr",
     "output_type": "stream",
     "text": [
      "2023-03-25 12:01:18,022 - distributed.utils_perf - WARNING - full garbage collections took 14% CPU time recently (threshold: 10%)\n"
     ]
    },
    {
     "name": "stderr",
     "output_type": "stream",
     "text": [
      "UserWarning: Distributing <class 'dict'> object. This may take some time.\n",
      "2023-03-25 12:01:18,705 - distributed.worker - ERROR - Exception during execution of task lambda-9d3e905450927eac8449a0731b87c427.\n",
      "Traceback (most recent call last):\n",
      "  File \"/opt/conda/lib/python3.10/site-packages/distributed/worker.py\", line 2390, in _prepare_args_for_execution\n",
      "    data[k] = self.data[k]\n",
      "  File \"/opt/conda/lib/python3.10/site-packages/distributed/spill.py\", line 245, in __getitem__\n",
      "    return super().__getitem__(key)\n",
      "  File \"/opt/conda/lib/python3.10/site-packages/zict/buffer.py\", line 108, in __getitem__\n",
      "    raise KeyError(key)\n",
      "KeyError: 'apply_list_of_funcs-58c7fd88-45b2-40cc-9c4b-a9de3589500e'\n",
      "\n",
      "During handling of the above exception, another exception occurred:\n",
      "\n",
      "Traceback (most recent call last):\n",
      "  File \"/opt/conda/lib/python3.10/site-packages/distributed/worker.py\", line 2271, in execute\n",
      "    args2, kwargs2 = self._prepare_args_for_execution(ts, args, kwargs)\n",
      "  File \"/opt/conda/lib/python3.10/site-packages/distributed/worker.py\", line 2394, in _prepare_args_for_execution\n",
      "    data[k] = Actor(type(self.state.actors[k]), self.address, k, self)\n",
      "KeyError: 'apply_list_of_funcs-58c7fd88-45b2-40cc-9c4b-a9de3589500e'\n",
      "UserWarning: Group indices computation is not currently supported by PandasOnDask, defaulting to pandas implementation.\n"
     ]
    },
    {
     "name": "stderr",
     "output_type": "stream",
     "text": [
      "2023-03-25 12:01:19,779 - distributed.worker - ERROR - Exception during execution of task lambda-8c8719f7742e1b2e6add860e47d5911e.\n",
      "Traceback (most recent call last):\n",
      "  File \"/opt/conda/lib/python3.10/site-packages/distributed/worker.py\", line 2390, in _prepare_args_for_execution\n",
      "    data[k] = self.data[k]\n",
      "  File \"/opt/conda/lib/python3.10/site-packages/distributed/spill.py\", line 245, in __getitem__\n",
      "    return super().__getitem__(key)\n",
      "  File \"/opt/conda/lib/python3.10/site-packages/zict/buffer.py\", line 108, in __getitem__\n",
      "    raise KeyError(key)\n",
      "KeyError: '_deploy_dask_func-380eeafc-22c8-4bd7-a5c5-bae61abf785e'\n",
      "\n",
      "During handling of the above exception, another exception occurred:\n",
      "\n",
      "Traceback (most recent call last):\n",
      "  File \"/opt/conda/lib/python3.10/site-packages/distributed/worker.py\", line 2271, in execute\n",
      "    args2, kwargs2 = self._prepare_args_for_execution(ts, args, kwargs)\n",
      "  File \"/opt/conda/lib/python3.10/site-packages/distributed/worker.py\", line 2394, in _prepare_args_for_execution\n",
      "    data[k] = Actor(type(self.state.actors[k]), self.address, k, self)\n",
      "KeyError: '_deploy_dask_func-380eeafc-22c8-4bd7-a5c5-bae61abf785e'\n"
     ]
    },
    {
     "name": "stderr",
     "output_type": "stream",
     "text": [
      "RuntimeWarning: divide by zero encountered in log\n"
     ]
    },
    {
     "name": "stderr",
     "output_type": "stream",
     "text": [
      "2023-03-25 12:01:23,991 - distributed.worker - ERROR - Exception during execution of task lambda-a92c649f5e41a40a7cae498ec6bf8d67.\n",
      "Traceback (most recent call last):\n",
      "  File \"/opt/conda/lib/python3.10/site-packages/distributed/worker.py\", line 2390, in _prepare_args_for_execution\n",
      "    data[k] = self.data[k]\n",
      "  File \"/opt/conda/lib/python3.10/site-packages/distributed/spill.py\", line 245, in __getitem__\n",
      "    return super().__getitem__(key)\n",
      "  File \"/opt/conda/lib/python3.10/site-packages/zict/buffer.py\", line 108, in __getitem__\n",
      "    raise KeyError(key)\n",
      "KeyError: '_deploy_dask_func-840a3f69-864e-45f0-b18d-de5dd0dd1a59'\n",
      "\n",
      "During handling of the above exception, another exception occurred:\n",
      "\n",
      "Traceback (most recent call last):\n",
      "  File \"/opt/conda/lib/python3.10/site-packages/distributed/worker.py\", line 2271, in execute\n",
      "    args2, kwargs2 = self._prepare_args_for_execution(ts, args, kwargs)\n",
      "  File \"/opt/conda/lib/python3.10/site-packages/distributed/worker.py\", line 2394, in _prepare_args_for_execution\n",
      "    data[k] = Actor(type(self.state.actors[k]), self.address, k, self)\n",
      "KeyError: '_deploy_dask_func-840a3f69-864e-45f0-b18d-de5dd0dd1a59'\n"
     ]
    },
    {
     "name": "stderr",
     "output_type": "stream",
     "text": [
      "UserWarning: Distributing <class 'dict'> object. This may take some time.\n",
      "UserWarning: Group indices computation is not currently supported by PandasOnDask, defaulting to pandas implementation.\n"
     ]
    },
    {
     "name": "stderr",
     "output_type": "stream",
     "text": [
      "2023-03-25 12:01:26,747 - distributed.utils_perf - WARNING - full garbage collections took 14% CPU time recently (threshold: 10%)\n"
     ]
    },
    {
     "name": "stderr",
     "output_type": "stream",
     "text": [
      "2023-03-25 12:01:29,045 - distributed.worker - ERROR - Exception during execution of task lambda-09f40f30873550ff94dd6f414ce6423f.\n",
      "Traceback (most recent call last):\n",
      "  File \"/opt/conda/lib/python3.10/site-packages/distributed/worker.py\", line 2390, in _prepare_args_for_execution\n",
      "    data[k] = self.data[k]\n",
      "  File \"/opt/conda/lib/python3.10/site-packages/distributed/spill.py\", line 245, in __getitem__\n",
      "    return super().__getitem__(key)\n",
      "  File \"/opt/conda/lib/python3.10/site-packages/zict/buffer.py\", line 108, in __getitem__\n",
      "    raise KeyError(key)\n",
      "KeyError: '_deploy_dask_func-5372e7f0-2dd3-415b-bf17-78188ae804a6'\n",
      "\n",
      "During handling of the above exception, another exception occurred:\n",
      "\n",
      "Traceback (most recent call last):\n",
      "  File \"/opt/conda/lib/python3.10/site-packages/distributed/worker.py\", line 2271, in execute\n",
      "    args2, kwargs2 = self._prepare_args_for_execution(ts, args, kwargs)\n",
      "  File \"/opt/conda/lib/python3.10/site-packages/distributed/worker.py\", line 2394, in _prepare_args_for_execution\n",
      "    data[k] = Actor(type(self.state.actors[k]), self.address, k, self)\n",
      "KeyError: '_deploy_dask_func-5372e7f0-2dd3-415b-bf17-78188ae804a6'\n"
     ]
    },
    {
     "name": "stderr",
     "output_type": "stream",
     "text": [
      "UserWarning: Distributing <class 'dict'> object. This may take some time.\n",
      "UserWarning: Group indices computation is not currently supported by PandasOnDask, defaulting to pandas implementation.\n"
     ]
    },
    {
     "name": "stderr",
     "output_type": "stream",
     "text": [
      "2023-03-25 12:01:31,195 - distributed.worker - ERROR - Exception during execution of task lambda-91c40c0269499c75a509297a12a705ba.\n",
      "Traceback (most recent call last):\n",
      "  File \"/opt/conda/lib/python3.10/site-packages/distributed/worker.py\", line 2390, in _prepare_args_for_execution\n",
      "    data[k] = self.data[k]\n",
      "  File \"/opt/conda/lib/python3.10/site-packages/distributed/spill.py\", line 245, in __getitem__\n",
      "    return super().__getitem__(key)\n",
      "  File \"/opt/conda/lib/python3.10/site-packages/zict/buffer.py\", line 108, in __getitem__\n",
      "    raise KeyError(key)\n",
      "KeyError: '_deploy_dask_func-7465ee8d-fc8c-4a1b-992e-9fed071572b1'\n",
      "\n",
      "During handling of the above exception, another exception occurred:\n",
      "\n",
      "Traceback (most recent call last):\n",
      "  File \"/opt/conda/lib/python3.10/site-packages/distributed/worker.py\", line 2271, in execute\n",
      "    args2, kwargs2 = self._prepare_args_for_execution(ts, args, kwargs)\n",
      "  File \"/opt/conda/lib/python3.10/site-packages/distributed/worker.py\", line 2394, in _prepare_args_for_execution\n",
      "    data[k] = Actor(type(self.state.actors[k]), self.address, k, self)\n",
      "KeyError: '_deploy_dask_func-7465ee8d-fc8c-4a1b-992e-9fed071572b1'\n"
     ]
    },
    {
     "name": "stderr",
     "output_type": "stream",
     "text": [
      "2023-03-25 12:01:35,220 - distributed.utils_perf - WARNING - full garbage collections took 14% CPU time recently (threshold: 10%)\n"
     ]
    },
    {
     "name": "stderr",
     "output_type": "stream",
     "text": [
      "UserWarning: Distributing <class 'dict'> object. This may take some time.\n"
     ]
    },
    {
     "name": "stderr",
     "output_type": "stream",
     "text": [
      "UserWarning: Group indices computation is not currently supported by PandasOnDask, defaulting to pandas implementation.\n"
     ]
    },
    {
     "name": "stderr",
     "output_type": "stream",
     "text": [
      "2023-03-25 12:01:37,297 - distributed.worker - ERROR - Exception during execution of task lambda-a7a653a2b324db7850ed21cd3a16f2f7.\n",
      "Traceback (most recent call last):\n",
      "  File \"/opt/conda/lib/python3.10/site-packages/distributed/worker.py\", line 2390, in _prepare_args_for_execution\n",
      "    data[k] = self.data[k]\n",
      "  File \"/opt/conda/lib/python3.10/site-packages/distributed/spill.py\", line 245, in __getitem__\n",
      "    return super().__getitem__(key)\n",
      "  File \"/opt/conda/lib/python3.10/site-packages/zict/buffer.py\", line 108, in __getitem__\n",
      "    raise KeyError(key)\n",
      "KeyError: '_deploy_dask_func-90b63c70-542b-4790-a511-2272d8d8a473'\n",
      "\n",
      "During handling of the above exception, another exception occurred:\n",
      "\n",
      "Traceback (most recent call last):\n",
      "  File \"/opt/conda/lib/python3.10/site-packages/distributed/worker.py\", line 2271, in execute\n",
      "    args2, kwargs2 = self._prepare_args_for_execution(ts, args, kwargs)\n",
      "  File \"/opt/conda/lib/python3.10/site-packages/distributed/worker.py\", line 2394, in _prepare_args_for_execution\n",
      "    data[k] = Actor(type(self.state.actors[k]), self.address, k, self)\n",
      "KeyError: '_deploy_dask_func-90b63c70-542b-4790-a511-2272d8d8a473'\n"
     ]
    },
    {
     "name": "stderr",
     "output_type": "stream",
     "text": [
      "2023-03-25 12:01:41,835 - distributed.worker - ERROR - Exception during execution of task lambda-a46c8eb08fa82f733d018efbc3fa3ccc.\n",
      "Traceback (most recent call last):\n",
      "  File \"/opt/conda/lib/python3.10/site-packages/distributed/worker.py\", line 2390, in _prepare_args_for_execution\n",
      "    data[k] = self.data[k]\n",
      "  File \"/opt/conda/lib/python3.10/site-packages/distributed/spill.py\", line 245, in __getitem__\n",
      "    return super().__getitem__(key)\n",
      "  File \"/opt/conda/lib/python3.10/site-packages/zict/buffer.py\", line 108, in __getitem__\n",
      "    raise KeyError(key)\n",
      "KeyError: '_deploy_dask_func-5e92ac1b-c5cb-4620-9af5-19d54506ed57'\n",
      "\n",
      "During handling of the above exception, another exception occurred:\n",
      "\n",
      "Traceback (most recent call last):\n",
      "  File \"/opt/conda/lib/python3.10/site-packages/distributed/worker.py\", line 2271, in execute\n",
      "    args2, kwargs2 = self._prepare_args_for_execution(ts, args, kwargs)\n",
      "  File \"/opt/conda/lib/python3.10/site-packages/distributed/worker.py\", line 2394, in _prepare_args_for_execution\n",
      "    data[k] = Actor(type(self.state.actors[k]), self.address, k, self)\n",
      "KeyError: '_deploy_dask_func-5e92ac1b-c5cb-4620-9af5-19d54506ed57'\n"
     ]
    },
    {
     "name": "stderr",
     "output_type": "stream",
     "text": [
      "RuntimeWarning: divide by zero encountered in log\n",
      "UserWarning: Distributing <class 'dict'> object. This may take some time.\n",
      "UserWarning: Group indices computation is not currently supported by PandasOnDask, defaulting to pandas implementation.\n"
     ]
    },
    {
     "name": "stderr",
     "output_type": "stream",
     "text": [
      "2023-03-25 12:01:44,119 - distributed.utils_perf - WARNING - full garbage collections took 14% CPU time recently (threshold: 10%)\n"
     ]
    },
    {
     "name": "stderr",
     "output_type": "stream",
     "text": [
      "2023-03-25 12:01:47,331 - distributed.worker - ERROR - Exception during execution of task lambda-c28bdc7dfc922823278632b33ce1b121.\n",
      "Traceback (most recent call last):\n",
      "  File \"/opt/conda/lib/python3.10/site-packages/distributed/worker.py\", line 2390, in _prepare_args_for_execution\n",
      "    data[k] = self.data[k]\n",
      "  File \"/opt/conda/lib/python3.10/site-packages/distributed/spill.py\", line 245, in __getitem__\n",
      "    return super().__getitem__(key)\n",
      "  File \"/opt/conda/lib/python3.10/site-packages/zict/buffer.py\", line 108, in __getitem__\n",
      "    raise KeyError(key)\n",
      "KeyError: '_deploy_dask_func-e076fb66-cfa8-406b-8a67-e2085583b6ba'\n",
      "\n",
      "During handling of the above exception, another exception occurred:\n",
      "\n",
      "Traceback (most recent call last):\n",
      "  File \"/opt/conda/lib/python3.10/site-packages/distributed/worker.py\", line 2271, in execute\n",
      "    args2, kwargs2 = self._prepare_args_for_execution(ts, args, kwargs)\n",
      "  File \"/opt/conda/lib/python3.10/site-packages/distributed/worker.py\", line 2394, in _prepare_args_for_execution\n",
      "    data[k] = Actor(type(self.state.actors[k]), self.address, k, self)\n",
      "KeyError: '_deploy_dask_func-e076fb66-cfa8-406b-8a67-e2085583b6ba'\n"
     ]
    },
    {
     "name": "stderr",
     "output_type": "stream",
     "text": [
      "UserWarning: Distributing <class 'dict'> object. This may take some time.\n",
      "UserWarning: Group indices computation is not currently supported by PandasOnDask, defaulting to pandas implementation.\n"
     ]
    },
    {
     "name": "stderr",
     "output_type": "stream",
     "text": [
      "2023-03-25 12:01:52,990 - distributed.utils_perf - WARNING - full garbage collections took 14% CPU time recently (threshold: 10%)\n"
     ]
    },
    {
     "name": "stderr",
     "output_type": "stream",
     "text": [
      "UserWarning: Distributing <class 'dict'> object. This may take some time.\n",
      "UserWarning: Group indices computation is not currently supported by PandasOnDask, defaulting to pandas implementation.\n"
     ]
    },
    {
     "name": "stderr",
     "output_type": "stream",
     "text": [
      "2023-03-25 12:01:55,827 - distributed.worker - ERROR - Exception during execution of task lambda-be5a5e4c7b2af9a76dbeb979b53e2207.\n",
      "Traceback (most recent call last):\n",
      "  File \"/opt/conda/lib/python3.10/site-packages/distributed/worker.py\", line 2390, in _prepare_args_for_execution\n",
      "    data[k] = self.data[k]\n",
      "  File \"/opt/conda/lib/python3.10/site-packages/distributed/spill.py\", line 245, in __getitem__\n",
      "    return super().__getitem__(key)\n",
      "  File \"/opt/conda/lib/python3.10/site-packages/zict/buffer.py\", line 108, in __getitem__\n",
      "    raise KeyError(key)\n",
      "KeyError: '_deploy_dask_func-eb5f880f-c598-4366-a0db-9e9d09873dc3'\n",
      "\n",
      "During handling of the above exception, another exception occurred:\n",
      "\n",
      "Traceback (most recent call last):\n",
      "  File \"/opt/conda/lib/python3.10/site-packages/distributed/worker.py\", line 2271, in execute\n",
      "    args2, kwargs2 = self._prepare_args_for_execution(ts, args, kwargs)\n",
      "  File \"/opt/conda/lib/python3.10/site-packages/distributed/worker.py\", line 2394, in _prepare_args_for_execution\n",
      "    data[k] = Actor(type(self.state.actors[k]), self.address, k, self)\n",
      "KeyError: '_deploy_dask_func-eb5f880f-c598-4366-a0db-9e9d09873dc3'\n"
     ]
    },
    {
     "name": "stderr",
     "output_type": "stream",
     "text": [
      "RuntimeWarning: divide by zero encountered in log\n"
     ]
    },
    {
     "name": "stderr",
     "output_type": "stream",
     "text": [
      "UserWarning: Distributing <class 'dict'> object. This may take some time.\n",
      "UserWarning: Group indices computation is not currently supported by PandasOnDask, defaulting to pandas implementation.\n"
     ]
    },
    {
     "name": "stderr",
     "output_type": "stream",
     "text": [
      "2023-03-25 12:02:02,053 - distributed.utils_perf - WARNING - full garbage collections took 14% CPU time recently (threshold: 10%)\n"
     ]
    },
    {
     "name": "stderr",
     "output_type": "stream",
     "text": [
      "2023-03-25 12:02:10,964 - distributed.utils_perf - WARNING - full garbage collections took 14% CPU time recently (threshold: 10%)\n"
     ]
    },
    {
     "name": "stderr",
     "output_type": "stream",
     "text": [
      "2023-03-25 12:02:11,541 - distributed.worker - ERROR - Exception during execution of task lambda-74cfdf60a88a1d669ea30f0390716f28.\n",
      "Traceback (most recent call last):\n",
      "  File \"/opt/conda/lib/python3.10/site-packages/distributed/worker.py\", line 2390, in _prepare_args_for_execution\n",
      "    data[k] = self.data[k]\n",
      "  File \"/opt/conda/lib/python3.10/site-packages/distributed/spill.py\", line 245, in __getitem__\n",
      "    return super().__getitem__(key)\n",
      "  File \"/opt/conda/lib/python3.10/site-packages/zict/buffer.py\", line 108, in __getitem__\n",
      "    raise KeyError(key)\n",
      "KeyError: '_deploy_dask_func-2ef69188-e7fd-4b67-aa8e-9218e1427ac7'\n",
      "\n",
      "During handling of the above exception, another exception occurred:\n",
      "\n",
      "Traceback (most recent call last):\n",
      "  File \"/opt/conda/lib/python3.10/site-packages/distributed/worker.py\", line 2271, in execute\n",
      "    args2, kwargs2 = self._prepare_args_for_execution(ts, args, kwargs)\n",
      "  File \"/opt/conda/lib/python3.10/site-packages/distributed/worker.py\", line 2394, in _prepare_args_for_execution\n",
      "    data[k] = Actor(type(self.state.actors[k]), self.address, k, self)\n",
      "KeyError: '_deploy_dask_func-2ef69188-e7fd-4b67-aa8e-9218e1427ac7'\n"
     ]
    },
    {
     "name": "stderr",
     "output_type": "stream",
     "text": [
      "RuntimeWarning: divide by zero encountered in log\n",
      "UserWarning: Distributing <class 'dict'> object. This may take some time.\n",
      "UserWarning: Group indices computation is not currently supported by PandasOnDask, defaulting to pandas implementation.\n"
     ]
    },
    {
     "name": "stderr",
     "output_type": "stream",
     "text": [
      "2023-03-25 12:02:20,127 - distributed.utils_perf - WARNING - full garbage collections took 14% CPU time recently (threshold: 10%)\n"
     ]
    },
    {
     "name": "stderr",
     "output_type": "stream",
     "text": [
      "2023-03-25 12:02:29,756 - distributed.utils_perf - WARNING - full garbage collections took 14% CPU time recently (threshold: 10%)\n"
     ]
    },
    {
     "name": "stderr",
     "output_type": "stream",
     "text": [
      "RuntimeWarning: divide by zero encountered in log\n",
      "UserWarning: Distributing <class 'dict'> object. This may take some time.\n",
      "UserWarning: Group indices computation is not currently supported by PandasOnDask, defaulting to pandas implementation.\n"
     ]
    },
    {
     "name": "stderr",
     "output_type": "stream",
     "text": [
      "2023-03-25 12:02:37,191 - distributed.worker - ERROR - Exception during execution of task lambda-bb64b62c22b9eebf74405de5e1fd8c13.\n",
      "Traceback (most recent call last):\n",
      "  File \"/opt/conda/lib/python3.10/site-packages/distributed/worker.py\", line 2390, in _prepare_args_for_execution\n",
      "    data[k] = self.data[k]\n",
      "  File \"/opt/conda/lib/python3.10/site-packages/distributed/spill.py\", line 245, in __getitem__\n",
      "    return super().__getitem__(key)\n",
      "  File \"/opt/conda/lib/python3.10/site-packages/zict/buffer.py\", line 108, in __getitem__\n",
      "    raise KeyError(key)\n",
      "KeyError: '_deploy_dask_func-3efa8b30-d72f-4df1-b69a-7fa76aeb1c16'\n",
      "\n",
      "During handling of the above exception, another exception occurred:\n",
      "\n",
      "Traceback (most recent call last):\n",
      "  File \"/opt/conda/lib/python3.10/site-packages/distributed/worker.py\", line 2271, in execute\n",
      "    args2, kwargs2 = self._prepare_args_for_execution(ts, args, kwargs)\n",
      "  File \"/opt/conda/lib/python3.10/site-packages/distributed/worker.py\", line 2394, in _prepare_args_for_execution\n",
      "    data[k] = Actor(type(self.state.actors[k]), self.address, k, self)\n",
      "KeyError: '_deploy_dask_func-3efa8b30-d72f-4df1-b69a-7fa76aeb1c16'\n"
     ]
    },
    {
     "name": "stderr",
     "output_type": "stream",
     "text": [
      "2023-03-25 12:02:38,581 - distributed.utils_perf - WARNING - full garbage collections took 14% CPU time recently (threshold: 10%)\n"
     ]
    },
    {
     "name": "stderr",
     "output_type": "stream",
     "text": [
      "UserWarning: Distributing <class 'dict'> object. This may take some time.\n",
      "UserWarning: Group indices computation is not currently supported by PandasOnDask, defaulting to pandas implementation.\n"
     ]
    },
    {
     "name": "stderr",
     "output_type": "stream",
     "text": [
      "2023-03-25 12:02:45,790 - distributed.worker - ERROR - Exception during execution of task lambda-cc60fb60e172beacdbadd6abe2cb6baf.\n",
      "Traceback (most recent call last):\n",
      "  File \"/opt/conda/lib/python3.10/site-packages/distributed/worker.py\", line 2390, in _prepare_args_for_execution\n",
      "    data[k] = self.data[k]\n",
      "  File \"/opt/conda/lib/python3.10/site-packages/distributed/spill.py\", line 245, in __getitem__\n",
      "    return super().__getitem__(key)\n",
      "  File \"/opt/conda/lib/python3.10/site-packages/zict/buffer.py\", line 108, in __getitem__\n",
      "    raise KeyError(key)\n",
      "KeyError: '_deploy_dask_func-b65e9933-bdb5-4d94-a53e-48db9f3449cc'\n",
      "\n",
      "During handling of the above exception, another exception occurred:\n",
      "\n",
      "Traceback (most recent call last):\n",
      "  File \"/opt/conda/lib/python3.10/site-packages/distributed/worker.py\", line 2271, in execute\n",
      "    args2, kwargs2 = self._prepare_args_for_execution(ts, args, kwargs)\n",
      "  File \"/opt/conda/lib/python3.10/site-packages/distributed/worker.py\", line 2394, in _prepare_args_for_execution\n",
      "    data[k] = Actor(type(self.state.actors[k]), self.address, k, self)\n",
      "KeyError: '_deploy_dask_func-b65e9933-bdb5-4d94-a53e-48db9f3449cc'\n"
     ]
    },
    {
     "name": "stderr",
     "output_type": "stream",
     "text": [
      "2023-03-25 12:02:47,658 - distributed.utils_perf - WARNING - full garbage collections took 14% CPU time recently (threshold: 10%)\n"
     ]
    },
    {
     "name": "stderr",
     "output_type": "stream",
     "text": [
      "2023-03-25 12:02:57,327 - distributed.utils_perf - WARNING - full garbage collections took 14% CPU time recently (threshold: 10%)\n"
     ]
    },
    {
     "name": "stderr",
     "output_type": "stream",
     "text": [
      "2023-03-25 12:02:57,520 - distributed.worker - ERROR - Exception during execution of task lambda-e5e296efbc5817f63de3ef2fe51b63ba.\n",
      "Traceback (most recent call last):\n",
      "  File \"/opt/conda/lib/python3.10/site-packages/distributed/worker.py\", line 2390, in _prepare_args_for_execution\n",
      "    data[k] = self.data[k]\n",
      "  File \"/opt/conda/lib/python3.10/site-packages/distributed/spill.py\", line 245, in __getitem__\n",
      "    return super().__getitem__(key)\n",
      "  File \"/opt/conda/lib/python3.10/site-packages/zict/buffer.py\", line 108, in __getitem__\n",
      "    raise KeyError(key)\n",
      "KeyError: '_deploy_dask_func-d5b183b0-c6ea-49bd-827b-79c217719ea7'\n",
      "\n",
      "During handling of the above exception, another exception occurred:\n",
      "\n",
      "Traceback (most recent call last):\n",
      "  File \"/opt/conda/lib/python3.10/site-packages/distributed/worker.py\", line 2271, in execute\n",
      "    args2, kwargs2 = self._prepare_args_for_execution(ts, args, kwargs)\n",
      "  File \"/opt/conda/lib/python3.10/site-packages/distributed/worker.py\", line 2394, in _prepare_args_for_execution\n",
      "    data[k] = Actor(type(self.state.actors[k]), self.address, k, self)\n",
      "KeyError: '_deploy_dask_func-d5b183b0-c6ea-49bd-827b-79c217719ea7'\n"
     ]
    },
    {
     "name": "stderr",
     "output_type": "stream",
     "text": [
      "RuntimeWarning: divide by zero encountered in log\n",
      "UserWarning: Distributing <class 'dict'> object. This may take some time.\n",
      "UserWarning: Group indices computation is not currently supported by PandasOnDask, defaulting to pandas implementation.\n"
     ]
    },
    {
     "name": "stderr",
     "output_type": "stream",
     "text": [
      "2023-03-25 12:03:00,268 - distributed.worker - ERROR - Exception during execution of task lambda-cd52c48fcf943acf1b0e97446d70cc50.\n",
      "Traceback (most recent call last):\n",
      "  File \"/opt/conda/lib/python3.10/site-packages/distributed/worker.py\", line 2390, in _prepare_args_for_execution\n",
      "    data[k] = self.data[k]\n",
      "  File \"/opt/conda/lib/python3.10/site-packages/distributed/spill.py\", line 245, in __getitem__\n",
      "    return super().__getitem__(key)\n",
      "  File \"/opt/conda/lib/python3.10/site-packages/zict/buffer.py\", line 108, in __getitem__\n",
      "    raise KeyError(key)\n",
      "KeyError: '_deploy_dask_func-6ad713f2-f585-4338-b029-3ca0c9b5c428'\n",
      "\n",
      "During handling of the above exception, another exception occurred:\n",
      "\n",
      "Traceback (most recent call last):\n",
      "  File \"/opt/conda/lib/python3.10/site-packages/distributed/worker.py\", line 2271, in execute\n",
      "    args2, kwargs2 = self._prepare_args_for_execution(ts, args, kwargs)\n",
      "  File \"/opt/conda/lib/python3.10/site-packages/distributed/worker.py\", line 2394, in _prepare_args_for_execution\n",
      "    data[k] = Actor(type(self.state.actors[k]), self.address, k, self)\n",
      "KeyError: '_deploy_dask_func-6ad713f2-f585-4338-b029-3ca0c9b5c428'\n"
     ]
    },
    {
     "name": "stderr",
     "output_type": "stream",
     "text": [
      "2023-03-25 12:03:06,575 - distributed.utils_perf - WARNING - full garbage collections took 13% CPU time recently (threshold: 10%)\n"
     ]
    },
    {
     "name": "stderr",
     "output_type": "stream",
     "text": [
      "2023-03-25 12:03:08,479 - distributed.worker - ERROR - Exception during execution of task lambda-746c748bfa6122a21d9af6304c1f5ce7.\n",
      "Traceback (most recent call last):\n",
      "  File \"/opt/conda/lib/python3.10/site-packages/distributed/worker.py\", line 2390, in _prepare_args_for_execution\n",
      "    data[k] = self.data[k]\n",
      "  File \"/opt/conda/lib/python3.10/site-packages/distributed/spill.py\", line 245, in __getitem__\n",
      "    return super().__getitem__(key)\n",
      "  File \"/opt/conda/lib/python3.10/site-packages/zict/buffer.py\", line 108, in __getitem__\n",
      "    raise KeyError(key)\n",
      "KeyError: '_deploy_dask_func-88f334d0-2686-495e-abaf-2aaf8cb802f5'\n",
      "\n",
      "During handling of the above exception, another exception occurred:\n",
      "\n",
      "Traceback (most recent call last):\n",
      "  File \"/opt/conda/lib/python3.10/site-packages/distributed/worker.py\", line 2271, in execute\n",
      "    args2, kwargs2 = self._prepare_args_for_execution(ts, args, kwargs)\n",
      "  File \"/opt/conda/lib/python3.10/site-packages/distributed/worker.py\", line 2394, in _prepare_args_for_execution\n",
      "    data[k] = Actor(type(self.state.actors[k]), self.address, k, self)\n",
      "KeyError: '_deploy_dask_func-88f334d0-2686-495e-abaf-2aaf8cb802f5'\n"
     ]
    },
    {
     "name": "stderr",
     "output_type": "stream",
     "text": [
      "UserWarning: Distributing <class 'dict'> object. This may take some time.\n",
      "UserWarning: Group indices computation is not currently supported by PandasOnDask, defaulting to pandas implementation.\n"
     ]
    },
    {
     "name": "stderr",
     "output_type": "stream",
     "text": [
      "2023-03-25 12:03:15,704 - distributed.utils_perf - WARNING - full garbage collections took 13% CPU time recently (threshold: 10%)\n"
     ]
    },
    {
     "name": "stderr",
     "output_type": "stream",
     "text": [
      "2023-03-25 12:03:18,150 - distributed.worker - WARNING - Could not find data: {'function-2431e00fcb124e1cb48530a778a8e7fb': ['tcp://127.0.0.1:39835', 'tcp://127.0.0.1:43819', 'tcp://127.0.0.1:41475', 'tcp://127.0.0.1:40591', 'tcp://127.0.0.1:42789', 'tcp://127.0.0.1:38503', 'tcp://127.0.0.1:34315', 'tcp://127.0.0.1:41951', 'tcp://127.0.0.1:45651', 'tcp://127.0.0.1:37809', 'tcp://127.0.0.1:45057', 'tcp://127.0.0.1:45783', 'tcp://127.0.0.1:45501', 'tcp://127.0.0.1:42445', 'tcp://127.0.0.1:41009', 'tcp://127.0.0.1:42313', 'tcp://127.0.0.1:38053', 'tcp://127.0.0.1:33307', 'tcp://127.0.0.1:33125', 'tcp://127.0.0.1:38247', 'tcp://127.0.0.1:34547', 'tcp://127.0.0.1:42889', 'tcp://127.0.0.1:40137', 'tcp://127.0.0.1:37083', 'tcp://127.0.0.1:35459', 'tcp://127.0.0.1:43775', 'tcp://127.0.0.1:40335']} on workers: [] (who_has: {'function-2431e00fcb124e1cb48530a778a8e7fb': ['tcp://127.0.0.1:39835', 'tcp://127.0.0.1:43819', 'tcp://127.0.0.1:41475', 'tcp://127.0.0.1:40591', 'tcp://127.0.0.1:42789', 'tcp://127.0.0.1:38503', 'tcp://127.0.0.1:34315', 'tcp://127.0.0.1:41951', 'tcp://127.0.0.1:45651', 'tcp://127.0.0.1:37809', 'tcp://127.0.0.1:45057', 'tcp://127.0.0.1:45783', 'tcp://127.0.0.1:45501', 'tcp://127.0.0.1:42445', 'tcp://127.0.0.1:41009', 'tcp://127.0.0.1:42313', 'tcp://127.0.0.1:38053', 'tcp://127.0.0.1:33307', 'tcp://127.0.0.1:33125', 'tcp://127.0.0.1:38247', 'tcp://127.0.0.1:34547', 'tcp://127.0.0.1:42889', 'tcp://127.0.0.1:40137', 'tcp://127.0.0.1:37083', 'tcp://127.0.0.1:35459', 'tcp://127.0.0.1:43775', 'tcp://127.0.0.1:40335']})\n",
      "2023-03-25 12:03:18,151 - distributed.scheduler - WARNING - Worker tcp://127.0.0.1:43289 failed to acquire keys: {'function-2431e00fcb124e1cb48530a778a8e7fb': ('tcp://127.0.0.1:39835', 'tcp://127.0.0.1:43819', 'tcp://127.0.0.1:41475', 'tcp://127.0.0.1:40591', 'tcp://127.0.0.1:42789', 'tcp://127.0.0.1:38503', 'tcp://127.0.0.1:34315', 'tcp://127.0.0.1:41951', 'tcp://127.0.0.1:45651', 'tcp://127.0.0.1:37809', 'tcp://127.0.0.1:45057', 'tcp://127.0.0.1:45783', 'tcp://127.0.0.1:45501', 'tcp://127.0.0.1:42445', 'tcp://127.0.0.1:41009', 'tcp://127.0.0.1:42313', 'tcp://127.0.0.1:38053', 'tcp://127.0.0.1:33307', 'tcp://127.0.0.1:33125', 'tcp://127.0.0.1:38247', 'tcp://127.0.0.1:34547', 'tcp://127.0.0.1:42889', 'tcp://127.0.0.1:40137', 'tcp://127.0.0.1:37083', 'tcp://127.0.0.1:35459', 'tcp://127.0.0.1:43775', 'tcp://127.0.0.1:40335')}\n"
     ]
    },
    {
     "name": "stderr",
     "output_type": "stream",
     "text": [
      "2023-03-25 12:03:19,592 - distributed.worker - ERROR - Exception during execution of task lambda-6f06a9eb9840ea08ef008d614f1721f3.\n",
      "Traceback (most recent call last):\n",
      "  File \"/opt/conda/lib/python3.10/site-packages/distributed/worker.py\", line 2390, in _prepare_args_for_execution\n",
      "    data[k] = self.data[k]\n",
      "  File \"/opt/conda/lib/python3.10/site-packages/distributed/spill.py\", line 245, in __getitem__\n",
      "    return super().__getitem__(key)\n",
      "  File \"/opt/conda/lib/python3.10/site-packages/zict/buffer.py\", line 108, in __getitem__\n",
      "    raise KeyError(key)\n",
      "KeyError: '_deploy_dask_func-83871d98-50ea-4708-9960-bd6930fa0da4'\n",
      "\n",
      "During handling of the above exception, another exception occurred:\n",
      "\n",
      "Traceback (most recent call last):\n",
      "  File \"/opt/conda/lib/python3.10/site-packages/distributed/worker.py\", line 2271, in execute\n",
      "    args2, kwargs2 = self._prepare_args_for_execution(ts, args, kwargs)\n",
      "  File \"/opt/conda/lib/python3.10/site-packages/distributed/worker.py\", line 2394, in _prepare_args_for_execution\n",
      "    data[k] = Actor(type(self.state.actors[k]), self.address, k, self)\n",
      "KeyError: '_deploy_dask_func-83871d98-50ea-4708-9960-bd6930fa0da4'\n"
     ]
    },
    {
     "name": "stderr",
     "output_type": "stream",
     "text": [
      "UserWarning: Distributing <class 'dict'> object. This may take some time.\n",
      "UserWarning: Group indices computation is not currently supported by PandasOnDask, defaulting to pandas implementation.\n"
     ]
    },
    {
     "name": "stderr",
     "output_type": "stream",
     "text": [
      "2023-03-25 12:03:24,772 - distributed.utils_perf - WARNING - full garbage collections took 13% CPU time recently (threshold: 10%)\n"
     ]
    },
    {
     "name": "stderr",
     "output_type": "stream",
     "text": [
      "UserWarning: Distributing <class 'dict'> object. This may take some time.\n",
      "UserWarning: Group indices computation is not currently supported by PandasOnDask, defaulting to pandas implementation.\n"
     ]
    },
    {
     "name": "stderr",
     "output_type": "stream",
     "text": [
      "2023-03-25 12:03:33,974 - distributed.utils_perf - WARNING - full garbage collections took 13% CPU time recently (threshold: 10%)\n"
     ]
    },
    {
     "name": "stderr",
     "output_type": "stream",
     "text": [
      "2023-03-25 12:03:35,218 - distributed.worker - ERROR - Exception during execution of task lambda-20c6131a1510bb44ff72d46baa545441.\n",
      "Traceback (most recent call last):\n",
      "  File \"/opt/conda/lib/python3.10/site-packages/distributed/worker.py\", line 2390, in _prepare_args_for_execution\n",
      "    data[k] = self.data[k]\n",
      "  File \"/opt/conda/lib/python3.10/site-packages/distributed/spill.py\", line 245, in __getitem__\n",
      "    return super().__getitem__(key)\n",
      "  File \"/opt/conda/lib/python3.10/site-packages/zict/buffer.py\", line 108, in __getitem__\n",
      "    raise KeyError(key)\n",
      "KeyError: '_deploy_dask_func-a585e444-b856-4935-b6d3-e208082a8c9d'\n",
      "\n",
      "During handling of the above exception, another exception occurred:\n",
      "\n",
      "Traceback (most recent call last):\n",
      "  File \"/opt/conda/lib/python3.10/site-packages/distributed/worker.py\", line 2271, in execute\n",
      "    args2, kwargs2 = self._prepare_args_for_execution(ts, args, kwargs)\n",
      "  File \"/opt/conda/lib/python3.10/site-packages/distributed/worker.py\", line 2394, in _prepare_args_for_execution\n",
      "    data[k] = Actor(type(self.state.actors[k]), self.address, k, self)\n",
      "KeyError: '_deploy_dask_func-a585e444-b856-4935-b6d3-e208082a8c9d'\n"
     ]
    },
    {
     "name": "stderr",
     "output_type": "stream",
     "text": [
      "2023-03-25 12:03:43,754 - distributed.utils_perf - WARNING - full garbage collections took 13% CPU time recently (threshold: 10%)\n"
     ]
    },
    {
     "name": "stderr",
     "output_type": "stream",
     "text": [
      "UserWarning: Distributing <class 'dict'> object. This may take some time.\n",
      "UserWarning: Group indices computation is not currently supported by PandasOnDask, defaulting to pandas implementation.\n"
     ]
    },
    {
     "name": "stderr",
     "output_type": "stream",
     "text": [
      "2023-03-25 12:03:46,774 - distributed.worker - ERROR - Exception during execution of task lambda-daf649e6c89d7efc5d5f16c771ca289f.\n",
      "Traceback (most recent call last):\n",
      "  File \"/opt/conda/lib/python3.10/site-packages/distributed/worker.py\", line 2390, in _prepare_args_for_execution\n",
      "    data[k] = self.data[k]\n",
      "  File \"/opt/conda/lib/python3.10/site-packages/distributed/spill.py\", line 245, in __getitem__\n",
      "    return super().__getitem__(key)\n",
      "  File \"/opt/conda/lib/python3.10/site-packages/zict/buffer.py\", line 108, in __getitem__\n",
      "    raise KeyError(key)\n",
      "KeyError: '_deploy_dask_func-95703cd8-3336-425a-a218-e13cce5c7e62'\n",
      "\n",
      "During handling of the above exception, another exception occurred:\n",
      "\n",
      "Traceback (most recent call last):\n",
      "  File \"/opt/conda/lib/python3.10/site-packages/distributed/worker.py\", line 2271, in execute\n",
      "    args2, kwargs2 = self._prepare_args_for_execution(ts, args, kwargs)\n",
      "  File \"/opt/conda/lib/python3.10/site-packages/distributed/worker.py\", line 2394, in _prepare_args_for_execution\n",
      "    data[k] = Actor(type(self.state.actors[k]), self.address, k, self)\n",
      "KeyError: '_deploy_dask_func-95703cd8-3336-425a-a218-e13cce5c7e62'\n"
     ]
    },
    {
     "name": "stderr",
     "output_type": "stream",
     "text": [
      "2023-03-25 12:03:52,989 - distributed.utils_perf - WARNING - full garbage collections took 14% CPU time recently (threshold: 10%)\n"
     ]
    },
    {
     "name": "stderr",
     "output_type": "stream",
     "text": [
      "UserWarning: Distributing <class 'dict'> object. This may take some time.\n",
      "UserWarning: Group indices computation is not currently supported by PandasOnDask, defaulting to pandas implementation.\n"
     ]
    },
    {
     "name": "stderr",
     "output_type": "stream",
     "text": [
      "2023-03-25 12:04:02,431 - distributed.utils_perf - WARNING - full garbage collections took 14% CPU time recently (threshold: 10%)\n"
     ]
    },
    {
     "name": "stderr",
     "output_type": "stream",
     "text": [
      "UserWarning: Distributing <class 'dict'> object. This may take some time.\n"
     ]
    },
    {
     "name": "stderr",
     "output_type": "stream",
     "text": [
      "UserWarning: Group indices computation is not currently supported by PandasOnDask, defaulting to pandas implementation.\n"
     ]
    },
    {
     "name": "stderr",
     "output_type": "stream",
     "text": [
      "2023-03-25 12:04:09,049 - distributed.worker - ERROR - Exception during execution of task lambda-8225f97022309896953f7cbc0f25a0b1.\n",
      "Traceback (most recent call last):\n",
      "  File \"/opt/conda/lib/python3.10/site-packages/distributed/worker.py\", line 2390, in _prepare_args_for_execution\n",
      "    data[k] = self.data[k]\n",
      "  File \"/opt/conda/lib/python3.10/site-packages/distributed/spill.py\", line 245, in __getitem__\n",
      "    return super().__getitem__(key)\n",
      "  File \"/opt/conda/lib/python3.10/site-packages/zict/buffer.py\", line 108, in __getitem__\n",
      "    raise KeyError(key)\n",
      "KeyError: '_deploy_dask_func-32eea39c-9911-4b51-b689-c38acc542c5a'\n",
      "\n",
      "During handling of the above exception, another exception occurred:\n",
      "\n",
      "Traceback (most recent call last):\n",
      "  File \"/opt/conda/lib/python3.10/site-packages/distributed/worker.py\", line 2271, in execute\n",
      "    args2, kwargs2 = self._prepare_args_for_execution(ts, args, kwargs)\n",
      "  File \"/opt/conda/lib/python3.10/site-packages/distributed/worker.py\", line 2394, in _prepare_args_for_execution\n",
      "    data[k] = Actor(type(self.state.actors[k]), self.address, k, self)\n",
      "KeyError: '_deploy_dask_func-32eea39c-9911-4b51-b689-c38acc542c5a'\n"
     ]
    },
    {
     "name": "stderr",
     "output_type": "stream",
     "text": [
      "2023-03-25 12:04:12,063 - distributed.utils_perf - WARNING - full garbage collections took 14% CPU time recently (threshold: 10%)\n"
     ]
    },
    {
     "name": "stderr",
     "output_type": "stream",
     "text": [
      "2023-03-25 12:04:14,000 - distributed.worker - ERROR - Exception during execution of task lambda-a9c57bfc3cb26bac9d244fe491e3bdc3.\n",
      "Traceback (most recent call last):\n",
      "  File \"/opt/conda/lib/python3.10/site-packages/distributed/worker.py\", line 2390, in _prepare_args_for_execution\n",
      "    data[k] = self.data[k]\n",
      "  File \"/opt/conda/lib/python3.10/site-packages/distributed/spill.py\", line 245, in __getitem__\n",
      "    return super().__getitem__(key)\n",
      "  File \"/opt/conda/lib/python3.10/site-packages/zict/buffer.py\", line 108, in __getitem__\n",
      "    raise KeyError(key)\n",
      "KeyError: '_deploy_dask_func-cbc732b4-dfea-4b3b-9ec3-4606ce66ee49'\n",
      "\n",
      "During handling of the above exception, another exception occurred:\n",
      "\n",
      "Traceback (most recent call last):\n",
      "  File \"/opt/conda/lib/python3.10/site-packages/distributed/worker.py\", line 2271, in execute\n",
      "    args2, kwargs2 = self._prepare_args_for_execution(ts, args, kwargs)\n",
      "  File \"/opt/conda/lib/python3.10/site-packages/distributed/worker.py\", line 2394, in _prepare_args_for_execution\n",
      "    data[k] = Actor(type(self.state.actors[k]), self.address, k, self)\n",
      "KeyError: '_deploy_dask_func-cbc732b4-dfea-4b3b-9ec3-4606ce66ee49'\n"
     ]
    },
    {
     "name": "stderr",
     "output_type": "stream",
     "text": [
      "2023-03-25 12:04:17,825 - distributed.worker - ERROR - Exception during execution of task lambda-55dfc41853bb866e35a9ccc210c0a74a.\n",
      "Traceback (most recent call last):\n",
      "  File \"/opt/conda/lib/python3.10/site-packages/distributed/worker.py\", line 2390, in _prepare_args_for_execution\n",
      "    data[k] = self.data[k]\n",
      "  File \"/opt/conda/lib/python3.10/site-packages/distributed/spill.py\", line 245, in __getitem__\n",
      "    return super().__getitem__(key)\n",
      "  File \"/opt/conda/lib/python3.10/site-packages/zict/buffer.py\", line 108, in __getitem__\n",
      "    raise KeyError(key)\n",
      "KeyError: '_deploy_dask_func-425f9bad-83cc-4cd7-8499-26777717aab1'\n",
      "\n",
      "During handling of the above exception, another exception occurred:\n",
      "\n",
      "Traceback (most recent call last):\n",
      "  File \"/opt/conda/lib/python3.10/site-packages/distributed/worker.py\", line 2271, in execute\n",
      "    args2, kwargs2 = self._prepare_args_for_execution(ts, args, kwargs)\n",
      "  File \"/opt/conda/lib/python3.10/site-packages/distributed/worker.py\", line 2394, in _prepare_args_for_execution\n",
      "    data[k] = Actor(type(self.state.actors[k]), self.address, k, self)\n",
      "KeyError: '_deploy_dask_func-425f9bad-83cc-4cd7-8499-26777717aab1'\n"
     ]
    },
    {
     "name": "stderr",
     "output_type": "stream",
     "text": [
      "UserWarning: Distributing <class 'dict'> object. This may take some time.\n",
      "UserWarning: Group indices computation is not currently supported by PandasOnDask, defaulting to pandas implementation.\n"
     ]
    },
    {
     "name": "stderr",
     "output_type": "stream",
     "text": [
      "2023-03-25 12:04:21,149 - distributed.utils_perf - WARNING - full garbage collections took 14% CPU time recently (threshold: 10%)\n"
     ]
    },
    {
     "name": "stderr",
     "output_type": "stream",
     "text": [
      "2023-03-25 12:04:29,705 - distributed.worker - ERROR - Exception during execution of task lambda-3fce4fc0e925bac386304d17e6c5a437.\n",
      "Traceback (most recent call last):\n",
      "  File \"/opt/conda/lib/python3.10/site-packages/distributed/worker.py\", line 2390, in _prepare_args_for_execution\n",
      "    data[k] = self.data[k]\n",
      "  File \"/opt/conda/lib/python3.10/site-packages/distributed/spill.py\", line 245, in __getitem__\n",
      "    return super().__getitem__(key)\n",
      "  File \"/opt/conda/lib/python3.10/site-packages/zict/buffer.py\", line 108, in __getitem__\n",
      "    raise KeyError(key)\n",
      "KeyError: '_deploy_dask_func-964825f9-82a0-4aa4-9bac-981a5c880f9c'\n",
      "\n",
      "During handling of the above exception, another exception occurred:\n",
      "\n",
      "Traceback (most recent call last):\n",
      "  File \"/opt/conda/lib/python3.10/site-packages/distributed/worker.py\", line 2271, in execute\n",
      "    args2, kwargs2 = self._prepare_args_for_execution(ts, args, kwargs)\n",
      "  File \"/opt/conda/lib/python3.10/site-packages/distributed/worker.py\", line 2394, in _prepare_args_for_execution\n",
      "    data[k] = Actor(type(self.state.actors[k]), self.address, k, self)\n",
      "KeyError: '_deploy_dask_func-964825f9-82a0-4aa4-9bac-981a5c880f9c'\n"
     ]
    },
    {
     "name": "stderr",
     "output_type": "stream",
     "text": [
      "2023-03-25 12:04:31,009 - distributed.utils_perf - WARNING - full garbage collections took 14% CPU time recently (threshold: 10%)\n"
     ]
    },
    {
     "name": "stderr",
     "output_type": "stream",
     "text": [
      "UserWarning: Distributing <class 'dict'> object. This may take some time.\n",
      "UserWarning: Group indices computation is not currently supported by PandasOnDask, defaulting to pandas implementation.\n"
     ]
    },
    {
     "name": "stderr",
     "output_type": "stream",
     "text": [
      "2023-03-25 12:04:34,497 - distributed.worker - ERROR - Exception during execution of task lambda-a0c68f1e2ad57dff7640f857796f1621.\n",
      "Traceback (most recent call last):\n",
      "  File \"/opt/conda/lib/python3.10/site-packages/distributed/worker.py\", line 2390, in _prepare_args_for_execution\n",
      "    data[k] = self.data[k]\n",
      "  File \"/opt/conda/lib/python3.10/site-packages/distributed/spill.py\", line 245, in __getitem__\n",
      "    return super().__getitem__(key)\n",
      "  File \"/opt/conda/lib/python3.10/site-packages/zict/buffer.py\", line 108, in __getitem__\n",
      "    raise KeyError(key)\n",
      "KeyError: '_deploy_dask_func-ae5ac16a-41c2-46ab-8e8b-b29f5f7d6ae6'\n",
      "\n",
      "During handling of the above exception, another exception occurred:\n",
      "\n",
      "Traceback (most recent call last):\n",
      "  File \"/opt/conda/lib/python3.10/site-packages/distributed/worker.py\", line 2271, in execute\n",
      "    args2, kwargs2 = self._prepare_args_for_execution(ts, args, kwargs)\n",
      "  File \"/opt/conda/lib/python3.10/site-packages/distributed/worker.py\", line 2394, in _prepare_args_for_execution\n",
      "    data[k] = Actor(type(self.state.actors[k]), self.address, k, self)\n",
      "KeyError: '_deploy_dask_func-ae5ac16a-41c2-46ab-8e8b-b29f5f7d6ae6'\n"
     ]
    },
    {
     "name": "stderr",
     "output_type": "stream",
     "text": [
      "2023-03-25 12:04:38,592 - distributed.worker - ERROR - Exception during execution of task lambda-75df62f573cc8fce6d15e49441ba651f.\n",
      "Traceback (most recent call last):\n",
      "  File \"/opt/conda/lib/python3.10/site-packages/distributed/worker.py\", line 2390, in _prepare_args_for_execution\n",
      "    data[k] = self.data[k]\n",
      "  File \"/opt/conda/lib/python3.10/site-packages/distributed/spill.py\", line 245, in __getitem__\n",
      "    return super().__getitem__(key)\n",
      "  File \"/opt/conda/lib/python3.10/site-packages/zict/buffer.py\", line 108, in __getitem__\n",
      "    raise KeyError(key)\n",
      "KeyError: '_deploy_dask_func-6bea4337-6e3d-48a5-a99f-920e0e379b75'\n",
      "\n",
      "During handling of the above exception, another exception occurred:\n",
      "\n",
      "Traceback (most recent call last):\n",
      "  File \"/opt/conda/lib/python3.10/site-packages/distributed/worker.py\", line 2271, in execute\n",
      "    args2, kwargs2 = self._prepare_args_for_execution(ts, args, kwargs)\n",
      "  File \"/opt/conda/lib/python3.10/site-packages/distributed/worker.py\", line 2394, in _prepare_args_for_execution\n",
      "    data[k] = Actor(type(self.state.actors[k]), self.address, k, self)\n",
      "KeyError: '_deploy_dask_func-6bea4337-6e3d-48a5-a99f-920e0e379b75'\n"
     ]
    },
    {
     "name": "stderr",
     "output_type": "stream",
     "text": [
      "2023-03-25 12:04:40,924 - distributed.utils_perf - WARNING - full garbage collections took 14% CPU time recently (threshold: 10%)\n"
     ]
    },
    {
     "name": "stderr",
     "output_type": "stream",
     "text": [
      "UserWarning: Distributing <class 'dict'> object. This may take some time.\n",
      "UserWarning: Group indices computation is not currently supported by PandasOnDask, defaulting to pandas implementation.\n"
     ]
    },
    {
     "name": "stderr",
     "output_type": "stream",
     "text": [
      "2023-03-25 12:04:50,678 - distributed.utils_perf - WARNING - full garbage collections took 14% CPU time recently (threshold: 10%)\n"
     ]
    },
    {
     "name": "stderr",
     "output_type": "stream",
     "text": [
      "2023-03-25 12:04:51,350 - distributed.worker - ERROR - Exception during execution of task lambda-b750c78c01ac9c4fc5b38524e8c0dd02.\n",
      "Traceback (most recent call last):\n",
      "  File \"/opt/conda/lib/python3.10/site-packages/distributed/worker.py\", line 2390, in _prepare_args_for_execution\n",
      "    data[k] = self.data[k]\n",
      "  File \"/opt/conda/lib/python3.10/site-packages/distributed/spill.py\", line 245, in __getitem__\n",
      "    return super().__getitem__(key)\n",
      "  File \"/opt/conda/lib/python3.10/site-packages/zict/buffer.py\", line 108, in __getitem__\n",
      "    raise KeyError(key)\n",
      "KeyError: '_deploy_dask_func-539f6a7d-affe-42bb-9e4c-20f05cf8ac79'\n",
      "\n",
      "During handling of the above exception, another exception occurred:\n",
      "\n",
      "Traceback (most recent call last):\n",
      "  File \"/opt/conda/lib/python3.10/site-packages/distributed/worker.py\", line 2271, in execute\n",
      "    args2, kwargs2 = self._prepare_args_for_execution(ts, args, kwargs)\n",
      "  File \"/opt/conda/lib/python3.10/site-packages/distributed/worker.py\", line 2394, in _prepare_args_for_execution\n",
      "    data[k] = Actor(type(self.state.actors[k]), self.address, k, self)\n",
      "KeyError: '_deploy_dask_func-539f6a7d-affe-42bb-9e4c-20f05cf8ac79'\n"
     ]
    },
    {
     "name": "stderr",
     "output_type": "stream",
     "text": [
      "RuntimeWarning: divide by zero encountered in log\n",
      "UserWarning: Distributing <class 'dict'> object. This may take some time.\n",
      "UserWarning: Group indices computation is not currently supported by PandasOnDask, defaulting to pandas implementation.\n"
     ]
    },
    {
     "name": "stderr",
     "output_type": "stream",
     "text": [
      "2023-03-25 12:05:00,416 - distributed.utils_perf - WARNING - full garbage collections took 14% CPU time recently (threshold: 10%)\n"
     ]
    },
    {
     "name": "stderr",
     "output_type": "stream",
     "text": [
      "2023-03-25 12:05:07,354 - distributed.worker - ERROR - Exception during execution of task lambda-b67f4d6b13d8c5e7722a4606754ac8bf.\n",
      "Traceback (most recent call last):\n",
      "  File \"/opt/conda/lib/python3.10/site-packages/distributed/worker.py\", line 2390, in _prepare_args_for_execution\n",
      "    data[k] = self.data[k]\n",
      "  File \"/opt/conda/lib/python3.10/site-packages/distributed/spill.py\", line 245, in __getitem__\n",
      "    return super().__getitem__(key)\n",
      "  File \"/opt/conda/lib/python3.10/site-packages/zict/buffer.py\", line 108, in __getitem__\n",
      "    raise KeyError(key)\n",
      "KeyError: '_deploy_dask_func-3aa5a00a-d19a-47c0-b3ac-4492e8a4d753'\n",
      "\n",
      "During handling of the above exception, another exception occurred:\n",
      "\n",
      "Traceback (most recent call last):\n",
      "  File \"/opt/conda/lib/python3.10/site-packages/distributed/worker.py\", line 2271, in execute\n",
      "    args2, kwargs2 = self._prepare_args_for_execution(ts, args, kwargs)\n",
      "  File \"/opt/conda/lib/python3.10/site-packages/distributed/worker.py\", line 2394, in _prepare_args_for_execution\n",
      "    data[k] = Actor(type(self.state.actors[k]), self.address, k, self)\n",
      "KeyError: '_deploy_dask_func-3aa5a00a-d19a-47c0-b3ac-4492e8a4d753'\n"
     ]
    },
    {
     "name": "stderr",
     "output_type": "stream",
     "text": [
      "2023-03-25 12:05:09,968 - distributed.utils_perf - WARNING - full garbage collections took 14% CPU time recently (threshold: 10%)\n"
     ]
    },
    {
     "name": "stderr",
     "output_type": "stream",
     "text": [
      "UserWarning: Distributing <class 'dict'> object. This may take some time.\n",
      "UserWarning: Group indices computation is not currently supported by PandasOnDask, defaulting to pandas implementation.\n"
     ]
    },
    {
     "name": "stderr",
     "output_type": "stream",
     "text": [
      "2023-03-25 12:05:20,020 - distributed.utils_perf - WARNING - full garbage collections took 14% CPU time recently (threshold: 10%)\n"
     ]
    },
    {
     "name": "stderr",
     "output_type": "stream",
     "text": [
      "UserWarning: Distributing <class 'dict'> object. This may take some time.\n"
     ]
    },
    {
     "name": "stderr",
     "output_type": "stream",
     "text": [
      "UserWarning: Group indices computation is not currently supported by PandasOnDask, defaulting to pandas implementation.\n"
     ]
    },
    {
     "name": "stderr",
     "output_type": "stream",
     "text": [
      "2023-03-25 12:05:22,157 - distributed.worker - ERROR - Exception during execution of task lambda-676b3f05d4f917aa64de006d4a910bc8.\n",
      "Traceback (most recent call last):\n",
      "  File \"/opt/conda/lib/python3.10/site-packages/distributed/worker.py\", line 2390, in _prepare_args_for_execution\n",
      "    data[k] = self.data[k]\n",
      "  File \"/opt/conda/lib/python3.10/site-packages/distributed/spill.py\", line 245, in __getitem__\n",
      "    return super().__getitem__(key)\n",
      "  File \"/opt/conda/lib/python3.10/site-packages/zict/buffer.py\", line 108, in __getitem__\n",
      "    raise KeyError(key)\n",
      "KeyError: '_deploy_dask_func-dd1f74a7-889d-4542-a90d-6f6cb6490080'\n",
      "\n",
      "During handling of the above exception, another exception occurred:\n",
      "\n",
      "Traceback (most recent call last):\n",
      "  File \"/opt/conda/lib/python3.10/site-packages/distributed/worker.py\", line 2271, in execute\n",
      "    args2, kwargs2 = self._prepare_args_for_execution(ts, args, kwargs)\n",
      "  File \"/opt/conda/lib/python3.10/site-packages/distributed/worker.py\", line 2394, in _prepare_args_for_execution\n",
      "    data[k] = Actor(type(self.state.actors[k]), self.address, k, self)\n",
      "KeyError: '_deploy_dask_func-dd1f74a7-889d-4542-a90d-6f6cb6490080'\n"
     ]
    },
    {
     "name": "stderr",
     "output_type": "stream",
     "text": [
      "2023-03-25 12:05:30,137 - distributed.utils_perf - WARNING - full garbage collections took 14% CPU time recently (threshold: 10%)\n"
     ]
    },
    {
     "name": "stderr",
     "output_type": "stream",
     "text": [
      "UserWarning: Distributing <class 'dict'> object. This may take some time.\n",
      "UserWarning: Group indices computation is not currently supported by PandasOnDask, defaulting to pandas implementation.\n"
     ]
    },
    {
     "name": "stderr",
     "output_type": "stream",
     "text": [
      "2023-03-25 12:05:40,494 - distributed.utils_perf - WARNING - full garbage collections took 13% CPU time recently (threshold: 10%)\n"
     ]
    },
    {
     "name": "stderr",
     "output_type": "stream",
     "text": [
      "RuntimeWarning: divide by zero encountered in log\n",
      "UserWarning: Distributing <class 'dict'> object. This may take some time.\n",
      "UserWarning: Group indices computation is not currently supported by PandasOnDask, defaulting to pandas implementation.\n"
     ]
    },
    {
     "name": "stderr",
     "output_type": "stream",
     "text": [
      "2023-03-25 12:05:51,094 - distributed.utils_perf - WARNING - full garbage collections took 13% CPU time recently (threshold: 10%)\n"
     ]
    },
    {
     "name": "stderr",
     "output_type": "stream",
     "text": [
      "2023-03-25 12:05:56,367 - distributed.worker - ERROR - Exception during execution of task lambda-2541811f6120aba713c74a849aa39879.\n",
      "Traceback (most recent call last):\n",
      "  File \"/opt/conda/lib/python3.10/site-packages/distributed/worker.py\", line 2390, in _prepare_args_for_execution\n",
      "    data[k] = self.data[k]\n",
      "  File \"/opt/conda/lib/python3.10/site-packages/distributed/spill.py\", line 245, in __getitem__\n",
      "    return super().__getitem__(key)\n",
      "  File \"/opt/conda/lib/python3.10/site-packages/zict/buffer.py\", line 108, in __getitem__\n",
      "    raise KeyError(key)\n",
      "KeyError: '_deploy_dask_func-df93873f-ccb9-4f18-96ea-15eefcf6cd99'\n",
      "\n",
      "During handling of the above exception, another exception occurred:\n",
      "\n",
      "Traceback (most recent call last):\n",
      "  File \"/opt/conda/lib/python3.10/site-packages/distributed/worker.py\", line 2271, in execute\n",
      "    args2, kwargs2 = self._prepare_args_for_execution(ts, args, kwargs)\n",
      "  File \"/opt/conda/lib/python3.10/site-packages/distributed/worker.py\", line 2394, in _prepare_args_for_execution\n",
      "    data[k] = Actor(type(self.state.actors[k]), self.address, k, self)\n",
      "KeyError: '_deploy_dask_func-df93873f-ccb9-4f18-96ea-15eefcf6cd99'\n"
     ]
    },
    {
     "name": "stderr",
     "output_type": "stream",
     "text": [
      "UserWarning: Distributing <class 'dict'> object. This may take some time.\n",
      "UserWarning: Group indices computation is not currently supported by PandasOnDask, defaulting to pandas implementation.\n"
     ]
    },
    {
     "name": "stderr",
     "output_type": "stream",
     "text": [
      "2023-03-25 12:06:01,247 - distributed.utils_perf - WARNING - full garbage collections took 13% CPU time recently (threshold: 10%)\n"
     ]
    },
    {
     "name": "stderr",
     "output_type": "stream",
     "text": [
      "2023-03-25 12:06:08,202 - distributed.worker - ERROR - Exception during execution of task lambda-2fcee232d7743ed82bf1793f4542cf6b.\n",
      "Traceback (most recent call last):\n",
      "  File \"/opt/conda/lib/python3.10/site-packages/distributed/worker.py\", line 2390, in _prepare_args_for_execution\n",
      "    data[k] = self.data[k]\n",
      "  File \"/opt/conda/lib/python3.10/site-packages/distributed/spill.py\", line 245, in __getitem__\n",
      "    return super().__getitem__(key)\n",
      "  File \"/opt/conda/lib/python3.10/site-packages/zict/buffer.py\", line 108, in __getitem__\n",
      "    raise KeyError(key)\n",
      "KeyError: '_deploy_dask_func-87ac44a5-b602-4acb-8baf-dcc739e65497'\n",
      "\n",
      "During handling of the above exception, another exception occurred:\n",
      "\n",
      "Traceback (most recent call last):\n",
      "  File \"/opt/conda/lib/python3.10/site-packages/distributed/worker.py\", line 2271, in execute\n",
      "    args2, kwargs2 = self._prepare_args_for_execution(ts, args, kwargs)\n",
      "  File \"/opt/conda/lib/python3.10/site-packages/distributed/worker.py\", line 2394, in _prepare_args_for_execution\n",
      "    data[k] = Actor(type(self.state.actors[k]), self.address, k, self)\n",
      "KeyError: '_deploy_dask_func-87ac44a5-b602-4acb-8baf-dcc739e65497'\n"
     ]
    },
    {
     "name": "stderr",
     "output_type": "stream",
     "text": [
      "2023-03-25 12:06:10,435 - distributed.worker - ERROR - Exception during execution of task lambda-d8fb3127e6828f81c728290879961392.\n",
      "Traceback (most recent call last):\n",
      "  File \"/opt/conda/lib/python3.10/site-packages/distributed/worker.py\", line 2390, in _prepare_args_for_execution\n",
      "    data[k] = self.data[k]\n",
      "  File \"/opt/conda/lib/python3.10/site-packages/distributed/spill.py\", line 245, in __getitem__\n",
      "    return super().__getitem__(key)\n",
      "  File \"/opt/conda/lib/python3.10/site-packages/zict/buffer.py\", line 108, in __getitem__\n",
      "    raise KeyError(key)\n",
      "KeyError: 'apply_func-0509d077-012a-4095-88c7-6f77458cc0a9'\n",
      "\n",
      "During handling of the above exception, another exception occurred:\n",
      "\n",
      "Traceback (most recent call last):\n",
      "  File \"/opt/conda/lib/python3.10/site-packages/distributed/worker.py\", line 2271, in execute\n",
      "    args2, kwargs2 = self._prepare_args_for_execution(ts, args, kwargs)\n",
      "  File \"/opt/conda/lib/python3.10/site-packages/distributed/worker.py\", line 2394, in _prepare_args_for_execution\n",
      "  UserWarning: Distributing <class 'dict'> object. This may take some time.\n",
      "  data[k] = Actor(type(self.state.actors[k]), self.address, k, self)\n",
      "KeyError: 'apply_func-0509d077-012a-4095-88c7-6f77458cc0a9'\n"
     ]
    },
    {
     "name": "stderr",
     "output_type": "stream",
     "text": [
      "2023-03-25 12:06:11,531 - distributed.utils_perf - WARNING - full garbage collections took 13% CPU time recently (threshold: 10%)\n"
     ]
    }
   ],
   "source": [
    "f = '3min'\n",
    "\n",
    "for sensitivity, value in data.items():\n",
    "    print(sensitivity)\n",
    "\n",
    "    df_pred = value[\"df\"]\n",
    "    local_df = df_pred[df_pred[\"ipaddr SRC_IP\"].str.startswith(\"192.168\")].copy()\n",
    "    local_df[\"time TIME_FIRST\"] = local_df[\"time TIME_FIRST\"].apply(dateutil.parser.parse)\n",
    "    \n",
    "    calc_ips = {}\n",
    "\n",
    "    a1_t = local_df.set_index([\"time TIME_FIRST\"])\n",
    "\n",
    "    df_resample = a1_t.groupby(pd.Grouper(freq=f, origin=min_ts)).first()\n",
    "    times = df_resample.index.tolist()\n",
    "    ranges = list(zip(times, times[1:]))\n",
    "\n",
    "    df_calcs = []\n",
    "    for ran in ranges:\n",
    "        df_ran = a1_t[(a1_t.index > ran[0]) & (a1_t.index < ran[1])]\n",
    "        df_calc = calc(df_ran)\n",
    "        df_calc[\"ts\"] = ran[0]\n",
    "        df_calcs.append(df_calc)\n",
    "\n",
    "    value[\"df_calc\"] = pd.concat(df_calcs).reset_index(drop=True)"
   ]
  },
  {
   "cell_type": "code",
   "execution_count": 23,
   "id": "50c68198-fc75-46b2-9f22-e171cdb2ad55",
   "metadata": {
    "execution": {
     "iopub.execute_input": "2023-03-25T12:06:12.044331Z",
     "iopub.status.busy": "2023-03-25T12:06:12.044096Z",
     "iopub.status.idle": "2023-03-25T12:06:33.329203Z",
     "shell.execute_reply": "2023-03-25T12:06:33.328248Z"
    },
    "papermill": {
     "duration": 21.314513,
     "end_time": "2023-03-25T12:06:33.333087",
     "exception": false,
     "start_time": "2023-03-25T12:06:12.018574",
     "status": "completed"
    },
    "tags": []
   },
   "outputs": [
    {
     "name": "stdout",
     "output_type": "stream",
     "text": [
      "0.8\n"
     ]
    },
    {
     "name": "stderr",
     "output_type": "stream",
     "text": [
      "2023-03-25 12:06:17,694 - distributed.worker - ERROR - Exception during execution of task lambda-53e17fb6ad50758848c1e643b6936a8a.\n",
      "Traceback (most recent call last):\n",
      "  File \"/opt/conda/lib/python3.10/site-packages/distributed/worker.py\", line 2390, in _prepare_args_for_execution\n",
      "    data[k] = self.data[k]\n",
      "  File \"/opt/conda/lib/python3.10/site-packages/distributed/spill.py\", line 245, in __getitem__\n",
      "    return super().__getitem__(key)\n",
      "  File \"/opt/conda/lib/python3.10/site-packages/zict/buffer.py\", line 108, in __getitem__\n",
      "    raise KeyError(key)\n",
      "KeyError: 'apply_list_of_funcs-839f8d6e-8a30-4567-8778-0aefd06413f4'\n",
      "\n",
      "During handling of the above exception, another exception occurred:\n",
      "\n",
      "Traceback (most recent call last):\n",
      "  File \"/opt/conda/lib/python3.10/site-packages/distributed/worker.py\", line 2271, in execute\n",
      "    args2, kwargs2 = self._prepare_args_for_execution(ts, args, kwargs)\n",
      "  File \"/opt/conda/lib/python3.10/site-packages/distributed/worker.py\", line 2394, in _prepare_args_for_execution\n",
      "    data[k] = Actor(type(self.state.actors[k]), self.address, k, self)\n",
      "KeyError: 'apply_list_of_funcs-839f8d6e-8a30-4567-8778-0aefd06413f4'\n",
      "2023-03-25 12:06:17,771 - distributed.worker - ERROR - Exception during execution of task lambda-9752a4270bf0f1329848386c4576c5ed.\n",
      "Traceback (most recent call last):\n",
      "  File \"/opt/conda/lib/python3.10/site-packages/distributed/worker.py\", line 2390, in _prepare_args_for_execution\n",
      "    data[k] = self.data[k]\n",
      "  File \"/opt/conda/lib/python3.10/site-packages/distributed/spill.py\", line 245, in __getitem__\n",
      "    return super().__getitem__(key)\n",
      "  File \"/opt/conda/lib/python3.10/site-packages/zict/buffer.py\", line 108, in __getitem__\n",
      "    raise KeyError(key)\n",
      "KeyError: 'apply_list_of_funcs-54716590-fd78-4d99-860e-54e3f8996939'\n",
      "\n",
      "During handling of the above exception, another exception occurred:\n",
      "\n",
      "Traceback (most recent call last):\n",
      "  File \"/opt/conda/lib/python3.10/site-packages/distributed/worker.py\", line 2271, in execute\n",
      "    args2, kwargs2 = self._prepare_args_for_execution(ts, args, kwargs)\n",
      "  File \"/opt/conda/lib/python3.10/site-packages/distributed/worker.py\", line 2394, in _prepare_args_for_execution\n",
      "    data[k] = Actor(type(self.state.actors[k]), self.address, k, self)\n",
      "KeyError: 'apply_list_of_funcs-54716590-fd78-4d99-860e-54e3f8996939'\n"
     ]
    },
    {
     "data": {
      "image/png": "[encoded data removed]",
      "text/plain": [
       "<Figure size 1200x400 with 1 Axes>"
      ]
     },
     "metadata": {},
     "output_type": "display_data"
    },
    {
     "name": "stdout",
     "output_type": "stream",
     "text": [
      "0.9\n"
     ]
    },
    {
     "name": "stderr",
     "output_type": "stream",
     "text": [
      "2023-03-25 12:06:24,030 - distributed.worker - ERROR - Exception during execution of task lambda-d87ce151c0bc2ca082be30186a8e5006.\n",
      "Traceback (most recent call last):\n",
      "  File \"/opt/conda/lib/python3.10/site-packages/distributed/worker.py\", line 2390, in _prepare_args_for_execution\n",
      "    data[k] = self.data[k]\n",
      "  File \"/opt/conda/lib/python3.10/site-packages/distributed/spill.py\", line 245, in __getitem__\n",
      "    return super().__getitem__(key)\n",
      "  File \"/opt/conda/lib/python3.10/site-packages/zict/buffer.py\", line 108, in __getitem__\n",
      "    raise KeyError(key)\n",
      "KeyError: 'apply_list_of_funcs-d54bd9b8-7a01-4482-be0f-a2b15bfffb9f'\n",
      "\n",
      "During handling of the above exception, another exception occurred:\n",
      "\n",
      "Traceback (most recent call last):\n",
      "  File \"/opt/conda/lib/python3.10/site-packages/distributed/worker.py\", line 2271, in execute\n",
      "    args2, kwargs2 = self._prepare_args_for_execution(ts, args, kwargs)\n",
      "  File \"/opt/conda/lib/python3.10/site-packages/distributed/worker.py\", line 2394, in _prepare_args_for_execution\n",
      "    data[k] = Actor(type(self.state.actors[k]), self.address, k, self)\n",
      "KeyError: 'apply_list_of_funcs-d54bd9b8-7a01-4482-be0f-a2b15bfffb9f'\n",
      "2023-03-25 12:06:24,171 - distributed.worker - ERROR - Exception during execution of task lambda-534828133f0fa02dc6e2f8be7de51224.\n",
      "Traceback (most recent call last):\n",
      "  File \"/opt/conda/lib/python3.10/site-packages/distributed/worker.py\", line 2390, in _prepare_args_for_execution\n",
      "    data[k] = self.data[k]\n",
      "  File \"/opt/conda/lib/python3.10/site-packages/distributed/spill.py\", line 245, in __getitem__\n",
      "    return super().__getitem__(key)\n",
      "  File \"/opt/conda/lib/python3.10/site-packages/zict/buffer.py\", line 108, in __getitem__\n",
      "    raise KeyError(key)\n",
      "KeyError: 'apply_list_of_funcs-85d2cd70-f3ec-4c30-bfb4-61600d6c7298'\n",
      "\n",
      "During handling of the above exception, another exception occurred:\n",
      "\n",
      "Traceback (most recent call last):\n",
      "  File \"/opt/conda/lib/python3.10/site-packages/distributed/worker.py\", line 2271, in execute\n",
      "    args2, kwargs2 = self._prepare_args_for_execution(ts, args, kwargs)\n",
      "  File \"/opt/conda/lib/python3.10/site-packages/distributed/worker.py\", line 2394, in _prepare_args_for_execution\n",
      "    data[k] = Actor(type(self.state.actors[k]), self.address, k, self)\n",
      "KeyError: 'apply_list_of_funcs-85d2cd70-f3ec-4c30-bfb4-61600d6c7298'\n"
     ]
    },
    {
     "name": "stderr",
     "output_type": "stream",
     "text": [
      "2023-03-25 12:06:25,986 - distributed.worker - ERROR - Exception during execution of task lambda-0f5e0414dcf4bb2ac8fc94987f4fddc1.\n",
      "Traceback (most recent call last):\n",
      "  File \"/opt/conda/lib/python3.10/site-packages/distributed/worker.py\", line 2390, in _prepare_args_for_execution\n",
      "    data[k] = self.data[k]\n",
      "  File \"/opt/conda/lib/python3.10/site-packages/distributed/spill.py\", line 245, in __getitem__\n",
      "    return super().__getitem__(key)\n",
      "  File \"/opt/conda/lib/python3.10/site-packages/zict/buffer.py\", line 108, in __getitem__\n",
      "    raise KeyError(key)\n",
      "KeyError: 'apply_list_of_funcs-2197f878-23a0-47a3-af43-412746ea0a9d'\n",
      "\n",
      "During handling of the above exception, another exception occurred:\n",
      "\n",
      "Traceback (most recent call last):\n",
      "  File \"/opt/conda/lib/python3.10/site-packages/distributed/worker.py\", line 2271, in execute\n",
      "    args2, kwargs2 = self._prepare_args_for_execution(ts, args, kwargs)\n",
      "  File \"/opt/conda/lib/python3.10/site-packages/distributed/worker.py\", line 2394, in _prepare_args_for_execution\n",
      "    data[k] = Actor(type(self.state.actors[k]), self.address, k, self)\n",
      "KeyError: 'apply_list_of_funcs-2197f878-23a0-47a3-af43-412746ea0a9d'\n"
     ]
    },
    {
     "name": "stderr",
     "output_type": "stream",
     "text": [
      "2023-03-25 12:06:27,514 - distributed.utils_perf - WARNING - full garbage collections took 13% CPU time recently (threshold: 10%)\n"
     ]
    },
    {
     "name": "stderr",
     "output_type": "stream",
     "text": [
      "2023-03-25 12:06:28,760 - distributed.worker - ERROR - Exception during execution of task lambda-5593e5786eb4c646f190abc3b3310f16.\n",
      "Traceback (most recent call last):\n",
      "  File \"/opt/conda/lib/python3.10/site-packages/distributed/worker.py\", line 2390, in _prepare_args_for_execution\n",
      "    data[k] = self.data[k]\n",
      "  File \"/opt/conda/lib/python3.10/site-packages/distributed/spill.py\", line 245, in __getitem__\n",
      "    return super().__getitem__(key)\n",
      "  File \"/opt/conda/lib/python3.10/site-packages/zict/buffer.py\", line 108, in __getitem__\n",
      "    raise KeyError(key)\n",
      "KeyError: 'apply_list_of_funcs-09dfb492-cd4a-4edf-9d35-907ea956925e'\n",
      "\n",
      "During handling of the above exception, another exception occurred:\n",
      "\n",
      "Traceback (most recent call last):\n",
      "  File \"/opt/conda/lib/python3.10/site-packages/distributed/worker.py\", line 2271, in execute\n",
      "    args2, kwargs2 = self._prepare_args_for_execution(ts, args, kwargs)\n",
      "  File \"/opt/conda/lib/python3.10/site-packages/distributed/worker.py\", line 2394, in _prepare_args_for_execution\n",
      "    data[k] = Actor(type(self.state.actors[k]), self.address, k, self)\n",
      "KeyError: 'apply_list_of_funcs-09dfb492-cd4a-4edf-9d35-907ea956925e'\n",
      "2023-03-25 12:06:28,824 - distributed.worker - ERROR - Exception during execution of task lambda-13113f5ceb1937a8140a48af6556543c.\n",
      "Traceback (most recent call last):\n",
      "  File \"/opt/conda/lib/python3.10/site-packages/distributed/worker.py\", line 2390, in _prepare_args_for_execution\n",
      "    data[k] = self.data[k]\n",
      "  File \"/opt/conda/lib/python3.10/site-packages/distributed/spill.py\", line 245, in __getitem__\n",
      "    return super().__getitem__(key)\n",
      "  File \"/opt/conda/lib/python3.10/site-packages/zict/buffer.py\", line 108, in __getitem__\n",
      "    raise KeyError(key)\n",
      "KeyError: 'apply_list_of_funcs-1f6c7d3f-5451-45e2-bece-b6fb16663595'\n",
      "\n",
      "During handling of the above exception, another exception occurred:\n",
      "\n",
      "Traceback (most recent call last):\n",
      "  File \"/opt/conda/lib/python3.10/site-packages/distributed/worker.py\", line 2271, in execute\n",
      "    args2, kwargs2 = self._prepare_args_for_execution(ts, args, kwargs)\n",
      "  File \"/opt/conda/lib/python3.10/site-packages/distributed/worker.py\", line 2394, in _prepare_args_for_execution\n",
      "    data[k] = Actor(type(self.state.actors[k]), self.address, k, self)\n",
      "KeyError: 'apply_list_of_funcs-1f6c7d3f-5451-45e2-bece-b6fb16663595'\n",
      "2023-03-25 12:06:28,878 - distributed.worker - ERROR - Exception during execution of task lambda-aebed9d86add2adf95347c8a13e75d1a.\n",
      "Traceback (most recent call last):\n",
      "  File \"/opt/conda/lib/python3.10/site-packages/distributed/worker.py\", line 2390, in _prepare_args_for_execution\n",
      "    data[k] = self.data[k]\n",
      "  File \"/opt/conda/lib/python3.10/site-packages/distributed/spill.py\", line 245, in __getitem__\n",
      "    return super().__getitem__(key)\n",
      "  File \"/opt/conda/lib/python3.10/site-packages/zict/buffer.py\", line 108, in __getitem__\n",
      "    raise KeyError(key)\n",
      "KeyError: 'apply_list_of_funcs-9fd1df65-0eb0-46ac-b2f7-2b44417ec4f6'\n",
      "\n",
      "During handling of the above exception, another exception occurred:\n",
      "\n",
      "Traceback (most recent call last):\n",
      "  File \"/opt/conda/lib/python3.10/site-packages/distributed/worker.py\", line 2271, in execute\n",
      "    args2, kwargs2 = self._prepare_args_for_execution(ts, args, kwargs)\n",
      "  File \"/opt/conda/lib/python3.10/site-packages/distributed/worker.py\", line 2394, in _prepare_args_for_execution\n",
      "    data[k] = Actor(type(self.state.actors[k]), self.address, k, self)\n",
      "KeyError: 'apply_list_of_funcs-9fd1df65-0eb0-46ac-b2f7-2b44417ec4f6'\n"
     ]
    },
    {
     "name": "stderr",
     "output_type": "stream",
     "text": [
      "2023-03-25 12:06:29,433 - distributed.worker - ERROR - Exception during execution of task lambda-fd62ea0cd3cba82b8f3bf070cb0f49c6.\n",
      "Traceback (most recent call last):\n",
      "  File \"/opt/conda/lib/python3.10/site-packages/distributed/worker.py\", line 2390, in _prepare_args_for_execution\n",
      "    data[k] = self.data[k]\n",
      "  File \"/opt/conda/lib/python3.10/site-packages/distributed/spill.py\", line 245, in __getitem__\n",
      "    return super().__getitem__(key)\n",
      "  File \"/opt/conda/lib/python3.10/site-packages/zict/buffer.py\", line 108, in __getitem__\n",
      "    raise KeyError(key)\n",
      "KeyError: 'apply_list_of_funcs-a271b931-5207-4450-8fb0-083ed4c41c14'\n",
      "\n",
      "During handling of the above exception, another exception occurred:\n",
      "\n",
      "Traceback (most recent call last):\n",
      "  File \"/opt/conda/lib/python3.10/site-packages/distributed/worker.py\", line 2271, in execute\n",
      "    args2, kwargs2 = self._prepare_args_for_execution(ts, args, kwargs)\n",
      "  File \"/opt/conda/lib/python3.10/site-packages/distributed/worker.py\", line 2394, in _prepare_args_for_execution\n",
      "    data[k] = Actor(type(self.state.actors[k]), self.address, k, self)\n",
      "KeyError: 'apply_list_of_funcs-a271b931-5207-4450-8fb0-083ed4c41c14'\n"
     ]
    },
    {
     "name": "stderr",
     "output_type": "stream",
     "text": [
      "2023-03-25 12:06:30,703 - distributed.worker - ERROR - Exception during execution of task lambda-ccfe92bc4d36c3150a1010fcd217b49e.\n",
      "Traceback (most recent call last):\n",
      "  File \"/opt/conda/lib/python3.10/site-packages/distributed/worker.py\", line 2390, in _prepare_args_for_execution\n",
      "    data[k] = self.data[k]\n",
      "  File \"/opt/conda/lib/python3.10/site-packages/distributed/spill.py\", line 245, in __getitem__\n",
      "    return super().__getitem__(key)\n",
      "  File \"/opt/conda/lib/python3.10/site-packages/zict/buffer.py\", line 108, in __getitem__\n",
      "    raise KeyError(key)\n",
      "KeyError: 'apply_list_of_funcs-b28846f5-ca9e-4b24-b685-29efe1a9327c'\n",
      "\n",
      "During handling of the above exception, another exception occurred:\n",
      "\n",
      "Traceback (most recent call last):\n",
      "  File \"/opt/conda/lib/python3.10/site-packages/distributed/worker.py\", line 2271, in execute\n",
      "    args2, kwargs2 = self._prepare_args_for_execution(ts, args, kwargs)\n",
      "  File \"/opt/conda/lib/python3.10/site-packages/distributed/worker.py\", line 2394, in _prepare_args_for_execution\n",
      "    data[k] = Actor(type(self.state.actors[k]), self.address, k, self)\n",
      "KeyError: 'apply_list_of_funcs-b28846f5-ca9e-4b24-b685-29efe1a9327c'\n",
      "2023-03-25 12:06:30,831 - distributed.worker - ERROR - Exception during execution of task lambda-c149ea48c908a6d45946cab3be39a64f.\n",
      "Traceback (most recent call last):\n",
      "  File \"/opt/conda/lib/python3.10/site-packages/distributed/worker.py\", line 2390, in _prepare_args_for_execution\n",
      "    data[k] = self.data[k]\n",
      "  File \"/opt/conda/lib/python3.10/site-packages/distributed/spill.py\", line 245, in __getitem__\n",
      "    return super().__getitem__(key)\n",
      "  File \"/opt/conda/lib/python3.10/site-packages/zict/buffer.py\", line 108, in __getitem__\n",
      "    raise KeyError(key)\n",
      "KeyError: 'apply_list_of_funcs-a695504f-5444-44e5-83bb-8e07dbbd5431'\n",
      "\n",
      "During handling of the above exception, another exception occurred:\n",
      "\n",
      "Traceback (most recent call last):\n",
      "  File \"/opt/conda/lib/python3.10/site-packages/distributed/worker.py\", line 2271, in execute\n",
      "    args2, kwargs2 = self._prepare_args_for_execution(ts, args, kwargs)\n",
      "  File \"/opt/conda/lib/python3.10/site-packages/distributed/worker.py\", line 2394, in _prepare_args_for_execution\n",
      "    data[k] = Actor(type(self.state.actors[k]), self.address, k, self)\n",
      "KeyError: 'apply_list_of_funcs-a695504f-5444-44e5-83bb-8e07dbbd5431'\n"
     ]
    },
    {
     "name": "stderr",
     "output_type": "stream",
     "text": [
      "2023-03-25 12:06:31,071 - distributed.worker - ERROR - Exception during execution of task lambda-08a4968c0de0a9a68a6c250fb5f121a0.\n",
      "Traceback (most recent call last):\n",
      "  File \"/opt/conda/lib/python3.10/site-packages/distributed/worker.py\", line 2390, in _prepare_args_for_execution\n",
      "    data[k] = self.data[k]\n",
      "  File \"/opt/conda/lib/python3.10/site-packages/distributed/spill.py\", line 245, in __getitem__\n",
      "    return super().__getitem__(key)\n",
      "  File \"/opt/conda/lib/python3.10/site-packages/zict/buffer.py\", line 108, in __getitem__\n",
      "    raise KeyError(key)\n",
      "KeyError: 'apply_list_of_funcs-0ec55d7e-147d-480b-b3a8-685b6614ec09'\n",
      "\n",
      "During handling of the above exception, another exception occurred:\n",
      "\n",
      "Traceback (most recent call last):\n",
      "  File \"/opt/conda/lib/python3.10/site-packages/distributed/worker.py\", line 2271, in execute\n",
      "    args2, kwargs2 = self._prepare_args_for_execution(ts, args, kwargs)\n",
      "  File \"/opt/conda/lib/python3.10/site-packages/distributed/worker.py\", line 2394, in _prepare_args_for_execution\n",
      "    data[k] = Actor(type(self.state.actors[k]), self.address, k, self)\n",
      "KeyError: 'apply_list_of_funcs-0ec55d7e-147d-480b-b3a8-685b6614ec09'\n"
     ]
    },
    {
     "name": "stderr",
     "output_type": "stream",
     "text": [
      "2023-03-25 12:06:32,660 - distributed.worker - ERROR - Exception during execution of task lambda-1b24007422ce1bfed271c36c6ccd1f86.\n",
      "Traceback (most recent call last):\n",
      "  File \"/opt/conda/lib/python3.10/site-packages/distributed/worker.py\", line 2390, in _prepare_args_for_execution\n",
      "    data[k] = self.data[k]\n",
      "  File \"/opt/conda/lib/python3.10/site-packages/distributed/spill.py\", line 245, in __getitem__\n",
      "    return super().__getitem__(key)\n",
      "  File \"/opt/conda/lib/python3.10/site-packages/zict/buffer.py\", line 108, in __getitem__\n",
      "    raise KeyError(key)\n",
      "KeyError: 'apply_list_of_funcs-57ad5f0f-fe06-43a9-85c8-b8d3328bd02c'\n",
      "\n",
      "During handling of the above exception, another exception occurred:\n",
      "\n",
      "Traceback (most recent call last):\n",
      "  File \"/opt/conda/lib/python3.10/site-packages/distributed/worker.py\", line 2271, in execute\n",
      "    args2, kwargs2 = self._prepare_args_for_execution(ts, args, kwargs)\n",
      "  File \"/opt/conda/lib/python3.10/site-packages/distributed/worker.py\", line 2394, in _prepare_args_for_execution\n",
      "    data[k] = Actor(type(self.state.actors[k]), self.address, k, self)\n",
      "KeyError: 'apply_list_of_funcs-57ad5f0f-fe06-43a9-85c8-b8d3328bd02c'\n",
      "2023-03-25 12:06:32,807 - distributed.worker - ERROR - Exception during execution of task lambda-2306aea75e2e4a96f4bb350e09e5dcfe.\n",
      "Traceback (most recent call last):\n",
      "  File \"/opt/conda/lib/python3.10/site-packages/distributed/worker.py\", line 2390, in _prepare_args_for_execution\n",
      "    data[k] = self.data[k]\n",
      "  File \"/opt/conda/lib/python3.10/site-packages/distributed/spill.py\", line 245, in __getitem__\n",
      "    return super().__getitem__(key)\n",
      "  File \"/opt/conda/lib/python3.10/site-packages/zict/buffer.py\", line 108, in __getitem__\n",
      "    raise KeyError(key)\n",
      "KeyError: 'apply_list_of_funcs-439b670b-cb3d-451f-8d62-726d36fd002b'\n",
      "\n",
      "During handling of the above exception, another exception occurred:\n",
      "\n",
      "Traceback (most recent call last):\n",
      "  File \"/opt/conda/lib/python3.10/site-packages/distributed/worker.py\", line 2271, in execute\n",
      "    args2, kwargs2 = self._prepare_args_for_execution(ts, args, kwargs)\n",
      "  File \"/opt/conda/lib/python3.10/site-packages/distributed/worker.py\", line 2394, in _prepare_args_for_execution\n",
      "    data[k] = Actor(type(self.state.actors[k]), self.address, k, self)\n",
      "KeyError: 'apply_list_of_funcs-439b670b-cb3d-451f-8d62-726d36fd002b'\n"
     ]
    },
    {
     "data": {
      "image/png": "[encoded data removed]",
      "text/plain": [
       "<Figure size 1200x400 with 1 Axes>"
      ]
     },
     "metadata": {},
     "output_type": "display_data"
    }
   ],
   "source": [
    "import matplotlib.pyplot as plt\n",
    "\n",
    "for sensitivity, value in data.items():\n",
    "    print(sensitivity)\n",
    "    fig, axs = plt.subplots(ncols=1, figsize=(12, 4))\n",
    "    df_calcs = value[\"df_calc\"]\n",
    "    for host in local_ips:\n",
    "        df_calc_host = df_calcs[df_calcs[\"index\"] == host].set_index(\"ts\")\n",
    "        df_calc_host[\"rate_log\"].plot(label=f'{host}', ax=axs)\n",
    "\n",
    "    plt.ylim(ymin=0)\n",
    "    plt.title(f\"Sensitivity: {sensitivity}, threshold: {value['threshold']}\")\n",
    "    plt.legend()\n",
    "    plt.show()"
   ]
  },
  {
   "cell_type": "code",
   "execution_count": null,
   "id": "87d3782d-d91a-4552-b1c5-0c5d50d2d7c8",
   "metadata": {
    "papermill": {
     "duration": 0.027338,
     "end_time": "2023-03-25T12:06:33.392426",
     "exception": false,
     "start_time": "2023-03-25T12:06:33.365088",
     "status": "completed"
    },
    "tags": []
   },
   "outputs": [],
   "source": []
  }
 ],
 "metadata": {
  "kernelspec": {
   "display_name": "Python 3 (ipykernel)",
   "language": "python",
   "name": "python3"
  },
  "language_info": {
   "codemirror_mode": {
    "name": "ipython",
    "version": 3
   },
   "file_extension": ".py",
   "mimetype": "text/x-python",
   "name": "python",
   "nbconvert_exporter": "python",
   "pygments_lexer": "ipython3",
   "version": "3.10.9"
  },
  "papermill": {
   "default_parameters": {},
   "duration": 1274.043943,
   "end_time": "2023-03-25T12:06:36.052925",
   "environment_variables": {},
   "exception": null,
   "input_path": "./flubot-detection-one.ipynb",
   "output_path": "./flubot-detection-try-models/gen-flubot-detection-RF-unnormed-1-4-1-4.ipynb",
   "parameters": {
    "model": "RF",
    "normed": false,
    "skips_and_weights": [
     1,
     4,
     1,
     4
    ]
   },
   "start_time": "2023-03-25T11:45:22.008982",
   "version": "2.3.4"
  }
 },
 "nbformat": 4,
 "nbformat_minor": 5
}
