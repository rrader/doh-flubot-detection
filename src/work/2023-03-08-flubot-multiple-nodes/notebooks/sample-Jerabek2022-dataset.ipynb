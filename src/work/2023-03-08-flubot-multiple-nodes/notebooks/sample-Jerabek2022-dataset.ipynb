{
 "cells": [
  {
   "cell_type": "markdown",
   "id": "17a4ff7c-2b58-4d24-9047-7683d28d9277",
   "metadata": {},
   "source": [
    "---\n",
    "title: \"Sample learning dataset\"\n",
    "execute:\n",
    "  echo: true\n",
    "  enabled: false\n",
    "  output: true\n",
    "  warning: false\n",
    "---"
   ]
  },
  {
   "cell_type": "code",
   "execution_count": 2,
   "id": "036b164a-ff50-4af4-9cb1-092bbce6e8ea",
   "metadata": {
    "execution": {
     "iopub.execute_input": "2023-03-21T20:04:51.935846Z",
     "iopub.status.busy": "2023-03-21T20:04:51.935447Z",
     "iopub.status.idle": "2023-03-21T20:04:51.938919Z",
     "shell.execute_reply": "2023-03-21T20:04:51.938260Z",
     "shell.execute_reply.started": "2023-03-21T20:04:51.935828Z"
    },
    "tags": []
   },
   "outputs": [],
   "source": [
    "#| echo: false\n",
    "#| output: false\n",
    "basepath = \"/home/u1/\""
   ]
  },
  {
   "cell_type": "code",
   "execution_count": 4,
   "id": "241e8c9d-03c0-4832-a721-01bac41e877f",
   "metadata": {
    "execution": {
     "iopub.execute_input": "2023-03-21T20:04:54.990386Z",
     "iopub.status.busy": "2023-03-21T20:04:54.990118Z",
     "iopub.status.idle": "2023-03-21T20:04:54.993515Z",
     "shell.execute_reply": "2023-03-21T20:04:54.993102Z",
     "shell.execute_reply.started": "2023-03-21T20:04:54.990369Z"
    },
    "tags": []
   },
   "outputs": [],
   "source": [
    "#| echo: false\n",
    "#| output: false\n",
    "import os\n",
    "os.environ[\"MODIN_ENGINE\"] = \"dask\"\n",
    "import modin.pandas as pd\n",
    "import numpy as np\n",
    "\n",
    "pd.set_option(\"display.max_columns\", None)"
   ]
  },
  {
   "cell_type": "code",
   "execution_count": 5,
   "id": "6894d4ad-c198-4b33-b2f3-2912078a2067",
   "metadata": {
    "execution": {
     "iopub.execute_input": "2023-03-21T20:04:55.346471Z",
     "iopub.status.busy": "2023-03-21T20:04:55.346311Z",
     "iopub.status.idle": "2023-03-21T20:04:55.349042Z",
     "shell.execute_reply": "2023-03-21T20:04:55.348673Z",
     "shell.execute_reply.started": "2023-03-21T20:04:55.346457Z"
    },
    "tags": []
   },
   "outputs": [],
   "source": [
    "from detect_common import *"
   ]
  },
  {
   "cell_type": "markdown",
   "id": "11ce4e49-1ff0-4fbe-bb32-0745f760bb1d",
   "metadata": {
    "execution": {
     "iopub.execute_input": "2023-03-11T10:15:23.554723Z",
     "iopub.status.busy": "2023-03-11T10:15:23.554320Z",
     "iopub.status.idle": "2023-03-11T10:15:23.558860Z",
     "shell.execute_reply": "2023-03-11T10:15:23.557842Z",
     "shell.execute_reply.started": "2023-03-11T10:15:23.554697Z"
    },
    "tags": []
   },
   "source": [
    "## Real world traffic sampling\n",
    "\n",
    "### Sampled to 10% of DoH and 100% of HTTPS traffic\n",
    "\n",
    "DoH and HTTPS are sampled separately, because in the resulting dataset we may want to have different ratio of DoH and HTTPS traffic to get more benign samples."
   ]
  },
  {
   "cell_type": "code",
   "execution_count": 12,
   "id": "97d54243-88b4-41d6-b0c5-f020c3dfed72",
   "metadata": {
    "tags": []
   },
   "outputs": [
    {
     "name": "stdout",
     "output_type": "stream",
     "text": [
      "files: 81\n",
      "DoH-01082021-48h.pcapng.trapcap.csv size: 1108565 ; sampled size: 110856\n"
     ]
    },
    {
     "name": "stderr",
     "output_type": "stream",
     "text": [
      "UserWarning: `to_csv` is not currently supported by PandasOnDask, defaulting to pandas implementation.\n",
      "Please refer to https://modin.readthedocs.io/en/stable/supported_apis/defaulting_to_pandas.html for explanation.\n"
     ]
    },
    {
     "name": "stdout",
     "output_type": "stream",
     "text": [
      "DoH-03082021-48h.pcapng.trapcap.csv size: 1011530 ; sampled size: 101153\n"
     ]
    },
    {
     "name": "stderr",
     "output_type": "stream",
     "text": [
      "UserWarning: `to_csv` is not currently supported by PandasOnDask, defaulting to pandas implementation.\n"
     ]
    },
    {
     "name": "stdout",
     "output_type": "stream",
     "text": [
      "DoH-06102021-48h.pcapng.trapcap.csv size: 3588446 ; sampled size: 358845\n"
     ]
    },
    {
     "name": "stderr",
     "output_type": "stream",
     "text": [
      "UserWarning: `to_csv` is not currently supported by PandasOnDask, defaulting to pandas implementation.\n"
     ]
    },
    {
     "name": "stdout",
     "output_type": "stream",
     "text": [
      "DoH-08102021-48h.pcapng.trapcap.csv size: 1392097 ; sampled size: 139210\n"
     ]
    },
    {
     "name": "stderr",
     "output_type": "stream",
     "text": [
      "UserWarning: `to_csv` is not currently supported by PandasOnDask, defaulting to pandas implementation.\n"
     ]
    },
    {
     "name": "stdout",
     "output_type": "stream",
     "text": [
      "DoH-13072021-48h.pcapng.trapcap.csv size: 1272538 ; sampled size: 127254\n"
     ]
    },
    {
     "name": "stderr",
     "output_type": "stream",
     "text": [
      "UserWarning: `to_csv` is not currently supported by PandasOnDask, defaulting to pandas implementation.\n"
     ]
    },
    {
     "name": "stdout",
     "output_type": "stream",
     "text": [
      "DoH-15072021-48h.pcapng.trapcap.csv size: 1079644 ; sampled size: 107964\n"
     ]
    },
    {
     "name": "stderr",
     "output_type": "stream",
     "text": [
      "UserWarning: `to_csv` is not currently supported by PandasOnDask, defaulting to pandas implementation.\n"
     ]
    },
    {
     "name": "stdout",
     "output_type": "stream",
     "text": [
      "DoH-17072021-48h.pcapng.trapcap.csv size: 787199 ; sampled size: 78720\n"
     ]
    },
    {
     "name": "stderr",
     "output_type": "stream",
     "text": [
      "UserWarning: `to_csv` is not currently supported by PandasOnDask, defaulting to pandas implementation.\n"
     ]
    },
    {
     "name": "stdout",
     "output_type": "stream",
     "text": [
      "DoH-19072021-48h.pcapng.trapcap.csv size: 1349750 ; sampled size: 134975\n"
     ]
    },
    {
     "name": "stderr",
     "output_type": "stream",
     "text": [
      "UserWarning: `to_csv` is not currently supported by PandasOnDask, defaulting to pandas implementation.\n"
     ]
    },
    {
     "name": "stdout",
     "output_type": "stream",
     "text": [
      "DoH-27072021-48h.pcapng.trapcap.csv size: 1241409 ; sampled size: 124141\n"
     ]
    },
    {
     "name": "stderr",
     "output_type": "stream",
     "text": [
      "UserWarning: `to_csv` is not currently supported by PandasOnDask, defaulting to pandas implementation.\n"
     ]
    },
    {
     "name": "stdout",
     "output_type": "stream",
     "text": [
      "DoH-28062021-24h.pcapng.trapcap.csv size: 1019033 ; sampled size: 101903\n"
     ]
    },
    {
     "name": "stderr",
     "output_type": "stream",
     "text": [
      "UserWarning: `to_csv` is not currently supported by PandasOnDask, defaulting to pandas implementation.\n"
     ]
    },
    {
     "name": "stdout",
     "output_type": "stream",
     "text": [
      "DoH-30072021-48h.pcapng.trapcap.csv size: 633728 ; sampled size: 63373\n"
     ]
    },
    {
     "name": "stderr",
     "output_type": "stream",
     "text": [
      "UserWarning: `to_csv` is not currently supported by PandasOnDask, defaulting to pandas implementation.\n"
     ]
    }
   ],
   "source": [
    "prefix = basepath + \"datasets/Jerabek2022Collection-unirec/unirec-csv-p100/\"\n",
    "print(\"files:\", len(list(enum_csv(prefix))))\n",
    "\n",
    "for i, f in enumerate(f for f in enum_csv(prefix) if ('DoH-Real-World' in str(f)) and ('DoH' in os.path.basename(f))):\n",
    "    if i == 0:\n",
    "        kwargs = {\"mode\": \"w\", \"header\": True}\n",
    "    else:\n",
    "        kwargs = {\"mode\": \"a\", \"header\": False}\n",
    "\n",
    "    df = pd.read_csv(f)\n",
    "    df_sampled = df.sample(frac=0.1, random_state=42)\n",
    "    print(os.path.basename(f), \"size:\", len(df), \"; sampled size:\", len(df_sampled))\n",
    "    df_sampled.to_csv(\n",
    "        basepath + \"datasets/Jerabek2022Collection-unirec/unirec-csv-p100-sample-01-real-world-doh.csv\", \n",
    "        **kwargs\n",
    "    )\n"
   ]
  },
  {
   "cell_type": "code",
   "execution_count": 13,
   "id": "bd03faf1-a53a-49e8-ac72-599d47b2f0d8",
   "metadata": {
    "tags": []
   },
   "outputs": [
    {
     "name": "stdout",
     "output_type": "stream",
     "text": [
      "files: 81\n",
      "HTTPS-04102021-01h-1.pcapng.trapcap.csv size: 30575 ; sampled size: 30575\n"
     ]
    },
    {
     "name": "stderr",
     "output_type": "stream",
     "text": [
      "UserWarning: `to_csv` is not currently supported by PandasOnDask, defaulting to pandas implementation.\n"
     ]
    },
    {
     "name": "stdout",
     "output_type": "stream",
     "text": [
      "HTTPS-04102021-01h-2.pcapng.trapcap.csv size: 35537 ; sampled size: 35537\n"
     ]
    },
    {
     "name": "stderr",
     "output_type": "stream",
     "text": [
      "UserWarning: `to_csv` is not currently supported by PandasOnDask, defaulting to pandas implementation.\n"
     ]
    },
    {
     "name": "stdout",
     "output_type": "stream",
     "text": [
      "HTTPS-04102021-02h.pcapng.trapcap.csv size: 33113 ; sampled size: 33113\n"
     ]
    },
    {
     "name": "stderr",
     "output_type": "stream",
     "text": [
      "UserWarning: `to_csv` is not currently supported by PandasOnDask, defaulting to pandas implementation.\n"
     ]
    },
    {
     "name": "stdout",
     "output_type": "stream",
     "text": [
      "HTTPS-20102021-10h.pcapng.trapcap.csv size: 104214 ; sampled size: 104214\n"
     ]
    },
    {
     "name": "stderr",
     "output_type": "stream",
     "text": [
      "UserWarning: `to_csv` is not currently supported by PandasOnDask, defaulting to pandas implementation.\n"
     ]
    },
    {
     "name": "stdout",
     "output_type": "stream",
     "text": [
      "HTTPS-20102021-12h.pcapng.trapcap.csv size: 85777 ; sampled size: 85777\n"
     ]
    },
    {
     "name": "stderr",
     "output_type": "stream",
     "text": [
      "UserWarning: `to_csv` is not currently supported by PandasOnDask, defaulting to pandas implementation.\n"
     ]
    },
    {
     "name": "stdout",
     "output_type": "stream",
     "text": [
      "HTTPS-21102021-12h.pcapng.trapcap.csv size: 81300 ; sampled size: 81300\n"
     ]
    },
    {
     "name": "stderr",
     "output_type": "stream",
     "text": [
      "UserWarning: `to_csv` is not currently supported by PandasOnDask, defaulting to pandas implementation.\n"
     ]
    }
   ],
   "source": [
    "prefix = basepath + \"datasets/Jerabek2022Collection-unirec/unirec-csv-p100/\"\n",
    "print(\"files:\", len(list(enum_csv(prefix))))\n",
    "\n",
    "for i, f in enumerate(f for f in enum_csv(prefix) if ('DoH-Real-World' in str(f)) and ('HTTPS' in os.path.basename(f))):\n",
    "    if i == 0:\n",
    "        kwargs = {\"mode\": \"w\", \"header\": True}\n",
    "    else:\n",
    "        kwargs = {\"mode\": \"a\", \"header\": False}\n",
    "\n",
    "    df = pd.read_csv(f)\n",
    "    df_sampled = df.sample(frac=1.0, random_state=42)  # no sampling\n",
    "    print(os.path.basename(f), \"size:\", len(df), \"; sampled size:\", len(df_sampled))\n",
    "    df_sampled.to_csv(\n",
    "        basepath + \"datasets/Jerabek2022Collection-unirec/unirec-csv-p100-sample-1-real-world-https.csv\", \n",
    "        **kwargs\n",
    "    )\n"
   ]
  },
  {
   "cell_type": "markdown",
   "id": "f5075d36-0546-43a8-b786-d24f4a466438",
   "metadata": {},
   "source": [
    " - `unirec-csv-p100/unirec/DoH-Gen-C-CFGHOQS/data/generated/pcap/chrome/ffmuc/1_chrome_ffmuc.pcap.trapcap.csv` is empty, I will remove it\n",
    " - **Question**: Real-World dataset contains pcap, however readme states it can't be distributed because requires anonymization"
   ]
  },
  {
   "cell_type": "code",
   "execution_count": 15,
   "id": "4e417c22-25ed-48db-a1a2-ef7bd5b4c4f9",
   "metadata": {
    "tags": []
   },
   "outputs": [
    {
     "data": {
      "text/plain": [
       "1448394"
      ]
     },
     "execution_count": 15,
     "metadata": {},
     "output_type": "execute_result"
    }
   ],
   "source": [
    "df = pd.read_csv(basepath + \"datasets/Jerabek2022Collection-unirec/unirec-csv-p100-sample-01-real-world-doh.csv\")\n",
    "df.to_feather(basepath + \"datasets/Jerabek2022Collection-unirec/unirec-csv-p100-sample-01-real-world-doh.ft\")\n",
    "len(df)"
   ]
  },
  {
   "cell_type": "code",
   "execution_count": 16,
   "id": "768143c0-ca5f-4c56-8868-1b6365ef11a3",
   "metadata": {
    "tags": []
   },
   "outputs": [
    {
     "data": {
      "text/plain": [
       "370516"
      ]
     },
     "execution_count": 16,
     "metadata": {},
     "output_type": "execute_result"
    }
   ],
   "source": [
    "df = pd.read_csv(basepath + \"datasets/Jerabek2022Collection-unirec/unirec-csv-p100-sample-1-real-world-https.csv\")\n",
    "df.to_feather(basepath + \"datasets/Jerabek2022Collection-unirec/unirec-csv-p100-sample-1-real-world-https.ft\")\n",
    "len(df)"
   ]
  },
  {
   "cell_type": "markdown",
   "id": "eeed7d4d-fb30-4ff9-a86d-d2a934298f77",
   "metadata": {},
   "source": [
    "### Sample 50k DoH and 50k HTTPS"
   ]
  },
  {
   "cell_type": "code",
   "execution_count": 17,
   "id": "dfc2374a-7fc4-4095-b383-b0ecdb3448f3",
   "metadata": {
    "tags": []
   },
   "outputs": [],
   "source": [
    "# df = pd.read_feather(\"/jupyter/warehouse/Jerabek2022Collection-unirec/unirec-csv-p100-sample-001-real-world-doh.ft\")\n",
    "# df.sample(n=50000, random_state=42).reset_index(drop=True).to_feather(\n",
    "#     \"/jupyter/warehouse/Jerabek2022Collection-unirec/unirec-csv-p100-sample-50k-real-world-doh.ft\"\n",
    "# )\n",
    "\n",
    "# df = pd.read_feather(\"/jupyter/warehouse/Jerabek2022Collection-unirec/unirec-csv-p100-sample-001-real-world-https.ft\")\n",
    "# df.sample(n=50000, random_state=42).reset_index(drop=True).to_feather(\n",
    "#     \"/jupyter/warehouse/Jerabek2022Collection-unirec/unirec-csv-p100-sample-50k-real-world-https.ft\"\n",
    "# )"
   ]
  },
  {
   "cell_type": "markdown",
   "id": "9ca72873-d2f2-4e57-a798-6b1375919fe1",
   "metadata": {},
   "source": [
    "## Generated traffic sampling\n",
    "\n",
    "### Sampled to 10%:"
   ]
  },
  {
   "cell_type": "code",
   "execution_count": 18,
   "id": "3bab7f57-24fa-481d-9ed4-750ef5bc0ea6",
   "metadata": {
    "tags": []
   },
   "outputs": [
    {
     "name": "stdout",
     "output_type": "stream",
     "text": [
      "files: 81\n",
      "0_chrome_adguard.pcap.trapcap.csv size: 23652 ; sampled size: 2365\n",
      "1_chrome_adguard.pcap.trapcap.csv size: 23001 ; sampled size: 2300\n",
      "0_chrome_ahadns.pcap.trapcap.csv size: 23618 ; sampled size: 2362\n",
      "1_chrome_ahadns.pcap.trapcap.csv size: 23063 ; sampled size: 2306\n",
      "0_chrome_blahdns.pcap.trapcap.csv size: 18648 ; sampled size: 1865\n",
      "1_chrome_blahdns.pcap.trapcap.csv size: 19073 ; sampled size: 1907\n",
      "0_chrome_bravedns.pcap.trapcap.csv size: 35271 ; sampled size: 3527\n",
      "1_chrome_bravedns.pcap.trapcap.csv size: 35753 ; sampled size: 3575\n",
      "0_chrome_comcast.pcap.trapcap.csv size: 37097 ; sampled size: 3710\n",
      "1_chrome_comcast.pcap.trapcap.csv size: 38072 ; sampled size: 3807\n",
      "0_chrome_cznic.pcap.trapcap.csv size: 34198 ; sampled size: 3420\n",
      "1_chrome_cznic.pcap.trapcap.csv size: 33623 ; sampled size: 3362\n",
      "0_chrome_cloudflare.pcap.trapcap.csv size: 30804 ; sampled size: 3080\n",
      "1_chrome_cloudflare.pcap.trapcap.csv size: 34577 ; sampled size: 3458\n",
      "0_chrome_ffmuc.pcap.trapcap.csv size: 11669 ; sampled size: 1167\n",
      "0_chrome_ffmuc.pcap.trapcap-checkpoint.csv size: 11669 ; sampled size: 1167\n",
      "0_chrome_google.pcap.trapcap.csv size: 34101 ; sampled size: 3410\n",
      "1_chrome_google.pcap.trapcap.csv size: 33109 ; sampled size: 3311\n",
      "0_chrome_hostux.pcap.trapcap.csv size: 31416 ; sampled size: 3142\n",
      "1_chrome_hostux.pcap.trapcap.csv size: 30769 ; sampled size: 3077\n",
      "0_chrome_opendns.pcap.trapcap.csv size: 30691 ; sampled size: 3069\n",
      "1_chrome_opendns.pcap.trapcap.csv size: 29655 ; sampled size: 2966\n",
      "0_chrome_quad9.pcap.trapcap.csv size: 32409 ; sampled size: 3241\n",
      "1_chrome_quad9.pcap.trapcap.csv size: 31478 ; sampled size: 3148\n",
      "0_chrome_switch.pcap.trapcap.csv size: 31600 ; sampled size: 3160\n",
      "1_chrome_switch.pcap.trapcap.csv size: 32517 ; sampled size: 3252\n",
      "0_chrome_dnsforge.pcap.trapcap.csv size: 20354 ; sampled size: 2035\n",
      "1_chrome_dnsforge.pcap.trapcap.csv size: 20153 ; sampled size: 2015\n",
      "0_chrome_dnssb.pcap.trapcap.csv size: 31713 ; sampled size: 3171\n",
      "1_chrome_dnssb.pcap.trapcap.csv size: 32421 ; sampled size: 3242\n",
      "0_chrome_dohli.pcap.trapcap.csv size: 19 ; sampled size: 2\n",
      "1_chrome_dohli.pcap.trapcap.csv size: 35955 ; sampled size: 3596\n",
      "10_post_adguard.pcap.trapcap.csv size: 164808 ; sampled size: 16481\n",
      "11_get_adguard.pcap.trapcap.csv size: 166665 ; sampled size: 16666\n",
      "14_post_ahadns.pcap.trapcap.csv size: 116815 ; sampled size: 11682\n",
      "15_get_ahadns.pcap.trapcap.csv size: 115051 ; sampled size: 11505\n",
      "6_post_blahdns.pcap.trapcap.csv size: 177242 ; sampled size: 17724\n",
      "7_get_blahdns.pcap.trapcap.csv size: 177928 ; sampled size: 17793\n",
      "16_post_bravedns.pcap.trapcap.csv size: 110221 ; sampled size: 11022\n",
      "17_get_bravedns.pcap.trapcap.csv size: 108565 ; sampled size: 10856\n",
      "12_post_cloudflare.pcap.trapcap.csv size: 104344 ; sampled size: 10434\n",
      "13_get_cloudflare.pcap.trapcap.csv size: 105946 ; sampled size: 10595\n",
      "4_post_comcast.pcap.trapcap.csv size: 148266 ; sampled size: 14827\n",
      "5_get_comcast.pcap.trapcap.csv size: 151250 ; sampled size: 15125\n",
      "20_post_cznic.pcap.trapcap.csv size: 142975 ; sampled size: 14298\n",
      "21_get_cznic.pcap.trapcap.csv size: 137961 ; sampled size: 13796\n",
      "8_post_dnsforge.pcap.trapcap.csv size: 137647 ; sampled size: 13765\n",
      "9_get_dnsforge.pcap.trapcap.csv size: 142600 ; sampled size: 14260\n",
      "2_post_dnssb.pcap.trapcap.csv size: 118262 ; sampled size: 11826\n",
      "3_get_dnssb.pcap.trapcap.csv size: 116030 ; sampled size: 11603\n",
      "24_post_dohli.pcap.trapcap.csv size: 148400 ; sampled size: 14840\n",
      "25_get_dohli.pcap.trapcap.csv size: 146729 ; sampled size: 14673\n",
      "30_post_ffmuc.pcap.trapcap.csv size: 102224 ; sampled size: 10222\n",
      "31_get_ffmuc.pcap.trapcap.csv size: 102094 ; sampled size: 10209\n",
      "18_post_google.pcap.trapcap.csv size: 140524 ; sampled size: 14052\n",
      "19_get_google.pcap.trapcap.csv size: 141396 ; sampled size: 14140\n",
      "28_post_hostux.pcap.trapcap.csv size: 125728 ; sampled size: 12573\n",
      "29_get_hostux.pcap.trapcap.csv size: 121226 ; sampled size: 12123\n",
      "22_post_opendns.pcap.trapcap.csv size: 100798 ; sampled size: 10080\n",
      "23_get_opendns.pcap.trapcap.csv size: 101153 ; sampled size: 10115\n",
      "26_post_quad9.pcap.trapcap.csv size: 135104 ; sampled size: 13510\n",
      "27_get_quad9.pcap.trapcap.csv size: 135357 ; sampled size: 13536\n",
      "0_post_switch.pcap.trapcap.csv size: 147445 ; sampled size: 14744\n",
      "1_get_switch.pcap.trapcap.csv size: 150962 ; sampled size: 15096\n"
     ]
    }
   ],
   "source": [
    "prefix = basepath + \"datasets/Jerabek2022Collection-unirec/unirec-csv-p100/\"\n",
    "print(\"files:\", len(list(enum_csv(prefix))))\n",
    "\n",
    "for i, f in enumerate(f for f in enum_csv(prefix) if 'DoH-Real-World' not in str(f)):\n",
    "    if i == 0:\n",
    "        kwargs = {\"mode\": \"w\", \"header\": True}\n",
    "    else:\n",
    "        kwargs = {\"mode\": \"a\", \"header\": False}\n",
    "\n",
    "    df = pd.read_csv(f)\n",
    "    df_sampled = df.sample(frac=0.1, random_state=42)\n",
    "    print(os.path.basename(f), \"size:\", len(df), \"; sampled size:\", len(df_sampled))\n",
    "    df_sampled.to_csv(\n",
    "        basepath + \"datasets/Jerabek2022Collection-unirec/unirec-csv-p100-sample-01-generated.csv\", \n",
    "        **kwargs\n",
    "    )\n"
   ]
  },
  {
   "cell_type": "code",
   "execution_count": 6,
   "id": "3a9b2ade-7990-431d-86e3-2fdce9c8fd15",
   "metadata": {
    "execution": {
     "iopub.execute_input": "2023-03-21T20:09:49.278138Z",
     "iopub.status.busy": "2023-03-21T20:09:49.277780Z",
     "iopub.status.idle": "2023-03-21T20:10:00.587672Z",
     "shell.execute_reply": "2023-03-21T20:10:00.586312Z",
     "shell.execute_reply.started": "2023-03-21T20:09:49.278119Z"
    },
    "tags": []
   },
   "outputs": [
    {
     "name": "stderr",
     "output_type": "stream",
     "text": [
      "UserWarning: Dask execution environment not yet initialized. Initializing...\n",
      "To remove this warning, run the following python code before doing dataframe operations:\n",
      "\n",
      "    from distributed import Client\n",
      "\n",
      "    client = Client()\n",
      "\n",
      "UserWarning: Port 8787 is already in use.\n",
      "Perhaps you already have a cluster running?\n",
      "Hosting the HTTP server on port 40697 instead\n",
      "UserWarning: `DataFrame.to_feather` is not currently supported by PandasOnDask, defaulting to pandas implementation.\n",
      "Please refer to https://modin.readthedocs.io/en/stable/supported_apis/defaulting_to_pandas.html for explanation.\n",
      "UserWarning: Distributing <class 'pandas.core.frame.DataFrame'> object. This may take some time.\n"
     ]
    },
    {
     "data": {
      "text/plain": [
       "513386"
      ]
     },
     "execution_count": 6,
     "metadata": {},
     "output_type": "execute_result"
    }
   ],
   "source": [
    "df = pd.read_csv(basepath + \"datasets/Jerabek2022Collection-unirec/unirec-csv-p100-sample-01-generated.csv\")\n",
    "df.to_feather(basepath + \"datasets/Jerabek2022Collection-unirec/unirec-csv-p100-sample-01-generated.ft\")\n",
    "len(df)"
   ]
  },
  {
   "cell_type": "markdown",
   "id": "8cf618f1-6be3-4eac-af3a-21e36947ffd8",
   "metadata": {},
   "source": [
    "### Sampled to 50k records"
   ]
  },
  {
   "cell_type": "code",
   "execution_count": 21,
   "id": "70a236fd-14e0-439c-a497-8f46804b2615",
   "metadata": {
    "tags": []
   },
   "outputs": [],
   "source": [
    "# df = pd.read_feather(\"/jupyter/warehouse/Jerabek2022Collection-unirec/unirec-csv-p100-sample-005-generated.ft\")\n",
    "# df.sample(n=50000, random_state=42).reset_index(drop=True).to_feather(\n",
    "#     \"/jupyter/warehouse/Jerabek2022Collection-unirec/unirec-csv-p100-sample-50k-generated.ft\"\n",
    "# )"
   ]
  },
  {
   "cell_type": "code",
   "execution_count": null,
   "id": "e442d777-dab2-4417-9257-588968ab92df",
   "metadata": {},
   "outputs": [],
   "source": []
  }
 ],
 "metadata": {
  "kernelspec": {
   "display_name": "Python 3 (ipykernel)",
   "language": "python",
   "name": "python3"
  },
  "language_info": {
   "codemirror_mode": {
    "name": "ipython",
    "version": 3
   },
   "file_extension": ".py",
   "mimetype": "text/x-python",
   "name": "python",
   "nbconvert_exporter": "python",
   "pygments_lexer": "ipython3",
   "version": "3.10.9"
  }
 },
 "nbformat": 4,
 "nbformat_minor": 5
}
