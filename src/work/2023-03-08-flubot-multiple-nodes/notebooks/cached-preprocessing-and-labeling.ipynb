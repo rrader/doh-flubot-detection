{
 "cells": [
  {
   "cell_type": "markdown",
   "id": "17a4ff7c-2b58-4d24-9047-7683d28d9277",
   "metadata": {},
   "source": [
    "---\n",
    "title: \"Label learning dataset\"\n",
    "execute:\n",
    "  echo: true\n",
    "  enabled: false\n",
    "  output: true\n",
    "  warning: false\n",
    "---"
   ]
  },
  {
   "cell_type": "markdown",
   "id": "53eca9e3-6689-4dfc-9b27-1a59b393e9e0",
   "metadata": {},
   "source": [
    "Let's prepare learning dataset:\n",
    "\n",
    " - Build learning dataset from sampled @Jerabek2022Collection\n",
    " - Basic processing\n",
    " - Assign labels"
   ]
  },
  {
   "cell_type": "code",
   "execution_count": 1,
   "id": "c638eb02-01cf-44b1-a221-656d870f78d7",
   "metadata": {
    "execution": {
     "iopub.execute_input": "2023-03-21T22:41:28.688517Z",
     "iopub.status.busy": "2023-03-21T22:41:28.687985Z",
     "iopub.status.idle": "2023-03-21T22:41:28.693845Z",
     "shell.execute_reply": "2023-03-21T22:41:28.693473Z",
     "shell.execute_reply.started": "2023-03-21T22:41:28.688498Z"
    },
    "tags": []
   },
   "outputs": [],
   "source": [
    "#| echo: false\n",
    "#| output: false\n",
    "basepath = \"/home/root/\""
   ]
  },
  {
   "cell_type": "code",
   "execution_count": 2,
   "id": "cfc92ef5-2408-4b34-8053-7aebab4885ac",
   "metadata": {
    "execution": {
     "iopub.execute_input": "2023-03-21T22:41:29.064486Z",
     "iopub.status.busy": "2023-03-21T22:41:29.063874Z",
     "iopub.status.idle": "2023-03-21T22:41:29.473094Z",
     "shell.execute_reply": "2023-03-21T22:41:29.472404Z",
     "shell.execute_reply.started": "2023-03-21T22:41:29.064461Z"
    },
    "tags": []
   },
   "outputs": [],
   "source": [
    "#| echo: false\n",
    "#| output: false\n",
    "import os\n",
    "os.environ[\"MODIN_ENGINE\"] = \"dask\"\n",
    "import modin.pandas as pd\n",
    "import numpy as np\n",
    "\n",
    "pd.set_option(\"display.max_columns\", None)"
   ]
  },
  {
   "cell_type": "code",
   "execution_count": 3,
   "id": "0487640c-0f84-45dc-834b-5fe688fe540c",
   "metadata": {
    "execution": {
     "iopub.execute_input": "2023-03-21T22:41:29.754151Z",
     "iopub.status.busy": "2023-03-21T22:41:29.753912Z",
     "iopub.status.idle": "2023-03-21T22:41:30.050875Z",
     "shell.execute_reply": "2023-03-21T22:41:30.050143Z",
     "shell.execute_reply.started": "2023-03-21T22:41:29.754135Z"
    },
    "tags": []
   },
   "outputs": [],
   "source": [
    "from detect_common import *"
   ]
  },
  {
   "cell_type": "markdown",
   "id": "ebbb34bd-f6b5-4004-9f12-905efb14b682",
   "metadata": {},
   "source": [
    "## Build learning dataset\n",
    "\n",
    "Take 10% of generated traffic (\\~50k FIXME) and 0.3% (\\~50k FIXME) of real-world traffic to get 1:1 ratio in the learning dataset."
   ]
  },
  {
   "cell_type": "code",
   "execution_count": 4,
   "id": "4d7d9bd9-7203-4eff-80e6-3dc4e050fdaf",
   "metadata": {
    "execution": {
     "iopub.execute_input": "2023-03-21T22:41:31.408863Z",
     "iopub.status.busy": "2023-03-21T22:41:31.408245Z",
     "iopub.status.idle": "2023-03-21T22:41:31.411471Z",
     "shell.execute_reply": "2023-03-21T22:41:31.410932Z",
     "shell.execute_reply.started": "2023-03-21T22:41:31.408840Z"
    },
    "tags": []
   },
   "outputs": [],
   "source": [
    "p1version = \"v6\""
   ]
  },
  {
   "cell_type": "code",
   "execution_count": 5,
   "id": "b43d9c27-1daa-42a6-96a6-5e602e159538",
   "metadata": {
    "execution": {
     "iopub.execute_input": "2023-03-21T22:41:33.232553Z",
     "iopub.status.busy": "2023-03-21T22:41:33.232390Z",
     "iopub.status.idle": "2023-03-21T22:42:07.676379Z",
     "shell.execute_reply": "2023-03-21T22:42:07.675664Z",
     "shell.execute_reply.started": "2023-03-21T22:41:33.232539Z"
    },
    "tags": []
   },
   "outputs": [
    {
     "name": "stderr",
     "output_type": "stream",
     "text": [
      "UserWarning: Dask execution environment not yet initialized. Initializing...\n",
      "To remove this warning, run the following python code before doing dataframe operations:\n",
      "\n",
      "    from distributed import Client\n",
      "\n",
      "    client = Client()\n",
      "\n"
     ]
    }
   ],
   "source": [
    "gen = pd.read_feather(\n",
    "    basepath + \"datasets/Jerabek2022Collection-unirec/\"\n",
    "    \"unirec-csv-p100-sample-01-generated.ft\"\n",
    ")\n",
    "real_doh = pd.read_feather(\n",
    "    basepath + \"datasets/Jerabek2022Collection-unirec/\"\n",
    "    \"unirec-csv-p100-sample-01-real-world-doh.ft\"\n",
    ").sample(frac=0.5)\n",
    "real_https = pd.read_feather(\n",
    "    basepath + \"datasets/Jerabek2022Collection-unirec/\"\n",
    "    \"unirec-csv-p100-sample-1-real-world-https.ft\"\n",
    ")"
   ]
  },
  {
   "cell_type": "code",
   "execution_count": 6,
   "id": "6210833d-729d-41bd-8bb8-0cbb35b3e386",
   "metadata": {
    "execution": {
     "iopub.execute_input": "2023-03-21T22:42:07.677988Z",
     "iopub.status.busy": "2023-03-21T22:42:07.677588Z",
     "iopub.status.idle": "2023-03-21T22:42:08.711379Z",
     "shell.execute_reply": "2023-03-21T22:42:08.710908Z",
     "shell.execute_reply.started": "2023-03-21T22:42:07.677971Z"
    },
    "tags": []
   },
   "outputs": [
    {
     "name": "stderr",
     "output_type": "stream",
     "text": [
      "UserWarning: Distributing <class 'dict'> object. This may take some time.\n"
     ]
    },
    {
     "data": {
      "text/plain": [
       "[]"
      ]
     },
     "execution_count": 6,
     "metadata": {},
     "output_type": "execute_result"
    },
    {
     "data": {
      "image/png": "[encoded data removed]",
      "text/plain": [
       "<Figure size 640x480 with 1 Axes>"
      ]
     },
     "metadata": {},
     "output_type": "display_data"
    }
   ],
   "source": [
    "import matplotlib.pyplot as plt\n",
    "pd.DataFrame(\n",
    "    {\n",
    "        \"Rows\": [len(gen), len(real_doh), len(real_https)],\n",
    "        \"Dataset\": [\n",
    "            f\"Generated {len(gen)}\", \n",
    "            f\"Real-world DoH {len(real_doh)}\", \n",
    "            f\"Real-world HTTPS {len(real_https)}\",\n",
    "        ]\n",
    "    }\n",
    ").set_index(\"Dataset\")[\"Rows\"].plot(kind=\"pie\")\n",
    "plt.plot()"
   ]
  },
  {
   "cell_type": "code",
   "execution_count": 7,
   "id": "477b3ca0-5a50-41a9-b1aa-251f9281876d",
   "metadata": {
    "execution": {
     "iopub.execute_input": "2023-03-21T22:42:08.712459Z",
     "iopub.status.busy": "2023-03-21T22:42:08.712132Z",
     "iopub.status.idle": "2023-03-21T22:42:29.935589Z",
     "shell.execute_reply": "2023-03-21T22:42:29.934601Z",
     "shell.execute_reply.started": "2023-03-21T22:42:08.712443Z"
    },
    "tags": []
   },
   "outputs": [
    {
     "name": "stderr",
     "output_type": "stream",
     "text": [
      "UserWarning: `Series.tolist` is not currently supported by PandasOnDask, defaulting to pandas implementation.\n",
      "Please refer to https://modin.readthedocs.io/en/stable/supported_apis/defaulting_to_pandas.html for explanation.\n"
     ]
    },
    {
     "name": "stdout",
     "output_type": "stream",
     "text": [
      "Preprocessing of generated traffic...\n"
     ]
    },
    {
     "name": "stderr",
     "output_type": "stream",
     "text": [
      "UserWarning: Defaulting to pandas implementation.\n",
      "Reason: `lines` argument not supported\n",
      "FutureWarning: the 'numpy' keyword is deprecated and will be removed in a future version. Please take steps to stop the use of 'numpy'\n"
     ]
    }
   ],
   "source": [
    "path_doh_ips = \"./doh_resolver_ip.csv\"\n",
    "\n",
    "cp = CacheableProcessing(100, 100, get_doh_ips(path_doh_ips))\n",
    "print(\"Preprocessing of generated traffic...\")\n",
    "gen_p = cp.process(gen, f\"cached/gen.p1.{p1version}.saved\")"
   ]
  },
  {
   "cell_type": "code",
   "execution_count": 8,
   "id": "5d41f3c1-a20c-44e7-97bf-06b6a4736dcc",
   "metadata": {
    "execution": {
     "iopub.execute_input": "2023-03-21T22:42:29.937788Z",
     "iopub.status.busy": "2023-03-21T22:42:29.937428Z",
     "iopub.status.idle": "2023-03-21T22:43:05.342354Z",
     "shell.execute_reply": "2023-03-21T22:43:05.341461Z",
     "shell.execute_reply.started": "2023-03-21T22:42:29.937770Z"
    },
    "tags": []
   },
   "outputs": [
    {
     "name": "stdout",
     "output_type": "stream",
     "text": [
      "Preprocessing of real-world DoH traffic...\n"
     ]
    },
    {
     "name": "stderr",
     "output_type": "stream",
     "text": [
      "UserWarning: Defaulting to pandas implementation.\n",
      "Reason: `lines` argument not supported\n",
      "FutureWarning: the 'numpy' keyword is deprecated and will be removed in a future version. Please take steps to stop the use of 'numpy'\n"
     ]
    }
   ],
   "source": [
    "print(\"Preprocessing of real-world DoH traffic...\")\n",
    "real_doh_p = cp.process(real_doh, f\"cached/real_doh05.p1.{p1version}.saved\")"
   ]
  },
  {
   "cell_type": "code",
   "execution_count": 9,
   "id": "af9b9d19-fc8b-4150-9834-78b747c6a9b3",
   "metadata": {
    "execution": {
     "iopub.execute_input": "2023-03-21T22:43:05.343515Z",
     "iopub.status.busy": "2023-03-21T22:43:05.343346Z",
     "iopub.status.idle": "2023-03-21T22:43:25.817895Z",
     "shell.execute_reply": "2023-03-21T22:43:25.817013Z",
     "shell.execute_reply.started": "2023-03-21T22:43:05.343500Z"
    },
    "tags": []
   },
   "outputs": [
    {
     "name": "stdout",
     "output_type": "stream",
     "text": [
      "Preprocessing of real-world HTTPS traffic...\n"
     ]
    },
    {
     "name": "stderr",
     "output_type": "stream",
     "text": [
      "UserWarning: Defaulting to pandas implementation.\n",
      "Reason: `lines` argument not supported\n",
      "FutureWarning: the 'numpy' keyword is deprecated and will be removed in a future version. Please take steps to stop the use of 'numpy'\n"
     ]
    }
   ],
   "source": [
    "print(\"Preprocessing of real-world HTTPS traffic...\")\n",
    "real_https_p = cp.process(real_https, f\"cached/real_https.p1.{p1version}.saved\")"
   ]
  },
  {
   "cell_type": "code",
   "execution_count": 11,
   "id": "ca588a18-a2ec-430c-b58a-ad664df7aa3d",
   "metadata": {
    "execution": {
     "iopub.execute_input": "2023-03-21T22:44:47.123237Z",
     "iopub.status.busy": "2023-03-21T22:44:47.122977Z",
     "iopub.status.idle": "2023-03-21T22:45:26.103820Z",
     "shell.execute_reply": "2023-03-21T22:45:26.103226Z",
     "shell.execute_reply.started": "2023-03-21T22:44:47.123220Z"
    },
    "tags": []
   },
   "outputs": [
    {
     "name": "stderr",
     "output_type": "stream",
     "text": [
      "2023-03-21 22:44:57,032 - distributed.worker - WARNING - Could not find data: {'function-6d356ae2ac6043a796750da3f1bb159c': ['tcp://127.0.0.1:37833', 'tcp://127.0.0.1:35933', 'tcp://127.0.0.1:45859', 'tcp://127.0.0.1:46163', 'tcp://127.0.0.1:36477', 'tcp://127.0.0.1:40019', 'tcp://127.0.0.1:34955', 'tcp://127.0.0.1:39145', 'tcp://127.0.0.1:35575', 'tcp://127.0.0.1:39455', 'tcp://127.0.0.1:41825', 'tcp://127.0.0.1:41305', 'tcp://127.0.0.1:40285', 'tcp://127.0.0.1:44913', 'tcp://127.0.0.1:39219', 'tcp://127.0.0.1:34309', 'tcp://127.0.0.1:37247', 'tcp://127.0.0.1:38927', 'tcp://127.0.0.1:40441', 'tcp://127.0.0.1:33591', 'tcp://127.0.0.1:41703', 'tcp://127.0.0.1:45227', 'tcp://127.0.0.1:40363', 'tcp://127.0.0.1:40997', 'tcp://127.0.0.1:42707', 'tcp://127.0.0.1:40341', 'tcp://127.0.0.1:38507']} on workers: [] (who_has: {'function-6d356ae2ac6043a796750da3f1bb159c': ['tcp://127.0.0.1:37833', 'tcp://127.0.0.1:35933', 'tcp://127.0.0.1:45859', 'tcp://127.0.0.1:46163', 'tcp://127.0.0.1:36477', 't2023-03-21 22:44:57,033 - distributed.scheduler - WARNING - Worker tcp://127.0.0.1:36057 failed to acquire keys: {'function-6d356ae2ac6043a796750da3f1bb159c': ('tcp://127.0.0.1:37833', 'tcp://127.0.0.1:35933', 'tcp://127.0.0.1:45859', 'tcp://127.0.0.1:46163', 'tcp://127.0.0.1:36477', 'tcp://127.0.0.1:40019', 'tcp://127.0.0.1:34955', 'tcp://127.0.0.1:39145', 'tcp://127.0.0.1:35575', 'tcp://127.0.0.1:39455', 'tcp://127.0.0.1:41825', 'tcp://127.0.0.1:41305', 'tcp://127.0.0.1:40285', 'tcp://127.0.0.1:44913', 'tcp://127.0.0.1:39219', 'tcp://127.0.0.1:34309', 'tcp://127.0.0.1:37247', 'tcp://127.0.0.1:38927', 'tcp://127.0.0.1:40441', 'tcp://127.0.0.1:33591', 'tcp://127.0.0.1:41703', 'tcp://127.0.0.1:45227', 'tcp://127.0.0.1:40363', 'tcp://127.0.0.1:40997', 'tcp://127.0.0.1:42707', 'tcp://127.0.0.1:40341', 'tcp://127.0.0.1:38507')}\n",
      "cp://127.0.0.1:40019', 'tcp://127.0.0.1:34955', 'tcp://127.0.0.1:39145', 'tcp://127.0.0.1:35575', 'tcp://127.0.0.1:39455', 'tcp://127.0.0.1:41825', 'tcp://127.0.0.1:41305', 'tcp://127.0.0.1:40285', 'tcp://127.0.0.1:44913', 'tcp://127.0.0.1:39219', 'tcp://127.0.0.1:34309', 'tcp://127.0.0.1:37247', 'tcp://127.0.0.1:38927', 'tcp://127.0.0.1:40441', 'tcp://127.0.0.1:33591', 'tcp://127.0.0.1:41703', 'tcp://127.0.0.1:45227', 'tcp://127.0.0.1:40363', 'tcp://127.0.0.1:40997', 'tcp://127.0.0.1:42707', 'tcp://127.0.0.1:40341', 'tcp://127.0.0.1:38507']})\n",
      "2023-03-21 22:44:58,179 - distributed.worker - WARNING - Could not find data: {'function-6d356ae2ac6043a796750da3f1bb159c': ['tcp://127.0.0.1:45285', 'tcp://127.0.0.1:37331', 'tcp://127.0.0.1:33191', 'tcp://127.0.0.1:43009', 'tcp://127.0.0.1:35231', 'tcp://127.0.0.1:45227', 'tcp://127.0.0.1:34073', 'tcp://127.0.0.1:42707', 'tcp://127.0.0.1:38507']} on workers: [] (who_has: {'function-6d356ae2ac6043a796750da3f1bb159c': ['tcp://127.0.0.1:45285', 'tcp://127.0.0.1:37331', 'tcp://127.0.0.1:33191', 'tcp://127.0.0.1:43009', 'tcp://127.0.0.1:35231', 'tcp://127.0.0.1:45227', 'tcp://127.0.0.1:34073', 'tcp://127.0.0.1:42707', 'tcp://127.0.0.1:38507']})\n",
      "2023-03-21 22:44:58,181 - distributed.scheduler - WARNING - Worker tcp://127.0.0.1:36057 failed to acquire keys: {'function-6d356ae2ac6043a796750da3f1bb159c': ('tcp://127.0.0.1:45285', 'tcp://127.0.0.1:37331', 'tcp://127.0.0.1:33191', 'tcp://127.0.0.1:43009', 'tcp://127.0.0.1:35231', 'tcp://127.0.0.1:45227', 'tcp://127.0.0.1:34073', 'tcp://127.0.0.1:42707', 'tcp://127.0.0.1:38507')}\n",
      "2023-03-21 22:44:58,859 - distributed.worker - ERROR - Exception during execution of task lambda-1eac006dd7631704f64a3a386ad58245.\n",
      "Traceback (most recent call last):\n",
      "  File \"/opt/conda/lib/python3.10/site-packages/distributed/worker.py\", line 2390, in _prepare_args_for_execution\n",
      "    data[k] = self.data[k]\n",
      "  File \"/opt/conda/lib/python3.10/site-packages/distributed/spill.py\", line 245, in __getitem__\n",
      "    return super().__getitem__(key)\n",
      "  File \"/opt/conda/lib/python3.10/site-packages/zict/buffer.py\", line 108, in __getitem__\n",
      "    raise KeyError(key)\n",
      "KeyError: 'apply_func-3710b00b-3ef1-4c6e-a271-e74364128b2d'\n",
      "\n",
      "During handling of the above exception, another exception occurred:\n",
      "\n",
      "Traceback (most recent call last):\n",
      "  File \"/opt/conda/lib/python3.10/site-packages/distributed/worker.py\", line 2271, in execute\n",
      "    args2, kwargs2 = self._prepare_args_for_execution(ts, args, kwargs)\n",
      "  File \"/opt/conda/lib/python3.10/site-packages/distributed/worker.py\", line 2394, in _prepare_args_for_execution\n",
      "    data[k] = Actor(type(self.state.actors[k]), self.address, k, self)\n",
      "KeyError: 'apply_func-3710b00b-3ef1-4c6e-a271-e74364128b2d'\n",
      "2023-03-21 22:44:58,876 - distributed.worker - ERROR - Exception during execution of task lambda-eda567f5b4e74293d6bb49e78dfcfa24.\n",
      "Traceback (most recent call last):\n",
      "  File \"/opt/conda/lib/python3.10/site-packages/distributed/worker.py\", line 2390, in _prepare_args_for_execution\n",
      "    data[k] = self.data[k]\n",
      "  File \"/opt/conda/lib/python3.10/site-packages/distributed/spill.py\", line 245, in __getitem__\n",
      "    return super().__getitem__(key)\n",
      "  File \"/opt/conda/lib/python3.10/site-packages/zict/buffer.py\", line 108, in __getitem__\n",
      "    raise KeyError(key)\n",
      "KeyError: 'apply_func-c26abaf5-d602-4867-955f-3cf96bc49876'\n",
      "\n",
      "During handling of the above exception, another exception occurred:\n",
      "\n",
      "Traceback (most recent call last):\n",
      "  File \"/opt/conda/lib/python3.10/site-packages/distributed/worker.py\", line 2271, in execute\n",
      "    args2, kwargs2 = self._prepare_args_for_execution(ts, args, kwargs)\n",
      "  File \"/opt/conda/lib/python3.10/site-packages/distributed/worker.py\", line 2394, in _prepare_args_for_execution\n",
      "    data[k] = Actor(type(self.state.actors[k]), self.address, k, self)\n",
      "KeyError: 'apply_func-c26abaf5-d602-4867-955f-3cf96bc49876'\n",
      "2023-03-21 22:45:00,063 - distributed.worker - ERROR - Exception during execution of task lambda-bf19b4dc75ec9a8e97390361b9c1362d.\n",
      "Traceback (most recent call last):\n",
      "  File \"/opt/conda/lib/python3.10/site-packages/distributed/worker.py\", line 2390, in _prepare_args_for_execution\n",
      "    data[k] = self.data[k]\n",
      "  File \"/opt/conda/lib/python3.10/site-packages/distributed/spill.py\", line 245, in __getitem__\n",
      "    return super().__getitem__(key)\n",
      "  File \"/opt/conda/lib/python3.10/site-packages/zict/buffer.py\", line 108, in __getitem__\n",
      "    raise KeyError(key)\n",
      "KeyError: 'apply_func-ca2e9cba-7405-4b5a-b266-05f3b9299a5e'\n",
      "\n",
      "During handling of the above exception, another exception occurred:\n",
      "\n",
      "Traceback (most recent call last):\n",
      "  File \"/opt/conda/lib/python3.10/site-packages/distributed/worker.py\", line 2271, in execute\n",
      "    args2, kwargs2 = self._prepare_args_for_execution(ts, args, kwargs)\n",
      "  File \"/opt/conda/lib/python3.10/site-packages/distributed/worker.py\", line 2394, in _prepare_args_for_execution\n",
      "    data[k] = Actor(type(self.state.actors[k]), self.address, k, self)\n",
      "KeyError: 'apply_func-ca2e9cba-7405-4b5a-b266-05f3b9299a5e'\n",
      "2023-03-21 22:45:00,121 - distributed.worker - ERROR - Exception during execution of task lambda-9e5df27d2a71997709564a36e93ef392.\n",
      "Traceback (most recent call last):\n",
      "  File \"/opt/conda/lib/python3.10/site-packages/distributed/worker.py\", line 2390, in _prepare_args_for_execution\n",
      "    data[k] = self.data[k]\n",
      "  File \"/opt/conda/lib/python3.10/site-packages/distributed/spill.py\", line 245, in __getitem__\n",
      "    return super().__getitem__(key)\n",
      "  File \"/opt/conda/lib/python3.10/site-packages/zict/buffer.py\", line 108, in __getitem__\n",
      "    raise KeyError(key)\n",
      "KeyError: 'apply_func-0e91f944-61d5-45fc-bcee-e4361a3cfe27'\n",
      "\n",
      "During handling of the above exception, another exception occurred:\n",
      "\n",
      "Traceback (most recent call last):\n",
      "  File \"/opt/conda/lib/python3.10/site-packages/distributed/worker.py\", line 2271, in execute\n",
      "    args2, kwargs2 = self._prepare_args_for_execution(ts, args, kwargs)\n",
      "  File \"/opt/conda/lib/python3.10/site-packages/distributed/worker.py\", line 2394, in _prepare_args_for_execution\n",
      "    data[k] = Actor(type(self.state.actors[k]), self.address, k, self)\n",
      "KeyError: 'apply_func-0e91f944-61d5-45fc-bcee-e4361a3cfe27'\n",
      "2023-03-21 22:45:02,857 - distributed.worker - ERROR - Exception during execution of task lambda-8da1add60427af8beb6ec4b94e2cee6b.\n",
      "Traceback (most recent call last):\n",
      "  File \"/opt/conda/lib/python3.10/site-packages/distributed/worker.py\", line 2390, in _prepare_args_for_execution\n",
      "    data[k] = self.data[k]\n",
      "  File \"/opt/conda/lib/python3.10/site-packages/distributed/spill.py\", line 245, in __getitem__\n",
      "    return super().__getitem__(key)\n",
      "  File \"/opt/conda/lib/python3.10/site-packages/zict/buffer.py\", line 108, in __getitem__\n",
      "    raise KeyError(key)\n",
      "KeyError: 'apply_func-49e0388d-4ef5-4b71-b3b9-32ebc0eac481'\n",
      "\n",
      "During handling of the above exception, another exception occurred:\n",
      "\n",
      "Traceback (most recent call last):\n",
      "  File \"/opt/conda/lib/python3.10/site-packages/distributed/worker.py\", line 2271, in execute\n",
      "    args2, kwargs2 = self._prepare_args_for_execution(ts, args, kwargs)\n",
      "  File \"/opt/conda/lib/python3.10/site-packages/distributed/worker.py\", line 2394, in _prepare_args_for_execution\n",
      "    data[k] = Actor(type(self.state.actors[k]), self.address, k, self)\n",
      "KeyError: 'apply_func-49e0388d-4ef5-4b71-b3b9-32ebc0eac481'\n",
      "2023-03-21 22:45:03,360 - distributed.worker - ERROR - Exception during execution of task lambda-607899611a85079eedad2c3c7c44c963.\n",
      "Traceback (most recent call last):\n",
      "  File \"/opt/conda/lib/python3.10/site-packages/distributed/worker.py\", line 2390, in _prepare_args_for_execution\n",
      "    data[k] = self.data[k]\n",
      "  File \"/opt/conda/lib/python3.10/site-packages/distributed/spill.py\", line 245, in __getitem__\n",
      "    return super().__getitem__(key)\n",
      "  File \"/opt/conda/lib/python3.10/site-packages/zict/buffer.py\", line 108, in __getitem__\n",
      "    raise KeyError(key)\n",
      "KeyError: 'apply_func-d3f353af-89d2-4c57-a62d-b74b3d0468fd'\n",
      "\n",
      "During handling of the above exception, another exception occurred:\n",
      "\n",
      "Traceback (most recent call last):\n",
      "  File \"/opt/conda/lib/python3.10/site-packages/distributed/worker.py\", line 2271, in execute\n",
      "    args2, kwargs2 = self._prepare_args_for_execution(ts, args, kwargs)\n",
      "  File \"/opt/conda/lib/python3.10/site-packages/distributed/worker.py\", line 2394, in _prepare_args_for_execution\n",
      "    data[k] = Actor(type(self.state.actors[k]), self.address, k, self)\n",
      "KeyError: 'apply_func-d3f353af-89d2-4c57-a62d-b74b3d0468fd'\n",
      "2023-03-21 22:45:03,513 - distributed.worker - ERROR - Exception during execution of task lambda-88fa2c1d3f095768f0227f527a5d05c8.\n",
      "Traceback (most recent call last):\n",
      "  File \"/opt/conda/lib/python3.10/site-packages/distributed/worker.py\", line 2390, in _prepare_args_for_execution\n",
      "    data[k] = self.data[k]\n",
      "  File \"/opt/conda/lib/python3.10/site-packages/distributed/spill.py\", line 245, in __getitem__\n",
      "    return super().__getitem__(key)\n",
      "  File \"/opt/conda/lib/python3.10/site-packages/zict/buffer.py\", line 108, in __getitem__\n",
      "    raise KeyError(key)\n",
      "KeyError: 'apply_func-eb100d49-bb9e-4042-9f0d-1bd9a41c571f'\n",
      "\n",
      "During handling of the above exception, another exception occurred:\n",
      "\n",
      "Traceback (most recent call last):\n",
      "  File \"/opt/conda/lib/python3.10/site-packages/distributed/worker.py\", line 2271, in execute\n",
      "    args2, kwargs2 = self._prepare_args_for_execution(ts, args, kwargs)\n",
      "  File \"/opt/conda/lib/python3.10/site-packages/distributed/worker.py\", line 2394, in _prepare_args_for_execution\n",
      "    data[k] = Actor(type(self.state.actors[k]), self.address, k, self)\n",
      "KeyError: 'apply_func-eb100d49-bb9e-4042-9f0d-1bd9a41c571f'\n",
      "2023-03-21 22:45:03,566 - distributed.worker - ERROR - Exception during execution of task lambda-6304f9011483824011c856eb9f5b8402.\n",
      "Traceback (most recent call last):\n",
      "  File \"/opt/conda/lib/python3.10/site-packages/distributed/worker.py\", line 2390, in _prepare_args_for_execution\n",
      "    data[k] = self.data[k]\n",
      "  File \"/opt/conda/lib/python3.10/site-packages/distributed/spill.py\", line 245, in __getitem__\n",
      "    return super().__getitem__(key)\n",
      "  File \"/opt/conda/lib/python3.10/site-packages/zict/buffer.py\", line 108, in __getitem__\n",
      "    raise KeyError(key)\n",
      "KeyError: 'apply_func-b813e4ce-6b03-4475-bc0f-27176b496cb2'\n",
      "\n",
      "During handling of the above exception, another exception occurred:\n",
      "\n",
      "Traceback (most recent call last):\n",
      "  File \"/opt/conda/lib/python3.10/site-packages/distributed/worker.py\", line 2271, in execute\n",
      "    args2, kwargs2 = self._prepare_args_for_execution(ts, args, kwargs)\n",
      "  File \"/opt/conda/lib/python3.10/site-packages/distributed/worker.py\", line 2394, in _prepare_args_for_execution\n",
      "    data[k] = Actor(type(self.state.actors[k]), self.address, k, self)\n",
      "KeyError: 'apply_func-b813e4ce-6b03-4475-bc0f-27176b496cb2'\n",
      "2023-03-21 22:45:05,578 - distributed.worker - ERROR - Exception during execution of task lambda-12383ebafed1a96c69eb91eb4ef346e8.\n",
      "Traceback (most recent call last):\n",
      "  File \"/opt/conda/lib/python3.10/site-packages/distributed/worker.py\", line 2390, in _prepare_args_for_execution\n",
      "    data[k] = self.data[k]\n",
      "  File \"/opt/conda/lib/python3.10/site-packages/distributed/spill.py\", line 245, in __getitem__\n",
      "    return super().__getitem__(key)\n",
      "  File \"/opt/conda/lib/python3.10/site-packages/zict/buffer.py\", line 108, in __getitem__\n",
      "    raise KeyError(key)\n",
      "KeyError: 'apply_func-a283df7f-967d-4fea-a6bb-2b308212f97c'\n",
      "\n",
      "During handling of the above exception, another exception occurred:\n",
      "\n",
      "Traceback (most recent call last):\n",
      "  File \"/opt/conda/lib/python3.10/site-packages/distributed/worker.py\", line 2271, in execute\n",
      "    args2, kwargs2 = self._prepare_args_for_execution(ts, args, kwargs)\n",
      "  File \"/opt/conda/lib/python3.10/site-packages/distributed/worker.py\", line 2394, in _prepare_args_for_execution\n",
      "    data[k] = Actor(type(self.state.actors[k]), self.address, k, self)\n",
      "KeyError: 'apply_func-a283df7f-967d-4fea-a6bb-2b308212f97c'\n",
      "2023-03-21 22:45:05,613 - distributed.worker - ERROR - Exception during execution of task lambda-029802a5deaf70b76367a31b9dbb6855.\n",
      "Traceback (most recent call last):\n",
      "  File \"/opt/conda/lib/python3.10/site-packages/distributed/worker.py\", line 2390, in _prepare_args_for_execution\n",
      "    data[k] = self.data[k]\n",
      "  File \"/opt/conda/lib/python3.10/site-packages/distributed/spill.py\", line 245, in __getitem__\n",
      "    return super().__getitem__(key)\n",
      "  File \"/opt/conda/lib/python3.10/site-packages/zict/buffer.py\", line 108, in __getitem__\n",
      "    raise KeyError(key)\n",
      "KeyError: 'apply_func-bb7ac215-d917-43b6-9eb1-8e9f024466af'\n",
      "\n",
      "During handling of the above exception, another exception occurred:\n",
      "\n",
      "Traceback (most recent call last):\n",
      "  File \"/opt/conda/lib/python3.10/site-packages/distributed/worker.py\", line 2271, in execute\n",
      "    args2, kwargs2 = self._prepare_args_for_execution(ts, args, kwargs)\n",
      "  File \"/opt/conda/lib/python3.10/site-packages/distributed/worker.py\", line 2394, in _prepare_args_for_execution\n",
      "    data[k] = Actor(type(self.state.actors[k]), self.address, k, self)\n",
      "KeyError: 'apply_func-bb7ac215-d917-43b6-9eb1-8e9f024466af'\n",
      "2023-03-21 22:45:05,769 - distributed.worker - ERROR - Exception during execution of task lambda-0ef59b2a7dc940a92e536f88bfc98d0f.\n",
      "Traceback (most recent call last):\n",
      "  File \"/opt/conda/lib/python3.10/site-packages/distributed/worker.py\", line 2390, in _prepare_args_for_execution\n",
      "    data[k] = self.data[k]\n",
      "  File \"/opt/conda/lib/python3.10/site-packages/distributed/spill.py\", line 245, in __getitem__\n",
      "    return super().__getitem__(key)\n",
      "  File \"/opt/conda/lib/python3.10/site-packages/zict/buffer.py\", line 108, in __getitem__\n",
      "    raise KeyError(key)\n",
      "KeyError: 'apply_func-96ca5ff7-e65d-4181-83e1-30bdfc02cd8e'\n",
      "\n",
      "During handling of the above exception, another exception occurred:\n",
      "\n",
      "Traceback (most recent call last):\n",
      "  File \"/opt/conda/lib/python3.10/site-packages/distributed/worker.py\", line 2271, in execute\n",
      "    args2, kwargs2 = self._prepare_args_for_execution(ts, args, kwargs)\n",
      "  File \"/opt/conda/lib/python3.10/site-packages/distributed/worker.py\", line 2394, in _prepare_args_for_execution\n",
      "    data[k] = Actor(type(self.state.actors[k]), self.address, k, self)\n",
      "KeyError: 'apply_func-96ca5ff7-e65d-4181-83e1-30bdfc02cd8e'\n",
      "2023-03-21 22:45:05,957 - distributed.worker - ERROR - Exception during execution of task lambda-6c83413145a086e80489845a4ee113e2.\n",
      "Traceback (most recent call last):\n",
      "  File \"/opt/conda/lib/python3.10/site-packages/distributed/worker.py\", line 2390, in _prepare_args_for_execution\n",
      "    data[k] = self.data[k]\n",
      "  File \"/opt/conda/lib/python3.10/site-packages/distributed/spill.py\", line 245, in __getitem__\n",
      "    return super().__getitem__(key)\n",
      "  File \"/opt/conda/lib/python3.10/site-packages/zict/buffer.py\", line 108, in __getitem__\n",
      "    raise KeyError(key)\n",
      "KeyError: 'apply_func-a79334c6-9dca-4a47-9b85-21eb3c2c44b2'\n",
      "\n",
      "During handling of the above exception, another exception occurred:\n",
      "\n",
      "Traceback (most recent call last):\n",
      "  File \"/opt/conda/lib/python3.10/site-packages/distributed/worker.py\", line 2271, in execute\n",
      "    args2, kwargs2 = self._prepare_args_for_execution(ts, args, kwargs)\n",
      "  File \"/opt/conda/lib/python3.10/site-packages/distributed/worker.py\", line 2394, in _prepare_args_for_execution\n",
      "    data[k] = Actor(type(self.state.actors[k]), self.address, k, self)\n",
      "KeyError: 'apply_func-a79334c6-9dca-4a47-9b85-21eb3c2c44b2'\n",
      "2023-03-21 22:45:13,426 - distributed.worker - ERROR - Exception during execution of task lambda-3f14a03002a6079b1d4a5f8d7c3d9a07.\n",
      "Traceback (most recent call last):\n",
      "  File \"/opt/conda/lib/python3.10/site-packages/distributed/worker.py\", line 2390, in _prepare_args_for_execution\n",
      "    data[k] = self.data[k]\n",
      "  File \"/opt/conda/lib/python3.10/site-packages/distributed/spill.py\", line 245, in __getitem__\n",
      "    return super().__getitem__(key)\n",
      "  File \"/opt/conda/lib/python3.10/site-packages/zict/buffer.py\", line 108, in __getitem__\n",
      "    raise KeyError(key)\n",
      "KeyError: 'apply_func-418b9fee-9ef0-4d84-a786-354c7509e6c1'\n",
      "\n",
      "During handling of the above exception, another exception occurred:\n",
      "\n",
      "Traceback (most recent call last):\n",
      "  File \"/opt/conda/lib/python3.10/site-packages/distributed/worker.py\", line 2271, in execute\n",
      "    args2, kwargs2 = self._prepare_args_for_execution(ts, args, kwargs)\n",
      "  File \"/opt/conda/lib/python3.10/site-packages/distributed/worker.py\", line 2394, in _prepare_args_for_execution\n",
      "    data[k] = Actor(type(self.state.actors[k]), self.address, k, self)\n",
      "KeyError: 'apply_func-418b9fee-9ef0-4d84-a786-354c7509e6c1'\n",
      "2023-03-21 22:45:17,430 - distributed.worker - ERROR - Exception during execution of task lambda-4de5cbafb485663f7cea7fa537f2d143.\n",
      "Traceback (most recent call last):\n",
      "  File \"/opt/conda/lib/python3.10/site-packages/distributed/worker.py\", line 2390, in _prepare_args_for_execution\n",
      "    data[k] = self.data[k]\n",
      "  File \"/opt/conda/lib/python3.10/site-packages/distributed/spill.py\", line 245, in __getitem__\n",
      "    return super().__getitem__(key)\n",
      "  File \"/opt/conda/lib/python3.10/site-packages/zict/buffer.py\", line 108, in __getitem__\n",
      "    raise KeyError(key)\n",
      "KeyError: 'apply_func-98f23da2-d02f-426d-866c-ab7e1735ff3c'\n",
      "\n",
      "During handling of the above exception, another exception occurred:\n",
      "\n",
      "Traceback (most recent call last):\n",
      "  File \"/opt/conda/lib/python3.10/site-packages/distributed/worker.py\", line 2271, in execute\n",
      "    args2, kwargs2 = self._prepare_args_for_execution(ts, args, kwargs)\n",
      "  File \"/opt/conda/lib/python3.10/site-packages/distributed/worker.py\", line 2394, in _prepare_args_for_execution\n",
      "    data[k] = Actor(type(self.state.actors[k]), self.address, k, self)\n",
      "KeyError: 'apply_func-98f23da2-d02f-426d-866c-ab7e1735ff3c'\n",
      "2023-03-21 22:45:17,612 - distributed.worker - ERROR - Exception during execution of task lambda-18fbb16875dd9d495087078d89836f02.\n",
      "Traceback (most recent call last):\n",
      "  File \"/opt/conda/lib/python3.10/site-packages/distributed/worker.py\", line 2390, in _prepare_args_for_execution\n",
      "    data[k] = self.data[k]\n",
      "  File \"/opt/conda/lib/python3.10/site-packages/distributed/spill.py\", line 245, in __getitem__\n",
      "    return super().__getitem__(key)\n",
      "  File \"/opt/conda/lib/python3.10/site-packages/zict/buffer.py\", line 108, in __getitem__\n",
      "    raise KeyError(key)\n",
      "KeyError: 'apply_func-21e063de-2ff1-435c-884f-0d3c417b1114'\n",
      "\n",
      "During handling of the above exception, another exception occurred:\n",
      "\n",
      "Traceback (most recent call last):\n",
      "  File \"/opt/conda/lib/python3.10/site-packages/distributed/worker.py\", line 2271, in execute\n",
      "    args2, kwargs2 = self._prepare_args_for_execution(ts, args, kwargs)\n",
      "  File \"/opt/conda/lib/python3.10/site-packages/distributed/worker.py\", line 2394, in _prepare_args_for_execution\n",
      "    data[k] = Actor(type(self.state.actors[k]), self.address, k, self)\n",
      "KeyError: 'apply_func-21e063de-2ff1-435c-884f-0d3c417b1114'\n",
      "2023-03-21 22:45:18,423 - distributed.worker - ERROR - Exception during execution of task lambda-f51aec69ad33a83d85704cc9e6470002.\n",
      "Traceback (most recent call last):\n",
      "  File \"/opt/conda/lib/python3.10/site-packages/distributed/worker.py\", line 2390, in _prepare_args_for_execution\n",
      "    data[k] = self.data[k]\n",
      "  File \"/opt/conda/lib/python3.10/site-packages/distributed/spill.py\", line 245, in __getitem__\n",
      "    return super().__getitem__(key)\n",
      "  File \"/opt/conda/lib/python3.10/site-packages/zict/buffer.py\", line 108, in __getitem__\n",
      "    raise KeyError(key)\n",
      "KeyError: 'apply_func-021c7520-e1ee-4393-856a-ca31e21205ae'\n",
      "\n",
      "During handling of the above exception, another exception occurred:\n",
      "\n",
      "Traceback (most recent call last):\n",
      "  File \"/opt/conda/lib/python3.10/site-packages/distributed/worker.py\", line 2271, in execute\n",
      "    args2, kwargs2 = self._prepare_args_for_execution(ts, args, kwargs)\n",
      "  File \"/opt/conda/lib/python3.10/site-packages/distributed/worker.py\", line 2394, in _prepare_args_for_execution\n",
      "    data[k] = Actor(type(self.state.actors[k]), self.address, k, self)\n",
      "KeyError: 'apply_func-021c7520-e1ee-4393-856a-ca31e21205ae'\n",
      "2023-03-21 22:45:21,026 - distributed.worker - ERROR - Exception during execution of task lambda-c98881169302f930c704e46d5aa4aeff.\n",
      "Traceback (most recent call last):\n",
      "  File \"/opt/conda/lib/python3.10/site-packages/distributed/worker.py\", line 2390, in _prepare_args_for_execution\n",
      "    data[k] = self.data[k]\n",
      "  File \"/opt/conda/lib/python3.10/site-packages/distributed/spill.py\", line 245, in __getitem__\n",
      "    return super().__getitem__(key)\n",
      "  File \"/opt/conda/lib/python3.10/site-packages/zict/buffer.py\", line 108, in __getitem__\n",
      "    raise KeyError(key)\n",
      "KeyError: 'apply_func-0ae40085-e903-4420-948a-6feabe5b0cdc'\n",
      "\n",
      "During handling of the above exception, another exception occurred:\n",
      "\n",
      "Traceback (most recent call last):\n",
      "  File \"/opt/conda/lib/python3.10/site-packages/distributed/worker.py\", line 2271, in execute\n",
      "    args2, kwargs2 = self._prepare_args_for_execution(ts, args, kwargs)\n",
      "  File \"/opt/conda/lib/python3.10/site-packages/distributed/worker.py\", line 2394, in _prepare_args_for_execution\n",
      "    data[k] = Actor(type(self.state.actors[k]), self.address, k, self)\n",
      "KeyError: 'apply_func-0ae40085-e903-4420-948a-6feabe5b0cdc'\n",
      "2023-03-21 22:45:21,139 - distributed.worker - ERROR - Exception during execution of task lambda-18a847939af03b7f22fa5a197f704507.\n",
      "Traceback (most recent call last):\n",
      "  File \"/opt/conda/lib/python3.10/site-packages/distributed/worker.py\", line 2390, in _prepare_args_for_execution\n",
      "    data[k] = self.data[k]\n",
      "  File \"/opt/conda/lib/python3.10/site-packages/distributed/spill.py\", line 245, in __getitem__\n",
      "    return super().__getitem__(key)\n",
      "  File \"/opt/conda/lib/python3.10/site-packages/zict/buffer.py\", line 108, in __getitem__\n",
      "    raise KeyError(key)\n",
      "KeyError: 'apply_func-8caa1fbe-914d-4c05-b3e8-b3bbb774809b'\n",
      "\n",
      "During handling of the above exception, another exception occurred:\n",
      "\n",
      "Traceback (most recent call last):\n",
      "  File \"/opt/conda/lib/python3.10/site-packages/distributed/worker.py\", line 2271, in execute\n",
      "    args2, kwargs2 = self._prepare_args_for_execution(ts, args, kwargs)\n",
      "  File \"/opt/conda/lib/python3.10/site-packages/distributed/worker.py\", line 2394, in _prepare_args_for_execution\n",
      "    data[k] = Actor(type(self.state.actors[k]), self.address, k, self)\n",
      "KeyError: 'apply_func-8caa1fbe-914d-4c05-b3e8-b3bbb774809b'\n",
      "2023-03-21 22:45:23,068 - distributed.worker - ERROR - Exception during execution of task lambda-6fd36c533151fbaf3806a8e00ad52a03.\n",
      "Traceback (most recent call last):\n",
      "  File \"/opt/conda/lib/python3.10/site-packages/distributed/worker.py\", line 2390, in _prepare_args_for_execution\n",
      "    data[k] = self.data[k]\n",
      "  File \"/opt/conda/lib/python3.10/site-packages/distributed/spill.py\", line 245, in __getitem__\n",
      "    return super().__getitem__(key)\n",
      "  File \"/opt/conda/lib/python3.10/site-packages/zict/buffer.py\", line 108, in __getitem__\n",
      "    raise KeyError(key)\n",
      "KeyError: 'apply_func-45856c64-a589-4802-9b72-5357cb3fe3e5'\n",
      "\n",
      "During handling of the above exception, another exception occurred:\n",
      "\n",
      "Traceback (most recent call last):\n",
      "  File \"/opt/conda/lib/python3.10/site-packages/distributed/worker.py\", line 2271, in execute\n",
      "    args2, kwargs2 = self._prepare_args_for_execution(ts, args, kwargs)\n",
      "  File \"/opt/conda/lib/python3.10/site-packages/distributed/worker.py\", line 2394, in _prepare_args_for_execution\n",
      "    data[k] = Actor(type(self.state.actors[k]), self.address, k, self)\n",
      "KeyError: 'apply_func-45856c64-a589-4802-9b72-5357cb3fe3e5'\n"
     ]
    }
   ],
   "source": [
    "gen_p_sig = filter_significant_flows(gen_p)\n",
    "real_doh_p_sig = filter_significant_flows(real_doh_p)\n",
    "real_https_p_sig = filter_significant_flows(real_https_p)"
   ]
  },
  {
   "cell_type": "code",
   "execution_count": 12,
   "id": "55362e90-fd7d-40e3-9abc-af7a4221cb80",
   "metadata": {
    "execution": {
     "iopub.execute_input": "2023-03-21T22:45:26.105162Z",
     "iopub.status.busy": "2023-03-21T22:45:26.104989Z",
     "iopub.status.idle": "2023-03-21T22:45:28.407480Z",
     "shell.execute_reply": "2023-03-21T22:45:28.406914Z",
     "shell.execute_reply.started": "2023-03-21T22:45:26.105147Z"
    },
    "tags": []
   },
   "outputs": [
    {
     "name": "stderr",
     "output_type": "stream",
     "text": [
      "UserWarning: Distributing <class 'dict'> object. This may take some time.\n",
      "UserWarning: Distributing <class 'dict'> object. This may take some time.\n"
     ]
    },
    {
     "data": {
      "text/plain": [
       "[]"
      ]
     },
     "execution_count": 12,
     "metadata": {},
     "output_type": "execute_result"
    },
    {
     "data": {
      "image/png": "[encoded data removed]",
      "text/plain": [
       "<Figure size 1200x400 with 2 Axes>"
      ]
     },
     "metadata": {},
     "output_type": "display_data"
    }
   ],
   "source": [
    "import matplotlib.pyplot as plt\n",
    "\n",
    "fig, axs = plt.subplots(ncols=2, figsize=(12, 4))\n",
    "\n",
    "pd.DataFrame(\n",
    "    {\n",
    "        \"Rows\": [len(gen_p), len(real_doh_p), len(real_https_p)],\n",
    "        \"Dataset\": [\n",
    "            f\"Generated {len(gen_p)}\", \n",
    "            f\"Real-world DoH {len(real_doh_p)}\", \n",
    "            f\"Real-world HTTPS {len(real_https_p)}\",\n",
    "        ]\n",
    "    }\n",
    ").set_index(\"Dataset\")[\"Rows\"].plot(kind=\"pie\", ax=axs[0])\n",
    "\n",
    "pd.DataFrame(\n",
    "    {\n",
    "        \"Rows\": [len(gen_p_sig), len(real_doh_p_sig), len(real_https_p_sig)],\n",
    "        \"Dataset\": [\n",
    "            f\"Generated {len(gen_p_sig)}\", \n",
    "            f\"Real-world DoH {len(real_doh_p_sig)}\", \n",
    "            f\"Real-world HTTPS {len(real_https_p_sig)}\",\n",
    "        ]\n",
    "    }\n",
    ").set_index(\"Dataset\")[\"Rows\"].plot(kind=\"pie\", ax=axs[1])\n",
    "plt.plot()"
   ]
  },
  {
   "cell_type": "code",
   "execution_count": 13,
   "id": "1095eed5-d53f-4cee-a0e5-d8375c0bad76",
   "metadata": {
    "execution": {
     "iopub.execute_input": "2023-03-21T22:46:03.868875Z",
     "iopub.status.busy": "2023-03-21T22:46:03.868119Z",
     "iopub.status.idle": "2023-03-21T22:46:13.198756Z",
     "shell.execute_reply": "2023-03-21T22:46:13.198213Z",
     "shell.execute_reply.started": "2023-03-21T22:46:03.868855Z"
    },
    "tags": []
   },
   "outputs": [
    {
     "name": "stderr",
     "output_type": "stream",
     "text": [
      "2023-03-21 22:46:09,152 - distributed.worker - WARNING - Could not find data: {'function-6cbc3f5698594c2ab963acf5ae3a5990': ['tcp://127.0.0.1:45285', 'tcp://127.0.0.1:37833', 'tcp://127.0.0.1:37331', 'tcp://127.0.0.1:36057', 'tcp://127.0.0.1:46163', 'tcp://127.0.0.1:36477', 'tcp://127.0.0.1:35575', 'tcp://127.0.0.1:41017', 'tcp://127.0.0.1:38105', 'tcp://127.0.0.1:41825', 'tcp://127.0.0.1:38593', 'tcp://127.0.0.1:36669', 'tcp://127.0.0.1:40285', 'tcp://127.0.0.1:35743', 'tcp://127.0.0.1:35473', 'tcp://127.0.0.1:34309', 'tcp://127.0.0.1:38927', 'tcp://127.0.0.1:33591', 'tcp://127.0.0.1:43009', 'tcp://127.0.0.1:35231', 'tcp://127.0.0.1:37335', 'tcp://127.0.0.1:40997', 'tcp://127.0.0.1:34073', 'tcp://127.0.0.1:42707', 'tcp://127.0.0.1:34151', 'tcp://127.0.0.1:33243', 'tcp://127.0.0.1:38507']} on workers: [] (who_has: {'function-6cbc3f5698594c2ab963acf5ae3a5990': ['tcp://127.0.0.1:45285', 'tcp://127.0.0.1:37833', 'tcp://127.0.0.1:37331', 'tcp://127.0.0.1:36057', 'tcp://127.0.0.1:46163', 'tcp://127.0.0.1:36477', 'tcp://127.0.0.1:35575', 'tcp://127.0.0.1:41017', 'tcp://127.0.0.1:38105', 'tcp://127.0.0.1:41825', 'tcp://127.0.0.1:38593', 'tcp://127.0.0.1:36669', 'tcp://127.0.0.1:40285', 'tcp://127.0.0.1:35743', 'tcp://127.0.0.1:35473', 'tcp://127.0.0.1:34309', 'tcp://127.0.0.1:38927', 'tcp://127.0.0.1:33591', 'tcp://127.0.0.1:43009', 'tcp://127.0.0.1:35231', 'tcp://127.0.0.1:37335', 'tcp://127.0.0.1:40997', 'tcp://127.0.0.1:34073', 'tcp://127.0.0.1:42707', 'tcp://127.0.0.1:34151', 'tcp://127.0.0.1:33243', 'tcp://127.0.0.1:38507']})\n",
      "2023-03-21 22:46:09,153 - distributed.scheduler - WARNING - Worker tcp://127.0.0.1:35933 failed to acquire keys: {'function-6cbc3f5698594c2ab963acf5ae3a5990': ('tcp://127.0.0.1:45285', 'tcp://127.0.0.1:37833', 'tcp://127.0.0.1:37331', 'tcp://127.0.0.1:36057', 'tcp://127.0.0.1:46163', 'tcp://127.0.0.1:36477', 'tcp://127.0.0.1:35575', 'tcp://127.0.0.1:41017', 'tcp://127.0.0.1:38105', 'tcp://127.0.0.1:41825', 'tcp://127.0.0.1:38593', 'tcp://127.0.0.1:36669', 'tcp://127.0.0.1:40285', 'tcp://127.0.0.1:35743', 'tcp://127.0.0.1:35473', 'tcp://127.0.0.1:34309', 'tcp://127.0.0.1:38927', 'tcp://127.0.0.1:33591', 'tcp://127.0.0.1:43009', 'tcp://127.0.0.1:35231', 'tcp://127.0.0.1:37335', 'tcp://127.0.0.1:40997', 'tcp://127.0.0.1:34073', 'tcp://127.0.0.1:42707', 'tcp://127.0.0.1:34151', 'tcp://127.0.0.1:33243', 'tcp://127.0.0.1:38507')}\n",
      "2023-03-21 22:46:11,128 - distributed.utils_perf - WARNING - full garbage collections took 14% CPU time recently (threshold: 10%)\n"
     ]
    },
    {
     "data": {
      "text/plain": [
       "350000"
      ]
     },
     "execution_count": 13,
     "metadata": {},
     "output_type": "execute_result"
    }
   ],
   "source": [
    "gen_s = gen_p_sig.sample(n=150000, random_state=42)\n",
    "real_doh_s = real_doh_p_sig.sample(n=125000, random_state=42)\n",
    "real_https_s = real_https_p_sig.sample(n=75000, random_state=42)\n",
    "mix_p = pd.concat([\n",
    "    gen_s,\n",
    "    real_doh_s,\n",
    "    real_https_s,\n",
    "]).reset_index(drop=True)\n",
    "len(mix_p)"
   ]
  },
  {
   "cell_type": "code",
   "execution_count": 14,
   "id": "5630f03e-2821-4d66-a080-1583286619e3",
   "metadata": {
    "execution": {
     "iopub.execute_input": "2023-03-21T22:46:36.536468Z",
     "iopub.status.busy": "2023-03-21T22:46:36.535662Z",
     "iopub.status.idle": "2023-03-21T22:46:36.698259Z",
     "shell.execute_reply": "2023-03-21T22:46:36.697604Z",
     "shell.execute_reply.started": "2023-03-21T22:46:36.536447Z"
    },
    "tags": []
   },
   "outputs": [
    {
     "name": "stderr",
     "output_type": "stream",
     "text": [
      "UserWarning: Distributing <class 'dict'> object. This may take some time.\n"
     ]
    },
    {
     "data": {
      "text/plain": [
       "[]"
      ]
     },
     "execution_count": 14,
     "metadata": {},
     "output_type": "execute_result"
    },
    {
     "data": {
      "image/png": "[encoded data removed]",
      "text/plain": [
       "<Figure size 640x480 with 1 Axes>"
      ]
     },
     "metadata": {},
     "output_type": "display_data"
    }
   ],
   "source": [
    "import matplotlib.pyplot as plt\n",
    "pd.DataFrame(\n",
    "    {\n",
    "        \"Rows\": [len(gen_s), len(real_doh_s), len(real_https_s)],\n",
    "        \"Dataset\": [\n",
    "            f\"Generated {len(gen_s)}\", \n",
    "            f\"Real-world DoH {len(real_doh_s)}\", \n",
    "            f\"Real-world HTTPS {len(real_https_s)}\",\n",
    "        ]\n",
    "    }\n",
    ").set_index(\"Dataset\")[\"Rows\"].plot(kind=\"pie\")\n",
    "plt.plot()"
   ]
  },
  {
   "cell_type": "code",
   "execution_count": 15,
   "id": "4e232748-aae4-4bb3-b1e2-8c0091084fef",
   "metadata": {
    "execution": {
     "iopub.execute_input": "2023-03-21T22:46:42.437701Z",
     "iopub.status.busy": "2023-03-21T22:46:42.437457Z",
     "iopub.status.idle": "2023-03-21T22:47:18.865132Z",
     "shell.execute_reply": "2023-03-21T22:47:18.864402Z",
     "shell.execute_reply.started": "2023-03-21T22:46:42.437684Z"
    },
    "tags": []
   },
   "outputs": [
    {
     "name": "stderr",
     "output_type": "stream",
     "text": [
      "UserWarning: `DataFrame.to_feather` is not currently supported by PandasOnDask, defaulting to pandas implementation.\n",
      "2023-03-21 22:46:49,859 - distributed.utils_perf - WARNING - full garbage collections took 14% CPU time recently (threshold: 10%)\n",
      "2023-03-21 22:46:50,416 - distributed.utils_perf - WARNING - full garbage collections took 14% CPU time recently (threshold: 10%)\n",
      "2023-03-21 22:46:51,184 - distributed.utils_perf - WARNING - full garbage collections took 14% CPU time recently (threshold: 10%)\n",
      "2023-03-21 22:46:52,114 - distributed.utils_perf - WARNING - full garbage collections took 14% CPU time recently (threshold: 10%)\n",
      "2023-03-21 22:46:53,120 - distributed.utils_perf - WARNING - full garbage collections took 14% CPU time recently (threshold: 10%)\n",
      "2023-03-21 22:46:54,326 - distributed.utils_perf - WARNING - full garbage collections took 14% CPU time recently (threshold: 10%)\n",
      "2023-03-21 22:46:55,745 - distributed.utils_perf - WARNING - full garbage collections took 14% CPU time recently (threshold: 10%)\n",
      "UserWarning: Distributing <class 'pandas.core.frame.DataFrame'> object. This may take some time.\n"
     ]
    },
    {
     "data": {
      "text/plain": [
       "350000"
      ]
     },
     "execution_count": 15,
     "metadata": {},
     "output_type": "execute_result"
    }
   ],
   "source": [
    "mix_p.to_feather(f\"cached/mixed.p1.{p1version}.saved\")\n",
    "mix_p = pd.read_feather(f\"cached/mixed.p1.{p1version}.saved\")\n",
    "len(mix_p)"
   ]
  },
  {
   "cell_type": "code",
   "execution_count": 16,
   "id": "13c17765-ed1f-41f5-87be-c46e3eae35ba",
   "metadata": {
    "execution": {
     "iopub.execute_input": "2023-03-21T22:47:18.866666Z",
     "iopub.status.busy": "2023-03-21T22:47:18.866498Z",
     "iopub.status.idle": "2023-03-21T22:48:02.030003Z",
     "shell.execute_reply": "2023-03-21T22:48:02.029318Z",
     "shell.execute_reply.started": "2023-03-21T22:47:18.866651Z"
    },
    "tags": []
   },
   "outputs": [
    {
     "name": "stderr",
     "output_type": "stream",
     "text": [
      "2023-03-21 22:47:23,955 - distributed.utils_perf - WARNING - full garbage collections took 13% CPU time recently (threshold: 10%)\n",
      "2023-03-21 22:47:26,926 - distributed.utils_perf - WARNING - full garbage collections took 11% CPU time recently (threshold: 10%)\n",
      "2023-03-21 22:47:32,747 - distributed.utils_perf - WARNING - full garbage collections took 11% CPU time recently (threshold: 10%)\n",
      "2023-03-21 22:47:37,657 - distributed.utils_perf - WARNING - full garbage collections took 11% CPU time recently (threshold: 10%)\n",
      "2023-03-21 22:47:39,200 - distributed.utils_perf - WARNING - full garbage collections took 11% CPU time recently (threshold: 10%)\n",
      "2023-03-21 22:47:46,550 - distributed.utils_perf - WARNING - full garbage collections took 11% CPU time recently (threshold: 10%)\n",
      "2023-03-21 22:47:48,944 - distributed.utils_perf - WARNING - full garbage collections took 12% CPU time recently (threshold: 10%)\n",
      "2023-03-21 22:47:54,939 - distributed.utils_perf - WARNING - full garbage collections took 12% CPU time recently (threshold: 10%)\n",
      "2023-03-21 22:47:58,406 - distributed.utils_perf - WARNING - full garbage collections took 12% CPU time recently (threshold: 10%)\n",
      "UserWarning: Distributing <class 'int'> object. This may take some time.\n",
      "2023-03-21 22:48:01,391 - distributed.worker - ERROR - Exception during execution of task lambda-23b6d0e44cda81220cb3c8bff65efc61.\n",
      "Traceback (most recent call last):\n",
      "  File \"/opt/conda/lib/python3.10/site-packages/distributed/worker.py\", line 2390, in _prepare_args_for_execution\n",
      "    data[k] = self.data[k]\n",
      "  File \"/opt/conda/lib/python3.10/site-packages/distributed/spill.py\", line 245, in __getitem__\n",
      "    return super().__getitem__(key)\n",
      "  File \"/opt/conda/lib/python3.10/site-packages/zict/buffer.py\", line 108, in __getitem__\n",
      "    raise KeyError(key)\n",
      "KeyError: 'apply_list_of_funcs-8457bb19-335a-4a51-942f-5217201117ec'\n",
      "\n",
      "During handling of the above exception, another exception occurred:\n",
      "\n",
      "Traceback (most recent call last):\n",
      "  File \"/opt/conda/lib/python3.10/site-packages/distributed/worker.py\", line 2271, in execute\n",
      "    args2, kwargs2 = self._prepare_args_for_execution(ts, args, kwargs)\n",
      "  File \"/opt/conda/lib/python3.10/site-packages/distributed/worker.py\", line 2394, in _prepare_args_for_execution\n",
      "    data[k] = Actor(type(self.state.actors[k]), self.address, k, self)\n",
      "KeyError: 'apply_list_of_funcs-8457bb19-335a-4a51-942f-5217201117ec'\n",
      "2023-03-21 22:48:01,466 - distributed.worker - ERROR - Exception during execution of task lambda-a77d491291437601cee72e7e9e2c32c3.\n",
      "Traceback (most recent call last):\n",
      "  File \"/opt/conda/lib/python3.10/site-packages/distributed/worker.py\", line 2390, in _prepare_args_for_execution\n",
      "    data[k] = self.data[k]\n",
      "  File \"/opt/conda/lib/python3.10/site-packages/distributed/spill.py\", line 245, in __getitem__\n",
      "    return super().__getitem__(key)\n",
      "  File \"/opt/conda/lib/python3.10/site-packages/zict/buffer.py\", line 108, in __getitem__\n",
      "    raise KeyError(key)\n",
      "KeyError: 'apply_list_of_funcs-adc584a3-37fa-4196-ac64-b3f134b6ec5a'\n",
      "\n",
      "During handling of the above exception, another exception occurred:\n",
      "\n",
      "Traceback (most recent call last):\n",
      "  File \"/opt/conda/lib/python3.10/site-packages/distributed/worker.py\", line 2271, in execute\n",
      "    args2, kwargs2 = self._prepare_args_for_execution(ts, args, kwargs)\n",
      "  File \"/opt/conda/lib/python3.10/site-packages/distributed/worker.py\", line 2394, in _prepare_args_for_execution\n",
      "    data[k] = Actor(type(self.state.actors[k]), self.address, k, self)\n",
      "KeyError: 'apply_list_of_funcs-adc584a3-37fa-4196-ac64-b3f134b6ec5a'\n"
     ]
    },
    {
     "name": "stdout",
     "output_type": "stream",
     "text": [
      "<class 'modin.pandas.dataframe.DataFrame'>\n",
      "RangeIndex: 350000 entries, 0 to 349999\n",
      "Data columns (total 36 columns):\n",
      " #   Column                      Non-Null Count   Dtype \n",
      "---  --------------------------  ---------------  ----- \n",
      " 0   Unnamed: 0                  350000 non-null  int64\n",
      " 1   ipaddr DST_IP               350000 non-null  object\n",
      " 2   ipaddr SRC_IP               350000 non-null  object\n",
      " 3   uint64 BYTES                350000 non-null  int64\n",
      " 4   uint64 BYTES_REV            350000 non-null  int64\n",
      " 5   uint64 LINK_BIT_FIELD       350000 non-null  int64\n",
      " 6   time TIME_FIRST             350000 non-null  object\n",
      " 7   time TIME_LAST              350000 non-null  object\n",
      " 8   macaddr DST_MAC             350000 non-null  object\n",
      " 9   macaddr SRC_MAC             350000 non-null  object\n",
      " 10  uint32 PACKETS              350000 non-null  int64\n",
      " 11  uint32 PACKETS_REV          350000 non-null  int64\n",
      " 12  uint16 DST_PORT             350000 non-null  int64\n",
      " 13  uint16 SRC_PORT             350000 non-null  int64\n",
      " 14  uint16 TLS_VERSION          350000 non-null  int64\n",
      " 15  uint8 DIR_BIT_FIELD         350000 non-null  int64\n",
      " 16  uint8 PROTOCOL              350000 non-null  int64\n",
      " 17  uint8 TCP_FLAGS             350000 non-null  int64\n",
      " 18  uint8 TCP_FLAGS_REV         350000 non-null  int64\n",
      " 19  int8* PPI_PKT_DIRECTIONS    350000 non-null  object\n",
      " 20  uint8* PPI_PKT_FLAGS        350000 non-null  object\n",
      " 21  string TLS_ALPN             21319 non-null   object\n",
      " 22  bytes TLS_JA3               138455 non-null  object\n",
      " 23  string TLS_SNI              138450 non-null  object\n",
      " 24  uint16* PPI_PKT_LENGTHS     350000 non-null  object\n",
      " 25  uint32* D_PHISTS_IPT        350000 non-null  object\n",
      " 26  uint32* D_PHISTS_SIZES      350000 non-null  object\n",
      " 27  uint32* S_PHISTS_IPT        350000 non-null  object\n",
      " 28  uint32* S_PHISTS_SIZES      350000 non-null  object\n",
      " 29  time* PPI_PKT_TIMES         350000 non-null  object\n",
      " 30  uint16* PPI_PKT_LENGTHS_1   350000 non-null  object\n",
      " 31  uint16* PPI_PKT_LENGTHS_-1  350000 non-null  object\n",
      " 32  PPI_PKT_INTERVALS           350000 non-null  object\n",
      " 33  PPI_PKT_INTERVALS_1         350000 non-null  object\n",
      " 34  PPI_PKT_INTERVALS-1         350000 non-null  object\n",
      " 35  IsDoH                       350000 non-null  bool \n",
      "dtypes: object(22), int64(13), bool(1)\n",
      "memory usage: 93.8 MB\n"
     ]
    }
   ],
   "source": [
    "mix_p.info()"
   ]
  },
  {
   "cell_type": "code",
   "execution_count": 17,
   "id": "1bd71523-7a32-4b68-ab64-877a28f6b831",
   "metadata": {
    "execution": {
     "iopub.execute_input": "2023-03-21T22:48:02.032534Z",
     "iopub.status.busy": "2023-03-21T22:48:02.030778Z",
     "iopub.status.idle": "2023-03-21T22:48:05.056059Z",
     "shell.execute_reply": "2023-03-21T22:48:05.055437Z",
     "shell.execute_reply.started": "2023-03-21T22:48:02.032503Z"
    },
    "tags": []
   },
   "outputs": [
    {
     "name": "stderr",
     "output_type": "stream",
     "text": [
      "2023-03-21 22:48:02,987 - distributed.utils_perf - WARNING - full garbage collections took 12% CPU time recently (threshold: 10%)\n",
      "2023-03-21 22:48:04,462 - distributed.worker - ERROR - Exception during execution of task lambda-34c425b754214321069be9f52b154304.\n",
      "Traceback (most recent call last):\n",
      "  File \"/opt/conda/lib/python3.10/site-packages/distributed/worker.py\", line 2390, in _prepare_args_for_execution\n",
      "    data[k] = self.data[k]\n",
      "  File \"/opt/conda/lib/python3.10/site-packages/distributed/spill.py\", line 245, in __getitem__\n",
      "    return super().__getitem__(key)\n",
      "  File \"/opt/conda/lib/python3.10/site-packages/zict/buffer.py\", line 108, in __getitem__\n",
      "    raise KeyError(key)\n",
      "KeyError: '_deploy_dask_func-4eeca056-1fc2-4eb9-a273-083641610dcf'\n",
      "\n",
      "During handling of the above exception, another exception occurred:\n",
      "\n",
      "Traceback (most recent call last):\n",
      "  File \"/opt/conda/lib/python3.10/site-packages/distributed/worker.py\", line 2271, in execute\n",
      "    args2, kwargs2 = self._prepare_args_for_execution(ts, args, kwargs)\n",
      "  File \"/opt/conda/lib/python3.10/site-packages/distributed/worker.py\", line 2394, in _prepare_args_for_execution\n",
      "    data[k] = Actor(type(self.state.actors[k]), self.address, k, self)\n",
      "KeyError: '_deploy_dask_func-4eeca056-1fc2-4eb9-a273-083641610dcf'\n"
     ]
    },
    {
     "data": {
      "text/plain": [
       "[]"
      ]
     },
     "execution_count": 17,
     "metadata": {},
     "output_type": "execute_result"
    },
    {
     "data": {
      "image/png": "[encoded data removed]",
      "text/plain": [
       "<Figure size 640x480 with 1 Axes>"
      ]
     },
     "metadata": {},
     "output_type": "display_data"
    },
    {
     "name": "stderr",
     "output_type": "stream",
     "text": [
      "2023-03-21 22:48:23,078 - distributed.utils_perf - WARNING - full garbage collections took 12% CPU time recently (threshold: 10%)\n",
      "2023-03-21 22:48:23,124 - distributed.nanny - WARNING - Restarting worker\n",
      "2023-03-21 22:48:23,344 - distributed.nanny - WARNING - Restarting worker\n"
     ]
    }
   ],
   "source": [
    "mix_p[\"IsDoH\"].value_counts().plot(kind=\"pie\")\n",
    "plt.plot()"
   ]
  },
  {
   "cell_type": "code",
   "execution_count": null,
   "id": "bf58bd12-9ccc-4bff-b5df-3db068e0f715",
   "metadata": {},
   "outputs": [],
   "source": []
  }
 ],
 "metadata": {
  "@deathbeds/ipydrawio": {
   "xml": ""
  },
  "kernelspec": {
   "display_name": "Python 3 (ipykernel)",
   "language": "python",
   "name": "python3"
  },
  "language_info": {
   "codemirror_mode": {
    "name": "ipython",
    "version": 3
   },
   "file_extension": ".py",
   "mimetype": "text/x-python",
   "name": "python",
   "nbconvert_exporter": "python",
   "pygments_lexer": "ipython3",
   "version": "3.10.10"
  }
 },
 "nbformat": 4,
 "nbformat_minor": 5
}
